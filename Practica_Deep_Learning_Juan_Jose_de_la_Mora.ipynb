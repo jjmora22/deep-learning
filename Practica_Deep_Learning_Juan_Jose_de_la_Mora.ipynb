{
  "cells": [
    {
      "cell_type": "markdown",
      "metadata": {
        "id": "view-in-github",
        "colab_type": "text"
      },
      "source": [
        "<a href=\"https://colab.research.google.com/github/jjmora22/deep-learning/blob/main/Practica_Deep_Learning_Juan_Jose_de_la_Mora.ipynb\" target=\"_parent\"><img src=\"https://colab.research.google.com/assets/colab-badge.svg\" alt=\"Open In Colab\"/></a>"
      ]
    },
    {
      "cell_type": "markdown",
      "metadata": {
        "id": "1e148e46"
      },
      "source": [
        "# Práctica de Deep Learning de Juan José de la Mora\n",
        "\n",
        "Iré explicando paso a paso cada acción y justificaré mis decisiones en pequeños mensajes intermedios. "
      ],
      "id": "1e148e46"
    },
    {
      "cell_type": "markdown",
      "metadata": {
        "id": "76b398ef"
      },
      "source": [
        "\n",
        "## 1. Concentraré en este paso, todas las librerías que voy a usar: \n"
      ],
      "id": "76b398ef"
    },
    {
      "cell_type": "code",
      "source": [
        "!pip install scipy==1.1.0"
      ],
      "metadata": {
        "colab": {
          "base_uri": "https://localhost:8080/"
        },
        "id": "v9vN8wts9n0R",
        "outputId": "d860721e-6132-4e66-95ec-071f6ad42990"
      },
      "id": "v9vN8wts9n0R",
      "execution_count": 12,
      "outputs": [
        {
          "output_type": "stream",
          "name": "stdout",
          "text": [
            "Looking in indexes: https://pypi.org/simple, https://us-python.pkg.dev/colab-wheels/public/simple/\n",
            "Requirement already satisfied: scipy==1.1.0 in /usr/local/lib/python3.8/dist-packages (1.1.0)\n",
            "Requirement already satisfied: numpy>=1.8.2 in /usr/local/lib/python3.8/dist-packages (from scipy==1.1.0) (1.21.6)\n"
          ]
        }
      ]
    },
    {
      "cell_type": "code",
      "execution_count": 14,
      "metadata": {
        "id": "33ee97cf"
      },
      "outputs": [],
      "source": [
        "import numpy as np # Requiero Numpy para el manejo de matrices, álgebra lineal y arreglos\n",
        "import pandas as pd # Me da acceso a las herramientas para el análisis de datos\n",
        "\n",
        "import matplotlib.pyplot as plt # Me ayudará con las instrucciones necesarias para hacer gráficos\n",
        "from matplotlib.colors import ListedColormap # Me cpermite dar colores a las gráficas y mostrar los datos de forma clara\n",
        "# A partir de esta línea, los gráficos de matplotlib aparecerán directamente después de donde se llame la función plot.\n",
        "%matplotlib inline \n",
        "\n",
        "cm = plt.cm.RdBu # Selección del mapa de color \n",
        "cm_bright = ListedColormap(['#FF0000', '#0000FF']) ## Selección del mapa de color \n",
        "\n",
        "import warnings # Evitar los warnings \n",
        "warnings.filterwarnings('ignore')\n",
        "\n",
        "import graphviz # Visualización de los árboles de manera gráfica e incluye el cálculo del GINI\n",
        "\n",
        "from sklearn.model_selection import train_test_split ## Para obtener la muestra para train y para split\n",
        "\n",
        "##import OneHotEncoder ## Para poder hacer category encoding usando media\n",
        "##import category_encoders as ce\n",
        "\n",
        "from sklearn import preprocessing ## Funciones para manipular vectores para representarlos en formas más fáciles de interpretar.\n",
        "import imageio # Loading images\n",
        "import tensorflow as tf # Crear y manipular tensores\n",
        "from sklearn.model_selection import train_test_split # Separar los vectores\n",
        "from sklearn.preprocessing import StandardScaler # Para preprocesar los datos\n",
        "from sklearn.preprocessing import MinMaxScaler, StandardScaler # Para estandarizar\n",
        "\n",
        "\n",
        "from tqdm import tqdm # Visualize advance in repetitive processes \n",
        "\n",
        "import tensorflow as tf # Importa Tensor Flow\n",
        "from tensorflow import keras # Keras es para la generación del modelo \n",
        "from tensorflow.keras import layers, models, regularizers, metrics, optimizers\n",
        "from keras.optimizers import SGD, Adam # Descenso de gradiente y Adam\n",
        "from keras.models import Sequential #Importo el modelo Secuencial \n",
        "from keras.metrics import Accuracy #Para poder evaluar el accuracy en el modelo\n",
        "from keras.layers import Dense # Importo la capa densa\n",
        "from sklearn.metrics import classification_report # Para medir la cantidad de predicciones exactas en un algoritmo. \n",
        "\n",
        "import glob # Load images \n",
        "import cv2 # Manipulate images \n",
        "\n",
        "from sklearn.metrics import mean_squared_error #calcular el MSE\n",
        "\n",
        "# Ahora, para el procesamiento de las imágenes!!!!\n",
        "from tensorflow.keras.preprocessing.image import ImageDataGenerator, load_img, img_to_array # Genera lotes de datos de las imágenes \n",
        "from tensorflow.keras.utils import to_categorical # Convierte vectores de datos en matrices tipo binario\n",
        "import os # Para trabajar con los directorios locales \n",
        "import urllib.request # Bajar los archivos de las imágenes\n",
        "from PIL import Image # Cargar imágenes desde archivos en disco\n",
        "from keras.layers import Input, Add, Dropout, Permute, add, Dense, Concatenate\n",
        "from keras.utils import plot_model\n",
        "from scipy.io import loadmat\n",
        "from matplotlib.pyplot import imread\n",
        "#from scipy.misc import bytescale\n",
        "import copy\n",
        "from keras.models import Model\n",
        "from tensorflow.keras.applications.resnet50 import ResNet50\n",
        "from keras.preprocessing import image\n",
        "from tensorflow.keras.applications.resnet50 import preprocess_input"
      ],
      "id": "33ee97cf"
    },
    {
      "cell_type": "markdown",
      "metadata": {
        "id": "269a4a0d"
      },
      "source": [
        "\n",
        "## 2. Ahora, cargo la información con la que voy a trabajar --> \n"
      ],
      "id": "269a4a0d"
    },
    {
      "cell_type": "code",
      "execution_count": 15,
      "metadata": {
        "colab": {
          "base_uri": "https://localhost:8080/"
        },
        "id": "kba0-AGIX4X0",
        "outputId": "acbae603-e98c-46e3-e1af-954787614470"
      },
      "outputs": [
        {
          "output_type": "stream",
          "name": "stdout",
          "text": [
            "--2023-02-19 19:43:43--  https://github.com/jjmora22/deep-learning/raw/d440bb9d7c10235b6b4dfa9e1beaff673c501103/airbnb-listings-extract.zip?raw=true\n",
            "Resolving github.com (github.com)... 140.82.121.3\n",
            "Connecting to github.com (github.com)|140.82.121.3|:443... connected.\n",
            "HTTP request sent, awaiting response... 302 Found\n",
            "Location: https://raw.githubusercontent.com/jjmora22/deep-learning/d440bb9d7c10235b6b4dfa9e1beaff673c501103/airbnb-listings-extract.zip [following]\n",
            "--2023-02-19 19:43:43--  https://raw.githubusercontent.com/jjmora22/deep-learning/d440bb9d7c10235b6b4dfa9e1beaff673c501103/airbnb-listings-extract.zip\n",
            "Resolving raw.githubusercontent.com (raw.githubusercontent.com)... 185.199.108.133, 185.199.109.133, 185.199.110.133, ...\n",
            "Connecting to raw.githubusercontent.com (raw.githubusercontent.com)|185.199.108.133|:443... connected.\n",
            "HTTP request sent, awaiting response... 200 OK\n",
            "Length: 15698338 (15M) [application/zip]\n",
            "Saving to: ‘airbnb-listings-extract.zip’\n",
            "\n",
            "airbnb-listings-ext 100%[===================>]  14.97M  --.-KB/s    in 0.06s   \n",
            "\n",
            "2023-02-19 19:43:44 (244 MB/s) - ‘airbnb-listings-extract.zip’ saved [15698338/15698338]\n",
            "\n"
          ]
        }
      ],
      "source": [
        "!wget -O airbnb-listings-extract.zip https://github.com/jjmora22/deep-learning/raw/d440bb9d7c10235b6b4dfa9e1beaff673c501103/airbnb-listings-extract.zip?raw=true"
      ],
      "id": "kba0-AGIX4X0"
    },
    {
      "cell_type": "code",
      "execution_count": 16,
      "metadata": {
        "colab": {
          "base_uri": "https://localhost:8080/"
        },
        "id": "Yxvz2ltOhjw4",
        "outputId": "f9f7707d-d885-44f1-9385-023d8c13c618"
      },
      "outputs": [
        {
          "output_type": "stream",
          "name": "stdout",
          "text": [
            "total 15M\n",
            "drwxr-xr-x 1 root root 4.0K Feb 19 19:43 .\n",
            "drwxr-xr-x 1 root root 4.0K Feb 19 19:16 ..\n",
            "-rw-r--r-- 1 root root  15M Feb 19 19:43 airbnb-listings-extract.zip\n",
            "drwxr-xr-x 4 root root 4.0K Feb 17 19:29 .config\n",
            "drwxr-xr-x 1 root root 4.0K Feb 17 19:30 sample_data\n"
          ]
        }
      ],
      "source": [
        "!ls -lah"
      ],
      "id": "Yxvz2ltOhjw4"
    },
    {
      "cell_type": "code",
      "execution_count": 17,
      "metadata": {
        "colab": {
          "base_uri": "https://localhost:8080/"
        },
        "id": "O-c1BFrbhtGU",
        "outputId": "c8979821-2b58-4208-dc01-7a0bbbb5a5a6"
      },
      "outputs": [
        {
          "output_type": "stream",
          "name": "stdout",
          "text": [
            "Archive:  airbnb-listings-extract.zip\n",
            "  inflating: airbnb-listings-extract.csv  \n",
            "  inflating: __MACOSX/._airbnb-listings-extract.csv  \n"
          ]
        }
      ],
      "source": [
        "# lo descomprimimos -->\n",
        "!unzip airbnb-listings-extract.zip"
      ],
      "id": "O-c1BFrbhtGU"
    },
    {
      "cell_type": "code",
      "execution_count": 18,
      "metadata": {
        "colab": {
          "base_uri": "https://localhost:8080/"
        },
        "id": "T_1nvfAyiCm5",
        "outputId": "70ddd081-323a-4544-a8c1-3f0587067e7d"
      },
      "outputs": [
        {
          "output_type": "stream",
          "name": "stdout",
          "text": [
            "El data frame tiene el siguiente shape -->  (14780, 89)\n",
            "Voy a visualizar las primeras 5 líneas --> \n",
            "          ID                            Listing Url       Scrape ID  \\\n",
            "0  11210388  https://www.airbnb.com/rooms/11210388  20170306202425   \n",
            "1  17471131  https://www.airbnb.com/rooms/17471131  20170407214050   \n",
            "2  17584891  https://www.airbnb.com/rooms/17584891  20170407214050   \n",
            "3   5398030   https://www.airbnb.com/rooms/5398030  20170407214050   \n",
            "4  18104606  https://www.airbnb.com/rooms/18104606  20170407214050   \n",
            "\n",
            "  Last Scraped                                 Name  \\\n",
            "0   2017-03-07       The Loft-Full Bath-Deck w/View   \n",
            "1   2017-04-08           Claris I, Friendly Rentals   \n",
            "2   2017-04-08  Style Terrace Red, Friendly Rentals   \n",
            "3   2017-04-08    Picasso Suite 1.4 Paseo de Gracia   \n",
            "4   2017-04-08       Smart City Centre Apartment II   \n",
            "\n",
            "                                             Summary  \\\n",
            "0  Loft in the Hill country 12-15 minutes directl...   \n",
            "1  This apartment has: 1 double bed, 1 double sof...   \n",
            "2  This apartment has: 1 double bed, 1 double sof...   \n",
            "3  Live like a local in Barcelona's most chic dis...   \n",
            "4  Unique apartment in vibrant neighborhoods, car...   \n",
            "\n",
            "                                               Space  \\\n",
            "0  This loft has a spectacular view of the hills ...   \n",
            "1  This apartment has: 1 double bed, 1 double sof...   \n",
            "2  This apartment has: 1 double bed, 1 double sof...   \n",
            "3  You wake up to the sun rising over Barcelona's...   \n",
            "4  License: HUTB-005313 Charming apartment, locat...   \n",
            "\n",
            "                                         Description Experiences Offered  \\\n",
            "0  Loft in the Hill country 12-15 minutes directl...                none   \n",
            "1  This apartment has: 1 double bed, 1 double sof...                none   \n",
            "2  This apartment has: 1 double bed, 1 double sof...                none   \n",
            "3  Live like a local in Barcelona's most chic dis...                none   \n",
            "4  Unique apartment in vibrant neighborhoods, car...                none   \n",
            "\n",
            "                               Neighborhood Overview  ...  \\\n",
            "0  This neighborhood is located in the hills west...  ...   \n",
            "1  Plaza   Cataluña Catalonia Square is the large...  ...   \n",
            "2  Plaza   Cataluña Catalonia Square is the large...  ...   \n",
            "3  We're right in the heart of the chic L'Eixampl...  ...   \n",
            "4                                                NaN  ...   \n",
            "\n",
            "  Review Scores Communication Review Scores Location Review Scores Value  \\\n",
            "0                        10.0                   10.0                10.0   \n",
            "1                        10.0                    8.0                10.0   \n",
            "2                         NaN                    NaN                 NaN   \n",
            "3                        10.0                   10.0                 9.0   \n",
            "4                         NaN                    NaN                 NaN   \n",
            "\n",
            "       License Jurisdiction Names Cancellation Policy  \\\n",
            "0          NaN                NaN            moderate   \n",
            "1  HUTB-006721                NaN     super_strict_30   \n",
            "2  HUTB-007527                NaN     super_strict_30   \n",
            "3          NaN                NaN              strict   \n",
            "4          NaN                NaN            flexible   \n",
            "\n",
            "  Calculated host listings count Reviews per Month  \\\n",
            "0                            1.0              3.50   \n",
            "1                          106.0              0.86   \n",
            "2                          106.0               NaN   \n",
            "3                           24.0              1.09   \n",
            "4                           92.0               NaN   \n",
            "\n",
            "                    Geolocation  \\\n",
            "0  30.3373609355,-97.8632766782   \n",
            "1   41.3896829422,2.17262543017   \n",
            "2   41.3930345489,2.16217327868   \n",
            "3    41.3969668101,2.1674178103   \n",
            "4   41.3886851936,2.15514963616   \n",
            "\n",
            "                                            Features  \n",
            "0  Host Is Superhost,Host Has Profile Pic,Host Id...  \n",
            "1  Host Has Profile Pic,Requires License,Instant ...  \n",
            "2  Host Has Profile Pic,Requires License,Instant ...  \n",
            "3  Host Has Profile Pic,Host Identity Verified,Re...  \n",
            "4  Host Has Profile Pic,Host Identity Verified,Is...  \n",
            "\n",
            "[5 rows x 89 columns]\n"
          ]
        }
      ],
      "source": [
        "# Genero data donde guardo la informaciónA\n",
        "data = pd.read_table('./airbnb-listings-extract.csv',sep=';', decimal='.', on_bad_lines='skip')\n",
        "print(\"El data frame tiene el siguiente shape --> \", data.shape)\n",
        "print(\"Voy a visualizar las primeras 5 líneas --> \\n\", data.head())"
      ],
      "id": "T_1nvfAyiCm5"
    },
    {
      "cell_type": "markdown",
      "metadata": {
        "id": "a8f499ae"
      },
      "source": [
        "## 3. Analizo los datos "
      ],
      "id": "a8f499ae"
    },
    {
      "cell_type": "markdown",
      "metadata": {
        "id": "5caad2a1"
      },
      "source": [
        "\n",
        "Primero veo el nombre de las columnas:\n"
      ],
      "id": "5caad2a1"
    },
    {
      "cell_type": "code",
      "execution_count": 19,
      "metadata": {
        "colab": {
          "base_uri": "https://localhost:8080/"
        },
        "id": "e41bc20f",
        "outputId": "24341976-c7af-4604-b98b-06a7e72db426"
      },
      "outputs": [
        {
          "output_type": "stream",
          "name": "stdout",
          "text": [
            "La lista de los nombres de las columnas es esta -->  ['ID', 'Listing Url', 'Scrape ID', 'Last Scraped', 'Name', 'Summary', 'Space', 'Description', 'Experiences Offered', 'Neighborhood Overview', 'Notes', 'Transit', 'Access', 'Interaction', 'House Rules', 'Thumbnail Url', 'Medium Url', 'Picture Url', 'XL Picture Url', 'Host ID', 'Host URL', 'Host Name', 'Host Since', 'Host Location', 'Host About', 'Host Response Time', 'Host Response Rate', 'Host Acceptance Rate', 'Host Thumbnail Url', 'Host Picture Url', 'Host Neighbourhood', 'Host Listings Count', 'Host Total Listings Count', 'Host Verifications', 'Street', 'Neighbourhood', 'Neighbourhood Cleansed', 'Neighbourhood Group Cleansed', 'City', 'State', 'Zipcode', 'Market', 'Smart Location', 'Country Code', 'Country', 'Latitude', 'Longitude', 'Property Type', 'Room Type', 'Accommodates', 'Bathrooms', 'Bedrooms', 'Beds', 'Bed Type', 'Amenities', 'Square Feet', 'Price', 'Weekly Price', 'Monthly Price', 'Security Deposit', 'Cleaning Fee', 'Guests Included', 'Extra People', 'Minimum Nights', 'Maximum Nights', 'Calendar Updated', 'Has Availability', 'Availability 30', 'Availability 60', 'Availability 90', 'Availability 365', 'Calendar last Scraped', 'Number of Reviews', 'First Review', 'Last Review', 'Review Scores Rating', 'Review Scores Accuracy', 'Review Scores Cleanliness', 'Review Scores Checkin', 'Review Scores Communication', 'Review Scores Location', 'Review Scores Value', 'License', 'Jurisdiction Names', 'Cancellation Policy', 'Calculated host listings count', 'Reviews per Month', 'Geolocation', 'Features']\n"
          ]
        }
      ],
      "source": [
        "lista_columnas = list(data.columns.values)\n",
        "print(\"La lista de los nombres de las columnas es esta --> \", lista_columnas)"
      ],
      "id": "e41bc20f"
    },
    {
      "cell_type": "code",
      "execution_count": 20,
      "metadata": {
        "colab": {
          "base_uri": "https://localhost:8080/"
        },
        "id": "1ada07be",
        "outputId": "f26b19f8-9e3d-4f57-d497-69139ba5d6a9"
      },
      "outputs": [
        {
          "output_type": "stream",
          "name": "stdout",
          "text": [
            "(14780, 89)\n"
          ]
        }
      ],
      "source": [
        "print(data.shape)"
      ],
      "id": "1ada07be"
    },
    {
      "cell_type": "markdown",
      "metadata": {
        "id": "2e92a846"
      },
      "source": [
        "### 3.1 Voy a validar primero que haya suficiente información. Voy a buscar cuántos NAs hay por columna y en principio, quiero saber cuáles están por encima del 70% de información -- Máximo X% de NAs (que establezco en la variabla max_na)\n"
      ],
      "id": "2e92a846"
    },
    {
      "cell_type": "code",
      "execution_count": 21,
      "metadata": {
        "id": "ed1ec6b3"
      },
      "outputs": [],
      "source": [
        "max_NA = 30"
      ],
      "id": "ed1ec6b3"
    },
    {
      "cell_type": "code",
      "execution_count": 22,
      "metadata": {
        "colab": {
          "base_uri": "https://localhost:8080/"
        },
        "id": "abfb81f6",
        "scrolled": false,
        "outputId": "dc33bc46-fd7e-4d13-c565-b0e6e140ad89"
      },
      "outputs": [
        {
          "output_type": "stream",
          "name": "stdout",
          "text": [
            "Columna --> Número de NA --> %NAs en total datos \n",
            "ID  -->  0  -->  0.0\n",
            "Listing Url  -->  0  -->  0.0\n",
            "Scrape ID  -->  0  -->  0.0\n",
            "Last Scraped  -->  0  -->  0.0\n",
            "Name  -->  1  -->  0.01\n",
            "Summary  -->  591  -->  4.0\n",
            "Space  -->  3892  -->  26.33\n",
            "Description  -->  6  -->  0.04\n",
            "Experiences Offered  -->  0  -->  0.0\n",
            "Neighborhood Overview  -->  5646  -->  38.2\n",
            "Notes  -->  9136  -->  61.81\n",
            "Transit  -->  5714  -->  38.66\n",
            "Access  -->  6462  -->  43.72\n",
            "Interaction  -->  6552  -->  44.33\n",
            "House Rules  -->  5161  -->  34.92\n",
            "Thumbnail Url  -->  2820  -->  19.08\n",
            "Medium Url  -->  2820  -->  19.08\n",
            "Picture Url  -->  19  -->  0.13\n",
            "XL Picture Url  -->  2820  -->  19.08\n",
            "Host ID  -->  0  -->  0.0\n",
            "Host URL  -->  0  -->  0.0\n",
            "Host Name  -->  3  -->  0.02\n",
            "Host Since  -->  3  -->  0.02\n",
            "Host Location  -->  43  -->  0.29\n",
            "Host About  -->  5241  -->  35.46\n",
            "Host Response Time  -->  1899  -->  12.85\n",
            "Host Response Rate  -->  1899  -->  12.85\n",
            "Host Acceptance Rate  -->  14741  -->  99.74\n",
            "Host Thumbnail Url  -->  3  -->  0.02\n",
            "Host Picture Url  -->  3  -->  0.02\n",
            "Host Neighbourhood  -->  3876  -->  26.22\n",
            "Host Listings Count  -->  3  -->  0.02\n",
            "Host Total Listings Count  -->  3  -->  0.02\n",
            "Host Verifications  -->  6  -->  0.04\n",
            "Street  -->  0  -->  0.0\n",
            "Neighbourhood  -->  5229  -->  35.38\n",
            "Neighbourhood Cleansed  -->  0  -->  0.0\n",
            "Neighbourhood Group Cleansed  -->  1020  -->  6.9\n",
            "City  -->  6  -->  0.04\n",
            "State  -->  144  -->  0.97\n",
            "Zipcode  -->  506  -->  3.42\n",
            "Market  -->  57  -->  0.39\n",
            "Smart Location  -->  0  -->  0.0\n",
            "Country Code  -->  0  -->  0.0\n",
            "Country  -->  1  -->  0.01\n",
            "Latitude  -->  0  -->  0.0\n",
            "Longitude  -->  0  -->  0.0\n",
            "Property Type  -->  0  -->  0.0\n",
            "Room Type  -->  0  -->  0.0\n",
            "Accommodates  -->  0  -->  0.0\n",
            "Bathrooms  -->  55  -->  0.37\n",
            "Bedrooms  -->  25  -->  0.17\n",
            "Beds  -->  49  -->  0.33\n",
            "Bed Type  -->  0  -->  0.0\n",
            "Amenities  -->  170  -->  1.15\n",
            "Square Feet  -->  14182  -->  95.95\n",
            "Price  -->  17  -->  0.12\n",
            "Weekly Price  -->  11190  -->  75.71\n",
            "Monthly Price  -->  11219  -->  75.91\n",
            "Security Deposit  -->  8524  -->  57.67\n",
            "Cleaning Fee  -->  6093  -->  41.22\n",
            "Guests Included  -->  0  -->  0.0\n",
            "Extra People  -->  0  -->  0.0\n",
            "Minimum Nights  -->  0  -->  0.0\n",
            "Maximum Nights  -->  0  -->  0.0\n",
            "Calendar Updated  -->  0  -->  0.0\n",
            "Has Availability  -->  14768  -->  99.92\n",
            "Availability 30  -->  0  -->  0.0\n",
            "Availability 60  -->  0  -->  0.0\n",
            "Availability 90  -->  0  -->  0.0\n",
            "Availability 365  -->  0  -->  0.0\n",
            "Calendar last Scraped  -->  0  -->  0.0\n",
            "Number of Reviews  -->  0  -->  0.0\n",
            "First Review  -->  3162  -->  21.39\n",
            "Last Review  -->  3163  -->  21.4\n",
            "Review Scores Rating  -->  3304  -->  22.35\n",
            "Review Scores Accuracy  -->  3326  -->  22.5\n",
            "Review Scores Cleanliness  -->  3320  -->  22.46\n",
            "Review Scores Checkin  -->  3337  -->  22.58\n",
            "Review Scores Communication  -->  3320  -->  22.46\n",
            "Review Scores Location  -->  3340  -->  22.6\n",
            "Review Scores Value  -->  3341  -->  22.6\n",
            "License  -->  14431  -->  97.64\n",
            "Jurisdiction Names  -->  14553  -->  98.46\n",
            "Cancellation Policy  -->  0  -->  0.0\n",
            "Calculated host listings count  -->  4  -->  0.03\n",
            "Reviews per Month  -->  3162  -->  21.39\n",
            "Geolocation  -->  0  -->  0.0\n",
            "Features  -->  1  -->  0.01\n",
            "Las columnas candidatas a ser eliminadas por la cantidad de NA son -->  ['Neighborhood Overview', 'Notes', 'Transit', 'Access', 'Interaction', 'House Rules', 'Host About', 'Host Acceptance Rate', 'Neighbourhood', 'Square Feet', 'Weekly Price', 'Monthly Price', 'Security Deposit', 'Cleaning Fee', 'Has Availability', 'License', 'Jurisdiction Names']\n",
            "En total, son  17 columnas\n"
          ]
        }
      ],
      "source": [
        "NAs_columns = list()  # Genero una lista para hacer el análisis\n",
        "columnas_borrar = []\n",
        "print (\"Columna --> Número de NA --> %NAs en total datos \")\n",
        "for name in lista_columnas:\n",
        "    print (name, \" --> \", data[name].isna().sum(), \" --> \", (data[name].isna().sum()*100/data.shape[0]).round(2))\n",
        "    NA_count = {\"Columna\": name, 'NA': data[name].isna().sum(), 'NA%': (data[name].isna().sum()*100/data.shape[0]).round(2)}\n",
        "    if (data[name].isna().sum()*100/data.shape[0]).round(2) > max_NA:\n",
        "      columnas_borrar.append(name)\n",
        "    NAs_columns.append(NA_count)\n",
        "\n",
        "\n",
        "df_NA = pd.DataFrame(NAs_columns) \n",
        "print(\"Las columnas candidatas a ser eliminadas por la cantidad de NA son --> \", columnas_borrar)\n",
        "print(\"En total, son \", len(columnas_borrar), \"columnas\")"
      ],
      "id": "abfb81f6"
    },
    {
      "cell_type": "markdown",
      "metadata": {
        "id": "ac962808"
      },
      "source": [
        "Al analizar estas columnas, me preocupa la medida de square feet, pues la considero importante para calcular el precio y aporta muy poca información. La eliminaré.\n",
        "\n",
        "Neighbourhood es otra variable que me preocupa que también considero muy valiosa. Esa se encuentra con el 38% de NAs. Esta está más cercana al 30%, es probable que la mantenga. "
      ],
      "id": "ac962808"
    },
    {
      "cell_type": "markdown",
      "metadata": {
        "id": "2b2969fd"
      },
      "source": [
        "## 3.2 Ahora, voy a analizar en más detalle los datos disponibles -->\n",
        "\n",
        "Encuentro algunos temas interesantes: \n",
        " - Parece que la mayor parte de la información es de España\n",
        " - En principio, parece que hay una mayor cantidad de información sobre Madrid\n",
        " - Neighbourhood y Neighourhood cleansed son parecidas y existe más información es cleansed ¿puedo separarlas?\n",
        " \n",
        "Voy a hacer un análsis de \"Market\" primero, para ver cuántos elementos tengo por cada país."
      ],
      "id": "2b2969fd"
    },
    {
      "cell_type": "code",
      "execution_count": 23,
      "metadata": {
        "colab": {
          "base_uri": "https://localhost:8080/"
        },
        "id": "9f0eca82",
        "outputId": "49240f0b-73d5-4ffc-ceb9-7ad985b74642"
      },
      "outputs": [
        {
          "output_type": "stream",
          "name": "stdout",
          "text": [
            "La lista de los nombres de las paises es esta -->  ['United States' 'Spain' 'Netherlands' 'Belgium' 'France' nan\n",
            " 'United Kingdom' 'Ireland' 'Italy' 'Greece' 'Denmark' 'Australia'\n",
            " 'Germany' 'Austria' 'Canada' 'Switzerland' 'Hong Kong' 'Cuba'] \n",
            " \n",
            "\n",
            "La cantidad de apariciones de cada país es de --> \n"
          ]
        },
        {
          "output_type": "execute_result",
          "data": {
            "text/plain": [
              "Spain             14001\n",
              "United States       184\n",
              "United Kingdom      159\n",
              "France              110\n",
              "Italy                68\n",
              "Australia            46\n",
              "Ireland              45\n",
              "Germany              41\n",
              "Austria              31\n",
              "Netherlands          26\n",
              "Canada               20\n",
              "Belgium              17\n",
              "Denmark              16\n",
              "Switzerland           6\n",
              "Greece                5\n",
              "Hong Kong             3\n",
              "Cuba                  1\n",
              "Name: Country, dtype: int64"
            ]
          },
          "metadata": {},
          "execution_count": 23
        }
      ],
      "source": [
        "lista_paises = data['Country'].unique()\n",
        "\n",
        "print(\"La lista de los nombres de las paises es esta --> \", lista_paises, \"\\n \\n\")\n",
        "\n",
        "print (\"La cantidad de apariciones de cada país es de --> \")\n",
        "\n",
        "data['Country'].value_counts()\n",
        " # Genero un Dataframe para poder manipularlo en el análisis \n"
      ],
      "id": "9f0eca82"
    },
    {
      "cell_type": "markdown",
      "metadata": {
        "id": "776ab7e8"
      },
      "source": [
        "Claramente, el país con más participaciones es España."
      ],
      "id": "776ab7e8"
    },
    {
      "cell_type": "markdown",
      "metadata": {
        "id": "a466ab52"
      },
      "source": [
        "Concentraré el análisis en España pero, ¿qué ciudades son las que más información aportan?"
      ],
      "id": "a466ab52"
    },
    {
      "cell_type": "code",
      "execution_count": 24,
      "metadata": {
        "colab": {
          "base_uri": "https://localhost:8080/"
        },
        "id": "f5c7f4b7",
        "outputId": "761ac6d9-20a1-40be-eb7c-050fcd08ab59"
      },
      "outputs": [
        {
          "output_type": "stream",
          "name": "stdout",
          "text": [
            "España muestra los siguientes valores en 'Markets' --> \n",
            " Madrid                   13272\n",
            "Mallorca Island            372\n",
            "Barcelona                  292\n",
            "Other (International)       12\n",
            "London                       1\n",
            "Toledo                       1\n",
            "Deauville                    1\n",
            "Name: Market, dtype: int64\n",
            "\n",
            " Además, se encuentran  50  NAs con lo que se comprueba el total \n",
            "\n",
            "En total hay  7  (incluyendo los NA) que son ciudades con poca información o equivocadas\n",
            "La lista de ciudades que se podrían eliminar es la siguiente  [nan, 'London', 'Deauville', 'Barcelona', 'Toledo', 'Other (International)', 'Mallorca Island']\n"
          ]
        },
        {
          "output_type": "execute_result",
          "data": {
            "text/plain": [
              "[nan,\n",
              " 'London',\n",
              " 'Deauville',\n",
              " 'Barcelona',\n",
              " 'Toledo',\n",
              " 'Other (International)',\n",
              " 'Mallorca Island']"
            ]
          },
          "metadata": {},
          "execution_count": 24
        }
      ],
      "source": [
        "\n",
        "print (\"España muestra los siguientes valores en 'Markets' --> \\n\",data.loc[data['Country'] == 'Spain', 'Market'].value_counts())\n",
        "print(\"\\n Además, se encuentran \", data.loc[data['Country'] == 'Spain', 'Market'].isna().sum(), \" NAs con lo que se comprueba el total \\n\")\n",
        " # Genero un Dataframe para poder manipularlo en el análisis \n",
        "lista_ciudades_eliminar = data[data['Country'] == \"Spain\"]\n",
        "lista_ciudades_eliminar = lista_ciudades_eliminar[lista_ciudades_eliminar['Market'] != \"Madrid\"]\n",
        "lista_ciudades_eliminar = list(set(lista_ciudades_eliminar['Market']))\n",
        "print(\"En total hay \", len(lista_ciudades_eliminar), \" (incluyendo los NA) que son ciudades con poca información o equivocadas\")\n",
        "print(\"La lista de ciudades que se podrían eliminar es la siguiente \", lista_ciudades_eliminar)\n",
        "lista_ciudades_eliminar\n",
        "    "
      ],
      "id": "f5c7f4b7"
    },
    {
      "cell_type": "markdown",
      "metadata": {
        "id": "9e794ff1"
      },
      "source": [
        "La información parece estar centrada principalmente en Madrid. Veamos los municipios que tiene 'Neighbourhood' que tiene y qué porcentaje de la información puede ser recuperada. "
      ],
      "id": "9e794ff1"
    },
    {
      "cell_type": "code",
      "execution_count": 25,
      "metadata": {
        "colab": {
          "base_uri": "https://localhost:8080/"
        },
        "id": "8641a716",
        "outputId": "2a15c4fc-1095-4b7b-84c2-ca01d89a90fe"
      },
      "outputs": [
        {
          "output_type": "stream",
          "name": "stdout",
          "text": [
            "Madrid muestra los siguientes valores en 'Neighbourhoods' --> \n",
            " Malasaña               892\n",
            "La Latina              807\n",
            "Embajadores            794\n",
            "Sol                    716\n",
            "Justicia               556\n",
            "Cortes                 525\n",
            "Palacio                390\n",
            "Aluche                 224\n",
            "Argüelles              216\n",
            "Trafalgar              203\n",
            "Carabanchel            198\n",
            "Ciudad Lineal          177\n",
            "Palos do Moguer        170\n",
            "Goya                   158\n",
            "Guindalera             134\n",
            "Puente de Vallecas     123\n",
            "Arapiles               116\n",
            "Recoletos              115\n",
            "Hortaleza              107\n",
            "Almagro                104\n",
            "Pacifico               102\n",
            "Gaztambide              92\n",
            "Fuencarral-el Pardo     80\n",
            "Lista                   80\n",
            "Cuatro Caminos          75\n",
            "Acacias                 72\n",
            "San Blas                69\n",
            "Castellana              68\n",
            "Usera                   67\n",
            "Prosperidad             65\n",
            "Ibiza                   65\n",
            "Delicias                64\n",
            "La Chopera              61\n",
            "Rios Rosas              59\n",
            "Imperial                57\n",
            "Castillejos             55\n",
            "Jerónimos               54\n",
            "Barajas                 52\n",
            "Fuente del Berro        49\n",
            "Bellas Vistas           48\n",
            "Villaverde              44\n",
            "Moratalaz               43\n",
            "Moncloa                 42\n",
            "Almenara                42\n",
            "Berruguete              40\n",
            "Nueva España            37\n",
            "Adelfas                 35\n",
            "Hispanoamérica          35\n",
            "Vallehermosa            34\n",
            "El Viso                 33\n",
            "Ciudad Jardin           33\n",
            "Valdeacederas           31\n",
            "Legazpi                 29\n",
            "Villa de Vallecas       25\n",
            "Chamberí                23\n",
            "Castilla                22\n",
            "Centro                  21\n",
            "Vicálvaro               19\n",
            "Arganzuela              14\n",
            "El Tréntaiseis          13\n",
            "Estrella                12\n",
            "Retiro                  11\n",
            "Atocha                   6\n",
            "Fuencarral-El Pardo      4\n",
            "Tetuán                   4\n",
            "Name: Neighbourhood, dtype: int64\n",
            "\n",
            " Además, se encuentran  4563  NAs con lo que se comprueba el total \n",
            "\n"
          ]
        }
      ],
      "source": [
        "pd.set_option('display.max_rows', None) ##Voy a imprimir todas las filas \n",
        "print (\"Madrid muestra los siguientes valores en 'Neighbourhoods' --> \\n\",data.loc[data['Market'] == 'Madrid', 'Neighbourhood'].value_counts())\n",
        "df_Neighbourhoods = data.loc[data['Market'] == 'Madrid', 'Neighbourhood'].value_counts()\n",
        "print(\"\\n Además, se encuentran \", data.loc[data['Market'] == 'Madrid', 'Neighbourhood'].isna().sum(), \" NAs con lo que se comprueba el total \\n\")\n"
      ],
      "id": "8641a716"
    },
    {
      "cell_type": "markdown",
      "metadata": {
        "id": "e2f4a76b"
      },
      "source": [
        "La información parece estar sin errores."
      ],
      "id": "e2f4a76b"
    },
    {
      "cell_type": "markdown",
      "metadata": {
        "id": "18f8b102"
      },
      "source": [
        "Los 4.563 NAs, representan el 34,4% del total de la información. Es mejor que el 38% que se estimaba para todo el set. "
      ],
      "id": "18f8b102"
    },
    {
      "cell_type": "markdown",
      "metadata": {
        "id": "e13e0752"
      },
      "source": [
        "Parece que la mejor alternativa para generar el modelo, es trabajar esta información para Madrid. \n",
        "\n",
        "Voy a validar ahora los Códigos Postales -->\n"
      ],
      "id": "e13e0752"
    },
    {
      "cell_type": "code",
      "execution_count": 26,
      "metadata": {
        "colab": {
          "base_uri": "https://localhost:8080/"
        },
        "id": "ba5c0abe",
        "outputId": "ac31ce38-8357-4e68-e489-d0df5b9b2e0f"
      },
      "outputs": [
        {
          "output_type": "stream",
          "name": "stdout",
          "text": [
            "Madrid muestra los siguientes valores en 'Zipcode' --> \n",
            " 28012           2063\n",
            "28004           1797\n",
            "28005           1191\n",
            "28013           1019\n",
            "28014            602\n",
            "28015            599\n",
            "28045            499\n",
            "28010            384\n",
            "28008            337\n",
            "28028            261\n",
            "28011            251\n",
            "28001            231\n",
            "28006            217\n",
            "28009            216\n",
            "28007            206\n",
            "28019            202\n",
            "28020            195\n",
            "28003            186\n",
            "28002            172\n",
            "28039            160\n",
            "28025            124\n",
            "28027            124\n",
            "28029            112\n",
            "28017            111\n",
            "28043            105\n",
            "28026             93\n",
            "28042             91\n",
            "28033             90\n",
            "28053             85\n",
            "28038             79\n",
            "28016             77\n",
            "28035             76\n",
            "28030             73\n",
            "28047             67\n",
            "28036             66\n",
            "28037             66\n",
            "28041             65\n",
            "28021             61\n",
            "28050             58\n",
            "28034             49\n",
            "28024             44\n",
            "28018             43\n",
            "28023             37\n",
            "28032             33\n",
            "28046             32\n",
            "28022             30\n",
            "28031             27\n",
            "28044             20\n",
            "28040             19\n",
            "28051             18\n",
            "28054             13\n",
            "28055             12\n",
            "28049              4\n",
            "28830              2\n",
            "28730              1\n",
            "2802\\n28012        1\n",
            "29012              1\n",
            "10100              1\n",
            "28052              1\n",
            "20013              1\n",
            "28048              1\n",
            "2815               1\n",
            "Madrid 28004       1\n",
            "28051\\n28051       1\n",
            "29230              1\n",
            "2804               1\n",
            "-                  1\n",
            "28                 1\n",
            "27013              1\n",
            "28058              1\n",
            "28224              1\n",
            "2015               1\n",
            "2805               1\n",
            "28290              1\n",
            "28105              1\n",
            "280013             1\n",
            "28094              1\n",
            "28002\\n28002       1\n",
            "08015              1\n",
            "28850              1\n",
            "28660              1\n",
            "25008              1\n",
            "84084              1\n",
            "27004              1\n",
            "28060              1\n",
            "03430              1\n",
            "07320              1\n",
            "46370              1\n",
            "28056              1\n",
            "20126              1\n",
            "Name: Zipcode, dtype: int64\n",
            "\n",
            " Además, se encuentran  444  NAs con lo que se comprueba el total \n",
            "\n"
          ]
        },
        {
          "output_type": "execute_result",
          "data": {
            "text/plain": [
              "(90,)"
            ]
          },
          "metadata": {},
          "execution_count": 26
        }
      ],
      "source": [
        "print (\"Madrid muestra los siguientes valores en 'Zipcode' --> \\n\",data.loc[data['Market'] == 'Madrid', 'Zipcode'].value_counts())\n",
        "df_zipcode = data.loc[data['Market'] == 'Madrid', 'Zipcode'].value_counts()\n",
        "print(\"\\n Además, se encuentran \", data.loc[data['Market'] == 'Madrid', 'Zipcode'].isna().sum(), \" NAs con lo que se comprueba el total \\n\")\n",
        "df_zipcode.shape"
      ],
      "id": "ba5c0abe"
    },
    {
      "cell_type": "markdown",
      "metadata": {
        "id": "bcc81082"
      },
      "source": [
        "Se detectan algunos códigos que hay que corregir: <br>\n",
        "- Los que inician con '0' no son de Madrid\n",
        "- Los códigos 46370, 84084,03430, 07320, probablemente no son de Madrid --> Se borrarán\n",
        "- 28002\\n28002 debe reemplazarse por 28002\n",
        "- 2802\\n28012 debe reemplazarse por 28012\n",
        "- 28051\\n28051 debe reemplazarse por 28051\n",
        "- 280013 debe reemplazarse por 28013\n",
        "- 28 es un error se elimina\n",
        "- 08015 parece 28015\n",
        "- 25008 parece ser 28008\n",
        "- 2015 y 2805 probablemente son 28015\n",
        "- 2804 probablemente es 28004\n",
        "- 28051\\n28051 debe reemplazarse por 28051\n",
        "- 29012 debe ser 28012\n",
        "- 27013 debe ser 28013\n",
        "- 20013 debe ser 28013\n",
        "- 20126 debe ser 28126\n",
        "- 27004 debe ser 28004\n",
        "- Hay que eliminar un '-'\n",
        "- 2815 debe ser 28015\n",
        "- Madrid 28004 debe ser 28004\n",
        "- 10100 debe ser 28100\n",
        "- Pondré toda la columna como int\n",
        "- Eliminaré todos los NA\n",
        "     "
      ],
      "id": "bcc81082"
    },
    {
      "cell_type": "markdown",
      "metadata": {
        "id": "3f740891"
      },
      "source": [
        "## 3.3. Estrategia de limpieza de la base de datos: \n",
        "a. Antes de dividir en test y train eliminaré los datos que no son de Madrid. <br>\n",
        "b. Una vez que tenga aislada la información de Madrid, dividiré en train y test. <br>\n",
        "c. Eliminaré la columna de 'Country', solo estaré trabajando con Madrid. <br>\n",
        "d. Con excepción de Neighbourhood, eliminaré todas las columnas que tengan más del 30% de información NAs --> <br>'Neighborhood Overview', 'Notes', 'Transit', 'Access', 'Interaction', 'House Rules', 'Host About', 'Host Acceptance Rate', 'Square Feet', 'Weekly Price', 'Monthly Price', 'Security Deposit', 'Cleaning Fee', 'Has Availability', 'License', 'Jurisdiction Names'<br>\n",
        "e. Corregiré los códigos postales de Madrid --> <br>\n",
        "- Los que inician con '0' no son de Madrid\n",
        "- Los códigos 46370, 84084,03430, 07320, probablemente no son de Madrid --> Se borrarán\n",
        "- 28002\\n28002 debe reemplazarse por 28002\n",
        "- 2802\\n28012 debe reemplazarse por 28012\n",
        "- 28051\\n28051 debe reemplazarse por 28051\n",
        "- 280013 debe reemplazarse por 28013\n",
        "- 28 es un error se elimina\n",
        "- 08015 parece 28015\n",
        "- 25008 parece ser 28008\n",
        "- 2015 y 2805 probablemente son 28015\n",
        "- 2804 probablemente es 28004\n",
        "- 28051\\n28051 debe reemplazarse por 28051\n",
        "- 29012 debe ser 28012\n",
        "- 27013 debe ser 28013\n",
        "- 20013 debe ser 28013\n",
        "- 20126 debe ser 28126\n",
        "- 27004 debe ser 28004\n",
        "- Hay que eliminar un '-'\n",
        "- 2815 debe ser 28015\n",
        "- Madrid 28004 debe ser 28004\n",
        "- 10100 debe ser 28100\n",
        "- Pondré toda la columna como int\n",
        "- Eliminaré todos los NA\n",
        "\n",
        "f. Mantendré los datos de las imágenes para analizarlos más adelante ('Thumbnail Url', 'Medium Url', 'Picture Url', 'XL Picture Url'). "
      ],
      "id": "3f740891"
    },
    {
      "cell_type": "markdown",
      "metadata": {
        "id": "d50ca3d7"
      },
      "source": [
        "### 3.3.1. Solo dejo la información de Madrid -->"
      ],
      "id": "d50ca3d7"
    },
    {
      "cell_type": "code",
      "execution_count": 27,
      "metadata": {
        "id": "dbfa9e49"
      },
      "outputs": [],
      "source": [
        "data.drop(data[data['Market'] != \"Madrid\"].index, inplace = True)"
      ],
      "id": "dbfa9e49"
    },
    {
      "cell_type": "markdown",
      "metadata": {
        "id": "6e524d3e"
      },
      "source": [
        "Verifico la acción --> "
      ],
      "id": "6e524d3e"
    },
    {
      "cell_type": "code",
      "execution_count": 28,
      "metadata": {
        "colab": {
          "base_uri": "https://localhost:8080/"
        },
        "id": "5f3b810b",
        "outputId": "05f2e18e-0526-4f41-83af-605b18c1c282"
      },
      "outputs": [
        {
          "output_type": "stream",
          "name": "stdout",
          "text": [
            "(13274, 89)\n"
          ]
        },
        {
          "output_type": "execute_result",
          "data": {
            "text/plain": [
              "0"
            ]
          },
          "metadata": {},
          "execution_count": 28
        }
      ],
      "source": [
        "print(data.shape)\n",
        "data['Market'][(data['Market'] != \"Madrid\")].count()"
      ],
      "id": "5f3b810b"
    },
    {
      "cell_type": "markdown",
      "metadata": {
        "id": "1e344203"
      },
      "source": [
        "## 3.4 Voy a aplicar toda la estrategia de depuración de la base de datos explicada en el punto 3.3"
      ],
      "id": "1e344203"
    },
    {
      "cell_type": "markdown",
      "metadata": {
        "id": "acc6b27a"
      },
      "source": [
        "Primero, elimino la columna de \"Country\", pues no aporta nada en este análisis --> "
      ],
      "id": "acc6b27a"
    },
    {
      "cell_type": "code",
      "execution_count": 29,
      "metadata": {
        "colab": {
          "base_uri": "https://localhost:8080/"
        },
        "id": "d3d9ea6f",
        "outputId": "35cc403f-ee74-420b-9afd-94a7e24b40a5"
      },
      "outputs": [
        {
          "output_type": "stream",
          "name": "stdout",
          "text": [
            "Valido que 'Country' se encuentra en la lista_columnas - original - \n",
            "\n",
            "Sí Existe\n",
            "\n",
            "Lo borro !!!!\n",
            "\n",
            "La nueva lista de columnas es --> \n",
            " \n",
            " ['ID', 'Listing Url', 'Scrape ID', 'Last Scraped', 'Name', 'Summary', 'Space', 'Description', 'Experiences Offered', 'Neighborhood Overview', 'Notes', 'Transit', 'Access', 'Interaction', 'House Rules', 'Thumbnail Url', 'Medium Url', 'Picture Url', 'XL Picture Url', 'Host ID', 'Host URL', 'Host Name', 'Host Since', 'Host Location', 'Host About', 'Host Response Time', 'Host Response Rate', 'Host Acceptance Rate', 'Host Thumbnail Url', 'Host Picture Url', 'Host Neighbourhood', 'Host Listings Count', 'Host Total Listings Count', 'Host Verifications', 'Street', 'Neighbourhood', 'Neighbourhood Cleansed', 'Neighbourhood Group Cleansed', 'City', 'State', 'Zipcode', 'Market', 'Smart Location', 'Country Code', 'Latitude', 'Longitude', 'Property Type', 'Room Type', 'Accommodates', 'Bathrooms', 'Bedrooms', 'Beds', 'Bed Type', 'Amenities', 'Square Feet', 'Price', 'Weekly Price', 'Monthly Price', 'Security Deposit', 'Cleaning Fee', 'Guests Included', 'Extra People', 'Minimum Nights', 'Maximum Nights', 'Calendar Updated', 'Has Availability', 'Availability 30', 'Availability 60', 'Availability 90', 'Availability 365', 'Calendar last Scraped', 'Number of Reviews', 'First Review', 'Last Review', 'Review Scores Rating', 'Review Scores Accuracy', 'Review Scores Cleanliness', 'Review Scores Checkin', 'Review Scores Communication', 'Review Scores Location', 'Review Scores Value', 'License', 'Jurisdiction Names', 'Cancellation Policy', 'Calculated host listings count', 'Reviews per Month', 'Geolocation', 'Features'] \n",
            "\n",
            "No Existe\n",
            "\n"
          ]
        }
      ],
      "source": [
        "name = \"Country\"\n",
        "print(\"Valido que 'Country' se encuentra en la lista_columnas - original - \\n\")\n",
        "if name in lista_columnas:\n",
        "    print(\"Sí Existe\\n\")\n",
        "    print(\"Lo borro !!!!\")\n",
        "    data.drop(name, axis=1, inplace=True)\n",
        "else:\n",
        "    print(\"No Existe\\n\")\n",
        "lista_columnas = list(data.columns.values)\n",
        "print(\"\\nLa nueva lista de columnas es --> \\n \\n\", lista_columnas, \"\\n\")\n",
        "if name in lista_columnas:\n",
        "    print(\"Sí Existe\\n\")\n",
        "else:\n",
        "    print(\"No Existe\\n\")"
      ],
      "id": "d3d9ea6f"
    },
    {
      "cell_type": "markdown",
      "metadata": {
        "id": "7bba1209"
      },
      "source": [
        "Ahora, eliminaré la siguiente lista de columnas, que tienen más del 70% de NAs"
      ],
      "id": "7bba1209"
    },
    {
      "cell_type": "code",
      "source": [
        "columnas_borrar"
      ],
      "metadata": {
        "colab": {
          "base_uri": "https://localhost:8080/"
        },
        "id": "Aho9NB5dQLIl",
        "outputId": "49712ef5-beff-4e12-f299-fa410c6e34e1"
      },
      "id": "Aho9NB5dQLIl",
      "execution_count": 30,
      "outputs": [
        {
          "output_type": "execute_result",
          "data": {
            "text/plain": [
              "['Neighborhood Overview',\n",
              " 'Notes',\n",
              " 'Transit',\n",
              " 'Access',\n",
              " 'Interaction',\n",
              " 'House Rules',\n",
              " 'Host About',\n",
              " 'Host Acceptance Rate',\n",
              " 'Neighbourhood',\n",
              " 'Square Feet',\n",
              " 'Weekly Price',\n",
              " 'Monthly Price',\n",
              " 'Security Deposit',\n",
              " 'Cleaning Fee',\n",
              " 'Has Availability',\n",
              " 'License',\n",
              " 'Jurisdiction Names']"
            ]
          },
          "metadata": {},
          "execution_count": 30
        }
      ]
    },
    {
      "cell_type": "code",
      "execution_count": 31,
      "metadata": {
        "id": "620d192d",
        "colab": {
          "base_uri": "https://localhost:8080/"
        },
        "outputId": "bd1b1340-dcd6-4ab8-eafc-bc2f62361e52"
      },
      "outputs": [
        {
          "output_type": "stream",
          "name": "stdout",
          "text": [
            "['Neighborhood Overview', 'Notes', 'Transit', 'Access', 'Interaction', 'House Rules', 'Host About', 'Host Acceptance Rate', 'Neighbourhood', 'Square Feet', 'Weekly Price', 'Monthly Price', 'Security Deposit', 'Cleaning Fee', 'Has Availability', 'License', 'Jurisdiction Names']\n",
            "He reducido el número de columnas a -->  72\n",
            "Estas son las que quedan ---> \n",
            " Index(['ID', 'Listing Url', 'Scrape ID', 'Last Scraped', 'Name', 'Summary',\n",
            "       'Space', 'Description', 'Experiences Offered', 'Thumbnail Url',\n",
            "       'Medium Url', 'Picture Url', 'XL Picture Url', 'Host ID', 'Host URL',\n",
            "       'Host Name', 'Host Since', 'Host Location', 'Host Response Time',\n",
            "       'Host Response Rate', 'Host Thumbnail Url', 'Host Picture Url',\n",
            "       'Host Neighbourhood', 'Host Listings Count',\n",
            "       'Host Total Listings Count', 'Host Verifications', 'Street',\n",
            "       'Neighbourhood', 'Neighbourhood Cleansed',\n",
            "       'Neighbourhood Group Cleansed', 'City', 'State', 'Zipcode', 'Market',\n",
            "       'Smart Location', 'Country Code', 'Latitude', 'Longitude',\n",
            "       'Property Type', 'Room Type', 'Accommodates', 'Bathrooms', 'Bedrooms',\n",
            "       'Beds', 'Bed Type', 'Amenities', 'Price', 'Guests Included',\n",
            "       'Extra People', 'Minimum Nights', 'Maximum Nights', 'Calendar Updated',\n",
            "       'Availability 30', 'Availability 60', 'Availability 90',\n",
            "       'Availability 365', 'Calendar last Scraped', 'Number of Reviews',\n",
            "       'First Review', 'Last Review', 'Review Scores Rating',\n",
            "       'Review Scores Accuracy', 'Review Scores Cleanliness',\n",
            "       'Review Scores Checkin', 'Review Scores Communication',\n",
            "       'Review Scores Location', 'Review Scores Value', 'Cancellation Policy',\n",
            "       'Calculated host listings count', 'Reviews per Month', 'Geolocation',\n",
            "       'Features'],\n",
            "      dtype='object')\n"
          ]
        }
      ],
      "source": [
        "no_elimino = ['Neighbourhood'] # Voy a mantener 'Neighbourhood', pues pienso que aporta info valiosa y está en el límite. \n",
        "print(columnas_borrar)\n",
        "columnas_borrar = [x for x in columnas_borrar if x not in no_elimino]\n",
        "data = data.drop(columnas_borrar, axis = 1)\n",
        "lista_columnas = data.columns.values\n",
        "print(\"He reducido el número de columnas a --> \", len(lista_columnas))\n",
        "print(\"Estas son las que quedan ---> \\n\", data.columns)"
      ],
      "id": "620d192d"
    },
    {
      "cell_type": "markdown",
      "metadata": {
        "id": "c1a2dfdd"
      },
      "source": [
        "Voy a arreglar los códigos postales -->"
      ],
      "id": "c1a2dfdd"
    },
    {
      "cell_type": "markdown",
      "metadata": {
        "id": "7dd5cbf1"
      },
      "source": [
        "DataFrame.replace(to_replace=None, value=_NoDefault.no_default, *, inplace=False, limit=None, regex=False, method=_NoDefault.no_default)"
      ],
      "id": "7dd5cbf1"
    },
    {
      "cell_type": "markdown",
      "metadata": {
        "id": "8fb1b48e"
      },
      "source": [
        "* Los que inician con '0' no son de Madrid\n",
        "* Los códigos 46370, 84084,03430, 07320, probablemente no son de Madrid --> Se borrarán\n",
        "* 28002\\n28002 debe reemplazarse por 28002\n",
        "* 2802\\n28012 debe reemplazarse por 28012\n",
        "* 28051\\n28051 debe reemplazarse por 28051\n",
        "* 280013 debe reemplazarse por 28013\n",
        "* 28 es un error se elimina\n",
        "* 08015 parece 28015\n",
        "* 2015 y 2805 probablemente son 28015\n",
        "* 2804 probablemente es 28004\n",
        "* 28051\\n28051 debe reemplazarse por 28051\n",
        "* 29012 debe ser 28012\n",
        "* 27013 debe ser 28013\n",
        "* 20013 debe ser 28013\n",
        "* 20126 debe ser 28126\n",
        "* 27004 debe ser 28004\n",
        "* Hay que eliminar un '-'\n",
        "* 2815 debe ser 28015\n",
        "* Madrid 28004 debe ser 28004\n",
        "* 10100 debe ser 28100\n",
        "* Pondré toda la columna como int\n",
        "* Eliminaré todos los NA"
      ],
      "id": "8fb1b48e"
    },
    {
      "cell_type": "code",
      "execution_count": 32,
      "metadata": {
        "id": "3b10c1d7",
        "colab": {
          "base_uri": "https://localhost:8080/"
        },
        "outputId": "0c66089f-6c5c-45bf-8aae-216489800048"
      },
      "outputs": [
        {
          "output_type": "execute_result",
          "data": {
            "text/plain": [
              "array([28001, 28002, 28003, 28004, 28005, 28006, 28007, 28008, 28009,\n",
              "       28010, 28011, 28012, 28013, 28014, 28015, 28016, 28017, 28018,\n",
              "       28019, 28020, 28021, 28022, 28023, 28024, 28025, 28026, 28027,\n",
              "       28028, 28029, 28030, 28031, 28032, 28033, 28034, 28035, 28036,\n",
              "       28037, 28038, 28039, 28040, 28041, 28042, 28043, 28044, 28045,\n",
              "       28046, 28047, 28048, 28049, 28050, 28051, 28052, 28053, 28054,\n",
              "       28055, 28056, 28058, 28060, 28094, 28100, 28105, 28126, 28224,\n",
              "       28290, 28660, 28730, 28830, 28850])"
            ]
          },
          "metadata": {},
          "execution_count": 32
        }
      ],
      "source": [
        "data['Zipcode'] = data['Zipcode'].replace({'28002\\n28002':28002, '2802\\n28012':28012, '08015':28015, '28051\\n28051':28051, 'Madrid 28004':28004}, inplace=False)\n",
        "data=data.dropna(subset=['Zipcode'])\n",
        "data = data.drop(data[data.Zipcode == '-'].index)\n",
        "data = data.astype({'Zipcode':'int'})\n",
        "data['Zipcode'] = data['Zipcode'].replace({25008: 28008, 2805:28015, 280013:28013, 2015:28015, 2805:28015, 2804:28004, 29012:28012, 27013:28013, 2815:28015, 10100:28100, 20013: 28013, 20126: 28126, 27004: 28004, 29230:28830}, inplace=False)\n",
        "data = data.drop(data[data.Zipcode == 28].index)\n",
        "data = data.drop(data[data.Zipcode > 30000].index)\n",
        "data = data.drop(data[data.Zipcode == 3430].index)\n",
        "data = data.drop(data[data.Zipcode == 7320].index)\n",
        "np.unique(data.Zipcode)"
      ],
      "id": "3b10c1d7"
    },
    {
      "cell_type": "markdown",
      "metadata": {
        "id": "04d6f885"
      },
      "source": [
        "### Ahora analizo de la estructura de mi dataframe\n"
      ],
      "id": "04d6f885"
    },
    {
      "cell_type": "code",
      "execution_count": 33,
      "metadata": {
        "colab": {
          "base_uri": "https://localhost:8080/"
        },
        "id": "d049e32b",
        "outputId": "25444e4e-3520-479a-f581-11018a7eda8a"
      },
      "outputs": [
        {
          "output_type": "execute_result",
          "data": {
            "text/plain": [
              "ID                                  int64\n",
              "Listing Url                        object\n",
              "Scrape ID                           int64\n",
              "Last Scraped                       object\n",
              "Name                               object\n",
              "Summary                            object\n",
              "Space                              object\n",
              "Description                        object\n",
              "Experiences Offered                object\n",
              "Thumbnail Url                      object\n",
              "Medium Url                         object\n",
              "Picture Url                        object\n",
              "XL Picture Url                     object\n",
              "Host ID                             int64\n",
              "Host URL                           object\n",
              "Host Name                          object\n",
              "Host Since                         object\n",
              "Host Location                      object\n",
              "Host Response Time                 object\n",
              "Host Response Rate                float64\n",
              "Host Thumbnail Url                 object\n",
              "Host Picture Url                   object\n",
              "Host Neighbourhood                 object\n",
              "Host Listings Count               float64\n",
              "Host Total Listings Count         float64\n",
              "Host Verifications                 object\n",
              "Street                             object\n",
              "Neighbourhood                      object\n",
              "Neighbourhood Cleansed             object\n",
              "Neighbourhood Group Cleansed       object\n",
              "City                               object\n",
              "State                              object\n",
              "Zipcode                             int64\n",
              "Market                             object\n",
              "Smart Location                     object\n",
              "Country Code                       object\n",
              "Latitude                          float64\n",
              "Longitude                         float64\n",
              "Property Type                      object\n",
              "Room Type                          object\n",
              "Accommodates                        int64\n",
              "Bathrooms                         float64\n",
              "Bedrooms                          float64\n",
              "Beds                              float64\n",
              "Bed Type                           object\n",
              "Amenities                          object\n",
              "Price                             float64\n",
              "Guests Included                     int64\n",
              "Extra People                        int64\n",
              "Minimum Nights                      int64\n",
              "Maximum Nights                      int64\n",
              "Calendar Updated                   object\n",
              "Availability 30                     int64\n",
              "Availability 60                     int64\n",
              "Availability 90                     int64\n",
              "Availability 365                    int64\n",
              "Calendar last Scraped              object\n",
              "Number of Reviews                   int64\n",
              "First Review                       object\n",
              "Last Review                        object\n",
              "Review Scores Rating              float64\n",
              "Review Scores Accuracy            float64\n",
              "Review Scores Cleanliness         float64\n",
              "Review Scores Checkin             float64\n",
              "Review Scores Communication       float64\n",
              "Review Scores Location            float64\n",
              "Review Scores Value               float64\n",
              "Cancellation Policy                object\n",
              "Calculated host listings count    float64\n",
              "Reviews per Month                 float64\n",
              "Geolocation                        object\n",
              "Features                           object\n",
              "dtype: object"
            ]
          },
          "metadata": {},
          "execution_count": 33
        }
      ],
      "source": [
        "data.dtypes"
      ],
      "id": "d049e32b"
    },
    {
      "cell_type": "markdown",
      "source": [
        "## Existen muchas columnas tipo 'object'. voy a revisar el número de valores únicos en cada una. "
      ],
      "metadata": {
        "id": "xblLtU6vcZW5"
      },
      "id": "xblLtU6vcZW5"
    },
    {
      "cell_type": "code",
      "source": [
        "lista_columnas = list(data.columns.values)\n",
        "dict_unique = {} # Para ver cuántos datos únicos contiene\n",
        "\n",
        "columnas_object = list(data.select_dtypes(include=['object']).columns)\n",
        "\n",
        "# loop through the object columns and count the unique values\n",
        "for columna in columnas_object:\n",
        "    dict_unique[columna] = len(data[columna].unique())\n",
        "\n",
        "print(\"Los valores únicos en las columnas tipo object son --> \\n\", dict_unique)"
      ],
      "metadata": {
        "colab": {
          "base_uri": "https://localhost:8080/"
        },
        "id": "fdyZBRQEcpbe",
        "outputId": "f90f56ff-7945-4438-9992-284a0297c286"
      },
      "id": "fdyZBRQEcpbe",
      "execution_count": 34,
      "outputs": [
        {
          "output_type": "stream",
          "name": "stdout",
          "text": [
            "Los valores únicos en las columnas tipo object son --> \n",
            " {'Listing Url': 12824, 'Last Scraped': 1, 'Name': 12448, 'Summary': 11579, 'Space': 8751, 'Description': 12379, 'Experiences Offered': 1, 'Thumbnail Url': 10403, 'Medium Url': 10403, 'Picture Url': 12804, 'XL Picture Url': 10403, 'Host URL': 7870, 'Host Name': 2917, 'Host Since': 2049, 'Host Location': 503, 'Host Response Time': 5, 'Host Thumbnail Url': 7834, 'Host Picture Url': 7834, 'Host Neighbourhood': 108, 'Host Verifications': 188, 'Street': 721, 'Neighbourhood': 66, 'Neighbourhood Cleansed': 126, 'Neighbourhood Group Cleansed': 21, 'City': 34, 'State': 25, 'Market': 1, 'Smart Location': 35, 'Country Code': 2, 'Property Type': 22, 'Room Type': 3, 'Bed Type': 5, 'Amenities': 10712, 'Calendar Updated': 57, 'Calendar last Scraped': 2, 'First Review': 1605, 'Last Review': 702, 'Cancellation Policy': 5, 'Geolocation': 12824, 'Features': 61}\n"
          ]
        }
      ]
    },
    {
      "cell_type": "code",
      "source": [
        "data['Smart Location'].unique()"
      ],
      "metadata": {
        "colab": {
          "base_uri": "https://localhost:8080/"
        },
        "id": "dVZrbkbslRn1",
        "outputId": "122e81fd-0d92-4a76-a4dc-0f0e6a3b7617"
      },
      "id": "dVZrbkbslRn1",
      "execution_count": 35,
      "outputs": [
        {
          "output_type": "execute_result",
          "data": {
            "text/plain": [
              "array(['Madrid, Spain', '马德里, Spain',\n",
              "       'Madrid, Comunidad de Madrid, ES, Spain',\n",
              "       'Pozuelo de Alarcón, Spain', 'Madrid , Spain', 'Madri, Spain',\n",
              "       'Barcelona , Spain', '馬德里, Spain', 'Boadilla del Monte, Spain',\n",
              "       'Delicias-Madrid, Spain', 'madrid, Spain', 'Pozuelo, Spain',\n",
              "       'las matas  madrid, Spain', 'Madid, Spain', 'San Lázaro, Spain',\n",
              "       'Málaga, Spain', 'La Elipa, Spain', 'Comunidad de Madrid, Spain',\n",
              "       'La Habana, Cuba', 'Aravaca (Madrid), Spain', 'Ventas, Spain',\n",
              "       'Chueca, Spain', 'Motilla del Palancar, Spain',\n",
              "       'San Fernando de Henares, Spain', 'Chueca, Madrid, Spain',\n",
              "       'Malaga, Spain', 'Valderrodrigo, Spain', 'Delicias, Spain',\n",
              "       'Madrid, Vallecas (Fontarrón), Spain', 'MADRID, Spain',\n",
              "       'Centro, Spain', 'Centro, Madrid, Spain', 'MADRID , Spain',\n",
              "       'villa verde bajo, Spain', 'Aravaca , Spain'], dtype=object)"
            ]
          },
          "metadata": {},
          "execution_count": 35
        }
      ]
    },
    {
      "cell_type": "code",
      "source": [
        "(data['Country Code'] == 'ES').sum()"
      ],
      "metadata": {
        "colab": {
          "base_uri": "https://localhost:8080/"
        },
        "id": "4lqS0k10msP0",
        "outputId": "bf7335bf-e408-48c9-8f33-5ea5e621eaf6"
      },
      "id": "4lqS0k10msP0",
      "execution_count": 36,
      "outputs": [
        {
          "output_type": "execute_result",
          "data": {
            "text/plain": [
              "12823"
            ]
          },
          "metadata": {},
          "execution_count": 36
        }
      ]
    },
    {
      "cell_type": "markdown",
      "source": [
        "Al analizar un poco las variables, encuentro esto: \n",
        "1. 'State' Se refiere a distintas maneras de decir 'Madrid' y muestra algunos errores. Por simplicidad del ejercicio, voy a eliminar esta columna. \n",
        "2. 'Market' solo tiene un valor (Madrid), puedo eliminarlo. \n",
        "3. 'Country Code' se refiere a España. Tiene un código 'CU' y solo tiene una ocurrencia. Puedo eliminarlo. \n",
        "4. 'Amenities' podría tener información valiosa, pero tiene 10.712 variaciones. Esto podría afectar el tiempo de cálculo, pues se tendrían que calcular este mismo número de columnas. Lo voy a eliminar. Igual a este caso, tengo 'Space', 'Name', 'Summary', 'Description'. \n",
        "5. 'Calendar last Scraped' está relacionado con la obtención de datos. Lo voy a eliminar. \n",
        "6. 'City' se refiere a Madrid y mezcla barrios. Voy a borrarlo. \n",
        "7. 'Experiences Offered' solo tiene el valor 'none'. Voy a borrarla. \n",
        "8. 'First Review' y 'Last Review' son fechas, voy a preprocesarlo utilizando StandardScaler\n"
      ],
      "metadata": {
        "id": "8_qeHkTHl-YY"
      },
      "id": "8_qeHkTHl-YY"
    },
    {
      "cell_type": "code",
      "source": [
        "columnas_borrar = ['State', 'Market', 'Country Code', 'Amenities', 'Calendar last Scraped']\n",
        "data.drop(columnas_borrar, axis=1, inplace=True)\n",
        "lista_columnas = data.columns.values\n",
        "print(\"Me quedan ahora \",len(lista_columnas), \"Columnas\")"
      ],
      "metadata": {
        "colab": {
          "base_uri": "https://localhost:8080/"
        },
        "id": "hOREQWYHrZIe",
        "outputId": "d2e20a03-2adc-4ed1-c69b-6d01d809d37c"
      },
      "id": "hOREQWYHrZIe",
      "execution_count": 37,
      "outputs": [
        {
          "output_type": "stream",
          "name": "stdout",
          "text": [
            "Me quedan ahora  67 Columnas\n"
          ]
        }
      ]
    },
    {
      "cell_type": "code",
      "source": [
        "columnas_borrar = ['Space', 'Name', 'Summary', 'Description']\n",
        "data.drop(columnas_borrar, axis=1, inplace=True)\n",
        "lista_columnas = data.columns.values\n",
        "print(\"Me quedan ahora \",len(lista_columnas), \"Columnas\")"
      ],
      "metadata": {
        "colab": {
          "base_uri": "https://localhost:8080/"
        },
        "id": "OfRrNtqOvMIF",
        "outputId": "c4a3ee91-6c2d-43f2-8eb4-f9bce6adeb6d"
      },
      "id": "OfRrNtqOvMIF",
      "execution_count": 38,
      "outputs": [
        {
          "output_type": "stream",
          "name": "stdout",
          "text": [
            "Me quedan ahora  63 Columnas\n"
          ]
        }
      ]
    },
    {
      "cell_type": "code",
      "source": [
        "data.drop('City', axis=1, inplace=True)\n",
        "lista_columnas = data.columns.values\n",
        "print(\"Me quedan ahora \",len(lista_columnas), \"Columnas\")"
      ],
      "metadata": {
        "colab": {
          "base_uri": "https://localhost:8080/"
        },
        "id": "_u8dgpOavVOY",
        "outputId": "e6e518ae-19f7-4451-85f5-32228053dd5c"
      },
      "id": "_u8dgpOavVOY",
      "execution_count": 39,
      "outputs": [
        {
          "output_type": "stream",
          "name": "stdout",
          "text": [
            "Me quedan ahora  62 Columnas\n"
          ]
        }
      ]
    },
    {
      "cell_type": "markdown",
      "source": [
        "Voy a eliminar toda la info de scraping"
      ],
      "metadata": {
        "id": "rKNE6IKkweRR"
      },
      "id": "rKNE6IKkweRR"
    },
    {
      "cell_type": "code",
      "source": [
        "data.drop(['Scrape ID', 'Last Scraped'], axis=1, inplace=True)"
      ],
      "metadata": {
        "id": "GnT8bAJ3wccJ"
      },
      "id": "GnT8bAJ3wccJ",
      "execution_count": 40,
      "outputs": []
    },
    {
      "cell_type": "code",
      "source": [
        "lista_columnas = data.columns.values"
      ],
      "metadata": {
        "id": "0UMoCFKjwjtf"
      },
      "id": "0UMoCFKjwjtf",
      "execution_count": 41,
      "outputs": []
    },
    {
      "cell_type": "markdown",
      "source": [
        "Voy a eliminar 'Experiences Offered', pues solo tiene el valor 'none'."
      ],
      "metadata": {
        "id": "qEtV6yYTzN9D"
      },
      "id": "qEtV6yYTzN9D"
    },
    {
      "cell_type": "code",
      "source": [
        "data.drop('Experiences Offered', axis=1, inplace=True)\n",
        "lista_columnas = data.columns.values"
      ],
      "metadata": {
        "id": "EXQ1dV1gzOed"
      },
      "id": "EXQ1dV1gzOed",
      "execution_count": 42,
      "outputs": []
    },
    {
      "cell_type": "markdown",
      "source": [
        "Voy a preprocesar las columnas de fechas --> \n",
        "He detectado las siguientes: 'Host Since', 'First Review', 'Last Review'"
      ],
      "metadata": {
        "id": "RwDufZQavq1R"
      },
      "id": "RwDufZQavq1R"
    },
    {
      "cell_type": "code",
      "source": [
        "data['Host Since'].head()"
      ],
      "metadata": {
        "colab": {
          "base_uri": "https://localhost:8080/"
        },
        "id": "7B28EsF45RxL",
        "outputId": "21adffe0-9ca0-4093-c0c3-775abf79b3fd"
      },
      "id": "7B28EsF45RxL",
      "execution_count": 43,
      "outputs": [
        {
          "output_type": "execute_result",
          "data": {
            "text/plain": [
              "40    2015-01-06\n",
              "41    2015-01-01\n",
              "42    2016-04-18\n",
              "43    2012-09-08\n",
              "44    2013-12-25\n",
              "Name: Host Since, dtype: object"
            ]
          },
          "metadata": {},
          "execution_count": 43
        }
      ]
    },
    {
      "cell_type": "code",
      "source": [
        "data_test = data"
      ],
      "metadata": {
        "id": "xThQ85rF6zZb"
      },
      "id": "xThQ85rF6zZb",
      "execution_count": 44,
      "outputs": []
    },
    {
      "cell_type": "code",
      "source": [
        "data = data_test"
      ],
      "metadata": {
        "id": "F60Ljcfa_PJD"
      },
      "id": "F60Ljcfa_PJD",
      "execution_count": 45,
      "outputs": []
    },
    {
      "cell_type": "markdown",
      "source": [
        "Voy a separar los datos de fecha en cada columna (día, mes, año)  -->\n",
        "\n",
        "---\n",
        "\n"
      ],
      "metadata": {
        "id": "hRlaEcwx_GEl"
      },
      "id": "hRlaEcwx_GEl"
    },
    {
      "cell_type": "code",
      "source": [
        "columnas_date = ['Host Since', 'First Review', 'Last Review']\n",
        "\n",
        "for columna in columnas_date:\n",
        "    data[columna] = pd.to_datetime(data[columna])\n",
        "    year_col = f\"{columna}_year\"\n",
        "    month_col = f\"{columna}_month\"\n",
        "    day_col = f\"{columna}_day\"\n",
        "    data[year_col] = data[columna].dt.year\n",
        "    data[month_col] = data[columna].dt.month\n",
        "    data[day_col] = data[columna].dt.day\n",
        "    fecha = [year_col, month_col, day_col]\n",
        "    #scaler = StandardScaler()\n",
        "    #data[fecha] = scaler.fit_transform(data[fecha])\n",
        "    data = data.drop(columna, axis=1)\n",
        "    data = data.rename(columns={fecha[i]: f\"{columna}_{fecha[i].split('_')[1]}\" for i in range(len(fecha))})\n"
      ],
      "metadata": {
        "id": "yyesAwzxvn_u"
      },
      "id": "yyesAwzxvn_u",
      "execution_count": 46,
      "outputs": []
    },
    {
      "cell_type": "code",
      "source": [
        "lista_columnas = data.columns.values"
      ],
      "metadata": {
        "id": "bGcNw8c67Xts"
      },
      "id": "bGcNw8c67Xts",
      "execution_count": 47,
      "outputs": []
    },
    {
      "cell_type": "code",
      "execution_count": 48,
      "metadata": {
        "colab": {
          "base_uri": "https://localhost:8080/"
        },
        "id": "61ecd457",
        "outputId": "09ba8c3b-08e9-4eaf-ed97-e8c6a0c27853"
      },
      "outputs": [
        {
          "output_type": "execute_result",
          "data": {
            "text/plain": [
              "array(['ID', 'Listing Url', 'Thumbnail Url', 'Medium Url', 'Picture Url',\n",
              "       'XL Picture Url', 'Host ID', 'Host URL', 'Host Name',\n",
              "       'Host Location', 'Host Response Time', 'Host Response Rate',\n",
              "       'Host Thumbnail Url', 'Host Picture Url', 'Host Neighbourhood',\n",
              "       'Host Listings Count', 'Host Total Listings Count',\n",
              "       'Host Verifications', 'Street', 'Neighbourhood',\n",
              "       'Neighbourhood Cleansed', 'Neighbourhood Group Cleansed',\n",
              "       'Zipcode', 'Smart Location', 'Latitude', 'Longitude',\n",
              "       'Property Type', 'Room Type', 'Accommodates', 'Bathrooms',\n",
              "       'Bedrooms', 'Beds', 'Bed Type', 'Price', 'Guests Included',\n",
              "       'Extra People', 'Minimum Nights', 'Maximum Nights',\n",
              "       'Calendar Updated', 'Availability 30', 'Availability 60',\n",
              "       'Availability 90', 'Availability 365', 'Number of Reviews',\n",
              "       'Review Scores Rating', 'Review Scores Accuracy',\n",
              "       'Review Scores Cleanliness', 'Review Scores Checkin',\n",
              "       'Review Scores Communication', 'Review Scores Location',\n",
              "       'Review Scores Value', 'Cancellation Policy',\n",
              "       'Calculated host listings count', 'Reviews per Month',\n",
              "       'Geolocation', 'Features', 'Host Since_year', 'Host Since_month',\n",
              "       'Host Since_day', 'First Review_year', 'First Review_month',\n",
              "       'First Review_day', 'Last Review_year', 'Last Review_month',\n",
              "       'Last Review_day'], dtype=object)"
            ]
          },
          "metadata": {},
          "execution_count": 48
        }
      ],
      "source": [
        "lista_columnas"
      ],
      "id": "61ecd457"
    },
    {
      "cell_type": "code",
      "source": [
        "data['Last Review_year'].head()"
      ],
      "metadata": {
        "colab": {
          "base_uri": "https://localhost:8080/"
        },
        "id": "sgCQunaHFDZi",
        "outputId": "7b06681b-b0b6-4eb1-89a0-e6c0281866cd"
      },
      "id": "sgCQunaHFDZi",
      "execution_count": 49,
      "outputs": [
        {
          "output_type": "execute_result",
          "data": {
            "text/plain": [
              "40    2017.0\n",
              "41    2017.0\n",
              "42    2017.0\n",
              "43    2016.0\n",
              "44       NaN\n",
              "Name: Last Review_year, dtype: float64"
            ]
          },
          "metadata": {},
          "execution_count": 49
        }
      ]
    },
    {
      "cell_type": "markdown",
      "source": [
        "'Geolocation' es una variable que incluye 'Latitude' y 'Longitude'. Analizándolo, se comporta como las fechas, en donde lo estoy dividiendo por partes. Voy a eliminar 'Geolocation' y a mantener las otras dos. "
      ],
      "metadata": {
        "id": "NQ-BmiLJILIB"
      },
      "id": "NQ-BmiLJILIB"
    },
    {
      "cell_type": "code",
      "source": [
        "data.drop('Geolocation', axis=1, inplace=True)"
      ],
      "metadata": {
        "id": "iNhNNx0dIGV6"
      },
      "id": "iNhNNx0dIGV6",
      "execution_count": 50,
      "outputs": []
    },
    {
      "cell_type": "markdown",
      "metadata": {
        "id": "a4f1b164"
      },
      "source": [
        "Ahora elimino las variables que pudieran ser redundantes, pues apuntan a la misma información. 'ID' apuntaría a un único 'Listing Url'; lo mismo para 'Host ID' con 'Host URL' y 'Host Name'; 'Smart Location' tiene errores y en su mayoría son distintas formas de nombrar a Madrid. \n",
        "\n",
        "Eliminaré: \n",
        "'Listing Url', 'Host URL', 'Host Name', 'Smart Location' \n",
        "\n"
      ],
      "id": "a4f1b164"
    },
    {
      "cell_type": "code",
      "source": [
        "data.drop(['Listing Url', 'Host URL', 'Host Name', 'Smart Location'], axis=1, inplace=True)\n",
        "lista_columnas=data.columns.values\n",
        "lista_columnas"
      ],
      "metadata": {
        "colab": {
          "base_uri": "https://localhost:8080/"
        },
        "id": "GXfmQ0uxJEgt",
        "outputId": "1bd8c43b-8fcb-459c-e055-6af3ce2a3dd4"
      },
      "id": "GXfmQ0uxJEgt",
      "execution_count": 51,
      "outputs": [
        {
          "output_type": "execute_result",
          "data": {
            "text/plain": [
              "array(['ID', 'Thumbnail Url', 'Medium Url', 'Picture Url',\n",
              "       'XL Picture Url', 'Host ID', 'Host Location', 'Host Response Time',\n",
              "       'Host Response Rate', 'Host Thumbnail Url', 'Host Picture Url',\n",
              "       'Host Neighbourhood', 'Host Listings Count',\n",
              "       'Host Total Listings Count', 'Host Verifications', 'Street',\n",
              "       'Neighbourhood', 'Neighbourhood Cleansed',\n",
              "       'Neighbourhood Group Cleansed', 'Zipcode', 'Latitude', 'Longitude',\n",
              "       'Property Type', 'Room Type', 'Accommodates', 'Bathrooms',\n",
              "       'Bedrooms', 'Beds', 'Bed Type', 'Price', 'Guests Included',\n",
              "       'Extra People', 'Minimum Nights', 'Maximum Nights',\n",
              "       'Calendar Updated', 'Availability 30', 'Availability 60',\n",
              "       'Availability 90', 'Availability 365', 'Number of Reviews',\n",
              "       'Review Scores Rating', 'Review Scores Accuracy',\n",
              "       'Review Scores Cleanliness', 'Review Scores Checkin',\n",
              "       'Review Scores Communication', 'Review Scores Location',\n",
              "       'Review Scores Value', 'Cancellation Policy',\n",
              "       'Calculated host listings count', 'Reviews per Month', 'Features',\n",
              "       'Host Since_year', 'Host Since_month', 'Host Since_day',\n",
              "       'First Review_year', 'First Review_month', 'First Review_day',\n",
              "       'Last Review_year', 'Last Review_month', 'Last Review_day'],\n",
              "      dtype=object)"
            ]
          },
          "metadata": {},
          "execution_count": 51
        }
      ]
    },
    {
      "cell_type": "code",
      "execution_count": 52,
      "metadata": {
        "colab": {
          "base_uri": "https://localhost:8080/"
        },
        "id": "9369e9c4",
        "outputId": "c39c3b62-99ed-4e60-e083-be0a50918647"
      },
      "outputs": [
        {
          "output_type": "execute_result",
          "data": {
            "text/plain": [
              "60"
            ]
          },
          "metadata": {},
          "execution_count": 52
        }
      ],
      "source": [
        "len(lista_columnas)"
      ],
      "id": "9369e9c4"
    },
    {
      "cell_type": "code",
      "source": [
        "dict_unique = {} # Reseteo los valores\n",
        "dict_char = {} # Para validar si un campo de \"lenguaje natural\"\n",
        "\n",
        "columnas_object = list(data.select_dtypes(include=['object']).columns)\n",
        "\n",
        "# loop through the object columns and count the unique values\n",
        "for columna in columnas_object:\n",
        "    dict_unique[columna] = len(data[columna].unique())\n",
        "    dict_char[columna] = data[columna].str.len().max()\n",
        "\n",
        "print(\"Los valores únicos en las columnas tipo object son --> \\n\", dict_unique)\n",
        "print(\"Los caracteres máximos en las columnas tipo object son --> \\n\", dict_char)"
      ],
      "metadata": {
        "colab": {
          "base_uri": "https://localhost:8080/"
        },
        "id": "kzrBkvW_LxUZ",
        "outputId": "00fa3904-fdfb-4e57-df09-c4679bacc10c"
      },
      "id": "kzrBkvW_LxUZ",
      "execution_count": 53,
      "outputs": [
        {
          "output_type": "stream",
          "name": "stdout",
          "text": [
            "Los valores únicos en las columnas tipo object son --> \n",
            " {'Thumbnail Url': 10403, 'Medium Url': 10403, 'Picture Url': 12804, 'XL Picture Url': 10403, 'Host Location': 503, 'Host Response Time': 5, 'Host Thumbnail Url': 7834, 'Host Picture Url': 7834, 'Host Neighbourhood': 108, 'Host Verifications': 188, 'Street': 721, 'Neighbourhood': 66, 'Neighbourhood Cleansed': 126, 'Neighbourhood Group Cleansed': 21, 'Property Type': 22, 'Room Type': 3, 'Bed Type': 5, 'Calendar Updated': 57, 'Cancellation Policy': 5, 'Features': 61}\n",
            "Los caracteres máximos en las columnas tipo object son --> \n",
            " {'Thumbnail Url': 93.0, 'Medium Url': 94.0, 'Picture Url': 110.0, 'XL Picture Url': 95.0, 'Host Location': 98.0, 'Host Response Time': 18.0, 'Host Thumbnail Url': 102.0, 'Host Picture Url': 105.0, 'Host Neighbourhood': 31.0, 'Host Verifications': 104.0, 'Street': 82, 'Neighbourhood': 19.0, 'Neighbourhood Cleansed': 28, 'Neighbourhood Group Cleansed': 21, 'Property Type': 18, 'Room Type': 15, 'Bed Type': 13, 'Calendar Updated': 13, 'Cancellation Policy': 15, 'Features': 176}\n"
          ]
        }
      ]
    },
    {
      "cell_type": "markdown",
      "source": [
        "Observando, tengo las URL de las imágenes, las cuales voy a dejar hasta procesarlas al final. \n",
        "\n",
        "Para reducir el requerimiento de cómputo y simplificar un poco , voy a dejar únicamente los valores categóricos que manejen menos de 22 elementos y Neighbourhood (que tiene 66 categorías). "
      ],
      "metadata": {
        "id": "gQZmzS2jS_Ib"
      },
      "id": "gQZmzS2jS_Ib"
    },
    {
      "cell_type": "code",
      "source": [
        "mantener = 'Neighbourhood'\n",
        "#mantener = ''\n",
        "max_categorias = 22\n",
        "\n",
        "columnas_objeto = data.select_dtypes(include='object')\n",
        "columnas_objeto = columnas_objeto.loc[:, ((columnas_objeto.nunique() <= max_categorias) | (columnas_objeto.apply(lambda x: x.str.startswith('http')).any())) | (columnas_objeto.columns == mantener)]\n",
        "columnas_numericas = data.select_dtypes(include=['int64', 'float64'])\n",
        "data = pd.concat([columnas_numericas, columnas_objeto], axis=1)\n",
        "\n",
        "lista_columnas = data.columns.values\n",
        "lista_columnas"
      ],
      "metadata": {
        "colab": {
          "base_uri": "https://localhost:8080/"
        },
        "id": "ZQxZJzloLxfQ",
        "outputId": "8d5beeb0-f5fe-4304-8917-49b215d39959"
      },
      "id": "ZQxZJzloLxfQ",
      "execution_count": 54,
      "outputs": [
        {
          "output_type": "execute_result",
          "data": {
            "text/plain": [
              "array(['ID', 'Host ID', 'Host Response Rate', 'Host Listings Count',\n",
              "       'Host Total Listings Count', 'Zipcode', 'Latitude', 'Longitude',\n",
              "       'Accommodates', 'Bathrooms', 'Bedrooms', 'Beds', 'Price',\n",
              "       'Guests Included', 'Extra People', 'Minimum Nights',\n",
              "       'Maximum Nights', 'Availability 30', 'Availability 60',\n",
              "       'Availability 90', 'Availability 365', 'Number of Reviews',\n",
              "       'Review Scores Rating', 'Review Scores Accuracy',\n",
              "       'Review Scores Cleanliness', 'Review Scores Checkin',\n",
              "       'Review Scores Communication', 'Review Scores Location',\n",
              "       'Review Scores Value', 'Calculated host listings count',\n",
              "       'Reviews per Month', 'Host Since_year', 'Host Since_month',\n",
              "       'Host Since_day', 'First Review_year', 'First Review_month',\n",
              "       'First Review_day', 'Last Review_year', 'Last Review_month',\n",
              "       'Last Review_day', 'Thumbnail Url', 'Medium Url', 'Picture Url',\n",
              "       'XL Picture Url', 'Host Response Time', 'Host Thumbnail Url',\n",
              "       'Host Picture Url', 'Neighbourhood',\n",
              "       'Neighbourhood Group Cleansed', 'Property Type', 'Room Type',\n",
              "       'Bed Type', 'Cancellation Policy'], dtype=object)"
            ]
          },
          "metadata": {},
          "execution_count": 54
        }
      ]
    },
    {
      "cell_type": "code",
      "source": [
        "print(\"Ahora, el total de columnas es de \", len(lista_columnas))"
      ],
      "metadata": {
        "colab": {
          "base_uri": "https://localhost:8080/"
        },
        "id": "Kfqap3qncFg4",
        "outputId": "7bccb1ab-d4e9-4c80-895b-11013eee9ea6"
      },
      "id": "Kfqap3qncFg4",
      "execution_count": 55,
      "outputs": [
        {
          "output_type": "stream",
          "name": "stdout",
          "text": [
            "Ahora, el total de columnas es de  53\n"
          ]
        }
      ]
    },
    {
      "cell_type": "markdown",
      "source": [
        "Ahora toca \"codificar\" las variables categóricas. Utilizaré "
      ],
      "metadata": {
        "id": "4r_eMrVUheF7"
      },
      "id": "4r_eMrVUheF7"
    },
    {
      "cell_type": "code",
      "source": [
        "data.select_dtypes(include='object').head(1).T"
      ],
      "metadata": {
        "colab": {
          "base_uri": "https://localhost:8080/",
          "height": 457
        },
        "id": "FkGdG3bvnTyV",
        "outputId": "7fcf8ab7-5c41-4bfd-e8e0-9b173638f027"
      },
      "id": "FkGdG3bvnTyV",
      "execution_count": 56,
      "outputs": [
        {
          "output_type": "execute_result",
          "data": {
            "text/plain": [
              "                                                                             40\n",
              "Thumbnail Url                 https://a0.muscache.com/im/pictures/86864154/1...\n",
              "Medium Url                    https://a0.muscache.com/im/pictures/86864154/1...\n",
              "Picture Url                   https://public.opendatasoft.com/api/v2/catalog...\n",
              "XL Picture Url                https://a0.muscache.com/im/pictures/86864154/1...\n",
              "Host Response Time                                               within an hour\n",
              "Host Thumbnail Url            https://a0.muscache.com/im/users/25709853/prof...\n",
              "Host Picture Url              https://a0.muscache.com/im/users/25709853/prof...\n",
              "Neighbourhood                                                               NaN\n",
              "Neighbourhood Group Cleansed                                             Retiro\n",
              "Property Type                                                         Apartment\n",
              "Room Type                                                          Private room\n",
              "Bed Type                                                               Real Bed\n",
              "Cancellation Policy                                                    flexible"
            ],
            "text/html": [
              "\n",
              "  <div id=\"df-8f90084b-287b-48bc-aa84-a3002c9ec9ae\">\n",
              "    <div class=\"colab-df-container\">\n",
              "      <div>\n",
              "<style scoped>\n",
              "    .dataframe tbody tr th:only-of-type {\n",
              "        vertical-align: middle;\n",
              "    }\n",
              "\n",
              "    .dataframe tbody tr th {\n",
              "        vertical-align: top;\n",
              "    }\n",
              "\n",
              "    .dataframe thead th {\n",
              "        text-align: right;\n",
              "    }\n",
              "</style>\n",
              "<table border=\"1\" class=\"dataframe\">\n",
              "  <thead>\n",
              "    <tr style=\"text-align: right;\">\n",
              "      <th></th>\n",
              "      <th>40</th>\n",
              "    </tr>\n",
              "  </thead>\n",
              "  <tbody>\n",
              "    <tr>\n",
              "      <th>Thumbnail Url</th>\n",
              "      <td>https://a0.muscache.com/im/pictures/86864154/1...</td>\n",
              "    </tr>\n",
              "    <tr>\n",
              "      <th>Medium Url</th>\n",
              "      <td>https://a0.muscache.com/im/pictures/86864154/1...</td>\n",
              "    </tr>\n",
              "    <tr>\n",
              "      <th>Picture Url</th>\n",
              "      <td>https://public.opendatasoft.com/api/v2/catalog...</td>\n",
              "    </tr>\n",
              "    <tr>\n",
              "      <th>XL Picture Url</th>\n",
              "      <td>https://a0.muscache.com/im/pictures/86864154/1...</td>\n",
              "    </tr>\n",
              "    <tr>\n",
              "      <th>Host Response Time</th>\n",
              "      <td>within an hour</td>\n",
              "    </tr>\n",
              "    <tr>\n",
              "      <th>Host Thumbnail Url</th>\n",
              "      <td>https://a0.muscache.com/im/users/25709853/prof...</td>\n",
              "    </tr>\n",
              "    <tr>\n",
              "      <th>Host Picture Url</th>\n",
              "      <td>https://a0.muscache.com/im/users/25709853/prof...</td>\n",
              "    </tr>\n",
              "    <tr>\n",
              "      <th>Neighbourhood</th>\n",
              "      <td>NaN</td>\n",
              "    </tr>\n",
              "    <tr>\n",
              "      <th>Neighbourhood Group Cleansed</th>\n",
              "      <td>Retiro</td>\n",
              "    </tr>\n",
              "    <tr>\n",
              "      <th>Property Type</th>\n",
              "      <td>Apartment</td>\n",
              "    </tr>\n",
              "    <tr>\n",
              "      <th>Room Type</th>\n",
              "      <td>Private room</td>\n",
              "    </tr>\n",
              "    <tr>\n",
              "      <th>Bed Type</th>\n",
              "      <td>Real Bed</td>\n",
              "    </tr>\n",
              "    <tr>\n",
              "      <th>Cancellation Policy</th>\n",
              "      <td>flexible</td>\n",
              "    </tr>\n",
              "  </tbody>\n",
              "</table>\n",
              "</div>\n",
              "      <button class=\"colab-df-convert\" onclick=\"convertToInteractive('df-8f90084b-287b-48bc-aa84-a3002c9ec9ae')\"\n",
              "              title=\"Convert this dataframe to an interactive table.\"\n",
              "              style=\"display:none;\">\n",
              "        \n",
              "  <svg xmlns=\"http://www.w3.org/2000/svg\" height=\"24px\"viewBox=\"0 0 24 24\"\n",
              "       width=\"24px\">\n",
              "    <path d=\"M0 0h24v24H0V0z\" fill=\"none\"/>\n",
              "    <path d=\"M18.56 5.44l.94 2.06.94-2.06 2.06-.94-2.06-.94-.94-2.06-.94 2.06-2.06.94zm-11 1L8.5 8.5l.94-2.06 2.06-.94-2.06-.94L8.5 2.5l-.94 2.06-2.06.94zm10 10l.94 2.06.94-2.06 2.06-.94-2.06-.94-.94-2.06-.94 2.06-2.06.94z\"/><path d=\"M17.41 7.96l-1.37-1.37c-.4-.4-.92-.59-1.43-.59-.52 0-1.04.2-1.43.59L10.3 9.45l-7.72 7.72c-.78.78-.78 2.05 0 2.83L4 21.41c.39.39.9.59 1.41.59.51 0 1.02-.2 1.41-.59l7.78-7.78 2.81-2.81c.8-.78.8-2.07 0-2.86zM5.41 20L4 18.59l7.72-7.72 1.47 1.35L5.41 20z\"/>\n",
              "  </svg>\n",
              "      </button>\n",
              "      \n",
              "  <style>\n",
              "    .colab-df-container {\n",
              "      display:flex;\n",
              "      flex-wrap:wrap;\n",
              "      gap: 12px;\n",
              "    }\n",
              "\n",
              "    .colab-df-convert {\n",
              "      background-color: #E8F0FE;\n",
              "      border: none;\n",
              "      border-radius: 50%;\n",
              "      cursor: pointer;\n",
              "      display: none;\n",
              "      fill: #1967D2;\n",
              "      height: 32px;\n",
              "      padding: 0 0 0 0;\n",
              "      width: 32px;\n",
              "    }\n",
              "\n",
              "    .colab-df-convert:hover {\n",
              "      background-color: #E2EBFA;\n",
              "      box-shadow: 0px 1px 2px rgba(60, 64, 67, 0.3), 0px 1px 3px 1px rgba(60, 64, 67, 0.15);\n",
              "      fill: #174EA6;\n",
              "    }\n",
              "\n",
              "    [theme=dark] .colab-df-convert {\n",
              "      background-color: #3B4455;\n",
              "      fill: #D2E3FC;\n",
              "    }\n",
              "\n",
              "    [theme=dark] .colab-df-convert:hover {\n",
              "      background-color: #434B5C;\n",
              "      box-shadow: 0px 1px 3px 1px rgba(0, 0, 0, 0.15);\n",
              "      filter: drop-shadow(0px 1px 2px rgba(0, 0, 0, 0.3));\n",
              "      fill: #FFFFFF;\n",
              "    }\n",
              "  </style>\n",
              "\n",
              "      <script>\n",
              "        const buttonEl =\n",
              "          document.querySelector('#df-8f90084b-287b-48bc-aa84-a3002c9ec9ae button.colab-df-convert');\n",
              "        buttonEl.style.display =\n",
              "          google.colab.kernel.accessAllowed ? 'block' : 'none';\n",
              "\n",
              "        async function convertToInteractive(key) {\n",
              "          const element = document.querySelector('#df-8f90084b-287b-48bc-aa84-a3002c9ec9ae');\n",
              "          const dataTable =\n",
              "            await google.colab.kernel.invokeFunction('convertToInteractive',\n",
              "                                                     [key], {});\n",
              "          if (!dataTable) return;\n",
              "\n",
              "          const docLinkHtml = 'Like what you see? Visit the ' +\n",
              "            '<a target=\"_blank\" href=https://colab.research.google.com/notebooks/data_table.ipynb>data table notebook</a>'\n",
              "            + ' to learn more about interactive tables.';\n",
              "          element.innerHTML = '';\n",
              "          dataTable['output_type'] = 'display_data';\n",
              "          await google.colab.output.renderOutput(dataTable, element);\n",
              "          const docLink = document.createElement('div');\n",
              "          docLink.innerHTML = docLinkHtml;\n",
              "          element.appendChild(docLink);\n",
              "        }\n",
              "      </script>\n",
              "    </div>\n",
              "  </div>\n",
              "  "
            ]
          },
          "metadata": {},
          "execution_count": 56
        }
      ]
    },
    {
      "cell_type": "code",
      "source": [
        "data['Thumbnail Url'].head(5)"
      ],
      "metadata": {
        "colab": {
          "base_uri": "https://localhost:8080/"
        },
        "id": "2ZljfVqT9Vk0",
        "outputId": "b61d6b47-ce3e-479a-d624-03dbe5eef9f1"
      },
      "id": "2ZljfVqT9Vk0",
      "execution_count": 57,
      "outputs": [
        {
          "output_type": "execute_result",
          "data": {
            "text/plain": [
              "40    https://a0.muscache.com/im/pictures/86864154/1...\n",
              "41    https://a0.muscache.com/im/pictures/69897767/2...\n",
              "42    https://a0.muscache.com/im/pictures/dbcf7393-b...\n",
              "43    https://a0.muscache.com/im/pictures/59706828/a...\n",
              "44    https://a0.muscache.com/im/pictures/20e6f47e-2...\n",
              "Name: Thumbnail Url, dtype: object"
            ]
          },
          "metadata": {},
          "execution_count": 57
        }
      ]
    },
    {
      "cell_type": "code",
      "source": [
        "# Lista de las columnas tipo objeto que no empiezan con http\n",
        "columnas_objeto = data.select_dtypes(include=['object']).columns[~data.select_dtypes(include=['object']).apply(lambda x: x.str.contains('http')).any()]\n",
        "\n",
        "columnas_objeto"
      ],
      "metadata": {
        "colab": {
          "base_uri": "https://localhost:8080/"
        },
        "id": "K7rgX9FghcG1",
        "outputId": "1b96d445-5896-4303-cc39-c7c809baf501"
      },
      "id": "K7rgX9FghcG1",
      "execution_count": 58,
      "outputs": [
        {
          "output_type": "execute_result",
          "data": {
            "text/plain": [
              "Index(['Host Response Time', 'Neighbourhood', 'Neighbourhood Group Cleansed',\n",
              "       'Property Type', 'Room Type', 'Bed Type', 'Cancellation Policy'],\n",
              "      dtype='object')"
            ]
          },
          "metadata": {},
          "execution_count": 58
        }
      ]
    },
    {
      "cell_type": "code",
      "source": [
        "# Aplico los encoders\n",
        "df_encoded = pd.get_dummies(data, columns=columnas_objeto)\n",
        "df_encoded.head().T"
      ],
      "metadata": {
        "colab": {
          "base_uri": "https://localhost:8080/",
          "height": 1000
        },
        "id": "VkIqIlNHhc0A",
        "outputId": "1f73dc8c-e711-4878-c2ac-533cd14293fa"
      },
      "id": "VkIqIlNHhc0A",
      "execution_count": 59,
      "outputs": [
        {
          "output_type": "execute_result",
          "data": {
            "text/plain": [
              "                                                                                                   40  \\\n",
              "ID                                                                                            6478626   \n",
              "Host ID                                                                                      25709853   \n",
              "Host Response Rate                                                                               84.0   \n",
              "Host Listings Count                                                                               3.0   \n",
              "Host Total Listings Count                                                                         3.0   \n",
              "Zipcode                                                                                         28007   \n",
              "Latitude                                                                                    40.406953   \n",
              "Longitude                                                                                   -3.670894   \n",
              "Accommodates                                                                                        2   \n",
              "Bathrooms                                                                                         2.0   \n",
              "Bedrooms                                                                                          1.0   \n",
              "Beds                                                                                              1.0   \n",
              "Price                                                                                            28.0   \n",
              "Guests Included                                                                                     1   \n",
              "Extra People                                                                                        5   \n",
              "Minimum Nights                                                                                      1   \n",
              "Maximum Nights                                                                                   1125   \n",
              "Availability 30                                                                                     0   \n",
              "Availability 60                                                                                     3   \n",
              "Availability 90                                                                                    12   \n",
              "Availability 365                                                                                  240   \n",
              "Number of Reviews                                                                                 171   \n",
              "Review Scores Rating                                                                             87.0   \n",
              "Review Scores Accuracy                                                                            9.0   \n",
              "Review Scores Cleanliness                                                                         9.0   \n",
              "Review Scores Checkin                                                                             9.0   \n",
              "Review Scores Communication                                                                       9.0   \n",
              "Review Scores Location                                                                            9.0   \n",
              "Review Scores Value                                                                               9.0   \n",
              "Calculated host listings count                                                                    3.0   \n",
              "Reviews per Month                                                                                7.71   \n",
              "Host Since_year                                                                                2015.0   \n",
              "Host Since_month                                                                                  1.0   \n",
              "Host Since_day                                                                                    6.0   \n",
              "First Review_year                                                                              2015.0   \n",
              "First Review_month                                                                                6.0   \n",
              "First Review_day                                                                                 14.0   \n",
              "Last Review_year                                                                               2017.0   \n",
              "Last Review_month                                                                                 3.0   \n",
              "Last Review_day                                                                                  22.0   \n",
              "Thumbnail Url                                       https://a0.muscache.com/im/pictures/86864154/1...   \n",
              "Medium Url                                          https://a0.muscache.com/im/pictures/86864154/1...   \n",
              "Picture Url                                         https://public.opendatasoft.com/api/v2/catalog...   \n",
              "XL Picture Url                                      https://a0.muscache.com/im/pictures/86864154/1...   \n",
              "Host Thumbnail Url                                  https://a0.muscache.com/im/users/25709853/prof...   \n",
              "Host Picture Url                                    https://a0.muscache.com/im/users/25709853/prof...   \n",
              "Host Response Time_a few days or more                                                               0   \n",
              "Host Response Time_within a day                                                                     0   \n",
              "Host Response Time_within a few hours                                                               0   \n",
              "Host Response Time_within an hour                                                                   1   \n",
              "Neighbourhood_Acacias                                                                               0   \n",
              "Neighbourhood_Adelfas                                                                               0   \n",
              "Neighbourhood_Almagro                                                                               0   \n",
              "Neighbourhood_Almenara                                                                              0   \n",
              "Neighbourhood_Aluche                                                                                0   \n",
              "Neighbourhood_Arapiles                                                                              0   \n",
              "Neighbourhood_Arganzuela                                                                            0   \n",
              "Neighbourhood_Argüelles                                                                             0   \n",
              "Neighbourhood_Atocha                                                                                0   \n",
              "Neighbourhood_Barajas                                                                               0   \n",
              "Neighbourhood_Bellas Vistas                                                                         0   \n",
              "Neighbourhood_Berruguete                                                                            0   \n",
              "Neighbourhood_Carabanchel                                                                           0   \n",
              "Neighbourhood_Castellana                                                                            0   \n",
              "Neighbourhood_Castilla                                                                              0   \n",
              "Neighbourhood_Castillejos                                                                           0   \n",
              "Neighbourhood_Centro                                                                                0   \n",
              "Neighbourhood_Chamberí                                                                              0   \n",
              "Neighbourhood_Ciudad Jardin                                                                         0   \n",
              "Neighbourhood_Ciudad Lineal                                                                         0   \n",
              "Neighbourhood_Cortes                                                                                0   \n",
              "Neighbourhood_Cuatro Caminos                                                                        0   \n",
              "Neighbourhood_Delicias                                                                              0   \n",
              "Neighbourhood_El Tréntaiseis                                                                        0   \n",
              "Neighbourhood_El Viso                                                                               0   \n",
              "Neighbourhood_Embajadores                                                                           0   \n",
              "Neighbourhood_Estrella                                                                              0   \n",
              "Neighbourhood_Fuencarral-El Pardo                                                                   0   \n",
              "Neighbourhood_Fuencarral-el Pardo                                                                   0   \n",
              "Neighbourhood_Fuente del Berro                                                                      0   \n",
              "Neighbourhood_Gaztambide                                                                            0   \n",
              "Neighbourhood_Goya                                                                                  0   \n",
              "Neighbourhood_Guindalera                                                                            0   \n",
              "Neighbourhood_Hispanoamérica                                                                        0   \n",
              "Neighbourhood_Hortaleza                                                                             0   \n",
              "Neighbourhood_Ibiza                                                                                 0   \n",
              "Neighbourhood_Imperial                                                                              0   \n",
              "Neighbourhood_Jerónimos                                                                             0   \n",
              "Neighbourhood_Justicia                                                                              0   \n",
              "Neighbourhood_La Chopera                                                                            0   \n",
              "Neighbourhood_La Latina                                                                             0   \n",
              "Neighbourhood_Legazpi                                                                               0   \n",
              "Neighbourhood_Lista                                                                                 0   \n",
              "Neighbourhood_Malasaña                                                                              0   \n",
              "Neighbourhood_Moncloa                                                                               0   \n",
              "Neighbourhood_Moratalaz                                                                             0   \n",
              "Neighbourhood_Nueva España                                                                          0   \n",
              "Neighbourhood_Pacifico                                                                              0   \n",
              "Neighbourhood_Palacio                                                                               0   \n",
              "Neighbourhood_Palos do Moguer                                                                       0   \n",
              "Neighbourhood_Prosperidad                                                                           0   \n",
              "Neighbourhood_Puente de Vallecas                                                                    0   \n",
              "Neighbourhood_Recoletos                                                                             0   \n",
              "Neighbourhood_Retiro                                                                                0   \n",
              "Neighbourhood_Rios Rosas                                                                            0   \n",
              "Neighbourhood_San Blas                                                                              0   \n",
              "Neighbourhood_Sol                                                                                   0   \n",
              "Neighbourhood_Tetuán                                                                                0   \n",
              "Neighbourhood_Trafalgar                                                                             0   \n",
              "Neighbourhood_Usera                                                                                 0   \n",
              "Neighbourhood_Valdeacederas                                                                         0   \n",
              "Neighbourhood_Vallehermosa                                                                          0   \n",
              "Neighbourhood_Vicálvaro                                                                             0   \n",
              "Neighbourhood_Villa de Vallecas                                                                     0   \n",
              "Neighbourhood_Villaverde                                                                            0   \n",
              "Neighbourhood Group Cleansed_Arganzuela                                                             0   \n",
              "Neighbourhood Group Cleansed_Barajas                                                                0   \n",
              "Neighbourhood Group Cleansed_Carabanchel                                                            0   \n",
              "Neighbourhood Group Cleansed_Centro                                                                 0   \n",
              "Neighbourhood Group Cleansed_Chamartín                                                              0   \n",
              "Neighbourhood Group Cleansed_Chamberí                                                               0   \n",
              "Neighbourhood Group Cleansed_Ciudad Lineal                                                          0   \n",
              "Neighbourhood Group Cleansed_Fuencarral - El Pardo                                                  0   \n",
              "Neighbourhood Group Cleansed_Hortaleza                                                              0   \n",
              "Neighbourhood Group Cleansed_Latina                                                                 0   \n",
              "Neighbourhood Group Cleansed_Moncloa - Aravaca                                                      0   \n",
              "Neighbourhood Group Cleansed_Moratalaz                                                              0   \n",
              "Neighbourhood Group Cleansed_Puente de Vallecas                                                     0   \n",
              "Neighbourhood Group Cleansed_Retiro                                                                 1   \n",
              "Neighbourhood Group Cleansed_Salamanca                                                              0   \n",
              "Neighbourhood Group Cleansed_San Blas - Canillejas                                                  0   \n",
              "Neighbourhood Group Cleansed_Tetuán                                                                 0   \n",
              "Neighbourhood Group Cleansed_Usera                                                                  0   \n",
              "Neighbourhood Group Cleansed_Vicálvaro                                                              0   \n",
              "Neighbourhood Group Cleansed_Villa de Vallecas                                                      0   \n",
              "Neighbourhood Group Cleansed_Villaverde                                                             0   \n",
              "Property Type_Apartment                                                                             1   \n",
              "Property Type_Bed & Breakfast                                                                       0   \n",
              "Property Type_Boat                                                                                  0   \n",
              "Property Type_Boutique hotel                                                                        0   \n",
              "Property Type_Bungalow                                                                              0   \n",
              "Property Type_Camper/RV                                                                             0   \n",
              "Property Type_Casa particular                                                                       0   \n",
              "Property Type_Chalet                                                                                0   \n",
              "Property Type_Condominium                                                                           0   \n",
              "Property Type_Dorm                                                                                  0   \n",
              "Property Type_Earth House                                                                           0   \n",
              "Property Type_Guest suite                                                                           0   \n",
              "Property Type_Guesthouse                                                                            0   \n",
              "Property Type_Hostel                                                                                0   \n",
              "Property Type_House                                                                                 0   \n",
              "Property Type_Loft                                                                                  0   \n",
              "Property Type_Other                                                                                 0   \n",
              "Property Type_Serviced apartment                                                                    0   \n",
              "Property Type_Tent                                                                                  0   \n",
              "Property Type_Timeshare                                                                             0   \n",
              "Property Type_Townhouse                                                                             0   \n",
              "Property Type_Villa                                                                                 0   \n",
              "Room Type_Entire home/apt                                                                           0   \n",
              "Room Type_Private room                                                                              1   \n",
              "Room Type_Shared room                                                                               0   \n",
              "Bed Type_Airbed                                                                                     0   \n",
              "Bed Type_Couch                                                                                      0   \n",
              "Bed Type_Futon                                                                                      0   \n",
              "Bed Type_Pull-out Sofa                                                                              0   \n",
              "Bed Type_Real Bed                                                                                   1   \n",
              "Cancellation Policy_flexible                                                                        1   \n",
              "Cancellation Policy_moderate                                                                        0   \n",
              "Cancellation Policy_strict                                                                          0   \n",
              "Cancellation Policy_super_strict_30                                                                 0   \n",
              "Cancellation Policy_super_strict_60                                                                 0   \n",
              "\n",
              "                                                                                                   41  \\\n",
              "ID                                                                                            4941335   \n",
              "Host ID                                                                                      25465787   \n",
              "Host Response Rate                                                                              100.0   \n",
              "Host Listings Count                                                                               1.0   \n",
              "Host Total Listings Count                                                                         1.0   \n",
              "Zipcode                                                                                         28001   \n",
              "Latitude                                                                                    40.425904   \n",
              "Longitude                                                                                   -3.681647   \n",
              "Accommodates                                                                                        2   \n",
              "Bathrooms                                                                                         1.0   \n",
              "Bedrooms                                                                                          0.0   \n",
              "Beds                                                                                              1.0   \n",
              "Price                                                                                            58.0   \n",
              "Guests Included                                                                                     1   \n",
              "Extra People                                                                                        0   \n",
              "Minimum Nights                                                                                      2   \n",
              "Maximum Nights                                                                                   1125   \n",
              "Availability 30                                                                                     4   \n",
              "Availability 60                                                                                     9   \n",
              "Availability 90                                                                                     9   \n",
              "Availability 365                                                                                   15   \n",
              "Number of Reviews                                                                                  52   \n",
              "Review Scores Rating                                                                             96.0   \n",
              "Review Scores Accuracy                                                                           10.0   \n",
              "Review Scores Cleanliness                                                                        10.0   \n",
              "Review Scores Checkin                                                                            10.0   \n",
              "Review Scores Communication                                                                      10.0   \n",
              "Review Scores Location                                                                           10.0   \n",
              "Review Scores Value                                                                              10.0   \n",
              "Calculated host listings count                                                                    1.0   \n",
              "Reviews per Month                                                                                2.03   \n",
              "Host Since_year                                                                                2015.0   \n",
              "Host Since_month                                                                                  1.0   \n",
              "Host Since_day                                                                                    1.0   \n",
              "First Review_year                                                                              2015.0   \n",
              "First Review_month                                                                                3.0   \n",
              "First Review_day                                                                                  2.0   \n",
              "Last Review_year                                                                               2017.0   \n",
              "Last Review_month                                                                                 2.0   \n",
              "Last Review_day                                                                                  12.0   \n",
              "Thumbnail Url                                       https://a0.muscache.com/im/pictures/69897767/2...   \n",
              "Medium Url                                          https://a0.muscache.com/im/pictures/69897767/2...   \n",
              "Picture Url                                         https://public.opendatasoft.com/api/v2/catalog...   \n",
              "XL Picture Url                                      https://a0.muscache.com/im/pictures/69897767/2...   \n",
              "Host Thumbnail Url                                  https://a0.muscache.com/im/users/25465787/prof...   \n",
              "Host Picture Url                                    https://a0.muscache.com/im/users/25465787/prof...   \n",
              "Host Response Time_a few days or more                                                               0   \n",
              "Host Response Time_within a day                                                                     0   \n",
              "Host Response Time_within a few hours                                                               1   \n",
              "Host Response Time_within an hour                                                                   0   \n",
              "Neighbourhood_Acacias                                                                               0   \n",
              "Neighbourhood_Adelfas                                                                               0   \n",
              "Neighbourhood_Almagro                                                                               0   \n",
              "Neighbourhood_Almenara                                                                              0   \n",
              "Neighbourhood_Aluche                                                                                0   \n",
              "Neighbourhood_Arapiles                                                                              0   \n",
              "Neighbourhood_Arganzuela                                                                            0   \n",
              "Neighbourhood_Argüelles                                                                             0   \n",
              "Neighbourhood_Atocha                                                                                0   \n",
              "Neighbourhood_Barajas                                                                               0   \n",
              "Neighbourhood_Bellas Vistas                                                                         0   \n",
              "Neighbourhood_Berruguete                                                                            0   \n",
              "Neighbourhood_Carabanchel                                                                           0   \n",
              "Neighbourhood_Castellana                                                                            0   \n",
              "Neighbourhood_Castilla                                                                              0   \n",
              "Neighbourhood_Castillejos                                                                           0   \n",
              "Neighbourhood_Centro                                                                                0   \n",
              "Neighbourhood_Chamberí                                                                              0   \n",
              "Neighbourhood_Ciudad Jardin                                                                         0   \n",
              "Neighbourhood_Ciudad Lineal                                                                         0   \n",
              "Neighbourhood_Cortes                                                                                0   \n",
              "Neighbourhood_Cuatro Caminos                                                                        0   \n",
              "Neighbourhood_Delicias                                                                              0   \n",
              "Neighbourhood_El Tréntaiseis                                                                        0   \n",
              "Neighbourhood_El Viso                                                                               0   \n",
              "Neighbourhood_Embajadores                                                                           0   \n",
              "Neighbourhood_Estrella                                                                              0   \n",
              "Neighbourhood_Fuencarral-El Pardo                                                                   0   \n",
              "Neighbourhood_Fuencarral-el Pardo                                                                   0   \n",
              "Neighbourhood_Fuente del Berro                                                                      0   \n",
              "Neighbourhood_Gaztambide                                                                            0   \n",
              "Neighbourhood_Goya                                                                                  0   \n",
              "Neighbourhood_Guindalera                                                                            0   \n",
              "Neighbourhood_Hispanoamérica                                                                        0   \n",
              "Neighbourhood_Hortaleza                                                                             0   \n",
              "Neighbourhood_Ibiza                                                                                 0   \n",
              "Neighbourhood_Imperial                                                                              0   \n",
              "Neighbourhood_Jerónimos                                                                             0   \n",
              "Neighbourhood_Justicia                                                                              0   \n",
              "Neighbourhood_La Chopera                                                                            0   \n",
              "Neighbourhood_La Latina                                                                             0   \n",
              "Neighbourhood_Legazpi                                                                               0   \n",
              "Neighbourhood_Lista                                                                                 0   \n",
              "Neighbourhood_Malasaña                                                                              0   \n",
              "Neighbourhood_Moncloa                                                                               0   \n",
              "Neighbourhood_Moratalaz                                                                             0   \n",
              "Neighbourhood_Nueva España                                                                          0   \n",
              "Neighbourhood_Pacifico                                                                              0   \n",
              "Neighbourhood_Palacio                                                                               0   \n",
              "Neighbourhood_Palos do Moguer                                                                       0   \n",
              "Neighbourhood_Prosperidad                                                                           0   \n",
              "Neighbourhood_Puente de Vallecas                                                                    0   \n",
              "Neighbourhood_Recoletos                                                                             1   \n",
              "Neighbourhood_Retiro                                                                                0   \n",
              "Neighbourhood_Rios Rosas                                                                            0   \n",
              "Neighbourhood_San Blas                                                                              0   \n",
              "Neighbourhood_Sol                                                                                   0   \n",
              "Neighbourhood_Tetuán                                                                                0   \n",
              "Neighbourhood_Trafalgar                                                                             0   \n",
              "Neighbourhood_Usera                                                                                 0   \n",
              "Neighbourhood_Valdeacederas                                                                         0   \n",
              "Neighbourhood_Vallehermosa                                                                          0   \n",
              "Neighbourhood_Vicálvaro                                                                             0   \n",
              "Neighbourhood_Villa de Vallecas                                                                     0   \n",
              "Neighbourhood_Villaverde                                                                            0   \n",
              "Neighbourhood Group Cleansed_Arganzuela                                                             0   \n",
              "Neighbourhood Group Cleansed_Barajas                                                                0   \n",
              "Neighbourhood Group Cleansed_Carabanchel                                                            0   \n",
              "Neighbourhood Group Cleansed_Centro                                                                 0   \n",
              "Neighbourhood Group Cleansed_Chamartín                                                              0   \n",
              "Neighbourhood Group Cleansed_Chamberí                                                               0   \n",
              "Neighbourhood Group Cleansed_Ciudad Lineal                                                          0   \n",
              "Neighbourhood Group Cleansed_Fuencarral - El Pardo                                                  0   \n",
              "Neighbourhood Group Cleansed_Hortaleza                                                              0   \n",
              "Neighbourhood Group Cleansed_Latina                                                                 0   \n",
              "Neighbourhood Group Cleansed_Moncloa - Aravaca                                                      0   \n",
              "Neighbourhood Group Cleansed_Moratalaz                                                              0   \n",
              "Neighbourhood Group Cleansed_Puente de Vallecas                                                     0   \n",
              "Neighbourhood Group Cleansed_Retiro                                                                 0   \n",
              "Neighbourhood Group Cleansed_Salamanca                                                              1   \n",
              "Neighbourhood Group Cleansed_San Blas - Canillejas                                                  0   \n",
              "Neighbourhood Group Cleansed_Tetuán                                                                 0   \n",
              "Neighbourhood Group Cleansed_Usera                                                                  0   \n",
              "Neighbourhood Group Cleansed_Vicálvaro                                                              0   \n",
              "Neighbourhood Group Cleansed_Villa de Vallecas                                                      0   \n",
              "Neighbourhood Group Cleansed_Villaverde                                                             0   \n",
              "Property Type_Apartment                                                                             1   \n",
              "Property Type_Bed & Breakfast                                                                       0   \n",
              "Property Type_Boat                                                                                  0   \n",
              "Property Type_Boutique hotel                                                                        0   \n",
              "Property Type_Bungalow                                                                              0   \n",
              "Property Type_Camper/RV                                                                             0   \n",
              "Property Type_Casa particular                                                                       0   \n",
              "Property Type_Chalet                                                                                0   \n",
              "Property Type_Condominium                                                                           0   \n",
              "Property Type_Dorm                                                                                  0   \n",
              "Property Type_Earth House                                                                           0   \n",
              "Property Type_Guest suite                                                                           0   \n",
              "Property Type_Guesthouse                                                                            0   \n",
              "Property Type_Hostel                                                                                0   \n",
              "Property Type_House                                                                                 0   \n",
              "Property Type_Loft                                                                                  0   \n",
              "Property Type_Other                                                                                 0   \n",
              "Property Type_Serviced apartment                                                                    0   \n",
              "Property Type_Tent                                                                                  0   \n",
              "Property Type_Timeshare                                                                             0   \n",
              "Property Type_Townhouse                                                                             0   \n",
              "Property Type_Villa                                                                                 0   \n",
              "Room Type_Entire home/apt                                                                           1   \n",
              "Room Type_Private room                                                                              0   \n",
              "Room Type_Shared room                                                                               0   \n",
              "Bed Type_Airbed                                                                                     0   \n",
              "Bed Type_Couch                                                                                      0   \n",
              "Bed Type_Futon                                                                                      0   \n",
              "Bed Type_Pull-out Sofa                                                                              0   \n",
              "Bed Type_Real Bed                                                                                   1   \n",
              "Cancellation Policy_flexible                                                                        0   \n",
              "Cancellation Policy_moderate                                                                        1   \n",
              "Cancellation Policy_strict                                                                          0   \n",
              "Cancellation Policy_super_strict_30                                                                 0   \n",
              "Cancellation Policy_super_strict_60                                                                 0   \n",
              "\n",
              "                                                                                                   42  \\\n",
              "ID                                                                                           12510355   \n",
              "Host ID                                                                                      67750039   \n",
              "Host Response Rate                                                                              100.0   \n",
              "Host Listings Count                                                                               2.0   \n",
              "Host Total Listings Count                                                                         2.0   \n",
              "Zipcode                                                                                         28001   \n",
              "Latitude                                                                                    40.428352   \n",
              "Longitude                                                                                   -3.687155   \n",
              "Accommodates                                                                                        3   \n",
              "Bathrooms                                                                                         1.0   \n",
              "Bedrooms                                                                                          0.0   \n",
              "Beds                                                                                              2.0   \n",
              "Price                                                                                            70.0   \n",
              "Guests Included                                                                                     2   \n",
              "Extra People                                                                                       15   \n",
              "Minimum Nights                                                                                      2   \n",
              "Maximum Nights                                                                                   1125   \n",
              "Availability 30                                                                                     7   \n",
              "Availability 60                                                                                    15   \n",
              "Availability 90                                                                                    32   \n",
              "Availability 365                                                                                  292   \n",
              "Number of Reviews                                                                                  36   \n",
              "Review Scores Rating                                                                             87.0   \n",
              "Review Scores Accuracy                                                                            9.0   \n",
              "Review Scores Cleanliness                                                                         9.0   \n",
              "Review Scores Checkin                                                                            10.0   \n",
              "Review Scores Communication                                                                      10.0   \n",
              "Review Scores Location                                                                           10.0   \n",
              "Review Scores Value                                                                               9.0   \n",
              "Calculated host listings count                                                                    1.0   \n",
              "Reviews per Month                                                                                3.28   \n",
              "Host Since_year                                                                                2016.0   \n",
              "Host Since_month                                                                                  4.0   \n",
              "Host Since_day                                                                                   18.0   \n",
              "First Review_year                                                                              2016.0   \n",
              "First Review_month                                                                                5.0   \n",
              "First Review_day                                                                                 15.0   \n",
              "Last Review_year                                                                               2017.0   \n",
              "Last Review_month                                                                                 4.0   \n",
              "Last Review_day                                                                                   2.0   \n",
              "Thumbnail Url                                       https://a0.muscache.com/im/pictures/dbcf7393-b...   \n",
              "Medium Url                                          https://a0.muscache.com/im/pictures/dbcf7393-b...   \n",
              "Picture Url                                         https://public.opendatasoft.com/api/v2/catalog...   \n",
              "XL Picture Url                                      https://a0.muscache.com/im/pictures/dbcf7393-b...   \n",
              "Host Thumbnail Url                                  https://a0.muscache.com/im/pictures/bff15a50-2...   \n",
              "Host Picture Url                                    https://a0.muscache.com/im/pictures/bff15a50-2...   \n",
              "Host Response Time_a few days or more                                                               0   \n",
              "Host Response Time_within a day                                                                     0   \n",
              "Host Response Time_within a few hours                                                               0   \n",
              "Host Response Time_within an hour                                                                   1   \n",
              "Neighbourhood_Acacias                                                                               0   \n",
              "Neighbourhood_Adelfas                                                                               0   \n",
              "Neighbourhood_Almagro                                                                               0   \n",
              "Neighbourhood_Almenara                                                                              0   \n",
              "Neighbourhood_Aluche                                                                                0   \n",
              "Neighbourhood_Arapiles                                                                              0   \n",
              "Neighbourhood_Arganzuela                                                                            0   \n",
              "Neighbourhood_Argüelles                                                                             0   \n",
              "Neighbourhood_Atocha                                                                                0   \n",
              "Neighbourhood_Barajas                                                                               0   \n",
              "Neighbourhood_Bellas Vistas                                                                         0   \n",
              "Neighbourhood_Berruguete                                                                            0   \n",
              "Neighbourhood_Carabanchel                                                                           0   \n",
              "Neighbourhood_Castellana                                                                            0   \n",
              "Neighbourhood_Castilla                                                                              0   \n",
              "Neighbourhood_Castillejos                                                                           0   \n",
              "Neighbourhood_Centro                                                                                0   \n",
              "Neighbourhood_Chamberí                                                                              0   \n",
              "Neighbourhood_Ciudad Jardin                                                                         0   \n",
              "Neighbourhood_Ciudad Lineal                                                                         0   \n",
              "Neighbourhood_Cortes                                                                                0   \n",
              "Neighbourhood_Cuatro Caminos                                                                        0   \n",
              "Neighbourhood_Delicias                                                                              0   \n",
              "Neighbourhood_El Tréntaiseis                                                                        0   \n",
              "Neighbourhood_El Viso                                                                               0   \n",
              "Neighbourhood_Embajadores                                                                           0   \n",
              "Neighbourhood_Estrella                                                                              0   \n",
              "Neighbourhood_Fuencarral-El Pardo                                                                   0   \n",
              "Neighbourhood_Fuencarral-el Pardo                                                                   0   \n",
              "Neighbourhood_Fuente del Berro                                                                      0   \n",
              "Neighbourhood_Gaztambide                                                                            0   \n",
              "Neighbourhood_Goya                                                                                  0   \n",
              "Neighbourhood_Guindalera                                                                            0   \n",
              "Neighbourhood_Hispanoamérica                                                                        0   \n",
              "Neighbourhood_Hortaleza                                                                             0   \n",
              "Neighbourhood_Ibiza                                                                                 0   \n",
              "Neighbourhood_Imperial                                                                              0   \n",
              "Neighbourhood_Jerónimos                                                                             0   \n",
              "Neighbourhood_Justicia                                                                              0   \n",
              "Neighbourhood_La Chopera                                                                            0   \n",
              "Neighbourhood_La Latina                                                                             0   \n",
              "Neighbourhood_Legazpi                                                                               0   \n",
              "Neighbourhood_Lista                                                                                 0   \n",
              "Neighbourhood_Malasaña                                                                              0   \n",
              "Neighbourhood_Moncloa                                                                               0   \n",
              "Neighbourhood_Moratalaz                                                                             0   \n",
              "Neighbourhood_Nueva España                                                                          0   \n",
              "Neighbourhood_Pacifico                                                                              0   \n",
              "Neighbourhood_Palacio                                                                               0   \n",
              "Neighbourhood_Palos do Moguer                                                                       0   \n",
              "Neighbourhood_Prosperidad                                                                           0   \n",
              "Neighbourhood_Puente de Vallecas                                                                    0   \n",
              "Neighbourhood_Recoletos                                                                             1   \n",
              "Neighbourhood_Retiro                                                                                0   \n",
              "Neighbourhood_Rios Rosas                                                                            0   \n",
              "Neighbourhood_San Blas                                                                              0   \n",
              "Neighbourhood_Sol                                                                                   0   \n",
              "Neighbourhood_Tetuán                                                                                0   \n",
              "Neighbourhood_Trafalgar                                                                             0   \n",
              "Neighbourhood_Usera                                                                                 0   \n",
              "Neighbourhood_Valdeacederas                                                                         0   \n",
              "Neighbourhood_Vallehermosa                                                                          0   \n",
              "Neighbourhood_Vicálvaro                                                                             0   \n",
              "Neighbourhood_Villa de Vallecas                                                                     0   \n",
              "Neighbourhood_Villaverde                                                                            0   \n",
              "Neighbourhood Group Cleansed_Arganzuela                                                             0   \n",
              "Neighbourhood Group Cleansed_Barajas                                                                0   \n",
              "Neighbourhood Group Cleansed_Carabanchel                                                            0   \n",
              "Neighbourhood Group Cleansed_Centro                                                                 0   \n",
              "Neighbourhood Group Cleansed_Chamartín                                                              0   \n",
              "Neighbourhood Group Cleansed_Chamberí                                                               0   \n",
              "Neighbourhood Group Cleansed_Ciudad Lineal                                                          0   \n",
              "Neighbourhood Group Cleansed_Fuencarral - El Pardo                                                  0   \n",
              "Neighbourhood Group Cleansed_Hortaleza                                                              0   \n",
              "Neighbourhood Group Cleansed_Latina                                                                 0   \n",
              "Neighbourhood Group Cleansed_Moncloa - Aravaca                                                      0   \n",
              "Neighbourhood Group Cleansed_Moratalaz                                                              0   \n",
              "Neighbourhood Group Cleansed_Puente de Vallecas                                                     0   \n",
              "Neighbourhood Group Cleansed_Retiro                                                                 0   \n",
              "Neighbourhood Group Cleansed_Salamanca                                                              1   \n",
              "Neighbourhood Group Cleansed_San Blas - Canillejas                                                  0   \n",
              "Neighbourhood Group Cleansed_Tetuán                                                                 0   \n",
              "Neighbourhood Group Cleansed_Usera                                                                  0   \n",
              "Neighbourhood Group Cleansed_Vicálvaro                                                              0   \n",
              "Neighbourhood Group Cleansed_Villa de Vallecas                                                      0   \n",
              "Neighbourhood Group Cleansed_Villaverde                                                             0   \n",
              "Property Type_Apartment                                                                             1   \n",
              "Property Type_Bed & Breakfast                                                                       0   \n",
              "Property Type_Boat                                                                                  0   \n",
              "Property Type_Boutique hotel                                                                        0   \n",
              "Property Type_Bungalow                                                                              0   \n",
              "Property Type_Camper/RV                                                                             0   \n",
              "Property Type_Casa particular                                                                       0   \n",
              "Property Type_Chalet                                                                                0   \n",
              "Property Type_Condominium                                                                           0   \n",
              "Property Type_Dorm                                                                                  0   \n",
              "Property Type_Earth House                                                                           0   \n",
              "Property Type_Guest suite                                                                           0   \n",
              "Property Type_Guesthouse                                                                            0   \n",
              "Property Type_Hostel                                                                                0   \n",
              "Property Type_House                                                                                 0   \n",
              "Property Type_Loft                                                                                  0   \n",
              "Property Type_Other                                                                                 0   \n",
              "Property Type_Serviced apartment                                                                    0   \n",
              "Property Type_Tent                                                                                  0   \n",
              "Property Type_Timeshare                                                                             0   \n",
              "Property Type_Townhouse                                                                             0   \n",
              "Property Type_Villa                                                                                 0   \n",
              "Room Type_Entire home/apt                                                                           1   \n",
              "Room Type_Private room                                                                              0   \n",
              "Room Type_Shared room                                                                               0   \n",
              "Bed Type_Airbed                                                                                     0   \n",
              "Bed Type_Couch                                                                                      0   \n",
              "Bed Type_Futon                                                                                      0   \n",
              "Bed Type_Pull-out Sofa                                                                              0   \n",
              "Bed Type_Real Bed                                                                                   1   \n",
              "Cancellation Policy_flexible                                                                        1   \n",
              "Cancellation Policy_moderate                                                                        0   \n",
              "Cancellation Policy_strict                                                                          0   \n",
              "Cancellation Policy_super_strict_30                                                                 0   \n",
              "Cancellation Policy_super_strict_60                                                                 0   \n",
              "\n",
              "                                                                                                   43  \\\n",
              "ID                                                                                            4756811   \n",
              "Host ID                                                                                       3511249   \n",
              "Host Response Rate                                                                              100.0   \n",
              "Host Listings Count                                                                               8.0   \n",
              "Host Total Listings Count                                                                         8.0   \n",
              "Zipcode                                                                                         28001   \n",
              "Latitude                                                                                    40.427454   \n",
              "Longitude                                                                                   -3.685763   \n",
              "Accommodates                                                                                        1   \n",
              "Bathrooms                                                                                         1.0   \n",
              "Bedrooms                                                                                          1.0   \n",
              "Beds                                                                                              1.0   \n",
              "Price                                                                                            26.0   \n",
              "Guests Included                                                                                     1   \n",
              "Extra People                                                                                        0   \n",
              "Minimum Nights                                                                                      7   \n",
              "Maximum Nights                                                                                   1125   \n",
              "Availability 30                                                                                    14   \n",
              "Availability 60                                                                                    37   \n",
              "Availability 90                                                                                    59   \n",
              "Availability 365                                                                                  334   \n",
              "Number of Reviews                                                                                  15   \n",
              "Review Scores Rating                                                                             95.0   \n",
              "Review Scores Accuracy                                                                           10.0   \n",
              "Review Scores Cleanliness                                                                         9.0   \n",
              "Review Scores Checkin                                                                            10.0   \n",
              "Review Scores Communication                                                                      10.0   \n",
              "Review Scores Location                                                                           10.0   \n",
              "Review Scores Value                                                                               9.0   \n",
              "Calculated host listings count                                                                    7.0   \n",
              "Reviews per Month                                                                                0.57   \n",
              "Host Since_year                                                                                2012.0   \n",
              "Host Since_month                                                                                  9.0   \n",
              "Host Since_day                                                                                    8.0   \n",
              "First Review_year                                                                              2015.0   \n",
              "First Review_month                                                                                2.0   \n",
              "First Review_day                                                                                  5.0   \n",
              "Last Review_year                                                                               2016.0   \n",
              "Last Review_month                                                                                11.0   \n",
              "Last Review_day                                                                                   5.0   \n",
              "Thumbnail Url                                       https://a0.muscache.com/im/pictures/59706828/a...   \n",
              "Medium Url                                          https://a0.muscache.com/im/pictures/59706828/a...   \n",
              "Picture Url                                         https://public.opendatasoft.com/api/v2/catalog...   \n",
              "XL Picture Url                                      https://a0.muscache.com/im/pictures/59706828/a...   \n",
              "Host Thumbnail Url                                  https://a0.muscache.com/im/users/3511249/profi...   \n",
              "Host Picture Url                                    https://a0.muscache.com/im/users/3511249/profi...   \n",
              "Host Response Time_a few days or more                                                               0   \n",
              "Host Response Time_within a day                                                                     0   \n",
              "Host Response Time_within a few hours                                                               0   \n",
              "Host Response Time_within an hour                                                                   1   \n",
              "Neighbourhood_Acacias                                                                               0   \n",
              "Neighbourhood_Adelfas                                                                               0   \n",
              "Neighbourhood_Almagro                                                                               0   \n",
              "Neighbourhood_Almenara                                                                              0   \n",
              "Neighbourhood_Aluche                                                                                0   \n",
              "Neighbourhood_Arapiles                                                                              0   \n",
              "Neighbourhood_Arganzuela                                                                            0   \n",
              "Neighbourhood_Argüelles                                                                             0   \n",
              "Neighbourhood_Atocha                                                                                0   \n",
              "Neighbourhood_Barajas                                                                               0   \n",
              "Neighbourhood_Bellas Vistas                                                                         0   \n",
              "Neighbourhood_Berruguete                                                                            0   \n",
              "Neighbourhood_Carabanchel                                                                           0   \n",
              "Neighbourhood_Castellana                                                                            0   \n",
              "Neighbourhood_Castilla                                                                              0   \n",
              "Neighbourhood_Castillejos                                                                           0   \n",
              "Neighbourhood_Centro                                                                                0   \n",
              "Neighbourhood_Chamberí                                                                              0   \n",
              "Neighbourhood_Ciudad Jardin                                                                         0   \n",
              "Neighbourhood_Ciudad Lineal                                                                         0   \n",
              "Neighbourhood_Cortes                                                                                0   \n",
              "Neighbourhood_Cuatro Caminos                                                                        0   \n",
              "Neighbourhood_Delicias                                                                              0   \n",
              "Neighbourhood_El Tréntaiseis                                                                        0   \n",
              "Neighbourhood_El Viso                                                                               0   \n",
              "Neighbourhood_Embajadores                                                                           0   \n",
              "Neighbourhood_Estrella                                                                              0   \n",
              "Neighbourhood_Fuencarral-El Pardo                                                                   0   \n",
              "Neighbourhood_Fuencarral-el Pardo                                                                   0   \n",
              "Neighbourhood_Fuente del Berro                                                                      0   \n",
              "Neighbourhood_Gaztambide                                                                            0   \n",
              "Neighbourhood_Goya                                                                                  0   \n",
              "Neighbourhood_Guindalera                                                                            0   \n",
              "Neighbourhood_Hispanoamérica                                                                        0   \n",
              "Neighbourhood_Hortaleza                                                                             0   \n",
              "Neighbourhood_Ibiza                                                                                 0   \n",
              "Neighbourhood_Imperial                                                                              0   \n",
              "Neighbourhood_Jerónimos                                                                             0   \n",
              "Neighbourhood_Justicia                                                                              0   \n",
              "Neighbourhood_La Chopera                                                                            0   \n",
              "Neighbourhood_La Latina                                                                             0   \n",
              "Neighbourhood_Legazpi                                                                               0   \n",
              "Neighbourhood_Lista                                                                                 0   \n",
              "Neighbourhood_Malasaña                                                                              0   \n",
              "Neighbourhood_Moncloa                                                                               0   \n",
              "Neighbourhood_Moratalaz                                                                             0   \n",
              "Neighbourhood_Nueva España                                                                          0   \n",
              "Neighbourhood_Pacifico                                                                              0   \n",
              "Neighbourhood_Palacio                                                                               0   \n",
              "Neighbourhood_Palos do Moguer                                                                       0   \n",
              "Neighbourhood_Prosperidad                                                                           0   \n",
              "Neighbourhood_Puente de Vallecas                                                                    0   \n",
              "Neighbourhood_Recoletos                                                                             1   \n",
              "Neighbourhood_Retiro                                                                                0   \n",
              "Neighbourhood_Rios Rosas                                                                            0   \n",
              "Neighbourhood_San Blas                                                                              0   \n",
              "Neighbourhood_Sol                                                                                   0   \n",
              "Neighbourhood_Tetuán                                                                                0   \n",
              "Neighbourhood_Trafalgar                                                                             0   \n",
              "Neighbourhood_Usera                                                                                 0   \n",
              "Neighbourhood_Valdeacederas                                                                         0   \n",
              "Neighbourhood_Vallehermosa                                                                          0   \n",
              "Neighbourhood_Vicálvaro                                                                             0   \n",
              "Neighbourhood_Villa de Vallecas                                                                     0   \n",
              "Neighbourhood_Villaverde                                                                            0   \n",
              "Neighbourhood Group Cleansed_Arganzuela                                                             0   \n",
              "Neighbourhood Group Cleansed_Barajas                                                                0   \n",
              "Neighbourhood Group Cleansed_Carabanchel                                                            0   \n",
              "Neighbourhood Group Cleansed_Centro                                                                 0   \n",
              "Neighbourhood Group Cleansed_Chamartín                                                              0   \n",
              "Neighbourhood Group Cleansed_Chamberí                                                               0   \n",
              "Neighbourhood Group Cleansed_Ciudad Lineal                                                          0   \n",
              "Neighbourhood Group Cleansed_Fuencarral - El Pardo                                                  0   \n",
              "Neighbourhood Group Cleansed_Hortaleza                                                              0   \n",
              "Neighbourhood Group Cleansed_Latina                                                                 0   \n",
              "Neighbourhood Group Cleansed_Moncloa - Aravaca                                                      0   \n",
              "Neighbourhood Group Cleansed_Moratalaz                                                              0   \n",
              "Neighbourhood Group Cleansed_Puente de Vallecas                                                     0   \n",
              "Neighbourhood Group Cleansed_Retiro                                                                 0   \n",
              "Neighbourhood Group Cleansed_Salamanca                                                              1   \n",
              "Neighbourhood Group Cleansed_San Blas - Canillejas                                                  0   \n",
              "Neighbourhood Group Cleansed_Tetuán                                                                 0   \n",
              "Neighbourhood Group Cleansed_Usera                                                                  0   \n",
              "Neighbourhood Group Cleansed_Vicálvaro                                                              0   \n",
              "Neighbourhood Group Cleansed_Villa de Vallecas                                                      0   \n",
              "Neighbourhood Group Cleansed_Villaverde                                                             0   \n",
              "Property Type_Apartment                                                                             1   \n",
              "Property Type_Bed & Breakfast                                                                       0   \n",
              "Property Type_Boat                                                                                  0   \n",
              "Property Type_Boutique hotel                                                                        0   \n",
              "Property Type_Bungalow                                                                              0   \n",
              "Property Type_Camper/RV                                                                             0   \n",
              "Property Type_Casa particular                                                                       0   \n",
              "Property Type_Chalet                                                                                0   \n",
              "Property Type_Condominium                                                                           0   \n",
              "Property Type_Dorm                                                                                  0   \n",
              "Property Type_Earth House                                                                           0   \n",
              "Property Type_Guest suite                                                                           0   \n",
              "Property Type_Guesthouse                                                                            0   \n",
              "Property Type_Hostel                                                                                0   \n",
              "Property Type_House                                                                                 0   \n",
              "Property Type_Loft                                                                                  0   \n",
              "Property Type_Other                                                                                 0   \n",
              "Property Type_Serviced apartment                                                                    0   \n",
              "Property Type_Tent                                                                                  0   \n",
              "Property Type_Timeshare                                                                             0   \n",
              "Property Type_Townhouse                                                                             0   \n",
              "Property Type_Villa                                                                                 0   \n",
              "Room Type_Entire home/apt                                                                           0   \n",
              "Room Type_Private room                                                                              1   \n",
              "Room Type_Shared room                                                                               0   \n",
              "Bed Type_Airbed                                                                                     0   \n",
              "Bed Type_Couch                                                                                      0   \n",
              "Bed Type_Futon                                                                                      0   \n",
              "Bed Type_Pull-out Sofa                                                                              0   \n",
              "Bed Type_Real Bed                                                                                   1   \n",
              "Cancellation Policy_flexible                                                                        0   \n",
              "Cancellation Policy_moderate                                                                        0   \n",
              "Cancellation Policy_strict                                                                          1   \n",
              "Cancellation Policy_super_strict_30                                                                 0   \n",
              "Cancellation Policy_super_strict_60                                                                 0   \n",
              "\n",
              "                                                                                                   44  \n",
              "ID                                                                                           15332216  \n",
              "Host ID                                                                                      10812091  \n",
              "Host Response Rate                                                                              100.0  \n",
              "Host Listings Count                                                                               2.0  \n",
              "Host Total Listings Count                                                                         2.0  \n",
              "Zipcode                                                                                         28001  \n",
              "Latitude                                                                                    40.428671  \n",
              "Longitude                                                                                   -3.685423  \n",
              "Accommodates                                                                                        6  \n",
              "Bathrooms                                                                                         1.0  \n",
              "Bedrooms                                                                                          2.0  \n",
              "Beds                                                                                              3.0  \n",
              "Price                                                                                            70.0  \n",
              "Guests Included                                                                                     1  \n",
              "Extra People                                                                                       10  \n",
              "Minimum Nights                                                                                      2  \n",
              "Maximum Nights                                                                                   1125  \n",
              "Availability 30                                                                                     0  \n",
              "Availability 60                                                                                     0  \n",
              "Availability 90                                                                                     0  \n",
              "Availability 365                                                                                   52  \n",
              "Number of Reviews                                                                                   0  \n",
              "Review Scores Rating                                                                              NaN  \n",
              "Review Scores Accuracy                                                                            NaN  \n",
              "Review Scores Cleanliness                                                                         NaN  \n",
              "Review Scores Checkin                                                                             NaN  \n",
              "Review Scores Communication                                                                       NaN  \n",
              "Review Scores Location                                                                            NaN  \n",
              "Review Scores Value                                                                               NaN  \n",
              "Calculated host listings count                                                                    2.0  \n",
              "Reviews per Month                                                                                 NaN  \n",
              "Host Since_year                                                                                2013.0  \n",
              "Host Since_month                                                                                 12.0  \n",
              "Host Since_day                                                                                   25.0  \n",
              "First Review_year                                                                                 NaN  \n",
              "First Review_month                                                                                NaN  \n",
              "First Review_day                                                                                  NaN  \n",
              "Last Review_year                                                                                  NaN  \n",
              "Last Review_month                                                                                 NaN  \n",
              "Last Review_day                                                                                   NaN  \n",
              "Thumbnail Url                                       https://a0.muscache.com/im/pictures/20e6f47e-2...  \n",
              "Medium Url                                          https://a0.muscache.com/im/pictures/20e6f47e-2...  \n",
              "Picture Url                                         https://public.opendatasoft.com/api/v2/catalog...  \n",
              "XL Picture Url                                      https://a0.muscache.com/im/pictures/20e6f47e-2...  \n",
              "Host Thumbnail Url                                  https://a0.muscache.com/im/pictures/0f0f7923-e...  \n",
              "Host Picture Url                                    https://a0.muscache.com/im/pictures/0f0f7923-e...  \n",
              "Host Response Time_a few days or more                                                               0  \n",
              "Host Response Time_within a day                                                                     0  \n",
              "Host Response Time_within a few hours                                                               0  \n",
              "Host Response Time_within an hour                                                                   1  \n",
              "Neighbourhood_Acacias                                                                               0  \n",
              "Neighbourhood_Adelfas                                                                               0  \n",
              "Neighbourhood_Almagro                                                                               0  \n",
              "Neighbourhood_Almenara                                                                              0  \n",
              "Neighbourhood_Aluche                                                                                0  \n",
              "Neighbourhood_Arapiles                                                                              0  \n",
              "Neighbourhood_Arganzuela                                                                            0  \n",
              "Neighbourhood_Argüelles                                                                             0  \n",
              "Neighbourhood_Atocha                                                                                0  \n",
              "Neighbourhood_Barajas                                                                               0  \n",
              "Neighbourhood_Bellas Vistas                                                                         0  \n",
              "Neighbourhood_Berruguete                                                                            0  \n",
              "Neighbourhood_Carabanchel                                                                           0  \n",
              "Neighbourhood_Castellana                                                                            0  \n",
              "Neighbourhood_Castilla                                                                              0  \n",
              "Neighbourhood_Castillejos                                                                           0  \n",
              "Neighbourhood_Centro                                                                                0  \n",
              "Neighbourhood_Chamberí                                                                              0  \n",
              "Neighbourhood_Ciudad Jardin                                                                         0  \n",
              "Neighbourhood_Ciudad Lineal                                                                         0  \n",
              "Neighbourhood_Cortes                                                                                0  \n",
              "Neighbourhood_Cuatro Caminos                                                                        0  \n",
              "Neighbourhood_Delicias                                                                              0  \n",
              "Neighbourhood_El Tréntaiseis                                                                        0  \n",
              "Neighbourhood_El Viso                                                                               0  \n",
              "Neighbourhood_Embajadores                                                                           0  \n",
              "Neighbourhood_Estrella                                                                              0  \n",
              "Neighbourhood_Fuencarral-El Pardo                                                                   0  \n",
              "Neighbourhood_Fuencarral-el Pardo                                                                   0  \n",
              "Neighbourhood_Fuente del Berro                                                                      0  \n",
              "Neighbourhood_Gaztambide                                                                            0  \n",
              "Neighbourhood_Goya                                                                                  0  \n",
              "Neighbourhood_Guindalera                                                                            0  \n",
              "Neighbourhood_Hispanoamérica                                                                        0  \n",
              "Neighbourhood_Hortaleza                                                                             0  \n",
              "Neighbourhood_Ibiza                                                                                 0  \n",
              "Neighbourhood_Imperial                                                                              0  \n",
              "Neighbourhood_Jerónimos                                                                             0  \n",
              "Neighbourhood_Justicia                                                                              0  \n",
              "Neighbourhood_La Chopera                                                                            0  \n",
              "Neighbourhood_La Latina                                                                             0  \n",
              "Neighbourhood_Legazpi                                                                               0  \n",
              "Neighbourhood_Lista                                                                                 0  \n",
              "Neighbourhood_Malasaña                                                                              0  \n",
              "Neighbourhood_Moncloa                                                                               0  \n",
              "Neighbourhood_Moratalaz                                                                             0  \n",
              "Neighbourhood_Nueva España                                                                          0  \n",
              "Neighbourhood_Pacifico                                                                              0  \n",
              "Neighbourhood_Palacio                                                                               0  \n",
              "Neighbourhood_Palos do Moguer                                                                       0  \n",
              "Neighbourhood_Prosperidad                                                                           0  \n",
              "Neighbourhood_Puente de Vallecas                                                                    0  \n",
              "Neighbourhood_Recoletos                                                                             1  \n",
              "Neighbourhood_Retiro                                                                                0  \n",
              "Neighbourhood_Rios Rosas                                                                            0  \n",
              "Neighbourhood_San Blas                                                                              0  \n",
              "Neighbourhood_Sol                                                                                   0  \n",
              "Neighbourhood_Tetuán                                                                                0  \n",
              "Neighbourhood_Trafalgar                                                                             0  \n",
              "Neighbourhood_Usera                                                                                 0  \n",
              "Neighbourhood_Valdeacederas                                                                         0  \n",
              "Neighbourhood_Vallehermosa                                                                          0  \n",
              "Neighbourhood_Vicálvaro                                                                             0  \n",
              "Neighbourhood_Villa de Vallecas                                                                     0  \n",
              "Neighbourhood_Villaverde                                                                            0  \n",
              "Neighbourhood Group Cleansed_Arganzuela                                                             0  \n",
              "Neighbourhood Group Cleansed_Barajas                                                                0  \n",
              "Neighbourhood Group Cleansed_Carabanchel                                                            0  \n",
              "Neighbourhood Group Cleansed_Centro                                                                 0  \n",
              "Neighbourhood Group Cleansed_Chamartín                                                              0  \n",
              "Neighbourhood Group Cleansed_Chamberí                                                               0  \n",
              "Neighbourhood Group Cleansed_Ciudad Lineal                                                          0  \n",
              "Neighbourhood Group Cleansed_Fuencarral - El Pardo                                                  0  \n",
              "Neighbourhood Group Cleansed_Hortaleza                                                              0  \n",
              "Neighbourhood Group Cleansed_Latina                                                                 0  \n",
              "Neighbourhood Group Cleansed_Moncloa - Aravaca                                                      0  \n",
              "Neighbourhood Group Cleansed_Moratalaz                                                              0  \n",
              "Neighbourhood Group Cleansed_Puente de Vallecas                                                     0  \n",
              "Neighbourhood Group Cleansed_Retiro                                                                 0  \n",
              "Neighbourhood Group Cleansed_Salamanca                                                              1  \n",
              "Neighbourhood Group Cleansed_San Blas - Canillejas                                                  0  \n",
              "Neighbourhood Group Cleansed_Tetuán                                                                 0  \n",
              "Neighbourhood Group Cleansed_Usera                                                                  0  \n",
              "Neighbourhood Group Cleansed_Vicálvaro                                                              0  \n",
              "Neighbourhood Group Cleansed_Villa de Vallecas                                                      0  \n",
              "Neighbourhood Group Cleansed_Villaverde                                                             0  \n",
              "Property Type_Apartment                                                                             1  \n",
              "Property Type_Bed & Breakfast                                                                       0  \n",
              "Property Type_Boat                                                                                  0  \n",
              "Property Type_Boutique hotel                                                                        0  \n",
              "Property Type_Bungalow                                                                              0  \n",
              "Property Type_Camper/RV                                                                             0  \n",
              "Property Type_Casa particular                                                                       0  \n",
              "Property Type_Chalet                                                                                0  \n",
              "Property Type_Condominium                                                                           0  \n",
              "Property Type_Dorm                                                                                  0  \n",
              "Property Type_Earth House                                                                           0  \n",
              "Property Type_Guest suite                                                                           0  \n",
              "Property Type_Guesthouse                                                                            0  \n",
              "Property Type_Hostel                                                                                0  \n",
              "Property Type_House                                                                                 0  \n",
              "Property Type_Loft                                                                                  0  \n",
              "Property Type_Other                                                                                 0  \n",
              "Property Type_Serviced apartment                                                                    0  \n",
              "Property Type_Tent                                                                                  0  \n",
              "Property Type_Timeshare                                                                             0  \n",
              "Property Type_Townhouse                                                                             0  \n",
              "Property Type_Villa                                                                                 0  \n",
              "Room Type_Entire home/apt                                                                           1  \n",
              "Room Type_Private room                                                                              0  \n",
              "Room Type_Shared room                                                                               0  \n",
              "Bed Type_Airbed                                                                                     0  \n",
              "Bed Type_Couch                                                                                      0  \n",
              "Bed Type_Futon                                                                                      0  \n",
              "Bed Type_Pull-out Sofa                                                                              0  \n",
              "Bed Type_Real Bed                                                                                   1  \n",
              "Cancellation Policy_flexible                                                                        0  \n",
              "Cancellation Policy_moderate                                                                        1  \n",
              "Cancellation Policy_strict                                                                          0  \n",
              "Cancellation Policy_super_strict_30                                                                 0  \n",
              "Cancellation Policy_super_strict_60                                                                 0  "
            ],
            "text/html": [
              "\n",
              "  <div id=\"df-075e145b-7c83-49cf-a9b0-6c4720179b71\">\n",
              "    <div class=\"colab-df-container\">\n",
              "      <div>\n",
              "<style scoped>\n",
              "    .dataframe tbody tr th:only-of-type {\n",
              "        vertical-align: middle;\n",
              "    }\n",
              "\n",
              "    .dataframe tbody tr th {\n",
              "        vertical-align: top;\n",
              "    }\n",
              "\n",
              "    .dataframe thead th {\n",
              "        text-align: right;\n",
              "    }\n",
              "</style>\n",
              "<table border=\"1\" class=\"dataframe\">\n",
              "  <thead>\n",
              "    <tr style=\"text-align: right;\">\n",
              "      <th></th>\n",
              "      <th>40</th>\n",
              "      <th>41</th>\n",
              "      <th>42</th>\n",
              "      <th>43</th>\n",
              "      <th>44</th>\n",
              "    </tr>\n",
              "  </thead>\n",
              "  <tbody>\n",
              "    <tr>\n",
              "      <th>ID</th>\n",
              "      <td>6478626</td>\n",
              "      <td>4941335</td>\n",
              "      <td>12510355</td>\n",
              "      <td>4756811</td>\n",
              "      <td>15332216</td>\n",
              "    </tr>\n",
              "    <tr>\n",
              "      <th>Host ID</th>\n",
              "      <td>25709853</td>\n",
              "      <td>25465787</td>\n",
              "      <td>67750039</td>\n",
              "      <td>3511249</td>\n",
              "      <td>10812091</td>\n",
              "    </tr>\n",
              "    <tr>\n",
              "      <th>Host Response Rate</th>\n",
              "      <td>84.0</td>\n",
              "      <td>100.0</td>\n",
              "      <td>100.0</td>\n",
              "      <td>100.0</td>\n",
              "      <td>100.0</td>\n",
              "    </tr>\n",
              "    <tr>\n",
              "      <th>Host Listings Count</th>\n",
              "      <td>3.0</td>\n",
              "      <td>1.0</td>\n",
              "      <td>2.0</td>\n",
              "      <td>8.0</td>\n",
              "      <td>2.0</td>\n",
              "    </tr>\n",
              "    <tr>\n",
              "      <th>Host Total Listings Count</th>\n",
              "      <td>3.0</td>\n",
              "      <td>1.0</td>\n",
              "      <td>2.0</td>\n",
              "      <td>8.0</td>\n",
              "      <td>2.0</td>\n",
              "    </tr>\n",
              "    <tr>\n",
              "      <th>Zipcode</th>\n",
              "      <td>28007</td>\n",
              "      <td>28001</td>\n",
              "      <td>28001</td>\n",
              "      <td>28001</td>\n",
              "      <td>28001</td>\n",
              "    </tr>\n",
              "    <tr>\n",
              "      <th>Latitude</th>\n",
              "      <td>40.406953</td>\n",
              "      <td>40.425904</td>\n",
              "      <td>40.428352</td>\n",
              "      <td>40.427454</td>\n",
              "      <td>40.428671</td>\n",
              "    </tr>\n",
              "    <tr>\n",
              "      <th>Longitude</th>\n",
              "      <td>-3.670894</td>\n",
              "      <td>-3.681647</td>\n",
              "      <td>-3.687155</td>\n",
              "      <td>-3.685763</td>\n",
              "      <td>-3.685423</td>\n",
              "    </tr>\n",
              "    <tr>\n",
              "      <th>Accommodates</th>\n",
              "      <td>2</td>\n",
              "      <td>2</td>\n",
              "      <td>3</td>\n",
              "      <td>1</td>\n",
              "      <td>6</td>\n",
              "    </tr>\n",
              "    <tr>\n",
              "      <th>Bathrooms</th>\n",
              "      <td>2.0</td>\n",
              "      <td>1.0</td>\n",
              "      <td>1.0</td>\n",
              "      <td>1.0</td>\n",
              "      <td>1.0</td>\n",
              "    </tr>\n",
              "    <tr>\n",
              "      <th>Bedrooms</th>\n",
              "      <td>1.0</td>\n",
              "      <td>0.0</td>\n",
              "      <td>0.0</td>\n",
              "      <td>1.0</td>\n",
              "      <td>2.0</td>\n",
              "    </tr>\n",
              "    <tr>\n",
              "      <th>Beds</th>\n",
              "      <td>1.0</td>\n",
              "      <td>1.0</td>\n",
              "      <td>2.0</td>\n",
              "      <td>1.0</td>\n",
              "      <td>3.0</td>\n",
              "    </tr>\n",
              "    <tr>\n",
              "      <th>Price</th>\n",
              "      <td>28.0</td>\n",
              "      <td>58.0</td>\n",
              "      <td>70.0</td>\n",
              "      <td>26.0</td>\n",
              "      <td>70.0</td>\n",
              "    </tr>\n",
              "    <tr>\n",
              "      <th>Guests Included</th>\n",
              "      <td>1</td>\n",
              "      <td>1</td>\n",
              "      <td>2</td>\n",
              "      <td>1</td>\n",
              "      <td>1</td>\n",
              "    </tr>\n",
              "    <tr>\n",
              "      <th>Extra People</th>\n",
              "      <td>5</td>\n",
              "      <td>0</td>\n",
              "      <td>15</td>\n",
              "      <td>0</td>\n",
              "      <td>10</td>\n",
              "    </tr>\n",
              "    <tr>\n",
              "      <th>Minimum Nights</th>\n",
              "      <td>1</td>\n",
              "      <td>2</td>\n",
              "      <td>2</td>\n",
              "      <td>7</td>\n",
              "      <td>2</td>\n",
              "    </tr>\n",
              "    <tr>\n",
              "      <th>Maximum Nights</th>\n",
              "      <td>1125</td>\n",
              "      <td>1125</td>\n",
              "      <td>1125</td>\n",
              "      <td>1125</td>\n",
              "      <td>1125</td>\n",
              "    </tr>\n",
              "    <tr>\n",
              "      <th>Availability 30</th>\n",
              "      <td>0</td>\n",
              "      <td>4</td>\n",
              "      <td>7</td>\n",
              "      <td>14</td>\n",
              "      <td>0</td>\n",
              "    </tr>\n",
              "    <tr>\n",
              "      <th>Availability 60</th>\n",
              "      <td>3</td>\n",
              "      <td>9</td>\n",
              "      <td>15</td>\n",
              "      <td>37</td>\n",
              "      <td>0</td>\n",
              "    </tr>\n",
              "    <tr>\n",
              "      <th>Availability 90</th>\n",
              "      <td>12</td>\n",
              "      <td>9</td>\n",
              "      <td>32</td>\n",
              "      <td>59</td>\n",
              "      <td>0</td>\n",
              "    </tr>\n",
              "    <tr>\n",
              "      <th>Availability 365</th>\n",
              "      <td>240</td>\n",
              "      <td>15</td>\n",
              "      <td>292</td>\n",
              "      <td>334</td>\n",
              "      <td>52</td>\n",
              "    </tr>\n",
              "    <tr>\n",
              "      <th>Number of Reviews</th>\n",
              "      <td>171</td>\n",
              "      <td>52</td>\n",
              "      <td>36</td>\n",
              "      <td>15</td>\n",
              "      <td>0</td>\n",
              "    </tr>\n",
              "    <tr>\n",
              "      <th>Review Scores Rating</th>\n",
              "      <td>87.0</td>\n",
              "      <td>96.0</td>\n",
              "      <td>87.0</td>\n",
              "      <td>95.0</td>\n",
              "      <td>NaN</td>\n",
              "    </tr>\n",
              "    <tr>\n",
              "      <th>Review Scores Accuracy</th>\n",
              "      <td>9.0</td>\n",
              "      <td>10.0</td>\n",
              "      <td>9.0</td>\n",
              "      <td>10.0</td>\n",
              "      <td>NaN</td>\n",
              "    </tr>\n",
              "    <tr>\n",
              "      <th>Review Scores Cleanliness</th>\n",
              "      <td>9.0</td>\n",
              "      <td>10.0</td>\n",
              "      <td>9.0</td>\n",
              "      <td>9.0</td>\n",
              "      <td>NaN</td>\n",
              "    </tr>\n",
              "    <tr>\n",
              "      <th>Review Scores Checkin</th>\n",
              "      <td>9.0</td>\n",
              "      <td>10.0</td>\n",
              "      <td>10.0</td>\n",
              "      <td>10.0</td>\n",
              "      <td>NaN</td>\n",
              "    </tr>\n",
              "    <tr>\n",
              "      <th>Review Scores Communication</th>\n",
              "      <td>9.0</td>\n",
              "      <td>10.0</td>\n",
              "      <td>10.0</td>\n",
              "      <td>10.0</td>\n",
              "      <td>NaN</td>\n",
              "    </tr>\n",
              "    <tr>\n",
              "      <th>Review Scores Location</th>\n",
              "      <td>9.0</td>\n",
              "      <td>10.0</td>\n",
              "      <td>10.0</td>\n",
              "      <td>10.0</td>\n",
              "      <td>NaN</td>\n",
              "    </tr>\n",
              "    <tr>\n",
              "      <th>Review Scores Value</th>\n",
              "      <td>9.0</td>\n",
              "      <td>10.0</td>\n",
              "      <td>9.0</td>\n",
              "      <td>9.0</td>\n",
              "      <td>NaN</td>\n",
              "    </tr>\n",
              "    <tr>\n",
              "      <th>Calculated host listings count</th>\n",
              "      <td>3.0</td>\n",
              "      <td>1.0</td>\n",
              "      <td>1.0</td>\n",
              "      <td>7.0</td>\n",
              "      <td>2.0</td>\n",
              "    </tr>\n",
              "    <tr>\n",
              "      <th>Reviews per Month</th>\n",
              "      <td>7.71</td>\n",
              "      <td>2.03</td>\n",
              "      <td>3.28</td>\n",
              "      <td>0.57</td>\n",
              "      <td>NaN</td>\n",
              "    </tr>\n",
              "    <tr>\n",
              "      <th>Host Since_year</th>\n",
              "      <td>2015.0</td>\n",
              "      <td>2015.0</td>\n",
              "      <td>2016.0</td>\n",
              "      <td>2012.0</td>\n",
              "      <td>2013.0</td>\n",
              "    </tr>\n",
              "    <tr>\n",
              "      <th>Host Since_month</th>\n",
              "      <td>1.0</td>\n",
              "      <td>1.0</td>\n",
              "      <td>4.0</td>\n",
              "      <td>9.0</td>\n",
              "      <td>12.0</td>\n",
              "    </tr>\n",
              "    <tr>\n",
              "      <th>Host Since_day</th>\n",
              "      <td>6.0</td>\n",
              "      <td>1.0</td>\n",
              "      <td>18.0</td>\n",
              "      <td>8.0</td>\n",
              "      <td>25.0</td>\n",
              "    </tr>\n",
              "    <tr>\n",
              "      <th>First Review_year</th>\n",
              "      <td>2015.0</td>\n",
              "      <td>2015.0</td>\n",
              "      <td>2016.0</td>\n",
              "      <td>2015.0</td>\n",
              "      <td>NaN</td>\n",
              "    </tr>\n",
              "    <tr>\n",
              "      <th>First Review_month</th>\n",
              "      <td>6.0</td>\n",
              "      <td>3.0</td>\n",
              "      <td>5.0</td>\n",
              "      <td>2.0</td>\n",
              "      <td>NaN</td>\n",
              "    </tr>\n",
              "    <tr>\n",
              "      <th>First Review_day</th>\n",
              "      <td>14.0</td>\n",
              "      <td>2.0</td>\n",
              "      <td>15.0</td>\n",
              "      <td>5.0</td>\n",
              "      <td>NaN</td>\n",
              "    </tr>\n",
              "    <tr>\n",
              "      <th>Last Review_year</th>\n",
              "      <td>2017.0</td>\n",
              "      <td>2017.0</td>\n",
              "      <td>2017.0</td>\n",
              "      <td>2016.0</td>\n",
              "      <td>NaN</td>\n",
              "    </tr>\n",
              "    <tr>\n",
              "      <th>Last Review_month</th>\n",
              "      <td>3.0</td>\n",
              "      <td>2.0</td>\n",
              "      <td>4.0</td>\n",
              "      <td>11.0</td>\n",
              "      <td>NaN</td>\n",
              "    </tr>\n",
              "    <tr>\n",
              "      <th>Last Review_day</th>\n",
              "      <td>22.0</td>\n",
              "      <td>12.0</td>\n",
              "      <td>2.0</td>\n",
              "      <td>5.0</td>\n",
              "      <td>NaN</td>\n",
              "    </tr>\n",
              "    <tr>\n",
              "      <th>Thumbnail Url</th>\n",
              "      <td>https://a0.muscache.com/im/pictures/86864154/1...</td>\n",
              "      <td>https://a0.muscache.com/im/pictures/69897767/2...</td>\n",
              "      <td>https://a0.muscache.com/im/pictures/dbcf7393-b...</td>\n",
              "      <td>https://a0.muscache.com/im/pictures/59706828/a...</td>\n",
              "      <td>https://a0.muscache.com/im/pictures/20e6f47e-2...</td>\n",
              "    </tr>\n",
              "    <tr>\n",
              "      <th>Medium Url</th>\n",
              "      <td>https://a0.muscache.com/im/pictures/86864154/1...</td>\n",
              "      <td>https://a0.muscache.com/im/pictures/69897767/2...</td>\n",
              "      <td>https://a0.muscache.com/im/pictures/dbcf7393-b...</td>\n",
              "      <td>https://a0.muscache.com/im/pictures/59706828/a...</td>\n",
              "      <td>https://a0.muscache.com/im/pictures/20e6f47e-2...</td>\n",
              "    </tr>\n",
              "    <tr>\n",
              "      <th>Picture Url</th>\n",
              "      <td>https://public.opendatasoft.com/api/v2/catalog...</td>\n",
              "      <td>https://public.opendatasoft.com/api/v2/catalog...</td>\n",
              "      <td>https://public.opendatasoft.com/api/v2/catalog...</td>\n",
              "      <td>https://public.opendatasoft.com/api/v2/catalog...</td>\n",
              "      <td>https://public.opendatasoft.com/api/v2/catalog...</td>\n",
              "    </tr>\n",
              "    <tr>\n",
              "      <th>XL Picture Url</th>\n",
              "      <td>https://a0.muscache.com/im/pictures/86864154/1...</td>\n",
              "      <td>https://a0.muscache.com/im/pictures/69897767/2...</td>\n",
              "      <td>https://a0.muscache.com/im/pictures/dbcf7393-b...</td>\n",
              "      <td>https://a0.muscache.com/im/pictures/59706828/a...</td>\n",
              "      <td>https://a0.muscache.com/im/pictures/20e6f47e-2...</td>\n",
              "    </tr>\n",
              "    <tr>\n",
              "      <th>Host Thumbnail Url</th>\n",
              "      <td>https://a0.muscache.com/im/users/25709853/prof...</td>\n",
              "      <td>https://a0.muscache.com/im/users/25465787/prof...</td>\n",
              "      <td>https://a0.muscache.com/im/pictures/bff15a50-2...</td>\n",
              "      <td>https://a0.muscache.com/im/users/3511249/profi...</td>\n",
              "      <td>https://a0.muscache.com/im/pictures/0f0f7923-e...</td>\n",
              "    </tr>\n",
              "    <tr>\n",
              "      <th>Host Picture Url</th>\n",
              "      <td>https://a0.muscache.com/im/users/25709853/prof...</td>\n",
              "      <td>https://a0.muscache.com/im/users/25465787/prof...</td>\n",
              "      <td>https://a0.muscache.com/im/pictures/bff15a50-2...</td>\n",
              "      <td>https://a0.muscache.com/im/users/3511249/profi...</td>\n",
              "      <td>https://a0.muscache.com/im/pictures/0f0f7923-e...</td>\n",
              "    </tr>\n",
              "    <tr>\n",
              "      <th>Host Response Time_a few days or more</th>\n",
              "      <td>0</td>\n",
              "      <td>0</td>\n",
              "      <td>0</td>\n",
              "      <td>0</td>\n",
              "      <td>0</td>\n",
              "    </tr>\n",
              "    <tr>\n",
              "      <th>Host Response Time_within a day</th>\n",
              "      <td>0</td>\n",
              "      <td>0</td>\n",
              "      <td>0</td>\n",
              "      <td>0</td>\n",
              "      <td>0</td>\n",
              "    </tr>\n",
              "    <tr>\n",
              "      <th>Host Response Time_within a few hours</th>\n",
              "      <td>0</td>\n",
              "      <td>1</td>\n",
              "      <td>0</td>\n",
              "      <td>0</td>\n",
              "      <td>0</td>\n",
              "    </tr>\n",
              "    <tr>\n",
              "      <th>Host Response Time_within an hour</th>\n",
              "      <td>1</td>\n",
              "      <td>0</td>\n",
              "      <td>1</td>\n",
              "      <td>1</td>\n",
              "      <td>1</td>\n",
              "    </tr>\n",
              "    <tr>\n",
              "      <th>Neighbourhood_Acacias</th>\n",
              "      <td>0</td>\n",
              "      <td>0</td>\n",
              "      <td>0</td>\n",
              "      <td>0</td>\n",
              "      <td>0</td>\n",
              "    </tr>\n",
              "    <tr>\n",
              "      <th>Neighbourhood_Adelfas</th>\n",
              "      <td>0</td>\n",
              "      <td>0</td>\n",
              "      <td>0</td>\n",
              "      <td>0</td>\n",
              "      <td>0</td>\n",
              "    </tr>\n",
              "    <tr>\n",
              "      <th>Neighbourhood_Almagro</th>\n",
              "      <td>0</td>\n",
              "      <td>0</td>\n",
              "      <td>0</td>\n",
              "      <td>0</td>\n",
              "      <td>0</td>\n",
              "    </tr>\n",
              "    <tr>\n",
              "      <th>Neighbourhood_Almenara</th>\n",
              "      <td>0</td>\n",
              "      <td>0</td>\n",
              "      <td>0</td>\n",
              "      <td>0</td>\n",
              "      <td>0</td>\n",
              "    </tr>\n",
              "    <tr>\n",
              "      <th>Neighbourhood_Aluche</th>\n",
              "      <td>0</td>\n",
              "      <td>0</td>\n",
              "      <td>0</td>\n",
              "      <td>0</td>\n",
              "      <td>0</td>\n",
              "    </tr>\n",
              "    <tr>\n",
              "      <th>Neighbourhood_Arapiles</th>\n",
              "      <td>0</td>\n",
              "      <td>0</td>\n",
              "      <td>0</td>\n",
              "      <td>0</td>\n",
              "      <td>0</td>\n",
              "    </tr>\n",
              "    <tr>\n",
              "      <th>Neighbourhood_Arganzuela</th>\n",
              "      <td>0</td>\n",
              "      <td>0</td>\n",
              "      <td>0</td>\n",
              "      <td>0</td>\n",
              "      <td>0</td>\n",
              "    </tr>\n",
              "    <tr>\n",
              "      <th>Neighbourhood_Argüelles</th>\n",
              "      <td>0</td>\n",
              "      <td>0</td>\n",
              "      <td>0</td>\n",
              "      <td>0</td>\n",
              "      <td>0</td>\n",
              "    </tr>\n",
              "    <tr>\n",
              "      <th>Neighbourhood_Atocha</th>\n",
              "      <td>0</td>\n",
              "      <td>0</td>\n",
              "      <td>0</td>\n",
              "      <td>0</td>\n",
              "      <td>0</td>\n",
              "    </tr>\n",
              "    <tr>\n",
              "      <th>Neighbourhood_Barajas</th>\n",
              "      <td>0</td>\n",
              "      <td>0</td>\n",
              "      <td>0</td>\n",
              "      <td>0</td>\n",
              "      <td>0</td>\n",
              "    </tr>\n",
              "    <tr>\n",
              "      <th>Neighbourhood_Bellas Vistas</th>\n",
              "      <td>0</td>\n",
              "      <td>0</td>\n",
              "      <td>0</td>\n",
              "      <td>0</td>\n",
              "      <td>0</td>\n",
              "    </tr>\n",
              "    <tr>\n",
              "      <th>Neighbourhood_Berruguete</th>\n",
              "      <td>0</td>\n",
              "      <td>0</td>\n",
              "      <td>0</td>\n",
              "      <td>0</td>\n",
              "      <td>0</td>\n",
              "    </tr>\n",
              "    <tr>\n",
              "      <th>Neighbourhood_Carabanchel</th>\n",
              "      <td>0</td>\n",
              "      <td>0</td>\n",
              "      <td>0</td>\n",
              "      <td>0</td>\n",
              "      <td>0</td>\n",
              "    </tr>\n",
              "    <tr>\n",
              "      <th>Neighbourhood_Castellana</th>\n",
              "      <td>0</td>\n",
              "      <td>0</td>\n",
              "      <td>0</td>\n",
              "      <td>0</td>\n",
              "      <td>0</td>\n",
              "    </tr>\n",
              "    <tr>\n",
              "      <th>Neighbourhood_Castilla</th>\n",
              "      <td>0</td>\n",
              "      <td>0</td>\n",
              "      <td>0</td>\n",
              "      <td>0</td>\n",
              "      <td>0</td>\n",
              "    </tr>\n",
              "    <tr>\n",
              "      <th>Neighbourhood_Castillejos</th>\n",
              "      <td>0</td>\n",
              "      <td>0</td>\n",
              "      <td>0</td>\n",
              "      <td>0</td>\n",
              "      <td>0</td>\n",
              "    </tr>\n",
              "    <tr>\n",
              "      <th>Neighbourhood_Centro</th>\n",
              "      <td>0</td>\n",
              "      <td>0</td>\n",
              "      <td>0</td>\n",
              "      <td>0</td>\n",
              "      <td>0</td>\n",
              "    </tr>\n",
              "    <tr>\n",
              "      <th>Neighbourhood_Chamberí</th>\n",
              "      <td>0</td>\n",
              "      <td>0</td>\n",
              "      <td>0</td>\n",
              "      <td>0</td>\n",
              "      <td>0</td>\n",
              "    </tr>\n",
              "    <tr>\n",
              "      <th>Neighbourhood_Ciudad Jardin</th>\n",
              "      <td>0</td>\n",
              "      <td>0</td>\n",
              "      <td>0</td>\n",
              "      <td>0</td>\n",
              "      <td>0</td>\n",
              "    </tr>\n",
              "    <tr>\n",
              "      <th>Neighbourhood_Ciudad Lineal</th>\n",
              "      <td>0</td>\n",
              "      <td>0</td>\n",
              "      <td>0</td>\n",
              "      <td>0</td>\n",
              "      <td>0</td>\n",
              "    </tr>\n",
              "    <tr>\n",
              "      <th>Neighbourhood_Cortes</th>\n",
              "      <td>0</td>\n",
              "      <td>0</td>\n",
              "      <td>0</td>\n",
              "      <td>0</td>\n",
              "      <td>0</td>\n",
              "    </tr>\n",
              "    <tr>\n",
              "      <th>Neighbourhood_Cuatro Caminos</th>\n",
              "      <td>0</td>\n",
              "      <td>0</td>\n",
              "      <td>0</td>\n",
              "      <td>0</td>\n",
              "      <td>0</td>\n",
              "    </tr>\n",
              "    <tr>\n",
              "      <th>Neighbourhood_Delicias</th>\n",
              "      <td>0</td>\n",
              "      <td>0</td>\n",
              "      <td>0</td>\n",
              "      <td>0</td>\n",
              "      <td>0</td>\n",
              "    </tr>\n",
              "    <tr>\n",
              "      <th>Neighbourhood_El Tréntaiseis</th>\n",
              "      <td>0</td>\n",
              "      <td>0</td>\n",
              "      <td>0</td>\n",
              "      <td>0</td>\n",
              "      <td>0</td>\n",
              "    </tr>\n",
              "    <tr>\n",
              "      <th>Neighbourhood_El Viso</th>\n",
              "      <td>0</td>\n",
              "      <td>0</td>\n",
              "      <td>0</td>\n",
              "      <td>0</td>\n",
              "      <td>0</td>\n",
              "    </tr>\n",
              "    <tr>\n",
              "      <th>Neighbourhood_Embajadores</th>\n",
              "      <td>0</td>\n",
              "      <td>0</td>\n",
              "      <td>0</td>\n",
              "      <td>0</td>\n",
              "      <td>0</td>\n",
              "    </tr>\n",
              "    <tr>\n",
              "      <th>Neighbourhood_Estrella</th>\n",
              "      <td>0</td>\n",
              "      <td>0</td>\n",
              "      <td>0</td>\n",
              "      <td>0</td>\n",
              "      <td>0</td>\n",
              "    </tr>\n",
              "    <tr>\n",
              "      <th>Neighbourhood_Fuencarral-El Pardo</th>\n",
              "      <td>0</td>\n",
              "      <td>0</td>\n",
              "      <td>0</td>\n",
              "      <td>0</td>\n",
              "      <td>0</td>\n",
              "    </tr>\n",
              "    <tr>\n",
              "      <th>Neighbourhood_Fuencarral-el Pardo</th>\n",
              "      <td>0</td>\n",
              "      <td>0</td>\n",
              "      <td>0</td>\n",
              "      <td>0</td>\n",
              "      <td>0</td>\n",
              "    </tr>\n",
              "    <tr>\n",
              "      <th>Neighbourhood_Fuente del Berro</th>\n",
              "      <td>0</td>\n",
              "      <td>0</td>\n",
              "      <td>0</td>\n",
              "      <td>0</td>\n",
              "      <td>0</td>\n",
              "    </tr>\n",
              "    <tr>\n",
              "      <th>Neighbourhood_Gaztambide</th>\n",
              "      <td>0</td>\n",
              "      <td>0</td>\n",
              "      <td>0</td>\n",
              "      <td>0</td>\n",
              "      <td>0</td>\n",
              "    </tr>\n",
              "    <tr>\n",
              "      <th>Neighbourhood_Goya</th>\n",
              "      <td>0</td>\n",
              "      <td>0</td>\n",
              "      <td>0</td>\n",
              "      <td>0</td>\n",
              "      <td>0</td>\n",
              "    </tr>\n",
              "    <tr>\n",
              "      <th>Neighbourhood_Guindalera</th>\n",
              "      <td>0</td>\n",
              "      <td>0</td>\n",
              "      <td>0</td>\n",
              "      <td>0</td>\n",
              "      <td>0</td>\n",
              "    </tr>\n",
              "    <tr>\n",
              "      <th>Neighbourhood_Hispanoamérica</th>\n",
              "      <td>0</td>\n",
              "      <td>0</td>\n",
              "      <td>0</td>\n",
              "      <td>0</td>\n",
              "      <td>0</td>\n",
              "    </tr>\n",
              "    <tr>\n",
              "      <th>Neighbourhood_Hortaleza</th>\n",
              "      <td>0</td>\n",
              "      <td>0</td>\n",
              "      <td>0</td>\n",
              "      <td>0</td>\n",
              "      <td>0</td>\n",
              "    </tr>\n",
              "    <tr>\n",
              "      <th>Neighbourhood_Ibiza</th>\n",
              "      <td>0</td>\n",
              "      <td>0</td>\n",
              "      <td>0</td>\n",
              "      <td>0</td>\n",
              "      <td>0</td>\n",
              "    </tr>\n",
              "    <tr>\n",
              "      <th>Neighbourhood_Imperial</th>\n",
              "      <td>0</td>\n",
              "      <td>0</td>\n",
              "      <td>0</td>\n",
              "      <td>0</td>\n",
              "      <td>0</td>\n",
              "    </tr>\n",
              "    <tr>\n",
              "      <th>Neighbourhood_Jerónimos</th>\n",
              "      <td>0</td>\n",
              "      <td>0</td>\n",
              "      <td>0</td>\n",
              "      <td>0</td>\n",
              "      <td>0</td>\n",
              "    </tr>\n",
              "    <tr>\n",
              "      <th>Neighbourhood_Justicia</th>\n",
              "      <td>0</td>\n",
              "      <td>0</td>\n",
              "      <td>0</td>\n",
              "      <td>0</td>\n",
              "      <td>0</td>\n",
              "    </tr>\n",
              "    <tr>\n",
              "      <th>Neighbourhood_La Chopera</th>\n",
              "      <td>0</td>\n",
              "      <td>0</td>\n",
              "      <td>0</td>\n",
              "      <td>0</td>\n",
              "      <td>0</td>\n",
              "    </tr>\n",
              "    <tr>\n",
              "      <th>Neighbourhood_La Latina</th>\n",
              "      <td>0</td>\n",
              "      <td>0</td>\n",
              "      <td>0</td>\n",
              "      <td>0</td>\n",
              "      <td>0</td>\n",
              "    </tr>\n",
              "    <tr>\n",
              "      <th>Neighbourhood_Legazpi</th>\n",
              "      <td>0</td>\n",
              "      <td>0</td>\n",
              "      <td>0</td>\n",
              "      <td>0</td>\n",
              "      <td>0</td>\n",
              "    </tr>\n",
              "    <tr>\n",
              "      <th>Neighbourhood_Lista</th>\n",
              "      <td>0</td>\n",
              "      <td>0</td>\n",
              "      <td>0</td>\n",
              "      <td>0</td>\n",
              "      <td>0</td>\n",
              "    </tr>\n",
              "    <tr>\n",
              "      <th>Neighbourhood_Malasaña</th>\n",
              "      <td>0</td>\n",
              "      <td>0</td>\n",
              "      <td>0</td>\n",
              "      <td>0</td>\n",
              "      <td>0</td>\n",
              "    </tr>\n",
              "    <tr>\n",
              "      <th>Neighbourhood_Moncloa</th>\n",
              "      <td>0</td>\n",
              "      <td>0</td>\n",
              "      <td>0</td>\n",
              "      <td>0</td>\n",
              "      <td>0</td>\n",
              "    </tr>\n",
              "    <tr>\n",
              "      <th>Neighbourhood_Moratalaz</th>\n",
              "      <td>0</td>\n",
              "      <td>0</td>\n",
              "      <td>0</td>\n",
              "      <td>0</td>\n",
              "      <td>0</td>\n",
              "    </tr>\n",
              "    <tr>\n",
              "      <th>Neighbourhood_Nueva España</th>\n",
              "      <td>0</td>\n",
              "      <td>0</td>\n",
              "      <td>0</td>\n",
              "      <td>0</td>\n",
              "      <td>0</td>\n",
              "    </tr>\n",
              "    <tr>\n",
              "      <th>Neighbourhood_Pacifico</th>\n",
              "      <td>0</td>\n",
              "      <td>0</td>\n",
              "      <td>0</td>\n",
              "      <td>0</td>\n",
              "      <td>0</td>\n",
              "    </tr>\n",
              "    <tr>\n",
              "      <th>Neighbourhood_Palacio</th>\n",
              "      <td>0</td>\n",
              "      <td>0</td>\n",
              "      <td>0</td>\n",
              "      <td>0</td>\n",
              "      <td>0</td>\n",
              "    </tr>\n",
              "    <tr>\n",
              "      <th>Neighbourhood_Palos do Moguer</th>\n",
              "      <td>0</td>\n",
              "      <td>0</td>\n",
              "      <td>0</td>\n",
              "      <td>0</td>\n",
              "      <td>0</td>\n",
              "    </tr>\n",
              "    <tr>\n",
              "      <th>Neighbourhood_Prosperidad</th>\n",
              "      <td>0</td>\n",
              "      <td>0</td>\n",
              "      <td>0</td>\n",
              "      <td>0</td>\n",
              "      <td>0</td>\n",
              "    </tr>\n",
              "    <tr>\n",
              "      <th>Neighbourhood_Puente de Vallecas</th>\n",
              "      <td>0</td>\n",
              "      <td>0</td>\n",
              "      <td>0</td>\n",
              "      <td>0</td>\n",
              "      <td>0</td>\n",
              "    </tr>\n",
              "    <tr>\n",
              "      <th>Neighbourhood_Recoletos</th>\n",
              "      <td>0</td>\n",
              "      <td>1</td>\n",
              "      <td>1</td>\n",
              "      <td>1</td>\n",
              "      <td>1</td>\n",
              "    </tr>\n",
              "    <tr>\n",
              "      <th>Neighbourhood_Retiro</th>\n",
              "      <td>0</td>\n",
              "      <td>0</td>\n",
              "      <td>0</td>\n",
              "      <td>0</td>\n",
              "      <td>0</td>\n",
              "    </tr>\n",
              "    <tr>\n",
              "      <th>Neighbourhood_Rios Rosas</th>\n",
              "      <td>0</td>\n",
              "      <td>0</td>\n",
              "      <td>0</td>\n",
              "      <td>0</td>\n",
              "      <td>0</td>\n",
              "    </tr>\n",
              "    <tr>\n",
              "      <th>Neighbourhood_San Blas</th>\n",
              "      <td>0</td>\n",
              "      <td>0</td>\n",
              "      <td>0</td>\n",
              "      <td>0</td>\n",
              "      <td>0</td>\n",
              "    </tr>\n",
              "    <tr>\n",
              "      <th>Neighbourhood_Sol</th>\n",
              "      <td>0</td>\n",
              "      <td>0</td>\n",
              "      <td>0</td>\n",
              "      <td>0</td>\n",
              "      <td>0</td>\n",
              "    </tr>\n",
              "    <tr>\n",
              "      <th>Neighbourhood_Tetuán</th>\n",
              "      <td>0</td>\n",
              "      <td>0</td>\n",
              "      <td>0</td>\n",
              "      <td>0</td>\n",
              "      <td>0</td>\n",
              "    </tr>\n",
              "    <tr>\n",
              "      <th>Neighbourhood_Trafalgar</th>\n",
              "      <td>0</td>\n",
              "      <td>0</td>\n",
              "      <td>0</td>\n",
              "      <td>0</td>\n",
              "      <td>0</td>\n",
              "    </tr>\n",
              "    <tr>\n",
              "      <th>Neighbourhood_Usera</th>\n",
              "      <td>0</td>\n",
              "      <td>0</td>\n",
              "      <td>0</td>\n",
              "      <td>0</td>\n",
              "      <td>0</td>\n",
              "    </tr>\n",
              "    <tr>\n",
              "      <th>Neighbourhood_Valdeacederas</th>\n",
              "      <td>0</td>\n",
              "      <td>0</td>\n",
              "      <td>0</td>\n",
              "      <td>0</td>\n",
              "      <td>0</td>\n",
              "    </tr>\n",
              "    <tr>\n",
              "      <th>Neighbourhood_Vallehermosa</th>\n",
              "      <td>0</td>\n",
              "      <td>0</td>\n",
              "      <td>0</td>\n",
              "      <td>0</td>\n",
              "      <td>0</td>\n",
              "    </tr>\n",
              "    <tr>\n",
              "      <th>Neighbourhood_Vicálvaro</th>\n",
              "      <td>0</td>\n",
              "      <td>0</td>\n",
              "      <td>0</td>\n",
              "      <td>0</td>\n",
              "      <td>0</td>\n",
              "    </tr>\n",
              "    <tr>\n",
              "      <th>Neighbourhood_Villa de Vallecas</th>\n",
              "      <td>0</td>\n",
              "      <td>0</td>\n",
              "      <td>0</td>\n",
              "      <td>0</td>\n",
              "      <td>0</td>\n",
              "    </tr>\n",
              "    <tr>\n",
              "      <th>Neighbourhood_Villaverde</th>\n",
              "      <td>0</td>\n",
              "      <td>0</td>\n",
              "      <td>0</td>\n",
              "      <td>0</td>\n",
              "      <td>0</td>\n",
              "    </tr>\n",
              "    <tr>\n",
              "      <th>Neighbourhood Group Cleansed_Arganzuela</th>\n",
              "      <td>0</td>\n",
              "      <td>0</td>\n",
              "      <td>0</td>\n",
              "      <td>0</td>\n",
              "      <td>0</td>\n",
              "    </tr>\n",
              "    <tr>\n",
              "      <th>Neighbourhood Group Cleansed_Barajas</th>\n",
              "      <td>0</td>\n",
              "      <td>0</td>\n",
              "      <td>0</td>\n",
              "      <td>0</td>\n",
              "      <td>0</td>\n",
              "    </tr>\n",
              "    <tr>\n",
              "      <th>Neighbourhood Group Cleansed_Carabanchel</th>\n",
              "      <td>0</td>\n",
              "      <td>0</td>\n",
              "      <td>0</td>\n",
              "      <td>0</td>\n",
              "      <td>0</td>\n",
              "    </tr>\n",
              "    <tr>\n",
              "      <th>Neighbourhood Group Cleansed_Centro</th>\n",
              "      <td>0</td>\n",
              "      <td>0</td>\n",
              "      <td>0</td>\n",
              "      <td>0</td>\n",
              "      <td>0</td>\n",
              "    </tr>\n",
              "    <tr>\n",
              "      <th>Neighbourhood Group Cleansed_Chamartín</th>\n",
              "      <td>0</td>\n",
              "      <td>0</td>\n",
              "      <td>0</td>\n",
              "      <td>0</td>\n",
              "      <td>0</td>\n",
              "    </tr>\n",
              "    <tr>\n",
              "      <th>Neighbourhood Group Cleansed_Chamberí</th>\n",
              "      <td>0</td>\n",
              "      <td>0</td>\n",
              "      <td>0</td>\n",
              "      <td>0</td>\n",
              "      <td>0</td>\n",
              "    </tr>\n",
              "    <tr>\n",
              "      <th>Neighbourhood Group Cleansed_Ciudad Lineal</th>\n",
              "      <td>0</td>\n",
              "      <td>0</td>\n",
              "      <td>0</td>\n",
              "      <td>0</td>\n",
              "      <td>0</td>\n",
              "    </tr>\n",
              "    <tr>\n",
              "      <th>Neighbourhood Group Cleansed_Fuencarral - El Pardo</th>\n",
              "      <td>0</td>\n",
              "      <td>0</td>\n",
              "      <td>0</td>\n",
              "      <td>0</td>\n",
              "      <td>0</td>\n",
              "    </tr>\n",
              "    <tr>\n",
              "      <th>Neighbourhood Group Cleansed_Hortaleza</th>\n",
              "      <td>0</td>\n",
              "      <td>0</td>\n",
              "      <td>0</td>\n",
              "      <td>0</td>\n",
              "      <td>0</td>\n",
              "    </tr>\n",
              "    <tr>\n",
              "      <th>Neighbourhood Group Cleansed_Latina</th>\n",
              "      <td>0</td>\n",
              "      <td>0</td>\n",
              "      <td>0</td>\n",
              "      <td>0</td>\n",
              "      <td>0</td>\n",
              "    </tr>\n",
              "    <tr>\n",
              "      <th>Neighbourhood Group Cleansed_Moncloa - Aravaca</th>\n",
              "      <td>0</td>\n",
              "      <td>0</td>\n",
              "      <td>0</td>\n",
              "      <td>0</td>\n",
              "      <td>0</td>\n",
              "    </tr>\n",
              "    <tr>\n",
              "      <th>Neighbourhood Group Cleansed_Moratalaz</th>\n",
              "      <td>0</td>\n",
              "      <td>0</td>\n",
              "      <td>0</td>\n",
              "      <td>0</td>\n",
              "      <td>0</td>\n",
              "    </tr>\n",
              "    <tr>\n",
              "      <th>Neighbourhood Group Cleansed_Puente de Vallecas</th>\n",
              "      <td>0</td>\n",
              "      <td>0</td>\n",
              "      <td>0</td>\n",
              "      <td>0</td>\n",
              "      <td>0</td>\n",
              "    </tr>\n",
              "    <tr>\n",
              "      <th>Neighbourhood Group Cleansed_Retiro</th>\n",
              "      <td>1</td>\n",
              "      <td>0</td>\n",
              "      <td>0</td>\n",
              "      <td>0</td>\n",
              "      <td>0</td>\n",
              "    </tr>\n",
              "    <tr>\n",
              "      <th>Neighbourhood Group Cleansed_Salamanca</th>\n",
              "      <td>0</td>\n",
              "      <td>1</td>\n",
              "      <td>1</td>\n",
              "      <td>1</td>\n",
              "      <td>1</td>\n",
              "    </tr>\n",
              "    <tr>\n",
              "      <th>Neighbourhood Group Cleansed_San Blas - Canillejas</th>\n",
              "      <td>0</td>\n",
              "      <td>0</td>\n",
              "      <td>0</td>\n",
              "      <td>0</td>\n",
              "      <td>0</td>\n",
              "    </tr>\n",
              "    <tr>\n",
              "      <th>Neighbourhood Group Cleansed_Tetuán</th>\n",
              "      <td>0</td>\n",
              "      <td>0</td>\n",
              "      <td>0</td>\n",
              "      <td>0</td>\n",
              "      <td>0</td>\n",
              "    </tr>\n",
              "    <tr>\n",
              "      <th>Neighbourhood Group Cleansed_Usera</th>\n",
              "      <td>0</td>\n",
              "      <td>0</td>\n",
              "      <td>0</td>\n",
              "      <td>0</td>\n",
              "      <td>0</td>\n",
              "    </tr>\n",
              "    <tr>\n",
              "      <th>Neighbourhood Group Cleansed_Vicálvaro</th>\n",
              "      <td>0</td>\n",
              "      <td>0</td>\n",
              "      <td>0</td>\n",
              "      <td>0</td>\n",
              "      <td>0</td>\n",
              "    </tr>\n",
              "    <tr>\n",
              "      <th>Neighbourhood Group Cleansed_Villa de Vallecas</th>\n",
              "      <td>0</td>\n",
              "      <td>0</td>\n",
              "      <td>0</td>\n",
              "      <td>0</td>\n",
              "      <td>0</td>\n",
              "    </tr>\n",
              "    <tr>\n",
              "      <th>Neighbourhood Group Cleansed_Villaverde</th>\n",
              "      <td>0</td>\n",
              "      <td>0</td>\n",
              "      <td>0</td>\n",
              "      <td>0</td>\n",
              "      <td>0</td>\n",
              "    </tr>\n",
              "    <tr>\n",
              "      <th>Property Type_Apartment</th>\n",
              "      <td>1</td>\n",
              "      <td>1</td>\n",
              "      <td>1</td>\n",
              "      <td>1</td>\n",
              "      <td>1</td>\n",
              "    </tr>\n",
              "    <tr>\n",
              "      <th>Property Type_Bed &amp; Breakfast</th>\n",
              "      <td>0</td>\n",
              "      <td>0</td>\n",
              "      <td>0</td>\n",
              "      <td>0</td>\n",
              "      <td>0</td>\n",
              "    </tr>\n",
              "    <tr>\n",
              "      <th>Property Type_Boat</th>\n",
              "      <td>0</td>\n",
              "      <td>0</td>\n",
              "      <td>0</td>\n",
              "      <td>0</td>\n",
              "      <td>0</td>\n",
              "    </tr>\n",
              "    <tr>\n",
              "      <th>Property Type_Boutique hotel</th>\n",
              "      <td>0</td>\n",
              "      <td>0</td>\n",
              "      <td>0</td>\n",
              "      <td>0</td>\n",
              "      <td>0</td>\n",
              "    </tr>\n",
              "    <tr>\n",
              "      <th>Property Type_Bungalow</th>\n",
              "      <td>0</td>\n",
              "      <td>0</td>\n",
              "      <td>0</td>\n",
              "      <td>0</td>\n",
              "      <td>0</td>\n",
              "    </tr>\n",
              "    <tr>\n",
              "      <th>Property Type_Camper/RV</th>\n",
              "      <td>0</td>\n",
              "      <td>0</td>\n",
              "      <td>0</td>\n",
              "      <td>0</td>\n",
              "      <td>0</td>\n",
              "    </tr>\n",
              "    <tr>\n",
              "      <th>Property Type_Casa particular</th>\n",
              "      <td>0</td>\n",
              "      <td>0</td>\n",
              "      <td>0</td>\n",
              "      <td>0</td>\n",
              "      <td>0</td>\n",
              "    </tr>\n",
              "    <tr>\n",
              "      <th>Property Type_Chalet</th>\n",
              "      <td>0</td>\n",
              "      <td>0</td>\n",
              "      <td>0</td>\n",
              "      <td>0</td>\n",
              "      <td>0</td>\n",
              "    </tr>\n",
              "    <tr>\n",
              "      <th>Property Type_Condominium</th>\n",
              "      <td>0</td>\n",
              "      <td>0</td>\n",
              "      <td>0</td>\n",
              "      <td>0</td>\n",
              "      <td>0</td>\n",
              "    </tr>\n",
              "    <tr>\n",
              "      <th>Property Type_Dorm</th>\n",
              "      <td>0</td>\n",
              "      <td>0</td>\n",
              "      <td>0</td>\n",
              "      <td>0</td>\n",
              "      <td>0</td>\n",
              "    </tr>\n",
              "    <tr>\n",
              "      <th>Property Type_Earth House</th>\n",
              "      <td>0</td>\n",
              "      <td>0</td>\n",
              "      <td>0</td>\n",
              "      <td>0</td>\n",
              "      <td>0</td>\n",
              "    </tr>\n",
              "    <tr>\n",
              "      <th>Property Type_Guest suite</th>\n",
              "      <td>0</td>\n",
              "      <td>0</td>\n",
              "      <td>0</td>\n",
              "      <td>0</td>\n",
              "      <td>0</td>\n",
              "    </tr>\n",
              "    <tr>\n",
              "      <th>Property Type_Guesthouse</th>\n",
              "      <td>0</td>\n",
              "      <td>0</td>\n",
              "      <td>0</td>\n",
              "      <td>0</td>\n",
              "      <td>0</td>\n",
              "    </tr>\n",
              "    <tr>\n",
              "      <th>Property Type_Hostel</th>\n",
              "      <td>0</td>\n",
              "      <td>0</td>\n",
              "      <td>0</td>\n",
              "      <td>0</td>\n",
              "      <td>0</td>\n",
              "    </tr>\n",
              "    <tr>\n",
              "      <th>Property Type_House</th>\n",
              "      <td>0</td>\n",
              "      <td>0</td>\n",
              "      <td>0</td>\n",
              "      <td>0</td>\n",
              "      <td>0</td>\n",
              "    </tr>\n",
              "    <tr>\n",
              "      <th>Property Type_Loft</th>\n",
              "      <td>0</td>\n",
              "      <td>0</td>\n",
              "      <td>0</td>\n",
              "      <td>0</td>\n",
              "      <td>0</td>\n",
              "    </tr>\n",
              "    <tr>\n",
              "      <th>Property Type_Other</th>\n",
              "      <td>0</td>\n",
              "      <td>0</td>\n",
              "      <td>0</td>\n",
              "      <td>0</td>\n",
              "      <td>0</td>\n",
              "    </tr>\n",
              "    <tr>\n",
              "      <th>Property Type_Serviced apartment</th>\n",
              "      <td>0</td>\n",
              "      <td>0</td>\n",
              "      <td>0</td>\n",
              "      <td>0</td>\n",
              "      <td>0</td>\n",
              "    </tr>\n",
              "    <tr>\n",
              "      <th>Property Type_Tent</th>\n",
              "      <td>0</td>\n",
              "      <td>0</td>\n",
              "      <td>0</td>\n",
              "      <td>0</td>\n",
              "      <td>0</td>\n",
              "    </tr>\n",
              "    <tr>\n",
              "      <th>Property Type_Timeshare</th>\n",
              "      <td>0</td>\n",
              "      <td>0</td>\n",
              "      <td>0</td>\n",
              "      <td>0</td>\n",
              "      <td>0</td>\n",
              "    </tr>\n",
              "    <tr>\n",
              "      <th>Property Type_Townhouse</th>\n",
              "      <td>0</td>\n",
              "      <td>0</td>\n",
              "      <td>0</td>\n",
              "      <td>0</td>\n",
              "      <td>0</td>\n",
              "    </tr>\n",
              "    <tr>\n",
              "      <th>Property Type_Villa</th>\n",
              "      <td>0</td>\n",
              "      <td>0</td>\n",
              "      <td>0</td>\n",
              "      <td>0</td>\n",
              "      <td>0</td>\n",
              "    </tr>\n",
              "    <tr>\n",
              "      <th>Room Type_Entire home/apt</th>\n",
              "      <td>0</td>\n",
              "      <td>1</td>\n",
              "      <td>1</td>\n",
              "      <td>0</td>\n",
              "      <td>1</td>\n",
              "    </tr>\n",
              "    <tr>\n",
              "      <th>Room Type_Private room</th>\n",
              "      <td>1</td>\n",
              "      <td>0</td>\n",
              "      <td>0</td>\n",
              "      <td>1</td>\n",
              "      <td>0</td>\n",
              "    </tr>\n",
              "    <tr>\n",
              "      <th>Room Type_Shared room</th>\n",
              "      <td>0</td>\n",
              "      <td>0</td>\n",
              "      <td>0</td>\n",
              "      <td>0</td>\n",
              "      <td>0</td>\n",
              "    </tr>\n",
              "    <tr>\n",
              "      <th>Bed Type_Airbed</th>\n",
              "      <td>0</td>\n",
              "      <td>0</td>\n",
              "      <td>0</td>\n",
              "      <td>0</td>\n",
              "      <td>0</td>\n",
              "    </tr>\n",
              "    <tr>\n",
              "      <th>Bed Type_Couch</th>\n",
              "      <td>0</td>\n",
              "      <td>0</td>\n",
              "      <td>0</td>\n",
              "      <td>0</td>\n",
              "      <td>0</td>\n",
              "    </tr>\n",
              "    <tr>\n",
              "      <th>Bed Type_Futon</th>\n",
              "      <td>0</td>\n",
              "      <td>0</td>\n",
              "      <td>0</td>\n",
              "      <td>0</td>\n",
              "      <td>0</td>\n",
              "    </tr>\n",
              "    <tr>\n",
              "      <th>Bed Type_Pull-out Sofa</th>\n",
              "      <td>0</td>\n",
              "      <td>0</td>\n",
              "      <td>0</td>\n",
              "      <td>0</td>\n",
              "      <td>0</td>\n",
              "    </tr>\n",
              "    <tr>\n",
              "      <th>Bed Type_Real Bed</th>\n",
              "      <td>1</td>\n",
              "      <td>1</td>\n",
              "      <td>1</td>\n",
              "      <td>1</td>\n",
              "      <td>1</td>\n",
              "    </tr>\n",
              "    <tr>\n",
              "      <th>Cancellation Policy_flexible</th>\n",
              "      <td>1</td>\n",
              "      <td>0</td>\n",
              "      <td>1</td>\n",
              "      <td>0</td>\n",
              "      <td>0</td>\n",
              "    </tr>\n",
              "    <tr>\n",
              "      <th>Cancellation Policy_moderate</th>\n",
              "      <td>0</td>\n",
              "      <td>1</td>\n",
              "      <td>0</td>\n",
              "      <td>0</td>\n",
              "      <td>1</td>\n",
              "    </tr>\n",
              "    <tr>\n",
              "      <th>Cancellation Policy_strict</th>\n",
              "      <td>0</td>\n",
              "      <td>0</td>\n",
              "      <td>0</td>\n",
              "      <td>1</td>\n",
              "      <td>0</td>\n",
              "    </tr>\n",
              "    <tr>\n",
              "      <th>Cancellation Policy_super_strict_30</th>\n",
              "      <td>0</td>\n",
              "      <td>0</td>\n",
              "      <td>0</td>\n",
              "      <td>0</td>\n",
              "      <td>0</td>\n",
              "    </tr>\n",
              "    <tr>\n",
              "      <th>Cancellation Policy_super_strict_60</th>\n",
              "      <td>0</td>\n",
              "      <td>0</td>\n",
              "      <td>0</td>\n",
              "      <td>0</td>\n",
              "      <td>0</td>\n",
              "    </tr>\n",
              "  </tbody>\n",
              "</table>\n",
              "</div>\n",
              "      <button class=\"colab-df-convert\" onclick=\"convertToInteractive('df-075e145b-7c83-49cf-a9b0-6c4720179b71')\"\n",
              "              title=\"Convert this dataframe to an interactive table.\"\n",
              "              style=\"display:none;\">\n",
              "        \n",
              "  <svg xmlns=\"http://www.w3.org/2000/svg\" height=\"24px\"viewBox=\"0 0 24 24\"\n",
              "       width=\"24px\">\n",
              "    <path d=\"M0 0h24v24H0V0z\" fill=\"none\"/>\n",
              "    <path d=\"M18.56 5.44l.94 2.06.94-2.06 2.06-.94-2.06-.94-.94-2.06-.94 2.06-2.06.94zm-11 1L8.5 8.5l.94-2.06 2.06-.94-2.06-.94L8.5 2.5l-.94 2.06-2.06.94zm10 10l.94 2.06.94-2.06 2.06-.94-2.06-.94-.94-2.06-.94 2.06-2.06.94z\"/><path d=\"M17.41 7.96l-1.37-1.37c-.4-.4-.92-.59-1.43-.59-.52 0-1.04.2-1.43.59L10.3 9.45l-7.72 7.72c-.78.78-.78 2.05 0 2.83L4 21.41c.39.39.9.59 1.41.59.51 0 1.02-.2 1.41-.59l7.78-7.78 2.81-2.81c.8-.78.8-2.07 0-2.86zM5.41 20L4 18.59l7.72-7.72 1.47 1.35L5.41 20z\"/>\n",
              "  </svg>\n",
              "      </button>\n",
              "      \n",
              "  <style>\n",
              "    .colab-df-container {\n",
              "      display:flex;\n",
              "      flex-wrap:wrap;\n",
              "      gap: 12px;\n",
              "    }\n",
              "\n",
              "    .colab-df-convert {\n",
              "      background-color: #E8F0FE;\n",
              "      border: none;\n",
              "      border-radius: 50%;\n",
              "      cursor: pointer;\n",
              "      display: none;\n",
              "      fill: #1967D2;\n",
              "      height: 32px;\n",
              "      padding: 0 0 0 0;\n",
              "      width: 32px;\n",
              "    }\n",
              "\n",
              "    .colab-df-convert:hover {\n",
              "      background-color: #E2EBFA;\n",
              "      box-shadow: 0px 1px 2px rgba(60, 64, 67, 0.3), 0px 1px 3px 1px rgba(60, 64, 67, 0.15);\n",
              "      fill: #174EA6;\n",
              "    }\n",
              "\n",
              "    [theme=dark] .colab-df-convert {\n",
              "      background-color: #3B4455;\n",
              "      fill: #D2E3FC;\n",
              "    }\n",
              "\n",
              "    [theme=dark] .colab-df-convert:hover {\n",
              "      background-color: #434B5C;\n",
              "      box-shadow: 0px 1px 3px 1px rgba(0, 0, 0, 0.15);\n",
              "      filter: drop-shadow(0px 1px 2px rgba(0, 0, 0, 0.3));\n",
              "      fill: #FFFFFF;\n",
              "    }\n",
              "  </style>\n",
              "\n",
              "      <script>\n",
              "        const buttonEl =\n",
              "          document.querySelector('#df-075e145b-7c83-49cf-a9b0-6c4720179b71 button.colab-df-convert');\n",
              "        buttonEl.style.display =\n",
              "          google.colab.kernel.accessAllowed ? 'block' : 'none';\n",
              "\n",
              "        async function convertToInteractive(key) {\n",
              "          const element = document.querySelector('#df-075e145b-7c83-49cf-a9b0-6c4720179b71');\n",
              "          const dataTable =\n",
              "            await google.colab.kernel.invokeFunction('convertToInteractive',\n",
              "                                                     [key], {});\n",
              "          if (!dataTable) return;\n",
              "\n",
              "          const docLinkHtml = 'Like what you see? Visit the ' +\n",
              "            '<a target=\"_blank\" href=https://colab.research.google.com/notebooks/data_table.ipynb>data table notebook</a>'\n",
              "            + ' to learn more about interactive tables.';\n",
              "          element.innerHTML = '';\n",
              "          dataTable['output_type'] = 'display_data';\n",
              "          await google.colab.output.renderOutput(dataTable, element);\n",
              "          const docLink = document.createElement('div');\n",
              "          docLink.innerHTML = docLinkHtml;\n",
              "          element.appendChild(docLink);\n",
              "        }\n",
              "      </script>\n",
              "    </div>\n",
              "  </div>\n",
              "  "
            ]
          },
          "metadata": {},
          "execution_count": 59
        }
      ]
    },
    {
      "cell_type": "markdown",
      "source": [
        "Finalmente, voy a revisar mi variable objetivo --> Precio"
      ],
      "metadata": {
        "id": "_KvfXxBRKY_4"
      },
      "id": "_KvfXxBRKY_4"
    },
    {
      "cell_type": "code",
      "source": [
        "df_encoded['Price'].isnull().any()"
      ],
      "metadata": {
        "colab": {
          "base_uri": "https://localhost:8080/"
        },
        "id": "JbA46VyzKXCA",
        "outputId": "3e68f42e-b2c9-4fa3-bada-f0d19bd13130"
      },
      "id": "JbA46VyzKXCA",
      "execution_count": 60,
      "outputs": [
        {
          "output_type": "execute_result",
          "data": {
            "text/plain": [
              "True"
            ]
          },
          "metadata": {},
          "execution_count": 60
        }
      ]
    },
    {
      "cell_type": "markdown",
      "source": [
        "Tengo valores nulos en 'Price'"
      ],
      "metadata": {
        "id": "DHKEhE6IKv2x"
      },
      "id": "DHKEhE6IKv2x"
    },
    {
      "cell_type": "code",
      "source": [
        "Price_NA_count = {\"Columna\": 'Price', 'NA': df_encoded['Price'].isna().sum(), 'NA%': (df_encoded['Price'].isna().sum()*100/data.shape[0]).round(2)}\n",
        "Price_NA_count"
      ],
      "metadata": {
        "colab": {
          "base_uri": "https://localhost:8080/"
        },
        "id": "z2W3PL7qK1tU",
        "outputId": "a9c314e0-7461-46a9-8aec-cbf6bd54677e"
      },
      "id": "z2W3PL7qK1tU",
      "execution_count": 61,
      "outputs": [
        {
          "output_type": "execute_result",
          "data": {
            "text/plain": [
              "{'Columna': 'Price', 'NA': 8, 'NA%': 0.06}"
            ]
          },
          "metadata": {},
          "execution_count": 61
        }
      ]
    },
    {
      "cell_type": "markdown",
      "source": [
        "Bueno, son pocos los valores nulos en 'Price' 👍\n",
        "Voy a eliminarlos --> "
      ],
      "metadata": {
        "id": "3OXRx8IPLGz4"
      },
      "id": "3OXRx8IPLGz4"
    },
    {
      "cell_type": "code",
      "source": [
        "df_encoded = df_encoded[df_encoded['Price'].notna()]\n",
        "df_encoded['Price'].isnull().any()"
      ],
      "metadata": {
        "colab": {
          "base_uri": "https://localhost:8080/"
        },
        "id": "t7ZC0K1iLiaB",
        "outputId": "ae50621f-6404-4081-cff0-2a57363f436c"
      },
      "id": "t7ZC0K1iLiaB",
      "execution_count": 62,
      "outputs": [
        {
          "output_type": "execute_result",
          "data": {
            "text/plain": [
              "False"
            ]
          },
          "metadata": {},
          "execution_count": 62
        }
      ]
    },
    {
      "cell_type": "markdown",
      "metadata": {
        "id": "564cf5c3"
      },
      "source": [
        "## 4. Listos para separar en train, validation y test!!!"
      ],
      "id": "564cf5c3"
    },
    {
      "cell_type": "code",
      "source": [
        "#Elimino outliers --> \n",
        "df_encoded = df_encoded[df_encoded['Maximum Nights'] < 1125]\n",
        "df_encoded = df_encoded[df_encoded['Minimum Nights'] < 100]\n",
        "df_encoded = df_encoded[df_encoded['Extra People'] < 15]"
      ],
      "metadata": {
        "id": "Cv_SntjE9Ua5"
      },
      "id": "Cv_SntjE9Ua5",
      "execution_count": 63,
      "outputs": []
    },
    {
      "cell_type": "code",
      "source": [
        "df_encoded.columns.values"
      ],
      "metadata": {
        "colab": {
          "base_uri": "https://localhost:8080/"
        },
        "id": "q9Dkti1Go0F4",
        "outputId": "136b815a-5d9d-4846-852c-f2c76ccb713c"
      },
      "id": "q9Dkti1Go0F4",
      "execution_count": 64,
      "outputs": [
        {
          "output_type": "execute_result",
          "data": {
            "text/plain": [
              "array(['ID', 'Host ID', 'Host Response Rate', 'Host Listings Count',\n",
              "       'Host Total Listings Count', 'Zipcode', 'Latitude', 'Longitude',\n",
              "       'Accommodates', 'Bathrooms', 'Bedrooms', 'Beds', 'Price',\n",
              "       'Guests Included', 'Extra People', 'Minimum Nights',\n",
              "       'Maximum Nights', 'Availability 30', 'Availability 60',\n",
              "       'Availability 90', 'Availability 365', 'Number of Reviews',\n",
              "       'Review Scores Rating', 'Review Scores Accuracy',\n",
              "       'Review Scores Cleanliness', 'Review Scores Checkin',\n",
              "       'Review Scores Communication', 'Review Scores Location',\n",
              "       'Review Scores Value', 'Calculated host listings count',\n",
              "       'Reviews per Month', 'Host Since_year', 'Host Since_month',\n",
              "       'Host Since_day', 'First Review_year', 'First Review_month',\n",
              "       'First Review_day', 'Last Review_year', 'Last Review_month',\n",
              "       'Last Review_day', 'Thumbnail Url', 'Medium Url', 'Picture Url',\n",
              "       'XL Picture Url', 'Host Thumbnail Url', 'Host Picture Url',\n",
              "       'Host Response Time_a few days or more',\n",
              "       'Host Response Time_within a day',\n",
              "       'Host Response Time_within a few hours',\n",
              "       'Host Response Time_within an hour', 'Neighbourhood_Acacias',\n",
              "       'Neighbourhood_Adelfas', 'Neighbourhood_Almagro',\n",
              "       'Neighbourhood_Almenara', 'Neighbourhood_Aluche',\n",
              "       'Neighbourhood_Arapiles', 'Neighbourhood_Arganzuela',\n",
              "       'Neighbourhood_Argüelles', 'Neighbourhood_Atocha',\n",
              "       'Neighbourhood_Barajas', 'Neighbourhood_Bellas Vistas',\n",
              "       'Neighbourhood_Berruguete', 'Neighbourhood_Carabanchel',\n",
              "       'Neighbourhood_Castellana', 'Neighbourhood_Castilla',\n",
              "       'Neighbourhood_Castillejos', 'Neighbourhood_Centro',\n",
              "       'Neighbourhood_Chamberí', 'Neighbourhood_Ciudad Jardin',\n",
              "       'Neighbourhood_Ciudad Lineal', 'Neighbourhood_Cortes',\n",
              "       'Neighbourhood_Cuatro Caminos', 'Neighbourhood_Delicias',\n",
              "       'Neighbourhood_El Tréntaiseis', 'Neighbourhood_El Viso',\n",
              "       'Neighbourhood_Embajadores', 'Neighbourhood_Estrella',\n",
              "       'Neighbourhood_Fuencarral-El Pardo',\n",
              "       'Neighbourhood_Fuencarral-el Pardo',\n",
              "       'Neighbourhood_Fuente del Berro', 'Neighbourhood_Gaztambide',\n",
              "       'Neighbourhood_Goya', 'Neighbourhood_Guindalera',\n",
              "       'Neighbourhood_Hispanoamérica', 'Neighbourhood_Hortaleza',\n",
              "       'Neighbourhood_Ibiza', 'Neighbourhood_Imperial',\n",
              "       'Neighbourhood_Jerónimos', 'Neighbourhood_Justicia',\n",
              "       'Neighbourhood_La Chopera', 'Neighbourhood_La Latina',\n",
              "       'Neighbourhood_Legazpi', 'Neighbourhood_Lista',\n",
              "       'Neighbourhood_Malasaña', 'Neighbourhood_Moncloa',\n",
              "       'Neighbourhood_Moratalaz', 'Neighbourhood_Nueva España',\n",
              "       'Neighbourhood_Pacifico', 'Neighbourhood_Palacio',\n",
              "       'Neighbourhood_Palos do Moguer', 'Neighbourhood_Prosperidad',\n",
              "       'Neighbourhood_Puente de Vallecas', 'Neighbourhood_Recoletos',\n",
              "       'Neighbourhood_Retiro', 'Neighbourhood_Rios Rosas',\n",
              "       'Neighbourhood_San Blas', 'Neighbourhood_Sol',\n",
              "       'Neighbourhood_Tetuán', 'Neighbourhood_Trafalgar',\n",
              "       'Neighbourhood_Usera', 'Neighbourhood_Valdeacederas',\n",
              "       'Neighbourhood_Vallehermosa', 'Neighbourhood_Vicálvaro',\n",
              "       'Neighbourhood_Villa de Vallecas', 'Neighbourhood_Villaverde',\n",
              "       'Neighbourhood Group Cleansed_Arganzuela',\n",
              "       'Neighbourhood Group Cleansed_Barajas',\n",
              "       'Neighbourhood Group Cleansed_Carabanchel',\n",
              "       'Neighbourhood Group Cleansed_Centro',\n",
              "       'Neighbourhood Group Cleansed_Chamartín',\n",
              "       'Neighbourhood Group Cleansed_Chamberí',\n",
              "       'Neighbourhood Group Cleansed_Ciudad Lineal',\n",
              "       'Neighbourhood Group Cleansed_Fuencarral - El Pardo',\n",
              "       'Neighbourhood Group Cleansed_Hortaleza',\n",
              "       'Neighbourhood Group Cleansed_Latina',\n",
              "       'Neighbourhood Group Cleansed_Moncloa - Aravaca',\n",
              "       'Neighbourhood Group Cleansed_Moratalaz',\n",
              "       'Neighbourhood Group Cleansed_Puente de Vallecas',\n",
              "       'Neighbourhood Group Cleansed_Retiro',\n",
              "       'Neighbourhood Group Cleansed_Salamanca',\n",
              "       'Neighbourhood Group Cleansed_San Blas - Canillejas',\n",
              "       'Neighbourhood Group Cleansed_Tetuán',\n",
              "       'Neighbourhood Group Cleansed_Usera',\n",
              "       'Neighbourhood Group Cleansed_Vicálvaro',\n",
              "       'Neighbourhood Group Cleansed_Villa de Vallecas',\n",
              "       'Neighbourhood Group Cleansed_Villaverde',\n",
              "       'Property Type_Apartment', 'Property Type_Bed & Breakfast',\n",
              "       'Property Type_Boat', 'Property Type_Boutique hotel',\n",
              "       'Property Type_Bungalow', 'Property Type_Camper/RV',\n",
              "       'Property Type_Casa particular', 'Property Type_Chalet',\n",
              "       'Property Type_Condominium', 'Property Type_Dorm',\n",
              "       'Property Type_Earth House', 'Property Type_Guest suite',\n",
              "       'Property Type_Guesthouse', 'Property Type_Hostel',\n",
              "       'Property Type_House', 'Property Type_Loft', 'Property Type_Other',\n",
              "       'Property Type_Serviced apartment', 'Property Type_Tent',\n",
              "       'Property Type_Timeshare', 'Property Type_Townhouse',\n",
              "       'Property Type_Villa', 'Room Type_Entire home/apt',\n",
              "       'Room Type_Private room', 'Room Type_Shared room',\n",
              "       'Bed Type_Airbed', 'Bed Type_Couch', 'Bed Type_Futon',\n",
              "       'Bed Type_Pull-out Sofa', 'Bed Type_Real Bed',\n",
              "       'Cancellation Policy_flexible', 'Cancellation Policy_moderate',\n",
              "       'Cancellation Policy_strict',\n",
              "       'Cancellation Policy_super_strict_30',\n",
              "       'Cancellation Policy_super_strict_60'], dtype=object)"
            ]
          },
          "metadata": {},
          "execution_count": 64
        }
      ]
    },
    {
      "cell_type": "code",
      "source": [
        "# Voy a eliminar los NA de la columna de \"Thumbnail Url\" que son 19 (es la imagen más pequeña)\n",
        "print(\"El total de NAs en 'Thumbnail Url' es \", df_encoded['Thumbnail Url'].isna().sum())\n",
        "print(\"Voy a eliminarlos -->\")\n",
        "df_encoded = df_encoded[df_encoded['Thumbnail Url'].notna()]\n",
        "print(\"Ahora, el total de NAs en 'Thumbnail Url' es \", df_encoded['Thumbnail Url'].isna().sum())"
      ],
      "metadata": {
        "colab": {
          "base_uri": "https://localhost:8080/"
        },
        "id": "KuAMQmPvoHGn",
        "outputId": "c5192fb7-a36d-4b37-fd19-c63f5365f085"
      },
      "id": "KuAMQmPvoHGn",
      "execution_count": 65,
      "outputs": [
        {
          "output_type": "stream",
          "name": "stdout",
          "text": [
            "El total de NAs en 'Thumbnail Url' es  466\n",
            "Voy a eliminarlos -->\n",
            "Ahora, el total de NAs en 'Thumbnail Url' es  0\n"
          ]
        }
      ]
    },
    {
      "cell_type": "code",
      "source": [
        "df_encoded.shape"
      ],
      "metadata": {
        "colab": {
          "base_uri": "https://localhost:8080/"
        },
        "id": "uLllLCwU_k6H",
        "outputId": "db2eb4a3-5c98-46e2-9078-e076aa98d2b3"
      },
      "id": "uLllLCwU_k6H",
      "execution_count": 66,
      "outputs": [
        {
          "output_type": "execute_result",
          "data": {
            "text/plain": [
              "(2294, 171)"
            ]
          },
          "metadata": {},
          "execution_count": 66
        }
      ]
    },
    {
      "cell_type": "code",
      "source": [
        "# Tomo el dataframe y divido en X y y\n",
        "X = df_encoded.drop('Price', axis=1) \n",
        "y = df_encoded['Price']\n",
        "\n",
        "# Ahora divido los datos: 80% train, 10% validation, 10% test\n",
        "X_train, X_val_test, y_train, y_val_test = train_test_split(X, y, test_size=0.2, random_state=5)\n",
        "X_val, X_test, y_val, y_test = train_test_split(X_val_test, y_val_test, test_size=0.5, random_state=5)"
      ],
      "metadata": {
        "id": "kfDrfKHODo8n"
      },
      "id": "kfDrfKHODo8n",
      "execution_count": 67,
      "outputs": []
    },
    {
      "cell_type": "markdown",
      "source": [
        "Voy a guardarlo en disco, para poder retomar a partir de aquí -->"
      ],
      "metadata": {
        "id": "egy4BbzsGFxF"
      },
      "id": "egy4BbzsGFxF"
    },
    {
      "cell_type": "code",
      "source": [
        "# Guardar CSV\n",
        "X_train.to_csv('train.csv', index=False)\n",
        "X_val.to_csv('validation.csv', index=False)\n",
        "X_test.to_csv('test.csv', index=False)\n",
        "y_train.to_csv('train_target.csv', index=False)\n",
        "y_val.to_csv('validation_target.csv', index=False)\n",
        "y_test.to_csv('test_target.csv', index=False)"
      ],
      "metadata": {
        "id": "-dML5hctGEhC"
      },
      "id": "-dML5hctGEhC",
      "execution_count": 68,
      "outputs": []
    },
    {
      "cell_type": "code",
      "source": [
        "!ls -lh"
      ],
      "metadata": {
        "colab": {
          "base_uri": "https://localhost:8080/"
        },
        "id": "wAYB39WTJE3S",
        "outputId": "368bb7e6-0cc1-4312-c81e-babd071ab24e"
      },
      "id": "wAYB39WTJE3S",
      "execution_count": 69,
      "outputs": [
        {
          "output_type": "stream",
          "name": "stdout",
          "text": [
            "total 75M\n",
            "-rw-rw-r-- 1 root root  58M Dec 21 22:29 airbnb-listings-extract.csv\n",
            "-rw-r--r-- 1 root root  15M Feb 19 19:43 airbnb-listings-extract.zip\n",
            "drwxr-xr-x 2 root root 4.0K Feb 19 19:43 __MACOSX\n",
            "drwxr-xr-x 1 root root 4.0K Feb 17 19:30 sample_data\n",
            "-rw-r--r-- 1 root root 237K Feb 19 19:46 test.csv\n",
            "-rw-r--r-- 1 root root 1.2K Feb 19 19:46 test_target.csv\n",
            "-rw-r--r-- 1 root root 1.9M Feb 19 19:46 train.csv\n",
            "-rw-r--r-- 1 root root 9.2K Feb 19 19:46 train_target.csv\n",
            "-rw-r--r-- 1 root root 235K Feb 19 19:46 validation.csv\n",
            "-rw-r--r-- 1 root root 1.2K Feb 19 19:46 validation_target.csv\n"
          ]
        }
      ]
    },
    {
      "cell_type": "markdown",
      "source": [
        "## 5. Proceso de datos!!!\n",
        "\n",
        "--> Voy a cargar train.csv <--\n",
        "--> Voy a cargar train.csv <--\n",
        "--> Voy a cargar train.csv <--\n",
        "--> Voy a cargar train.csv <--"
      ],
      "metadata": {
        "id": "HfNR-ktWJkz4"
      },
      "id": "HfNR-ktWJkz4"
    },
    {
      "cell_type": "code",
      "source": [
        "# Cargo los datos que almacené separados\n",
        "X_train = pd.read_csv('train.csv')\n",
        "y_train = pd.read_csv('train_target.csv')\n"
      ],
      "metadata": {
        "id": "Em_bgog5Juh1"
      },
      "id": "Em_bgog5Juh1",
      "execution_count": 70,
      "outputs": []
    },
    {
      "cell_type": "code",
      "source": [
        "X_train.head(1)"
      ],
      "metadata": {
        "colab": {
          "base_uri": "https://localhost:8080/",
          "height": 226
        },
        "id": "pzBRFgtrNWde",
        "outputId": "522af9ef-540d-4088-c766-2fa51362a5e3"
      },
      "id": "pzBRFgtrNWde",
      "execution_count": 71,
      "outputs": [
        {
          "output_type": "execute_result",
          "data": {
            "text/plain": [
              "         ID   Host ID  Host Response Rate  Host Listings Count  \\\n",
              "0  14299212  87339455                 NaN                  1.0   \n",
              "\n",
              "   Host Total Listings Count  Zipcode   Latitude  Longitude  Accommodates  \\\n",
              "0                        1.0    28009  40.407388  -3.676061             4   \n",
              "\n",
              "   Bathrooms  ...  Bed Type_Airbed  Bed Type_Couch  Bed Type_Futon  \\\n",
              "0        1.0  ...                0               0               0   \n",
              "\n",
              "   Bed Type_Pull-out Sofa  Bed Type_Real Bed  Cancellation Policy_flexible  \\\n",
              "0                       0                  1                             1   \n",
              "\n",
              "   Cancellation Policy_moderate  Cancellation Policy_strict  \\\n",
              "0                             0                           0   \n",
              "\n",
              "   Cancellation Policy_super_strict_30  Cancellation Policy_super_strict_60  \n",
              "0                                    0                                    0  \n",
              "\n",
              "[1 rows x 170 columns]"
            ],
            "text/html": [
              "\n",
              "  <div id=\"df-6a9573bc-23cf-4998-a2b6-aacca970924d\">\n",
              "    <div class=\"colab-df-container\">\n",
              "      <div>\n",
              "<style scoped>\n",
              "    .dataframe tbody tr th:only-of-type {\n",
              "        vertical-align: middle;\n",
              "    }\n",
              "\n",
              "    .dataframe tbody tr th {\n",
              "        vertical-align: top;\n",
              "    }\n",
              "\n",
              "    .dataframe thead th {\n",
              "        text-align: right;\n",
              "    }\n",
              "</style>\n",
              "<table border=\"1\" class=\"dataframe\">\n",
              "  <thead>\n",
              "    <tr style=\"text-align: right;\">\n",
              "      <th></th>\n",
              "      <th>ID</th>\n",
              "      <th>Host ID</th>\n",
              "      <th>Host Response Rate</th>\n",
              "      <th>Host Listings Count</th>\n",
              "      <th>Host Total Listings Count</th>\n",
              "      <th>Zipcode</th>\n",
              "      <th>Latitude</th>\n",
              "      <th>Longitude</th>\n",
              "      <th>Accommodates</th>\n",
              "      <th>Bathrooms</th>\n",
              "      <th>...</th>\n",
              "      <th>Bed Type_Airbed</th>\n",
              "      <th>Bed Type_Couch</th>\n",
              "      <th>Bed Type_Futon</th>\n",
              "      <th>Bed Type_Pull-out Sofa</th>\n",
              "      <th>Bed Type_Real Bed</th>\n",
              "      <th>Cancellation Policy_flexible</th>\n",
              "      <th>Cancellation Policy_moderate</th>\n",
              "      <th>Cancellation Policy_strict</th>\n",
              "      <th>Cancellation Policy_super_strict_30</th>\n",
              "      <th>Cancellation Policy_super_strict_60</th>\n",
              "    </tr>\n",
              "  </thead>\n",
              "  <tbody>\n",
              "    <tr>\n",
              "      <th>0</th>\n",
              "      <td>14299212</td>\n",
              "      <td>87339455</td>\n",
              "      <td>NaN</td>\n",
              "      <td>1.0</td>\n",
              "      <td>1.0</td>\n",
              "      <td>28009</td>\n",
              "      <td>40.407388</td>\n",
              "      <td>-3.676061</td>\n",
              "      <td>4</td>\n",
              "      <td>1.0</td>\n",
              "      <td>...</td>\n",
              "      <td>0</td>\n",
              "      <td>0</td>\n",
              "      <td>0</td>\n",
              "      <td>0</td>\n",
              "      <td>1</td>\n",
              "      <td>1</td>\n",
              "      <td>0</td>\n",
              "      <td>0</td>\n",
              "      <td>0</td>\n",
              "      <td>0</td>\n",
              "    </tr>\n",
              "  </tbody>\n",
              "</table>\n",
              "<p>1 rows × 170 columns</p>\n",
              "</div>\n",
              "      <button class=\"colab-df-convert\" onclick=\"convertToInteractive('df-6a9573bc-23cf-4998-a2b6-aacca970924d')\"\n",
              "              title=\"Convert this dataframe to an interactive table.\"\n",
              "              style=\"display:none;\">\n",
              "        \n",
              "  <svg xmlns=\"http://www.w3.org/2000/svg\" height=\"24px\"viewBox=\"0 0 24 24\"\n",
              "       width=\"24px\">\n",
              "    <path d=\"M0 0h24v24H0V0z\" fill=\"none\"/>\n",
              "    <path d=\"M18.56 5.44l.94 2.06.94-2.06 2.06-.94-2.06-.94-.94-2.06-.94 2.06-2.06.94zm-11 1L8.5 8.5l.94-2.06 2.06-.94-2.06-.94L8.5 2.5l-.94 2.06-2.06.94zm10 10l.94 2.06.94-2.06 2.06-.94-2.06-.94-.94-2.06-.94 2.06-2.06.94z\"/><path d=\"M17.41 7.96l-1.37-1.37c-.4-.4-.92-.59-1.43-.59-.52 0-1.04.2-1.43.59L10.3 9.45l-7.72 7.72c-.78.78-.78 2.05 0 2.83L4 21.41c.39.39.9.59 1.41.59.51 0 1.02-.2 1.41-.59l7.78-7.78 2.81-2.81c.8-.78.8-2.07 0-2.86zM5.41 20L4 18.59l7.72-7.72 1.47 1.35L5.41 20z\"/>\n",
              "  </svg>\n",
              "      </button>\n",
              "      \n",
              "  <style>\n",
              "    .colab-df-container {\n",
              "      display:flex;\n",
              "      flex-wrap:wrap;\n",
              "      gap: 12px;\n",
              "    }\n",
              "\n",
              "    .colab-df-convert {\n",
              "      background-color: #E8F0FE;\n",
              "      border: none;\n",
              "      border-radius: 50%;\n",
              "      cursor: pointer;\n",
              "      display: none;\n",
              "      fill: #1967D2;\n",
              "      height: 32px;\n",
              "      padding: 0 0 0 0;\n",
              "      width: 32px;\n",
              "    }\n",
              "\n",
              "    .colab-df-convert:hover {\n",
              "      background-color: #E2EBFA;\n",
              "      box-shadow: 0px 1px 2px rgba(60, 64, 67, 0.3), 0px 1px 3px 1px rgba(60, 64, 67, 0.15);\n",
              "      fill: #174EA6;\n",
              "    }\n",
              "\n",
              "    [theme=dark] .colab-df-convert {\n",
              "      background-color: #3B4455;\n",
              "      fill: #D2E3FC;\n",
              "    }\n",
              "\n",
              "    [theme=dark] .colab-df-convert:hover {\n",
              "      background-color: #434B5C;\n",
              "      box-shadow: 0px 1px 3px 1px rgba(0, 0, 0, 0.15);\n",
              "      filter: drop-shadow(0px 1px 2px rgba(0, 0, 0, 0.3));\n",
              "      fill: #FFFFFF;\n",
              "    }\n",
              "  </style>\n",
              "\n",
              "      <script>\n",
              "        const buttonEl =\n",
              "          document.querySelector('#df-6a9573bc-23cf-4998-a2b6-aacca970924d button.colab-df-convert');\n",
              "        buttonEl.style.display =\n",
              "          google.colab.kernel.accessAllowed ? 'block' : 'none';\n",
              "\n",
              "        async function convertToInteractive(key) {\n",
              "          const element = document.querySelector('#df-6a9573bc-23cf-4998-a2b6-aacca970924d');\n",
              "          const dataTable =\n",
              "            await google.colab.kernel.invokeFunction('convertToInteractive',\n",
              "                                                     [key], {});\n",
              "          if (!dataTable) return;\n",
              "\n",
              "          const docLinkHtml = 'Like what you see? Visit the ' +\n",
              "            '<a target=\"_blank\" href=https://colab.research.google.com/notebooks/data_table.ipynb>data table notebook</a>'\n",
              "            + ' to learn more about interactive tables.';\n",
              "          element.innerHTML = '';\n",
              "          dataTable['output_type'] = 'display_data';\n",
              "          await google.colab.output.renderOutput(dataTable, element);\n",
              "          const docLink = document.createElement('div');\n",
              "          docLink.innerHTML = docLinkHtml;\n",
              "          element.appendChild(docLink);\n",
              "        }\n",
              "      </script>\n",
              "    </div>\n",
              "  </div>\n",
              "  "
            ]
          },
          "metadata": {},
          "execution_count": 71
        }
      ]
    },
    {
      "cell_type": "code",
      "source": [
        "columnas_objeto = X_train.select_dtypes(include=['object'])\n",
        "X_train = X_train.drop(columns=columnas_objeto)\n",
        "\n",
        "lista_columnas = X_train.columns.values\n",
        "for name in lista_columnas:\n",
        "    X_train[name].fillna(X_train[name].mode()[0], inplace=True)\n",
        "\n",
        "X_train.shape\n",
        "#y_train.shape"
      ],
      "metadata": {
        "colab": {
          "base_uri": "https://localhost:8080/"
        },
        "id": "NQbMGu7wNWgJ",
        "outputId": "1467b22e-4582-4a9d-d62f-c325f8188361"
      },
      "id": "NQbMGu7wNWgJ",
      "execution_count": 72,
      "outputs": [
        {
          "output_type": "execute_result",
          "data": {
            "text/plain": [
              "(1835, 164)"
            ]
          },
          "metadata": {},
          "execution_count": 72
        }
      ]
    },
    {
      "cell_type": "markdown",
      "source": [
        "Voy a estandarizar. Voy a probar primero con MinMaxScaler para los valores float64 y StandardScaler para los valores Int64.\n",
        "* MinMaxScaler. Lo usaré para los valores Int64, porque es una buena alternativa para números que tienen un rango pequeño de valores. La mayor parte de mis datos son '0' o '1', o los ID, o los códigos postales. \n",
        "* StandardScaler. Es más adecuado para rangos más amplios de valores y distribuciones no uniformes (como puede ser todas las variables numéricas originales. "
      ],
      "metadata": {
        "id": "U3xAZBlkUcWE"
      },
      "id": "U3xAZBlkUcWE"
    },
    {
      "cell_type": "code",
      "source": [
        "columnas_Int64 = X_train.select_dtypes(include=['Int64'])\n",
        "columnas_Int64.head(1)"
      ],
      "metadata": {
        "colab": {
          "base_uri": "https://localhost:8080/",
          "height": 209
        },
        "id": "-78wbIXYNWjL",
        "outputId": "0c3e0701-0ba3-4bc4-81b9-3fc6b801a76e"
      },
      "id": "-78wbIXYNWjL",
      "execution_count": 73,
      "outputs": [
        {
          "output_type": "execute_result",
          "data": {
            "text/plain": [
              "         ID   Host ID  Zipcode  Accommodates  Guests Included  Extra People  \\\n",
              "0  14299212  87339455    28009             4                1             0   \n",
              "\n",
              "   Minimum Nights  Maximum Nights  Availability 30  Availability 60  ...  \\\n",
              "0               3              29                0                0  ...   \n",
              "\n",
              "   Bed Type_Airbed  Bed Type_Couch  Bed Type_Futon  Bed Type_Pull-out Sofa  \\\n",
              "0                0               0               0                       0   \n",
              "\n",
              "   Bed Type_Real Bed  Cancellation Policy_flexible  \\\n",
              "0                  1                             1   \n",
              "\n",
              "   Cancellation Policy_moderate  Cancellation Policy_strict  \\\n",
              "0                             0                           0   \n",
              "\n",
              "   Cancellation Policy_super_strict_30  Cancellation Policy_super_strict_60  \n",
              "0                                    0                                    0  \n",
              "\n",
              "[1 rows x 138 columns]"
            ],
            "text/html": [
              "\n",
              "  <div id=\"df-fa10b3fa-ffd3-4dc2-ad32-fcd7767a5aec\">\n",
              "    <div class=\"colab-df-container\">\n",
              "      <div>\n",
              "<style scoped>\n",
              "    .dataframe tbody tr th:only-of-type {\n",
              "        vertical-align: middle;\n",
              "    }\n",
              "\n",
              "    .dataframe tbody tr th {\n",
              "        vertical-align: top;\n",
              "    }\n",
              "\n",
              "    .dataframe thead th {\n",
              "        text-align: right;\n",
              "    }\n",
              "</style>\n",
              "<table border=\"1\" class=\"dataframe\">\n",
              "  <thead>\n",
              "    <tr style=\"text-align: right;\">\n",
              "      <th></th>\n",
              "      <th>ID</th>\n",
              "      <th>Host ID</th>\n",
              "      <th>Zipcode</th>\n",
              "      <th>Accommodates</th>\n",
              "      <th>Guests Included</th>\n",
              "      <th>Extra People</th>\n",
              "      <th>Minimum Nights</th>\n",
              "      <th>Maximum Nights</th>\n",
              "      <th>Availability 30</th>\n",
              "      <th>Availability 60</th>\n",
              "      <th>...</th>\n",
              "      <th>Bed Type_Airbed</th>\n",
              "      <th>Bed Type_Couch</th>\n",
              "      <th>Bed Type_Futon</th>\n",
              "      <th>Bed Type_Pull-out Sofa</th>\n",
              "      <th>Bed Type_Real Bed</th>\n",
              "      <th>Cancellation Policy_flexible</th>\n",
              "      <th>Cancellation Policy_moderate</th>\n",
              "      <th>Cancellation Policy_strict</th>\n",
              "      <th>Cancellation Policy_super_strict_30</th>\n",
              "      <th>Cancellation Policy_super_strict_60</th>\n",
              "    </tr>\n",
              "  </thead>\n",
              "  <tbody>\n",
              "    <tr>\n",
              "      <th>0</th>\n",
              "      <td>14299212</td>\n",
              "      <td>87339455</td>\n",
              "      <td>28009</td>\n",
              "      <td>4</td>\n",
              "      <td>1</td>\n",
              "      <td>0</td>\n",
              "      <td>3</td>\n",
              "      <td>29</td>\n",
              "      <td>0</td>\n",
              "      <td>0</td>\n",
              "      <td>...</td>\n",
              "      <td>0</td>\n",
              "      <td>0</td>\n",
              "      <td>0</td>\n",
              "      <td>0</td>\n",
              "      <td>1</td>\n",
              "      <td>1</td>\n",
              "      <td>0</td>\n",
              "      <td>0</td>\n",
              "      <td>0</td>\n",
              "      <td>0</td>\n",
              "    </tr>\n",
              "  </tbody>\n",
              "</table>\n",
              "<p>1 rows × 138 columns</p>\n",
              "</div>\n",
              "      <button class=\"colab-df-convert\" onclick=\"convertToInteractive('df-fa10b3fa-ffd3-4dc2-ad32-fcd7767a5aec')\"\n",
              "              title=\"Convert this dataframe to an interactive table.\"\n",
              "              style=\"display:none;\">\n",
              "        \n",
              "  <svg xmlns=\"http://www.w3.org/2000/svg\" height=\"24px\"viewBox=\"0 0 24 24\"\n",
              "       width=\"24px\">\n",
              "    <path d=\"M0 0h24v24H0V0z\" fill=\"none\"/>\n",
              "    <path d=\"M18.56 5.44l.94 2.06.94-2.06 2.06-.94-2.06-.94-.94-2.06-.94 2.06-2.06.94zm-11 1L8.5 8.5l.94-2.06 2.06-.94-2.06-.94L8.5 2.5l-.94 2.06-2.06.94zm10 10l.94 2.06.94-2.06 2.06-.94-2.06-.94-.94-2.06-.94 2.06-2.06.94z\"/><path d=\"M17.41 7.96l-1.37-1.37c-.4-.4-.92-.59-1.43-.59-.52 0-1.04.2-1.43.59L10.3 9.45l-7.72 7.72c-.78.78-.78 2.05 0 2.83L4 21.41c.39.39.9.59 1.41.59.51 0 1.02-.2 1.41-.59l7.78-7.78 2.81-2.81c.8-.78.8-2.07 0-2.86zM5.41 20L4 18.59l7.72-7.72 1.47 1.35L5.41 20z\"/>\n",
              "  </svg>\n",
              "      </button>\n",
              "      \n",
              "  <style>\n",
              "    .colab-df-container {\n",
              "      display:flex;\n",
              "      flex-wrap:wrap;\n",
              "      gap: 12px;\n",
              "    }\n",
              "\n",
              "    .colab-df-convert {\n",
              "      background-color: #E8F0FE;\n",
              "      border: none;\n",
              "      border-radius: 50%;\n",
              "      cursor: pointer;\n",
              "      display: none;\n",
              "      fill: #1967D2;\n",
              "      height: 32px;\n",
              "      padding: 0 0 0 0;\n",
              "      width: 32px;\n",
              "    }\n",
              "\n",
              "    .colab-df-convert:hover {\n",
              "      background-color: #E2EBFA;\n",
              "      box-shadow: 0px 1px 2px rgba(60, 64, 67, 0.3), 0px 1px 3px 1px rgba(60, 64, 67, 0.15);\n",
              "      fill: #174EA6;\n",
              "    }\n",
              "\n",
              "    [theme=dark] .colab-df-convert {\n",
              "      background-color: #3B4455;\n",
              "      fill: #D2E3FC;\n",
              "    }\n",
              "\n",
              "    [theme=dark] .colab-df-convert:hover {\n",
              "      background-color: #434B5C;\n",
              "      box-shadow: 0px 1px 3px 1px rgba(0, 0, 0, 0.15);\n",
              "      filter: drop-shadow(0px 1px 2px rgba(0, 0, 0, 0.3));\n",
              "      fill: #FFFFFF;\n",
              "    }\n",
              "  </style>\n",
              "\n",
              "      <script>\n",
              "        const buttonEl =\n",
              "          document.querySelector('#df-fa10b3fa-ffd3-4dc2-ad32-fcd7767a5aec button.colab-df-convert');\n",
              "        buttonEl.style.display =\n",
              "          google.colab.kernel.accessAllowed ? 'block' : 'none';\n",
              "\n",
              "        async function convertToInteractive(key) {\n",
              "          const element = document.querySelector('#df-fa10b3fa-ffd3-4dc2-ad32-fcd7767a5aec');\n",
              "          const dataTable =\n",
              "            await google.colab.kernel.invokeFunction('convertToInteractive',\n",
              "                                                     [key], {});\n",
              "          if (!dataTable) return;\n",
              "\n",
              "          const docLinkHtml = 'Like what you see? Visit the ' +\n",
              "            '<a target=\"_blank\" href=https://colab.research.google.com/notebooks/data_table.ipynb>data table notebook</a>'\n",
              "            + ' to learn more about interactive tables.';\n",
              "          element.innerHTML = '';\n",
              "          dataTable['output_type'] = 'display_data';\n",
              "          await google.colab.output.renderOutput(dataTable, element);\n",
              "          const docLink = document.createElement('div');\n",
              "          docLink.innerHTML = docLinkHtml;\n",
              "          element.appendChild(docLink);\n",
              "        }\n",
              "      </script>\n",
              "    </div>\n",
              "  </div>\n",
              "  "
            ]
          },
          "metadata": {},
          "execution_count": 73
        }
      ]
    },
    {
      "cell_type": "code",
      "source": [
        "columnas_float64 = X_train.select_dtypes(include=['float64'])\n",
        "columnas_float64.head(1)"
      ],
      "metadata": {
        "colab": {
          "base_uri": "https://localhost:8080/",
          "height": 226
        },
        "id": "VBt1kfJrT3aB",
        "outputId": "1be240a0-37f5-48de-e1a6-b43acf7a20c3"
      },
      "id": "VBt1kfJrT3aB",
      "execution_count": 74,
      "outputs": [
        {
          "output_type": "execute_result",
          "data": {
            "text/plain": [
              "   Host Response Rate  Host Listings Count  Host Total Listings Count  \\\n",
              "0               100.0                  1.0                        1.0   \n",
              "\n",
              "    Latitude  Longitude  Bathrooms  Bedrooms  Beds  Review Scores Rating  \\\n",
              "0  40.407388  -3.676061        1.0       1.0   2.0                 100.0   \n",
              "\n",
              "   Review Scores Accuracy  ...  Reviews per Month  Host Since_year  \\\n",
              "0                    10.0  ...               0.38           2016.0   \n",
              "\n",
              "   Host Since_month  Host Since_day  First Review_year  First Review_month  \\\n",
              "0               8.0             1.0             2016.0                10.0   \n",
              "\n",
              "   First Review_day  Last Review_year  Last Review_month  Last Review_day  \n",
              "0              31.0            2017.0                1.0              3.0  \n",
              "\n",
              "[1 rows x 26 columns]"
            ],
            "text/html": [
              "\n",
              "  <div id=\"df-3002ecb9-07f0-4b0c-8742-4e3bdc4be483\">\n",
              "    <div class=\"colab-df-container\">\n",
              "      <div>\n",
              "<style scoped>\n",
              "    .dataframe tbody tr th:only-of-type {\n",
              "        vertical-align: middle;\n",
              "    }\n",
              "\n",
              "    .dataframe tbody tr th {\n",
              "        vertical-align: top;\n",
              "    }\n",
              "\n",
              "    .dataframe thead th {\n",
              "        text-align: right;\n",
              "    }\n",
              "</style>\n",
              "<table border=\"1\" class=\"dataframe\">\n",
              "  <thead>\n",
              "    <tr style=\"text-align: right;\">\n",
              "      <th></th>\n",
              "      <th>Host Response Rate</th>\n",
              "      <th>Host Listings Count</th>\n",
              "      <th>Host Total Listings Count</th>\n",
              "      <th>Latitude</th>\n",
              "      <th>Longitude</th>\n",
              "      <th>Bathrooms</th>\n",
              "      <th>Bedrooms</th>\n",
              "      <th>Beds</th>\n",
              "      <th>Review Scores Rating</th>\n",
              "      <th>Review Scores Accuracy</th>\n",
              "      <th>...</th>\n",
              "      <th>Reviews per Month</th>\n",
              "      <th>Host Since_year</th>\n",
              "      <th>Host Since_month</th>\n",
              "      <th>Host Since_day</th>\n",
              "      <th>First Review_year</th>\n",
              "      <th>First Review_month</th>\n",
              "      <th>First Review_day</th>\n",
              "      <th>Last Review_year</th>\n",
              "      <th>Last Review_month</th>\n",
              "      <th>Last Review_day</th>\n",
              "    </tr>\n",
              "  </thead>\n",
              "  <tbody>\n",
              "    <tr>\n",
              "      <th>0</th>\n",
              "      <td>100.0</td>\n",
              "      <td>1.0</td>\n",
              "      <td>1.0</td>\n",
              "      <td>40.407388</td>\n",
              "      <td>-3.676061</td>\n",
              "      <td>1.0</td>\n",
              "      <td>1.0</td>\n",
              "      <td>2.0</td>\n",
              "      <td>100.0</td>\n",
              "      <td>10.0</td>\n",
              "      <td>...</td>\n",
              "      <td>0.38</td>\n",
              "      <td>2016.0</td>\n",
              "      <td>8.0</td>\n",
              "      <td>1.0</td>\n",
              "      <td>2016.0</td>\n",
              "      <td>10.0</td>\n",
              "      <td>31.0</td>\n",
              "      <td>2017.0</td>\n",
              "      <td>1.0</td>\n",
              "      <td>3.0</td>\n",
              "    </tr>\n",
              "  </tbody>\n",
              "</table>\n",
              "<p>1 rows × 26 columns</p>\n",
              "</div>\n",
              "      <button class=\"colab-df-convert\" onclick=\"convertToInteractive('df-3002ecb9-07f0-4b0c-8742-4e3bdc4be483')\"\n",
              "              title=\"Convert this dataframe to an interactive table.\"\n",
              "              style=\"display:none;\">\n",
              "        \n",
              "  <svg xmlns=\"http://www.w3.org/2000/svg\" height=\"24px\"viewBox=\"0 0 24 24\"\n",
              "       width=\"24px\">\n",
              "    <path d=\"M0 0h24v24H0V0z\" fill=\"none\"/>\n",
              "    <path d=\"M18.56 5.44l.94 2.06.94-2.06 2.06-.94-2.06-.94-.94-2.06-.94 2.06-2.06.94zm-11 1L8.5 8.5l.94-2.06 2.06-.94-2.06-.94L8.5 2.5l-.94 2.06-2.06.94zm10 10l.94 2.06.94-2.06 2.06-.94-2.06-.94-.94-2.06-.94 2.06-2.06.94z\"/><path d=\"M17.41 7.96l-1.37-1.37c-.4-.4-.92-.59-1.43-.59-.52 0-1.04.2-1.43.59L10.3 9.45l-7.72 7.72c-.78.78-.78 2.05 0 2.83L4 21.41c.39.39.9.59 1.41.59.51 0 1.02-.2 1.41-.59l7.78-7.78 2.81-2.81c.8-.78.8-2.07 0-2.86zM5.41 20L4 18.59l7.72-7.72 1.47 1.35L5.41 20z\"/>\n",
              "  </svg>\n",
              "      </button>\n",
              "      \n",
              "  <style>\n",
              "    .colab-df-container {\n",
              "      display:flex;\n",
              "      flex-wrap:wrap;\n",
              "      gap: 12px;\n",
              "    }\n",
              "\n",
              "    .colab-df-convert {\n",
              "      background-color: #E8F0FE;\n",
              "      border: none;\n",
              "      border-radius: 50%;\n",
              "      cursor: pointer;\n",
              "      display: none;\n",
              "      fill: #1967D2;\n",
              "      height: 32px;\n",
              "      padding: 0 0 0 0;\n",
              "      width: 32px;\n",
              "    }\n",
              "\n",
              "    .colab-df-convert:hover {\n",
              "      background-color: #E2EBFA;\n",
              "      box-shadow: 0px 1px 2px rgba(60, 64, 67, 0.3), 0px 1px 3px 1px rgba(60, 64, 67, 0.15);\n",
              "      fill: #174EA6;\n",
              "    }\n",
              "\n",
              "    [theme=dark] .colab-df-convert {\n",
              "      background-color: #3B4455;\n",
              "      fill: #D2E3FC;\n",
              "    }\n",
              "\n",
              "    [theme=dark] .colab-df-convert:hover {\n",
              "      background-color: #434B5C;\n",
              "      box-shadow: 0px 1px 3px 1px rgba(0, 0, 0, 0.15);\n",
              "      filter: drop-shadow(0px 1px 2px rgba(0, 0, 0, 0.3));\n",
              "      fill: #FFFFFF;\n",
              "    }\n",
              "  </style>\n",
              "\n",
              "      <script>\n",
              "        const buttonEl =\n",
              "          document.querySelector('#df-3002ecb9-07f0-4b0c-8742-4e3bdc4be483 button.colab-df-convert');\n",
              "        buttonEl.style.display =\n",
              "          google.colab.kernel.accessAllowed ? 'block' : 'none';\n",
              "\n",
              "        async function convertToInteractive(key) {\n",
              "          const element = document.querySelector('#df-3002ecb9-07f0-4b0c-8742-4e3bdc4be483');\n",
              "          const dataTable =\n",
              "            await google.colab.kernel.invokeFunction('convertToInteractive',\n",
              "                                                     [key], {});\n",
              "          if (!dataTable) return;\n",
              "\n",
              "          const docLinkHtml = 'Like what you see? Visit the ' +\n",
              "            '<a target=\"_blank\" href=https://colab.research.google.com/notebooks/data_table.ipynb>data table notebook</a>'\n",
              "            + ' to learn more about interactive tables.';\n",
              "          element.innerHTML = '';\n",
              "          dataTable['output_type'] = 'display_data';\n",
              "          await google.colab.output.renderOutput(dataTable, element);\n",
              "          const docLink = document.createElement('div');\n",
              "          docLink.innerHTML = docLinkHtml;\n",
              "          element.appendChild(docLink);\n",
              "        }\n",
              "      </script>\n",
              "    </div>\n",
              "  </div>\n",
              "  "
            ]
          },
          "metadata": {},
          "execution_count": 74
        }
      ]
    },
    {
      "cell_type": "code",
      "source": [
        "# creo los scalers\n",
        "float_scaler = MinMaxScaler()\n",
        "#int_scaler = MinMaxScaler()\n",
        "int_scaler = StandardScaler()\n",
        "target_scaler = MinMaxScaler()\n",
        "\n",
        "# Transformo y hago 'fit' de las columnas float64\n",
        "X_train[columnas_float64.columns] = float_scaler.fit_transform(X_train[columnas_float64.columns])\n",
        "\n",
        "# Transformo y hago 'fit' de las columnas Int64\n",
        "X_train[columnas_Int64.columns] = int_scaler.fit_transform(X_train[columnas_Int64.columns])\n",
        "\n",
        "# Transformo y hgo 'fit' de la variable objetivo\n",
        "y_train = y_train.values.reshape(-1, 1)  # reshape y_train para tener un arreglo 2D\n",
        "y_train = target_scaler.fit_transform(y_train)"
      ],
      "metadata": {
        "id": "1EY6Mh4fT3cr"
      },
      "id": "1EY6Mh4fT3cr",
      "execution_count": 75,
      "outputs": []
    },
    {
      "cell_type": "markdown",
      "source": [
        "## 6. Defino el modelo que voy a usar. Voy a iniciar con el total de columnas de X_train para el número de neuronas y capasa. Veamos qué resultados da. "
      ],
      "metadata": {
        "id": "aP-ldk_BgXH8"
      },
      "id": "aP-ldk_BgXH8"
    },
    {
      "cell_type": "code",
      "source": [
        "# Cargo la info de validación \n",
        "X_val = pd.read_csv('validation.csv')\n",
        "X_val = X_val.drop(columns=columnas_objeto)\n",
        "lista_columnas = X_val.columns.values\n",
        "y_val = pd.read_csv('validation_target.csv')\n",
        "for name in lista_columnas:\n",
        "    X_val[name].fillna(X_val[name].mode()[0], inplace=True)\n",
        "\n",
        "\n",
        "X_val[columnas_float64.columns] = float_scaler.fit_transform(X_val[columnas_float64.columns])\n",
        "\n",
        "X_val[columnas_Int64.columns] = int_scaler.fit_transform(X_val[columnas_Int64.columns])\n",
        "\n",
        "y_val = y_val.values.reshape(-1, 1)  # reshape y_train para tener un arreglo 2D\n",
        "y_val = target_scaler.fit_transform(y_val)\n",
        "\n",
        "# Cargo la información de Test\n",
        "X_test = pd.read_csv('test.csv')\n",
        "X_test = X_test.drop(columns=columnas_objeto)\n",
        "\n",
        "y_test = pd.read_csv('test_target.csv')\n",
        "\n",
        "lista_columnas = X_test.columns.values\n",
        "for name in lista_columnas:\n",
        "    X_test[name].fillna(X_test[name].mode()[0], inplace=True)\n",
        "\n",
        "X_test[columnas_Int64.columns] = int_scaler.fit_transform(X_test[columnas_Int64.columns])\n",
        "X_test[columnas_float64.columns] = float_scaler.fit_transform(X_test[columnas_float64.columns])\n",
        "\n",
        "y_test = y_test.values.reshape(-1, 1)  # reshape y_test para tener un arreglo 2D\n",
        "y_test = target_scaler.fit_transform(y_test)\n",
        "\n",
        "#X_train.shape\n",
        "#y_train.shape"
      ],
      "metadata": {
        "id": "ZumqucfvgG50"
      },
      "id": "ZumqucfvgG50",
      "execution_count": 76,
      "outputs": []
    },
    {
      "cell_type": "code",
      "source": [
        "from keras import models, layers, optimizers\n",
        "\n",
        "def train_network(num_epochs, batch_size, input_shape, optimizer):\n",
        "  \n",
        "  # Implementamos la red empleando Keras\n",
        "  model = models.Sequential([\n",
        "    layers.Dense(128, activation=tf.nn.relu, kernel_initializer='random_uniform', bias_initializer='zeros', input_shape=input_shape),\n",
        "    layers.Dense(64, activation=tf.nn.relu),\n",
        "    layers.Dense(24, activation=tf.nn.relu),\n",
        "    layers.Dense(4, activation=tf.nn.relu),\n",
        "    layers.Dense(1, activation=tf.nn.sigmoid)\n",
        "  ])\n",
        "\n",
        "  # Compilo el modelo \n",
        "  model.compile(loss=\"mean_squared_error\", optimizer=optimizer, metrics=[\"mean_absolute_error\"])\n",
        "\n",
        "  # Entrenando la solución\n",
        "  H = model.fit(X_train, y_train, validation_data=(X_val, y_val), epochs=num_epochs, batch_size=batch_size)\n",
        "\n",
        "  # Evaluando el modelo de predicción con las imágenes de test\n",
        "  print(\"[INFO]: Evaluando red neuronal...\")\n",
        "  val_pred = model.predict(X_test, batch_size=batch_size)\n",
        "  delta = ((val_pred.flatten() - y_test) *100)/y_test\n",
        "  print(\"La media de delta es --> \", delta.mean())\n",
        "  model.summary()\n",
        "\n",
        "\n",
        "  # Muestro gráfica de accuracy y losses\n",
        "  plt.style.use(\"ggplot\")\n",
        "  plt.figure()\n",
        "  plt.plot(np.arange(0, num_epochs), H.history[\"mean_absolute_error\"], label=\"mean_absolute_error\")\n",
        "  plt.plot(np.arange(0, num_epochs), H.history[\"val_mean_absolute_error\"], label=\"val_mean_absolute_error\")\n",
        "  plt.plot(np.arange(0, num_epochs), H.history[\"loss\"], label=\"loss\")\n",
        "  plt.plot(np.arange(0, num_epochs), H.history[\"val_loss\"], label=\"val_loss\")\n",
        "  plt.title(\"MAE\")\n",
        "  plt.title(\"Loss\")\n",
        "  plt.xlabel(\"Epoch #\")\n",
        "  plt.ylabel(\"MAE/Loss\")\n",
        "  plt.legend()\n",
        "\n",
        "  return(model)\n"
      ],
      "metadata": {
        "id": "Epzl3uawgG8O"
      },
      "id": "Epzl3uawgG8O",
      "execution_count": 77,
      "outputs": []
    },
    {
      "cell_type": "code",
      "source": [
        "# vamos a probar nuestra red con decay\n",
        "\n",
        "learning_rate = 0.00053\n",
        "batch_size = 32\n",
        "num_epochs = 51\n",
        "#optimizer = tf.keras.optimizers.RMSprop(learning_rate=learning_rate)\n",
        "#optimizer = tf.keras.optimizers.Adam(learning_rate=learning_rate)\n",
        "optimizer = tf.keras.optimizers.SGD(learning_rate=learning_rate)\n",
        "input_shape = [X_train.shape[1]]\n",
        "\n",
        "model = train_network(num_epochs, batch_size, input_shape, optimizer)\n",
        "#train_network_1(num_epochs, batch_size, optimizer)\n"
      ],
      "metadata": {
        "colab": {
          "base_uri": "https://localhost:8080/",
          "height": 1000
        },
        "id": "pobcHPmpgG--",
        "outputId": "7f2945e0-e721-4324-e93b-3e439504fbd8"
      },
      "id": "pobcHPmpgG--",
      "execution_count": 78,
      "outputs": [
        {
          "output_type": "stream",
          "name": "stdout",
          "text": [
            "Epoch 1/51\n",
            "58/58 [==============================] - 1s 8ms/step - loss: 0.1495 - mean_absolute_error: 0.3798 - val_loss: 0.1419 - val_mean_absolute_error: 0.3659\n",
            "Epoch 2/51\n",
            "58/58 [==============================] - 0s 3ms/step - loss: 0.1458 - mean_absolute_error: 0.3749 - val_loss: 0.1384 - val_mean_absolute_error: 0.3612\n",
            "Epoch 3/51\n",
            "58/58 [==============================] - 0s 3ms/step - loss: 0.1422 - mean_absolute_error: 0.3701 - val_loss: 0.1350 - val_mean_absolute_error: 0.3564\n",
            "Epoch 4/51\n",
            "58/58 [==============================] - 0s 3ms/step - loss: 0.1386 - mean_absolute_error: 0.3652 - val_loss: 0.1316 - val_mean_absolute_error: 0.3516\n",
            "Epoch 5/51\n",
            "58/58 [==============================] - 0s 3ms/step - loss: 0.1350 - mean_absolute_error: 0.3603 - val_loss: 0.1283 - val_mean_absolute_error: 0.3469\n",
            "Epoch 6/51\n",
            "58/58 [==============================] - 0s 3ms/step - loss: 0.1315 - mean_absolute_error: 0.3554 - val_loss: 0.1250 - val_mean_absolute_error: 0.3421\n",
            "Epoch 7/51\n",
            "58/58 [==============================] - 0s 3ms/step - loss: 0.1280 - mean_absolute_error: 0.3505 - val_loss: 0.1218 - val_mean_absolute_error: 0.3374\n",
            "Epoch 8/51\n",
            "58/58 [==============================] - 0s 3ms/step - loss: 0.1246 - mean_absolute_error: 0.3456 - val_loss: 0.1186 - val_mean_absolute_error: 0.3326\n",
            "Epoch 9/51\n",
            "58/58 [==============================] - 0s 3ms/step - loss: 0.1211 - mean_absolute_error: 0.3406 - val_loss: 0.1154 - val_mean_absolute_error: 0.3277\n",
            "Epoch 10/51\n",
            "58/58 [==============================] - 0s 3ms/step - loss: 0.1177 - mean_absolute_error: 0.3356 - val_loss: 0.1122 - val_mean_absolute_error: 0.3228\n",
            "Epoch 11/51\n",
            "58/58 [==============================] - 0s 3ms/step - loss: 0.1143 - mean_absolute_error: 0.3306 - val_loss: 0.1090 - val_mean_absolute_error: 0.3179\n",
            "Epoch 12/51\n",
            "58/58 [==============================] - 0s 3ms/step - loss: 0.1110 - mean_absolute_error: 0.3255 - val_loss: 0.1059 - val_mean_absolute_error: 0.3130\n",
            "Epoch 13/51\n",
            "58/58 [==============================] - 0s 3ms/step - loss: 0.1077 - mean_absolute_error: 0.3204 - val_loss: 0.1028 - val_mean_absolute_error: 0.3080\n",
            "Epoch 14/51\n",
            "58/58 [==============================] - 0s 5ms/step - loss: 0.1044 - mean_absolute_error: 0.3152 - val_loss: 0.0997 - val_mean_absolute_error: 0.3029\n",
            "Epoch 15/51\n",
            "58/58 [==============================] - 0s 4ms/step - loss: 0.1011 - mean_absolute_error: 0.3100 - val_loss: 0.0966 - val_mean_absolute_error: 0.2979\n",
            "Epoch 16/51\n",
            "58/58 [==============================] - 0s 5ms/step - loss: 0.0978 - mean_absolute_error: 0.3047 - val_loss: 0.0936 - val_mean_absolute_error: 0.2928\n",
            "Epoch 17/51\n",
            "58/58 [==============================] - 0s 4ms/step - loss: 0.0946 - mean_absolute_error: 0.2994 - val_loss: 0.0906 - val_mean_absolute_error: 0.2877\n",
            "Epoch 18/51\n",
            "58/58 [==============================] - 0s 5ms/step - loss: 0.0914 - mean_absolute_error: 0.2941 - val_loss: 0.0877 - val_mean_absolute_error: 0.2826\n",
            "Epoch 19/51\n",
            "58/58 [==============================] - 0s 4ms/step - loss: 0.0883 - mean_absolute_error: 0.2887 - val_loss: 0.0847 - val_mean_absolute_error: 0.2774\n",
            "Epoch 20/51\n",
            "58/58 [==============================] - 0s 5ms/step - loss: 0.0851 - mean_absolute_error: 0.2833 - val_loss: 0.0819 - val_mean_absolute_error: 0.2723\n",
            "Epoch 21/51\n",
            "58/58 [==============================] - 0s 4ms/step - loss: 0.0821 - mean_absolute_error: 0.2779 - val_loss: 0.0790 - val_mean_absolute_error: 0.2672\n",
            "Epoch 22/51\n",
            "58/58 [==============================] - 0s 4ms/step - loss: 0.0790 - mean_absolute_error: 0.2724 - val_loss: 0.0762 - val_mean_absolute_error: 0.2620\n",
            "Epoch 23/51\n",
            "58/58 [==============================] - 0s 5ms/step - loss: 0.0760 - mean_absolute_error: 0.2669 - val_loss: 0.0735 - val_mean_absolute_error: 0.2568\n",
            "Epoch 24/51\n",
            "58/58 [==============================] - 0s 5ms/step - loss: 0.0731 - mean_absolute_error: 0.2614 - val_loss: 0.0708 - val_mean_absolute_error: 0.2516\n",
            "Epoch 25/51\n",
            "58/58 [==============================] - 0s 5ms/step - loss: 0.0702 - mean_absolute_error: 0.2559 - val_loss: 0.0682 - val_mean_absolute_error: 0.2464\n",
            "Epoch 26/51\n",
            "58/58 [==============================] - 0s 4ms/step - loss: 0.0674 - mean_absolute_error: 0.2504 - val_loss: 0.0656 - val_mean_absolute_error: 0.2412\n",
            "Epoch 27/51\n",
            "58/58 [==============================] - 0s 3ms/step - loss: 0.0647 - mean_absolute_error: 0.2450 - val_loss: 0.0631 - val_mean_absolute_error: 0.2361\n",
            "Epoch 28/51\n",
            "58/58 [==============================] - 0s 3ms/step - loss: 0.0620 - mean_absolute_error: 0.2395 - val_loss: 0.0606 - val_mean_absolute_error: 0.2311\n",
            "Epoch 29/51\n",
            "58/58 [==============================] - 0s 3ms/step - loss: 0.0594 - mean_absolute_error: 0.2341 - val_loss: 0.0583 - val_mean_absolute_error: 0.2261\n",
            "Epoch 30/51\n",
            "58/58 [==============================] - 0s 3ms/step - loss: 0.0569 - mean_absolute_error: 0.2288 - val_loss: 0.0560 - val_mean_absolute_error: 0.2211\n",
            "Epoch 31/51\n",
            "58/58 [==============================] - 0s 3ms/step - loss: 0.0544 - mean_absolute_error: 0.2235 - val_loss: 0.0537 - val_mean_absolute_error: 0.2162\n",
            "Epoch 32/51\n",
            "58/58 [==============================] - 0s 3ms/step - loss: 0.0520 - mean_absolute_error: 0.2183 - val_loss: 0.0516 - val_mean_absolute_error: 0.2114\n",
            "Epoch 33/51\n",
            "58/58 [==============================] - 0s 3ms/step - loss: 0.0498 - mean_absolute_error: 0.2132 - val_loss: 0.0496 - val_mean_absolute_error: 0.2067\n",
            "Epoch 34/51\n",
            "58/58 [==============================] - 0s 3ms/step - loss: 0.0476 - mean_absolute_error: 0.2082 - val_loss: 0.0476 - val_mean_absolute_error: 0.2021\n",
            "Epoch 35/51\n",
            "58/58 [==============================] - 0s 3ms/step - loss: 0.0455 - mean_absolute_error: 0.2033 - val_loss: 0.0457 - val_mean_absolute_error: 0.1976\n",
            "Epoch 36/51\n",
            "58/58 [==============================] - 0s 3ms/step - loss: 0.0435 - mean_absolute_error: 0.1984 - val_loss: 0.0440 - val_mean_absolute_error: 0.1932\n",
            "Epoch 37/51\n",
            "58/58 [==============================] - 0s 3ms/step - loss: 0.0416 - mean_absolute_error: 0.1936 - val_loss: 0.0423 - val_mean_absolute_error: 0.1889\n",
            "Epoch 38/51\n",
            "58/58 [==============================] - 0s 3ms/step - loss: 0.0398 - mean_absolute_error: 0.1890 - val_loss: 0.0407 - val_mean_absolute_error: 0.1847\n",
            "Epoch 39/51\n",
            "58/58 [==============================] - 0s 3ms/step - loss: 0.0380 - mean_absolute_error: 0.1845 - val_loss: 0.0391 - val_mean_absolute_error: 0.1806\n",
            "Epoch 40/51\n",
            "58/58 [==============================] - 0s 3ms/step - loss: 0.0363 - mean_absolute_error: 0.1800 - val_loss: 0.0377 - val_mean_absolute_error: 0.1766\n",
            "Epoch 41/51\n",
            "58/58 [==============================] - 0s 3ms/step - loss: 0.0348 - mean_absolute_error: 0.1757 - val_loss: 0.0363 - val_mean_absolute_error: 0.1727\n",
            "Epoch 42/51\n",
            "58/58 [==============================] - 0s 3ms/step - loss: 0.0333 - mean_absolute_error: 0.1715 - val_loss: 0.0350 - val_mean_absolute_error: 0.1690\n",
            "Epoch 43/51\n",
            "58/58 [==============================] - 0s 3ms/step - loss: 0.0318 - mean_absolute_error: 0.1675 - val_loss: 0.0338 - val_mean_absolute_error: 0.1653\n",
            "Epoch 44/51\n",
            "58/58 [==============================] - 0s 3ms/step - loss: 0.0305 - mean_absolute_error: 0.1635 - val_loss: 0.0326 - val_mean_absolute_error: 0.1618\n",
            "Epoch 45/51\n",
            "58/58 [==============================] - 0s 3ms/step - loss: 0.0292 - mean_absolute_error: 0.1597 - val_loss: 0.0315 - val_mean_absolute_error: 0.1584\n",
            "Epoch 46/51\n",
            "58/58 [==============================] - 0s 3ms/step - loss: 0.0280 - mean_absolute_error: 0.1561 - val_loss: 0.0305 - val_mean_absolute_error: 0.1551\n",
            "Epoch 47/51\n",
            "58/58 [==============================] - 0s 3ms/step - loss: 0.0269 - mean_absolute_error: 0.1525 - val_loss: 0.0295 - val_mean_absolute_error: 0.1519\n",
            "Epoch 48/51\n",
            "58/58 [==============================] - 0s 3ms/step - loss: 0.0258 - mean_absolute_error: 0.1491 - val_loss: 0.0286 - val_mean_absolute_error: 0.1487\n",
            "Epoch 49/51\n",
            "58/58 [==============================] - 0s 3ms/step - loss: 0.0248 - mean_absolute_error: 0.1458 - val_loss: 0.0277 - val_mean_absolute_error: 0.1458\n",
            "Epoch 50/51\n",
            "58/58 [==============================] - 0s 3ms/step - loss: 0.0238 - mean_absolute_error: 0.1426 - val_loss: 0.0269 - val_mean_absolute_error: 0.1430\n",
            "Epoch 51/51\n",
            "58/58 [==============================] - 0s 3ms/step - loss: 0.0229 - mean_absolute_error: 0.1395 - val_loss: 0.0261 - val_mean_absolute_error: 0.1403\n",
            "[INFO]: Evaluando red neuronal...\n",
            "8/8 [==============================] - 0s 2ms/step\n",
            "La media de delta es -->  inf\n",
            "Model: \"sequential\"\n",
            "_________________________________________________________________\n",
            " Layer (type)                Output Shape              Param #   \n",
            "=================================================================\n",
            " dense (Dense)               (None, 128)               21120     \n",
            "                                                                 \n",
            " dense_1 (Dense)             (None, 64)                8256      \n",
            "                                                                 \n",
            " dense_2 (Dense)             (None, 24)                1560      \n",
            "                                                                 \n",
            " dense_3 (Dense)             (None, 4)                 100       \n",
            "                                                                 \n",
            " dense_4 (Dense)             (None, 1)                 5         \n",
            "                                                                 \n",
            "=================================================================\n",
            "Total params: 31,041\n",
            "Trainable params: 31,041\n",
            "Non-trainable params: 0\n",
            "_________________________________________________________________\n"
          ]
        },
        {
          "output_type": "display_data",
          "data": {
            "text/plain": [
              "<Figure size 432x288 with 1 Axes>"
            ],
            "image/png": "[encoded data removed]"
          },
          "metadata": {}
        }
      ]
    },
    {
      "cell_type": "code",
      "source": [
        "# Make predictions on test data\n",
        "y_pred = model.predict(X_test)\n",
        "\n",
        "# Denormalize the predicted values\n",
        "y_pred_denormalized = target_scaler.inverse_transform(y_pred)\n",
        "\n",
        "# Denormalize the actual test values\n",
        "y_test_denormalized = target_scaler.inverse_transform(y_test)\n",
        "\n",
        "# Compute the mean squared error\n",
        "mse = mean_squared_error(y_test_denormalized, y_pred_denormalized)\n",
        "\n",
        "# Print the mean squared error\n",
        "print(\"MSE on test set: \", mse)\n",
        "for i in range (5):\n",
        "  print(\"Los valores calculados de Precio son --> \", y_pred_denormalized[i])\n",
        "  print(\"Los valores reales de Precio son --> \", y_test_denormalized[i])"
      ],
      "metadata": {
        "colab": {
          "base_uri": "https://localhost:8080/"
        },
        "id": "PTqKMqCggHBo",
        "outputId": "13b717a1-2f53-4f63-e821-af311ec5cbc3"
      },
      "id": "PTqKMqCggHBo",
      "execution_count": 79,
      "outputs": [
        {
          "output_type": "stream",
          "name": "stdout",
          "text": [
            "8/8 [==============================] - 0s 2ms/step\n",
            "MSE on test set:  3346.2061820572794\n",
            "Los valores calculados de Precio son -->  [79.84324]\n",
            "Los valores reales de Precio son -->  [30.]\n",
            "Los valores calculados de Precio son -->  [97.724655]\n",
            "Los valores reales de Precio son -->  [59.]\n",
            "Los valores calculados de Precio son -->  [100.27305]\n",
            "Los valores reales de Precio son -->  [90.]\n",
            "Los valores calculados de Precio son -->  [103.07119]\n",
            "Los valores reales de Precio son -->  [33.]\n",
            "Los valores calculados de Precio son -->  [72.39937]\n",
            "Los valores reales de Precio son -->  [35.]\n"
          ]
        }
      ]
    },
    {
      "cell_type": "code",
      "source": [
        "X_train.shape"
      ],
      "metadata": {
        "colab": {
          "base_uri": "https://localhost:8080/"
        },
        "id": "hz0Gcv3eJr2p",
        "outputId": "c83d0da7-179f-4ab4-f4df-7d211dc6e563"
      },
      "id": "hz0Gcv3eJr2p",
      "execution_count": 80,
      "outputs": [
        {
          "output_type": "execute_result",
          "data": {
            "text/plain": [
              "(1835, 164)"
            ]
          },
          "metadata": {},
          "execution_count": 80
        }
      ]
    },
    {
      "cell_type": "markdown",
      "source": [
        "## 7. Cargo el dataframe de imágenes!\n",
        "\n",
        "Para ahorrar un poco de tiempo, voy a utilizar únicamente \"Picture Url\". Sin embargo, creo que la imagen del Host, así como la disponibilidad de las imágenes en distintos tamaños, también podrían afectar el precio. "
      ],
      "metadata": {
        "id": "wtiRUFkuNpVJ"
      },
      "id": "wtiRUFkuNpVJ"
    },
    {
      "cell_type": "code",
      "source": [
        "columnas_objeto.head(1)"
      ],
      "metadata": {
        "colab": {
          "base_uri": "https://localhost:8080/",
          "height": 162
        },
        "id": "nhz8De4sP-mG",
        "outputId": "c73f3179-cb41-4645-a5a7-55d608271808"
      },
      "id": "nhz8De4sP-mG",
      "execution_count": 81,
      "outputs": [
        {
          "output_type": "execute_result",
          "data": {
            "text/plain": [
              "                                       Thumbnail Url  \\\n",
              "0  https://a0.muscache.com/im/pictures/2c7acbab-a...   \n",
              "\n",
              "                                          Medium Url  \\\n",
              "0  https://a0.muscache.com/im/pictures/2c7acbab-a...   \n",
              "\n",
              "                                         Picture Url  \\\n",
              "0  https://public.opendatasoft.com/api/v2/catalog...   \n",
              "\n",
              "                                      XL Picture Url  \\\n",
              "0  https://a0.muscache.com/im/pictures/2c7acbab-a...   \n",
              "\n",
              "                                  Host Thumbnail Url  \\\n",
              "0  https://a0.muscache.com/im/pictures/ad0ef85b-3...   \n",
              "\n",
              "                                    Host Picture Url  \n",
              "0  https://a0.muscache.com/im/pictures/ad0ef85b-3...  "
            ],
            "text/html": [
              "\n",
              "  <div id=\"df-00bbd88b-2c1f-4b08-86a5-69e1c9ec7a19\">\n",
              "    <div class=\"colab-df-container\">\n",
              "      <div>\n",
              "<style scoped>\n",
              "    .dataframe tbody tr th:only-of-type {\n",
              "        vertical-align: middle;\n",
              "    }\n",
              "\n",
              "    .dataframe tbody tr th {\n",
              "        vertical-align: top;\n",
              "    }\n",
              "\n",
              "    .dataframe thead th {\n",
              "        text-align: right;\n",
              "    }\n",
              "</style>\n",
              "<table border=\"1\" class=\"dataframe\">\n",
              "  <thead>\n",
              "    <tr style=\"text-align: right;\">\n",
              "      <th></th>\n",
              "      <th>Thumbnail Url</th>\n",
              "      <th>Medium Url</th>\n",
              "      <th>Picture Url</th>\n",
              "      <th>XL Picture Url</th>\n",
              "      <th>Host Thumbnail Url</th>\n",
              "      <th>Host Picture Url</th>\n",
              "    </tr>\n",
              "  </thead>\n",
              "  <tbody>\n",
              "    <tr>\n",
              "      <th>0</th>\n",
              "      <td>https://a0.muscache.com/im/pictures/2c7acbab-a...</td>\n",
              "      <td>https://a0.muscache.com/im/pictures/2c7acbab-a...</td>\n",
              "      <td>https://public.opendatasoft.com/api/v2/catalog...</td>\n",
              "      <td>https://a0.muscache.com/im/pictures/2c7acbab-a...</td>\n",
              "      <td>https://a0.muscache.com/im/pictures/ad0ef85b-3...</td>\n",
              "      <td>https://a0.muscache.com/im/pictures/ad0ef85b-3...</td>\n",
              "    </tr>\n",
              "  </tbody>\n",
              "</table>\n",
              "</div>\n",
              "      <button class=\"colab-df-convert\" onclick=\"convertToInteractive('df-00bbd88b-2c1f-4b08-86a5-69e1c9ec7a19')\"\n",
              "              title=\"Convert this dataframe to an interactive table.\"\n",
              "              style=\"display:none;\">\n",
              "        \n",
              "  <svg xmlns=\"http://www.w3.org/2000/svg\" height=\"24px\"viewBox=\"0 0 24 24\"\n",
              "       width=\"24px\">\n",
              "    <path d=\"M0 0h24v24H0V0z\" fill=\"none\"/>\n",
              "    <path d=\"M18.56 5.44l.94 2.06.94-2.06 2.06-.94-2.06-.94-.94-2.06-.94 2.06-2.06.94zm-11 1L8.5 8.5l.94-2.06 2.06-.94-2.06-.94L8.5 2.5l-.94 2.06-2.06.94zm10 10l.94 2.06.94-2.06 2.06-.94-2.06-.94-.94-2.06-.94 2.06-2.06.94z\"/><path d=\"M17.41 7.96l-1.37-1.37c-.4-.4-.92-.59-1.43-.59-.52 0-1.04.2-1.43.59L10.3 9.45l-7.72 7.72c-.78.78-.78 2.05 0 2.83L4 21.41c.39.39.9.59 1.41.59.51 0 1.02-.2 1.41-.59l7.78-7.78 2.81-2.81c.8-.78.8-2.07 0-2.86zM5.41 20L4 18.59l7.72-7.72 1.47 1.35L5.41 20z\"/>\n",
              "  </svg>\n",
              "      </button>\n",
              "      \n",
              "  <style>\n",
              "    .colab-df-container {\n",
              "      display:flex;\n",
              "      flex-wrap:wrap;\n",
              "      gap: 12px;\n",
              "    }\n",
              "\n",
              "    .colab-df-convert {\n",
              "      background-color: #E8F0FE;\n",
              "      border: none;\n",
              "      border-radius: 50%;\n",
              "      cursor: pointer;\n",
              "      display: none;\n",
              "      fill: #1967D2;\n",
              "      height: 32px;\n",
              "      padding: 0 0 0 0;\n",
              "      width: 32px;\n",
              "    }\n",
              "\n",
              "    .colab-df-convert:hover {\n",
              "      background-color: #E2EBFA;\n",
              "      box-shadow: 0px 1px 2px rgba(60, 64, 67, 0.3), 0px 1px 3px 1px rgba(60, 64, 67, 0.15);\n",
              "      fill: #174EA6;\n",
              "    }\n",
              "\n",
              "    [theme=dark] .colab-df-convert {\n",
              "      background-color: #3B4455;\n",
              "      fill: #D2E3FC;\n",
              "    }\n",
              "\n",
              "    [theme=dark] .colab-df-convert:hover {\n",
              "      background-color: #434B5C;\n",
              "      box-shadow: 0px 1px 3px 1px rgba(0, 0, 0, 0.15);\n",
              "      filter: drop-shadow(0px 1px 2px rgba(0, 0, 0, 0.3));\n",
              "      fill: #FFFFFF;\n",
              "    }\n",
              "  </style>\n",
              "\n",
              "      <script>\n",
              "        const buttonEl =\n",
              "          document.querySelector('#df-00bbd88b-2c1f-4b08-86a5-69e1c9ec7a19 button.colab-df-convert');\n",
              "        buttonEl.style.display =\n",
              "          google.colab.kernel.accessAllowed ? 'block' : 'none';\n",
              "\n",
              "        async function convertToInteractive(key) {\n",
              "          const element = document.querySelector('#df-00bbd88b-2c1f-4b08-86a5-69e1c9ec7a19');\n",
              "          const dataTable =\n",
              "            await google.colab.kernel.invokeFunction('convertToInteractive',\n",
              "                                                     [key], {});\n",
              "          if (!dataTable) return;\n",
              "\n",
              "          const docLinkHtml = 'Like what you see? Visit the ' +\n",
              "            '<a target=\"_blank\" href=https://colab.research.google.com/notebooks/data_table.ipynb>data table notebook</a>'\n",
              "            + ' to learn more about interactive tables.';\n",
              "          element.innerHTML = '';\n",
              "          dataTable['output_type'] = 'display_data';\n",
              "          await google.colab.output.renderOutput(dataTable, element);\n",
              "          const docLink = document.createElement('div');\n",
              "          docLink.innerHTML = docLinkHtml;\n",
              "          element.appendChild(docLink);\n",
              "        }\n",
              "      </script>\n",
              "    </div>\n",
              "  </div>\n",
              "  "
            ]
          },
          "metadata": {},
          "execution_count": 81
        }
      ]
    },
    {
      "cell_type": "code",
      "source": [
        "X_train_img = pd.read_csv('train.csv')\n",
        "y_train_img = pd.read_csv('train_target.csv')\n",
        "Full_train_img = y_train_img.join(X_train_img)\n",
        "print(\"El shape del dataframe es --> \", Full_train_img.shape)\n",
        "Full_train_img.head(1)"
      ],
      "metadata": {
        "colab": {
          "base_uri": "https://localhost:8080/",
          "height": 244
        },
        "id": "6QxvPxU3ss3a",
        "outputId": "f55db46b-00da-4008-d40a-ca8a12500e7b"
      },
      "id": "6QxvPxU3ss3a",
      "execution_count": 142,
      "outputs": [
        {
          "output_type": "stream",
          "name": "stdout",
          "text": [
            "El shape del dataframe es -->  (1835, 171)\n"
          ]
        },
        {
          "output_type": "execute_result",
          "data": {
            "text/plain": [
              "   Price        ID   Host ID  Host Response Rate  Host Listings Count  \\\n",
              "0   70.0  14299212  87339455                 NaN                  1.0   \n",
              "\n",
              "   Host Total Listings Count  Zipcode   Latitude  Longitude  Accommodates  \\\n",
              "0                        1.0    28009  40.407388  -3.676061             4   \n",
              "\n",
              "   ...  Bed Type_Airbed  Bed Type_Couch  Bed Type_Futon  \\\n",
              "0  ...                0               0               0   \n",
              "\n",
              "   Bed Type_Pull-out Sofa  Bed Type_Real Bed  Cancellation Policy_flexible  \\\n",
              "0                       0                  1                             1   \n",
              "\n",
              "   Cancellation Policy_moderate  Cancellation Policy_strict  \\\n",
              "0                             0                           0   \n",
              "\n",
              "   Cancellation Policy_super_strict_30  Cancellation Policy_super_strict_60  \n",
              "0                                    0                                    0  \n",
              "\n",
              "[1 rows x 171 columns]"
            ],
            "text/html": [
              "\n",
              "  <div id=\"df-194801c0-4ab4-4b30-9f8f-b5bfe49241eb\">\n",
              "    <div class=\"colab-df-container\">\n",
              "      <div>\n",
              "<style scoped>\n",
              "    .dataframe tbody tr th:only-of-type {\n",
              "        vertical-align: middle;\n",
              "    }\n",
              "\n",
              "    .dataframe tbody tr th {\n",
              "        vertical-align: top;\n",
              "    }\n",
              "\n",
              "    .dataframe thead th {\n",
              "        text-align: right;\n",
              "    }\n",
              "</style>\n",
              "<table border=\"1\" class=\"dataframe\">\n",
              "  <thead>\n",
              "    <tr style=\"text-align: right;\">\n",
              "      <th></th>\n",
              "      <th>Price</th>\n",
              "      <th>ID</th>\n",
              "      <th>Host ID</th>\n",
              "      <th>Host Response Rate</th>\n",
              "      <th>Host Listings Count</th>\n",
              "      <th>Host Total Listings Count</th>\n",
              "      <th>Zipcode</th>\n",
              "      <th>Latitude</th>\n",
              "      <th>Longitude</th>\n",
              "      <th>Accommodates</th>\n",
              "      <th>...</th>\n",
              "      <th>Bed Type_Airbed</th>\n",
              "      <th>Bed Type_Couch</th>\n",
              "      <th>Bed Type_Futon</th>\n",
              "      <th>Bed Type_Pull-out Sofa</th>\n",
              "      <th>Bed Type_Real Bed</th>\n",
              "      <th>Cancellation Policy_flexible</th>\n",
              "      <th>Cancellation Policy_moderate</th>\n",
              "      <th>Cancellation Policy_strict</th>\n",
              "      <th>Cancellation Policy_super_strict_30</th>\n",
              "      <th>Cancellation Policy_super_strict_60</th>\n",
              "    </tr>\n",
              "  </thead>\n",
              "  <tbody>\n",
              "    <tr>\n",
              "      <th>0</th>\n",
              "      <td>70.0</td>\n",
              "      <td>14299212</td>\n",
              "      <td>87339455</td>\n",
              "      <td>NaN</td>\n",
              "      <td>1.0</td>\n",
              "      <td>1.0</td>\n",
              "      <td>28009</td>\n",
              "      <td>40.407388</td>\n",
              "      <td>-3.676061</td>\n",
              "      <td>4</td>\n",
              "      <td>...</td>\n",
              "      <td>0</td>\n",
              "      <td>0</td>\n",
              "      <td>0</td>\n",
              "      <td>0</td>\n",
              "      <td>1</td>\n",
              "      <td>1</td>\n",
              "      <td>0</td>\n",
              "      <td>0</td>\n",
              "      <td>0</td>\n",
              "      <td>0</td>\n",
              "    </tr>\n",
              "  </tbody>\n",
              "</table>\n",
              "<p>1 rows × 171 columns</p>\n",
              "</div>\n",
              "      <button class=\"colab-df-convert\" onclick=\"convertToInteractive('df-194801c0-4ab4-4b30-9f8f-b5bfe49241eb')\"\n",
              "              title=\"Convert this dataframe to an interactive table.\"\n",
              "              style=\"display:none;\">\n",
              "        \n",
              "  <svg xmlns=\"http://www.w3.org/2000/svg\" height=\"24px\"viewBox=\"0 0 24 24\"\n",
              "       width=\"24px\">\n",
              "    <path d=\"M0 0h24v24H0V0z\" fill=\"none\"/>\n",
              "    <path d=\"M18.56 5.44l.94 2.06.94-2.06 2.06-.94-2.06-.94-.94-2.06-.94 2.06-2.06.94zm-11 1L8.5 8.5l.94-2.06 2.06-.94-2.06-.94L8.5 2.5l-.94 2.06-2.06.94zm10 10l.94 2.06.94-2.06 2.06-.94-2.06-.94-.94-2.06-.94 2.06-2.06.94z\"/><path d=\"M17.41 7.96l-1.37-1.37c-.4-.4-.92-.59-1.43-.59-.52 0-1.04.2-1.43.59L10.3 9.45l-7.72 7.72c-.78.78-.78 2.05 0 2.83L4 21.41c.39.39.9.59 1.41.59.51 0 1.02-.2 1.41-.59l7.78-7.78 2.81-2.81c.8-.78.8-2.07 0-2.86zM5.41 20L4 18.59l7.72-7.72 1.47 1.35L5.41 20z\"/>\n",
              "  </svg>\n",
              "      </button>\n",
              "      \n",
              "  <style>\n",
              "    .colab-df-container {\n",
              "      display:flex;\n",
              "      flex-wrap:wrap;\n",
              "      gap: 12px;\n",
              "    }\n",
              "\n",
              "    .colab-df-convert {\n",
              "      background-color: #E8F0FE;\n",
              "      border: none;\n",
              "      border-radius: 50%;\n",
              "      cursor: pointer;\n",
              "      display: none;\n",
              "      fill: #1967D2;\n",
              "      height: 32px;\n",
              "      padding: 0 0 0 0;\n",
              "      width: 32px;\n",
              "    }\n",
              "\n",
              "    .colab-df-convert:hover {\n",
              "      background-color: #E2EBFA;\n",
              "      box-shadow: 0px 1px 2px rgba(60, 64, 67, 0.3), 0px 1px 3px 1px rgba(60, 64, 67, 0.15);\n",
              "      fill: #174EA6;\n",
              "    }\n",
              "\n",
              "    [theme=dark] .colab-df-convert {\n",
              "      background-color: #3B4455;\n",
              "      fill: #D2E3FC;\n",
              "    }\n",
              "\n",
              "    [theme=dark] .colab-df-convert:hover {\n",
              "      background-color: #434B5C;\n",
              "      box-shadow: 0px 1px 3px 1px rgba(0, 0, 0, 0.15);\n",
              "      filter: drop-shadow(0px 1px 2px rgba(0, 0, 0, 0.3));\n",
              "      fill: #FFFFFF;\n",
              "    }\n",
              "  </style>\n",
              "\n",
              "      <script>\n",
              "        const buttonEl =\n",
              "          document.querySelector('#df-194801c0-4ab4-4b30-9f8f-b5bfe49241eb button.colab-df-convert');\n",
              "        buttonEl.style.display =\n",
              "          google.colab.kernel.accessAllowed ? 'block' : 'none';\n",
              "\n",
              "        async function convertToInteractive(key) {\n",
              "          const element = document.querySelector('#df-194801c0-4ab4-4b30-9f8f-b5bfe49241eb');\n",
              "          const dataTable =\n",
              "            await google.colab.kernel.invokeFunction('convertToInteractive',\n",
              "                                                     [key], {});\n",
              "          if (!dataTable) return;\n",
              "\n",
              "          const docLinkHtml = 'Like what you see? Visit the ' +\n",
              "            '<a target=\"_blank\" href=https://colab.research.google.com/notebooks/data_table.ipynb>data table notebook</a>'\n",
              "            + ' to learn more about interactive tables.';\n",
              "          element.innerHTML = '';\n",
              "          dataTable['output_type'] = 'display_data';\n",
              "          await google.colab.output.renderOutput(dataTable, element);\n",
              "          const docLink = document.createElement('div');\n",
              "          docLink.innerHTML = docLinkHtml;\n",
              "          element.appendChild(docLink);\n",
              "        }\n",
              "      </script>\n",
              "    </div>\n",
              "  </div>\n",
              "  "
            ]
          },
          "metadata": {},
          "execution_count": 142
        }
      ]
    },
    {
      "cell_type": "code",
      "source": [
        "print(\"El total de NAs en X_train es -->\", Full_train_img['Thumbnail Url'].isnull().sum())"
      ],
      "metadata": {
        "colab": {
          "base_uri": "https://localhost:8080/"
        },
        "id": "WYIk2HppDGa3",
        "outputId": "6ded4e8f-08d3-4cec-c333-73f98e0ffc75"
      },
      "id": "WYIk2HppDGa3",
      "execution_count": 143,
      "outputs": [
        {
          "output_type": "stream",
          "name": "stdout",
          "text": [
            "El total de NAs en X_train es --> 0\n"
          ]
        }
      ]
    },
    {
      "cell_type": "code",
      "source": [
        "# Voy a disminuir a 600 imágenes para poder procesar en menos tiempo las imágenes\n",
        "Full_train_300 = Full_train_img.sample(n=600, random_state=5)\n",
        "\n",
        "# creo la carpeta donde guardaré las imágenes\n",
        "folder_path = \"image_folder\"\n",
        "if not os.path.exists(folder_path):\n",
        "    os.mkdir(folder_path)\n",
        "\n",
        "image_paths = []\n",
        "Full_train_filtered = Full_train_300\n",
        "for i, link in Full_train_300[\"Thumbnail Url\"].iteritems():\n",
        "    try:\n",
        "        # trato de bajar las imágenes\n",
        "        response = urllib.request.urlopen(str(link))\n",
        "        image_name = f\"image_{i}.jpg\"\n",
        "        image_path = os.path.join(folder_path, image_name)\n",
        "        with open(image_path, \"wb\") as f:\n",
        "            f.write(response.read())\n",
        "        image_paths.append(image_path)\n",
        "    except Exception as e:\n",
        "        # Si hay error, me avisa y continúa\n",
        "        print(f\"Error al bajar la URL {link}: {e} --> Lo eliminaré\")\n",
        "        Full_train_filtered.drop(Full_train_filtered[Full_train_filtered['Thumbnail Url'] == link].index, inplace = True) # --> Si encontrara error, lo elimino en Full_train_filtered\n",
        "        continue  \n",
        "\n",
        "Full_train_300 = Full_train_filtered\n",
        "# create a new dataframe with the image paths\n",
        "image_df = pd.DataFrame({\"image_path\": image_paths})\n",
        "\n",
        "# save the dataframe to a CSV file\n",
        "image_df.to_csv(\"image_paths.csv\", index=False)\n",
        "\n"
      ],
      "metadata": {
        "id": "raHkieJJYDZx",
        "colab": {
          "base_uri": "https://localhost:8080/"
        },
        "outputId": "2d2d8b20-e587-4598-e4ae-94449714fa30"
      },
      "id": "raHkieJJYDZx",
      "execution_count": 144,
      "outputs": [
        {
          "output_type": "stream",
          "name": "stdout",
          "text": [
            "Error al bajar la URL https://a0.muscache.com/im/pictures/44363d6b-fc37-4ea9-905e-f181ce1161db.jpg?aki_policy=small: HTTP Error 404: Not Found --> Lo eliminaré\n",
            "Error al bajar la URL https://a0.muscache.com/im/pictures/ac8d4772-216c-4dce-a94f-181dc4ca3c30.jpg?aki_policy=small: HTTP Error 404: Not Found --> Lo eliminaré\n",
            "Error al bajar la URL https://a0.muscache.com/im/pictures/d819a540-afde-4a9e-af84-fca7413464f2.jpg?aki_policy=small: HTTP Error 404: Not Found --> Lo eliminaré\n",
            "Error al bajar la URL https://a0.muscache.com/im/pictures/26ee8fa3-463a-44c3-b86e-b15e54e6219e.jpg?aki_policy=small: HTTP Error 404: Not Found --> Lo eliminaré\n",
            "Error al bajar la URL https://a0.muscache.com/im/pictures/31c8d18b-04df-4778-b895-06a364db596e.jpg?aki_policy=small: HTTP Error 404: Not Found --> Lo eliminaré\n",
            "Error al bajar la URL https://a0.muscache.com/im/pictures/6b87d117-8f0e-43ba-b8c8-f84eaca4e3ef.jpg?aki_policy=small: HTTP Error 404: Not Found --> Lo eliminaré\n",
            "Error al bajar la URL https://a0.muscache.com/im/pictures/98d0c2fa-0ce8-4bc0-9c2e-cd7ab4e25616.jpg?aki_policy=small: HTTP Error 404: Not Found --> Lo eliminaré\n",
            "Error al bajar la URL https://a0.muscache.com/im/pictures/1be3604f-6590-40c8-899e-ee6c19f0d9bc.jpg?aki_policy=small: HTTP Error 404: Not Found --> Lo eliminaré\n",
            "Error al bajar la URL https://a0.muscache.com/im/pictures/4f217d81-293c-456c-985b-4663fe0b5a8b.jpg?aki_policy=small: HTTP Error 404: Not Found --> Lo eliminaré\n",
            "Error al bajar la URL https://a0.muscache.com/im/pictures/ae8cf5e8-a1c9-4067-b4c8-8f0a5e7ad599.jpg?aki_policy=small: HTTP Error 404: Not Found --> Lo eliminaré\n",
            "Error al bajar la URL https://a0.muscache.com/im/pictures/27043905/89ccf0b1_original.jpg?aki_policy=small: HTTP Error 404: Not Found --> Lo eliminaré\n",
            "Error al bajar la URL https://a0.muscache.com/im/pictures/cfa7b981-28e0-4d17-a855-ec1fbd728128.jpg?aki_policy=small: HTTP Error 404: Not Found --> Lo eliminaré\n",
            "Error al bajar la URL https://a0.muscache.com/im/pictures/24a1fc36-2cd7-4c1a-92d9-9998b3694b77.jpg?aki_policy=small: HTTP Error 404: Not Found --> Lo eliminaré\n",
            "Error al bajar la URL https://a0.muscache.com/im/pictures/7fd3b954-80ef-4277-aac4-2257e5e5884d.jpg?aki_policy=small: HTTP Error 404: Not Found --> Lo eliminaré\n",
            "Error al bajar la URL https://a0.muscache.com/im/pictures/d16c9939-0463-4cce-9c03-a5d20baeaca8.jpg?aki_policy=small: HTTP Error 404: Not Found --> Lo eliminaré\n",
            "Error al bajar la URL https://a0.muscache.com/im/pictures/7abac5ff-f582-4a45-848c-19b35a88a96f.jpg?aki_policy=small: HTTP Error 404: Not Found --> Lo eliminaré\n",
            "Error al bajar la URL https://a0.muscache.com/im/pictures/6def1dc6-4756-4b79-a934-ab0182e15220.jpg?aki_policy=small: HTTP Error 404: Not Found --> Lo eliminaré\n",
            "Error al bajar la URL https://a0.muscache.com/im/pictures/80e251f9-884c-40c0-a610-9c9fd90f7404.jpg?aki_policy=small: HTTP Error 404: Not Found --> Lo eliminaré\n",
            "Error al bajar la URL https://a0.muscache.com/im/pictures/60487857/75f4556d_original.jpg?aki_policy=small: HTTP Error 404: Not Found --> Lo eliminaré\n",
            "Error al bajar la URL https://a0.muscache.com/im/pictures/200ee99d-5ef5-4f4a-b012-fa8b96db24ba.jpg?aki_policy=small: HTTP Error 404: Not Found --> Lo eliminaré\n",
            "Error al bajar la URL https://a0.muscache.com/im/pictures/57a0ed00-d1a0-4510-898b-7a7e2889426a.jpg?aki_policy=small: HTTP Error 404: Not Found --> Lo eliminaré\n",
            "Error al bajar la URL https://a0.muscache.com/im/pictures/d99fa166-cf3d-42f3-a0f8-c140ebfde4b7.jpg?aki_policy=small: HTTP Error 404: Not Found --> Lo eliminaré\n",
            "Error al bajar la URL https://a0.muscache.com/im/pictures/a68301d8-517f-4b09-bcc9-2eed0b69342e.jpg?aki_policy=small: HTTP Error 404: Not Found --> Lo eliminaré\n",
            "Error al bajar la URL https://a0.muscache.com/im/pictures/19870030-9f23-4b73-a46d-ffc58d0cdda0.jpg?aki_policy=small: HTTP Error 404: Not Found --> Lo eliminaré\n",
            "Error al bajar la URL https://a0.muscache.com/im/pictures/568181ec-49cb-4c36-8234-c568e93804a6.jpg?aki_policy=small: HTTP Error 404: Not Found --> Lo eliminaré\n",
            "Error al bajar la URL https://a0.muscache.com/im/pictures/3db4f308-43eb-48d0-9389-3866cb1b7356.jpg?aki_policy=small: HTTP Error 404: Not Found --> Lo eliminaré\n",
            "Error al bajar la URL https://a0.muscache.com/im/pictures/6194aed8-59dd-4620-96c3-11da483a1366.jpg?aki_policy=small: HTTP Error 404: Not Found --> Lo eliminaré\n",
            "Error al bajar la URL https://a0.muscache.com/im/pictures/90a07c10-79be-4e17-8e3f-112db14d1aed.jpg?aki_policy=small: HTTP Error 404: Not Found --> Lo eliminaré\n",
            "Error al bajar la URL https://a0.muscache.com/im/pictures/678a37d8-654c-482a-a4f7-1bf6d2dd0e9e.jpg?aki_policy=small: HTTP Error 404: Not Found --> Lo eliminaré\n",
            "Error al bajar la URL https://a0.muscache.com/im/pictures/16d51207-fa22-483f-b7b5-31af1d50f3b4.jpg?aki_policy=small: HTTP Error 404: Not Found --> Lo eliminaré\n",
            "Error al bajar la URL https://a0.muscache.com/im/pictures/3ba89074-07c8-4232-9838-e72face93c8b.jpg?aki_policy=small: HTTP Error 404: Not Found --> Lo eliminaré\n",
            "Error al bajar la URL https://a0.muscache.com/im/pictures/e44f104d-a897-42f6-b62e-e74554baf547.jpg?aki_policy=small: HTTP Error 404: Not Found --> Lo eliminaré\n",
            "Error al bajar la URL https://a0.muscache.com/im/pictures/32512972/ff0a7842_original.jpg?aki_policy=small: HTTP Error 404: Not Found --> Lo eliminaré\n",
            "Error al bajar la URL https://a0.muscache.com/im/pictures/10e9f6ce-e8e7-4196-b0a0-dde9de38ab23.jpg?aki_policy=small: HTTP Error 404: Not Found --> Lo eliminaré\n",
            "Error al bajar la URL https://a0.muscache.com/im/pictures/21db2e7b-5758-46db-a8eb-db46e4c17070.jpg?aki_policy=small: HTTP Error 404: Not Found --> Lo eliminaré\n",
            "Error al bajar la URL https://a0.muscache.com/im/pictures/908dc4ae-2fdd-4fc7-b7dc-48e8685248f7.jpg?aki_policy=small: HTTP Error 404: Not Found --> Lo eliminaré\n",
            "Error al bajar la URL https://a0.muscache.com/im/pictures/10174275/80b25e17_original.jpg?aki_policy=small: HTTP Error 404: Not Found --> Lo eliminaré\n",
            "Error al bajar la URL https://a0.muscache.com/im/pictures/09f1b930-423e-4c28-9df2-24ad93a1b48d.jpg?aki_policy=small: HTTP Error 404: Not Found --> Lo eliminaré\n",
            "Error al bajar la URL https://a0.muscache.com/im/pictures/1f516131-8273-4815-858a-848e11116741.jpg?aki_policy=small: HTTP Error 404: Not Found --> Lo eliminaré\n",
            "Error al bajar la URL https://a0.muscache.com/im/pictures/43400958/6367b10e_original.jpg?aki_policy=small: HTTP Error 404: Not Found --> Lo eliminaré\n",
            "Error al bajar la URL https://a0.muscache.com/im/pictures/afc0f0f3-3555-4164-9ab9-385276aae490.jpg?aki_policy=small: HTTP Error 415: Unsupported Media Type --> Lo eliminaré\n",
            "Error al bajar la URL https://a0.muscache.com/im/pictures/b3135c98-e822-4986-97ce-fa2f4d938795.jpg?aki_policy=small: HTTP Error 404: Not Found --> Lo eliminaré\n",
            "Error al bajar la URL https://a0.muscache.com/im/pictures/393a12ab-2b58-402c-8236-62e83113b87d.jpg?aki_policy=small: HTTP Error 404: Not Found --> Lo eliminaré\n",
            "Error al bajar la URL https://a0.muscache.com/im/pictures/b417b485-22e7-4fbe-9a58-aaa31ccc8521.jpg?aki_policy=small: HTTP Error 404: Not Found --> Lo eliminaré\n",
            "Error al bajar la URL https://a0.muscache.com/im/pictures/25170415/7c3e9897_original.jpg?aki_policy=small: HTTP Error 404: Not Found --> Lo eliminaré\n",
            "Error al bajar la URL https://a0.muscache.com/im/pictures/62b28646-d884-4ff1-bda6-c6ccec539b44.jpg?aki_policy=small: HTTP Error 404: Not Found --> Lo eliminaré\n",
            "Error al bajar la URL https://a0.muscache.com/im/pictures/2186216/b44c8f0f_original.jpg?aki_policy=small: HTTP Error 404: Not Found --> Lo eliminaré\n",
            "Error al bajar la URL https://a0.muscache.com/im/pictures/260c36d0-c4e1-4ef0-8572-762074618879.jpg?aki_policy=small: HTTP Error 404: Not Found --> Lo eliminaré\n",
            "Error al bajar la URL https://a0.muscache.com/im/pictures/e7a3532f-db4a-4d94-9126-7e74041f1b23.jpg?aki_policy=small: HTTP Error 404: Not Found --> Lo eliminaré\n",
            "Error al bajar la URL https://a0.muscache.com/im/pictures/4007341b-4a76-40e0-90f6-cfb6e5f6478d.jpg?aki_policy=small: HTTP Error 404: Not Found --> Lo eliminaré\n",
            "Error al bajar la URL https://a0.muscache.com/im/pictures/6b96e5ba-1710-4adb-b816-d2a20495b525.jpg?aki_policy=small: HTTP Error 404: Not Found --> Lo eliminaré\n",
            "Error al bajar la URL https://a0.muscache.com/im/pictures/ec1369a6-b13f-437b-87e2-c9ef5cb8eff2.jpg?aki_policy=small: HTTP Error 404: Not Found --> Lo eliminaré\n",
            "Error al bajar la URL https://a0.muscache.com/im/pictures/9580dab2-b0eb-4c48-b0ae-46a8c4edda04.jpg?aki_policy=small: HTTP Error 404: Not Found --> Lo eliminaré\n",
            "Error al bajar la URL https://a0.muscache.com/im/pictures/41626915-d3f1-4617-9387-8421175863e1.jpg?aki_policy=small: HTTP Error 404: Not Found --> Lo eliminaré\n",
            "Error al bajar la URL https://a0.muscache.com/im/pictures/6cf7da9c-a047-406e-aff4-490f0208917c.jpg?aki_policy=small: HTTP Error 404: Not Found --> Lo eliminaré\n",
            "Error al bajar la URL https://a0.muscache.com/im/pictures/346166/cc5c8fa3_original.jpg?aki_policy=small: HTTP Error 415: Unsupported Media Type --> Lo eliminaré\n",
            "Error al bajar la URL https://a0.muscache.com/im/pictures/638c2145-178a-45c2-ae4a-fa198292e41b.jpg?aki_policy=small: HTTP Error 404: Not Found --> Lo eliminaré\n",
            "Error al bajar la URL https://a0.muscache.com/im/pictures/99c9f72e-ab2d-4f3f-adb1-d2db78220589.jpg?aki_policy=small: HTTP Error 404: Not Found --> Lo eliminaré\n",
            "Error al bajar la URL https://a0.muscache.com/im/pictures/3e43ee24-a7f6-4f29-9ef0-38e29646b639.jpg?aki_policy=small: HTTP Error 404: Not Found --> Lo eliminaré\n",
            "Error al bajar la URL https://a0.muscache.com/im/pictures/99707385/7b132312_original.jpg?aki_policy=small: HTTP Error 404: Not Found --> Lo eliminaré\n",
            "Error al bajar la URL https://a0.muscache.com/im/pictures/094f65d0-5876-4700-a2cd-17e02021017a.jpg?aki_policy=small: HTTP Error 404: Not Found --> Lo eliminaré\n",
            "Error al bajar la URL https://a0.muscache.com/im/pictures/2abbd1c8-1bcd-4ebb-86ad-126c47923811.jpg?aki_policy=small: HTTP Error 404: Not Found --> Lo eliminaré\n",
            "Error al bajar la URL https://a0.muscache.com/im/pictures/05ee7096-8877-4c37-8ce2-86c576aa84d1.jpg?aki_policy=small: HTTP Error 404: Not Found --> Lo eliminaré\n",
            "Error al bajar la URL https://a0.muscache.com/im/pictures/9647e296-dab2-436a-b5e3-88f86347f5a3.jpg?aki_policy=small: HTTP Error 404: Not Found --> Lo eliminaré\n",
            "Error al bajar la URL https://a0.muscache.com/im/pictures/9bebf7a2-7a2b-49b2-ba7b-7bd357c67887.jpg?aki_policy=small: HTTP Error 404: Not Found --> Lo eliminaré\n",
            "Error al bajar la URL https://a0.muscache.com/im/pictures/bac3e640-8848-4f1a-9eec-57f5094ac78d.jpg?aki_policy=small: HTTP Error 404: Not Found --> Lo eliminaré\n",
            "Error al bajar la URL https://a0.muscache.com/im/pictures/56af07d8-b417-41c2-801b-c70e5041e728.jpg?aki_policy=small: HTTP Error 404: Not Found --> Lo eliminaré\n",
            "Error al bajar la URL https://a0.muscache.com/im/pictures/37099187-d1f9-4790-90a2-dc7220bbef9b.jpg?aki_policy=small: HTTP Error 404: Not Found --> Lo eliminaré\n",
            "Error al bajar la URL https://a0.muscache.com/im/pictures/adedb33c-ecb0-498b-a1be-376a515d63f3.jpg?aki_policy=small: HTTP Error 404: Not Found --> Lo eliminaré\n",
            "Error al bajar la URL https://a0.muscache.com/im/pictures/84918453/c2536360_original.jpg?aki_policy=small: HTTP Error 404: Not Found --> Lo eliminaré\n",
            "Error al bajar la URL https://a0.muscache.com/im/pictures/0295221a-9b25-4701-8433-6460c584794b.jpg?aki_policy=small: HTTP Error 404: Not Found --> Lo eliminaré\n",
            "Error al bajar la URL https://a0.muscache.com/im/pictures/3684047/ce66f5a8_original.jpg?aki_policy=small: HTTP Error 404: Not Found --> Lo eliminaré\n",
            "Error al bajar la URL https://a0.muscache.com/im/pictures/cd2fdbdf-853a-4e25-9fa6-64b37f7d372a.jpg?aki_policy=small: HTTP Error 404: Not Found --> Lo eliminaré\n",
            "Error al bajar la URL https://a0.muscache.com/im/pictures/a82cb435-1530-428e-b6e1-b32f8e0aef96.jpg?aki_policy=small: HTTP Error 404: Not Found --> Lo eliminaré\n",
            "Error al bajar la URL https://a0.muscache.com/im/pictures/1705494/adabe580_original.jpg?aki_policy=small: HTTP Error 404: Not Found --> Lo eliminaré\n",
            "Error al bajar la URL https://a0.muscache.com/im/pictures/30b7ca0c-ec53-46ac-9e68-a1d18a3857bc.jpg?aki_policy=small: HTTP Error 404: Not Found --> Lo eliminaré\n",
            "Error al bajar la URL https://a0.muscache.com/im/pictures/0470698b-255b-4ad6-b283-b0e91fba1c3c.jpg?aki_policy=small: HTTP Error 404: Not Found --> Lo eliminaré\n",
            "Error al bajar la URL https://a0.muscache.com/im/pictures/8fd98758-e041-4d1a-bf79-ead7c6bc71e6.jpg?aki_policy=small: HTTP Error 404: Not Found --> Lo eliminaré\n",
            "Error al bajar la URL https://a0.muscache.com/im/pictures/90c5f843-2d0a-4abb-9d22-622e4ac8d8de.jpg?aki_policy=small: HTTP Error 404: Not Found --> Lo eliminaré\n",
            "Error al bajar la URL https://a0.muscache.com/im/pictures/3ef04609-7dcb-40bc-ae3c-ef9d67b5ada9.jpg?aki_policy=small: HTTP Error 404: Not Found --> Lo eliminaré\n",
            "Error al bajar la URL https://a0.muscache.com/im/pictures/104569985/8aadd6d6_original.jpg?aki_policy=small: HTTP Error 404: Not Found --> Lo eliminaré\n",
            "Error al bajar la URL https://a0.muscache.com/im/pictures/101069005/939171da_original.jpg?aki_policy=small: HTTP Error 404: Not Found --> Lo eliminaré\n",
            "Error al bajar la URL https://a0.muscache.com/im/pictures/09315c1d-a314-4f82-a37b-da170d71be18.jpg?aki_policy=small: HTTP Error 404: Not Found --> Lo eliminaré\n",
            "Error al bajar la URL https://a0.muscache.com/im/pictures/58b74964-1128-431a-a7ca-211ffe9e5d86.jpg?aki_policy=small: HTTP Error 404: Not Found --> Lo eliminaré\n",
            "Error al bajar la URL https://a0.muscache.com/im/pictures/5eb2c4f9-b331-425a-a539-5401a4b026e8.jpg?aki_policy=small: HTTP Error 404: Not Found --> Lo eliminaré\n",
            "Error al bajar la URL https://a0.muscache.com/im/pictures/8a8f71d3-ebec-4e98-b817-37271bbce5d7.jpg?aki_policy=small: HTTP Error 404: Not Found --> Lo eliminaré\n",
            "Error al bajar la URL https://a0.muscache.com/im/pictures/eb0cb6c0-f5f6-4fd0-b5b5-8a33acb6ea8f.jpg?aki_policy=small: HTTP Error 404: Not Found --> Lo eliminaré\n",
            "Error al bajar la URL https://a0.muscache.com/im/pictures/cd153693-23f2-4173-ad19-73c129510fb0.jpg?aki_policy=small: HTTP Error 404: Not Found --> Lo eliminaré\n",
            "Error al bajar la URL https://a0.muscache.com/im/pictures/02d9b617-9b83-4444-84c8-c799e1668f09.jpg?aki_policy=small: HTTP Error 404: Not Found --> Lo eliminaré\n",
            "Error al bajar la URL https://a0.muscache.com/im/pictures/e591e4d5-1319-47b9-a681-0e1a50ead511.jpg?aki_policy=small: HTTP Error 404: Not Found --> Lo eliminaré\n",
            "Error al bajar la URL https://a0.muscache.com/im/pictures/79111110-fa02-4ea0-a9bf-8937b8288da3.jpg?aki_policy=small: HTTP Error 404: Not Found --> Lo eliminaré\n",
            "Error al bajar la URL https://a0.muscache.com/im/pictures/c4838a52-ff1c-4fa1-a965-c841f3b5f2bf.jpg?aki_policy=small: HTTP Error 404: Not Found --> Lo eliminaré\n",
            "Error al bajar la URL https://a0.muscache.com/im/pictures/b14930f4-5b9b-4224-a388-dbcef4f157b0.jpg?aki_policy=small: HTTP Error 404: Not Found --> Lo eliminaré\n",
            "Error al bajar la URL https://a0.muscache.com/im/pictures/b77f3ba7-45a1-4e1a-be5b-8bd0bc97e17f.jpg?aki_policy=small: HTTP Error 404: Not Found --> Lo eliminaré\n",
            "Error al bajar la URL https://a0.muscache.com/im/pictures/44505752/a478f81b_original.jpg?aki_policy=small: HTTP Error 404: Not Found --> Lo eliminaré\n",
            "Error al bajar la URL https://a0.muscache.com/im/pictures/65eea7da-2fcd-44ab-a685-c75355fc6d1b.jpg?aki_policy=small: HTTP Error 404: Not Found --> Lo eliminaré\n",
            "Error al bajar la URL https://a0.muscache.com/im/pictures/07af2b7c-e3a1-40fc-9a7e-5d0f814ce95f.jpg?aki_policy=small: HTTP Error 404: Not Found --> Lo eliminaré\n",
            "Error al bajar la URL https://a0.muscache.com/im/pictures/03639fd8-255b-4254-8b1d-94321f473d0d.jpg?aki_policy=small: HTTP Error 404: Not Found --> Lo eliminaré\n",
            "Error al bajar la URL https://a0.muscache.com/im/pictures/48103780/b46ce067_original.jpg?aki_policy=small: HTTP Error 404: Not Found --> Lo eliminaré\n",
            "Error al bajar la URL https://a0.muscache.com/im/pictures/33734017/3622b8ea_original.jpg?aki_policy=small: HTTP Error 404: Not Found --> Lo eliminaré\n",
            "Error al bajar la URL https://a0.muscache.com/im/pictures/b2c44340-7290-4f53-8a98-915677374dd8.jpg?aki_policy=small: HTTP Error 404: Not Found --> Lo eliminaré\n",
            "Error al bajar la URL https://a0.muscache.com/im/pictures/fdfbee0f-5ac3-4af4-99c5-62397d2b727d.jpg?aki_policy=small: HTTP Error 404: Not Found --> Lo eliminaré\n",
            "Error al bajar la URL https://a0.muscache.com/im/pictures/19934205/de704f82_original.jpg?aki_policy=small: HTTP Error 404: Not Found --> Lo eliminaré\n",
            "Error al bajar la URL https://a0.muscache.com/im/pictures/79fd085c-ebf7-4201-91f1-5f5b21ef819c.jpg?aki_policy=small: HTTP Error 404: Not Found --> Lo eliminaré\n",
            "Error al bajar la URL https://a0.muscache.com/im/pictures/105188438/92d25cfb_original.jpg?aki_policy=small: HTTP Error 404: Not Found --> Lo eliminaré\n",
            "Error al bajar la URL https://a0.muscache.com/im/pictures/7b030399-341d-4be6-815d-e0d39ef344b5.jpg?aki_policy=small: HTTP Error 404: Not Found --> Lo eliminaré\n",
            "Error al bajar la URL https://a0.muscache.com/im/pictures/0c927f9e-f4f3-4d0e-9cf4-568d80a37f82.jpg?aki_policy=small: HTTP Error 404: Not Found --> Lo eliminaré\n",
            "Error al bajar la URL https://a0.muscache.com/im/pictures/40c16711-8289-47ec-b0b7-b1c3eb95a1b3.jpg?aki_policy=small: HTTP Error 404: Not Found --> Lo eliminaré\n",
            "Error al bajar la URL https://a0.muscache.com/im/pictures/105223035/30c7a6b1_original.jpg?aki_policy=small: HTTP Error 404: Not Found --> Lo eliminaré\n",
            "Error al bajar la URL https://a0.muscache.com/im/pictures/1682ea8d-0319-4a06-a341-c97dedf2f3c1.jpg?aki_policy=small: HTTP Error 404: Not Found --> Lo eliminaré\n",
            "Error al bajar la URL https://a0.muscache.com/im/pictures/80aa9494-d238-4b8d-9476-74bd891f0275.jpg?aki_policy=small: HTTP Error 404: Not Found --> Lo eliminaré\n",
            "Error al bajar la URL https://a0.muscache.com/im/pictures/7b5a0a70-ac9a-4171-9c56-1cbfc3fae0a2.jpg?aki_policy=small: HTTP Error 404: Not Found --> Lo eliminaré\n",
            "Error al bajar la URL https://a0.muscache.com/im/pictures/725930/97a1abfb_original.jpg?aki_policy=small: HTTP Error 404: Not Found --> Lo eliminaré\n",
            "Error al bajar la URL https://a0.muscache.com/im/pictures/3b865d57-6dd9-45a1-8cb7-4e28700dfaf9.jpg?aki_policy=small: HTTP Error 404: Not Found --> Lo eliminaré\n",
            "Error al bajar la URL https://a0.muscache.com/im/pictures/f64cb08f-ea73-4865-b60f-6396ec13e931.jpg?aki_policy=small: HTTP Error 404: Not Found --> Lo eliminaré\n",
            "Error al bajar la URL https://a0.muscache.com/im/pictures/085dc606-3916-461a-ab2a-088de27b4637.jpg?aki_policy=small: HTTP Error 404: Not Found --> Lo eliminaré\n",
            "Error al bajar la URL https://a0.muscache.com/im/pictures/89372757-d1bc-4608-a5fd-cbacf141db8c.jpg?aki_policy=small: HTTP Error 404: Not Found --> Lo eliminaré\n",
            "Error al bajar la URL https://a0.muscache.com/im/pictures/91ca1eff-87aa-4b68-a48c-cd51eae7629f.jpg?aki_policy=small: HTTP Error 404: Not Found --> Lo eliminaré\n",
            "Error al bajar la URL https://a0.muscache.com/im/pictures/11170918-eac7-4bdd-99a8-6ac3abcf1e89.jpg?aki_policy=small: HTTP Error 404: Not Found --> Lo eliminaré\n",
            "Error al bajar la URL https://a0.muscache.com/im/pictures/86156168-d800-48fa-a612-849ef0981755.jpg?aki_policy=small: HTTP Error 404: Not Found --> Lo eliminaré\n",
            "Error al bajar la URL https://a0.muscache.com/im/pictures/fb149d70-bc35-4c1c-b0f9-501a5af18e37.jpg?aki_policy=small: HTTP Error 404: Not Found --> Lo eliminaré\n",
            "Error al bajar la URL https://a0.muscache.com/im/pictures/299eaffe-e766-41c2-b11f-fba4089d0338.jpg?aki_policy=small: HTTP Error 404: Not Found --> Lo eliminaré\n",
            "Error al bajar la URL https://a0.muscache.com/im/pictures/320409c0-ebb4-4290-83d2-5c694962c303.jpg?aki_policy=small: HTTP Error 404: Not Found --> Lo eliminaré\n",
            "Error al bajar la URL https://a0.muscache.com/im/pictures/cf0b0001-8a29-4bf6-bb7a-0cf8540ec096.jpg?aki_policy=small: HTTP Error 404: Not Found --> Lo eliminaré\n",
            "Error al bajar la URL https://a0.muscache.com/im/pictures/611f8055-58b6-496e-bdd2-0788b090c984.jpg?aki_policy=small: HTTP Error 404: Not Found --> Lo eliminaré\n",
            "Error al bajar la URL https://a0.muscache.com/im/pictures/25694575/59ad1309_original.jpg?aki_policy=small: HTTP Error 404: Not Found --> Lo eliminaré\n",
            "Error al bajar la URL https://a0.muscache.com/im/pictures/1a4ab063-d718-490c-8e9d-bdf235fddf2d.jpg?aki_policy=small: HTTP Error 404: Not Found --> Lo eliminaré\n",
            "Error al bajar la URL https://a0.muscache.com/im/pictures/2337a107-2e0e-48d6-b174-554afe7fc43d.jpg?aki_policy=small: HTTP Error 404: Not Found --> Lo eliminaré\n",
            "Error al bajar la URL https://a0.muscache.com/im/pictures/f153b5b8-eaef-4bd3-964e-aae340af96f3.jpg?aki_policy=small: HTTP Error 404: Not Found --> Lo eliminaré\n",
            "Error al bajar la URL https://a0.muscache.com/im/pictures/104655727/d913a633_original.jpg?aki_policy=small: HTTP Error 404: Not Found --> Lo eliminaré\n",
            "Error al bajar la URL https://a0.muscache.com/im/pictures/47978395/9d86dcce_original.jpg?aki_policy=small: HTTP Error 404: Not Found --> Lo eliminaré\n",
            "Error al bajar la URL https://a0.muscache.com/im/pictures/dfea4a2c-5c2b-48f9-9863-05e2b797d16f.jpg?aki_policy=small: HTTP Error 404: Not Found --> Lo eliminaré\n"
          ]
        }
      ]
    },
    {
      "cell_type": "code",
      "source": [
        "#Voy a validar que las imágenes se bajaron! \n",
        "\n",
        "# Mi directorio original es\n",
        "print(\"El directorio actual es: {0}\".format(os.getcwd()))\n",
        "\n",
        "# Me he cambiado de directorio al de imágenes\n",
        "print(\"El directorio de imágenes es : /content/image_folder y su contenido es este -->\")\n",
        "_, _, files = next(os.walk(\"/content/image_folder\"))\n",
        "file_count = len(files)\n",
        "print(file_count)\n",
        "print(\"El nuevo shape de Full_train_filtered es --> \", Full_train_filtered.shape)\n",
        "#files"
      ],
      "metadata": {
        "colab": {
          "base_uri": "https://localhost:8080/"
        },
        "id": "XFfIuhi2vDkf",
        "outputId": "f776d960-7d23-4fff-c61e-250f737d1107"
      },
      "id": "XFfIuhi2vDkf",
      "execution_count": 89,
      "outputs": [
        {
          "output_type": "stream",
          "name": "stdout",
          "text": [
            "El directorio actual es: /content\n",
            "El directorio de imágenes es : /content/image_folder y su contenido es este -->\n",
            "468\n",
            "El nuevo shape de Full_train_filtered es -->  (468, 171)\n"
          ]
        }
      ]
    },
    {
      "cell_type": "code",
      "source": [
        "files"
      ],
      "metadata": {
        "id": "s4UP3Hoog60K"
      },
      "id": "s4UP3Hoog60K",
      "execution_count": null,
      "outputs": []
    },
    {
      "cell_type": "code",
      "source": [
        "!ls -lh"
      ],
      "metadata": {
        "colab": {
          "base_uri": "https://localhost:8080/"
        },
        "id": "4E9soN-OAJYn",
        "outputId": "85c619d3-ce12-45b3-d8f2-776c62df8b68"
      },
      "id": "4E9soN-OAJYn",
      "execution_count": 140,
      "outputs": [
        {
          "output_type": "stream",
          "name": "stdout",
          "text": [
            "total 76M\n",
            "-rw-rw-r-- 1 root root  58M Dec 21 22:29 airbnb-listings-extract.csv\n",
            "-rw-r--r-- 1 root root  15M Feb 19 19:43 airbnb-listings-extract.zip\n",
            "drwxr-xr-x 2 root root 4.0K Feb 19 19:43 __MACOSX\n",
            "drwxr-xr-x 1 root root 4.0K Feb 17 19:30 sample_data\n",
            "-rw-r--r-- 1 root root 237K Feb 19 19:46 test.csv\n",
            "-rw-r--r-- 1 root root 1.2K Feb 19 19:46 test_target.csv\n",
            "-rw-r--r-- 1 root root 1.9M Feb 19 19:46 train.csv\n",
            "-rw-r--r-- 1 root root 9.2K Feb 19 19:46 train_target.csv\n",
            "-rw-r--r-- 1 root root 235K Feb 19 19:46 validation.csv\n",
            "-rw-r--r-- 1 root root 1.2K Feb 19 19:46 validation_target.csv\n",
            "-rw-r--r-- 1 root root 175K Feb 19 20:04 X_test_img.csv\n",
            "-rw-r--r-- 1 root root 476K Feb 19 20:00 X_train_img.csv\n",
            "-rw-r--r-- 1 root root 165K Feb 19 20:02 X_val_img.csv\n",
            "-rw-r--r-- 1 root root  872 Feb 19 20:04 y_test_img.csv\n",
            "-rw-r--r-- 1 root root 2.4K Feb 19 20:00 y_train_img.csv\n",
            "-rw-r--r-- 1 root root  824 Feb 19 20:02 y_val_img.csv\n"
          ]
        }
      ]
    },
    {
      "cell_type": "code",
      "source": [
        "import shutil\n",
        "os.chdir('/content')\n",
        "#shutil.rmtree('/content/image_folder/', ignore_errors=True)\n",
        "#shutil.rmtree('/content/test_image_folder/', ignore_errors=True)\n",
        "#shutil.rmtree('/content/val_image_folder/', ignore_errors=True)\n",
        "#os.remove('/content/image_paths.csv')\n",
        "#os.remove('/content/test_image_paths.csv')\n",
        "#os.remove('/content/val_image_paths.csv')\n"
      ],
      "metadata": {
        "id": "NS7l1tZBy5AF"
      },
      "id": "NS7l1tZBy5AF",
      "execution_count": 141,
      "outputs": []
    },
    {
      "cell_type": "code",
      "source": [
        "from PIL import Image\n",
        "\n",
        "image = Image.open('/content/image_folder/image_1508.jpg')\n",
        "image"
      ],
      "metadata": {
        "colab": {
          "base_uri": "https://localhost:8080/",
          "height": 161
        },
        "id": "FUem-EmYA7J0",
        "outputId": "e077a52e-31d4-479a-d86f-c9623905bdad"
      },
      "id": "FUem-EmYA7J0",
      "execution_count": 91,
      "outputs": [
        {
          "output_type": "execute_result",
          "data": {
            "text/plain": [
              "<PIL.JpegImagePlugin.JpegImageFile image mode=RGB size=216x144 at 0x7F7A4C59F040>"
            ],
            "image/png": "[encoded data removed]"
          },
          "metadata": {},
          "execution_count": 91
        }
      ]
    },
    {
      "cell_type": "markdown",
      "source": [
        "### Ahora, voy a preparar la arquitectura de neuronas para relacionar con el precio "
      ],
      "metadata": {
        "id": "rCmmsVPwr20r"
      },
      "id": "rCmmsVPwr20r"
    },
    {
      "cell_type": "markdown",
      "source": [
        "Primero saco X_train, X_val, X_test, y_train, y_val, y_test"
      ],
      "metadata": {
        "id": "A0b3L5w8k3f1"
      },
      "id": "A0b3L5w8k3f1"
    },
    {
      "cell_type": "code",
      "source": [
        "# Divido en X_train e y_train\n",
        "X_train_img = Full_train_filtered.loc[:, Full_train_filtered.columns != 'Price']\n",
        "X_train_img.to_csv(\"X_train_img.csv\", index=False)\n",
        "y_train_img = Full_train_filtered['Price']\n",
        "y_train_img.to_csv(\"y_train_img.csv\", index=False)\n",
        "\n",
        "print(\"El shape de X_train_img es --> \", X_train_img.shape)\n",
        "print(\"El shape de y_train_img es --> \", y_train_img.shape)"
      ],
      "metadata": {
        "colab": {
          "base_uri": "https://localhost:8080/"
        },
        "id": "YAyybA-3GxSX",
        "outputId": "c5794605-3941-4944-91e9-d2de6a9c7a82"
      },
      "id": "YAyybA-3GxSX",
      "execution_count": 92,
      "outputs": [
        {
          "output_type": "stream",
          "name": "stdout",
          "text": [
            "El shape de X_train_img es -->  (468, 170)\n",
            "El shape de y_train_img es -->  (468,)\n"
          ]
        }
      ]
    },
    {
      "cell_type": "code",
      "source": [
        "# X_val e y_val\n",
        "X_val_img = pd.read_csv('validation.csv')\n",
        "y_val_img = pd.read_csv('validation_target.csv')\n",
        "Full_val_img = y_val_img.join(X_val_img)\n",
        "print(\"El shape del dataframe es --> \", Full_val_img.shape)\n",
        "print(\"El set completo es Full_val es --> \", Full_val_img.head(1))\n",
        "\n",
        "# Voy a disminuir a 200 imágenes para poder procesar en menos tiempo las imágenes\n",
        "Full_val_300 = Full_val_img.sample(n=200, random_state=5)\n",
        "\n",
        "# creo la carpeta donde guardaré las imágenes\n",
        "folder_path = \"val_image_folder\"\n",
        "if not os.path.exists(folder_path):\n",
        "    os.mkdir(folder_path)\n",
        "\n",
        "image_paths = []\n",
        "Full_val_filtered = Full_val_300\n",
        "for i, link in Full_val_300[\"Thumbnail Url\"].iteritems():\n",
        "    try:\n",
        "        # trato de bajar las imágenes\n",
        "        response = urllib.request.urlopen(str(link))\n",
        "        image_name = f\"image_{i}.jpg\"\n",
        "        image_path = os.path.join(folder_path, image_name)\n",
        "        with open(image_path, \"wb\") as f:\n",
        "            f.write(response.read())\n",
        "        image_paths.append(image_path)\n",
        "    except Exception as e:\n",
        "        # Si hay error, me avisa y continúa\n",
        "        print(f\"Error al bajar la URL {link}: {e} --> Lo eliminaré\")\n",
        "        Full_val_filtered.drop(Full_val_filtered[Full_val_filtered['Thumbnail Url'] == link].index, inplace = True) # --> Si encontrara error, lo elimino en Full_train_filtered\n",
        "        continue  \n",
        "\n",
        "Full_val_300 = Full_val_filtered\n",
        "# create a new dataframe with the image paths\n",
        "image_df = pd.DataFrame({\"image_path\": image_paths})\n",
        "\n",
        "# guardo los path de imágenes val en CSV\n",
        "image_df.to_csv(\"val_image_paths.csv\", index=False)\n",
        "\n",
        "# Divido en X_train e y_train\n",
        "X_val_img = Full_val_filtered.loc[:, Full_val_filtered.columns != 'Price']\n",
        "X_val_img.to_csv(\"X_val_img.csv\", index=False)\n",
        "y_val_img = Full_val_filtered['Price']\n",
        "y_val_img.to_csv(\"y_val_img.csv\", index=False)\n",
        "\n",
        "print(\"El shape de X_val_img es --> \", X_val_img.shape)\n",
        "print(\"El shape de y_val_img es --> \", y_val_img.shape)\n"
      ],
      "metadata": {
        "colab": {
          "base_uri": "https://localhost:8080/"
        },
        "id": "ZoDbVSHikpV-",
        "outputId": "f69a251c-8d07-45bb-95d3-5f9e04ad59b7"
      },
      "id": "ZoDbVSHikpV-",
      "execution_count": 93,
      "outputs": [
        {
          "output_type": "stream",
          "name": "stdout",
          "text": [
            "El shape del dataframe es -->  (229, 171)\n",
            "El set completo es Full_val es -->     Price       ID   Host ID  Host Response Rate  Host Listings Count  \\\n",
            "0   18.0  9524358  49102155               100.0                  1.0   \n",
            "\n",
            "   Host Total Listings Count  Zipcode  Latitude  Longitude  Accommodates  ...  \\\n",
            "0                        1.0    28017  40.42637  -3.639243             1  ...   \n",
            "\n",
            "   Bed Type_Airbed  Bed Type_Couch  Bed Type_Futon  Bed Type_Pull-out Sofa  \\\n",
            "0                0               0               0                       0   \n",
            "\n",
            "   Bed Type_Real Bed  Cancellation Policy_flexible  \\\n",
            "0                  1                             1   \n",
            "\n",
            "   Cancellation Policy_moderate  Cancellation Policy_strict  \\\n",
            "0                             0                           0   \n",
            "\n",
            "   Cancellation Policy_super_strict_30  Cancellation Policy_super_strict_60  \n",
            "0                                    0                                    0  \n",
            "\n",
            "[1 rows x 171 columns]\n",
            "Error al bajar la URL https://a0.muscache.com/im/pictures/702206bf-11e6-4d76-be0e-87c03fade4e6.jpg?aki_policy=small: HTTP Error 404: Not Found --> Lo eliminaré\n",
            "Error al bajar la URL https://a0.muscache.com/im/pictures/9e0db031-4e3d-45e2-b1b6-099434e877af.jpg?aki_policy=small: HTTP Error 404: Not Found --> Lo eliminaré\n",
            "Error al bajar la URL https://a0.muscache.com/im/pictures/661fab55-03a7-4597-8e50-44313dc5edfe.jpg?aki_policy=small: HTTP Error 404: Not Found --> Lo eliminaré\n",
            "Error al bajar la URL https://a0.muscache.com/im/pictures/8ee21c04-5b39-4493-b6d0-ac5c94fef59c.jpg?aki_policy=small: HTTP Error 404: Not Found --> Lo eliminaré\n",
            "Error al bajar la URL https://a0.muscache.com/im/pictures/7341596/35d0191d_original.jpg?aki_policy=small: HTTP Error 404: Not Found --> Lo eliminaré\n",
            "Error al bajar la URL https://a0.muscache.com/im/pictures/ec7020d7-fb82-431a-8c34-8778c58c2a21.jpg?aki_policy=small: HTTP Error 404: Not Found --> Lo eliminaré\n",
            "Error al bajar la URL https://a0.muscache.com/im/pictures/b66ebd7a-043c-4c53-afc2-95a32c9e66de.jpg?aki_policy=small: HTTP Error 404: Not Found --> Lo eliminaré\n",
            "Error al bajar la URL https://a0.muscache.com/im/pictures/51326970/a4e69f84_original.jpg?aki_policy=small: HTTP Error 404: Not Found --> Lo eliminaré\n",
            "Error al bajar la URL https://a0.muscache.com/im/pictures/79e52ba3-2bf5-45b3-8bfd-764bd4f26c89.jpg?aki_policy=small: HTTP Error 404: Not Found --> Lo eliminaré\n",
            "Error al bajar la URL https://a0.muscache.com/im/pictures/13197755/c0be1db8_original.jpg?aki_policy=small: HTTP Error 404: Not Found --> Lo eliminaré\n",
            "Error al bajar la URL https://a0.muscache.com/im/pictures/f8f852ec-8f3c-4ca2-a857-afd066935ae9.jpg?aki_policy=small: HTTP Error 404: Not Found --> Lo eliminaré\n",
            "Error al bajar la URL https://a0.muscache.com/im/pictures/9f40a3ca-bd1d-4ce2-b789-5a4e508c90c0.jpg?aki_policy=small: HTTP Error 404: Not Found --> Lo eliminaré\n",
            "Error al bajar la URL https://a0.muscache.com/im/pictures/89c94a46-237b-4d36-a710-0f4f6b87c68d.jpg?aki_policy=small: HTTP Error 404: Not Found --> Lo eliminaré\n",
            "Error al bajar la URL https://a0.muscache.com/im/pictures/d057f1c5-8b43-4802-b158-ab3c0b2cbfd2.jpg?aki_policy=small: HTTP Error 404: Not Found --> Lo eliminaré\n",
            "Error al bajar la URL https://a0.muscache.com/im/pictures/91050207/5e45bc3f_original.jpg?aki_policy=small: HTTP Error 404: Not Found --> Lo eliminaré\n",
            "Error al bajar la URL https://a0.muscache.com/im/pictures/849510e4-2e56-4d8e-ae5d-3925abdb3da8.jpg?aki_policy=small: HTTP Error 404: Not Found --> Lo eliminaré\n",
            "Error al bajar la URL https://a0.muscache.com/im/pictures/66860098/d57a080b_original.jpg?aki_policy=small: HTTP Error 404: Not Found --> Lo eliminaré\n",
            "Error al bajar la URL https://a0.muscache.com/im/pictures/48333035/2f0f333a_original.jpg?aki_policy=small: HTTP Error 404: Not Found --> Lo eliminaré\n",
            "Error al bajar la URL https://a0.muscache.com/im/pictures/8170dd79-8f45-4fc1-b846-bf17a742c895.jpg?aki_policy=small: HTTP Error 404: Not Found --> Lo eliminaré\n",
            "Error al bajar la URL https://a0.muscache.com/im/pictures/512fe66b-b58c-4460-871d-bd30f9697b0b.jpg?aki_policy=small: HTTP Error 404: Not Found --> Lo eliminaré\n",
            "Error al bajar la URL https://a0.muscache.com/im/pictures/ea7be10f-3259-42b5-b4a2-5a9333ad0fda.jpg?aki_policy=small: HTTP Error 404: Not Found --> Lo eliminaré\n",
            "Error al bajar la URL https://a0.muscache.com/im/pictures/6f2f45e8-222e-4e4d-a0c9-20df0d84ac06.jpg?aki_policy=small: HTTP Error 404: Not Found --> Lo eliminaré\n",
            "Error al bajar la URL https://a0.muscache.com/im/pictures/57820856/e405dab5_original.jpg?aki_policy=small: HTTP Error 404: Not Found --> Lo eliminaré\n",
            "Error al bajar la URL https://a0.muscache.com/im/pictures/0c3074b0-1781-49e2-881f-e9a624c8d521.jpg?aki_policy=small: HTTP Error 404: Not Found --> Lo eliminaré\n",
            "Error al bajar la URL https://a0.muscache.com/im/pictures/f4980615-e43d-4e80-b213-88a67abcf5a2.jpg?aki_policy=small: HTTP Error 404: Not Found --> Lo eliminaré\n",
            "Error al bajar la URL https://a0.muscache.com/im/pictures/80a7fa89-321b-47ce-8cb5-362ab5ec572c.jpg?aki_policy=small: HTTP Error 404: Not Found --> Lo eliminaré\n",
            "Error al bajar la URL https://a0.muscache.com/im/pictures/21dd0598-4ddf-495e-bcde-e0402a62f3b2.jpg?aki_policy=small: HTTP Error 404: Not Found --> Lo eliminaré\n",
            "Error al bajar la URL https://a0.muscache.com/im/pictures/60733704/2617b992_original.jpg?aki_policy=small: HTTP Error 404: Not Found --> Lo eliminaré\n",
            "Error al bajar la URL https://a0.muscache.com/im/pictures/c71c6a06-5c3e-4123-a09f-fcf767d6701b.jpg?aki_policy=small: HTTP Error 404: Not Found --> Lo eliminaré\n",
            "Error al bajar la URL https://a0.muscache.com/im/pictures/50865997/c9096b4a_original.jpg?aki_policy=small: HTTP Error 404: Not Found --> Lo eliminaré\n",
            "Error al bajar la URL https://a0.muscache.com/im/pictures/40370968/68a65a18_original.jpg?aki_policy=small: HTTP Error 404: Not Found --> Lo eliminaré\n",
            "Error al bajar la URL https://a0.muscache.com/im/pictures/23105523/00eb8f46_original.jpg?aki_policy=small: HTTP Error 404: Not Found --> Lo eliminaré\n",
            "Error al bajar la URL https://a0.muscache.com/im/pictures/f6143662-ea4d-479b-a182-9547c983b5cd.jpg?aki_policy=small: HTTP Error 404: Not Found --> Lo eliminaré\n",
            "Error al bajar la URL https://a0.muscache.com/im/pictures/b0502f7a-b480-4e55-b0ec-b6ae552a94ca.jpg?aki_policy=small: HTTP Error 404: Not Found --> Lo eliminaré\n",
            "Error al bajar la URL https://a0.muscache.com/im/pictures/39791986/01ea6e28_original.jpg?aki_policy=small: HTTP Error 404: Not Found --> Lo eliminaré\n",
            "Error al bajar la URL https://a0.muscache.com/im/pictures/87dcdf98-1ed2-4e35-8c81-05d5491ac27e.jpg?aki_policy=small: HTTP Error 404: Not Found --> Lo eliminaré\n",
            "Error al bajar la URL https://a0.muscache.com/im/pictures/76c845df-8fd6-44a8-adea-fd998df04535.jpg?aki_policy=small: HTTP Error 404: Not Found --> Lo eliminaré\n",
            "Error al bajar la URL https://a0.muscache.com/im/pictures/faa088e7-b93c-4b6f-a8d3-3d4c541d1879.jpg?aki_policy=small: HTTP Error 404: Not Found --> Lo eliminaré\n",
            "Error al bajar la URL https://a0.muscache.com/im/pictures/72b9db55-d5ec-4897-93b4-a34871e00cda.jpg?aki_policy=small: HTTP Error 404: Not Found --> Lo eliminaré\n",
            "Error al bajar la URL https://a0.muscache.com/im/pictures/59b6d722-a143-41a0-a02e-2826578f749e.jpg?aki_policy=small: HTTP Error 404: Not Found --> Lo eliminaré\n",
            "El shape de X_val_img es -->  (160, 170)\n",
            "El shape de y_val_img es -->  (160,)\n"
          ]
        }
      ]
    },
    {
      "cell_type": "code",
      "source": [
        "# X_test e y_test\n",
        "X_test_img = pd.read_csv('test.csv')\n",
        "y_test_img = pd.read_csv('test_target.csv')\n",
        "Full_test_img = y_test_img.join(X_test_img)\n",
        "print(\"El shape del dataframe es --> \", Full_test_img.shape)\n",
        "print(\"El set completo es Full_val es --> \", Full_test_img.head(1))\n",
        "\n",
        "# Voy a disminuir a 200 imágenes para poder procesar en menos tiempo las imágenes\n",
        "Full_test_300 = Full_test_img.sample(n=200, random_state=5)\n",
        "\n",
        "# creo la carpeta donde guardaré las imágenes\n",
        "folder_path = \"test_image_folder\"\n",
        "if not os.path.exists(folder_path):\n",
        "    os.mkdir(folder_path)\n",
        "\n",
        "image_paths = []\n",
        "Full_test_filtered = Full_test_300\n",
        "for i, link in Full_test_300[\"Thumbnail Url\"].iteritems():\n",
        "    try:\n",
        "        # trato de bajar las imágenes\n",
        "        response = urllib.request.urlopen(str(link))\n",
        "        image_name = f\"image_{i}.jpg\"\n",
        "        image_path = os.path.join(folder_path, image_name)\n",
        "        with open(image_path, \"wb\") as f:\n",
        "            f.write(response.read())\n",
        "        image_paths.append(image_path)\n",
        "    except Exception as e:\n",
        "        # Si hay error, me avisa y continúa\n",
        "        print(f\"Error al bajar la URL {link}: {e} --> Lo eliminaré\")\n",
        "        Full_test_filtered.drop(Full_test_filtered[Full_test_filtered['Thumbnail Url'] == link].index, inplace = True) # --> Si encontrara error, lo elimino en Full_train_filtered\n",
        "        continue  \n",
        "\n",
        "Full_test_300 = Full_test_filtered\n",
        "# create a new dataframe with the image paths\n",
        "image_df = pd.DataFrame({\"image_path\": image_paths})\n",
        "\n",
        "# save the dataframe to a CSV file\n",
        "image_df.to_csv(\"test_image_paths.csv\", index=False)\n",
        "\n",
        "# Divido en X_test e y_test\n",
        "X_test_img = Full_test_filtered.loc[:, Full_test_filtered.columns != 'Price']\n",
        "X_test_img.to_csv(\"X_test_img.csv\", index=False)\n",
        "y_test_img = Full_test_filtered['Price']\n",
        "y_test_img.to_csv(\"y_test_img.csv\", index=False)\n",
        "\n",
        "print(\"El shape de X_test_img es --> \", X_test_img.shape)\n",
        "print(\"El shape de y_test_img es --> \", y_test_img.shape)"
      ],
      "metadata": {
        "colab": {
          "base_uri": "https://localhost:8080/"
        },
        "id": "2ROC7cFSoHxa",
        "outputId": "66226668-7c54-4649-f857-37a7bd7a5d8b"
      },
      "id": "2ROC7cFSoHxa",
      "execution_count": 94,
      "outputs": [
        {
          "output_type": "stream",
          "name": "stdout",
          "text": [
            "El shape del dataframe es -->  (230, 171)\n",
            "El set completo es Full_val es -->     Price        ID   Host ID  Host Response Rate  Host Listings Count  \\\n",
            "0   30.0  17842131  53578962               100.0                  1.0   \n",
            "\n",
            "   Host Total Listings Count  Zipcode   Latitude  Longitude  Accommodates  \\\n",
            "0                        1.0    28015  40.434928  -3.707224             1   \n",
            "\n",
            "   ...  Bed Type_Airbed  Bed Type_Couch  Bed Type_Futon  \\\n",
            "0  ...                0               0               0   \n",
            "\n",
            "   Bed Type_Pull-out Sofa  Bed Type_Real Bed  Cancellation Policy_flexible  \\\n",
            "0                       0                  1                             1   \n",
            "\n",
            "   Cancellation Policy_moderate  Cancellation Policy_strict  \\\n",
            "0                             0                           0   \n",
            "\n",
            "   Cancellation Policy_super_strict_30  Cancellation Policy_super_strict_60  \n",
            "0                                    0                                    0  \n",
            "\n",
            "[1 rows x 171 columns]\n",
            "Error al bajar la URL https://a0.muscache.com/im/pictures/5b927c9a-185c-4e2a-8f79-0e134d56ef1b.jpg?aki_policy=small: HTTP Error 404: Not Found --> Lo eliminaré\n",
            "Error al bajar la URL https://a0.muscache.com/im/pictures/20f2aa9a-1077-438b-9824-062e27d8238b.jpg?aki_policy=small: HTTP Error 404: Not Found --> Lo eliminaré\n",
            "Error al bajar la URL https://a0.muscache.com/im/pictures/b9623a16-cd13-4531-bd91-234924375b74.jpg?aki_policy=small: HTTP Error 404: Not Found --> Lo eliminaré\n",
            "Error al bajar la URL https://a0.muscache.com/im/pictures/33060116/95d1dae6_original.jpg?aki_policy=small: HTTP Error 404: Not Found --> Lo eliminaré\n",
            "Error al bajar la URL https://a0.muscache.com/im/pictures/5e90110d-1d71-47da-a026-1ae786c66f08.jpg?aki_policy=small: HTTP Error 404: Not Found --> Lo eliminaré\n",
            "Error al bajar la URL https://a0.muscache.com/im/pictures/60722489/88e85a57_original.jpg?aki_policy=small: HTTP Error 404: Not Found --> Lo eliminaré\n",
            "Error al bajar la URL https://a0.muscache.com/im/pictures/d669ae4c-29c6-440f-93b7-7301947aa675.jpg?aki_policy=small: HTTP Error 415: Unsupported Media Type --> Lo eliminaré\n",
            "Error al bajar la URL https://a0.muscache.com/im/pictures/63497414/9543ace7_original.jpg?aki_policy=small: HTTP Error 404: Not Found --> Lo eliminaré\n",
            "Error al bajar la URL https://a0.muscache.com/im/pictures/106646932/9ea811ad_original.jpg?aki_policy=small: HTTP Error 404: Not Found --> Lo eliminaré\n",
            "Error al bajar la URL https://a0.muscache.com/im/pictures/14144682/9415d778_original.jpg?aki_policy=small: HTTP Error 404: Not Found --> Lo eliminaré\n",
            "Error al bajar la URL https://a0.muscache.com/im/pictures/283d911e-d068-4675-a74d-b94e81d341a1.jpg?aki_policy=small: HTTP Error 404: Not Found --> Lo eliminaré\n",
            "Error al bajar la URL https://a0.muscache.com/im/pictures/569cf8a9-68a5-4ec5-b3bf-26fbc09cace5.jpg?aki_policy=small: HTTP Error 404: Not Found --> Lo eliminaré\n",
            "Error al bajar la URL https://a0.muscache.com/im/pictures/6a81c451-6a23-44af-abff-4e8b8db1f24c.jpg?aki_policy=small: HTTP Error 404: Not Found --> Lo eliminaré\n",
            "Error al bajar la URL https://a0.muscache.com/im/pictures/5588c69d-1a0b-4e07-b29f-11d4bb6b2452.jpg?aki_policy=small: HTTP Error 404: Not Found --> Lo eliminaré\n",
            "Error al bajar la URL https://a0.muscache.com/im/pictures/36921103/ca671f73_original.jpg?aki_policy=small: HTTP Error 404: Not Found --> Lo eliminaré\n",
            "Error al bajar la URL https://a0.muscache.com/im/pictures/4187656/e7f46c20_original.jpg?aki_policy=small: HTTP Error 404: Not Found --> Lo eliminaré\n",
            "Error al bajar la URL https://a0.muscache.com/im/pictures/d8ec56fc-e032-4252-b7c4-7068a47db80b.jpg?aki_policy=small: HTTP Error 404: Not Found --> Lo eliminaré\n",
            "Error al bajar la URL https://a0.muscache.com/im/pictures/4750573a-963f-4616-a393-2e643947a85f.jpg?aki_policy=small: HTTP Error 404: Not Found --> Lo eliminaré\n",
            "Error al bajar la URL https://a0.muscache.com/im/pictures/d287bc86-8164-4c43-9b54-244a6ba6cabf.jpg?aki_policy=small: HTTP Error 404: Not Found --> Lo eliminaré\n",
            "Error al bajar la URL https://a0.muscache.com/im/pictures/f096d603-2991-43e7-a639-6ad2299e07e4.jpg?aki_policy=small: HTTP Error 404: Not Found --> Lo eliminaré\n",
            "Error al bajar la URL https://a0.muscache.com/im/pictures/104183154/35332807_original.jpg?aki_policy=small: HTTP Error 404: Not Found --> Lo eliminaré\n",
            "Error al bajar la URL https://a0.muscache.com/im/pictures/7b27aeff-2c2b-41e0-9dbb-4f1d67745c49.jpg?aki_policy=small: HTTP Error 404: Not Found --> Lo eliminaré\n",
            "Error al bajar la URL https://a0.muscache.com/im/pictures/a8ba7dad-b24d-4c9d-b7f9-84c2b733a3ca.jpg?aki_policy=small: HTTP Error 404: Not Found --> Lo eliminaré\n",
            "Error al bajar la URL https://a0.muscache.com/im/pictures/20697314/6b4952a1_original.jpg?aki_policy=small: HTTP Error 404: Not Found --> Lo eliminaré\n",
            "Error al bajar la URL https://a0.muscache.com/im/pictures/59ef6a54-aef4-4000-8d4f-1c4b0b96c82f.jpg?aki_policy=small: HTTP Error 404: Not Found --> Lo eliminaré\n",
            "Error al bajar la URL https://a0.muscache.com/im/pictures/63061092/27e5f47e_original.jpg?aki_policy=small: HTTP Error 404: Not Found --> Lo eliminaré\n",
            "Error al bajar la URL https://a0.muscache.com/im/pictures/e827c215-9252-489b-97ad-f118e3f5038e.jpg?aki_policy=small: HTTP Error 404: Not Found --> Lo eliminaré\n",
            "Error al bajar la URL https://a0.muscache.com/im/pictures/110653640/f9786c0e_original.jpg?aki_policy=small: HTTP Error 404: Not Found --> Lo eliminaré\n",
            "Error al bajar la URL https://a0.muscache.com/im/pictures/60295477/006075c0_original.jpg?aki_policy=small: HTTP Error 404: Not Found --> Lo eliminaré\n",
            "Error al bajar la URL https://a0.muscache.com/im/pictures/a9c6b356-9bd3-4034-b2ed-d83b8b248ec1.jpg?aki_policy=small: HTTP Error 404: Not Found --> Lo eliminaré\n",
            "Error al bajar la URL https://a0.muscache.com/im/pictures/16546167/7bfc8167_original.jpg?aki_policy=small: HTTP Error 404: Not Found --> Lo eliminaré\n",
            "El shape de X_test_img es -->  (169, 170)\n",
            "El shape de y_test_img es -->  (169,)\n"
          ]
        }
      ]
    },
    {
      "cell_type": "markdown",
      "source": [
        "## 8. Voy a diseñar el modelo para las imágenes"
      ],
      "metadata": {
        "id": "GLRPxMWahxKs"
      },
      "id": "GLRPxMWahxKs"
    },
    {
      "cell_type": "markdown",
      "source": [
        "Inicio por cargar los datos del **disco!!!**\n",
        "\n",
        "Normalizo Precios"
      ],
      "metadata": {
        "id": "ac82LzepppI3"
      },
      "id": "ac82LzepppI3"
    },
    {
      "cell_type": "code",
      "source": [
        "!ls -lh"
      ],
      "metadata": {
        "id": "q7CQqQDkryr0",
        "colab": {
          "base_uri": "https://localhost:8080/"
        },
        "outputId": "e96889d0-ef16-411a-d0e8-f7dde594a4fc"
      },
      "id": "q7CQqQDkryr0",
      "execution_count": 101,
      "outputs": [
        {
          "output_type": "stream",
          "name": "stdout",
          "text": [
            "total 76M\n",
            "-rw-rw-r-- 1 root root  58M Dec 21 22:29 airbnb-listings-extract.csv\n",
            "-rw-r--r-- 1 root root  15M Feb 19 19:43 airbnb-listings-extract.zip\n",
            "drwxr-xr-x 2 root root  20K Feb 19 19:58 image_folder\n",
            "-rw-r--r-- 1 root root  13K Feb 19 19:58 image_paths.csv\n",
            "drwxr-xr-x 2 root root 4.0K Feb 19 19:43 __MACOSX\n",
            "drwxr-xr-x 1 root root 4.0K Feb 17 19:30 sample_data\n",
            "-rw-r--r-- 1 root root 237K Feb 19 19:46 test.csv\n",
            "drwxr-xr-x 2 root root 4.0K Feb 19 20:04 test_image_folder\n",
            "-rw-r--r-- 1 root root 5.3K Feb 19 20:04 test_image_paths.csv\n",
            "-rw-r--r-- 1 root root 1.2K Feb 19 19:46 test_target.csv\n",
            "-rw-r--r-- 1 root root 1.9M Feb 19 19:46 train.csv\n",
            "-rw-r--r-- 1 root root 9.2K Feb 19 19:46 train_target.csv\n",
            "-rw-r--r-- 1 root root 235K Feb 19 19:46 validation.csv\n",
            "-rw-r--r-- 1 root root 1.2K Feb 19 19:46 validation_target.csv\n",
            "drwxr-xr-x 2 root root 4.0K Feb 19 20:02 val_image_folder\n",
            "-rw-r--r-- 1 root root 4.8K Feb 19 20:02 val_image_paths.csv\n",
            "-rw-r--r-- 1 root root 175K Feb 19 20:04 X_test_img.csv\n",
            "-rw-r--r-- 1 root root 476K Feb 19 20:00 X_train_img.csv\n",
            "-rw-r--r-- 1 root root 165K Feb 19 20:02 X_val_img.csv\n",
            "-rw-r--r-- 1 root root  872 Feb 19 20:04 y_test_img.csv\n",
            "-rw-r--r-- 1 root root 2.4K Feb 19 20:00 y_train_img.csv\n",
            "-rw-r--r-- 1 root root  824 Feb 19 20:02 y_val_img.csv\n"
          ]
        }
      ]
    },
    {
      "cell_type": "code",
      "source": [
        "target_scaler = MinMaxScaler()\n",
        "\n",
        "# Carga los path y precios del dataframe para Train\n",
        "df = pd.read_csv('image_paths.csv')\n",
        "image_paths_train = df['image_path'].values\n",
        "precios = pd.read_csv('y_train_img.csv').values\n",
        "\n",
        "# Carga los path y precios del dataframe para Val\n",
        "df = pd.read_csv('val_image_paths.csv')\n",
        "image_paths_val = df['image_path'].values\n",
        "precios_val = pd.read_csv('y_val_img.csv').values\n",
        "\n",
        "# Carga los path y precios del dataframe para Test\n",
        "df = pd.read_csv('test_image_paths.csv')\n",
        "image_paths_test = df['image_path'].values\n",
        "precios_test = pd.read_csv('y_test_img.csv').values\n",
        "\n",
        "\n",
        "# Normalizo los precios \n",
        "precios = target_scaler.fit_transform(precios.reshape(-1, 1))\n",
        "precios_val = target_scaler.fit_transform(precios_val.reshape(-1, 1))\n",
        "precios_test = target_scaler.fit_transform(precios_test.reshape(-1, 1))\n",
        "\n",
        "\n"
      ],
      "metadata": {
        "id": "YHgsJ1rVNnjr"
      },
      "id": "YHgsJ1rVNnjr",
      "execution_count": 114,
      "outputs": []
    },
    {
      "cell_type": "markdown",
      "source": [
        "Cargo las imágenes de images"
      ],
      "metadata": {
        "id": "ll_90L1gqhHx"
      },
      "id": "ll_90L1gqhHx"
    },
    {
      "cell_type": "code",
      "source": [
        "# cargo la imágenes validación a memoria\n",
        "images = []\n",
        "for path in image_paths_train:\n",
        "    image = Image.open(path).resize((33, 33))\n",
        "    image = np.array(image) / 255.0  # normalize pixel values\n",
        "    images.append(image)\n",
        "images = np.array(images)\n"
      ],
      "metadata": {
        "id": "rq7_L7cWqhaI"
      },
      "id": "rq7_L7cWqhaI",
      "execution_count": 135,
      "outputs": []
    },
    {
      "cell_type": "markdown",
      "source": [
        "Cargo las imágenes de images_val"
      ],
      "metadata": {
        "id": "_Y32cGipzLXv"
      },
      "id": "_Y32cGipzLXv"
    },
    {
      "cell_type": "code",
      "source": [
        "# cargo la imágenes validación a memoria\n",
        "images_val = []\n",
        "for path in image_paths_val:\n",
        "    image = Image.open(path).resize((33, 33))\n",
        "    image = np.array(image) / 255.0  # normalize pixel values\n",
        "    images_val.append(image)\n",
        "images_val = np.array(images_val)"
      ],
      "metadata": {
        "id": "p3D6kPwMzKJW",
        "colab": {
          "base_uri": "https://localhost:8080/"
        },
        "outputId": "d6da5d2a-5f08-4213-91c2-5289a02dc17b"
      },
      "id": "p3D6kPwMzKJW",
      "execution_count": 127,
      "outputs": [
        {
          "output_type": "stream",
          "name": "stdout",
          "text": [
            "val_image_folder/image_139.jpg tiene un tamaño incorrecto: (216, 144)\n",
            "val_image_folder/image_95.jpg tiene un tamaño incorrecto: (216, 144)\n",
            "val_image_folder/image_37.jpg tiene un tamaño incorrecto: (216, 144)\n",
            "val_image_folder/image_53.jpg tiene un tamaño incorrecto: (216, 144)\n",
            "val_image_folder/image_207.jpg tiene un tamaño incorrecto: (216, 144)\n",
            "val_image_folder/image_6.jpg tiene un tamaño incorrecto: (216, 144)\n",
            "val_image_folder/image_170.jpg tiene un tamaño incorrecto: (216, 144)\n",
            "val_image_folder/image_188.jpg tiene un tamaño incorrecto: (216, 144)\n",
            "val_image_folder/image_161.jpg tiene un tamaño incorrecto: (216, 144)\n",
            "val_image_folder/image_3.jpg tiene un tamaño incorrecto: (216, 144)\n",
            "val_image_folder/image_176.jpg tiene un tamaño incorrecto: (216, 144)\n",
            "val_image_folder/image_79.jpg tiene un tamaño incorrecto: (216, 144)\n",
            "val_image_folder/image_98.jpg tiene un tamaño incorrecto: (216, 144)\n",
            "val_image_folder/image_104.jpg tiene un tamaño incorrecto: (216, 144)\n",
            "val_image_folder/image_77.jpg tiene un tamaño incorrecto: (216, 144)\n",
            "val_image_folder/image_116.jpg tiene un tamaño incorrecto: (216, 144)\n",
            "val_image_folder/image_174.jpg tiene un tamaño incorrecto: (216, 144)\n",
            "val_image_folder/image_51.jpg tiene un tamaño incorrecto: (216, 144)\n",
            "val_image_folder/image_154.jpg tiene un tamaño incorrecto: (216, 144)\n",
            "val_image_folder/image_56.jpg tiene un tamaño incorrecto: (216, 144)\n",
            "val_image_folder/image_89.jpg tiene un tamaño incorrecto: (216, 144)\n",
            "val_image_folder/image_165.jpg tiene un tamaño incorrecto: (216, 144)\n",
            "val_image_folder/image_26.jpg tiene un tamaño incorrecto: (216, 144)\n",
            "val_image_folder/image_46.jpg tiene un tamaño incorrecto: (216, 144)\n",
            "val_image_folder/image_101.jpg tiene un tamaño incorrecto: (216, 144)\n",
            "val_image_folder/image_87.jpg tiene un tamaño incorrecto: (216, 144)\n",
            "val_image_folder/image_42.jpg tiene un tamaño incorrecto: (216, 144)\n",
            "val_image_folder/image_167.jpg tiene un tamaño incorrecto: (216, 144)\n",
            "val_image_folder/image_84.jpg tiene un tamaño incorrecto: (216, 144)\n",
            "val_image_folder/image_136.jpg tiene un tamaño incorrecto: (216, 144)\n",
            "val_image_folder/image_130.jpg tiene un tamaño incorrecto: (216, 144)\n",
            "val_image_folder/image_201.jpg tiene un tamaño incorrecto: (216, 144)\n",
            "val_image_folder/image_61.jpg tiene un tamaño incorrecto: (216, 144)\n",
            "val_image_folder/image_215.jpg tiene un tamaño incorrecto: (216, 144)\n",
            "val_image_folder/image_34.jpg tiene un tamaño incorrecto: (216, 144)\n",
            "val_image_folder/image_117.jpg tiene un tamaño incorrecto: (216, 144)\n",
            "val_image_folder/image_173.jpg tiene un tamaño incorrecto: (216, 144)\n",
            "val_image_folder/image_192.jpg tiene un tamaño incorrecto: (216, 144)\n",
            "val_image_folder/image_55.jpg tiene un tamaño incorrecto: (216, 144)\n",
            "val_image_folder/image_185.jpg tiene un tamaño incorrecto: (216, 144)\n",
            "val_image_folder/image_184.jpg tiene un tamaño incorrecto: (216, 144)\n",
            "val_image_folder/image_149.jpg tiene un tamaño incorrecto: (216, 144)\n",
            "val_image_folder/image_39.jpg tiene un tamaño incorrecto: (216, 144)\n",
            "val_image_folder/image_169.jpg tiene un tamaño incorrecto: (216, 144)\n",
            "val_image_folder/image_40.jpg tiene un tamaño incorrecto: (216, 144)\n",
            "val_image_folder/image_75.jpg tiene un tamaño incorrecto: (216, 144)\n",
            "val_image_folder/image_60.jpg tiene un tamaño incorrecto: (216, 144)\n",
            "val_image_folder/image_212.jpg tiene un tamaño incorrecto: (216, 144)\n",
            "val_image_folder/image_96.jpg tiene un tamaño incorrecto: (216, 144)\n",
            "val_image_folder/image_195.jpg tiene un tamaño incorrecto: (216, 144)\n",
            "val_image_folder/image_223.jpg tiene un tamaño incorrecto: (216, 144)\n",
            "val_image_folder/image_24.jpg tiene un tamaño incorrecto: (216, 144)\n",
            "val_image_folder/image_54.jpg tiene un tamaño incorrecto: (216, 144)\n",
            "val_image_folder/image_90.jpg tiene un tamaño incorrecto: (216, 144)\n",
            "val_image_folder/image_45.jpg tiene un tamaño incorrecto: (216, 144)\n",
            "val_image_folder/image_227.jpg tiene un tamaño incorrecto: (216, 144)\n",
            "val_image_folder/image_211.jpg tiene un tamaño incorrecto: (216, 144)\n",
            "val_image_folder/image_182.jpg tiene un tamaño incorrecto: (216, 144)\n",
            "val_image_folder/image_196.jpg tiene un tamaño incorrecto: (216, 144)\n",
            "val_image_folder/image_43.jpg tiene un tamaño incorrecto: (216, 144)\n",
            "val_image_folder/image_62.jpg tiene un tamaño incorrecto: (216, 144)\n",
            "val_image_folder/image_226.jpg tiene un tamaño incorrecto: (216, 144)\n",
            "val_image_folder/image_228.jpg tiene un tamaño incorrecto: (216, 144)\n",
            "val_image_folder/image_102.jpg tiene un tamaño incorrecto: (216, 144)\n",
            "val_image_folder/image_74.jpg tiene un tamaño incorrecto: (216, 144)\n",
            "val_image_folder/image_123.jpg tiene un tamaño incorrecto: (216, 144)\n",
            "val_image_folder/image_59.jpg tiene un tamaño incorrecto: (216, 144)\n",
            "val_image_folder/image_194.jpg tiene un tamaño incorrecto: (216, 144)\n",
            "val_image_folder/image_12.jpg tiene un tamaño incorrecto: (216, 144)\n",
            "val_image_folder/image_71.jpg tiene un tamaño incorrecto: (216, 144)\n",
            "val_image_folder/image_88.jpg tiene un tamaño incorrecto: (216, 144)\n",
            "val_image_folder/image_199.jpg tiene un tamaño incorrecto: (216, 144)\n",
            "val_image_folder/image_138.jpg tiene un tamaño incorrecto: (216, 144)\n",
            "val_image_folder/image_19.jpg tiene un tamaño incorrecto: (216, 144)\n",
            "val_image_folder/image_57.jpg tiene un tamaño incorrecto: (216, 144)\n",
            "val_image_folder/image_66.jpg tiene un tamaño incorrecto: (216, 144)\n",
            "val_image_folder/image_163.jpg tiene un tamaño incorrecto: (216, 144)\n",
            "val_image_folder/image_63.jpg tiene un tamaño incorrecto: (216, 144)\n",
            "val_image_folder/image_150.jpg tiene un tamaño incorrecto: (216, 144)\n",
            "val_image_folder/image_15.jpg tiene un tamaño incorrecto: (216, 144)\n",
            "val_image_folder/image_148.jpg tiene un tamaño incorrecto: (216, 144)\n",
            "val_image_folder/image_10.jpg tiene un tamaño incorrecto: (216, 144)\n",
            "val_image_folder/image_122.jpg tiene un tamaño incorrecto: (216, 144)\n",
            "val_image_folder/image_202.jpg tiene un tamaño incorrecto: (216, 144)\n",
            "val_image_folder/image_197.jpg tiene un tamaño incorrecto: (216, 144)\n",
            "val_image_folder/image_200.jpg tiene un tamaño incorrecto: (216, 144)\n",
            "val_image_folder/image_4.jpg tiene un tamaño incorrecto: (216, 144)\n",
            "val_image_folder/image_168.jpg tiene un tamaño incorrecto: (216, 144)\n",
            "val_image_folder/image_219.jpg tiene un tamaño incorrecto: (216, 144)\n",
            "val_image_folder/image_119.jpg tiene un tamaño incorrecto: (216, 144)\n",
            "val_image_folder/image_107.jpg tiene un tamaño incorrecto: (216, 144)\n",
            "val_image_folder/image_83.jpg tiene un tamaño incorrecto: (216, 144)\n",
            "val_image_folder/image_191.jpg tiene un tamaño incorrecto: (216, 144)\n",
            "val_image_folder/image_22.jpg tiene un tamaño incorrecto: (216, 144)\n",
            "val_image_folder/image_81.jpg tiene un tamaño incorrecto: (216, 144)\n",
            "val_image_folder/image_52.jpg tiene un tamaño incorrecto: (216, 144)\n",
            "val_image_folder/image_140.jpg tiene un tamaño incorrecto: (216, 144)\n",
            "val_image_folder/image_92.jpg tiene un tamaño incorrecto: (216, 144)\n",
            "val_image_folder/image_13.jpg tiene un tamaño incorrecto: (216, 144)\n",
            "val_image_folder/image_152.jpg tiene un tamaño incorrecto: (216, 144)\n",
            "val_image_folder/image_178.jpg tiene un tamaño incorrecto: (216, 144)\n",
            "val_image_folder/image_72.jpg tiene un tamaño incorrecto: (216, 144)\n",
            "val_image_folder/image_49.jpg tiene un tamaño incorrecto: (216, 144)\n",
            "val_image_folder/image_20.jpg tiene un tamaño incorrecto: (216, 144)\n",
            "val_image_folder/image_111.jpg tiene un tamaño incorrecto: (216, 144)\n",
            "val_image_folder/image_35.jpg tiene un tamaño incorrecto: (216, 144)\n",
            "val_image_folder/image_70.jpg tiene un tamaño incorrecto: (216, 144)\n",
            "val_image_folder/image_120.jpg tiene un tamaño incorrecto: (216, 144)\n",
            "val_image_folder/image_29.jpg tiene un tamaño incorrecto: (216, 144)\n",
            "val_image_folder/image_69.jpg tiene un tamaño incorrecto: (216, 144)\n",
            "val_image_folder/image_145.jpg tiene un tamaño incorrecto: (216, 144)\n",
            "val_image_folder/image_214.jpg tiene un tamaño incorrecto: (216, 144)\n",
            "val_image_folder/image_209.jpg tiene un tamaño incorrecto: (216, 144)\n",
            "val_image_folder/image_222.jpg tiene un tamaño incorrecto: (216, 144)\n",
            "val_image_folder/image_64.jpg tiene un tamaño incorrecto: (216, 144)\n",
            "val_image_folder/image_159.jpg tiene un tamaño incorrecto: (216, 144)\n",
            "val_image_folder/image_160.jpg tiene un tamaño incorrecto: (216, 144)\n",
            "val_image_folder/image_128.jpg tiene un tamaño incorrecto: (216, 144)\n",
            "val_image_folder/image_82.jpg tiene un tamaño incorrecto: (216, 144)\n",
            "val_image_folder/image_142.jpg tiene un tamaño incorrecto: (216, 144)\n",
            "val_image_folder/image_76.jpg tiene un tamaño incorrecto: (216, 144)\n",
            "val_image_folder/image_32.jpg tiene un tamaño incorrecto: (216, 144)\n",
            "val_image_folder/image_156.jpg tiene un tamaño incorrecto: (216, 144)\n",
            "val_image_folder/image_225.jpg tiene un tamaño incorrecto: (216, 144)\n",
            "val_image_folder/image_141.jpg tiene un tamaño incorrecto: (216, 144)\n",
            "val_image_folder/image_133.jpg tiene un tamaño incorrecto: (216, 144)\n",
            "val_image_folder/image_193.jpg tiene un tamaño incorrecto: (216, 144)\n",
            "val_image_folder/image_47.jpg tiene un tamaño incorrecto: (216, 144)\n",
            "val_image_folder/image_180.jpg tiene un tamaño incorrecto: (216, 144)\n",
            "val_image_folder/image_9.jpg tiene un tamaño incorrecto: (216, 144)\n",
            "val_image_folder/image_14.jpg tiene un tamaño incorrecto: (216, 144)\n",
            "val_image_folder/image_217.jpg tiene un tamaño incorrecto: (216, 144)\n",
            "val_image_folder/image_33.jpg tiene un tamaño incorrecto: (216, 144)\n",
            "val_image_folder/image_157.jpg tiene un tamaño incorrecto: (216, 144)\n",
            "val_image_folder/image_220.jpg tiene un tamaño incorrecto: (216, 144)\n",
            "val_image_folder/image_78.jpg tiene un tamaño incorrecto: (216, 144)\n",
            "val_image_folder/image_91.jpg tiene un tamaño incorrecto: (216, 144)\n",
            "val_image_folder/image_124.jpg tiene un tamaño incorrecto: (216, 144)\n",
            "val_image_folder/image_67.jpg tiene un tamaño incorrecto: (216, 144)\n",
            "val_image_folder/image_11.jpg tiene un tamaño incorrecto: (216, 144)\n",
            "val_image_folder/image_218.jpg tiene un tamaño incorrecto: (216, 144)\n",
            "val_image_folder/image_109.jpg tiene un tamaño incorrecto: (216, 144)\n",
            "val_image_folder/image_108.jpg tiene un tamaño incorrecto: (216, 144)\n",
            "val_image_folder/image_135.jpg tiene un tamaño incorrecto: (216, 144)\n",
            "val_image_folder/image_18.jpg tiene un tamaño incorrecto: (216, 144)\n",
            "val_image_folder/image_147.jpg tiene un tamaño incorrecto: (216, 144)\n",
            "val_image_folder/image_186.jpg tiene un tamaño incorrecto: (216, 144)\n",
            "val_image_folder/image_38.jpg tiene un tamaño incorrecto: (216, 144)\n",
            "val_image_folder/image_68.jpg tiene un tamaño incorrecto: (216, 144)\n",
            "val_image_folder/image_31.jpg tiene un tamaño incorrecto: (216, 144)\n",
            "val_image_folder/image_210.jpg tiene un tamaño incorrecto: (216, 144)\n",
            "val_image_folder/image_179.jpg tiene un tamaño incorrecto: (216, 144)\n",
            "val_image_folder/image_110.jpg tiene un tamaño incorrecto: (216, 144)\n",
            "val_image_folder/image_132.jpg tiene un tamaño incorrecto: (216, 144)\n",
            "val_image_folder/image_0.jpg tiene un tamaño incorrecto: (216, 144)\n",
            "val_image_folder/image_224.jpg tiene un tamaño incorrecto: (216, 144)\n",
            "val_image_folder/image_103.jpg tiene un tamaño incorrecto: (216, 144)\n",
            "val_image_folder/image_129.jpg tiene un tamaño incorrecto: (216, 144)\n",
            "val_image_folder/image_221.jpg tiene un tamaño incorrecto: (216, 144)\n",
            "val_image_folder/image_106.jpg tiene un tamaño incorrecto: (216, 144)\n"
          ]
        }
      ]
    },
    {
      "cell_type": "code",
      "source": [
        "def train_network_img(num_epochs, batch_size, optimizer):\n",
        "\n",
        "  # Defino la arquitectura neuronal \n",
        "  image_input = layers.Input(shape=[33,33,3])\n",
        "  conv1 = layers.Conv2D(256, (3, 3), activation='relu')(image_input)\n",
        "  conv2 = layers.Conv2D(128, (3, 3), activation='relu')(conv1)\n",
        "  conv3 = layers.Conv2D(32, (3, 3), activation='relu')(conv2)\n",
        "  #conv1 = layers.Conv2D(32, (3, 3), activation='relu')(image_input)\n",
        "  #conv2 = layers.Conv2D(64, (3, 3), activation='relu')(conv1)\n",
        "  #conv3 = layers.Conv2D(128, (3, 3), activation='relu')(conv2)\n",
        "  flatten = layers.Flatten()(conv3)\n",
        "  dense1 = layers.Dense(64, activation='relu')(flatten)\n",
        "  dense2 = layers.Dense(1, activation='sigmoid')(dense1)\n",
        "\n",
        "  # Creo el modelo\n",
        "  image_model = models.Model(inputs=image_input, outputs=dense2)\n",
        "  image_model.compile(loss='mse', optimizer=optimizer)\n",
        "\n",
        "  # Entreno el modelo \n",
        "  H = image_model.fit(images, precios, validation_data=(images_val, precios_val), epochs=num_epochs, batch_size=batch_size)\n",
        "  # model.fit(X_train, y_train, validation_data=(X_val, y_val), epochs=num_epochs, batch_size=batch_size)\n",
        "\n",
        "\n",
        "\n",
        "  # Muestro gráfica de accuracy y losses\n",
        "  plt.style.use(\"ggplot\")\n",
        "  plt.figure()\n",
        "  #plt.plot(np.arange(0, num_epochs), H.history[\"mse\"], label=\"mse\")\n",
        "  #plt.plot(np.arange(0, num_epochs), H.history[\"val_mse\"], label=\"val_mse\")\n",
        "  plt.plot(np.arange(0, num_epochs), H.history[\"loss\"], label=\"loss\")\n",
        "  plt.plot(np.arange(0, num_epochs), H.history[\"val_loss\"], label=\"val_loss\")\n",
        "  #plt.title(\"Accuracy\")\n",
        "  plt.title(\"Loss\")\n",
        "  plt.xlabel(\"Epoch #\")\n",
        "  plt.ylabel(\"Loss\")\n",
        "  plt.legend()\n",
        "\n",
        "  return(image_model)\n"
      ],
      "metadata": {
        "id": "T1Gjsx2rjQXc"
      },
      "id": "T1Gjsx2rjQXc",
      "execution_count": 136,
      "outputs": []
    },
    {
      "cell_type": "code",
      "source": [
        " # vamos a probar nuestra red \n",
        "\n",
        "learning_rate = 0.001\n",
        "batch_size = 256\n",
        "num_epochs = 50\n",
        "#optimizer = tf.keras.optimizers.RMSprop(learning_rate=learning_rate)\n",
        "#optimizer = tf.keras.optimizers.Adam(learning_rate=learning_rate)\n",
        "optimizer = tf.keras.optimizers.SGD(learning_rate=learning_rate)\n",
        "input_shape = len(images)\n",
        "\n",
        "image_model = train_network_img(num_epochs, batch_size, optimizer)\n",
        "#train_network_1(num_epochs, batch_size, optimizer)"
      ],
      "metadata": {
        "id": "kOYDHnmRNnmb",
        "colab": {
          "base_uri": "https://localhost:8080/",
          "height": 728
        },
        "outputId": "5309b094-d7d6-4c1e-a7b0-b5763976109a"
      },
      "id": "kOYDHnmRNnmb",
      "execution_count": 137,
      "outputs": [
        {
          "output_type": "stream",
          "name": "stdout",
          "text": [
            "Epoch 1/50\n"
          ]
        },
        {
          "output_type": "error",
          "ename": "ValueError",
          "evalue": "ignored",
          "traceback": [
            "\u001b[0;31m---------------------------------------------------------------------------\u001b[0m",
            "\u001b[0;31mValueError\u001b[0m                                Traceback (most recent call last)",
            "\u001b[0;32m<ipython-input-137-59400e136548>\u001b[0m in \u001b[0;36m<module>\u001b[0;34m\u001b[0m\n\u001b[1;32m      9\u001b[0m \u001b[0minput_shape\u001b[0m \u001b[0;34m=\u001b[0m \u001b[0mlen\u001b[0m\u001b[0;34m(\u001b[0m\u001b[0mimages\u001b[0m\u001b[0;34m)\u001b[0m\u001b[0;34m\u001b[0m\u001b[0;34m\u001b[0m\u001b[0m\n\u001b[1;32m     10\u001b[0m \u001b[0;34m\u001b[0m\u001b[0m\n\u001b[0;32m---> 11\u001b[0;31m \u001b[0mimage_model\u001b[0m \u001b[0;34m=\u001b[0m \u001b[0mtrain_network_img\u001b[0m\u001b[0;34m(\u001b[0m\u001b[0mnum_epochs\u001b[0m\u001b[0;34m,\u001b[0m \u001b[0mbatch_size\u001b[0m\u001b[0;34m,\u001b[0m \u001b[0moptimizer\u001b[0m\u001b[0;34m)\u001b[0m\u001b[0;34m\u001b[0m\u001b[0;34m\u001b[0m\u001b[0m\n\u001b[0m\u001b[1;32m     12\u001b[0m \u001b[0;31m#train_network_1(num_epochs, batch_size, optimizer)\u001b[0m\u001b[0;34m\u001b[0m\u001b[0;34m\u001b[0m\u001b[0;34m\u001b[0m\u001b[0m\n",
            "\u001b[0;32m<ipython-input-136-f45ad17a1fc5>\u001b[0m in \u001b[0;36mtrain_network_img\u001b[0;34m(num_epochs, batch_size, optimizer)\u001b[0m\n\u001b[1;32m     18\u001b[0m \u001b[0;34m\u001b[0m\u001b[0m\n\u001b[1;32m     19\u001b[0m   \u001b[0;31m# Entreno el modelo\u001b[0m\u001b[0;34m\u001b[0m\u001b[0;34m\u001b[0m\u001b[0;34m\u001b[0m\u001b[0m\n\u001b[0;32m---> 20\u001b[0;31m   \u001b[0mH\u001b[0m \u001b[0;34m=\u001b[0m \u001b[0mimage_model\u001b[0m\u001b[0;34m.\u001b[0m\u001b[0mfit\u001b[0m\u001b[0;34m(\u001b[0m\u001b[0mimages\u001b[0m\u001b[0;34m,\u001b[0m \u001b[0mprecios\u001b[0m\u001b[0;34m,\u001b[0m \u001b[0mvalidation_data\u001b[0m\u001b[0;34m=\u001b[0m\u001b[0;34m(\u001b[0m\u001b[0mimages_val\u001b[0m\u001b[0;34m,\u001b[0m \u001b[0mprecios_val\u001b[0m\u001b[0;34m)\u001b[0m\u001b[0;34m,\u001b[0m \u001b[0mepochs\u001b[0m\u001b[0;34m=\u001b[0m\u001b[0mnum_epochs\u001b[0m\u001b[0;34m,\u001b[0m \u001b[0mbatch_size\u001b[0m\u001b[0;34m=\u001b[0m\u001b[0mbatch_size\u001b[0m\u001b[0;34m)\u001b[0m\u001b[0;34m\u001b[0m\u001b[0;34m\u001b[0m\u001b[0m\n\u001b[0m\u001b[1;32m     21\u001b[0m   \u001b[0;31m# model.fit(X_train, y_train, validation_data=(X_val, y_val), epochs=num_epochs, batch_size=batch_size)\u001b[0m\u001b[0;34m\u001b[0m\u001b[0;34m\u001b[0m\u001b[0;34m\u001b[0m\u001b[0m\n\u001b[1;32m     22\u001b[0m \u001b[0;34m\u001b[0m\u001b[0m\n",
            "\u001b[0;32m/usr/local/lib/python3.8/dist-packages/keras/utils/traceback_utils.py\u001b[0m in \u001b[0;36merror_handler\u001b[0;34m(*args, **kwargs)\u001b[0m\n\u001b[1;32m     68\u001b[0m             \u001b[0;31m# To get the full stack trace, call:\u001b[0m\u001b[0;34m\u001b[0m\u001b[0;34m\u001b[0m\u001b[0;34m\u001b[0m\u001b[0m\n\u001b[1;32m     69\u001b[0m             \u001b[0;31m# `tf.debugging.disable_traceback_filtering()`\u001b[0m\u001b[0;34m\u001b[0m\u001b[0;34m\u001b[0m\u001b[0;34m\u001b[0m\u001b[0m\n\u001b[0;32m---> 70\u001b[0;31m             \u001b[0;32mraise\u001b[0m \u001b[0me\u001b[0m\u001b[0;34m.\u001b[0m\u001b[0mwith_traceback\u001b[0m\u001b[0;34m(\u001b[0m\u001b[0mfiltered_tb\u001b[0m\u001b[0;34m)\u001b[0m \u001b[0;32mfrom\u001b[0m \u001b[0;32mNone\u001b[0m\u001b[0;34m\u001b[0m\u001b[0;34m\u001b[0m\u001b[0m\n\u001b[0m\u001b[1;32m     71\u001b[0m         \u001b[0;32mfinally\u001b[0m\u001b[0;34m:\u001b[0m\u001b[0;34m\u001b[0m\u001b[0;34m\u001b[0m\u001b[0m\n\u001b[1;32m     72\u001b[0m             \u001b[0;32mdel\u001b[0m \u001b[0mfiltered_tb\u001b[0m\u001b[0;34m\u001b[0m\u001b[0;34m\u001b[0m\u001b[0m\n",
            "\u001b[0;32m/usr/local/lib/python3.8/dist-packages/keras/engine/training.py\u001b[0m in \u001b[0;36mtf__train_function\u001b[0;34m(iterator)\u001b[0m\n\u001b[1;32m     13\u001b[0m                 \u001b[0;32mtry\u001b[0m\u001b[0;34m:\u001b[0m\u001b[0;34m\u001b[0m\u001b[0;34m\u001b[0m\u001b[0m\n\u001b[1;32m     14\u001b[0m                     \u001b[0mdo_return\u001b[0m \u001b[0;34m=\u001b[0m \u001b[0;32mTrue\u001b[0m\u001b[0;34m\u001b[0m\u001b[0;34m\u001b[0m\u001b[0m\n\u001b[0;32m---> 15\u001b[0;31m                     \u001b[0mretval_\u001b[0m \u001b[0;34m=\u001b[0m \u001b[0mag__\u001b[0m\u001b[0;34m.\u001b[0m\u001b[0mconverted_call\u001b[0m\u001b[0;34m(\u001b[0m\u001b[0mag__\u001b[0m\u001b[0;34m.\u001b[0m\u001b[0mld\u001b[0m\u001b[0;34m(\u001b[0m\u001b[0mstep_function\u001b[0m\u001b[0;34m)\u001b[0m\u001b[0;34m,\u001b[0m \u001b[0;34m(\u001b[0m\u001b[0mag__\u001b[0m\u001b[0;34m.\u001b[0m\u001b[0mld\u001b[0m\u001b[0;34m(\u001b[0m\u001b[0mself\u001b[0m\u001b[0;34m)\u001b[0m\u001b[0;34m,\u001b[0m \u001b[0mag__\u001b[0m\u001b[0;34m.\u001b[0m\u001b[0mld\u001b[0m\u001b[0;34m(\u001b[0m\u001b[0miterator\u001b[0m\u001b[0;34m)\u001b[0m\u001b[0;34m)\u001b[0m\u001b[0;34m,\u001b[0m \u001b[0;32mNone\u001b[0m\u001b[0;34m,\u001b[0m \u001b[0mfscope\u001b[0m\u001b[0;34m)\u001b[0m\u001b[0;34m\u001b[0m\u001b[0;34m\u001b[0m\u001b[0m\n\u001b[0m\u001b[1;32m     16\u001b[0m                 \u001b[0;32mexcept\u001b[0m\u001b[0;34m:\u001b[0m\u001b[0;34m\u001b[0m\u001b[0;34m\u001b[0m\u001b[0m\n\u001b[1;32m     17\u001b[0m                     \u001b[0mdo_return\u001b[0m \u001b[0;34m=\u001b[0m \u001b[0;32mFalse\u001b[0m\u001b[0;34m\u001b[0m\u001b[0;34m\u001b[0m\u001b[0m\n",
            "\u001b[0;31mValueError\u001b[0m: in user code:\n\n    File \"/usr/local/lib/python3.8/dist-packages/keras/engine/training.py\", line 1249, in train_function  *\n        return step_function(self, iterator)\n    File \"/usr/local/lib/python3.8/dist-packages/keras/engine/training.py\", line 1233, in step_function  **\n        outputs = model.distribute_strategy.run(run_step, args=(data,))\n    File \"/usr/local/lib/python3.8/dist-packages/keras/engine/training.py\", line 1222, in run_step  **\n        outputs = model.train_step(data)\n    File \"/usr/local/lib/python3.8/dist-packages/keras/engine/training.py\", line 1023, in train_step\n        y_pred = self(x, training=True)\n    File \"/usr/local/lib/python3.8/dist-packages/keras/utils/traceback_utils.py\", line 70, in error_handler\n        raise e.with_traceback(filtered_tb) from None\n    File \"/usr/local/lib/python3.8/dist-packages/keras/engine/input_spec.py\", line 216, in assert_input_compatibility\n        raise ValueError(\n\n    ValueError: Layer \"model_4\" expects 1 input(s), but it received 0 input tensors. Inputs received: []\n"
          ]
        }
      ]
    },
    {
      "cell_type": "markdown",
      "source": [
        "Evalúo ahora con test"
      ],
      "metadata": {
        "id": "Rls9xJ0l0VMf"
      },
      "id": "Rls9xJ0l0VMf"
    },
    {
      "cell_type": "code",
      "source": [
        "# cargo la imágenes validación a memoria\n",
        "images_test = []\n",
        "for path in image_paths_test:\n",
        "    image = Image.open(path).resize((33, 33))\n",
        "    image = np.array(image) / 255.0  # normalize pixel values\n",
        "    images_test.append(image)\n",
        "images_test = np.array(images_test)"
      ],
      "metadata": {
        "id": "4CmyT9nO0nhq"
      },
      "id": "4CmyT9nO0nhq",
      "execution_count": null,
      "outputs": []
    },
    {
      "cell_type": "code",
      "source": [
        "  # Evaluando el modelo de predicción con las imágenes de test\n",
        "  print(\"[INFO]: Evaluando red neuronal...\")\n",
        "  print(\"La media de delta es --> \", delta.mean(), \"%\")\n",
        "  image_model.summary()"
      ],
      "metadata": {
        "id": "O2GNfP4mTQyc",
        "colab": {
          "base_uri": "https://localhost:8080/"
        },
        "outputId": "b53e4c7f-a659-46c5-9c98-e01b1b517834"
      },
      "id": "O2GNfP4mTQyc",
      "execution_count": null,
      "outputs": [
        {
          "output_type": "stream",
          "name": "stdout",
          "text": [
            "[INFO]: Evaluando red neuronal...\n",
            "La media de delta es -->  inf %\n",
            "Model: \"model_11\"\n",
            "_________________________________________________________________\n",
            " Layer (type)                Output Shape              Param #   \n",
            "=================================================================\n",
            " input_14 (InputLayer)       [(None, 33, 33, 3)]       0         \n",
            "                                                                 \n",
            " conv2d_39 (Conv2D)          (None, 31, 31, 256)       7168      \n",
            "                                                                 \n",
            " conv2d_40 (Conv2D)          (None, 29, 29, 128)       295040    \n",
            "                                                                 \n",
            " conv2d_41 (Conv2D)          (None, 27, 27, 32)        36896     \n",
            "                                                                 \n",
            " flatten_13 (Flatten)        (None, 23328)             0         \n",
            "                                                                 \n",
            " dense_26 (Dense)            (None, 64)                1493056   \n",
            "                                                                 \n",
            " dense_27 (Dense)            (None, 1)                 65        \n",
            "                                                                 \n",
            "=================================================================\n",
            "Total params: 1,832,225\n",
            "Trainable params: 1,832,225\n",
            "Non-trainable params: 0\n",
            "_________________________________________________________________\n"
          ]
        }
      ]
    },
    {
      "cell_type": "code",
      "source": [
        "# Make predictions on test data\n",
        "y_pred = image_model.predict(images_test)\n",
        "\n",
        "# Denormalize the predicted values\n",
        "y_pred_denormalized = target_scaler.inverse_transform(y_pred)\n",
        "\n",
        "# Denormalize the actual test values\n",
        "y_test_img = pd.read_csv('y_test_img.csv')\n",
        "y_test_denormalized = target_scaler.inverse_transform(y_test_img)\n",
        "\n",
        "# Compute the mean squared error\n",
        "mse = mean_squared_error(y_test_denormalized, y_pred_denormalized)\n",
        "\n",
        "# Print the mean squared error\n",
        "print(\"MSE on test set: \", mse)\n",
        "for i in range (5):\n",
        "  print(\"Los valores calculados de Precio son --> \", y_pred_denormalized[i])\n",
        "  print(\"Los valores reales de Precio son --> \", y_test_denormalized[i])"
      ],
      "metadata": {
        "id": "HDkXKNwKTQ0-",
        "colab": {
          "base_uri": "https://localhost:8080/"
        },
        "outputId": "7fa58d6f-207e-46bb-aa0a-cb0367748b7a"
      },
      "id": "HDkXKNwKTQ0-",
      "execution_count": null,
      "outputs": [
        {
          "output_type": "stream",
          "name": "stdout",
          "text": [
            "8/8 [==============================] - 2s 217ms/step\n",
            "MSE on test set:  2649172880.8385425\n",
            "Los valores calculados de Precio son -->  [78.558876]\n",
            "Los valores reales de Precio son -->  [37779.]\n",
            "Los valores calculados de Precio son -->  [92.90073]\n",
            "Los valores reales de Precio son -->  [17444.]\n",
            "Los valores calculados de Precio son -->  [102.93071]\n",
            "Los valores reales de Precio son -->  [74963.]\n",
            "Los valores calculados de Precio son -->  [99.37922]\n",
            "Los valores reales de Precio son -->  [29064.]\n",
            "Los valores calculados de Precio son -->  [129.21104]\n",
            "Los valores reales de Precio son -->  [37779.]\n"
          ]
        }
      ]
    },
    {
      "cell_type": "markdown",
      "source": [
        "## 9. Ahora, el modelo Híbrido!!!!\n",
        "\n",
        "1. Como ya tengo el modelo para los datos categóricos y numéricos, además del modelo para las imágenes, utilizaré Latefusion. \n",
        "\n",
        "2. Iniciaré por concatenar los resultados. \n",
        "\n",
        "3. Después crearé una neurona que aproveche ambas entradas para mejorar un poco el resultado final. "
      ],
      "metadata": {
        "id": "wyrmHykODtgr"
      },
      "id": "wyrmHykODtgr"
    },
    {
      "cell_type": "code",
      "source": [
        "# Inicio concatenando las salidas de ambos modelos\n",
        "combinado = Concatenate()([image_model.output, model.output])\n",
        "\n",
        "# creo la neurona que los analizará\n",
        "x = Dense(128, activation='relu')(combinado)\n",
        "x = Dropout(0.5)(x)\n",
        "x = Dense(64, activation='relu')(x)\n",
        "x = Dropout(0.5)(x)\n",
        "final_output = Dense(1)(x)\n",
        "\n",
        "# Creo el modelo final\n",
        "final_model = Model(inputs=[image_model.input, model.input], outputs=final_output)\n",
        "\n",
        "# Compilo\n",
        "final_model.compile(loss='mean_squared_error', optimizer=Adam(lr=0.0001))\n",
        "\n",
        "# Entreno\n",
        "num_train = Full_train_filtered.drop(columns=columnas_objeto)\n",
        "lista_columnas = num_train.columns.values\n",
        "for name in lista_columnas:\n",
        "    num_train[name].fillna(num_train[name].mode()[0], inplace=True)\n",
        "\n",
        "\n",
        "num_train[columnas_float64.columns] = float_scaler.fit_transform(num_train[columnas_float64.columns])\n",
        "\n",
        "num_train[columnas_Int64.columns] = int_scaler.fit_transform(num_train[columnas_Int64.columns])\n",
        "\n",
        "num_val = Full_val_filtered.drop(columns=columnas_objeto)\n",
        "lista_columnas = num_val.columns.values\n",
        "for name in lista_columnas:\n",
        "    num_val[name].fillna(num_val[name].mode()[0], inplace=True)\n",
        "\n",
        "\n",
        "num_val[columnas_float64.columns] = float_scaler.fit_transform(num_val[columnas_float64.columns])\n",
        "\n",
        "num_val[columnas_Int64.columns] = int_scaler.fit_transform(num_val[columnas_Int64.columns])\n",
        "\n",
        "\n",
        "image_train = images\n",
        "\n",
        "model.fit([image_train, num_train], precios_train, batch_size=32, epochs=20, validation_data=([image_test, num_test]))"
      ],
      "metadata": {
        "id": "xU4tZJarTQ3j",
        "colab": {
          "base_uri": "https://localhost:8080/",
          "height": 235
        },
        "outputId": "4126def0-7528-423d-fcb6-8b9a2d039ba1"
      },
      "id": "xU4tZJarTQ3j",
      "execution_count": null,
      "outputs": [
        {
          "output_type": "error",
          "ename": "NameError",
          "evalue": "ignored",
          "traceback": [
            "\u001b[0;31m---------------------------------------------------------------------------\u001b[0m",
            "\u001b[0;31mNameError\u001b[0m                                 Traceback (most recent call last)",
            "\u001b[0;32m<ipython-input-69-e6b33436b2a3>\u001b[0m in \u001b[0;36m<module>\u001b[0;34m\u001b[0m\n\u001b[1;32m      1\u001b[0m \u001b[0;31m# Inicio concatenando las salidas de ambos modelos\u001b[0m\u001b[0;34m\u001b[0m\u001b[0;34m\u001b[0m\u001b[0;34m\u001b[0m\u001b[0m\n\u001b[0;32m----> 2\u001b[0;31m \u001b[0mcombinado\u001b[0m \u001b[0;34m=\u001b[0m \u001b[0mConcatenate\u001b[0m\u001b[0;34m(\u001b[0m\u001b[0;34m)\u001b[0m\u001b[0;34m(\u001b[0m\u001b[0;34m[\u001b[0m\u001b[0mimage_model\u001b[0m\u001b[0;34m.\u001b[0m\u001b[0moutput\u001b[0m\u001b[0;34m,\u001b[0m \u001b[0mmodel\u001b[0m\u001b[0;34m.\u001b[0m\u001b[0moutput\u001b[0m\u001b[0;34m]\u001b[0m\u001b[0;34m)\u001b[0m\u001b[0;34m\u001b[0m\u001b[0;34m\u001b[0m\u001b[0m\n\u001b[0m\u001b[1;32m      3\u001b[0m \u001b[0;34m\u001b[0m\u001b[0m\n\u001b[1;32m      4\u001b[0m \u001b[0;31m# creo la neurona que los analizará\u001b[0m\u001b[0;34m\u001b[0m\u001b[0;34m\u001b[0m\u001b[0;34m\u001b[0m\u001b[0m\n\u001b[1;32m      5\u001b[0m \u001b[0mx\u001b[0m \u001b[0;34m=\u001b[0m \u001b[0mDense\u001b[0m\u001b[0;34m(\u001b[0m\u001b[0;36m128\u001b[0m\u001b[0;34m,\u001b[0m \u001b[0mactivation\u001b[0m\u001b[0;34m=\u001b[0m\u001b[0;34m'relu'\u001b[0m\u001b[0;34m)\u001b[0m\u001b[0;34m(\u001b[0m\u001b[0mcombinado\u001b[0m\u001b[0;34m)\u001b[0m\u001b[0;34m\u001b[0m\u001b[0;34m\u001b[0m\u001b[0m\n",
            "\u001b[0;31mNameError\u001b[0m: name 'model' is not defined"
          ]
        }
      ]
    },
    {
      "cell_type": "code",
      "source": [],
      "metadata": {
        "id": "0zAHusDoTQ6U"
      },
      "id": "0zAHusDoTQ6U",
      "execution_count": null,
      "outputs": []
    },
    {
      "cell_type": "markdown",
      "source": [
        "## 10. Ahora a probar el modelo!!!!"
      ],
      "metadata": {
        "id": "ZZLXtHRmkm9Q"
      },
      "id": "ZZLXtHRmkm9Q"
    },
    {
      "cell_type": "markdown",
      "source": [
        "Primero, preparo los datos test"
      ],
      "metadata": {
        "id": "n5sc0glJlRtE"
      },
      "id": "n5sc0glJlRtE"
    },
    {
      "cell_type": "code",
      "source": [
        " = pd.read_csv('test_image_paths.csv')"
      ],
      "metadata": {
        "id": "BZNHCu6CTQ80"
      },
      "id": "BZNHCu6CTQ80",
      "execution_count": null,
      "outputs": []
    },
    {
      "cell_type": "markdown",
      "source": [
        "Ahora comparo test vs modelo "
      ],
      "metadata": {
        "id": "SbVUaen-lmvz"
      },
      "id": "SbVUaen-lmvz"
    },
    {
      "cell_type": "code",
      "source": [
        "# Make predictions on test data\n",
        "y_pred = combinado.predict((images_test), \n",
        "\n",
        "# Denormalize the predicted values\n",
        "y_pred_denormalized = target_scaler.inverse_transform(y_pred)\n",
        "\n",
        "# Denormalize the actual test values\n",
        "y_test_img = pd.read_csv('y_test_img.csv')\n",
        "y_test_denormalized = target_scaler.inverse_transform(y_test_img)\n",
        "\n",
        "# Compute the mean squared error\n",
        "mse = mean_squared_error(y_test_denormalized, y_pred_denormalized)\n",
        "\n",
        "# Print the mean squared error\n",
        "print(\"MSE on test set: \", mse)\n",
        "for i in range (5):\n",
        "  print(\"Los valores calculados de Precio son --> \", y_pred_denormalized[i])\n",
        "  print(\"Los valores reales de Precio son --> \", y_test_denormalized[i])"
      ],
      "metadata": {
        "id": "6jdo0sEiTRKc"
      },
      "id": "6jdo0sEiTRKc",
      "execution_count": null,
      "outputs": []
    },
    {
      "cell_type": "code",
      "source": [],
      "metadata": {
        "id": "lEh4j51-TRND"
      },
      "id": "lEh4j51-TRND",
      "execution_count": null,
      "outputs": []
    },
    {
      "cell_type": "code",
      "source": [],
      "metadata": {
        "id": "k0LtErMhTRPu"
      },
      "id": "k0LtErMhTRPu",
      "execution_count": null,
      "outputs": []
    },
    {
      "cell_type": "code",
      "source": [],
      "metadata": {
        "id": "s4S2ioFfTRST"
      },
      "id": "s4S2ioFfTRST",
      "execution_count": null,
      "outputs": []
    },
    {
      "cell_type": "code",
      "source": [],
      "metadata": {
        "id": "wgeofWk3TRVJ"
      },
      "id": "wgeofWk3TRVJ",
      "execution_count": null,
      "outputs": []
    },
    {
      "cell_type": "code",
      "source": [],
      "metadata": {
        "id": "vzcnRv2jTRXr"
      },
      "id": "vzcnRv2jTRXr",
      "execution_count": null,
      "outputs": []
    },
    {
      "cell_type": "code",
      "source": [],
      "metadata": {
        "id": "ReIBlnhETRae"
      },
      "id": "ReIBlnhETRae",
      "execution_count": null,
      "outputs": []
    },
    {
      "cell_type": "code",
      "source": [],
      "metadata": {
        "id": "mZEZowJjNnw-"
      },
      "id": "mZEZowJjNnw-",
      "execution_count": null,
      "outputs": []
    },
    {
      "cell_type": "code",
      "source": [],
      "metadata": {
        "id": "lKlOO80YNn0W"
      },
      "id": "lKlOO80YNn0W",
      "execution_count": null,
      "outputs": []
    },
    {
      "cell_type": "code",
      "source": [],
      "metadata": {
        "id": "zpdxQoevNn3n"
      },
      "id": "zpdxQoevNn3n",
      "execution_count": null,
      "outputs": []
    },
    {
      "cell_type": "code",
      "source": [],
      "metadata": {
        "id": "rOtYgqe4gHG6"
      },
      "id": "rOtYgqe4gHG6",
      "execution_count": null,
      "outputs": []
    },
    {
      "cell_type": "code",
      "source": [],
      "metadata": {
        "id": "oyaeeiwegHJy"
      },
      "id": "oyaeeiwegHJy",
      "execution_count": null,
      "outputs": []
    },
    {
      "cell_type": "code",
      "source": [],
      "metadata": {
        "id": "V_ERRbZLgHMh"
      },
      "id": "V_ERRbZLgHMh",
      "execution_count": null,
      "outputs": []
    },
    {
      "cell_type": "code",
      "source": [],
      "metadata": {
        "id": "t401AV0NgHSG"
      },
      "id": "t401AV0NgHSG",
      "execution_count": null,
      "outputs": []
    },
    {
      "cell_type": "code",
      "source": [],
      "metadata": {
        "id": "kJVowbWMgHaT"
      },
      "id": "kJVowbWMgHaT",
      "execution_count": null,
      "outputs": []
    },
    {
      "cell_type": "code",
      "source": [],
      "metadata": {
        "id": "UF9BPtdMgHcz"
      },
      "id": "UF9BPtdMgHcz",
      "execution_count": null,
      "outputs": []
    },
    {
      "cell_type": "code",
      "source": [],
      "metadata": {
        "id": "HpTJsUEUgHfY"
      },
      "id": "HpTJsUEUgHfY",
      "execution_count": null,
      "outputs": []
    },
    {
      "cell_type": "code",
      "source": [],
      "metadata": {
        "id": "j62ESxvDgHiA"
      },
      "id": "j62ESxvDgHiA",
      "execution_count": null,
      "outputs": []
    },
    {
      "cell_type": "code",
      "source": [],
      "metadata": {
        "id": "3_B2nkkZgHkn"
      },
      "id": "3_B2nkkZgHkn",
      "execution_count": null,
      "outputs": []
    },
    {
      "cell_type": "code",
      "source": [],
      "metadata": {
        "id": "1GSO1Wb5gHnd"
      },
      "id": "1GSO1Wb5gHnd",
      "execution_count": null,
      "outputs": []
    },
    {
      "cell_type": "code",
      "source": [],
      "metadata": {
        "id": "feADtUSLgHp8"
      },
      "id": "feADtUSLgHp8",
      "execution_count": null,
      "outputs": []
    },
    {
      "cell_type": "code",
      "source": [
        "# Hiper-parámetros de nuestra red\n",
        "lr = 0.005\n",
        "n_epochs = 60\n",
        "\n",
        "\n",
        "# Definición de la arquitectura\n",
        "model = keras.models.Sequential([\n",
        "    #keras.layers.Dense(114, activation=\"relu\", input_shape=X_train.shape[1:], kernel_initializer='random_uniform', bias_initializer='zeros'),\n",
        "    #keras.layers.Dense(164, activation=\"relu\", kernel_initializer='random_uniform', bias_initializer='zeros'),\n",
        "    keras.layers.Dense(82, activation=\"relu\"),\n",
        "    #keras.layers.Dense(41, activation=\"relu\"),\n",
        "    keras.layers.Dense(12, activation=\"relu\"),\n",
        "    keras.layers.Dense(1, activation=\"linear\")\n",
        "])\n",
        "\n",
        "\n",
        "# Elijo entre SGD o Adam \n",
        "learn_rate = keras.optimizers.SGD(learning_rate=lr)\n",
        "#learn_rate = keras.optimizers.Adam(learning_rate=lr)\n",
        "\n",
        "# Compile the model\n",
        "model.compile(loss=\"mean_squared_error\", optimizer=learn_rate, metrics=['accuracy'])\n",
        "\n"
      ],
      "metadata": {
        "id": "25bRmYWzNWly"
      },
      "id": "25bRmYWzNWly",
      "execution_count": null,
      "outputs": []
    },
    {
      "cell_type": "code",
      "source": [
        "# definimos la función para entrenar nuestra red con los parámetros deseados\n",
        "def train_network_decay(learning_rate, lr_decay, num_epochs):\n",
        "  \n",
        "  # Implementamos la red empleando Keras\n",
        "  model = keras.models.Sequential([\n",
        "    #keras.layers.Dense(114, activation=\"relu\", input_shape=X_train.shape[1:], kernel_initializer='random_uniform', bias_initializer='zeros'),\n",
        "    #keras.layers.Dense(164, activation=\"relu\", kernel_initializer='random_uniform', bias_initializer='zeros'),\n",
        "    keras.layers.Dense(82, activation=\"relu\"),\n",
        "    #keras.layers.Dense(41, activation=\"relu\"),\n",
        "    keras.layers.Dense(12, activation=\"relu\"),\n",
        "    keras.layers.Dense(1, activation=\"linear\")\n",
        "    ])\n",
        "  \n",
        "  # Compile the model\n",
        "  model.compile(loss=\"mean_squared_error\", optimizer=learn_rate, metrics=['accuracy'])\n",
        "  # Entrenando la solución\n",
        "  H = model.fit(X_train, y_train, validation_data=(X_val, y_val), epochs=num_epochs)  #(X)\n",
        "\n",
        "  # Evaluando el modelo de predicción con las imágenes de test\n",
        "  print(\"[INFO]: Evaluando red neuronal...\")\n",
        "  predictions = model.predict(X_test, batch_size=batch_size)  #(X)\n",
        "  print(classification_report(y_test.argmax(axis=1), predictions.argmax(axis=1)))\n",
        "\n",
        "  # Muestro gráfica de accuracy y losses\n",
        "  plt.style.use(\"ggplot\")\n",
        "  plt.figure()\n",
        "  plt.plot(np.arange(0, num_epochs), H.history[\"loss\"], label=\"train_loss\")\n",
        "  plt.plot(np.arange(0, num_epochs), H.history[\"val_loss\"], label=\"val_loss\")\n",
        "  plt.plot(np.arange(0, num_epochs), H.history[\"accuracy\"], label=\"train_acc\")\n",
        "  plt.plot(np.arange(0, num_epochs), H.history[\"val_accuracy\"], label=\"val_acc\")\n",
        "  plt.title(\"Training Loss and Accuracy\")\n",
        "  plt.xlabel(\"Epoch #\")\n",
        "  plt.ylabel(\"Loss/Accuracy\")\n",
        "  plt.legend()"
      ],
      "metadata": {
        "id": "HLNkU2DDZ1ez"
      },
      "id": "HLNkU2DDZ1ez",
      "execution_count": null,
      "outputs": []
    },
    {
      "cell_type": "code",
      "source": [
        "# vamos a probar nuestra red con decay\n",
        "learning_rate = 0.1\n",
        "lr_decay = 1e-4\n",
        "num_epochs = 60\n",
        "train_network_decay(learning_rate, lr_decay, num_epochs)"
      ],
      "metadata": {
        "colab": {
          "base_uri": "https://localhost:8080/",
          "height": 339
        },
        "id": "HGKucVDIbG-p",
        "outputId": "0ff3defa-7552-4152-d51c-5ef933f32064"
      },
      "id": "HGKucVDIbG-p",
      "execution_count": null,
      "outputs": [
        {
          "output_type": "error",
          "ename": "NameError",
          "evalue": "ignored",
          "traceback": [
            "\u001b[0;31m---------------------------------------------------------------------------\u001b[0m",
            "\u001b[0;31mNameError\u001b[0m                                 Traceback (most recent call last)",
            "\u001b[0;32m<ipython-input-103-7388ff49b86d>\u001b[0m in \u001b[0;36m<module>\u001b[0;34m\u001b[0m\n\u001b[1;32m      3\u001b[0m \u001b[0mlr_decay\u001b[0m \u001b[0;34m=\u001b[0m \u001b[0;36m1e-4\u001b[0m\u001b[0;34m\u001b[0m\u001b[0;34m\u001b[0m\u001b[0m\n\u001b[1;32m      4\u001b[0m \u001b[0mnum_epochs\u001b[0m \u001b[0;34m=\u001b[0m \u001b[0;36m60\u001b[0m\u001b[0;34m\u001b[0m\u001b[0;34m\u001b[0m\u001b[0m\n\u001b[0;32m----> 5\u001b[0;31m \u001b[0mtrain_network_decay\u001b[0m\u001b[0;34m(\u001b[0m\u001b[0mlearning_rate\u001b[0m\u001b[0;34m,\u001b[0m \u001b[0mlr_decay\u001b[0m\u001b[0;34m,\u001b[0m \u001b[0mnum_epochs\u001b[0m\u001b[0;34m)\u001b[0m\u001b[0;34m\u001b[0m\u001b[0;34m\u001b[0m\u001b[0m\n\u001b[0m",
            "\u001b[0;32m<ipython-input-102-a92d87baa08e>\u001b[0m in \u001b[0;36mtrain_network_decay\u001b[0;34m(learning_rate, lr_decay, num_epochs)\u001b[0m\n\u001b[1;32m     13\u001b[0m \u001b[0;34m\u001b[0m\u001b[0m\n\u001b[1;32m     14\u001b[0m   \u001b[0;31m# Compile the model\u001b[0m\u001b[0;34m\u001b[0m\u001b[0;34m\u001b[0m\u001b[0;34m\u001b[0m\u001b[0m\n\u001b[0;32m---> 15\u001b[0;31m   \u001b[0mmodel\u001b[0m\u001b[0;34m.\u001b[0m\u001b[0mcompile\u001b[0m\u001b[0;34m(\u001b[0m\u001b[0mloss\u001b[0m\u001b[0;34m=\u001b[0m\u001b[0;34m\"mean_squared_error\"\u001b[0m\u001b[0;34m,\u001b[0m \u001b[0moptimizer\u001b[0m\u001b[0;34m=\u001b[0m\u001b[0mlearn_rate\u001b[0m\u001b[0;34m,\u001b[0m \u001b[0mmetrics\u001b[0m\u001b[0;34m=\u001b[0m\u001b[0;34m[\u001b[0m\u001b[0;34m'accuracy'\u001b[0m\u001b[0;34m]\u001b[0m\u001b[0;34m)\u001b[0m\u001b[0;34m\u001b[0m\u001b[0;34m\u001b[0m\u001b[0m\n\u001b[0m\u001b[1;32m     16\u001b[0m   \u001b[0;31m# Entrenando la solución\u001b[0m\u001b[0;34m\u001b[0m\u001b[0;34m\u001b[0m\u001b[0;34m\u001b[0m\u001b[0m\n\u001b[1;32m     17\u001b[0m   \u001b[0mH\u001b[0m \u001b[0;34m=\u001b[0m \u001b[0mmodel\u001b[0m\u001b[0;34m.\u001b[0m\u001b[0mfit\u001b[0m\u001b[0;34m(\u001b[0m\u001b[0mX_train\u001b[0m\u001b[0;34m,\u001b[0m \u001b[0my_train\u001b[0m\u001b[0;34m,\u001b[0m \u001b[0mvalidation_data\u001b[0m\u001b[0;34m=\u001b[0m\u001b[0;34m(\u001b[0m\u001b[0mX_val\u001b[0m\u001b[0;34m,\u001b[0m \u001b[0my_val\u001b[0m\u001b[0;34m)\u001b[0m\u001b[0;34m,\u001b[0m \u001b[0mepochs\u001b[0m\u001b[0;34m=\u001b[0m\u001b[0mnum_epochs\u001b[0m\u001b[0;34m)\u001b[0m  \u001b[0;31m#(X)\u001b[0m\u001b[0;34m\u001b[0m\u001b[0;34m\u001b[0m\u001b[0m\n",
            "\u001b[0;31mNameError\u001b[0m: name 'learn_rate' is not defined"
          ]
        }
      ]
    },
    {
      "cell_type": "code",
      "source": [
        "X_val = pd.read_csv('validation.csv')\n",
        "X_val = X_val.drop(columns=columnas_objeto)\n",
        "lista_columnas = X_val.columns.values\n",
        "y_val = pd.read_csv('validation_target.csv')\n",
        "for name in lista_columnas:\n",
        "    X_val[name].fillna(X_val[name].mode()[0], inplace=True)\n",
        "\n",
        "\n",
        "\n",
        "X_val.shape\n"
      ],
      "metadata": {
        "colab": {
          "base_uri": "https://localhost:8080/"
        },
        "id": "rYPgPD9RNWo5",
        "outputId": "e72a25ba-c472-4551-8fc6-086e29febc2b"
      },
      "id": "rYPgPD9RNWo5",
      "execution_count": null,
      "outputs": [
        {
          "output_type": "execute_result",
          "data": {
            "text/plain": [
              "(1282, 164)"
            ]
          },
          "metadata": {},
          "execution_count": 223
        }
      ]
    },
    {
      "cell_type": "code",
      "source": [
        "# Create the scaler objects\n",
        "float_scaler = MinMaxScaler()\n",
        "int_scaler = StandardScaler()\n",
        "target_scaler = MinMaxScaler()\n",
        "\n",
        "X_val[columnas_float64.columns] = float_scaler.fit_transform(X_val[columnas_float64.columns])\n",
        "\n",
        "X_val[columnas_Int64.columns] = int_scaler.fit_transform(X_val[columnas_Int64.columns])\n",
        "\n",
        "y_val = y_val.values.reshape(-1, 1)  # reshape y_train para tener un arreglo 2D\n",
        "y_val = target_scaler.fit_transform(y_val)"
      ],
      "metadata": {
        "id": "PFXA3YhN6Jd7"
      },
      "id": "PFXA3YhN6Jd7",
      "execution_count": null,
      "outputs": []
    },
    {
      "cell_type": "code",
      "source": [
        "X_val.dtypes"
      ],
      "metadata": {
        "colab": {
          "base_uri": "https://localhost:8080/"
        },
        "id": "FGXyGd3SkZl1",
        "outputId": "ec0491be-babe-45fa-91ba-cdb34e4a4d28"
      },
      "id": "FGXyGd3SkZl1",
      "execution_count": null,
      "outputs": [
        {
          "output_type": "execute_result",
          "data": {
            "text/plain": [
              "ID                                                    float64\n",
              "Host ID                                               float64\n",
              "Host Response Rate                                    float64\n",
              "Host Listings Count                                   float64\n",
              "Host Total Listings Count                             float64\n",
              "Zipcode                                               float64\n",
              "Latitude                                              float64\n",
              "Longitude                                             float64\n",
              "Accommodates                                          float64\n",
              "Bathrooms                                             float64\n",
              "Bedrooms                                              float64\n",
              "Beds                                                  float64\n",
              "Guests Included                                       float64\n",
              "Extra People                                          float64\n",
              "Minimum Nights                                        float64\n",
              "Maximum Nights                                        float64\n",
              "Availability 30                                       float64\n",
              "Availability 60                                       float64\n",
              "Availability 90                                       float64\n",
              "Availability 365                                      float64\n",
              "Number of Reviews                                     float64\n",
              "Review Scores Rating                                  float64\n",
              "Review Scores Accuracy                                float64\n",
              "Review Scores Cleanliness                             float64\n",
              "Review Scores Checkin                                 float64\n",
              "Review Scores Communication                           float64\n",
              "Review Scores Location                                float64\n",
              "Review Scores Value                                   float64\n",
              "Calculated host listings count                        float64\n",
              "Reviews per Month                                     float64\n",
              "Host Since_year                                       float64\n",
              "Host Since_month                                      float64\n",
              "Host Since_day                                        float64\n",
              "First Review_year                                     float64\n",
              "First Review_month                                    float64\n",
              "First Review_day                                      float64\n",
              "Last Review_year                                      float64\n",
              "Last Review_month                                     float64\n",
              "Last Review_day                                       float64\n",
              "Host Response Time_a few days or more                 float64\n",
              "Host Response Time_within a day                       float64\n",
              "Host Response Time_within a few hours                 float64\n",
              "Host Response Time_within an hour                     float64\n",
              "Neighbourhood_Acacias                                 float64\n",
              "Neighbourhood_Adelfas                                 float64\n",
              "Neighbourhood_Almagro                                 float64\n",
              "Neighbourhood_Almenara                                float64\n",
              "Neighbourhood_Aluche                                  float64\n",
              "Neighbourhood_Arapiles                                float64\n",
              "Neighbourhood_Arganzuela                              float64\n",
              "Neighbourhood_Argüelles                               float64\n",
              "Neighbourhood_Atocha                                  float64\n",
              "Neighbourhood_Barajas                                 float64\n",
              "Neighbourhood_Bellas Vistas                           float64\n",
              "Neighbourhood_Berruguete                              float64\n",
              "Neighbourhood_Carabanchel                             float64\n",
              "Neighbourhood_Castellana                              float64\n",
              "Neighbourhood_Castilla                                float64\n",
              "Neighbourhood_Castillejos                             float64\n",
              "Neighbourhood_Centro                                  float64\n",
              "Neighbourhood_Chamberí                                float64\n",
              "Neighbourhood_Ciudad Jardin                           float64\n",
              "Neighbourhood_Ciudad Lineal                           float64\n",
              "Neighbourhood_Cortes                                  float64\n",
              "Neighbourhood_Cuatro Caminos                          float64\n",
              "Neighbourhood_Delicias                                float64\n",
              "Neighbourhood_El Tréntaiseis                          float64\n",
              "Neighbourhood_El Viso                                 float64\n",
              "Neighbourhood_Embajadores                             float64\n",
              "Neighbourhood_Estrella                                float64\n",
              "Neighbourhood_Fuencarral-El Pardo                     float64\n",
              "Neighbourhood_Fuencarral-el Pardo                     float64\n",
              "Neighbourhood_Fuente del Berro                        float64\n",
              "Neighbourhood_Gaztambide                              float64\n",
              "Neighbourhood_Goya                                    float64\n",
              "Neighbourhood_Guindalera                              float64\n",
              "Neighbourhood_Hispanoamérica                          float64\n",
              "Neighbourhood_Hortaleza                               float64\n",
              "Neighbourhood_Ibiza                                   float64\n",
              "Neighbourhood_Imperial                                float64\n",
              "Neighbourhood_Jerónimos                               float64\n",
              "Neighbourhood_Justicia                                float64\n",
              "Neighbourhood_La Chopera                              float64\n",
              "Neighbourhood_La Latina                               float64\n",
              "Neighbourhood_Legazpi                                 float64\n",
              "Neighbourhood_Lista                                   float64\n",
              "Neighbourhood_Malasaña                                float64\n",
              "Neighbourhood_Moncloa                                 float64\n",
              "Neighbourhood_Moratalaz                               float64\n",
              "Neighbourhood_Nueva España                            float64\n",
              "Neighbourhood_Pacifico                                float64\n",
              "Neighbourhood_Palacio                                 float64\n",
              "Neighbourhood_Palos do Moguer                         float64\n",
              "Neighbourhood_Prosperidad                             float64\n",
              "Neighbourhood_Puente de Vallecas                      float64\n",
              "Neighbourhood_Recoletos                               float64\n",
              "Neighbourhood_Retiro                                  float64\n",
              "Neighbourhood_Rios Rosas                              float64\n",
              "Neighbourhood_San Blas                                float64\n",
              "Neighbourhood_Sol                                     float64\n",
              "Neighbourhood_Tetuán                                  float64\n",
              "Neighbourhood_Trafalgar                               float64\n",
              "Neighbourhood_Usera                                   float64\n",
              "Neighbourhood_Valdeacederas                           float64\n",
              "Neighbourhood_Vallehermosa                            float64\n",
              "Neighbourhood_Vicálvaro                               float64\n",
              "Neighbourhood_Villa de Vallecas                       float64\n",
              "Neighbourhood_Villaverde                              float64\n",
              "Neighbourhood Group Cleansed_Arganzuela               float64\n",
              "Neighbourhood Group Cleansed_Barajas                  float64\n",
              "Neighbourhood Group Cleansed_Carabanchel              float64\n",
              "Neighbourhood Group Cleansed_Centro                   float64\n",
              "Neighbourhood Group Cleansed_Chamartín                float64\n",
              "Neighbourhood Group Cleansed_Chamberí                 float64\n",
              "Neighbourhood Group Cleansed_Ciudad Lineal            float64\n",
              "Neighbourhood Group Cleansed_Fuencarral - El Pardo    float64\n",
              "Neighbourhood Group Cleansed_Hortaleza                float64\n",
              "Neighbourhood Group Cleansed_Latina                   float64\n",
              "Neighbourhood Group Cleansed_Moncloa - Aravaca        float64\n",
              "Neighbourhood Group Cleansed_Moratalaz                float64\n",
              "Neighbourhood Group Cleansed_Puente de Vallecas       float64\n",
              "Neighbourhood Group Cleansed_Retiro                   float64\n",
              "Neighbourhood Group Cleansed_Salamanca                float64\n",
              "Neighbourhood Group Cleansed_San Blas - Canillejas    float64\n",
              "Neighbourhood Group Cleansed_Tetuán                   float64\n",
              "Neighbourhood Group Cleansed_Usera                    float64\n",
              "Neighbourhood Group Cleansed_Vicálvaro                float64\n",
              "Neighbourhood Group Cleansed_Villa de Vallecas        float64\n",
              "Neighbourhood Group Cleansed_Villaverde               float64\n",
              "Property Type_Apartment                               float64\n",
              "Property Type_Bed & Breakfast                         float64\n",
              "Property Type_Boat                                    float64\n",
              "Property Type_Boutique hotel                          float64\n",
              "Property Type_Bungalow                                float64\n",
              "Property Type_Camper/RV                               float64\n",
              "Property Type_Casa particular                         float64\n",
              "Property Type_Chalet                                  float64\n",
              "Property Type_Condominium                             float64\n",
              "Property Type_Dorm                                    float64\n",
              "Property Type_Earth House                             float64\n",
              "Property Type_Guest suite                             float64\n",
              "Property Type_Guesthouse                              float64\n",
              "Property Type_Hostel                                  float64\n",
              "Property Type_House                                   float64\n",
              "Property Type_Loft                                    float64\n",
              "Property Type_Other                                   float64\n",
              "Property Type_Serviced apartment                      float64\n",
              "Property Type_Tent                                    float64\n",
              "Property Type_Timeshare                               float64\n",
              "Property Type_Townhouse                               float64\n",
              "Property Type_Villa                                   float64\n",
              "Room Type_Entire home/apt                             float64\n",
              "Room Type_Private room                                float64\n",
              "Room Type_Shared room                                 float64\n",
              "Bed Type_Airbed                                       float64\n",
              "Bed Type_Couch                                        float64\n",
              "Bed Type_Futon                                        float64\n",
              "Bed Type_Pull-out Sofa                                float64\n",
              "Bed Type_Real Bed                                     float64\n",
              "Cancellation Policy_flexible                          float64\n",
              "Cancellation Policy_moderate                          float64\n",
              "Cancellation Policy_strict                            float64\n",
              "Cancellation Policy_super_strict_30                   float64\n",
              "Cancellation Policy_super_strict_60                   float64\n",
              "dtype: object"
            ]
          },
          "metadata": {},
          "execution_count": 87
        }
      ]
    },
    {
      "cell_type": "markdown",
      "source": [
        "## Entrenando el modelo!!"
      ],
      "metadata": {
        "id": "u8fxO_fhpUyb"
      },
      "id": "u8fxO_fhpUyb"
    },
    {
      "cell_type": "code",
      "source": [
        "# definimos la función para entrenar nuestra red con los parámetros deseados\n",
        "def train_network_decay(learning_rate, lr_decay, batch_size, num_epochs):\n",
        "  \n",
        "  # Implementamos la red empleando Keras\n",
        "  model = Sequential() # Instancia de modelo API secuencial #(X)\n",
        "  model.add(Flatten()) # Estiramos los datos en forma de vector como entrada a nuestro Perceptrón Simple #(X)\n",
        "  model.add(Dense(10, input_shape=(784,), activation=\"softmax\")) # Construimos nuestro Perceptrón simple con una única capa Dense #(X)\n",
        "  # Compilamos y entrenamos el modelo SGD\n",
        "  print(\"[INFO]: Entrenando red neuronal...\")\n",
        "  model.compile(loss=\"categorical_crossentropy\", optimizer=SGD(learning_rate, decay=lr_decay/num_epochs), metrics=[\"accuracy\"])  #(X)\n",
        "\n",
        "  # Entrenando la solución\n",
        "  H = model.fit(x_tr, y_tr, validation_data=(x_val, y_val), epochs=num_epochs, batch_size=batch_size)  #(X)\n",
        "\n",
        "  # Evaluando el modelo de predicción con las imágenes de test\n",
        "  print(\"[INFO]: Evaluando red neuronal...\")\n",
        "  predictions = model.predict(x_te, batch_size=batch_size)  #(X)\n",
        "  print(classification_report(y_te.argmax(axis=1), predictions.argmax(axis=1)))\n",
        "\n",
        "  # Muestro gráfica de accuracy y losses\n",
        "  plt.style.use(\"ggplot\")\n",
        "  plt.figure()\n",
        "  plt.plot(np.arange(0, num_epochs), H.history[\"loss\"], label=\"train_loss\")\n",
        "  plt.plot(np.arange(0, num_epochs), H.history[\"val_loss\"], label=\"val_loss\")\n",
        "  plt.plot(np.arange(0, num_epochs), H.history[\"accuracy\"], label=\"train_acc\")\n",
        "  plt.plot(np.arange(0, num_epochs), H.history[\"val_accuracy\"], label=\"val_acc\")\n",
        "  plt.title(\"Training Loss and Accuracy\")\n",
        "  plt.xlabel(\"Epoch #\")\n",
        "  plt.ylabel(\"Loss/Accuracy\")\n",
        "  plt.legend()"
      ],
      "metadata": {
        "id": "PeDvBNQBZfra"
      },
      "id": "PeDvBNQBZfra",
      "execution_count": null,
      "outputs": []
    },
    {
      "cell_type": "code",
      "source": [
        "# Hiper-parámetros de nuestra red\n",
        "lr = 0.005\n",
        "n_epochs = 20\n",
        "batch_size = 164\n",
        "\n",
        "# Implementamos la red empleando Keras\n",
        "#model = Sequential() # Instancia de modelo API secuencial #(X)\n",
        "#model.add(Flatten()) # Estiramos los datos en forma de vector como entrada a nuestro Perceptrón Simple #(X)\n",
        "#model.add(Dense(10, input_shape=(784,), activation=\"softmax\")) # Construimos nuestro Perceptrón simple con una única capa Dense #(X)\n",
        "\n",
        "# Compilamos y entrenamos el modelo SGD\n",
        "print(\"[INFO]: Entrenando red neuronal...\")\n",
        "model.compile(loss=\"categorical_crossentropy\", optimizer=SGD(lr), metrics=[\"accuracy\"])  #(X)\n",
        "H = model.fit(x_train, y_train, validation_data=(x_val, y_val), epochs=n_epochs, batch_size=batch_size)  #(X)\n",
        "\n",
        "# Evaluando el modelo de predicción con las imágenes de test\n",
        "print(\"[INFO]: Evaluando red neuronal...\")\n",
        "predictions = model.predict(x_te, batch_size=batch_size)  #(X)\n",
        "print(classification_report(y_te.argmax(axis=1), predictions.argmax(axis=1)))\n",
        "\n",
        "# Muestro gráfica de accuracy y losses\n",
        "plt.style.use(\"ggplot\")\n",
        "plt.figure()\n",
        "plt.plot(np.arange(0, n_epochs), H.history[\"loss\"], label=\"train_loss\")\n",
        "plt.plot(np.arange(0, n_epochs), H.history[\"val_loss\"], label=\"val_loss\")\n",
        "plt.plot(np.arange(0, n_epochs), H.history[\"accuracy\"], label=\"train_acc\")\n",
        "plt.plot(np.arange(0, n_epochs), H.history[\"val_accuracy\"], label=\"val_acc\")\n",
        "plt.title(\"Training Loss and Accuracy\")\n",
        "plt.xlabel(\"Epoch #\")\n",
        "plt.ylabel(\"Loss/Accuracy\")\n",
        "plt.legend()"
      ],
      "metadata": {
        "id": "luNlWSEDzkdg"
      },
      "id": "luNlWSEDzkdg",
      "execution_count": null,
      "outputs": []
    },
    {
      "cell_type": "code",
      "source": [
        "# Entreno el modelo \n",
        "history = model.fit(X_train, y_train, epochs=n_epochs, validation_data=(X_val)\n",
        "\n",
        "\n",
        "train_loss = history.history['loss']\n",
        "val_loss = history.history['val_loss']\n",
        "train_acc = history.history['accuracy']\n",
        "val_acc = history.history['val_accuracy']\n",
        "\n",
        "epochs = range(1, len(train_loss) + 1)\n"
      ],
      "metadata": {
        "colab": {
          "base_uri": "https://localhost:8080/",
          "height": 131
        },
        "id": "njO5PvgwNWsT",
        "outputId": "dc23ffed-80e2-4c58-e923-66184d20f301"
      },
      "id": "njO5PvgwNWsT",
      "execution_count": null,
      "outputs": [
        {
          "output_type": "error",
          "ename": "SyntaxError",
          "evalue": "ignored",
          "traceback": [
            "\u001b[0;36m  File \u001b[0;32m\"<ipython-input-394-606469b5023f>\"\u001b[0;36m, line \u001b[0;32m5\u001b[0m\n\u001b[0;31m    train_loss = history.history['loss']\u001b[0m\n\u001b[0m    ^\u001b[0m\n\u001b[0;31mSyntaxError\u001b[0m\u001b[0;31m:\u001b[0m invalid syntax\n"
          ]
        }
      ]
    },
    {
      "cell_type": "code",
      "source": [],
      "metadata": {
        "id": "jTBZN5fHzhEf"
      },
      "id": "jTBZN5fHzhEf",
      "execution_count": null,
      "outputs": []
    },
    {
      "cell_type": "code",
      "source": [
        "plt.plot(epochs, train_loss, 'r', label='Training loss')\n",
        "plt.plot(epochs, val_loss, 'b', label='Validation loss')\n",
        "plt.plot(epochs, train_acc, 'g', label='train_acc')\n",
        "plt.plot(epochs, val_acc, 'm', label='val_acc')\n",
        "plt.title('Training and Validation Loss')\n",
        "plt.xlabel('Epochs')\n",
        "plt.ylabel('Loss')\n",
        "plt.legend()\n",
        "plt.show()\n",
        "\n"
      ],
      "metadata": {
        "colab": {
          "base_uri": "https://localhost:8080/",
          "height": 295
        },
        "id": "ABzi4qYDR7j_",
        "outputId": "761f9e71-1f25-45b4-c739-b633f2f4f4e6"
      },
      "id": "ABzi4qYDR7j_",
      "execution_count": null,
      "outputs": [
        {
          "output_type": "display_data",
          "data": {
            "text/plain": [
              "<Figure size 432x288 with 1 Axes>"
            ],
            "image/png": "[encoded data removed]"
          },
          "metadata": {
            "needs_background": "light"
          }
        }
      ]
    },
    {
      "cell_type": "markdown",
      "source": [
        "## Ahora, a evaluar los resultados. "
      ],
      "metadata": {
        "id": "RPBdsEyspvBc"
      },
      "id": "RPBdsEyspvBc"
    },
    {
      "cell_type": "code",
      "source": [
        "# Cargo la información de Test\n",
        "X_test = pd.read_csv('test.csv')\n",
        "X_test = X_test.drop(columns=columnas_objeto)\n",
        "\n",
        "y_test = pd.read_csv('test_target.csv')\n",
        "\n",
        "lista_columnas = X_test.columns.values\n",
        "for name in lista_columnas:\n",
        "    X_test[name].fillna(X_test[name].mode()[0], inplace=True)\n",
        "\n",
        "X_test[columnas_Int64.columns] = int_scaler.fit_transform(X_test[columnas_Int64.columns])\n",
        "X_test[columnas_float64.columns] = float_scaler.fit_transform(X_test[columnas_float64.columns])\n",
        "\n",
        "y_test = y_test.values.reshape(-1, 1)  # reshape y_train para tener un arreglo 2D\n",
        "y_test = target_scaler.fit_transform(y_test)"
      ],
      "metadata": {
        "id": "CA_WbT-rqBfq"
      },
      "id": "CA_WbT-rqBfq",
      "execution_count": null,
      "outputs": []
    },
    {
      "cell_type": "code",
      "source": [
        "# Evaluo el modelo\n",
        "mse_test = model.evaluate(X_test, y_test)\n",
        "y_pred = model.predict(X_test)"
      ],
      "metadata": {
        "colab": {
          "base_uri": "https://localhost:8080/"
        },
        "id": "fePxLTacNWvQ",
        "outputId": "8324b6cc-b4ec-4b1a-820c-eb3026762111"
      },
      "id": "fePxLTacNWvQ",
      "execution_count": null,
      "outputs": [
        {
          "output_type": "stream",
          "name": "stdout",
          "text": [
            "41/41 [==============================] - 0s 2ms/step - loss: 0.5356 - accuracy: 0.0070\n",
            "41/41 [==============================] - 0s 2ms/step\n"
          ]
        }
      ]
    },
    {
      "cell_type": "code",
      "source": [
        "y_pred = model.predict(X_test)\n",
        "print(\"El MSE del test antes de desnormalizar es --> \", mse_test)\n",
        "y_test = target_scaler.inverse_transform(y_test)\n",
        "y_pred = target_scaler.inverse_transform(y_pred)\n",
        "mse = mean_squared_error(y_test, y_pred)\n",
        "mse"
      ],
      "metadata": {
        "colab": {
          "base_uri": "https://localhost:8080/"
        },
        "id": "7xWuxbsf1mnb",
        "outputId": "7b50b619-4915-4ab6-a3e7-937295d4a7cc"
      },
      "id": "7xWuxbsf1mnb",
      "execution_count": null,
      "outputs": [
        {
          "output_type": "stream",
          "name": "stdout",
          "text": [
            "41/41 [==============================] - 0s 3ms/step\n",
            "El MSE del test antes de desnormalizar es -->  [0.5356016755104065, 0.007020280696451664]\n"
          ]
        },
        {
          "output_type": "execute_result",
          "data": {
            "text/plain": [
              "173406.9504951725"
            ]
          },
          "metadata": {},
          "execution_count": 393
        }
      ]
    },
    {
      "cell_type": "code",
      "source": [],
      "metadata": {
        "id": "aQXOUc5whdJg"
      },
      "id": "aQXOUc5whdJg",
      "execution_count": null,
      "outputs": []
    },
    {
      "cell_type": "code",
      "source": [],
      "metadata": {
        "id": "YRJUZgv1hdMf"
      },
      "id": "YRJUZgv1hdMf",
      "execution_count": null,
      "outputs": []
    },
    {
      "cell_type": "code",
      "source": [],
      "metadata": {
        "id": "TfQYKMROhdPP"
      },
      "id": "TfQYKMROhdPP",
      "execution_count": null,
      "outputs": []
    },
    {
      "cell_type": "code",
      "source": [],
      "metadata": {
        "id": "9Wn9HxuchdSG"
      },
      "id": "9Wn9HxuchdSG",
      "execution_count": null,
      "outputs": []
    },
    {
      "cell_type": "code",
      "source": [],
      "metadata": {
        "id": "qaomKybbhdU-"
      },
      "id": "qaomKybbhdU-",
      "execution_count": null,
      "outputs": []
    },
    {
      "cell_type": "code",
      "execution_count": null,
      "metadata": {
        "colab": {
          "base_uri": "https://localhost:8080/"
        },
        "id": "bZCAuK7KCbES",
        "outputId": "3a45e3f8-2da8-478d-bc5e-bae256aef75f"
      },
      "outputs": [
        {
          "output_type": "execute_result",
          "data": {
            "text/plain": [
              "array(['ID', 'Host ID', 'Host Response Rate', 'Host Listings Count',\n",
              "       'Host Total Listings Count', 'Zipcode', 'Latitude', 'Longitude',\n",
              "       'Accommodates', 'Bathrooms', 'Bedrooms', 'Beds', 'Guests Included',\n",
              "       'Extra People', 'Minimum Nights', 'Maximum Nights',\n",
              "       'Availability 30', 'Availability 60', 'Availability 90',\n",
              "       'Availability 365', 'Number of Reviews', 'Review Scores Rating',\n",
              "       'Review Scores Accuracy', 'Review Scores Cleanliness',\n",
              "       'Review Scores Checkin', 'Review Scores Communication',\n",
              "       'Review Scores Location', 'Review Scores Value',\n",
              "       'Calculated host listings count', 'Reviews per Month',\n",
              "       'Host Since_year', 'Host Since_month', 'Host Since_day',\n",
              "       'First Review_year', 'First Review_month', 'First Review_day',\n",
              "       'Last Review_year', 'Last Review_month', 'Last Review_day',\n",
              "       'Host Response Time_a few days or more',\n",
              "       'Host Response Time_within a day',\n",
              "       'Host Response Time_within a few hours',\n",
              "       'Host Response Time_within an hour', 'Neighbourhood_Acacias',\n",
              "       'Neighbourhood_Adelfas', 'Neighbourhood_Almagro',\n",
              "       'Neighbourhood_Almenara', 'Neighbourhood_Aluche',\n",
              "       'Neighbourhood_Arapiles', 'Neighbourhood_Arganzuela',\n",
              "       'Neighbourhood_Argüelles', 'Neighbourhood_Atocha',\n",
              "       'Neighbourhood_Barajas', 'Neighbourhood_Bellas Vistas',\n",
              "       'Neighbourhood_Berruguete', 'Neighbourhood_Carabanchel',\n",
              "       'Neighbourhood_Castellana', 'Neighbourhood_Castilla',\n",
              "       'Neighbourhood_Castillejos', 'Neighbourhood_Centro',\n",
              "       'Neighbourhood_Chamberí', 'Neighbourhood_Ciudad Jardin',\n",
              "       'Neighbourhood_Ciudad Lineal', 'Neighbourhood_Cortes',\n",
              "       'Neighbourhood_Cuatro Caminos', 'Neighbourhood_Delicias',\n",
              "       'Neighbourhood_El Tréntaiseis', 'Neighbourhood_El Viso',\n",
              "       'Neighbourhood_Embajadores', 'Neighbourhood_Estrella',\n",
              "       'Neighbourhood_Fuencarral-El Pardo',\n",
              "       'Neighbourhood_Fuencarral-el Pardo',\n",
              "       'Neighbourhood_Fuente del Berro', 'Neighbourhood_Gaztambide',\n",
              "       'Neighbourhood_Goya', 'Neighbourhood_Guindalera',\n",
              "       'Neighbourhood_Hispanoamérica', 'Neighbourhood_Hortaleza',\n",
              "       'Neighbourhood_Ibiza', 'Neighbourhood_Imperial',\n",
              "       'Neighbourhood_Jerónimos', 'Neighbourhood_Justicia',\n",
              "       'Neighbourhood_La Chopera', 'Neighbourhood_La Latina',\n",
              "       'Neighbourhood_Legazpi', 'Neighbourhood_Lista',\n",
              "       'Neighbourhood_Malasaña', 'Neighbourhood_Moncloa',\n",
              "       'Neighbourhood_Moratalaz', 'Neighbourhood_Nueva España',\n",
              "       'Neighbourhood_Pacifico', 'Neighbourhood_Palacio',\n",
              "       'Neighbourhood_Palos do Moguer', 'Neighbourhood_Prosperidad',\n",
              "       'Neighbourhood_Puente de Vallecas', 'Neighbourhood_Recoletos',\n",
              "       'Neighbourhood_Retiro', 'Neighbourhood_Rios Rosas',\n",
              "       'Neighbourhood_San Blas', 'Neighbourhood_Sol',\n",
              "       'Neighbourhood_Tetuán', 'Neighbourhood_Trafalgar',\n",
              "       'Neighbourhood_Usera', 'Neighbourhood_Valdeacederas',\n",
              "       'Neighbourhood_Vallehermosa', 'Neighbourhood_Vicálvaro',\n",
              "       'Neighbourhood_Villa de Vallecas', 'Neighbourhood_Villaverde',\n",
              "       'Neighbourhood Group Cleansed_Arganzuela',\n",
              "       'Neighbourhood Group Cleansed_Barajas',\n",
              "       'Neighbourhood Group Cleansed_Carabanchel',\n",
              "       'Neighbourhood Group Cleansed_Centro',\n",
              "       'Neighbourhood Group Cleansed_Chamartín',\n",
              "       'Neighbourhood Group Cleansed_Chamberí',\n",
              "       'Neighbourhood Group Cleansed_Ciudad Lineal',\n",
              "       'Neighbourhood Group Cleansed_Fuencarral - El Pardo',\n",
              "       'Neighbourhood Group Cleansed_Hortaleza',\n",
              "       'Neighbourhood Group Cleansed_Latina',\n",
              "       'Neighbourhood Group Cleansed_Moncloa - Aravaca',\n",
              "       'Neighbourhood Group Cleansed_Moratalaz',\n",
              "       'Neighbourhood Group Cleansed_Puente de Vallecas',\n",
              "       'Neighbourhood Group Cleansed_Retiro',\n",
              "       'Neighbourhood Group Cleansed_Salamanca',\n",
              "       'Neighbourhood Group Cleansed_San Blas - Canillejas',\n",
              "       'Neighbourhood Group Cleansed_Tetuán',\n",
              "       'Neighbourhood Group Cleansed_Usera',\n",
              "       'Neighbourhood Group Cleansed_Vicálvaro',\n",
              "       'Neighbourhood Group Cleansed_Villa de Vallecas',\n",
              "       'Neighbourhood Group Cleansed_Villaverde',\n",
              "       'Property Type_Apartment', 'Property Type_Bed & Breakfast',\n",
              "       'Property Type_Boat', 'Property Type_Boutique hotel',\n",
              "       'Property Type_Bungalow', 'Property Type_Camper/RV',\n",
              "       'Property Type_Casa particular', 'Property Type_Chalet',\n",
              "       'Property Type_Condominium', 'Property Type_Dorm',\n",
              "       'Property Type_Earth House', 'Property Type_Guest suite',\n",
              "       'Property Type_Guesthouse', 'Property Type_Hostel',\n",
              "       'Property Type_House', 'Property Type_Loft', 'Property Type_Other',\n",
              "       'Property Type_Serviced apartment', 'Property Type_Tent',\n",
              "       'Property Type_Timeshare', 'Property Type_Townhouse',\n",
              "       'Property Type_Villa', 'Room Type_Entire home/apt',\n",
              "       'Room Type_Private room', 'Room Type_Shared room',\n",
              "       'Bed Type_Airbed', 'Bed Type_Couch', 'Bed Type_Futon',\n",
              "       'Bed Type_Pull-out Sofa', 'Bed Type_Real Bed',\n",
              "       'Cancellation Policy_flexible', 'Cancellation Policy_moderate',\n",
              "       'Cancellation Policy_strict',\n",
              "       'Cancellation Policy_super_strict_30',\n",
              "       'Cancellation Policy_super_strict_60'], dtype=object)"
            ]
          },
          "metadata": {},
          "execution_count": 150
        }
      ],
      "source": [
        "lista_columnas"
      ],
      "id": "bZCAuK7KCbES"
    },
    {
      "cell_type": "markdown",
      "source": [],
      "metadata": {
        "id": "3lc-tm6vJjiu"
      },
      "id": "3lc-tm6vJjiu"
    },
    {
      "cell_type": "code",
      "execution_count": null,
      "metadata": {
        "id": "KizZissvCp90"
      },
      "outputs": [],
      "source": [],
      "id": "KizZissvCp90"
    },
    {
      "cell_type": "markdown",
      "metadata": {
        "id": "EoJfI8hzCttR"
      },
      "source": [
        "### Voy a clasificar las imágenes en los siguientes grupos: \n",
        "\n",
        "* images_Host\n",
        "\n",
        "* images_thumbnail --> Property\n",
        "\n",
        "* images_medium --> Property\n",
        "\n",
        "* images --> Property\n"
      ],
      "id": "EoJfI8hzCttR"
    },
    {
      "cell_type": "markdown",
      "metadata": {
        "id": "V4sRTJNeFaOH"
      },
      "source": [
        "### Primero verifico si las imágenes existen, las preparo y regularizo su tamaño  --> "
      ],
      "id": "V4sRTJNeFaOH"
    },
    {
      "cell_type": "code",
      "execution_count": null,
      "metadata": {
        "colab": {
          "base_uri": "https://localhost:8080/"
        },
        "id": "_mWswAmEM5c1",
        "outputId": "0921c323-cb55-4221-b6d0-9ed357afc5b7"
      },
      "outputs": [
        {
          "output_type": "stream",
          "name": "stdout",
          "text": [
            "total 85M\n",
            "drwxr-xr-x 1 root root 4.0K Feb 12 19:39 .\n",
            "drwxr-xr-x 1 root root 4.0K Feb 12 19:31 ..\n",
            "-rw-rw-r-- 1 root root  58M Dec 21 22:29 airbnb-listings-extract.csv\n",
            "-rw-r--r-- 1 root root  15M Feb 12 20:39 airbnb-listings-extract.zip\n",
            "drwxr-xr-x 4 root root 4.0K Feb  9 14:41 .config\n",
            "drwxr-xr-x 2 root root 4.0K Feb 12 19:36 __MACOSX\n",
            "drwxr-xr-x 1 root root 4.0K Feb  9 14:42 sample_data\n",
            "-rw-r--r-- 1 root root 1.3M Feb 12 20:50 test.csv\n",
            "-rw-r--r-- 1 root root 6.5K Feb 12 20:50 test_target.csv\n",
            "-rw-r--r-- 1 root root 9.7M Feb 12 20:50 train.csv\n",
            "-rw-r--r-- 1 root root  52K Feb 12 20:50 train_target.csv\n",
            "-rw-r--r-- 1 root root 1.3M Feb 12 20:50 validation.csv\n",
            "-rw-r--r-- 1 root root 6.5K Feb 12 20:50 validation_target.csv\n"
          ]
        }
      ],
      "source": [
        "!ls -lah"
      ],
      "id": "_mWswAmEM5c1"
    },
    {
      "cell_type": "code",
      "execution_count": null,
      "metadata": {
        "colab": {
          "base_uri": "https://localhost:8080/",
          "height": 183
        },
        "id": "VOtOAp35Qsak",
        "outputId": "422e65ad-a523-458a-f951-12781979f169"
      },
      "outputs": [
        {
          "output_type": "error",
          "ename": "NameError",
          "evalue": "ignored",
          "traceback": [
            "\u001b[0;31m---------------------------------------------------------------------------\u001b[0m",
            "\u001b[0;31mNameError\u001b[0m                                 Traceback (most recent call last)",
            "\u001b[0;32m<ipython-input-152-ddbcedcce62d>\u001b[0m in \u001b[0;36m<module>\u001b[0;34m\u001b[0m\n\u001b[0;32m----> 1\u001b[0;31m \u001b[0mlist_imgs\u001b[0m \u001b[0;34m=\u001b[0m \u001b[0mdf\u001b[0m\u001b[0;34m[\u001b[0m\u001b[0;34m'Picture Url'\u001b[0m\u001b[0;34m]\u001b[0m\u001b[0;34m\u001b[0m\u001b[0;34m\u001b[0m\u001b[0m\n\u001b[0m\u001b[1;32m      2\u001b[0m \u001b[0mlist_imgs\u001b[0m\u001b[0;34m\u001b[0m\u001b[0;34m\u001b[0m\u001b[0m\n",
            "\u001b[0;31mNameError\u001b[0m: name 'df' is not defined"
          ]
        }
      ],
      "source": [
        "list_imgs = df['Picture Url']\n",
        "list_imgs"
      ],
      "id": "VOtOAp35Qsak"
    },
    {
      "cell_type": "code",
      "execution_count": null,
      "metadata": {
        "id": "cQAs3uHuFTW0"
      },
      "outputs": [],
      "source": [
        "n_images = len(list_img)\n",
        "print(n_images, 'images were loaded!')"
      ],
      "id": "cQAs3uHuFTW0"
    },
    {
      "cell_type": "code",
      "execution_count": null,
      "metadata": {
        "id": "badn-ZSLD-Ex"
      },
      "outputs": [],
      "source": [
        "images_host = []\n",
        "\n",
        "img_path = list(df['Host Picture Url'])\n",
        "\n",
        "for i, img_path in enumerate(tqdm(list_imgs)):\n",
        "  img = cv2.imread(img_path)\n",
        "  img = cv2.cvtColor(img, cv2.COLOR_BGR2RGB)\n",
        "  "
      ],
      "id": "badn-ZSLD-Ex"
    },
    {
      "cell_type": "markdown",
      "metadata": {
        "id": "1d281ef2"
      },
      "source": [
        "## 4.1.1. Ahora, voy a revisar la variable objetivo --> Precio\n",
        "\n",
        "Voy a analizar un poco mi variable objetivo (Precio):"
      ],
      "id": "1d281ef2"
    },
    {
      "cell_type": "code",
      "execution_count": null,
      "metadata": {
        "id": "1dbaa9d6"
      },
      "outputs": [],
      "source": [
        "df['Price'].isnull().any()"
      ],
      "id": "1dbaa9d6"
    },
    {
      "cell_type": "code",
      "execution_count": null,
      "metadata": {
        "id": "0b81cbbb"
      },
      "outputs": [],
      "source": [
        "Price_NA_count = {\"Columna\": 'Price', 'NA': df['Price'].isna().sum(), 'NA%': (df['Price'].isna().sum()*100/data.shape[0]).round(2)}\n",
        "Price_NA_count"
      ],
      "id": "0b81cbbb"
    },
    {
      "cell_type": "code",
      "execution_count": null,
      "metadata": {
        "id": "d04c207c"
      },
      "outputs": [],
      "source": [
        "df = df[df['Price'].notna()]"
      ],
      "id": "d04c207c"
    },
    {
      "cell_type": "code",
      "execution_count": null,
      "metadata": {
        "id": "b5113fe4"
      },
      "outputs": [],
      "source": [
        "df['Price'].isnull().any()"
      ],
      "id": "b5113fe4"
    },
    {
      "cell_type": "code",
      "execution_count": null,
      "metadata": {
        "id": "5422f676"
      },
      "outputs": [],
      "source": [
        "df['Price'].dtypes"
      ],
      "id": "5422f676"
    },
    {
      "cell_type": "markdown",
      "metadata": {
        "id": "4a28b576"
      },
      "source": [
        "## 4.1.2. Ahora, voy a codificar las variables que no tienen número\n",
        "\n",
        "Primero, clasifico por tipo de variable todos las columnas:"
      ],
      "id": "4a28b576"
    },
    {
      "cell_type": "code",
      "execution_count": null,
      "metadata": {
        "id": "308dba43"
      },
      "outputs": [],
      "source": [
        "var_types = df.columns.to_series().groupby(df.dtypes).groups\n",
        "var_types"
      ],
      "id": "308dba43"
    },
    {
      "cell_type": "markdown",
      "metadata": {
        "id": "3895efd3"
      },
      "source": [
        "Esta es la lista de variables tipo object: \n",
        "\n",
        "\n",
        "['Experiences Offered', 'Host Since', 'Host Response Time', 'Host Neighbourhood', 'Host Verifications', 'Street', 'Neighbourhood Cleansed', 'Neighbourhood Group Cleansed', 'City', 'State', 'Market', 'Smart Location', 'Property Type', 'Room Type', 'Bed Type', 'Amenities', 'Calendar Updated', 'Calendar last Scraped', 'First Review', 'Last Review', 'Cancellation Policy', 'Geolocation', 'Features']"
      ],
      "id": "3895efd3"
    },
    {
      "cell_type": "code",
      "execution_count": null,
      "metadata": {
        "id": "cdacd386"
      },
      "outputs": [],
      "source": [
        "var_object = list(df.select_dtypes(include='object'))"
      ],
      "id": "cdacd386"
    },
    {
      "cell_type": "code",
      "execution_count": null,
      "metadata": {
        "id": "c80e50ea"
      },
      "outputs": [],
      "source": [
        "var_object"
      ],
      "id": "c80e50ea"
    },
    {
      "cell_type": "markdown",
      "metadata": {
        "id": "f691dbd7"
      },
      "source": [
        "Voy a codificar ahora utilizando la media de cada valor en relación con el precio --> "
      ],
      "id": "f691dbd7"
    },
    {
      "cell_type": "markdown",
      "metadata": {
        "id": "9ca88a7d"
      },
      "source": [
        "#### Mantengo separadas df y df_new para poder regresar a la información tratada antes de codificar."
      ],
      "id": "9ca88a7d"
    },
    {
      "cell_type": "code",
      "execution_count": null,
      "metadata": {
        "id": "cbb59ed3"
      },
      "outputs": [],
      "source": [
        "Recuperar = df"
      ],
      "id": "cbb59ed3"
    },
    {
      "cell_type": "code",
      "execution_count": null,
      "metadata": {
        "id": "368965f8"
      },
      "outputs": [],
      "source": [
        "t_enc=ce.TargetEncoder() \n",
        "df_new = Recuperar\n",
        "for to_encode in var_object:\n",
        "    ##print(to_encode, \", \")\n",
        "    df_encoded=t_enc.fit_transform(df_new[to_encode],df_new['Price'])\n",
        "    df_new = df_encoded.join(df_new.drop(to_encode,axis = 1))"
      ],
      "id": "368965f8"
    },
    {
      "cell_type": "code",
      "execution_count": null,
      "metadata": {
        "id": "e9390bbb"
      },
      "outputs": [],
      "source": [
        "df_new.head()"
      ],
      "id": "e9390bbb"
    },
    {
      "cell_type": "markdown",
      "metadata": {
        "id": "424de635"
      },
      "source": [
        "¿Cuántas filas tienen valores NULL?"
      ],
      "id": "424de635"
    },
    {
      "cell_type": "code",
      "execution_count": null,
      "metadata": {
        "id": "d074bc8b",
        "scrolled": true
      },
      "outputs": [],
      "source": [
        "print (\"De un total de \",df_new.shape[0], \" columnas, hay \", df_new.dropna().shape[0], \"columnas con valores válidos\")\n",
        "print (\"Esto equivale al \", round(df_new.dropna().shape[0] * 100/ df_new.shape[0],2), \"% de sus información es válida\")\n"
      ],
      "id": "d074bc8b"
    },
    {
      "cell_type": "markdown",
      "metadata": {
        "id": "2d9fdcde"
      },
      "source": [
        "Voy a rellenar las variables que se tengan NA con la moda de cada columna. "
      ],
      "id": "2d9fdcde"
    },
    {
      "cell_type": "code",
      "execution_count": null,
      "metadata": {
        "id": "1fa11747"
      },
      "outputs": [],
      "source": [
        "for name in lista_columnas:\n",
        "    df_new[name].fillna(df_new[name].mode()[0], inplace=True)"
      ],
      "id": "1fa11747"
    },
    {
      "cell_type": "markdown",
      "metadata": {
        "id": "e429d209"
      },
      "source": [
        "Verifico ahora, nuevamente, cuántos NA me quedan --> "
      ],
      "id": "e429d209"
    },
    {
      "cell_type": "code",
      "execution_count": null,
      "metadata": {
        "id": "79afcf51"
      },
      "outputs": [],
      "source": [
        "print (\"De un total de \",df_new.shape[0], \" columnas, hay \", df_new.dropna().shape[0], \"columnas con valores SIN NULL\")\n",
        "print (\"Esto equivale al \", round(df_new.dropna().shape[0] * 100/ df_new.shape[0],2), \"% tienen valor\")"
      ],
      "id": "79afcf51"
    },
    {
      "cell_type": "markdown",
      "metadata": {
        "id": "0255e7f7"
      },
      "source": [
        "## 5. Regularización de los datos "
      ],
      "id": "0255e7f7"
    },
    {
      "cell_type": "markdown",
      "metadata": {
        "id": "c4865a5e"
      },
      "source": [
        "Me aseguro que Precio es mi primer columna -->"
      ],
      "id": "c4865a5e"
    },
    {
      "cell_type": "code",
      "execution_count": null,
      "metadata": {
        "id": "f5415299"
      },
      "outputs": [],
      "source": [
        "primera_columna = df_new.pop('Price')"
      ],
      "id": "f5415299"
    },
    {
      "cell_type": "code",
      "execution_count": null,
      "metadata": {
        "id": "b8930026"
      },
      "outputs": [],
      "source": [
        "df_new.insert(0, 'Price', primera_columna)"
      ],
      "id": "b8930026"
    },
    {
      "cell_type": "code",
      "execution_count": null,
      "metadata": {
        "id": "8c554f19"
      },
      "outputs": [],
      "source": [
        "print(\"Verifico que Precio es la primer columna --> \")\n",
        "df_new.head(2)"
      ],
      "id": "8c554f19"
    },
    {
      "cell_type": "markdown",
      "metadata": {
        "id": "91903599"
      },
      "source": [
        "Voy a iniciar por una matriz de correlación, para ver cómo se comportan entre sí las variables --> "
      ],
      "id": "91903599"
    },
    {
      "cell_type": "code",
      "execution_count": null,
      "metadata": {
        "id": "e792c77a"
      },
      "outputs": [],
      "source": [
        "# Compute the correlation matrix\n",
        "corr = np.abs(df_new.drop(['Price'], axis=1).corr())\n",
        "#corr = np.abs(house_data_filtered.corr())\n",
        "\n",
        "# Generate a mask for the upper triangle\n",
        "mask = np.zeros_like(corr, dtype=np.bool)\n",
        "mask[np.triu_indices_from(mask)] = True\n",
        "\n",
        "# Set up the matplotlib figure\n",
        "f, ax = plt.subplots(figsize=(12, 10))\n",
        "\n",
        "# Draw the heatmap with the mask and correct aspect ratio\n",
        "sns.heatmap(corr, mask=mask,vmin = 0.0, vmax=1.0, center=0.5,\n",
        "            linewidths=.1, cmap=\"YlGnBu\", cbar_kws={\"shrink\": .8})\n",
        "\n",
        "plt.show()"
      ],
      "id": "e792c77a"
    },
    {
      "cell_type": "markdown",
      "metadata": {
        "id": "7c650782"
      },
      "source": [
        "Aún podría eliminar 'Host Listings Count' y 'Host Total Listings Count\", que muestran una alta correlación con 'Calculated host listings count'. \n",
        "\n",
        "Lo mismo ocurre con 'Availability 60' y 'Availability 90', que tienen una alta correlación con 'Availability 30'. \n",
        "\n",
        "'State' y 'City' podrían eliminarse dejando 'Smart Location'\n",
        "\n",
        "'Accomodates' puede eliminarse dejando 'Beds'\n",
        "\n",
        "'\n",
        "\n",
        "Voy a eliminarlos para simplificar un poco más el modelo --> "
      ],
      "id": "7c650782"
    },
    {
      "cell_type": "code",
      "execution_count": null,
      "metadata": {
        "id": "5c19584e"
      },
      "outputs": [],
      "source": [
        "df_new.drop(['Host Listings Count', \n",
        "            'Host Total Listings Count',\n",
        "            'Availability 60', \n",
        "            'Availability 90',\n",
        "            'State', 'City', 'Accommodates'], axis = 1, inplace=True)"
      ],
      "id": "5c19584e"
    },
    {
      "cell_type": "markdown",
      "metadata": {
        "id": "50ea3a1e"
      },
      "source": [
        "Vuelvo a analizar las correlaciones --> "
      ],
      "id": "50ea3a1e"
    },
    {
      "cell_type": "code",
      "execution_count": null,
      "metadata": {
        "id": "8b88d70d"
      },
      "outputs": [],
      "source": [
        "# Compute the correlation matrix\n",
        "corr = np.abs(df_new.drop(['Price'], axis=1).corr())\n",
        "#corr = np.abs(house_data_filtered.corr())\n",
        "\n",
        "# Generate a mask for the upper triangle\n",
        "mask = np.zeros_like(corr, dtype=np.bool)\n",
        "mask[np.triu_indices_from(mask)] = True\n",
        "\n",
        "# Set up the matplotlib figure\n",
        "f, ax = plt.subplots(figsize=(12, 10))\n",
        "\n",
        "# Draw the heatmap with the mask and correct aspect ratio\n",
        "sns.heatmap(corr, mask=mask,vmin = 0.0, vmax=1.0, center=0.5,\n",
        "            linewidths=.1, cmap=\"YlGnBu\", cbar_kws={\"shrink\": .8})\n",
        "\n",
        "plt.show()"
      ],
      "id": "8b88d70d"
    },
    {
      "cell_type": "markdown",
      "metadata": {
        "id": "0d5e1a84"
      },
      "source": [
        "En principio, las variables se ven poco correlacionadas entre sí, salvo la parte de scores, que muestran una mayor correlación, pero sin llegar a 1. \n",
        "\n",
        "Voy a eliminar Review Scores Rating que es la que muestra correlación más alta con los otros scores (Review Scores Value y Review Scores Accuracy) -->"
      ],
      "id": "0d5e1a84"
    },
    {
      "cell_type": "code",
      "execution_count": null,
      "metadata": {
        "id": "56a6bdd3"
      },
      "outputs": [],
      "source": [
        "df_new.drop(['Review Scores Rating'], axis = 1, inplace=True)"
      ],
      "id": "56a6bdd3"
    },
    {
      "cell_type": "markdown",
      "metadata": {
        "id": "e3d6f18b"
      },
      "source": [
        "Ahora voy a hacer algunos análisis de todas las variables con 'y' ('Price'), para poder detectar correlaciones y posibles outliers -->"
      ],
      "id": "e3d6f18b"
    },
    {
      "cell_type": "code",
      "execution_count": null,
      "metadata": {
        "id": "6bd2fd5b"
      },
      "outputs": [],
      "source": [
        "# Compute the correlation matrix\n",
        "corr = np.abs(df_new.corr())\n",
        "#corr = np.abs(house_data_filtered.corr())\n",
        "\n",
        "# Generate a mask for the upper triangle\n",
        "mask = np.zeros_like(corr, dtype=np.bool)\n",
        "mask[np.triu_indices_from(mask)] = True\n",
        "\n",
        "# Set up the matplotlib figure\n",
        "f, ax = plt.subplots(figsize=(12, 10))\n",
        "\n",
        "# Draw the heatmap with the mask and correct aspect ratio\n",
        "sns.heatmap(corr, mask=mask,vmin = 0.0, vmax=1.0, center=0.5,\n",
        "            linewidths=.1, cmap=\"YlGnBu\", cbar_kws={\"shrink\": .8})\n",
        "\n",
        "plt.show()"
      ],
      "id": "6bd2fd5b"
    },
    {
      "cell_type": "code",
      "execution_count": null,
      "metadata": {
        "id": "8418b5bc"
      },
      "outputs": [],
      "source": [
        "len(lista_columnas)"
      ],
      "id": "8418b5bc"
    },
    {
      "cell_type": "code",
      "execution_count": null,
      "metadata": {
        "id": "59b2ed81",
        "scrolled": false
      },
      "outputs": [],
      "source": [
        "lista_columnas = list(df_new.columns.values)\n",
        "plt.figure(figsize=(15, 75))\n",
        "for i in range(len(lista_columnas)):\n",
        "    plt.subplot(20, 3, i + 1)\n",
        "    df_new[lista_columnas[i]].plot.hist(alpha=0.5, bins=25, grid = True)\n",
        "    plt.xlabel(lista_columnas[i])"
      ],
      "id": "59b2ed81"
    },
    {
      "cell_type": "markdown",
      "metadata": {
        "id": "02ea0432"
      },
      "source": [
        "En este análisis salieron algunos aprendizajes interesantes: \n",
        "- No se visualizan outliers importantes. \n",
        "- Voy a revisar 'Experiences Offered' y 'Smart Location'a detalle pues se ven más concentrados\n",
        "- 'Calendar last Scraped' y 'Market' deberían haber sido borradas antes, pues no aportan información. \n",
        "- 'Geolocation' me devuelve los mismos valores promedio que el precio de su fila. Esto significa que todos son diferentes. No aporta para correlacionarse. Voy a eliminarla. \n"
      ],
      "id": "02ea0432"
    },
    {
      "cell_type": "code",
      "execution_count": null,
      "metadata": {
        "id": "10a6c49f"
      },
      "outputs": [],
      "source": [
        "plt.figure(figsize=(5, 3))\n",
        "df_new['Experiences Offered'].plot.hist(alpha=0.5, bins=25, grid = True)\n",
        "plt.axis([66.9, 67, 0, 12000])\n",
        "plt.xlabel('Experiences Offered')"
      ],
      "id": "10a6c49f"
    },
    {
      "cell_type": "code",
      "execution_count": null,
      "metadata": {
        "id": "3029268d"
      },
      "outputs": [],
      "source": [
        "df_new['Experiences Offered'].describe()"
      ],
      "id": "3029268d"
    },
    {
      "cell_type": "markdown",
      "metadata": {
        "id": "17cf775c"
      },
      "source": [
        "'Experiences Offered' no aporta información. Se puede eliminar. "
      ],
      "id": "17cf775c"
    },
    {
      "cell_type": "code",
      "execution_count": null,
      "metadata": {
        "id": "25bb9e73"
      },
      "outputs": [],
      "source": [
        "df_new.drop(['Experiences Offered'], axis = 1, inplace=True)"
      ],
      "id": "25bb9e73"
    },
    {
      "cell_type": "code",
      "execution_count": null,
      "metadata": {
        "id": "d2003ecf"
      },
      "outputs": [],
      "source": [
        "plt.figure(figsize=(5, 3))\n",
        "df_new['Smart Location'].plot.hist(alpha=0.5, bins=25, grid = True)\n",
        "plt.axis([55, 70, 0, 12000])\n",
        "plt.xlabel('Smart Location')"
      ],
      "id": "d2003ecf"
    },
    {
      "cell_type": "code",
      "execution_count": null,
      "metadata": {
        "id": "4e02b2af"
      },
      "outputs": [],
      "source": [
        "df_new['Price'].corr(df_new['Smart Location'])"
      ],
      "id": "4e02b2af"
    },
    {
      "cell_type": "markdown",
      "metadata": {
        "id": "46923df2"
      },
      "source": [
        "No alcanzo a visualizar su importancia y muestra una correlación baja, pero no despreciable. Voy a mantenerla."
      ],
      "id": "46923df2"
    },
    {
      "cell_type": "markdown",
      "metadata": {
        "id": "e2417cda"
      },
      "source": [
        "Bueno, ahora borro 'Calendar Last Scraped', que no es información de la base original y 'Market', pues todas están en el Madrid."
      ],
      "id": "e2417cda"
    },
    {
      "cell_type": "code",
      "execution_count": null,
      "metadata": {
        "id": "7913ad62"
      },
      "outputs": [],
      "source": [
        "df_new.drop(['Calendar last Scraped', 'Market', 'Geolocation'], axis = 1, inplace=True)"
      ],
      "id": "7913ad62"
    },
    {
      "cell_type": "code",
      "execution_count": null,
      "metadata": {
        "id": "d88497a3"
      },
      "outputs": [],
      "source": [
        "len(df_new.columns)"
      ],
      "id": "d88497a3"
    },
    {
      "cell_type": "markdown",
      "metadata": {
        "id": "b966eab0"
      },
      "source": [
        "He reducido ya el número de variables a 41!\n",
        "\n",
        "Ahora voy a hacer un Scatter Plot de todas las variables que me quedan vs 'Price' -->"
      ],
      "id": "b966eab0"
    },
    {
      "cell_type": "code",
      "execution_count": null,
      "metadata": {
        "id": "07980e54"
      },
      "outputs": [],
      "source": [
        "lista_columnas = list(df_new.columns.values)\n",
        "plt.figure(figsize=(10, 20))\n",
        "for i in range(len(lista_columnas)):\n",
        "    ##plt.subplot(20, 3, i + 1)\n",
        "    df_new.plot(kind = 'scatter',x=lista_columnas[i],y = 'Price')\n",
        "    plt.xlabel(lista_columnas[i])\n",
        "    plt.ylabel('Price')\n",
        "    plt.show()"
      ],
      "id": "07980e54"
    },
    {
      "cell_type": "markdown",
      "metadata": {
        "id": "657111b5"
      },
      "source": [
        "'Smart location' muestra algunos datos con niveles de precio promedios muy elevados. Voy a revisarla --> "
      ],
      "id": "657111b5"
    },
    {
      "cell_type": "code",
      "execution_count": null,
      "metadata": {
        "id": "b21d26c5"
      },
      "outputs": [],
      "source": [
        "df_new['Smart Location'].value_counts()"
      ],
      "id": "b21d26c5"
    },
    {
      "cell_type": "code",
      "execution_count": null,
      "metadata": {
        "id": "fb79292c"
      },
      "outputs": [],
      "source": [
        "df_new.shape"
      ],
      "id": "fb79292c"
    },
    {
      "cell_type": "markdown",
      "metadata": {
        "id": "bc556348"
      },
      "source": [
        "Voy a eliminar 'Smart Location', pues el 99% de su información cae en un solo valor. \n",
        "'ID' son datos que son asignados al azar y todos diferentes. "
      ],
      "id": "bc556348"
    },
    {
      "cell_type": "code",
      "execution_count": null,
      "metadata": {
        "id": "bf3a0b30"
      },
      "outputs": [],
      "source": [
        "df_new.drop(['Smart Location'], axis = 1, inplace=True)"
      ],
      "id": "bf3a0b30"
    },
    {
      "cell_type": "code",
      "execution_count": null,
      "metadata": {
        "id": "cd770b6d"
      },
      "outputs": [],
      "source": [
        "df_new.drop(['ID'], axis = 1, inplace=True)"
      ],
      "id": "cd770b6d"
    },
    {
      "cell_type": "markdown",
      "metadata": {
        "id": "1f9a89fe"
      },
      "source": [
        "Me ha llamado la atención 'Maximum Nights', parece que hay algunos outliers ahí -->"
      ],
      "id": "1f9a89fe"
    },
    {
      "cell_type": "code",
      "execution_count": null,
      "metadata": {
        "id": "63abb1b8"
      },
      "outputs": [],
      "source": [
        "df_new['Maximum Nights'].value_counts()"
      ],
      "id": "63abb1b8"
    },
    {
      "cell_type": "code",
      "execution_count": null,
      "metadata": {
        "id": "9f9347eb"
      },
      "outputs": [],
      "source": [
        "df_new['Maximum Nights'].describe()"
      ],
      "id": "9f9347eb"
    },
    {
      "cell_type": "markdown",
      "metadata": {
        "id": "1b2f7caf"
      },
      "source": [
        "No le encuentro ningún sentido a los datos. Voy a limitarlo al 75% de los datos, o sea, 'Maximum Nights' < 1125 -->"
      ],
      "id": "1b2f7caf"
    },
    {
      "cell_type": "code",
      "execution_count": null,
      "metadata": {
        "id": "e9405eba"
      },
      "outputs": [],
      "source": [
        "df_new = df_new[df_new['Maximum Nights'] < 1125]"
      ],
      "id": "e9405eba"
    },
    {
      "cell_type": "code",
      "execution_count": null,
      "metadata": {
        "id": "e5a4efad"
      },
      "outputs": [],
      "source": [
        "lista_columnas = list(df_new.columns.values)\n",
        "plt.figure(figsize=(10, 20))\n",
        "df_new.plot(kind = 'scatter',x='Maximum Nights',y = 'Price')\n",
        "plt.xlabel('Maximum Nights')\n",
        "plt.ylabel('Price')\n",
        "plt.show()"
      ],
      "id": "e5a4efad"
    },
    {
      "cell_type": "markdown",
      "metadata": {
        "id": "c5f165d6"
      },
      "source": [
        "Lo mismo me pasa con 'Minimum Nights', voy a analizarlo --> "
      ],
      "id": "c5f165d6"
    },
    {
      "cell_type": "code",
      "execution_count": null,
      "metadata": {
        "id": "493fdacc",
        "scrolled": false
      },
      "outputs": [],
      "source": [
        "df_new['Maximum Nights'].value_counts()"
      ],
      "id": "493fdacc"
    },
    {
      "cell_type": "code",
      "execution_count": null,
      "metadata": {
        "id": "5369b9e5"
      },
      "outputs": [],
      "source": [
        "df_new['Maximum Nights'].describe()"
      ],
      "id": "5369b9e5"
    },
    {
      "cell_type": "markdown",
      "metadata": {
        "id": "62f31e60"
      },
      "source": [
        "Hay mucha variación, voy a hacer lo mismo que en el anterior y lo voy a limitar al 75% --> 100"
      ],
      "id": "62f31e60"
    },
    {
      "cell_type": "code",
      "execution_count": null,
      "metadata": {
        "id": "eca4c212"
      },
      "outputs": [],
      "source": [
        "df_new = df_new[df_new['Minimum Nights'] < 100]"
      ],
      "id": "eca4c212"
    },
    {
      "cell_type": "code",
      "execution_count": null,
      "metadata": {
        "id": "df527846"
      },
      "outputs": [],
      "source": [
        "lista_columnas = list(df_new.columns.values)\n",
        "plt.figure(figsize=(10, 20))\n",
        "df_new.plot(kind = 'scatter',x='Minimum Nights',y = 'Price')\n",
        "plt.xlabel('Minimum Nights')\n",
        "plt.ylabel('Price')\n",
        "plt.show()"
      ],
      "id": "df527846"
    },
    {
      "cell_type": "markdown",
      "metadata": {
        "id": "89f2ed6b"
      },
      "source": [
        "'Extra People' también parece tener algunos outliers --> "
      ],
      "id": "89f2ed6b"
    },
    {
      "cell_type": "code",
      "execution_count": null,
      "metadata": {
        "id": "733722ba"
      },
      "outputs": [],
      "source": [
        "df_new['Extra People'].value_counts()"
      ],
      "id": "733722ba"
    },
    {
      "cell_type": "code",
      "execution_count": null,
      "metadata": {
        "id": "3cc41317"
      },
      "outputs": [],
      "source": [
        "df_new['Extra People'].describe()"
      ],
      "id": "3cc41317"
    },
    {
      "cell_type": "markdown",
      "metadata": {
        "id": "026b8b92"
      },
      "source": [
        "No hace sentido tampoco permitir 271 personas más para hospedarse en un airbnb. Voy a limitarlo, igualmente al 75%, que es 15 personas. --> "
      ],
      "id": "026b8b92"
    },
    {
      "cell_type": "code",
      "execution_count": null,
      "metadata": {
        "id": "f18c3c42"
      },
      "outputs": [],
      "source": [
        "df_new = df_new[df_new['Extra People'] < 15]"
      ],
      "id": "f18c3c42"
    },
    {
      "cell_type": "code",
      "execution_count": null,
      "metadata": {
        "id": "ed343131",
        "scrolled": false
      },
      "outputs": [],
      "source": [
        "lista_columnas = list(df_new.columns.values)\n",
        "plt.figure(figsize=(10, 20))\n",
        "df_new.plot(kind = 'scatter',x='Extra People',y = 'Price')\n",
        "plt.xlabel('Extra People')\n",
        "plt.ylabel('Price')\n",
        "plt.show()"
      ],
      "id": "ed343131"
    },
    {
      "cell_type": "markdown",
      "metadata": {
        "id": "797e0ecd"
      },
      "source": [
        "Valido mi matriz de correlación nuevamente, después de estos cambios, solo por curiosidad --> "
      ],
      "id": "797e0ecd"
    },
    {
      "cell_type": "code",
      "execution_count": null,
      "metadata": {
        "id": "8780e7f4"
      },
      "outputs": [],
      "source": [
        "# Compute the correlation matrix\n",
        "corr = np.abs(df_new.drop(['Price'], axis=1).corr())\n",
        "#corr = np.abs(house_data_filtered.corr())\n",
        "\n",
        "# Generate a mask for the upper triangle\n",
        "mask = np.zeros_like(corr, dtype=np.bool)\n",
        "mask[np.triu_indices_from(mask)] = True\n",
        "\n",
        "# Set up the matplotlib figure\n",
        "f, ax = plt.subplots(figsize=(12, 10))\n",
        "\n",
        "# Draw the heatmap with the mask and correct aspect ratio\n",
        "sns.heatmap(corr, mask=mask,vmin = 0.0, vmax=1.0, center=0.5,\n",
        "            linewidths=.1, cmap=\"YlGnBu\", cbar_kws={\"shrink\": .8})\n",
        "\n",
        "plt.show()"
      ],
      "id": "8780e7f4"
    },
    {
      "cell_type": "code",
      "execution_count": null,
      "metadata": {
        "id": "1bc0235e"
      },
      "outputs": [],
      "source": [
        "print(\"Se ha reducido el número de variables a --> \",len(df_new.columns))"
      ],
      "id": "1bc0235e"
    },
    {
      "cell_type": "code",
      "execution_count": null,
      "metadata": {
        "id": "06e59b10"
      },
      "outputs": [],
      "source": [
        "df_new.columns"
      ],
      "id": "06e59b10"
    },
    {
      "cell_type": "code",
      "execution_count": null,
      "metadata": {
        "id": "6a105b90"
      },
      "outputs": [],
      "source": [
        "df_regresiones = df_new"
      ],
      "id": "6a105b90"
    },
    {
      "cell_type": "markdown",
      "metadata": {
        "id": "6a1a3e3d"
      },
      "source": [
        "### PARA RECUPÉRAR LOS VALORES DE DF_NEW !!!!!"
      ],
      "id": "6a1a3e3d"
    },
    {
      "cell_type": "code",
      "execution_count": null,
      "metadata": {
        "id": "3b7b18c2"
      },
      "outputs": [],
      "source": [
        "df_new = df_regresiones"
      ],
      "id": "3b7b18c2"
    },
    {
      "cell_type": "markdown",
      "metadata": {
        "id": "e09fba41"
      },
      "source": [
        "## 5. Regresión Lasso\n",
        "\n",
        "Ahora, voy a pruebas de filtrado para ver cómo se comportan las variables que han quedado después de normalizar y clasificarlas por su peso en el precio.\n",
        "\n",
        "Primero divido en y y X -->"
      ],
      "id": "e09fba41"
    },
    {
      "cell_type": "code",
      "execution_count": null,
      "metadata": {
        "id": "e98dfa41"
      },
      "outputs": [],
      "source": [
        "data2 = df_new.values\n",
        "y_train = data2[:,0:1]     # nos quedamos con la 1ª columna, price\n",
        "X_train = data2[:,1:]      # nos quedamos con el resto\n",
        "feature_names = df_new.columns[1:]\n",
        "# Escalamos (con los datos de train)\n",
        "scaler = preprocessing.StandardScaler().fit(X_train)\n",
        "XtrainScaled = scaler.transform(X_train)"
      ],
      "id": "e98dfa41"
    },
    {
      "cell_type": "markdown",
      "metadata": {
        "id": "9bbda2e4"
      },
      "source": [
        "Ahora aplico el filtro y las pruebo, quiero detectar las variables que aportan más del 0,4 tanto en varianza como en mi -->"
      ],
      "id": "9bbda2e4"
    },
    {
      "cell_type": "code",
      "execution_count": null,
      "metadata": {
        "id": "396cafee"
      },
      "outputs": [],
      "source": [
        "feature_names = df_new.columns[1:]\n",
        "\n",
        "\n",
        "# do calculations\n",
        "f_test, _ = f_regression(X_train, y_train)\n",
        "f_test /= np.max(f_test)\n",
        "\n",
        "mi = mutual_info_regression(X_train, y_train)\n",
        "mi /= np.max(mi)\n",
        "\n",
        "# do some plotting\n",
        "plt.figure(figsize=(20, 5))\n",
        "\n",
        "plt.subplot(1,2,1)\n",
        "plt.bar(range(X_train.shape[1]),f_test,  align=\"center\")\n",
        "plt.xticks(range(X_train.shape[1]),feature_names, rotation = 90)\n",
        "plt.axhline(y=0.4, color='r', linestyle='-')\n",
        "plt.xlabel('features')\n",
        "plt.ylabel('Ranking')\n",
        "plt.title('$R^2$ score')\n",
        "\n",
        "plt.subplot(1,2,2)\n",
        "plt.bar(range(X_train.shape[1]),mi, align=\"center\")\n",
        "plt.xticks(range(X_train.shape[1]),feature_names, rotation = 90)\n",
        "plt.axhline(y=0.4, color='r', linestyle='-')\n",
        "plt.xlabel('features')\n",
        "plt.ylabel('Ranking')\n",
        "plt.title('Mutual information score')\n",
        "\n",
        "plt.show()"
      ],
      "id": "396cafee"
    },
    {
      "cell_type": "markdown",
      "metadata": {
        "id": "4831b6c8"
      },
      "source": [
        "Amenities resalta en todas las pruebas por tener una comportamiento interesante con respecto al precio. Mucho más que otros factores, que hubiera considerado importantes, como las camas, el número de baños, la calle o el Barrio. \n",
        "\n",
        "Voy a correr el modelo así para tener un punto de comparación -->"
      ],
      "id": "4831b6c8"
    },
    {
      "cell_type": "code",
      "execution_count": null,
      "metadata": {
        "id": "00798600"
      },
      "outputs": [],
      "source": [
        "alpha_vector = np.logspace(-1,10,50)\n",
        "param_grid = {'alpha': alpha_vector }\n",
        "grid = GridSearchCV(Lasso(), scoring= 'neg_mean_squared_error', param_grid=param_grid, cv = 100)\n",
        "grid.fit(XtrainScaled, y_train)\n",
        "print(\"best mean cross-validation score: {:.3f}\".format(grid.best_score_))\n",
        "print(\"best parameters: {}\".format(grid.best_params_))\n",
        "\n",
        "#-1 porque es negado\n",
        "scores = -1*np.array(grid.cv_results_['mean_test_score'])\n",
        "plt.semilogx(alpha_vector,scores,'-o')\n",
        "plt.xlabel('alpha',fontsize=16)\n",
        "plt.ylabel('5-Fold MSE')\n",
        "plt.show()"
      ],
      "id": "00798600"
    },
    {
      "cell_type": "code",
      "execution_count": null,
      "metadata": {
        "id": "d0553e85",
        "scrolled": true
      },
      "outputs": [],
      "source": [
        "df_new.describe()"
      ],
      "id": "d0553e85"
    },
    {
      "cell_type": "code",
      "execution_count": null,
      "metadata": {
        "id": "01ef86ad"
      },
      "outputs": [],
      "source": [
        "from sklearn.metrics import mean_squared_error\n",
        "\n",
        "alpha_optimo = grid.best_params_['alpha']\n",
        "lasso = Lasso(alpha = alpha_optimo).fit(XtrainScaled,y_train)\n",
        "\n",
        "ytrainLasso = lasso.predict(XtrainScaled)\n",
        "#ytestLasso  = lasso.predict(XtestScaled)\n",
        "mseTrainModelLasso = mean_squared_error(y_train,ytrainLasso)\n",
        "#mseTestModelLasso = mean_squared_error(y_test,ytestLasso)\n",
        "\n",
        "print('MSE Modelo Lasso (train): %0.3g' % mseTrainModelLasso)\n",
        "#print('MSE Modelo Lasso (test) : %0.3g' % mseTestModelLasso)\n",
        "\n",
        "print('RMSE Modelo Lasso (train): %0.3g' % np.sqrt(mseTrainModelLasso))\n",
        "#print('RMSE Modelo Lasso (test) : %0.3g' % np.sqrt(mseTestModelLasso))\n",
        "\n",
        "w = lasso.coef_\n",
        "for f,wi in zip(feature_names,w):\n",
        "    print(f,wi)"
      ],
      "id": "01ef86ad"
    },
    {
      "cell_type": "markdown",
      "metadata": {
        "id": "2cb0c738"
      },
      "source": [
        "### IMPORTANTE\n",
        "\n",
        "Amenities muestra una correlación muy elevada con los resultados de Price. Voy a eliminarla para hacer una prueba y ver si no estoy dejando variables importantes de lado. \n",
        "\n",
        "Analizando los datos originales de Amenities, incluye las mismas alternativas, pero puestas en distitno orden. El codificador ha detectado casi todas, como variables diferentes y, por tanto, la alta correlación viene de una mala clasificación de las mismas. \n",
        "\n",
        "Creo que es una variable importante, aunque para facilitar mi avance la borraré. \n",
        "\n",
        "Esto me dará mayor relevancia para el resto de las variables. \n",
        "\n",
        "Con un poco más de tiempo, lo que haría, sería abordarlo como conjuntos, en donde pudiera detectar cuáles tienen qué componentes, independientemente del orden. \n"
      ],
      "id": "2cb0c738"
    },
    {
      "cell_type": "code",
      "execution_count": null,
      "metadata": {
        "id": "6ff088cc"
      },
      "outputs": [],
      "source": [
        "df_prueba = df_new.drop(['Amenities'], axis=1)\n",
        "data3 = df_prueba.values\n",
        "y_train = data3[:,0:1]     # nos quedamos con la 1ª columna, price\n",
        "X_train = data3[:,1:]      # nos quedamos con el resto\n",
        "feature_names = df_new.columns[1:]\n",
        "# Escalamos (con los datos de train)\n",
        "scaler = preprocessing.StandardScaler().fit(X_train)\n",
        "XtrainScaled = scaler.transform(X_train)\n",
        "\n",
        "data3 = df_prueba.values \n",
        "\n",
        "feature_names = df_prueba.columns[1:]\n",
        "\n",
        "\n",
        "# do calculations\n",
        "f_test, _ = f_regression(X_train, y_train)\n",
        "f_test /= np.max(f_test)\n",
        "\n",
        "mi = mutual_info_regression(X_train, y_train)\n",
        "mi /= np.max(mi)\n",
        "\n",
        "# do some plotting\n",
        "plt.figure(figsize=(20, 5))\n",
        "\n",
        "plt.subplot(1,2,1)\n",
        "plt.bar(range(X_train.shape[1]),f_test,  align=\"center\")\n",
        "plt.xticks(range(X_train.shape[1]),feature_names, rotation = 90)\n",
        "plt.axhline(y=0.4, color='r', linestyle='-')\n",
        "plt.xlabel('features')\n",
        "plt.ylabel('Ranking')\n",
        "plt.title('$R^2$ score')\n",
        "\n",
        "plt.subplot(1,2,2)\n",
        "plt.bar(range(X_train.shape[1]),mi, align=\"center\")\n",
        "plt.xticks(range(X_train.shape[1]),feature_names, rotation = 90)\n",
        "plt.axhline(y=0.4, color='r', linestyle='-')\n",
        "plt.xlabel('features')\n",
        "plt.ylabel('Ranking')\n",
        "plt.title('Mutual information score')\n",
        "\n",
        "plt.show()"
      ],
      "id": "6ff088cc"
    },
    {
      "cell_type": "code",
      "execution_count": null,
      "metadata": {
        "id": "7240724c"
      },
      "outputs": [],
      "source": [
        "alpha_vector = np.logspace(-5,3,50)\n",
        "param_grid = {'alpha': alpha_vector }\n",
        "grid = GridSearchCV(Lasso(), scoring= 'neg_mean_squared_error', param_grid=param_grid, cv = 100)\n",
        "grid.fit(XtrainScaled, y_train1)\n",
        "print(\"best mean cross-validation score: {:.3f}\".format(grid.best_score_))\n",
        "print(\"best parameters: {}\".format(grid.best_params_))\n",
        "\n",
        "#-1 porque es negado\n",
        "scores = -1*np.array(grid.cv_results_['mean_test_score'])\n",
        "plt.semilogx(alpha_vector,scores,'-o')\n",
        "plt.xlabel('alpha',fontsize=16)\n",
        "plt.ylabel('5-Fold MSE')\n",
        "plt.show()"
      ],
      "id": "7240724c"
    },
    {
      "cell_type": "code",
      "execution_count": null,
      "metadata": {
        "id": "2e5b73a1"
      },
      "outputs": [],
      "source": [
        "alpha_optimo = grid.best_params_['alpha']\n",
        "lasso = Lasso(alpha = alpha_optimo).fit(XtrainScaled,y_train1)\n",
        "\n",
        "ytrainLasso = lasso.predict(XtrainScaled)\n",
        "#ytestLasso  = lasso.predict(XtestScaled)\n",
        "mseTrainModelLasso = mean_squared_error(y_train1,ytrainLasso)\n",
        "#mseTestModelLasso = mean_squared_error(y_test,ytestLasso)\n",
        "\n",
        "print('MSE Modelo Lasso (train): %0.3g' % mseTrainModelLasso)\n",
        "#print('MSE Modelo Lasso (test) : %0.3g' % mseTestModelLasso)\n",
        "\n",
        "print('RMSE Modelo Lasso (train): %0.3g' % np.sqrt(mseTrainModelLasso))\n",
        "#print('RMSE Modelo Lasso (test) : %0.3g' % np.sqrt(mseTestModelLasso))\n",
        "\n",
        "w = lasso.coef_\n",
        "for f,wi in zip(feature_names,w):\n",
        "    print(f,wi)"
      ],
      "id": "2e5b73a1"
    },
    {
      "cell_type": "markdown",
      "metadata": {
        "id": "11402758"
      },
      "source": [
        "Existen varios coeficientes = 0:\n",
        "- Property Type\n",
        "- Neighbourhood Cleansed\n",
        "- Host Verifications\n",
        "- Host Response Time\n",
        "- Latitude\n",
        "- Longitude \n",
        "- Review Scores Checkin \n",
        "- Review Scores Location \n",
        "- Review Scorew Value \n"
      ],
      "id": "11402758"
    },
    {
      "cell_type": "markdown",
      "metadata": {
        "id": "4796518d"
      },
      "source": [
        "Las elimino de los datos -->"
      ],
      "id": "4796518d"
    },
    {
      "cell_type": "code",
      "execution_count": null,
      "metadata": {
        "id": "01bf940c"
      },
      "outputs": [],
      "source": [
        "df_prueba = df_prueba.drop(['Review Scores Location', 'Review Scores Value', 'Maximum Nights', 'Longitude', \n",
        "                        'Latitude', 'Host Response Time', 'Host Verifications', 'Property Type'], axis = 1)"
      ],
      "id": "01bf940c"
    },
    {
      "cell_type": "code",
      "execution_count": null,
      "metadata": {
        "id": "90d6b718"
      },
      "outputs": [],
      "source": [
        "n_alphas = 20\n",
        "alphas = np.logspace(-5, 3, n_alphas)\n",
        "# ...\n",
        "coefs = []\n",
        "\n",
        "norm2_coefs = []\n",
        "for a in alphas:\n",
        "    #### TU CÓDIGO AQUÍ\n",
        "    lasso = Lasso(alpha = a).fit(X_train1,y_train1)\n",
        "    \n",
        "    #####\n",
        "    coefs.append(lasso.coef_)\n",
        "    norm2_coefs.append(np.dot(lasso.coef_,lasso.coef_.T))\n",
        "\n",
        "# Display results\n",
        "plt.figure(figsize=(14, 5))\n",
        "\n",
        "ax = plt.subplot(1, 2, 1)\n",
        "ax.plot(alphas, coefs)\n",
        "ax.set_xscale('log')\n",
        "ax.set_xlim(ax.get_xlim()[::-1])  # reverse axis\n",
        "plt.xlabel('alpha')\n",
        "plt.ylabel('$w_i$')\n",
        "plt.title('Coeficientes en función de la regularización')\n",
        "plt.axis('tight')\n",
        "\n",
        "\n",
        "ax = plt.subplot(1, 2, 2)\n",
        "ax.plot(alphas, norm2_coefs)\n",
        "ax.set_xscale('log')\n",
        "ax.set_xlim(ax.get_xlim()[::-1])  # reverse axis\n",
        "plt.xlabel('alpha')\n",
        "plt.ylabel('$||\\mathbf{w}||^2_2$')\n",
        "plt.title('Norma de los coeffs en función de la regularización')\n",
        "plt.axis('tight')\n",
        "plt.show()"
      ],
      "id": "90d6b718"
    },
    {
      "cell_type": "markdown",
      "metadata": {
        "id": "0f4d008f"
      },
      "source": [
        "El análisis sin Amenities, me da un nivel de error similar, pero me permite ver mejor cómo juegan otras variables. \n",
        "\n",
        "De esta manera, me aparecen con coeficientes = 0 las siguientes: Longitude y Neighbourhood Cleansed. Los eliminaré y continuaré el ejercicio. "
      ],
      "id": "0f4d008f"
    },
    {
      "cell_type": "markdown",
      "metadata": {
        "id": "b08c31a5"
      },
      "source": [
        "## El error se ha incrementado a 27,5€, sin embargo, se ha reducido mucho la complejidad. Las variables con las que continuaremos son:\n"
      ],
      "id": "b08c31a5"
    },
    {
      "cell_type": "code",
      "execution_count": null,
      "metadata": {
        "id": "f21740c4"
      },
      "outputs": [],
      "source": [
        "print(\"El número de variables restante es \", len(df_prueba.columns.values))\n"
      ],
      "id": "f21740c4"
    },
    {
      "cell_type": "markdown",
      "metadata": {
        "id": "bb2f8019"
      },
      "source": [
        "Reduzco el modelo en lasso para quedar únicamente con estas variables --> \n"
      ],
      "id": "bb2f8019"
    },
    {
      "cell_type": "code",
      "execution_count": null,
      "metadata": {
        "id": "1d793bca"
      },
      "outputs": [],
      "source": [
        "df_new = df_prueba"
      ],
      "id": "1d793bca"
    },
    {
      "cell_type": "markdown",
      "metadata": {
        "id": "ff3fd758"
      },
      "source": [
        "Este es el conjunto de variables con el que trabajaré a partir de ahora:"
      ],
      "id": "ff3fd758"
    },
    {
      "cell_type": "code",
      "execution_count": null,
      "metadata": {
        "id": "650545d3"
      },
      "outputs": [],
      "source": [
        "Recuperar_lasso = df_new\n",
        "print(\"Me quedo para continuar con \", len(df_new.columns), \"variables.\")\n",
        "print(\"Las variables son --> \", df_new.columns)\n",
        "      "
      ],
      "id": "650545d3"
    },
    {
      "cell_type": "markdown",
      "metadata": {
        "id": "162b54b5"
      },
      "source": [
        "#### Resetear df_new con valores de Lasso"
      ],
      "id": "162b54b5"
    },
    {
      "cell_type": "code",
      "execution_count": null,
      "metadata": {
        "id": "73d6292f"
      },
      "outputs": [],
      "source": [
        "df_new = Recuperar_lasso"
      ],
      "id": "73d6292f"
    },
    {
      "cell_type": "code",
      "execution_count": null,
      "metadata": {
        "id": "9f0f5746"
      },
      "outputs": [],
      "source": [
        "df_new.head()"
      ],
      "id": "9f0f5746"
    },
    {
      "cell_type": "code",
      "execution_count": null,
      "metadata": {
        "id": "4f96e34b"
      },
      "outputs": [],
      "source": [
        "print(\"Las variables que parecen tener más influencia en los resultados (más de 0,4 en varianza y en mi) son -->\")\n",
        "s = pd.Series((f_test>0.4)+(mi>0.4), name='bools')\n",
        "features_result = feature_names[s.values]\n",
        "print(features_result)"
      ],
      "id": "4f96e34b"
    },
    {
      "cell_type": "code",
      "execution_count": null,
      "metadata": {
        "id": "eb104410"
      },
      "outputs": [],
      "source": [
        "list(features_result)"
      ],
      "id": "eb104410"
    },
    {
      "cell_type": "markdown",
      "metadata": {
        "id": "78a2493f"
      },
      "source": [
        "Voy a correr Lasso una vez más, para ver cómo se comporta si mantengo únicamente estas variables -->"
      ],
      "id": "78a2493f"
    },
    {
      "cell_type": "code",
      "execution_count": null,
      "metadata": {
        "id": "8fb14cb1"
      },
      "outputs": [],
      "source": [
        "df_prueba = df_new[features_result.insert(0, 'Price')]\n",
        "df_prueba.head()"
      ],
      "id": "8fb14cb1"
    },
    {
      "cell_type": "code",
      "execution_count": null,
      "metadata": {
        "id": "eca51835"
      },
      "outputs": [],
      "source": [
        "data3 = df_prueba.values\n",
        "y_train = data3[:,0:1]     # nos quedamos con la 1ª columna, price\n",
        "X_train = data3[:,1:]      # nos quedamos con el resto\n",
        "feature_names = df_new.columns[1:]\n",
        "# Escalamos (con los datos de train)\n",
        "scaler = preprocessing.StandardScaler().fit(X_train)\n",
        "XtrainScaled = scaler.transform(X_train)\n",
        "\n",
        "data3 = df_prueba.values \n",
        "\n",
        "feature_names = df_prueba.columns[1:]\n",
        "\n",
        "\n",
        "# do calculations\n",
        "f_test, _ = f_regression(X_train, y_train)\n",
        "f_test /= np.max(f_test)\n",
        "\n",
        "mi = mutual_info_regression(X_train, y_train)\n",
        "mi /= np.max(mi)\n",
        "\n",
        "# do some plotting\n",
        "plt.figure(figsize=(20, 5))\n",
        "\n",
        "plt.subplot(1,2,1)\n",
        "plt.bar(range(X_train.shape[1]),f_test,  align=\"center\")\n",
        "plt.xticks(range(X_train.shape[1]),feature_names, rotation = 90)\n",
        "plt.axhline(y=0.4, color='r', linestyle='-')\n",
        "plt.xlabel('features')\n",
        "plt.ylabel('Ranking')\n",
        "plt.title('$R^2$ score')\n",
        "\n",
        "plt.subplot(1,2,2)\n",
        "plt.bar(range(X_train.shape[1]),mi, align=\"center\")\n",
        "plt.xticks(range(X_train.shape[1]),feature_names, rotation = 90)\n",
        "plt.axhline(y=0.4, color='r', linestyle='-')\n",
        "plt.xlabel('features')\n",
        "plt.ylabel('Ranking')\n",
        "plt.title('Mutual information score')\n",
        "\n",
        "plt.show()"
      ],
      "id": "eca51835"
    },
    {
      "cell_type": "code",
      "execution_count": null,
      "metadata": {
        "id": "87545dcf"
      },
      "outputs": [],
      "source": [
        "alpha_vector = np.logspace(-5,3,50)\n",
        "param_grid = {'alpha': alpha_vector }\n",
        "grid = GridSearchCV(Lasso(), scoring= 'neg_mean_squared_error', param_grid=param_grid, cv = 100)\n",
        "grid.fit(XtrainScaled, y_train1)\n",
        "print(\"best mean cross-validation score: {:.3f}\".format(grid.best_score_))\n",
        "print(\"best parameters: {}\".format(grid.best_params_))\n",
        "\n",
        "#-1 porque es negado\n",
        "scores = -1*np.array(grid.cv_results_['mean_test_score'])\n",
        "plt.semilogx(alpha_vector,scores,'-o')\n",
        "plt.xlabel('alpha',fontsize=16)\n",
        "plt.ylabel('5-Fold MSE')\n",
        "plt.show()"
      ],
      "id": "87545dcf"
    },
    {
      "cell_type": "code",
      "execution_count": null,
      "metadata": {
        "id": "f27751f6",
        "scrolled": true
      },
      "outputs": [],
      "source": [
        "alpha_optimo = grid.best_params_['alpha']\n",
        "lasso = Lasso(alpha = alpha_optimo).fit(XtrainScaled,y_train1)\n",
        "\n",
        "ytrainLasso = lasso.predict(XtrainScaled)\n",
        "#ytestLasso  = lasso.predict(XtestScaled)\n",
        "mseTrainModelLasso = mean_squared_error(y_train1,ytrainLasso)\n",
        "#mseTestModelLasso = mean_squared_error(y_test,ytestLasso)\n",
        "\n",
        "print('MSE Modelo Lasso (train): %0.3g' % mseTrainModelLasso)\n",
        "#print('MSE Modelo Lasso (test) : %0.3g' % mseTestModelLasso)\n",
        "\n",
        "print('RMSE Modelo Lasso (train): %0.3g' % np.sqrt(mseTrainModelLasso))\n",
        "#print('RMSE Modelo Lasso (test) : %0.3g' % np.sqrt(mseTestModelLasso))\n",
        "\n",
        "w = lasso.coef_\n",
        "for f,wi in zip(feature_names,w):\n",
        "    print(f,wi)"
      ],
      "id": "f27751f6"
    },
    {
      "cell_type": "markdown",
      "metadata": {
        "id": "04da8dc7"
      },
      "source": [
        "## 6. Regresión Lineal \n",
        "\n",
        "Ahora voy a intentar obtener el modelo en base a una regresión lineal. \n",
        "\n",
        "Voy a iniciar con las 31 variables (incluyendo 'Price') que tenía al final de Lasso --> "
      ],
      "id": "04da8dc7"
    },
    {
      "cell_type": "code",
      "execution_count": null,
      "metadata": {
        "id": "289ce7fa"
      },
      "outputs": [],
      "source": [
        "df_prueba = df_new\n",
        "linear_vars = df_prueba.columns\n",
        "data_linear = df_prueba.values"
      ],
      "id": "289ce7fa"
    },
    {
      "cell_type": "code",
      "execution_count": null,
      "metadata": {
        "id": "20866240"
      },
      "outputs": [],
      "source": [
        "y_train_linear = data_linear[:,0:1]     # nos quedamos con la 1ª columna, price\n",
        "X_train_linear = data_linear[:,1:]      # nos quedamos con el resto\n",
        "feature_names_linear = linear_vars[1:]\n"
      ],
      "id": "20866240"
    },
    {
      "cell_type": "code",
      "execution_count": null,
      "metadata": {
        "id": "74a1b4c6"
      },
      "outputs": [],
      "source": [
        "feature_names_linear"
      ],
      "id": "74a1b4c6"
    },
    {
      "cell_type": "code",
      "execution_count": null,
      "metadata": {
        "id": "d5df803c"
      },
      "outputs": [],
      "source": [
        "print(\"Estoy utilizando las siguientes variables --> \", feature_names_linear.values, \"\\n\")\n",
        "\n",
        "poly = PolynomialFeatures(X_train_linear.shape[1])\n",
        "X = poly.fit_transform(X_train_linear.reshape(-1, 1))\n",
        "lr = LinearRegression().fit(X_train_linear,y_train_linear)\n",
        "\n",
        "y_hat = lr.predict(X_train_linear)\n",
        "\n",
        "error_train = np.mean(np.power(y_train_linear-y_hat,2))\n",
        "\n",
        "for number in range(len(feature_names_linear)):\n",
        "    print(feature_names_linear[number], lr.coef_[0,number])\n",
        "\n",
        "print(\"El MSE es -->\", error_train)\n",
        "print(\"El error esperado es de \", np.sqrt(error_train))"
      ],
      "id": "d5df803c"
    },
    {
      "cell_type": "markdown",
      "metadata": {
        "id": "3de20616"
      },
      "source": [
        "Parece bueno, pero me parece que se puede mejorar. Voy a eliminar las variables con coeficientes menores a 0.1. Voy a trabajar con las que me resten, a ver qué resultado me da. "
      ],
      "id": "3de20616"
    },
    {
      "cell_type": "markdown",
      "metadata": {
        "id": "8d590590"
      },
      "source": [
        "Ahora, voy a reducir el número de variables para quedarme con las que tienen coeficientes iguales o superiores a 0.1 -->"
      ],
      "id": "8d590590"
    },
    {
      "cell_type": "code",
      "execution_count": null,
      "metadata": {
        "id": "26cb6881"
      },
      "outputs": [],
      "source": [
        "coeficiente_condicion = pd.Series(lr.coef_[0,] >= 0.1)\n",
        "coeficientes_valiosos = feature_names_linear[coeficiente_condicion].values\n",
        "list(coeficientes_valiosos)"
      ],
      "id": "26cb6881"
    },
    {
      "cell_type": "code",
      "execution_count": null,
      "metadata": {
        "id": "7d5a1675"
      },
      "outputs": [],
      "source": [
        "df_prueba = df_new[features_result.insert(0, 'Price')]\n",
        "df_prueba.head()"
      ],
      "id": "7d5a1675"
    },
    {
      "cell_type": "code",
      "execution_count": null,
      "metadata": {
        "id": "c2ba4a11"
      },
      "outputs": [],
      "source": [
        "linear_vars = df_prueba.columns\n",
        "data_linear = df_prueba.values"
      ],
      "id": "c2ba4a11"
    },
    {
      "cell_type": "code",
      "execution_count": null,
      "metadata": {
        "id": "ee6eb1c4"
      },
      "outputs": [],
      "source": [
        "y_train_linear = data_linear[:,0:1]     # nos quedamos con la 1ª columna, price\n",
        "X_train_linear = data_linear[:,1:]      # nos quedamos con el resto\n",
        "feature_names_linear = linear_vars[1:]\n"
      ],
      "id": "ee6eb1c4"
    },
    {
      "cell_type": "code",
      "execution_count": null,
      "metadata": {
        "id": "82b4aa70"
      },
      "outputs": [],
      "source": [
        "print(\"Estoy utilizando las siguientes variables --> \", features_result.values, \"\\n\")\n",
        "\n",
        "poly = PolynomialFeatures(X_train_linear.shape[1])\n",
        "X = poly.fit_transform(X_train_linear.reshape(-1, 1))\n",
        "lr = LinearRegression().fit(X_train_linear,y_train_linear)\n",
        "\n",
        "y_hat = lr.predict(X_train_linear)\n",
        "\n",
        "error_train = np.mean(np.power(y_train_linear-y_hat,2))\n",
        "\n",
        "for number in range(len(features_result)):\n",
        "    print(features_result[number], lr.coef_[0,number])\n",
        "\n",
        "print(\"El MSE es -->\", error_train)\n",
        "print(\"El error esperado es de \", np.sqrt(error_train))"
      ],
      "id": "82b4aa70"
    },
    {
      "cell_type": "markdown",
      "metadata": {
        "id": "21806b64"
      },
      "source": [
        "#### Vale la pena seguir explorando, con 10 variables, solo he incrementado el error a 29,3€. Valdría la penas generar un bucle. "
      ],
      "id": "21806b64"
    },
    {
      "cell_type": "markdown",
      "metadata": {
        "id": "2c63ee3a"
      },
      "source": [
        "### 7. Clasificar usando Random Forest"
      ],
      "id": "2c63ee3a"
    },
    {
      "cell_type": "markdown",
      "metadata": {
        "id": "8e5f034e"
      },
      "source": [
        "Parto, nuevamente de la base de datos que dejé después de lasso con 10 variables (incluendo 'Price'). \n",
        "\n",
        "Voy a clasificar primero las variables, para comprender cómo afectan a los precios en base a sus características --> "
      ],
      "id": "8e5f034e"
    },
    {
      "cell_type": "code",
      "execution_count": null,
      "metadata": {
        "id": "49344b74"
      },
      "outputs": [],
      "source": [
        "df_prueba = df_new[features_result.insert(0, 'Price')]\n",
        "df_prueba.head()"
      ],
      "id": "49344b74"
    },
    {
      "cell_type": "code",
      "execution_count": null,
      "metadata": {
        "id": "fba4e897"
      },
      "outputs": [],
      "source": [
        "RF_vars = df_prueba.columns\n",
        "RF_vars.shape\n",
        "data_RF = df_prueba.values"
      ],
      "id": "fba4e897"
    },
    {
      "cell_type": "code",
      "execution_count": null,
      "metadata": {
        "id": "b899c4d0"
      },
      "outputs": [],
      "source": [
        "y_train_RF = data_RF[:,0:1]     # nos quedamos con la 1ª columna, price\n",
        "X_train_RF = data_RF[:,1:]      # nos quedamos con el resto\n",
        "feature_names_RF = RF_vars[1:]"
      ],
      "id": "b899c4d0"
    },
    {
      "cell_type": "code",
      "execution_count": null,
      "metadata": {
        "id": "4dbd631c"
      },
      "outputs": [],
      "source": [
        "N,Nfeatures = X_train.shape\n",
        "\n",
        "rf = RandomForestClassifier(max_depth=maxDepthOptimo,n_estimators=200,max_features='sqrt')\n",
        "kf  = KFold(n_splits=10, shuffle = True, random_state=1)\n",
        "cv_error = []\n",
        "cv_std = []\n",
        "\n",
        "for nfeatures in range(Nfeatures,0,-1):\n",
        "        \n",
        "    error_i = []\n",
        "    \n",
        "    for idxTrain, idxVal in kf.split(X_train_RF):\n",
        "        \n",
        "        Xt = X_train_RF[idxTrain,:]\n",
        "        yt = y_train_RF[idxTrain]\n",
        "        Xv = X_train_RF[idxVal,:]\n",
        "        yv = y_train_RF[idxVal]\n",
        "        \n",
        "        rf.fit(Xt,yt)\n",
        "        \n",
        "        ranking = rf.feature_importances_\n",
        "        indices = np.argsort(ranking)[::-1] \n",
        "    \n",
        "        selected = indices[0:(Nfeatures-nfeatures+1)]\n",
        "        \n",
        "        Xs = Xt[:,selected]\n",
        "        \n",
        "        rf.fit(Xs,yt)\n",
        "        error = (1.0-rf.score(Xv[:,selected],yv))     \n",
        "        error_i.append(error) \n",
        "    \n",
        "    cv_error.append(np.mean(error_i))\n",
        "    cv_std.append(np.std(error_i))\n",
        "    \n",
        "    print('# features ' + str(len(selected)) + ' error ' + str(np.mean(error_i)) + ' +/- ' + str(np.std(error_i)))"
      ],
      "id": "4dbd631c"
    },
    {
      "cell_type": "code",
      "execution_count": null,
      "metadata": {
        "id": "ac8e9230"
      },
      "outputs": [],
      "source": [
        "print(\"El número de variables, incluyendo Price es de --> \", len(feature_names_RF))\n",
        "feature_names_RF\n"
      ],
      "id": "ac8e9230"
    },
    {
      "cell_type": "code",
      "execution_count": null,
      "metadata": {
        "id": "0b80d181"
      },
      "outputs": [],
      "source": [
        "maxDepth = range(1,15)\n",
        "tuned_parameters = {'max_depth': maxDepth}\n",
        "\n",
        "grid = GridSearchCV(RandomForestRegressor(random_state=0, n_estimators=20, max_features='sqrt'), param_grid=tuned_parameters,cv=10, verbose=1) \n",
        "grid.fit(X_train_RF, y_train_RF)\n",
        "\n",
        "print(\"best mean cross-validation score: {:.3f}\".format(grid.best_score_))\n",
        "print(\"best parameters: {}\".format(grid.best_params_))\n",
        "\n",
        "scores = np.array(grid.cv_results_['mean_test_score'])\n",
        "plt.plot(maxDepth,scores,'-o')\n",
        "plt.xlabel('max_depth')\n",
        "plt.ylabel('10-fold ACC')\n",
        "\n",
        "plt.show()"
      ],
      "id": "0b80d181"
    },
    {
      "cell_type": "markdown",
      "metadata": {
        "id": "d5dfc06f"
      },
      "source": [
        "El mejor resultado me lo da con 12."
      ],
      "id": "d5dfc06f"
    },
    {
      "cell_type": "code",
      "execution_count": null,
      "metadata": {
        "id": "c567354d"
      },
      "outputs": [],
      "source": [
        "maxDepthOptimo = grid.best_params_['max_depth']\n",
        "bagModel = RandomForestClassifier(max_depth=maxDepthOptimo,n_estimators=200,max_features='sqrt').fit(X_train,y_train)\n",
        "\n",
        "print(\"Train: \",bagModel.score(X_train,y_train))\n",
        "#print(\"Test: \",bagModel.score(X_test,y_test))"
      ],
      "id": "c567354d"
    },
    {
      "cell_type": "markdown",
      "metadata": {
        "id": "e6a9826a"
      },
      "source": [
        "Me parece un resultado muy alto. Veremos con el test. "
      ],
      "id": "e6a9826a"
    },
    {
      "cell_type": "code",
      "execution_count": null,
      "metadata": {
        "id": "ffa32da9"
      },
      "outputs": [],
      "source": [
        "importances = bagModel.feature_importances_\n",
        "importances = importances / np.max(importances)\n",
        "\n",
        "indices = np.argsort(importances)[::-1]\n",
        "\n",
        "plt.figure(figsize=(10,10))\n",
        "plt.barh(range(X_train.shape[1]),importances[indices])\n",
        "plt.yticks(range(X_train.shape[1]),feature_names_RF[indices])\n",
        "plt.show()"
      ],
      "id": "ffa32da9"
    },
    {
      "cell_type": "markdown",
      "metadata": {
        "id": "626aa1b9"
      },
      "source": [
        "Parece que el precio es determinado, primero por la experiencia y las primeras evaluaciones, seguido por su ubicación y el número de camas. "
      ],
      "id": "626aa1b9"
    },
    {
      "cell_type": "markdown",
      "metadata": {
        "id": "c709f1e8"
      },
      "source": [
        "## TEST!!!!"
      ],
      "id": "c709f1e8"
    },
    {
      "cell_type": "markdown",
      "metadata": {
        "id": "9d21f196"
      },
      "source": [
        "## 8. Test. \n",
        "\n",
        "Ahora repetiré unicamente los cambios realizados en Train, sin comentarios, hasta la comparación de los resultados y el análisis del overfitting. "
      ],
      "id": "9d21f196"
    },
    {
      "cell_type": "code",
      "execution_count": null,
      "metadata": {
        "id": "18b79ae3"
      },
      "outputs": [],
      "source": [
        "df_test = pd.read_csv('./test.csv', sep=';', decimal='.')"
      ],
      "id": "18b79ae3"
    },
    {
      "cell_type": "code",
      "execution_count": null,
      "metadata": {
        "id": "eb061d2b"
      },
      "outputs": [],
      "source": [
        "df_test.shape"
      ],
      "id": "eb061d2b"
    },
    {
      "cell_type": "code",
      "execution_count": null,
      "metadata": {
        "id": "f394f876"
      },
      "outputs": [],
      "source": [
        "lista_columnas = list(df_test.columns.values)\n",
        "print(\"La lista inicial de las columnas de train es --> \", lista_columnas)"
      ],
      "id": "f394f876"
    },
    {
      "cell_type": "markdown",
      "metadata": {
        "id": "3465feed"
      },
      "source": [
        "primero, elimino la columna de \"Country\", pues no aporta nada en este análisis --> "
      ],
      "id": "3465feed"
    },
    {
      "cell_type": "code",
      "execution_count": null,
      "metadata": {
        "id": "23abf6b9"
      },
      "outputs": [],
      "source": [
        "i = \"Country\"\n",
        "print(\"Valido que 'Country' se encuentra en la lista_columnas - original - \\n\")\n",
        "if i in lista_columnas:\n",
        "    print(\"Sí Existe\\n\")\n",
        "else:\n",
        "    print(\"No Existe\\n\")\n",
        "df_test = df_test.drop('Country', axis=1)\n",
        "lista_columnas = list(df_test.columns.values)\n",
        "print(\"\\nLa nueva lista de columnas es --> \\n \\n\", lista_columnas, \"\\n\")\n",
        "if i in lista_columnas:\n",
        "    print(\"Sí Existe\\n\")\n",
        "else:\n",
        "    print(\"No Existe\\n\")"
      ],
      "id": "23abf6b9"
    },
    {
      "cell_type": "markdown",
      "metadata": {
        "id": "adb913bd"
      },
      "source": [
        "Ahora, eliminaré la siguiente lista de columnas, que tienen menos del más del 30% de NAs"
      ],
      "id": "adb913bd"
    },
    {
      "cell_type": "code",
      "execution_count": null,
      "metadata": {
        "id": "c052ae88"
      },
      "outputs": [],
      "source": [
        "df_test.drop(['Neighborhood Overview', 'Notes', 'Transit', 'Access', 'Interaction', 'House Rules', 'Host About', 'Host Acceptance Rate', 'Neighbourhood', 'Square Feet', 'Weekly Price', 'Monthly Price', 'Security Deposit', 'Cleaning Fee', 'Has Availability', 'License', 'Jurisdiction Names'], axis = 1, inplace=True)"
      ],
      "id": "c052ae88"
    },
    {
      "cell_type": "code",
      "execution_count": null,
      "metadata": {
        "id": "323d6bd7"
      },
      "outputs": [],
      "source": [
        "print(\"Verifico si alguno de las columnas existe aún --> \")\n",
        "print(\"El tamaño de original de la lista de columnas es \", len(lista_columnas))\n",
        "lista_columnas = list(df_test.columns.values)\n",
        "print(\"El tamaño nuevo de la lista de columnas es \", len(lista_columnas))\n",
        "print(df_test.shape)\n",
        "for i in ['Neighborhood Overview', 'Notes', 'Transit', 'Access', 'Interaction', 'House Rules', 'Host About', 'Host Acceptance Rate', 'Neighbourhood', 'Square Feet', 'Weekly Price', 'Monthly Price', 'Security Deposit', 'Cleaning Fee', 'Has Availability', 'License', 'Jurisdiction Names']:\n",
        "    if i in lista_columnas:\n",
        "        print(i, \"está en la lista!!! \\n\")\n",
        "    else:\n",
        "        print(i, \"se ha borrado de la lista --> OK \\n\")"
      ],
      "id": "323d6bd7"
    },
    {
      "cell_type": "markdown",
      "metadata": {
        "id": "7cb4b6d3"
      },
      "source": [
        "Ahora voy a confirmar que los datos de las filas con los siguientes valores en \"Market\" --> nan, 'Toledo', 'Other (International)', 'London', 'Deauville', 'Barcelona', 'Mallorca Island' se borraron en el paso donde filtré Madrid"
      ],
      "id": "7cb4b6d3"
    },
    {
      "cell_type": "code",
      "execution_count": null,
      "metadata": {
        "id": "559c2919"
      },
      "outputs": [],
      "source": [
        "np.unique(df_test['Market'])"
      ],
      "id": "559c2919"
    },
    {
      "cell_type": "markdown",
      "metadata": {
        "id": "9b5bc0b2"
      },
      "source": [
        "Voy a arreglar los códigos postales -->"
      ],
      "id": "9b5bc0b2"
    },
    {
      "cell_type": "markdown",
      "metadata": {
        "id": "81c52bbc"
      },
      "source": [
        "DataFrame.replace(to_replace=None, value=_NoDefault.no_default, *, inplace=False, limit=None, regex=False, method=_NoDefault.no_default)"
      ],
      "id": "81c52bbc"
    },
    {
      "cell_type": "markdown",
      "metadata": {
        "id": "8c712bf4"
      },
      "source": [
        "* Los que inician con '0' no son de Madrid\n",
        "* Los códigos 46370, 84084,03430, 07320, probablemente no son de Madrid --> Se borrarán\n",
        "* 28002\\n28002 debe reemplazarse por 28002\n",
        "* 2802\\n28012 debe reemplazarse por 28012\n",
        "* 28051\\n28051 debe reemplazarse por 28051\n",
        "* 280013 debe reemplazarse por 28013\n",
        "* 28 es un error se elimina\n",
        "* 08015 parece 28015\n",
        "* 2015 y 2805 probablemente son 28015\n",
        "* 2804 probablemente es 28004\n",
        "* 28051\\n28051 debe reemplazarse por 28051\n",
        "* 29012 debe ser 28012\n",
        "* 27013 debe ser 28013\n",
        "* 20013 debe ser 28013\n",
        "* 20126 debe ser 28126\n",
        "* 27004 debe ser 28004\n",
        "* Hay que eliminar un '-'\n",
        "* 2815 debe ser 28015\n",
        "* Madrid 28004 debe ser 28004\n",
        "* 10100 debe ser 28100\n",
        "* Pondré toda la columna como int\n",
        "* Eliminaré todos los NA"
      ],
      "id": "8c712bf4"
    },
    {
      "cell_type": "code",
      "execution_count": null,
      "metadata": {
        "id": "55c576d0"
      },
      "outputs": [],
      "source": [
        "df_test['Zipcode'] = df_test['Zipcode'].replace({'28002\\n28002':28002, '2802\\n28012':28012, '08015':28015, '28051\\n28051':28051, 'Madrid 28004':28004}, inplace=False)"
      ],
      "id": "55c576d0"
    },
    {
      "cell_type": "code",
      "execution_count": null,
      "metadata": {
        "id": "7926f746"
      },
      "outputs": [],
      "source": [
        "df_test=df_test.dropna(subset=['Zipcode'])"
      ],
      "id": "7926f746"
    },
    {
      "cell_type": "code",
      "execution_count": null,
      "metadata": {
        "id": "b0bfb84e"
      },
      "outputs": [],
      "source": [
        "df_test = df_test.drop(df[df.Zipcode == '-'].index)"
      ],
      "id": "b0bfb84e"
    },
    {
      "cell_type": "code",
      "execution_count": null,
      "metadata": {
        "id": "4d727b7d"
      },
      "outputs": [],
      "source": [
        "df_test = df_test.astype({'Zipcode':'int'})"
      ],
      "id": "4d727b7d"
    },
    {
      "cell_type": "code",
      "execution_count": null,
      "metadata": {
        "id": "6e646d99"
      },
      "outputs": [],
      "source": [
        "df_test['Zipcode'] = df_test['Zipcode'].replace({25008: 28008, 2805:28015, 280013:28013, 2015:28015, 2805:28015, 2804:28004, 29012:28012, 27013:28013, 2815:28015, 10100:28100, 20013: 28013, 20126: 28126, 27004: 28004, 29230:28830}, inplace=False)"
      ],
      "id": "6e646d99"
    },
    {
      "cell_type": "code",
      "execution_count": null,
      "metadata": {
        "id": "94765901"
      },
      "outputs": [],
      "source": [
        "np.unique(df_test.Zipcode)"
      ],
      "id": "94765901"
    },
    {
      "cell_type": "code",
      "execution_count": null,
      "metadata": {
        "id": "607ed570"
      },
      "outputs": [],
      "source": [
        "df_test = df_test.drop(df[df.Zipcode == 28].index)"
      ],
      "id": "607ed570"
    },
    {
      "cell_type": "code",
      "execution_count": null,
      "metadata": {
        "id": "af9f85ac"
      },
      "outputs": [],
      "source": [
        "df_test = df_test.drop(df[df.Zipcode > 30000].index)"
      ],
      "id": "af9f85ac"
    },
    {
      "cell_type": "code",
      "execution_count": null,
      "metadata": {
        "id": "cf7ec151"
      },
      "outputs": [],
      "source": [
        "df_test = df_test.drop(df[df.Zipcode == 3430].index)"
      ],
      "id": "cf7ec151"
    },
    {
      "cell_type": "code",
      "execution_count": null,
      "metadata": {
        "id": "13446d93"
      },
      "outputs": [],
      "source": [
        "df_test = df_test.drop(df[df.Zipcode == 7320].index)"
      ],
      "id": "13446d93"
    },
    {
      "cell_type": "code",
      "execution_count": null,
      "metadata": {
        "id": "91a4c33a"
      },
      "outputs": [],
      "source": [
        "np.unique(df_test.Zipcode)"
      ],
      "id": "91a4c33a"
    },
    {
      "cell_type": "markdown",
      "metadata": {
        "id": "7cbf10b5"
      },
      "source": [
        "### Ahora analizo de la estructura de mi dataframe\n"
      ],
      "id": "7cbf10b5"
    },
    {
      "cell_type": "code",
      "execution_count": null,
      "metadata": {
        "id": "3aa39c84"
      },
      "outputs": [],
      "source": [
        "df_test.dtypes"
      ],
      "id": "3aa39c84"
    },
    {
      "cell_type": "code",
      "execution_count": null,
      "metadata": {
        "id": "e2be78e1"
      },
      "outputs": [],
      "source": [
        "lista_columnas = list(df_test.columns.values)\n",
        "len(lista_columnas)"
      ],
      "id": "e2be78e1"
    },
    {
      "cell_type": "markdown",
      "metadata": {
        "id": "0d75d6a1"
      },
      "source": [
        "Ahora elimino las variables que pudieran ser redundantes, pues apuntan a la misma información. 'Name' no sigue un formato único, por lo que es probable que todas las entradas sean ligeramente distintas, funcionaría igual que 'ID'. La información de Scrape es externa, no aporta tampoco. Por ejemplo, ID está relacionado con nombre. Los datos del Host no son relevantes, salvo los que tengan que ver con la propiedad, como sería Host Response Time, Host Since (experiencia), Host Verifications y el Host ID. Igualmente, las URL que apuntan a la propiedad o las de las imágenes (que no se vana a tratar en este análisis), al ser dentro de airbnb, probablemente, no aporten información relevante. Voy a mantener de momento todas las Neighbourhood, que parecen redundantes, pero tienen información distintaa, para analizarlas un poco más. También elimino Country Code, pues todos están en España. Elimino todos estos. Mantengo todas las Review Scores, pues son evaluaciones de distintos factores por parte de los usuarios. Alguno de los factores podría ser más valorado que otro.  \n",
        "\n",
        "En resumen, elimino Listing Url, Summary, Space, Description, Host Response Rate y Host Picture Url. "
      ],
      "id": "0d75d6a1"
    },
    {
      "cell_type": "code",
      "execution_count": null,
      "metadata": {
        "id": "ca888814"
      },
      "outputs": [],
      "source": [
        "df_test.drop(['Name', \n",
        " 'Listing Url',\n",
        " 'Scrape ID',\n",
        " 'Last Scraped',\n",
        " 'Summary',\n",
        " 'Space',\n",
        " 'Description',\n",
        " 'Host Response Rate',\n",
        " 'Host Picture Url', \n",
        " 'Thumbnail Url',\n",
        " 'Medium Url',\n",
        " 'Picture Url',\n",
        " 'XL Picture Url', \n",
        " 'Host URL', \n",
        " 'Host Name', \n",
        " 'Host Location', \n",
        " 'Host Thumbnail Url',\n",
        " 'Country Code'], axis = 1, inplace=True)"
      ],
      "id": "ca888814"
    },
    {
      "cell_type": "code",
      "execution_count": null,
      "metadata": {
        "id": "82636b80"
      },
      "outputs": [],
      "source": [
        "lista_columnas = list(df_test.columns.values)\n",
        "len(lista_columnas)"
      ],
      "id": "82636b80"
    },
    {
      "cell_type": "markdown",
      "metadata": {
        "id": "7b9578f4"
      },
      "source": [
        "Ya he reducido de 89 columnas en la base original de Madrid a 53. "
      ],
      "id": "7b9578f4"
    },
    {
      "cell_type": "markdown",
      "metadata": {
        "id": "0db4a12b"
      },
      "source": [
        "## 8.1. Ahora, voy a revisar la variable objetivo --> Precio\n",
        "\n",
        "Voy a analizar un poco mi variable objetivo (Precio):"
      ],
      "id": "0db4a12b"
    },
    {
      "cell_type": "code",
      "execution_count": null,
      "metadata": {
        "id": "d30f78e9"
      },
      "outputs": [],
      "source": [
        "df_test['Price'].isnull().any()"
      ],
      "id": "d30f78e9"
    },
    {
      "cell_type": "code",
      "execution_count": null,
      "metadata": {
        "id": "bc3eefef"
      },
      "outputs": [],
      "source": [
        "Price_NA_count = {\"Columna\": 'Price', 'NA': df_test['Price'].isna().sum(), 'NA%': (df_test['Price'].isna().sum()*100/data.shape[0]).round(2)}\n",
        "Price_NA_count"
      ],
      "id": "bc3eefef"
    },
    {
      "cell_type": "code",
      "execution_count": null,
      "metadata": {
        "id": "57c2b2ad"
      },
      "outputs": [],
      "source": [
        "df_test = df_test[df_test['Price'].notna()]"
      ],
      "id": "57c2b2ad"
    },
    {
      "cell_type": "code",
      "execution_count": null,
      "metadata": {
        "id": "cdf793dc"
      },
      "outputs": [],
      "source": [
        "df_test['Price'].isnull().any()"
      ],
      "id": "cdf793dc"
    },
    {
      "cell_type": "code",
      "execution_count": null,
      "metadata": {
        "id": "53fcbda9"
      },
      "outputs": [],
      "source": [
        "df_test['Price'].dtypes"
      ],
      "id": "53fcbda9"
    },
    {
      "cell_type": "markdown",
      "metadata": {
        "id": "2bebb5c7"
      },
      "source": [
        "## 8.2. Ahora, voy a codificar las variables que no tienen número\n",
        "\n",
        "Primero, clasifico por tipo de variable todos las columnas:"
      ],
      "id": "2bebb5c7"
    },
    {
      "cell_type": "code",
      "execution_count": null,
      "metadata": {
        "id": "faa597e7"
      },
      "outputs": [],
      "source": [
        "var_types = df_test.columns.to_series().groupby(df_test.dtypes).groups\n",
        "var_types"
      ],
      "id": "faa597e7"
    },
    {
      "cell_type": "markdown",
      "metadata": {
        "id": "9538ad78"
      },
      "source": [
        "Esta es la lista de variables tipo object: \n",
        "\n",
        "\n",
        "['Experiences Offered', 'Host Since', 'Host Response Time', 'Host Neighbourhood', 'Host Verifications', 'Street', 'Neighbourhood Cleansed', 'Neighbourhood Group Cleansed', 'City', 'State', 'Market', 'Smart Location', 'Property Type', 'Room Type', 'Bed Type', 'Amenities', 'Calendar Updated', 'Calendar last Scraped', 'First Review', 'Last Review', 'Cancellation Policy', 'Geolocation', 'Features']"
      ],
      "id": "9538ad78"
    },
    {
      "cell_type": "code",
      "execution_count": null,
      "metadata": {
        "id": "bc6c0618"
      },
      "outputs": [],
      "source": [
        "var_object = list(df_test.select_dtypes(include='object'))"
      ],
      "id": "bc6c0618"
    },
    {
      "cell_type": "code",
      "execution_count": null,
      "metadata": {
        "id": "6bc70b18"
      },
      "outputs": [],
      "source": [
        "var_object"
      ],
      "id": "6bc70b18"
    },
    {
      "cell_type": "markdown",
      "metadata": {
        "id": "d6b31eaf"
      },
      "source": [
        "Voy a codificar ahora utilizando la media de cada valor en relación con el precio --> "
      ],
      "id": "d6b31eaf"
    },
    {
      "cell_type": "code",
      "execution_count": null,
      "metadata": {
        "id": "8e3f39fa"
      },
      "outputs": [],
      "source": [
        "Recuperar = df_test"
      ],
      "id": "8e3f39fa"
    },
    {
      "cell_type": "code",
      "execution_count": null,
      "metadata": {
        "id": "3b2ac73d"
      },
      "outputs": [],
      "source": [
        "t_enc=ce.TargetEncoder() \n",
        "df_test\n",
        "for to_encode in var_object:\n",
        "    ##print(to_encode, \", \")\n",
        "    df_encoded=t_enc.fit_transform(df_test[to_encode],df_test['Price'])\n",
        "    df_test = df_encoded.join(df_test.drop(to_encode,axis = 1))"
      ],
      "id": "3b2ac73d"
    },
    {
      "cell_type": "markdown",
      "metadata": {
        "id": "e4911e93"
      },
      "source": [
        "#### Mantengo separadas df y df_new_train para poder regresar a la información tratada antes de codificar."
      ],
      "id": "e4911e93"
    },
    {
      "cell_type": "code",
      "execution_count": null,
      "metadata": {
        "id": "30c9c372"
      },
      "outputs": [],
      "source": [
        "Recuperar = df_test"
      ],
      "id": "30c9c372"
    },
    {
      "cell_type": "code",
      "execution_count": null,
      "metadata": {
        "id": "75fb6931"
      },
      "outputs": [],
      "source": [
        "df_test.head().T"
      ],
      "id": "75fb6931"
    },
    {
      "cell_type": "code",
      "execution_count": null,
      "metadata": {
        "id": "be0602dd"
      },
      "outputs": [],
      "source": [
        "df_test.shape"
      ],
      "id": "be0602dd"
    },
    {
      "cell_type": "markdown",
      "metadata": {
        "id": "7e393c2c"
      },
      "source": [
        "¿Cuántas filas tienen valores NULL?"
      ],
      "id": "7e393c2c"
    },
    {
      "cell_type": "code",
      "execution_count": null,
      "metadata": {
        "id": "1f74ea51",
        "scrolled": true
      },
      "outputs": [],
      "source": [
        "print (\"De un total de \",df_test.shape[0], \" columnas, hay \", df_test.dropna().shape[0], \"columnas con valores válidos\")\n",
        "print (\"Esto equivale al \", round(df_test.dropna().shape[0] * 100/ df_test.shape[0],2), \"% de sus información es válida\")\n"
      ],
      "id": "1f74ea51"
    },
    {
      "cell_type": "markdown",
      "metadata": {
        "id": "ba95fe94"
      },
      "source": [
        "Voy a rellenar las variables que se tengan NA con la moda de cada columna. "
      ],
      "id": "ba95fe94"
    },
    {
      "cell_type": "code",
      "execution_count": null,
      "metadata": {
        "id": "9816763f"
      },
      "outputs": [],
      "source": [
        "for name in lista_columnas:\n",
        "    df_test[name].fillna(df_test[name].mode()[0], inplace=True)"
      ],
      "id": "9816763f"
    },
    {
      "cell_type": "markdown",
      "metadata": {
        "id": "92b1810f"
      },
      "source": [
        "Verifico ahora, nuevamente, cuántos NA me quedan --> "
      ],
      "id": "92b1810f"
    },
    {
      "cell_type": "code",
      "execution_count": null,
      "metadata": {
        "id": "30fcd905"
      },
      "outputs": [],
      "source": [
        "print (\"De un total de \",df_test.shape[0], \" columnas, hay \", df_test.dropna().shape[0], \"columnas con valores SIN NULL\")\n",
        "print (\"Esto equivale al \", round(df_test.dropna().shape[0] * 100/ df_test.shape[0],2), \"% tienen valor\")"
      ],
      "id": "30fcd905"
    },
    {
      "cell_type": "markdown",
      "metadata": {
        "id": "638a7e0f"
      },
      "source": [
        "## 8.3. Regularización de los datos "
      ],
      "id": "638a7e0f"
    },
    {
      "cell_type": "markdown",
      "metadata": {
        "id": "c7bae94b"
      },
      "source": [
        "Me aseguro que Precio es mi primer columna -->"
      ],
      "id": "c7bae94b"
    },
    {
      "cell_type": "code",
      "execution_count": null,
      "metadata": {
        "id": "ee008b44"
      },
      "outputs": [],
      "source": [
        "primera_columna = df_test.pop('Price')"
      ],
      "id": "ee008b44"
    },
    {
      "cell_type": "code",
      "execution_count": null,
      "metadata": {
        "id": "2b8335dc"
      },
      "outputs": [],
      "source": [
        "df_test.insert(0, 'Price', primera_columna)"
      ],
      "id": "2b8335dc"
    },
    {
      "cell_type": "code",
      "execution_count": null,
      "metadata": {
        "id": "df14dc26"
      },
      "outputs": [],
      "source": [
        "print(\"Verifico que Precio es la primer columna --> \")\n",
        "df_test.head(2)"
      ],
      "id": "df14dc26"
    },
    {
      "cell_type": "code",
      "execution_count": null,
      "metadata": {
        "id": "a31df057"
      },
      "outputs": [],
      "source": [
        "df_test.drop(['Host Listings Count', \n",
        "            'Host Total Listings Count',\n",
        "            'Availability 60', \n",
        "            'Availability 90',\n",
        "            'State', 'City', 'Accommodates'], axis = 1, inplace=True)"
      ],
      "id": "a31df057"
    },
    {
      "cell_type": "code",
      "execution_count": null,
      "metadata": {
        "id": "d612f005"
      },
      "outputs": [],
      "source": [
        "df_test.drop(['Review Scores Rating'], axis = 1, inplace=True)"
      ],
      "id": "d612f005"
    },
    {
      "cell_type": "code",
      "execution_count": null,
      "metadata": {
        "id": "c1bfd511"
      },
      "outputs": [],
      "source": [
        "df_test.drop(['Experiences Offered'], axis = 1, inplace=True)"
      ],
      "id": "c1bfd511"
    },
    {
      "cell_type": "code",
      "execution_count": null,
      "metadata": {
        "id": "cb3dd798"
      },
      "outputs": [],
      "source": [
        "df_test.drop(['Calendar last Scraped', 'Market', 'Geolocation'], axis = 1, inplace=True)"
      ],
      "id": "cb3dd798"
    },
    {
      "cell_type": "code",
      "execution_count": null,
      "metadata": {
        "id": "2bf112ab"
      },
      "outputs": [],
      "source": [
        "df_test.drop(['Smart Location'], axis = 1, inplace=True)"
      ],
      "id": "2bf112ab"
    },
    {
      "cell_type": "code",
      "execution_count": null,
      "metadata": {
        "id": "ba9dc7ac"
      },
      "outputs": [],
      "source": [
        "df_test.drop(['ID'], axis = 1, inplace=True)"
      ],
      "id": "ba9dc7ac"
    },
    {
      "cell_type": "code",
      "execution_count": null,
      "metadata": {
        "id": "4554a26c"
      },
      "outputs": [],
      "source": [
        "df_test = df_new[df_new['Maximum Nights'] < 1125]"
      ],
      "id": "4554a26c"
    },
    {
      "cell_type": "code",
      "execution_count": null,
      "metadata": {
        "id": "e093059d"
      },
      "outputs": [],
      "source": [
        "df_test = df_new[df_new['Minimum Nights'] < 100]"
      ],
      "id": "e093059d"
    },
    {
      "cell_type": "code",
      "execution_count": null,
      "metadata": {
        "id": "154f0f6e"
      },
      "outputs": [],
      "source": [
        "df_test = df_new[df_new['Extra People'] < 15]"
      ],
      "id": "154f0f6e"
    },
    {
      "cell_type": "code",
      "execution_count": null,
      "metadata": {
        "id": "466cbd2a"
      },
      "outputs": [],
      "source": [
        "df_regresiones_test = df_test\n",
        "df_test.shape"
      ],
      "id": "466cbd2a"
    },
    {
      "cell_type": "markdown",
      "metadata": {
        "id": "38d85b98"
      },
      "source": [
        "### PARA RECUPÉRAR LOS VALORES DE DF_NEW !!!!!"
      ],
      "id": "38d85b98"
    },
    {
      "cell_type": "markdown",
      "metadata": {
        "id": "63a1e06c"
      },
      "source": [
        "## 8.4. Regresión Lasso\n",
        "\n",
        "Contrasto los resultados en Lasso Train vs Test\n",
        "\n",
        "\n",
        "Primero divido en y y X -->"
      ],
      "id": "63a1e06c"
    },
    {
      "cell_type": "code",
      "execution_count": null,
      "metadata": {
        "id": "0689c0ce"
      },
      "outputs": [],
      "source": [
        "df_test = df_regresiones_test\n",
        "df_new = df_regresiones\n",
        "print(\"Test -->\", df_test.shape, \"Train --> \", df_new.shape)"
      ],
      "id": "0689c0ce"
    },
    {
      "cell_type": "code",
      "execution_count": null,
      "metadata": {
        "id": "438ef0a1"
      },
      "outputs": [],
      "source": [
        "data2 = df_new.values\n",
        "y_train = data2[:,0:1]     # nos quedamos con la 1ª columna, price\n",
        "X_train = data2[:,1:]      # nos quedamos con el resto\n",
        "feature_names = df_new.columns[1:]\n",
        "# Escalamos (con los datos de train)\n",
        "scaler = preprocessing.StandardScaler().fit(X_train)\n",
        "XtrainScaled = scaler.transform(X_train)"
      ],
      "id": "438ef0a1"
    },
    {
      "cell_type": "code",
      "execution_count": null,
      "metadata": {
        "id": "2150ecf6"
      },
      "outputs": [],
      "source": [
        "df_test = df_test.drop(['Amenities'], axis=1)\n",
        "df_new = df_new.drop(['Amenities'], axis=1)"
      ],
      "id": "2150ecf6"
    },
    {
      "cell_type": "markdown",
      "metadata": {
        "id": "11c050fe"
      },
      "source": [
        "Las elimino de los datos -->"
      ],
      "id": "11c050fe"
    },
    {
      "cell_type": "code",
      "execution_count": null,
      "metadata": {
        "id": "a8b7fb01"
      },
      "outputs": [],
      "source": [
        "df_test = df_test.drop(['Review Scores Location', 'Review Scores Value', 'Maximum Nights', 'Longitude', \n",
        "                        'Latitude', 'Host Response Time', 'Host Verifications', 'Property Type'], axis = 1)\n",
        "df_new = df_new.drop(['Review Scores Location', 'Review Scores Value', 'Maximum Nights', 'Longitude', \n",
        "                        'Latitude', 'Host Response Time', 'Host Verifications', 'Property Type'], axis = 1)"
      ],
      "id": "a8b7fb01"
    },
    {
      "cell_type": "code",
      "execution_count": null,
      "metadata": {
        "id": "c9fc1fcb"
      },
      "outputs": [],
      "source": [
        "print(\"Me quedo para continuar con \", len(df_new.columns), \"variables.\")\n",
        "print(\"Las variables son --> \", df_new.columns)\n",
        "print(\"Test -->\", df_test.shape, \"Train --> \", df_new.shape)\n",
        "      "
      ],
      "id": "c9fc1fcb"
    },
    {
      "cell_type": "markdown",
      "metadata": {
        "id": "b3512e13"
      },
      "source": [
        "#### Resetear df_new con valores de Lasso"
      ],
      "id": "b3512e13"
    },
    {
      "cell_type": "code",
      "execution_count": null,
      "metadata": {
        "id": "3e49d00b"
      },
      "outputs": [],
      "source": [
        "Recuperar_lasso = df_new\n",
        "Recuperar_lasso_test = df_test"
      ],
      "id": "3e49d00b"
    },
    {
      "cell_type": "code",
      "execution_count": null,
      "metadata": {
        "id": "72b5a007"
      },
      "outputs": [],
      "source": [
        "df_new = Recuperar_lasso\n",
        "df_test = Recuperar_lasso_test\n",
        "df_test.shape"
      ],
      "id": "72b5a007"
    },
    {
      "cell_type": "code",
      "execution_count": null,
      "metadata": {
        "id": "a9e292a7"
      },
      "outputs": [],
      "source": [
        "features_result = ['Price','First Review','Room Type','Neighbourhood Cleansed','Street','Host Neighbourhood','Host Since','Host ID',\n",
        "                   'Bedrooms','Beds','Calculated host listings count']\n",
        "df_test = df_test[features_result]\n",
        "print(df_test.shape)\n",
        "df_new = df_new[features_result]\n",
        "print(df_new.shape)\n",
        "\n",
        "    \n"
      ],
      "id": "a9e292a7"
    },
    {
      "cell_type": "markdown",
      "metadata": {
        "id": "958d8820"
      },
      "source": [
        "Voy a correr Lasso una vez más, para ver cómo se comporta con las variables que he elegido -->"
      ],
      "id": "958d8820"
    },
    {
      "cell_type": "code",
      "execution_count": null,
      "metadata": {
        "id": "05a56847"
      },
      "outputs": [],
      "source": [
        "data2 = df_new.values\n",
        "y_train = data2[:,0:1]     # nos quedamos con la 1ª columna, price\n",
        "X_train = data2[:,1:]      # nos quedamos con el resto\n",
        "feature_names = df_new.columns[1:]\n",
        "\n",
        "data2_test = df_test.values\n",
        "y_test = data2_test[:,0:1]     # nos quedamos con la 1ª columna, price\n",
        "X_test = data2_test[:,1:]      # nos quedamos con el resto\n",
        "feature_names = df_test.columns[1:]\n",
        "\n",
        "# Escalamos (con los datos de train)\n",
        "scaler = preprocessing.StandardScaler().fit(X_train)\n",
        "XtrainScaled = scaler.transform(X_train)\n",
        "XtestScaled = scaler.transform(X_test)"
      ],
      "id": "05a56847"
    },
    {
      "cell_type": "code",
      "execution_count": null,
      "metadata": {
        "id": "b9c07bbd"
      },
      "outputs": [],
      "source": [
        "# do calculations\n",
        "f_test, _ = f_regression(X_train, y_train)\n",
        "f_test /= np.max(f_test)\n",
        "\n",
        "mi = mutual_info_regression(X_train, y_train)\n",
        "mi /= np.max(mi)\n",
        "\n",
        "# do some plotting\n",
        "plt.figure(figsize=(20, 5))\n",
        "\n",
        "plt.subplot(1,2,1)\n",
        "plt.bar(range(X_train.shape[1]),f_test,  align=\"center\")\n",
        "plt.xticks(range(X_train.shape[1]),feature_names, rotation = 90)\n",
        "plt.axhline(y=0.4, color='r', linestyle='-')\n",
        "plt.xlabel('features')\n",
        "plt.ylabel('Ranking')\n",
        "plt.title('$R^2$ score')\n",
        "\n",
        "plt.subplot(1,2,2)\n",
        "plt.bar(range(X_train.shape[1]),mi, align=\"center\")\n",
        "plt.xticks(range(X_train.shape[1]),feature_names, rotation = 90)\n",
        "plt.axhline(y=0.4, color='r', linestyle='-')\n",
        "plt.xlabel('features')\n",
        "plt.ylabel('Ranking')\n",
        "plt.title('Mutual information score')\n",
        "\n",
        "plt.show()"
      ],
      "id": "b9c07bbd"
    },
    {
      "cell_type": "markdown",
      "metadata": {
        "id": "fc6c478e"
      },
      "source": [
        "Parece que en Train las variables elegidas tienen un buen comportamiento! \n"
      ],
      "id": "fc6c478e"
    },
    {
      "cell_type": "code",
      "execution_count": null,
      "metadata": {
        "id": "f81bff96"
      },
      "outputs": [],
      "source": [
        "alpha_vector = np.logspace(-1,10,50)\n",
        "param_grid = {'alpha': alpha_vector }\n",
        "grid = GridSearchCV(Lasso(), scoring= 'neg_mean_squared_error', param_grid=param_grid, cv = 100)\n",
        "grid.fit(XtrainScaled, y_train)\n",
        "print(\"best mean cross-validation score: {:.3f}\".format(grid.best_score_))\n",
        "print(\"best parameters: {}\".format(grid.best_params_))\n",
        "\n",
        "#-1 porque es negado\n",
        "scores = -1*np.array(grid.cv_results_['mean_test_score'])\n",
        "plt.semilogx(alpha_vector,scores,'-o')\n",
        "plt.xlabel('alpha',fontsize=16)\n",
        "plt.ylabel('5-Fold MSE')\n",
        "plt.show()"
      ],
      "id": "f81bff96"
    },
    {
      "cell_type": "code",
      "execution_count": null,
      "metadata": {
        "id": "80809ddf",
        "scrolled": false
      },
      "outputs": [],
      "source": [
        "df_new.describe()"
      ],
      "id": "80809ddf"
    },
    {
      "cell_type": "code",
      "execution_count": null,
      "metadata": {
        "id": "4971430b"
      },
      "outputs": [],
      "source": [
        "from sklearn.metrics import mean_squared_error\n",
        "\n",
        "alpha_optimo = grid.best_params_['alpha']\n",
        "lasso = Lasso(alpha = alpha_optimo).fit(XtrainScaled,y_train)\n",
        "\n",
        "ytrainLasso = lasso.predict(XtrainScaled)\n",
        "ytestLasso  = lasso.predict(XtestScaled)\n",
        "mseTrainModelLasso = mean_squared_error(y_train,ytrainLasso)\n",
        "mseTestModelLasso = mean_squared_error(y_test,ytestLasso)\n",
        "\n",
        "print('MSE Modelo Lasso (train): %0.3g' % mseTrainModelLasso)\n",
        "print('MSE Modelo Lasso (test) : %0.3g' % mseTestModelLasso)\n",
        "\n",
        "print('RMSE Modelo Lasso (train): %0.3g' % np.sqrt(mseTrainModelLasso))\n",
        "print('RMSE Modelo Lasso (test) : %0.3g' % np.sqrt(mseTestModelLasso))\n",
        "\n",
        "w = lasso.coef_\n",
        "for f,wi in zip(feature_names,w):\n",
        "    print(f,wi)"
      ],
      "id": "4971430b"
    },
    {
      "cell_type": "markdown",
      "metadata": {
        "id": "42f4251a"
      },
      "source": [
        "El resultado muestra un poco de overfitting. Puede ser mejorado!"
      ],
      "id": "42f4251a"
    },
    {
      "cell_type": "code",
      "execution_count": null,
      "metadata": {
        "id": "2b19054c",
        "scrolled": true
      },
      "outputs": [],
      "source": [
        "n_alphas = 20\n",
        "alphas = np.logspace(-5, 3, n_alphas)\n",
        "# ...\n",
        "coefs = []\n",
        "\n",
        "norm2_coefs = []\n",
        "for a in alphas:\n",
        "    #### TU CÓDIGO AQUÍ\n",
        "    lasso = Lasso(alpha = a).fit(X_train,y_train)\n",
        "    \n",
        "    #####\n",
        "    coefs.append(lasso.coef_)\n",
        "    norm2_coefs.append(np.dot(lasso.coef_,lasso.coef_.T))\n",
        "\n",
        "# Display results\n",
        "plt.figure(figsize=(14, 5))\n",
        "\n",
        "ax = plt.subplot(1, 2, 1)\n",
        "ax.plot(alphas, coefs)\n",
        "ax.set_xscale('log')\n",
        "ax.set_xlim(ax.get_xlim()[::-1])  # reverse axis\n",
        "plt.xlabel('alpha')\n",
        "plt.ylabel('$w_i$')\n",
        "plt.title('Coeficientes en función de la regularización')\n",
        "plt.axis('tight')\n",
        "\n",
        "\n",
        "ax = plt.subplot(1, 2, 2)\n",
        "ax.plot(alphas, norm2_coefs)\n",
        "ax.set_xscale('log')\n",
        "ax.set_xlim(ax.get_xlim()[::-1])  # reverse axis\n",
        "plt.xlabel('alpha')\n",
        "plt.ylabel('$||\\mathbf{w}||^2_2$')\n",
        "plt.title('Norma de los coeffs en función de la regularización')\n",
        "plt.axis('tight')\n",
        "plt.show()"
      ],
      "id": "2b19054c"
    },
    {
      "cell_type": "markdown",
      "metadata": {
        "id": "b18fc445"
      },
      "source": [
        "En principio, se podría obtener una buena aproximación con 4 variables. "
      ],
      "id": "b18fc445"
    },
    {
      "cell_type": "markdown",
      "metadata": {
        "id": "6e56f73f"
      },
      "source": [
        "## El error se ha incrementado a 30,5€, sin embargo, se ha reducido mucho la complejidad. \n"
      ],
      "id": "6e56f73f"
    },
    {
      "cell_type": "code",
      "execution_count": null,
      "metadata": {
        "id": "caee6d70"
      },
      "outputs": [],
      "source": [
        "print(\"El número de variables restante es \", len(df_new.columns.values))\n"
      ],
      "id": "caee6d70"
    },
    {
      "cell_type": "markdown",
      "metadata": {
        "id": "82764a0d"
      },
      "source": [
        "## 8.5. Regresión Lineal \n",
        "\n",
        "Ahora voy a intentar obtener el modelo en base a una regresión lineal. \n",
        "\n",
        "Voy a iniciar con las 11 variables (incluyendo 'Price') que tenía al final de Lasso --> "
      ],
      "id": "82764a0d"
    },
    {
      "cell_type": "code",
      "execution_count": null,
      "metadata": {
        "id": "0b611973"
      },
      "outputs": [],
      "source": [
        "df_new = df_regresiones[['Price', 'First Review', 'Room Type', 'Neighbourhood Cleansed', 'Street',\n",
        " 'Host Neighbourhood', 'Host Since', 'Host ID', 'Bedrooms', 'Beds',\n",
        " 'Calculated host listings count']]\n",
        "df_test = df_regresiones_test[['Price', 'First Review', 'Room Type', 'Neighbourhood Cleansed', 'Street',\n",
        " 'Host Neighbourhood', 'Host Since', 'Host ID', 'Bedrooms', 'Beds',\n",
        " 'Calculated host listings count']]"
      ],
      "id": "0b611973"
    },
    {
      "cell_type": "code",
      "execution_count": null,
      "metadata": {
        "id": "be7db3f9"
      },
      "outputs": [],
      "source": [
        "df_test.shape"
      ],
      "id": "be7db3f9"
    },
    {
      "cell_type": "code",
      "execution_count": null,
      "metadata": {
        "id": "0e833357"
      },
      "outputs": [],
      "source": [
        "df_prueba = df_new\n",
        "linear_vars = df_prueba.columns\n",
        "data_linear = df_prueba.values\n",
        "\n",
        "df_prueba_test = df_test\n",
        "linear_vars_test = df_prueba_test.columns\n",
        "data_linear_test = df_prueba_test.values"
      ],
      "id": "0e833357"
    },
    {
      "cell_type": "code",
      "execution_count": null,
      "metadata": {
        "id": "9efbfd08"
      },
      "outputs": [],
      "source": [
        "y_train_linear = data_linear[:,0:1]     # nos quedamos con la 1ª columna, price\n",
        "X_train_linear = data_linear[:,1:]      # nos quedamos con el resto\n",
        "feature_names_linear = linear_vars[1:]\n",
        "\n",
        "y_test_linear = data_linear_test[:,0:1]     # nos quedamos con la 1ª columna, price\n",
        "X_test_linear = data_linear_test[:,1:]      # nos quedamos con el resto\n",
        "feature_names_linear_test = linear_vars[1:]"
      ],
      "id": "9efbfd08"
    },
    {
      "cell_type": "code",
      "execution_count": null,
      "metadata": {
        "id": "5f5228a4"
      },
      "outputs": [],
      "source": [
        "feature_names_linear"
      ],
      "id": "5f5228a4"
    },
    {
      "cell_type": "code",
      "execution_count": null,
      "metadata": {
        "id": "acbd49bc"
      },
      "outputs": [],
      "source": [
        "\n",
        "poly = PolynomialFeatures(X_train_linear.shape[1])\n",
        "X = poly.fit_transform(X_train_linear.reshape(-1, 1))\n",
        "lr = LinearRegression().fit(X_train_linear,y_train_linear)\n",
        "\n",
        "X_test = poly.fit_transform(X_test_linear.reshape(-1, 1))\n",
        "\n",
        "lr_test = LinearRegression().fit(X_test_linear,y_test_linear)\n",
        "\n",
        "y_hat = lr.predict(X_train_linear)\n",
        "y_hat_test = lr.predict(X_test_linear)\n",
        "\n",
        "error_train = np.mean(np.power(y_train_linear-y_hat,2))\n",
        "error_test = np.mean(np.power(y_test_linear-y_hat_test,2))\n",
        "\n",
        "for number in range(len(feature_names_linear)):\n",
        "    print(feature_names_linear[number], lr.coef_[0,number])\n",
        "\n",
        "print(\"El MSE train es -->\", error_train)\n",
        "print(\"El MSE test es -->\", error_test)\n",
        "print(\"El error esperado TRAIN es de \", np.sqrt(error_train))\n",
        "print(\"El error esperado TEST es de \", np.sqrt(error_test))"
      ],
      "id": "acbd49bc"
    },
    {
      "cell_type": "markdown",
      "metadata": {
        "id": "1bcf2b3a"
      },
      "source": [
        "Parece bueno, pero me parece que se puede mejorar. Voy a eliminar las variables con coeficientes menores a 0.1. Voy a trabajar con las que me resten, a ver qué resultado me da. "
      ],
      "id": "1bcf2b3a"
    },
    {
      "cell_type": "markdown",
      "metadata": {
        "id": "421f4e86"
      },
      "source": [
        "Ahora, voy a reducir el número de variables para quedarme con las que tienen coeficientes iguales o superiores a 0.1 -->"
      ],
      "id": "421f4e86"
    },
    {
      "cell_type": "code",
      "execution_count": null,
      "metadata": {
        "id": "4d38aa11"
      },
      "outputs": [],
      "source": [
        "coeficiente_condicion = pd.Series(lr.coef_[0,] >= 0.1)\n",
        "coeficientes_valiosos = feature_names_linear[coeficiente_condicion].values\n",
        "list(coeficientes_valiosos)"
      ],
      "id": "4d38aa11"
    },
    {
      "cell_type": "code",
      "execution_count": null,
      "metadata": {
        "id": "d6551811"
      },
      "outputs": [],
      "source": [
        "df_prueba = df_new[['Price', 'First Review', 'Room Type', 'Street', 'Host Since', 'Bedrooms', 'Beds']]\n",
        "df_prueba_test = df_test[['Price', 'First Review', 'Room Type', 'Street', 'Host Since', 'Bedrooms', 'Beds']]\n",
        "df_prueba_test.head()"
      ],
      "id": "d6551811"
    },
    {
      "cell_type": "code",
      "execution_count": null,
      "metadata": {
        "id": "b4b62317"
      },
      "outputs": [],
      "source": [
        "\n",
        "linear_vars = df_prueba.columns\n",
        "data_linear = df_prueba.values\n",
        "\n",
        "\n",
        "linear_vars_test = df_prueba_test.columns\n",
        "data_linear_test = df_prueba_test.values"
      ],
      "id": "b4b62317"
    },
    {
      "cell_type": "code",
      "execution_count": null,
      "metadata": {
        "id": "0b12a9a5"
      },
      "outputs": [],
      "source": [
        "y_train_linear = data_linear[:,0:1]     # nos quedamos con la 1ª columna, price\n",
        "X_train_linear = data_linear[:,1:]      # nos quedamos con el resto\n",
        "feature_names_linear = linear_vars[1:]\n",
        "\n",
        "y_test_linear = data_linear_test[:,0:1]     # nos quedamos con la 1ª columna, price\n",
        "X_test_linear = data_linear_test[:,1:]      # nos quedamos con el resto\n",
        "feature_names_linear_test = linear_vars[1:]"
      ],
      "id": "0b12a9a5"
    },
    {
      "cell_type": "code",
      "execution_count": null,
      "metadata": {
        "id": "620d4c99",
        "scrolled": true
      },
      "outputs": [],
      "source": [
        "\n",
        "poly = PolynomialFeatures(X_train_linear.shape[1])\n",
        "X = poly.fit_transform(X_train_linear.reshape(-1, 1))\n",
        "lr = LinearRegression().fit(X_train_linear,y_train_linear)\n",
        "\n",
        "X_test = poly.fit_transform(X_test_linear.reshape(-1, 1))\n",
        "\n",
        "lr_test = LinearRegression().fit(X_test_linear,y_test_linear)\n",
        "\n",
        "y_hat = lr.predict(X_train_linear)\n",
        "y_hat_test = lr.predict(X_test_linear)\n",
        "\n",
        "error_train = np.mean(np.power(y_train_linear-y_hat,2))\n",
        "error_test = np.mean(np.power(y_test_linear-y_hat_test,2))\n",
        "\n",
        "for number in range(len(feature_names_linear)):\n",
        "    print(feature_names_linear[number], lr.coef_[0,number])\n",
        "\n",
        "print(\"El MSE train es -->\", error_train)\n",
        "print(\"El MSE test es -->\", error_test)\n",
        "print(\"El error esperado TRAIN es de \", np.sqrt(error_train))\n",
        "print(\"El error esperado TEST es de \", np.sqrt(error_test))"
      ],
      "id": "620d4c99"
    },
    {
      "cell_type": "markdown",
      "metadata": {
        "id": "c42f79dc"
      },
      "source": [
        "Este parece aceptable. Se ve un poco de overfitting. "
      ],
      "id": "c42f79dc"
    },
    {
      "cell_type": "markdown",
      "metadata": {
        "id": "92c1d535"
      },
      "source": [
        "### 8.6. Clasificar usando Random Forest"
      ],
      "id": "92c1d535"
    },
    {
      "cell_type": "markdown",
      "metadata": {
        "id": "51327a64"
      },
      "source": [
        "Parto, en el training original, me salieron valores bastante malos. Voy a intentar con todas las variables después de normalización (39), a ver si mejoran los resultados. "
      ],
      "id": "51327a64"
    },
    {
      "cell_type": "code",
      "execution_count": null,
      "metadata": {
        "id": "2b32ffee"
      },
      "outputs": [],
      "source": [
        "df_new = df_regresiones\n",
        "df_test = df_regresiones_test"
      ],
      "id": "2b32ffee"
    },
    {
      "cell_type": "code",
      "execution_count": null,
      "metadata": {
        "id": "b51f4f4e"
      },
      "outputs": [],
      "source": [
        "print(\"TRAIN --> \", df_new.shape)\n",
        "print(\"TEST --> \", df_test.shape)"
      ],
      "id": "b51f4f4e"
    },
    {
      "cell_type": "code",
      "execution_count": null,
      "metadata": {
        "id": "a45cda47"
      },
      "outputs": [],
      "source": [
        "RF_vars = df_new.columns\n",
        "RF_vars.shape\n",
        "data_RF = df_new.values"
      ],
      "id": "a45cda47"
    },
    {
      "cell_type": "code",
      "execution_count": null,
      "metadata": {
        "id": "eb06dad9"
      },
      "outputs": [],
      "source": [
        "y_train_RF = data_RF[:,0:1]     # nos quedamos con la 1ª columna, price\n",
        "X_train_RF = data_RF[:,1:]      # nos quedamos con el resto\n",
        "feature_names_RF = RF_vars[1:]"
      ],
      "id": "eb06dad9"
    },
    {
      "cell_type": "code",
      "execution_count": null,
      "metadata": {
        "id": "3d468192"
      },
      "outputs": [],
      "source": [
        "N,Nfeatures = X_train.shape\n",
        "\n",
        "rf = RandomForestClassifier(max_depth=maxDepthOptimo,n_estimators=20,max_features='sqrt')\n",
        "kf  = KFold(n_splits=10, shuffle = True, random_state=1)\n",
        "cv_error = []\n",
        "cv_std = []\n",
        "\n",
        "for nfeatures in range(Nfeatures,0,-1):\n",
        "        \n",
        "    error_i = []\n",
        "    \n",
        "    for idxTrain, idxVal in kf.split(X_train_RF):\n",
        "        \n",
        "        Xt = X_train_RF[idxTrain,:]\n",
        "        yt = y_train_RF[idxTrain]\n",
        "        Xv = X_train_RF[idxVal,:]\n",
        "        yv = y_train_RF[idxVal]\n",
        "        \n",
        "        rf.fit(Xt,yt)\n",
        "        \n",
        "        ranking = rf.feature_importances_\n",
        "        indices = np.argsort(ranking)[::-1] \n",
        "    \n",
        "        selected = indices[0:(Nfeatures-nfeatures+1)]\n",
        "        \n",
        "        Xs = Xt[:,selected]\n",
        "        \n",
        "        rf.fit(Xs,yt)\n",
        "        error = (1.0-rf.score(Xv[:,selected],yv))     \n",
        "        error_i.append(error) \n",
        "    \n",
        "    cv_error.append(np.mean(error_i))\n",
        "    cv_std.append(np.std(error_i))\n",
        "    \n",
        "    print('# features ' + str(len(selected)) + ' error ' + str(np.mean(error_i)) + ' +/- ' + str(np.std(error_i)))"
      ],
      "id": "3d468192"
    },
    {
      "cell_type": "markdown",
      "metadata": {
        "id": "0b3be0e2"
      },
      "source": [
        "El error parece más aceptable, aunque sigue siendo malo. Tengo que hacer mucho trabajo aún aquí. "
      ],
      "id": "0b3be0e2"
    },
    {
      "cell_type": "code",
      "execution_count": null,
      "metadata": {
        "id": "d4b7cfdc"
      },
      "outputs": [],
      "source": [
        "print(\"El número de variables, incluyendo Price es de --> \", len(feature_names_RF))\n",
        "feature_names_RF\n"
      ],
      "id": "d4b7cfdc"
    },
    {
      "cell_type": "code",
      "execution_count": null,
      "metadata": {
        "id": "894d5cb3"
      },
      "outputs": [],
      "source": [
        "maxDepth = range(1,15)\n",
        "tuned_parameters = {'max_depth': maxDepth}\n",
        "\n",
        "grid = GridSearchCV(RandomForestRegressor(random_state=0, n_estimators=20, max_features='sqrt'), param_grid=tuned_parameters,cv=10, verbose=1) \n",
        "grid.fit(X_train_RF, y_train_RF)\n",
        "\n",
        "print(\"best mean cross-validation score: {:.3f}\".format(grid.best_score_))\n",
        "print(\"best parameters: {}\".format(grid.best_params_))\n",
        "\n",
        "scores = np.array(grid.cv_results_['mean_test_score'])\n",
        "plt.plot(maxDepth,scores,'-o')\n",
        "plt.xlabel('max_depth')\n",
        "plt.ylabel('10-fold ACC')\n",
        "\n",
        "plt.show()"
      ],
      "id": "894d5cb3"
    },
    {
      "cell_type": "markdown",
      "metadata": {
        "id": "d8be0cc9"
      },
      "source": [
        "El mejor resultado lo da con 7, nmenor complejidad y un nivel de 0.8, se ve positivo. "
      ],
      "id": "d8be0cc9"
    },
    {
      "cell_type": "markdown",
      "metadata": {
        "id": "24c00269"
      },
      "source": [
        "El mejor resultado me lo da con 12."
      ],
      "id": "24c00269"
    },
    {
      "cell_type": "markdown",
      "metadata": {
        "id": "5a0cd03a"
      },
      "source": [
        "Me parece un resultado muy alto. Veremos con el test. "
      ],
      "id": "5a0cd03a"
    },
    {
      "cell_type": "markdown",
      "metadata": {
        "id": "10d8379f"
      },
      "source": [
        "Parece que el precio es determinado, primero por la experiencia y las primeras evaluaciones, seguido por su ubicación y el número de camas. "
      ],
      "id": "10d8379f"
    },
    {
      "cell_type": "markdown",
      "metadata": {
        "id": "c57fda66"
      },
      "source": [
        "Los resultados parecen indicar, para mi sorpresa, que el \"Host\", resulta muy importante en la determinación del \"Precio\". Cosa que si se analiza con detalle, es lógica. \n",
        "\n",
        "También, el precio, se explica en buena medida con la ubicación (calle y Barrio), además de por el número de camas. \n",
        "\n",
        "Considero que de todos los modelos, el más prometedor "
      ],
      "id": "c57fda66"
    },
    {
      "cell_type": "code",
      "execution_count": null,
      "metadata": {
        "id": "2bc719cf"
      },
      "outputs": [],
      "source": [],
      "id": "2bc719cf"
    },
    {
      "cell_type": "code",
      "execution_count": null,
      "metadata": {
        "id": "8968d405"
      },
      "outputs": [],
      "source": [],
      "id": "8968d405"
    }
  ],
  "metadata": {
    "colab": {
      "provenance": [],
      "collapsed_sections": [
        "76b398ef",
        "269a4a0d",
        "a8f499ae",
        "2e92a846",
        "564cf5c3",
        "EoJfI8hzCttR",
        "V4sRTJNeFaOH",
        "1d281ef2",
        "4a28b576",
        "9ca88a7d",
        "0255e7f7",
        "6a1a3e3d",
        "e09fba41",
        "2cb0c738",
        "b08c31a5",
        "162b54b5",
        "04da8dc7",
        "21806b64",
        "2c63ee3a",
        "c709f1e8",
        "9d21f196",
        "7cbf10b5",
        "e4911e93",
        "38d85b98",
        "b3512e13",
        "92c1d535"
      ],
      "include_colab_link": true
    },
    "kernelspec": {
      "display_name": "venv",
      "language": "python",
      "name": "venv"
    },
    "language_info": {
      "codemirror_mode": {
        "name": "ipython",
        "version": 3
      },
      "file_extension": ".py",
      "mimetype": "text/x-python",
      "name": "python",
      "nbconvert_exporter": "python",
      "pygments_lexer": "ipython3",
      "version": "3.9.15"
    }
  },
  "nbformat": 4,
  "nbformat_minor": 5
}