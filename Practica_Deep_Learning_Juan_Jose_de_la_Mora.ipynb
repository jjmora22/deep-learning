{
  "cells": [
    {
      "cell_type": "markdown",
      "metadata": {
        "id": "view-in-github",
        "colab_type": "text"
      },
      "source": [
        "<a href=\"https://colab.research.google.com/github/jjmora22/deep-learning/blob/main/Practica_Deep_Learning_Juan_Jose_de_la_Mora.ipynb\" target=\"_parent\"><img src=\"https://colab.research.google.com/assets/colab-badge.svg\" alt=\"Open In Colab\"/></a>"
      ]
    },
    {
      "cell_type": "markdown",
      "metadata": {
        "id": "1e148e46"
      },
      "source": [
        "# Práctica de Deep Learning de Juan José de la Mora\n",
        "\n",
        "Iré explicando paso a paso cada acción y justificaré mis decisiones en pequeños mensajes intermedios. "
      ],
      "id": "1e148e46"
    },
    {
      "cell_type": "markdown",
      "metadata": {
        "id": "76b398ef"
      },
      "source": [
        "\n",
        "## 1. Concentraré en este paso, todas las librerías que voy a usar: \n"
      ],
      "id": "76b398ef"
    },
    {
      "cell_type": "code",
      "source": [
        "pip install scipy==1.1.0"
      ],
      "metadata": {
        "colab": {
          "base_uri": "https://localhost:8080/"
        },
        "id": "v9vN8wts9n0R",
        "outputId": "54afc325-dbbc-4b6f-9ad0-6dd1f3797664"
      },
      "id": "v9vN8wts9n0R",
      "execution_count": 2,
      "outputs": [
        {
          "output_type": "stream",
          "name": "stdout",
          "text": [
            "Looking in indexes: https://pypi.org/simple, https://us-python.pkg.dev/colab-wheels/public/simple/\n",
            "Requirement already satisfied: scipy==1.1.0 in /usr/local/lib/python3.8/dist-packages (1.1.0)\n",
            "Requirement already satisfied: numpy>=1.8.2 in /usr/local/lib/python3.8/dist-packages (from scipy==1.1.0) (1.21.6)\n"
          ]
        }
      ]
    },
    {
      "cell_type": "code",
      "execution_count": 3,
      "metadata": {
        "id": "33ee97cf"
      },
      "outputs": [],
      "source": [
        "import numpy as np # Requiero Numpy para el manejo de matrices, álgebra lineal y arreglos\n",
        "import pandas as pd # Me da acceso a las herramientas para el análisis de datos\n",
        "\n",
        "import matplotlib.pyplot as plt # Me ayudará con las instrucciones necesarias para hacer gráficos\n",
        "from matplotlib.colors import ListedColormap # Me cpermite dar colores a las gráficas y mostrar los datos de forma clara\n",
        "# A partir de esta línea, los gráficos de matplotlib aparecerán directamente después de donde se llame la función plot.\n",
        "%matplotlib inline \n",
        "\n",
        "cm = plt.cm.RdBu # Selección del mapa de color \n",
        "cm_bright = ListedColormap(['#FF0000', '#0000FF']) ## Selección del mapa de color \n",
        "\n",
        "import warnings # Evitar los warnings \n",
        "warnings.filterwarnings('ignore')\n",
        "\n",
        "import graphviz # Visualización de los árboles de manera gráfica e incluye el cálculo del GINI\n",
        "\n",
        "from sklearn.model_selection import train_test_split ## Para obtener la muestra para train y para split\n",
        "\n",
        "##import OneHotEncoder ## Para poder hacer category encoding usando media\n",
        "##import category_encoders as ce\n",
        "\n",
        "from sklearn import preprocessing ## Funciones para manipular vectores para representarlos en formas más fáciles de interpretar.\n",
        "import imageio # Loading images\n",
        "import tensorflow as tf # Crear y manipular tensores\n",
        "from sklearn.model_selection import train_test_split # Separar los vectores\n",
        "from sklearn.preprocessing import StandardScaler # Para preprocesar los datos\n",
        "from sklearn.preprocessing import MinMaxScaler, StandardScaler # Para estandarizar\n",
        "\n",
        "\n",
        "from tqdm import tqdm # Visualize advance in repetitive processes \n",
        "\n",
        "import tensorflow as tf # Importa Tensor Flow\n",
        "from tensorflow import keras # Keras es para la generación del modelo \n",
        "from tensorflow.keras import layers, models, regularizers, metrics, optimizers\n",
        "from keras.optimizers import SGD, Adam # Descenso de gradiente y Adam\n",
        "from keras.models import Sequential #Importo el modelo Secuencial \n",
        "from keras.metrics import Accuracy #Para poder evaluar el accuracy en el modelo\n",
        "from keras.layers import Dense # Importo la capa densa\n",
        "from sklearn.metrics import classification_report # Para medir la cantidad de predicciones exactas en un algoritmo. \n",
        "\n",
        "import glob # Load images \n",
        "import cv2 # Manipulate images \n",
        "\n",
        "from sklearn.metrics import mean_squared_error #calcular el MSE\n",
        "\n",
        "# Ahora, para el procesamiento de las imágenes!!!!\n",
        "from tensorflow.keras.preprocessing.image import ImageDataGenerator, load_img, img_to_array # Genera lotes de datos de las imágenes \n",
        "from tensorflow.keras.utils import to_categorical # Convierte vectores de datos en matrices tipo binario\n",
        "import os # Para trabajar con los directorios locales \n",
        "import urllib.request # Bajar los archivos de las imágenes\n",
        "from PIL import Image # Cargar imágenes desde archivos en disco\n",
        "from keras.layers import Input, Add, Dropout, Permute, add\n",
        "from keras.utils import plot_model\n",
        "from scipy.io import loadmat\n",
        "from scipy.misc import imread\n",
        "from scipy.misc import bytescale\n",
        "import copy"
      ],
      "id": "33ee97cf"
    },
    {
      "cell_type": "markdown",
      "metadata": {
        "id": "269a4a0d"
      },
      "source": [
        "\n",
        "## 2. Ahora, cargo la información con la que voy a trabajar --> \n"
      ],
      "id": "269a4a0d"
    },
    {
      "cell_type": "code",
      "execution_count": 3,
      "metadata": {
        "colab": {
          "base_uri": "https://localhost:8080/"
        },
        "id": "kba0-AGIX4X0",
        "outputId": "d1e2578e-eaf8-4911-eee1-6a648c7fc0fe"
      },
      "outputs": [
        {
          "output_type": "stream",
          "name": "stdout",
          "text": [
            "--2023-02-19 07:15:26--  https://github.com/jjmora22/deep-learning/raw/d440bb9d7c10235b6b4dfa9e1beaff673c501103/airbnb-listings-extract.zip?raw=true\n",
            "Resolving github.com (github.com)... 140.82.113.4\n",
            "Connecting to github.com (github.com)|140.82.113.4|:443... connected.\n",
            "HTTP request sent, awaiting response... 302 Found\n",
            "Location: https://raw.githubusercontent.com/jjmora22/deep-learning/d440bb9d7c10235b6b4dfa9e1beaff673c501103/airbnb-listings-extract.zip [following]\n",
            "--2023-02-19 07:15:26--  https://raw.githubusercontent.com/jjmora22/deep-learning/d440bb9d7c10235b6b4dfa9e1beaff673c501103/airbnb-listings-extract.zip\n",
            "Resolving raw.githubusercontent.com (raw.githubusercontent.com)... 185.199.108.133, 185.199.109.133, 185.199.110.133, ...\n",
            "Connecting to raw.githubusercontent.com (raw.githubusercontent.com)|185.199.108.133|:443... connected.\n",
            "HTTP request sent, awaiting response... 200 OK\n",
            "Length: 15698338 (15M) [application/zip]\n",
            "Saving to: ‘airbnb-listings-extract.zip’\n",
            "\n",
            "airbnb-listings-ext 100%[===================>]  14.97M  --.-KB/s    in 0.08s   \n",
            "\n",
            "2023-02-19 07:15:26 (200 MB/s) - ‘airbnb-listings-extract.zip’ saved [15698338/15698338]\n",
            "\n"
          ]
        }
      ],
      "source": [
        "!wget -O airbnb-listings-extract.zip https://github.com/jjmora22/deep-learning/raw/d440bb9d7c10235b6b4dfa9e1beaff673c501103/airbnb-listings-extract.zip?raw=true"
      ],
      "id": "kba0-AGIX4X0"
    },
    {
      "cell_type": "code",
      "execution_count": 4,
      "metadata": {
        "colab": {
          "base_uri": "https://localhost:8080/"
        },
        "id": "Yxvz2ltOhjw4",
        "outputId": "a569a20a-ab85-4312-c8ae-a3d25bfb0a52"
      },
      "outputs": [
        {
          "output_type": "stream",
          "name": "stdout",
          "text": [
            "total 15M\n",
            "drwxr-xr-x 1 root root 4.0K Feb 19 07:15 .\n",
            "drwxr-xr-x 1 root root 4.0K Feb 19 07:13 ..\n",
            "-rw-r--r-- 1 root root  15M Feb 19 07:15 airbnb-listings-extract.zip\n",
            "drwxr-xr-x 4 root root 4.0K Feb 17 19:29 .config\n",
            "drwxr-xr-x 1 root root 4.0K Feb 17 19:30 sample_data\n"
          ]
        }
      ],
      "source": [
        "!ls -lah"
      ],
      "id": "Yxvz2ltOhjw4"
    },
    {
      "cell_type": "code",
      "execution_count": 5,
      "metadata": {
        "colab": {
          "base_uri": "https://localhost:8080/"
        },
        "id": "O-c1BFrbhtGU",
        "outputId": "9879805e-c0d8-43e3-c9b2-01cebe0d517a"
      },
      "outputs": [
        {
          "output_type": "stream",
          "name": "stdout",
          "text": [
            "Archive:  airbnb-listings-extract.zip\n",
            "  inflating: airbnb-listings-extract.csv  \n",
            "  inflating: __MACOSX/._airbnb-listings-extract.csv  \n"
          ]
        }
      ],
      "source": [
        "# lo descomprimimos -->\n",
        "!unzip airbnb-listings-extract.zip"
      ],
      "id": "O-c1BFrbhtGU"
    },
    {
      "cell_type": "code",
      "execution_count": 6,
      "metadata": {
        "colab": {
          "base_uri": "https://localhost:8080/"
        },
        "id": "T_1nvfAyiCm5",
        "outputId": "d14a5bb1-cbc9-4aaa-da6d-e024a1ee48c3"
      },
      "outputs": [
        {
          "output_type": "stream",
          "name": "stdout",
          "text": [
            "El data frame tiene el siguiente shape -->  (14780, 89)\n",
            "Voy a visualizar las primeras 5 líneas --> \n",
            "          ID                            Listing Url       Scrape ID  \\\n",
            "0  11210388  https://www.airbnb.com/rooms/11210388  20170306202425   \n",
            "1  17471131  https://www.airbnb.com/rooms/17471131  20170407214050   \n",
            "2  17584891  https://www.airbnb.com/rooms/17584891  20170407214050   \n",
            "3   5398030   https://www.airbnb.com/rooms/5398030  20170407214050   \n",
            "4  18104606  https://www.airbnb.com/rooms/18104606  20170407214050   \n",
            "\n",
            "  Last Scraped                                 Name  \\\n",
            "0   2017-03-07       The Loft-Full Bath-Deck w/View   \n",
            "1   2017-04-08           Claris I, Friendly Rentals   \n",
            "2   2017-04-08  Style Terrace Red, Friendly Rentals   \n",
            "3   2017-04-08    Picasso Suite 1.4 Paseo de Gracia   \n",
            "4   2017-04-08       Smart City Centre Apartment II   \n",
            "\n",
            "                                             Summary  \\\n",
            "0  Loft in the Hill country 12-15 minutes directl...   \n",
            "1  This apartment has: 1 double bed, 1 double sof...   \n",
            "2  This apartment has: 1 double bed, 1 double sof...   \n",
            "3  Live like a local in Barcelona's most chic dis...   \n",
            "4  Unique apartment in vibrant neighborhoods, car...   \n",
            "\n",
            "                                               Space  \\\n",
            "0  This loft has a spectacular view of the hills ...   \n",
            "1  This apartment has: 1 double bed, 1 double sof...   \n",
            "2  This apartment has: 1 double bed, 1 double sof...   \n",
            "3  You wake up to the sun rising over Barcelona's...   \n",
            "4  License: HUTB-005313 Charming apartment, locat...   \n",
            "\n",
            "                                         Description Experiences Offered  \\\n",
            "0  Loft in the Hill country 12-15 minutes directl...                none   \n",
            "1  This apartment has: 1 double bed, 1 double sof...                none   \n",
            "2  This apartment has: 1 double bed, 1 double sof...                none   \n",
            "3  Live like a local in Barcelona's most chic dis...                none   \n",
            "4  Unique apartment in vibrant neighborhoods, car...                none   \n",
            "\n",
            "                               Neighborhood Overview  ...  \\\n",
            "0  This neighborhood is located in the hills west...  ...   \n",
            "1  Plaza   Cataluña Catalonia Square is the large...  ...   \n",
            "2  Plaza   Cataluña Catalonia Square is the large...  ...   \n",
            "3  We're right in the heart of the chic L'Eixampl...  ...   \n",
            "4                                                NaN  ...   \n",
            "\n",
            "  Review Scores Communication Review Scores Location Review Scores Value  \\\n",
            "0                        10.0                   10.0                10.0   \n",
            "1                        10.0                    8.0                10.0   \n",
            "2                         NaN                    NaN                 NaN   \n",
            "3                        10.0                   10.0                 9.0   \n",
            "4                         NaN                    NaN                 NaN   \n",
            "\n",
            "       License Jurisdiction Names Cancellation Policy  \\\n",
            "0          NaN                NaN            moderate   \n",
            "1  HUTB-006721                NaN     super_strict_30   \n",
            "2  HUTB-007527                NaN     super_strict_30   \n",
            "3          NaN                NaN              strict   \n",
            "4          NaN                NaN            flexible   \n",
            "\n",
            "  Calculated host listings count Reviews per Month  \\\n",
            "0                            1.0              3.50   \n",
            "1                          106.0              0.86   \n",
            "2                          106.0               NaN   \n",
            "3                           24.0              1.09   \n",
            "4                           92.0               NaN   \n",
            "\n",
            "                    Geolocation  \\\n",
            "0  30.3373609355,-97.8632766782   \n",
            "1   41.3896829422,2.17262543017   \n",
            "2   41.3930345489,2.16217327868   \n",
            "3    41.3969668101,2.1674178103   \n",
            "4   41.3886851936,2.15514963616   \n",
            "\n",
            "                                            Features  \n",
            "0  Host Is Superhost,Host Has Profile Pic,Host Id...  \n",
            "1  Host Has Profile Pic,Requires License,Instant ...  \n",
            "2  Host Has Profile Pic,Requires License,Instant ...  \n",
            "3  Host Has Profile Pic,Host Identity Verified,Re...  \n",
            "4  Host Has Profile Pic,Host Identity Verified,Is...  \n",
            "\n",
            "[5 rows x 89 columns]\n"
          ]
        }
      ],
      "source": [
        "# Genero data donde guardo la informaciónA\n",
        "data = pd.read_table('./airbnb-listings-extract.csv',sep=';', decimal='.', on_bad_lines='skip')\n",
        "print(\"El data frame tiene el siguiente shape --> \", data.shape)\n",
        "print(\"Voy a visualizar las primeras 5 líneas --> \\n\", data.head())"
      ],
      "id": "T_1nvfAyiCm5"
    },
    {
      "cell_type": "markdown",
      "metadata": {
        "id": "a8f499ae"
      },
      "source": [
        "## 3. Analizo los datos "
      ],
      "id": "a8f499ae"
    },
    {
      "cell_type": "markdown",
      "metadata": {
        "id": "5caad2a1"
      },
      "source": [
        "\n",
        "Primero veo el nombre de las columnas:\n"
      ],
      "id": "5caad2a1"
    },
    {
      "cell_type": "code",
      "execution_count": 7,
      "metadata": {
        "colab": {
          "base_uri": "https://localhost:8080/"
        },
        "id": "e41bc20f",
        "outputId": "12119ff1-21f4-44e1-a2b3-ed7de5b5108c"
      },
      "outputs": [
        {
          "output_type": "stream",
          "name": "stdout",
          "text": [
            "La lista de los nombres de las columnas es esta -->  ['ID', 'Listing Url', 'Scrape ID', 'Last Scraped', 'Name', 'Summary', 'Space', 'Description', 'Experiences Offered', 'Neighborhood Overview', 'Notes', 'Transit', 'Access', 'Interaction', 'House Rules', 'Thumbnail Url', 'Medium Url', 'Picture Url', 'XL Picture Url', 'Host ID', 'Host URL', 'Host Name', 'Host Since', 'Host Location', 'Host About', 'Host Response Time', 'Host Response Rate', 'Host Acceptance Rate', 'Host Thumbnail Url', 'Host Picture Url', 'Host Neighbourhood', 'Host Listings Count', 'Host Total Listings Count', 'Host Verifications', 'Street', 'Neighbourhood', 'Neighbourhood Cleansed', 'Neighbourhood Group Cleansed', 'City', 'State', 'Zipcode', 'Market', 'Smart Location', 'Country Code', 'Country', 'Latitude', 'Longitude', 'Property Type', 'Room Type', 'Accommodates', 'Bathrooms', 'Bedrooms', 'Beds', 'Bed Type', 'Amenities', 'Square Feet', 'Price', 'Weekly Price', 'Monthly Price', 'Security Deposit', 'Cleaning Fee', 'Guests Included', 'Extra People', 'Minimum Nights', 'Maximum Nights', 'Calendar Updated', 'Has Availability', 'Availability 30', 'Availability 60', 'Availability 90', 'Availability 365', 'Calendar last Scraped', 'Number of Reviews', 'First Review', 'Last Review', 'Review Scores Rating', 'Review Scores Accuracy', 'Review Scores Cleanliness', 'Review Scores Checkin', 'Review Scores Communication', 'Review Scores Location', 'Review Scores Value', 'License', 'Jurisdiction Names', 'Cancellation Policy', 'Calculated host listings count', 'Reviews per Month', 'Geolocation', 'Features']\n"
          ]
        }
      ],
      "source": [
        "lista_columnas = list(data.columns.values)\n",
        "print(\"La lista de los nombres de las columnas es esta --> \", lista_columnas)"
      ],
      "id": "e41bc20f"
    },
    {
      "cell_type": "code",
      "execution_count": 8,
      "metadata": {
        "colab": {
          "base_uri": "https://localhost:8080/"
        },
        "id": "1ada07be",
        "outputId": "f7574e32-71b2-448a-88b8-e53597bb9831"
      },
      "outputs": [
        {
          "output_type": "stream",
          "name": "stdout",
          "text": [
            "(14780, 89)\n"
          ]
        }
      ],
      "source": [
        "print(data.shape)"
      ],
      "id": "1ada07be"
    },
    {
      "cell_type": "markdown",
      "metadata": {
        "id": "2e92a846"
      },
      "source": [
        "### 3.1 Voy a validar primero que haya suficiente información. Voy a buscar cuántos NAs hay por columna y en principio, quiero saber cuáles están por encima del 70% de información -- Máximo X% de NAs (que establezco en la variabla max_na)\n"
      ],
      "id": "2e92a846"
    },
    {
      "cell_type": "code",
      "execution_count": 9,
      "metadata": {
        "id": "ed1ec6b3"
      },
      "outputs": [],
      "source": [
        "max_NA = 30"
      ],
      "id": "ed1ec6b3"
    },
    {
      "cell_type": "code",
      "execution_count": 10,
      "metadata": {
        "colab": {
          "base_uri": "https://localhost:8080/"
        },
        "id": "abfb81f6",
        "scrolled": false,
        "outputId": "29602c05-bf00-499b-c146-24bd21d28194"
      },
      "outputs": [
        {
          "output_type": "stream",
          "name": "stdout",
          "text": [
            "Columna --> Número de NA --> %NAs en total datos \n",
            "ID  -->  0  -->  0.0\n",
            "Listing Url  -->  0  -->  0.0\n",
            "Scrape ID  -->  0  -->  0.0\n",
            "Last Scraped  -->  0  -->  0.0\n",
            "Name  -->  1  -->  0.01\n",
            "Summary  -->  591  -->  4.0\n",
            "Space  -->  3892  -->  26.33\n",
            "Description  -->  6  -->  0.04\n",
            "Experiences Offered  -->  0  -->  0.0\n",
            "Neighborhood Overview  -->  5646  -->  38.2\n",
            "Notes  -->  9136  -->  61.81\n",
            "Transit  -->  5714  -->  38.66\n",
            "Access  -->  6462  -->  43.72\n",
            "Interaction  -->  6552  -->  44.33\n",
            "House Rules  -->  5161  -->  34.92\n",
            "Thumbnail Url  -->  2820  -->  19.08\n",
            "Medium Url  -->  2820  -->  19.08\n",
            "Picture Url  -->  19  -->  0.13\n",
            "XL Picture Url  -->  2820  -->  19.08\n",
            "Host ID  -->  0  -->  0.0\n",
            "Host URL  -->  0  -->  0.0\n",
            "Host Name  -->  3  -->  0.02\n",
            "Host Since  -->  3  -->  0.02\n",
            "Host Location  -->  43  -->  0.29\n",
            "Host About  -->  5241  -->  35.46\n",
            "Host Response Time  -->  1899  -->  12.85\n",
            "Host Response Rate  -->  1899  -->  12.85\n",
            "Host Acceptance Rate  -->  14741  -->  99.74\n",
            "Host Thumbnail Url  -->  3  -->  0.02\n",
            "Host Picture Url  -->  3  -->  0.02\n",
            "Host Neighbourhood  -->  3876  -->  26.22\n",
            "Host Listings Count  -->  3  -->  0.02\n",
            "Host Total Listings Count  -->  3  -->  0.02\n",
            "Host Verifications  -->  6  -->  0.04\n",
            "Street  -->  0  -->  0.0\n",
            "Neighbourhood  -->  5229  -->  35.38\n",
            "Neighbourhood Cleansed  -->  0  -->  0.0\n",
            "Neighbourhood Group Cleansed  -->  1020  -->  6.9\n",
            "City  -->  6  -->  0.04\n",
            "State  -->  144  -->  0.97\n",
            "Zipcode  -->  506  -->  3.42\n",
            "Market  -->  57  -->  0.39\n",
            "Smart Location  -->  0  -->  0.0\n",
            "Country Code  -->  0  -->  0.0\n",
            "Country  -->  1  -->  0.01\n",
            "Latitude  -->  0  -->  0.0\n",
            "Longitude  -->  0  -->  0.0\n",
            "Property Type  -->  0  -->  0.0\n",
            "Room Type  -->  0  -->  0.0\n",
            "Accommodates  -->  0  -->  0.0\n",
            "Bathrooms  -->  55  -->  0.37\n",
            "Bedrooms  -->  25  -->  0.17\n",
            "Beds  -->  49  -->  0.33\n",
            "Bed Type  -->  0  -->  0.0\n",
            "Amenities  -->  170  -->  1.15\n",
            "Square Feet  -->  14182  -->  95.95\n",
            "Price  -->  17  -->  0.12\n",
            "Weekly Price  -->  11190  -->  75.71\n",
            "Monthly Price  -->  11219  -->  75.91\n",
            "Security Deposit  -->  8524  -->  57.67\n",
            "Cleaning Fee  -->  6093  -->  41.22\n",
            "Guests Included  -->  0  -->  0.0\n",
            "Extra People  -->  0  -->  0.0\n",
            "Minimum Nights  -->  0  -->  0.0\n",
            "Maximum Nights  -->  0  -->  0.0\n",
            "Calendar Updated  -->  0  -->  0.0\n",
            "Has Availability  -->  14768  -->  99.92\n",
            "Availability 30  -->  0  -->  0.0\n",
            "Availability 60  -->  0  -->  0.0\n",
            "Availability 90  -->  0  -->  0.0\n",
            "Availability 365  -->  0  -->  0.0\n",
            "Calendar last Scraped  -->  0  -->  0.0\n",
            "Number of Reviews  -->  0  -->  0.0\n",
            "First Review  -->  3162  -->  21.39\n",
            "Last Review  -->  3163  -->  21.4\n",
            "Review Scores Rating  -->  3304  -->  22.35\n",
            "Review Scores Accuracy  -->  3326  -->  22.5\n",
            "Review Scores Cleanliness  -->  3320  -->  22.46\n",
            "Review Scores Checkin  -->  3337  -->  22.58\n",
            "Review Scores Communication  -->  3320  -->  22.46\n",
            "Review Scores Location  -->  3340  -->  22.6\n",
            "Review Scores Value  -->  3341  -->  22.6\n",
            "License  -->  14431  -->  97.64\n",
            "Jurisdiction Names  -->  14553  -->  98.46\n",
            "Cancellation Policy  -->  0  -->  0.0\n",
            "Calculated host listings count  -->  4  -->  0.03\n",
            "Reviews per Month  -->  3162  -->  21.39\n",
            "Geolocation  -->  0  -->  0.0\n",
            "Features  -->  1  -->  0.01\n",
            "Las columnas candidatas a ser eliminadas por la cantidad de NA son -->  ['Neighborhood Overview', 'Notes', 'Transit', 'Access', 'Interaction', 'House Rules', 'Host About', 'Host Acceptance Rate', 'Neighbourhood', 'Square Feet', 'Weekly Price', 'Monthly Price', 'Security Deposit', 'Cleaning Fee', 'Has Availability', 'License', 'Jurisdiction Names']\n",
            "En total, son  17 columnas\n"
          ]
        }
      ],
      "source": [
        "NAs_columns = list()  # Genero una lista para hacer el análisis\n",
        "columnas_borrar = []\n",
        "print (\"Columna --> Número de NA --> %NAs en total datos \")\n",
        "for name in lista_columnas:\n",
        "    print (name, \" --> \", data[name].isna().sum(), \" --> \", (data[name].isna().sum()*100/data.shape[0]).round(2))\n",
        "    NA_count = {\"Columna\": name, 'NA': data[name].isna().sum(), 'NA%': (data[name].isna().sum()*100/data.shape[0]).round(2)}\n",
        "    if (data[name].isna().sum()*100/data.shape[0]).round(2) > max_NA:\n",
        "      columnas_borrar.append(name)\n",
        "    NAs_columns.append(NA_count)\n",
        "\n",
        "\n",
        "df_NA = pd.DataFrame(NAs_columns) \n",
        "print(\"Las columnas candidatas a ser eliminadas por la cantidad de NA son --> \", columnas_borrar)\n",
        "print(\"En total, son \", len(columnas_borrar), \"columnas\")"
      ],
      "id": "abfb81f6"
    },
    {
      "cell_type": "markdown",
      "metadata": {
        "id": "ac962808"
      },
      "source": [
        "Al analizar estas columnas, me preocupa la medida de square feet, pues la considero importante para calcular el precio y aporta muy poca información. La eliminaré.\n",
        "\n",
        "Neighbourhood es otra variable que me preocupa que también considero muy valiosa. Esa se encuentra con el 38% de NAs. Esta está más cercana al 30%, es probable que la mantenga. "
      ],
      "id": "ac962808"
    },
    {
      "cell_type": "markdown",
      "metadata": {
        "id": "2b2969fd"
      },
      "source": [
        "## 3.2 Ahora, voy a analizar en más detalle los datos disponibles -->\n",
        "\n",
        "Encuentro algunos temas interesantes: \n",
        " - Parece que la mayor parte de la información es de España\n",
        " - En principio, parece que hay una mayor cantidad de información sobre Madrid\n",
        " - Neighbourhood y Neighourhood cleansed son parecidas y existe más información es cleansed ¿puedo separarlas?\n",
        " \n",
        "Voy a hacer un análsis de \"Market\" primero, para ver cuántos elementos tengo por cada país."
      ],
      "id": "2b2969fd"
    },
    {
      "cell_type": "code",
      "execution_count": 12,
      "metadata": {
        "colab": {
          "base_uri": "https://localhost:8080/"
        },
        "id": "9f0eca82",
        "outputId": "f21fddac-91b3-4a07-bb11-0a127dd02b39"
      },
      "outputs": [
        {
          "output_type": "stream",
          "name": "stdout",
          "text": [
            "La lista de los nombres de las paises es esta -->  ['United States' 'Spain' 'Netherlands' 'Belgium' 'France' nan\n",
            " 'United Kingdom' 'Ireland' 'Italy' 'Greece' 'Denmark' 'Australia'\n",
            " 'Germany' 'Austria' 'Canada' 'Switzerland' 'Hong Kong' 'Cuba'] \n",
            " \n",
            "\n",
            "La cantidad de apariciones de cada país es de --> \n"
          ]
        },
        {
          "output_type": "execute_result",
          "data": {
            "text/plain": [
              "Spain             14001\n",
              "United States       184\n",
              "United Kingdom      159\n",
              "France              110\n",
              "Italy                68\n",
              "Australia            46\n",
              "Ireland              45\n",
              "Germany              41\n",
              "Austria              31\n",
              "Netherlands          26\n",
              "Canada               20\n",
              "Belgium              17\n",
              "Denmark              16\n",
              "Switzerland           6\n",
              "Greece                5\n",
              "Hong Kong             3\n",
              "Cuba                  1\n",
              "Name: Country, dtype: int64"
            ]
          },
          "metadata": {},
          "execution_count": 12
        }
      ],
      "source": [
        "lista_paises = data['Country'].unique()\n",
        "\n",
        "print(\"La lista de los nombres de las paises es esta --> \", lista_paises, \"\\n \\n\")\n",
        "\n",
        "print (\"La cantidad de apariciones de cada país es de --> \")\n",
        "\n",
        "data['Country'].value_counts()\n",
        " # Genero un Dataframe para poder manipularlo en el análisis \n"
      ],
      "id": "9f0eca82"
    },
    {
      "cell_type": "markdown",
      "metadata": {
        "id": "776ab7e8"
      },
      "source": [
        "Claramente, el país con más participaciones es España."
      ],
      "id": "776ab7e8"
    },
    {
      "cell_type": "markdown",
      "metadata": {
        "id": "a466ab52"
      },
      "source": [
        "Concentraré el análisis en España pero, ¿qué ciudades son las que más información aportan?"
      ],
      "id": "a466ab52"
    },
    {
      "cell_type": "code",
      "execution_count": 13,
      "metadata": {
        "colab": {
          "base_uri": "https://localhost:8080/"
        },
        "id": "f5c7f4b7",
        "outputId": "086c9ff9-62f8-4814-f08b-116a884a42b3"
      },
      "outputs": [
        {
          "output_type": "stream",
          "name": "stdout",
          "text": [
            "España muestra los siguientes valores en 'Markets' --> \n",
            " Madrid                   13272\n",
            "Mallorca Island            372\n",
            "Barcelona                  292\n",
            "Other (International)       12\n",
            "London                       1\n",
            "Toledo                       1\n",
            "Deauville                    1\n",
            "Name: Market, dtype: int64\n",
            "\n",
            " Además, se encuentran  50  NAs con lo que se comprueba el total \n",
            "\n",
            "En total hay  7  (incluyendo los NA) que son ciudades con poca información o equivocadas\n",
            "La lista de ciudades que se podrían eliminar es la siguiente  [nan, 'Barcelona', 'London', 'Mallorca Island', 'Toledo', 'Deauville', 'Other (International)']\n"
          ]
        },
        {
          "output_type": "execute_result",
          "data": {
            "text/plain": [
              "[nan,\n",
              " 'Barcelona',\n",
              " 'London',\n",
              " 'Mallorca Island',\n",
              " 'Toledo',\n",
              " 'Deauville',\n",
              " 'Other (International)']"
            ]
          },
          "metadata": {},
          "execution_count": 13
        }
      ],
      "source": [
        "\n",
        "print (\"España muestra los siguientes valores en 'Markets' --> \\n\",data.loc[data['Country'] == 'Spain', 'Market'].value_counts())\n",
        "print(\"\\n Además, se encuentran \", data.loc[data['Country'] == 'Spain', 'Market'].isna().sum(), \" NAs con lo que se comprueba el total \\n\")\n",
        " # Genero un Dataframe para poder manipularlo en el análisis \n",
        "lista_ciudades_eliminar = data[data['Country'] == \"Spain\"]\n",
        "lista_ciudades_eliminar = lista_ciudades_eliminar[lista_ciudades_eliminar['Market'] != \"Madrid\"]\n",
        "lista_ciudades_eliminar = list(set(lista_ciudades_eliminar['Market']))\n",
        "print(\"En total hay \", len(lista_ciudades_eliminar), \" (incluyendo los NA) que son ciudades con poca información o equivocadas\")\n",
        "print(\"La lista de ciudades que se podrían eliminar es la siguiente \", lista_ciudades_eliminar)\n",
        "lista_ciudades_eliminar\n",
        "    "
      ],
      "id": "f5c7f4b7"
    },
    {
      "cell_type": "markdown",
      "metadata": {
        "id": "9e794ff1"
      },
      "source": [
        "La información parece estar centrada principalmente en Madrid. Veamos los municipios que tiene 'Neighbourhood' que tiene y qué porcentaje de la información puede ser recuperada. "
      ],
      "id": "9e794ff1"
    },
    {
      "cell_type": "code",
      "execution_count": 14,
      "metadata": {
        "colab": {
          "base_uri": "https://localhost:8080/"
        },
        "id": "8641a716",
        "outputId": "14b85a37-0b84-477d-849d-68448ea96492"
      },
      "outputs": [
        {
          "output_type": "stream",
          "name": "stdout",
          "text": [
            "Madrid muestra los siguientes valores en 'Neighbourhoods' --> \n",
            " Malasaña               892\n",
            "La Latina              807\n",
            "Embajadores            794\n",
            "Sol                    716\n",
            "Justicia               556\n",
            "Cortes                 525\n",
            "Palacio                390\n",
            "Aluche                 224\n",
            "Argüelles              216\n",
            "Trafalgar              203\n",
            "Carabanchel            198\n",
            "Ciudad Lineal          177\n",
            "Palos do Moguer        170\n",
            "Goya                   158\n",
            "Guindalera             134\n",
            "Puente de Vallecas     123\n",
            "Arapiles               116\n",
            "Recoletos              115\n",
            "Hortaleza              107\n",
            "Almagro                104\n",
            "Pacifico               102\n",
            "Gaztambide              92\n",
            "Fuencarral-el Pardo     80\n",
            "Lista                   80\n",
            "Cuatro Caminos          75\n",
            "Acacias                 72\n",
            "San Blas                69\n",
            "Castellana              68\n",
            "Usera                   67\n",
            "Prosperidad             65\n",
            "Ibiza                   65\n",
            "Delicias                64\n",
            "La Chopera              61\n",
            "Rios Rosas              59\n",
            "Imperial                57\n",
            "Castillejos             55\n",
            "Jerónimos               54\n",
            "Barajas                 52\n",
            "Fuente del Berro        49\n",
            "Bellas Vistas           48\n",
            "Villaverde              44\n",
            "Moratalaz               43\n",
            "Moncloa                 42\n",
            "Almenara                42\n",
            "Berruguete              40\n",
            "Nueva España            37\n",
            "Adelfas                 35\n",
            "Hispanoamérica          35\n",
            "Vallehermosa            34\n",
            "El Viso                 33\n",
            "Ciudad Jardin           33\n",
            "Valdeacederas           31\n",
            "Legazpi                 29\n",
            "Villa de Vallecas       25\n",
            "Chamberí                23\n",
            "Castilla                22\n",
            "Centro                  21\n",
            "Vicálvaro               19\n",
            "Arganzuela              14\n",
            "El Tréntaiseis          13\n",
            "Estrella                12\n",
            "Retiro                  11\n",
            "Atocha                   6\n",
            "Fuencarral-El Pardo      4\n",
            "Tetuán                   4\n",
            "Name: Neighbourhood, dtype: int64\n",
            "\n",
            " Además, se encuentran  4563  NAs con lo que se comprueba el total \n",
            "\n"
          ]
        }
      ],
      "source": [
        "pd.set_option('display.max_rows', None) ##Voy a imprimir todas las filas \n",
        "print (\"Madrid muestra los siguientes valores en 'Neighbourhoods' --> \\n\",data.loc[data['Market'] == 'Madrid', 'Neighbourhood'].value_counts())\n",
        "df_Neighbourhoods = data.loc[data['Market'] == 'Madrid', 'Neighbourhood'].value_counts()\n",
        "print(\"\\n Además, se encuentran \", data.loc[data['Market'] == 'Madrid', 'Neighbourhood'].isna().sum(), \" NAs con lo que se comprueba el total \\n\")\n"
      ],
      "id": "8641a716"
    },
    {
      "cell_type": "markdown",
      "metadata": {
        "id": "e2f4a76b"
      },
      "source": [
        "La información parece estar sin errores."
      ],
      "id": "e2f4a76b"
    },
    {
      "cell_type": "markdown",
      "metadata": {
        "id": "18f8b102"
      },
      "source": [
        "Los 4.563 NAs, representan el 34,4% del total de la información. Es mejor que el 38% que se estimaba para todo el set. "
      ],
      "id": "18f8b102"
    },
    {
      "cell_type": "markdown",
      "metadata": {
        "id": "e13e0752"
      },
      "source": [
        "Parece que la mejor alternativa para generar el modelo, es trabajar esta información para Madrid. \n",
        "\n",
        "Voy a validar ahora los Códigos Postales -->\n"
      ],
      "id": "e13e0752"
    },
    {
      "cell_type": "code",
      "execution_count": 15,
      "metadata": {
        "colab": {
          "base_uri": "https://localhost:8080/"
        },
        "id": "ba5c0abe",
        "outputId": "42207edf-00f7-4b33-bfea-9d46ed0be4f8"
      },
      "outputs": [
        {
          "output_type": "stream",
          "name": "stdout",
          "text": [
            "Madrid muestra los siguientes valores en 'Zipcode' --> \n",
            " 28012           2063\n",
            "28004           1797\n",
            "28005           1191\n",
            "28013           1019\n",
            "28014            602\n",
            "28015            599\n",
            "28045            499\n",
            "28010            384\n",
            "28008            337\n",
            "28028            261\n",
            "28011            251\n",
            "28001            231\n",
            "28006            217\n",
            "28009            216\n",
            "28007            206\n",
            "28019            202\n",
            "28020            195\n",
            "28003            186\n",
            "28002            172\n",
            "28039            160\n",
            "28025            124\n",
            "28027            124\n",
            "28029            112\n",
            "28017            111\n",
            "28043            105\n",
            "28026             93\n",
            "28042             91\n",
            "28033             90\n",
            "28053             85\n",
            "28038             79\n",
            "28016             77\n",
            "28035             76\n",
            "28030             73\n",
            "28047             67\n",
            "28036             66\n",
            "28037             66\n",
            "28041             65\n",
            "28021             61\n",
            "28050             58\n",
            "28034             49\n",
            "28024             44\n",
            "28018             43\n",
            "28023             37\n",
            "28032             33\n",
            "28046             32\n",
            "28022             30\n",
            "28031             27\n",
            "28044             20\n",
            "28040             19\n",
            "28051             18\n",
            "28054             13\n",
            "28055             12\n",
            "28049              4\n",
            "28830              2\n",
            "28730              1\n",
            "2802\\n28012        1\n",
            "29012              1\n",
            "10100              1\n",
            "28052              1\n",
            "20013              1\n",
            "28048              1\n",
            "2815               1\n",
            "Madrid 28004       1\n",
            "28051\\n28051       1\n",
            "29230              1\n",
            "2804               1\n",
            "-                  1\n",
            "28                 1\n",
            "27013              1\n",
            "28058              1\n",
            "28224              1\n",
            "2015               1\n",
            "2805               1\n",
            "28290              1\n",
            "28105              1\n",
            "280013             1\n",
            "28094              1\n",
            "28002\\n28002       1\n",
            "08015              1\n",
            "28850              1\n",
            "28660              1\n",
            "25008              1\n",
            "84084              1\n",
            "27004              1\n",
            "28060              1\n",
            "03430              1\n",
            "07320              1\n",
            "46370              1\n",
            "28056              1\n",
            "20126              1\n",
            "Name: Zipcode, dtype: int64\n",
            "\n",
            " Además, se encuentran  444  NAs con lo que se comprueba el total \n",
            "\n"
          ]
        },
        {
          "output_type": "execute_result",
          "data": {
            "text/plain": [
              "(90,)"
            ]
          },
          "metadata": {},
          "execution_count": 15
        }
      ],
      "source": [
        "print (\"Madrid muestra los siguientes valores en 'Zipcode' --> \\n\",data.loc[data['Market'] == 'Madrid', 'Zipcode'].value_counts())\n",
        "df_zipcode = data.loc[data['Market'] == 'Madrid', 'Zipcode'].value_counts()\n",
        "print(\"\\n Además, se encuentran \", data.loc[data['Market'] == 'Madrid', 'Zipcode'].isna().sum(), \" NAs con lo que se comprueba el total \\n\")\n",
        "df_zipcode.shape"
      ],
      "id": "ba5c0abe"
    },
    {
      "cell_type": "markdown",
      "metadata": {
        "id": "bcc81082"
      },
      "source": [
        "Se detectan algunos códigos que hay que corregir: <br>\n",
        "- Los que inician con '0' no son de Madrid\n",
        "- Los códigos 46370, 84084,03430, 07320, probablemente no son de Madrid --> Se borrarán\n",
        "- 28002\\n28002 debe reemplazarse por 28002\n",
        "- 2802\\n28012 debe reemplazarse por 28012\n",
        "- 28051\\n28051 debe reemplazarse por 28051\n",
        "- 280013 debe reemplazarse por 28013\n",
        "- 28 es un error se elimina\n",
        "- 08015 parece 28015\n",
        "- 25008 parece ser 28008\n",
        "- 2015 y 2805 probablemente son 28015\n",
        "- 2804 probablemente es 28004\n",
        "- 28051\\n28051 debe reemplazarse por 28051\n",
        "- 29012 debe ser 28012\n",
        "- 27013 debe ser 28013\n",
        "- 20013 debe ser 28013\n",
        "- 20126 debe ser 28126\n",
        "- 27004 debe ser 28004\n",
        "- Hay que eliminar un '-'\n",
        "- 2815 debe ser 28015\n",
        "- Madrid 28004 debe ser 28004\n",
        "- 10100 debe ser 28100\n",
        "- Pondré toda la columna como int\n",
        "- Eliminaré todos los NA\n",
        "     "
      ],
      "id": "bcc81082"
    },
    {
      "cell_type": "markdown",
      "metadata": {
        "id": "3f740891"
      },
      "source": [
        "## 3.3. Estrategia de limpieza de la base de datos: \n",
        "a. Antes de dividir en test y train eliminaré los datos que no son de Madrid. <br>\n",
        "b. Una vez que tenga aislada la información de Madrid, dividiré en train y test. <br>\n",
        "c. Eliminaré la columna de 'Country', solo estaré trabajando con Madrid. <br>\n",
        "d. Con excepción de Neighbourhood, eliminaré todas las columnas que tengan más del 30% de información NAs --> <br>'Neighborhood Overview', 'Notes', 'Transit', 'Access', 'Interaction', 'House Rules', 'Host About', 'Host Acceptance Rate', 'Square Feet', 'Weekly Price', 'Monthly Price', 'Security Deposit', 'Cleaning Fee', 'Has Availability', 'License', 'Jurisdiction Names'<br>\n",
        "e. Corregiré los códigos postales de Madrid --> <br>\n",
        "- Los que inician con '0' no son de Madrid\n",
        "- Los códigos 46370, 84084,03430, 07320, probablemente no son de Madrid --> Se borrarán\n",
        "- 28002\\n28002 debe reemplazarse por 28002\n",
        "- 2802\\n28012 debe reemplazarse por 28012\n",
        "- 28051\\n28051 debe reemplazarse por 28051\n",
        "- 280013 debe reemplazarse por 28013\n",
        "- 28 es un error se elimina\n",
        "- 08015 parece 28015\n",
        "- 25008 parece ser 28008\n",
        "- 2015 y 2805 probablemente son 28015\n",
        "- 2804 probablemente es 28004\n",
        "- 28051\\n28051 debe reemplazarse por 28051\n",
        "- 29012 debe ser 28012\n",
        "- 27013 debe ser 28013\n",
        "- 20013 debe ser 28013\n",
        "- 20126 debe ser 28126\n",
        "- 27004 debe ser 28004\n",
        "- Hay que eliminar un '-'\n",
        "- 2815 debe ser 28015\n",
        "- Madrid 28004 debe ser 28004\n",
        "- 10100 debe ser 28100\n",
        "- Pondré toda la columna como int\n",
        "- Eliminaré todos los NA\n",
        "\n",
        "f. Mantendré los datos de las imágenes para analizarlos más adelante ('Thumbnail Url', 'Medium Url', 'Picture Url', 'XL Picture Url'). "
      ],
      "id": "3f740891"
    },
    {
      "cell_type": "markdown",
      "metadata": {
        "id": "d50ca3d7"
      },
      "source": [
        "### 3.3.1. Solo dejo la información de Madrid -->"
      ],
      "id": "d50ca3d7"
    },
    {
      "cell_type": "code",
      "execution_count": 16,
      "metadata": {
        "id": "dbfa9e49"
      },
      "outputs": [],
      "source": [
        "data.drop(data[data['Market'] != \"Madrid\"].index, inplace = True)"
      ],
      "id": "dbfa9e49"
    },
    {
      "cell_type": "markdown",
      "metadata": {
        "id": "6e524d3e"
      },
      "source": [
        "Verifico la acción --> "
      ],
      "id": "6e524d3e"
    },
    {
      "cell_type": "code",
      "execution_count": 17,
      "metadata": {
        "colab": {
          "base_uri": "https://localhost:8080/"
        },
        "id": "5f3b810b",
        "outputId": "895b5939-f0a8-4f3b-fb37-b2b94f412f24"
      },
      "outputs": [
        {
          "output_type": "stream",
          "name": "stdout",
          "text": [
            "(13274, 89)\n"
          ]
        },
        {
          "output_type": "execute_result",
          "data": {
            "text/plain": [
              "0"
            ]
          },
          "metadata": {},
          "execution_count": 17
        }
      ],
      "source": [
        "print(data.shape)\n",
        "data['Market'][(data['Market'] != \"Madrid\")].count()"
      ],
      "id": "5f3b810b"
    },
    {
      "cell_type": "markdown",
      "metadata": {
        "id": "1e344203"
      },
      "source": [
        "## 3.4 Voy a aplicar toda la estrategia de depuración de la base de datos explicada en el punto 3.3"
      ],
      "id": "1e344203"
    },
    {
      "cell_type": "markdown",
      "metadata": {
        "id": "acc6b27a"
      },
      "source": [
        "Primero, elimino la columna de \"Country\", pues no aporta nada en este análisis --> "
      ],
      "id": "acc6b27a"
    },
    {
      "cell_type": "code",
      "execution_count": 18,
      "metadata": {
        "colab": {
          "base_uri": "https://localhost:8080/"
        },
        "id": "d3d9ea6f",
        "outputId": "acca0d52-efaf-4abd-ce2d-f75f6725edf9"
      },
      "outputs": [
        {
          "output_type": "stream",
          "name": "stdout",
          "text": [
            "Valido que 'Country' se encuentra en la lista_columnas - original - \n",
            "\n",
            "Sí Existe\n",
            "\n",
            "Lo borro !!!!\n",
            "\n",
            "La nueva lista de columnas es --> \n",
            " \n",
            " ['ID', 'Listing Url', 'Scrape ID', 'Last Scraped', 'Name', 'Summary', 'Space', 'Description', 'Experiences Offered', 'Neighborhood Overview', 'Notes', 'Transit', 'Access', 'Interaction', 'House Rules', 'Thumbnail Url', 'Medium Url', 'Picture Url', 'XL Picture Url', 'Host ID', 'Host URL', 'Host Name', 'Host Since', 'Host Location', 'Host About', 'Host Response Time', 'Host Response Rate', 'Host Acceptance Rate', 'Host Thumbnail Url', 'Host Picture Url', 'Host Neighbourhood', 'Host Listings Count', 'Host Total Listings Count', 'Host Verifications', 'Street', 'Neighbourhood', 'Neighbourhood Cleansed', 'Neighbourhood Group Cleansed', 'City', 'State', 'Zipcode', 'Market', 'Smart Location', 'Country Code', 'Latitude', 'Longitude', 'Property Type', 'Room Type', 'Accommodates', 'Bathrooms', 'Bedrooms', 'Beds', 'Bed Type', 'Amenities', 'Square Feet', 'Price', 'Weekly Price', 'Monthly Price', 'Security Deposit', 'Cleaning Fee', 'Guests Included', 'Extra People', 'Minimum Nights', 'Maximum Nights', 'Calendar Updated', 'Has Availability', 'Availability 30', 'Availability 60', 'Availability 90', 'Availability 365', 'Calendar last Scraped', 'Number of Reviews', 'First Review', 'Last Review', 'Review Scores Rating', 'Review Scores Accuracy', 'Review Scores Cleanliness', 'Review Scores Checkin', 'Review Scores Communication', 'Review Scores Location', 'Review Scores Value', 'License', 'Jurisdiction Names', 'Cancellation Policy', 'Calculated host listings count', 'Reviews per Month', 'Geolocation', 'Features'] \n",
            "\n",
            "No Existe\n",
            "\n"
          ]
        }
      ],
      "source": [
        "name = \"Country\"\n",
        "print(\"Valido que 'Country' se encuentra en la lista_columnas - original - \\n\")\n",
        "if name in lista_columnas:\n",
        "    print(\"Sí Existe\\n\")\n",
        "    print(\"Lo borro !!!!\")\n",
        "    data.drop(name, axis=1, inplace=True)\n",
        "else:\n",
        "    print(\"No Existe\\n\")\n",
        "lista_columnas = list(data.columns.values)\n",
        "print(\"\\nLa nueva lista de columnas es --> \\n \\n\", lista_columnas, \"\\n\")\n",
        "if name in lista_columnas:\n",
        "    print(\"Sí Existe\\n\")\n",
        "else:\n",
        "    print(\"No Existe\\n\")"
      ],
      "id": "d3d9ea6f"
    },
    {
      "cell_type": "markdown",
      "metadata": {
        "id": "7bba1209"
      },
      "source": [
        "Ahora, eliminaré la siguiente lista de columnas, que tienen más del 70% de NAs"
      ],
      "id": "7bba1209"
    },
    {
      "cell_type": "code",
      "source": [
        "columnas_borrar"
      ],
      "metadata": {
        "colab": {
          "base_uri": "https://localhost:8080/"
        },
        "id": "Aho9NB5dQLIl",
        "outputId": "8c71f97c-897a-481a-b026-e0d5f5540507"
      },
      "id": "Aho9NB5dQLIl",
      "execution_count": 19,
      "outputs": [
        {
          "output_type": "execute_result",
          "data": {
            "text/plain": [
              "['Neighborhood Overview',\n",
              " 'Notes',\n",
              " 'Transit',\n",
              " 'Access',\n",
              " 'Interaction',\n",
              " 'House Rules',\n",
              " 'Host About',\n",
              " 'Host Acceptance Rate',\n",
              " 'Neighbourhood',\n",
              " 'Square Feet',\n",
              " 'Weekly Price',\n",
              " 'Monthly Price',\n",
              " 'Security Deposit',\n",
              " 'Cleaning Fee',\n",
              " 'Has Availability',\n",
              " 'License',\n",
              " 'Jurisdiction Names']"
            ]
          },
          "metadata": {},
          "execution_count": 19
        }
      ]
    },
    {
      "cell_type": "code",
      "execution_count": 20,
      "metadata": {
        "id": "620d192d",
        "colab": {
          "base_uri": "https://localhost:8080/"
        },
        "outputId": "750648b6-c04e-41dd-d702-eec5bcdfd2c5"
      },
      "outputs": [
        {
          "output_type": "stream",
          "name": "stdout",
          "text": [
            "['Neighborhood Overview', 'Notes', 'Transit', 'Access', 'Interaction', 'House Rules', 'Host About', 'Host Acceptance Rate', 'Neighbourhood', 'Square Feet', 'Weekly Price', 'Monthly Price', 'Security Deposit', 'Cleaning Fee', 'Has Availability', 'License', 'Jurisdiction Names']\n",
            "He reducido el número de columnas a -->  72\n",
            "Estas son las que quedan ---> \n",
            " Index(['ID', 'Listing Url', 'Scrape ID', 'Last Scraped', 'Name', 'Summary',\n",
            "       'Space', 'Description', 'Experiences Offered', 'Thumbnail Url',\n",
            "       'Medium Url', 'Picture Url', 'XL Picture Url', 'Host ID', 'Host URL',\n",
            "       'Host Name', 'Host Since', 'Host Location', 'Host Response Time',\n",
            "       'Host Response Rate', 'Host Thumbnail Url', 'Host Picture Url',\n",
            "       'Host Neighbourhood', 'Host Listings Count',\n",
            "       'Host Total Listings Count', 'Host Verifications', 'Street',\n",
            "       'Neighbourhood', 'Neighbourhood Cleansed',\n",
            "       'Neighbourhood Group Cleansed', 'City', 'State', 'Zipcode', 'Market',\n",
            "       'Smart Location', 'Country Code', 'Latitude', 'Longitude',\n",
            "       'Property Type', 'Room Type', 'Accommodates', 'Bathrooms', 'Bedrooms',\n",
            "       'Beds', 'Bed Type', 'Amenities', 'Price', 'Guests Included',\n",
            "       'Extra People', 'Minimum Nights', 'Maximum Nights', 'Calendar Updated',\n",
            "       'Availability 30', 'Availability 60', 'Availability 90',\n",
            "       'Availability 365', 'Calendar last Scraped', 'Number of Reviews',\n",
            "       'First Review', 'Last Review', 'Review Scores Rating',\n",
            "       'Review Scores Accuracy', 'Review Scores Cleanliness',\n",
            "       'Review Scores Checkin', 'Review Scores Communication',\n",
            "       'Review Scores Location', 'Review Scores Value', 'Cancellation Policy',\n",
            "       'Calculated host listings count', 'Reviews per Month', 'Geolocation',\n",
            "       'Features'],\n",
            "      dtype='object')\n"
          ]
        }
      ],
      "source": [
        "no_elimino = ['Neighbourhood'] # Voy a mantener 'Neighbourhood', pues pienso que aporta info valiosa y está en el límite. \n",
        "print(columnas_borrar)\n",
        "columnas_borrar = [x for x in columnas_borrar if x not in no_elimino]\n",
        "data = data.drop(columnas_borrar, axis = 1)\n",
        "lista_columnas = data.columns.values\n",
        "print(\"He reducido el número de columnas a --> \", len(lista_columnas))\n",
        "print(\"Estas son las que quedan ---> \\n\", data.columns)"
      ],
      "id": "620d192d"
    },
    {
      "cell_type": "markdown",
      "metadata": {
        "id": "c1a2dfdd"
      },
      "source": [
        "Voy a arreglar los códigos postales -->"
      ],
      "id": "c1a2dfdd"
    },
    {
      "cell_type": "markdown",
      "metadata": {
        "id": "7dd5cbf1"
      },
      "source": [
        "DataFrame.replace(to_replace=None, value=_NoDefault.no_default, *, inplace=False, limit=None, regex=False, method=_NoDefault.no_default)"
      ],
      "id": "7dd5cbf1"
    },
    {
      "cell_type": "markdown",
      "metadata": {
        "id": "8fb1b48e"
      },
      "source": [
        "* Los que inician con '0' no son de Madrid\n",
        "* Los códigos 46370, 84084,03430, 07320, probablemente no son de Madrid --> Se borrarán\n",
        "* 28002\\n28002 debe reemplazarse por 28002\n",
        "* 2802\\n28012 debe reemplazarse por 28012\n",
        "* 28051\\n28051 debe reemplazarse por 28051\n",
        "* 280013 debe reemplazarse por 28013\n",
        "* 28 es un error se elimina\n",
        "* 08015 parece 28015\n",
        "* 2015 y 2805 probablemente son 28015\n",
        "* 2804 probablemente es 28004\n",
        "* 28051\\n28051 debe reemplazarse por 28051\n",
        "* 29012 debe ser 28012\n",
        "* 27013 debe ser 28013\n",
        "* 20013 debe ser 28013\n",
        "* 20126 debe ser 28126\n",
        "* 27004 debe ser 28004\n",
        "* Hay que eliminar un '-'\n",
        "* 2815 debe ser 28015\n",
        "* Madrid 28004 debe ser 28004\n",
        "* 10100 debe ser 28100\n",
        "* Pondré toda la columna como int\n",
        "* Eliminaré todos los NA"
      ],
      "id": "8fb1b48e"
    },
    {
      "cell_type": "code",
      "execution_count": 21,
      "metadata": {
        "id": "3b10c1d7",
        "colab": {
          "base_uri": "https://localhost:8080/"
        },
        "outputId": "36c425a9-3db4-4bad-dae8-6a4f374dc750"
      },
      "outputs": [
        {
          "output_type": "execute_result",
          "data": {
            "text/plain": [
              "array([28001, 28002, 28003, 28004, 28005, 28006, 28007, 28008, 28009,\n",
              "       28010, 28011, 28012, 28013, 28014, 28015, 28016, 28017, 28018,\n",
              "       28019, 28020, 28021, 28022, 28023, 28024, 28025, 28026, 28027,\n",
              "       28028, 28029, 28030, 28031, 28032, 28033, 28034, 28035, 28036,\n",
              "       28037, 28038, 28039, 28040, 28041, 28042, 28043, 28044, 28045,\n",
              "       28046, 28047, 28048, 28049, 28050, 28051, 28052, 28053, 28054,\n",
              "       28055, 28056, 28058, 28060, 28094, 28100, 28105, 28126, 28224,\n",
              "       28290, 28660, 28730, 28830, 28850])"
            ]
          },
          "metadata": {},
          "execution_count": 21
        }
      ],
      "source": [
        "data['Zipcode'] = data['Zipcode'].replace({'28002\\n28002':28002, '2802\\n28012':28012, '08015':28015, '28051\\n28051':28051, 'Madrid 28004':28004}, inplace=False)\n",
        "data=data.dropna(subset=['Zipcode'])\n",
        "data = data.drop(data[data.Zipcode == '-'].index)\n",
        "data = data.astype({'Zipcode':'int'})\n",
        "data['Zipcode'] = data['Zipcode'].replace({25008: 28008, 2805:28015, 280013:28013, 2015:28015, 2805:28015, 2804:28004, 29012:28012, 27013:28013, 2815:28015, 10100:28100, 20013: 28013, 20126: 28126, 27004: 28004, 29230:28830}, inplace=False)\n",
        "data = data.drop(data[data.Zipcode == 28].index)\n",
        "data = data.drop(data[data.Zipcode > 30000].index)\n",
        "data = data.drop(data[data.Zipcode == 3430].index)\n",
        "data = data.drop(data[data.Zipcode == 7320].index)\n",
        "np.unique(data.Zipcode)"
      ],
      "id": "3b10c1d7"
    },
    {
      "cell_type": "markdown",
      "metadata": {
        "id": "04d6f885"
      },
      "source": [
        "### Ahora analizo de la estructura de mi dataframe\n"
      ],
      "id": "04d6f885"
    },
    {
      "cell_type": "code",
      "execution_count": 22,
      "metadata": {
        "colab": {
          "base_uri": "https://localhost:8080/"
        },
        "id": "d049e32b",
        "outputId": "4dd1fc0a-0b10-40a9-9a00-c27b703776cb"
      },
      "outputs": [
        {
          "output_type": "execute_result",
          "data": {
            "text/plain": [
              "ID                                  int64\n",
              "Listing Url                        object\n",
              "Scrape ID                           int64\n",
              "Last Scraped                       object\n",
              "Name                               object\n",
              "Summary                            object\n",
              "Space                              object\n",
              "Description                        object\n",
              "Experiences Offered                object\n",
              "Thumbnail Url                      object\n",
              "Medium Url                         object\n",
              "Picture Url                        object\n",
              "XL Picture Url                     object\n",
              "Host ID                             int64\n",
              "Host URL                           object\n",
              "Host Name                          object\n",
              "Host Since                         object\n",
              "Host Location                      object\n",
              "Host Response Time                 object\n",
              "Host Response Rate                float64\n",
              "Host Thumbnail Url                 object\n",
              "Host Picture Url                   object\n",
              "Host Neighbourhood                 object\n",
              "Host Listings Count               float64\n",
              "Host Total Listings Count         float64\n",
              "Host Verifications                 object\n",
              "Street                             object\n",
              "Neighbourhood                      object\n",
              "Neighbourhood Cleansed             object\n",
              "Neighbourhood Group Cleansed       object\n",
              "City                               object\n",
              "State                              object\n",
              "Zipcode                             int64\n",
              "Market                             object\n",
              "Smart Location                     object\n",
              "Country Code                       object\n",
              "Latitude                          float64\n",
              "Longitude                         float64\n",
              "Property Type                      object\n",
              "Room Type                          object\n",
              "Accommodates                        int64\n",
              "Bathrooms                         float64\n",
              "Bedrooms                          float64\n",
              "Beds                              float64\n",
              "Bed Type                           object\n",
              "Amenities                          object\n",
              "Price                             float64\n",
              "Guests Included                     int64\n",
              "Extra People                        int64\n",
              "Minimum Nights                      int64\n",
              "Maximum Nights                      int64\n",
              "Calendar Updated                   object\n",
              "Availability 30                     int64\n",
              "Availability 60                     int64\n",
              "Availability 90                     int64\n",
              "Availability 365                    int64\n",
              "Calendar last Scraped              object\n",
              "Number of Reviews                   int64\n",
              "First Review                       object\n",
              "Last Review                        object\n",
              "Review Scores Rating              float64\n",
              "Review Scores Accuracy            float64\n",
              "Review Scores Cleanliness         float64\n",
              "Review Scores Checkin             float64\n",
              "Review Scores Communication       float64\n",
              "Review Scores Location            float64\n",
              "Review Scores Value               float64\n",
              "Cancellation Policy                object\n",
              "Calculated host listings count    float64\n",
              "Reviews per Month                 float64\n",
              "Geolocation                        object\n",
              "Features                           object\n",
              "dtype: object"
            ]
          },
          "metadata": {},
          "execution_count": 22
        }
      ],
      "source": [
        "data.dtypes"
      ],
      "id": "d049e32b"
    },
    {
      "cell_type": "markdown",
      "source": [
        "## Existen muchas columnas tipo 'object'. voy a revisar el número de valores únicos en cada una. "
      ],
      "metadata": {
        "id": "xblLtU6vcZW5"
      },
      "id": "xblLtU6vcZW5"
    },
    {
      "cell_type": "code",
      "source": [
        "lista_columnas = list(data.columns.values)\n",
        "dict_unique = {} # Para ver cuántos datos únicos contiene\n",
        "\n",
        "columnas_object = list(data.select_dtypes(include=['object']).columns)\n",
        "\n",
        "# loop through the object columns and count the unique values\n",
        "for columna in columnas_object:\n",
        "    dict_unique[columna] = len(data[columna].unique())\n",
        "\n",
        "print(\"Los valores únicos en las columnas tipo object son --> \\n\", dict_unique)"
      ],
      "metadata": {
        "colab": {
          "base_uri": "https://localhost:8080/"
        },
        "id": "fdyZBRQEcpbe",
        "outputId": "53653598-5a9f-427f-977d-a689918fbb65"
      },
      "id": "fdyZBRQEcpbe",
      "execution_count": 23,
      "outputs": [
        {
          "output_type": "stream",
          "name": "stdout",
          "text": [
            "Los valores únicos en las columnas tipo object son --> \n",
            " {'Listing Url': 12824, 'Last Scraped': 1, 'Name': 12448, 'Summary': 11579, 'Space': 8751, 'Description': 12379, 'Experiences Offered': 1, 'Thumbnail Url': 10403, 'Medium Url': 10403, 'Picture Url': 12804, 'XL Picture Url': 10403, 'Host URL': 7870, 'Host Name': 2917, 'Host Since': 2049, 'Host Location': 503, 'Host Response Time': 5, 'Host Thumbnail Url': 7834, 'Host Picture Url': 7834, 'Host Neighbourhood': 108, 'Host Verifications': 188, 'Street': 721, 'Neighbourhood': 66, 'Neighbourhood Cleansed': 126, 'Neighbourhood Group Cleansed': 21, 'City': 34, 'State': 25, 'Market': 1, 'Smart Location': 35, 'Country Code': 2, 'Property Type': 22, 'Room Type': 3, 'Bed Type': 5, 'Amenities': 10712, 'Calendar Updated': 57, 'Calendar last Scraped': 2, 'First Review': 1605, 'Last Review': 702, 'Cancellation Policy': 5, 'Geolocation': 12824, 'Features': 61}\n"
          ]
        }
      ]
    },
    {
      "cell_type": "code",
      "source": [
        "data['Smart Location'].unique()"
      ],
      "metadata": {
        "colab": {
          "base_uri": "https://localhost:8080/"
        },
        "id": "dVZrbkbslRn1",
        "outputId": "f66274c6-18c3-4d05-ea3d-4757f380487b"
      },
      "id": "dVZrbkbslRn1",
      "execution_count": 24,
      "outputs": [
        {
          "output_type": "execute_result",
          "data": {
            "text/plain": [
              "array(['Madrid, Spain', '马德里, Spain',\n",
              "       'Madrid, Comunidad de Madrid, ES, Spain',\n",
              "       'Pozuelo de Alarcón, Spain', 'Madrid , Spain', 'Madri, Spain',\n",
              "       'Barcelona , Spain', '馬德里, Spain', 'Boadilla del Monte, Spain',\n",
              "       'Delicias-Madrid, Spain', 'madrid, Spain', 'Pozuelo, Spain',\n",
              "       'las matas  madrid, Spain', 'Madid, Spain', 'San Lázaro, Spain',\n",
              "       'Málaga, Spain', 'La Elipa, Spain', 'Comunidad de Madrid, Spain',\n",
              "       'La Habana, Cuba', 'Aravaca (Madrid), Spain', 'Ventas, Spain',\n",
              "       'Chueca, Spain', 'Motilla del Palancar, Spain',\n",
              "       'San Fernando de Henares, Spain', 'Chueca, Madrid, Spain',\n",
              "       'Malaga, Spain', 'Valderrodrigo, Spain', 'Delicias, Spain',\n",
              "       'Madrid, Vallecas (Fontarrón), Spain', 'MADRID, Spain',\n",
              "       'Centro, Spain', 'Centro, Madrid, Spain', 'MADRID , Spain',\n",
              "       'villa verde bajo, Spain', 'Aravaca , Spain'], dtype=object)"
            ]
          },
          "metadata": {},
          "execution_count": 24
        }
      ]
    },
    {
      "cell_type": "code",
      "source": [
        "(data['Country Code'] == 'ES').sum()"
      ],
      "metadata": {
        "colab": {
          "base_uri": "https://localhost:8080/"
        },
        "id": "4lqS0k10msP0",
        "outputId": "e0a7a008-e81e-4967-d9f0-e3ee8b7c80a3"
      },
      "id": "4lqS0k10msP0",
      "execution_count": 25,
      "outputs": [
        {
          "output_type": "execute_result",
          "data": {
            "text/plain": [
              "12823"
            ]
          },
          "metadata": {},
          "execution_count": 25
        }
      ]
    },
    {
      "cell_type": "markdown",
      "source": [
        "Al analizar un poco las variables, encuentro esto: \n",
        "1. 'State' Se refiere a distintas maneras de decir 'Madrid' y muestra algunos errores. Por simplicidad del ejercicio, voy a eliminar esta columna. \n",
        "2. 'Market' solo tiene un valor (Madrid), puedo eliminarlo. \n",
        "3. 'Country Code' se refiere a España. Tiene un código 'CU' y solo tiene una ocurrencia. Puedo eliminarlo. \n",
        "4. 'Amenities' podría tener información valiosa, pero tiene 10.712 variaciones. Esto podría afectar el tiempo de cálculo, pues se tendrían que calcular este mismo número de columnas. Lo voy a eliminar. Igual a este caso, tengo 'Space', 'Name', 'Summary', 'Description'. \n",
        "5. 'Calendar last Scraped' está relacionado con la obtención de datos. Lo voy a eliminar. \n",
        "6. 'City' se refiere a Madrid y mezcla barrios. Voy a borrarlo. \n",
        "7. 'Experiences Offered' solo tiene el valor 'none'. Voy a borrarla. \n",
        "8. 'First Review' y 'Last Review' son fechas, voy a preprocesarlo utilizando StandardScaler\n"
      ],
      "metadata": {
        "id": "8_qeHkTHl-YY"
      },
      "id": "8_qeHkTHl-YY"
    },
    {
      "cell_type": "code",
      "source": [
        "columnas_borrar = ['State', 'Market', 'Country Code', 'Amenities', 'Calendar last Scraped']\n",
        "data.drop(columnas_borrar, axis=1, inplace=True)\n",
        "lista_columnas = data.columns.values\n",
        "print(\"Me quedan ahora \",len(lista_columnas), \"Columnas\")"
      ],
      "metadata": {
        "colab": {
          "base_uri": "https://localhost:8080/"
        },
        "id": "hOREQWYHrZIe",
        "outputId": "313ffd08-3ad8-41f9-8a1b-0c9f8ee1bb70"
      },
      "id": "hOREQWYHrZIe",
      "execution_count": 26,
      "outputs": [
        {
          "output_type": "stream",
          "name": "stdout",
          "text": [
            "Me quedan ahora  67 Columnas\n"
          ]
        }
      ]
    },
    {
      "cell_type": "code",
      "source": [
        "columnas_borrar = ['Space', 'Name', 'Summary', 'Description']\n",
        "data.drop(columnas_borrar, axis=1, inplace=True)\n",
        "lista_columnas = data.columns.values\n",
        "print(\"Me quedan ahora \",len(lista_columnas), \"Columnas\")"
      ],
      "metadata": {
        "colab": {
          "base_uri": "https://localhost:8080/"
        },
        "id": "OfRrNtqOvMIF",
        "outputId": "c1677a1d-1d42-464b-e992-f8ee03c0414a"
      },
      "id": "OfRrNtqOvMIF",
      "execution_count": 27,
      "outputs": [
        {
          "output_type": "stream",
          "name": "stdout",
          "text": [
            "Me quedan ahora  63 Columnas\n"
          ]
        }
      ]
    },
    {
      "cell_type": "code",
      "source": [
        "data.drop('City', axis=1, inplace=True)\n",
        "lista_columnas = data.columns.values\n",
        "print(\"Me quedan ahora \",len(lista_columnas), \"Columnas\")"
      ],
      "metadata": {
        "colab": {
          "base_uri": "https://localhost:8080/"
        },
        "id": "_u8dgpOavVOY",
        "outputId": "f47ef5ae-0e93-44b2-f21f-1e61572b2535"
      },
      "id": "_u8dgpOavVOY",
      "execution_count": 28,
      "outputs": [
        {
          "output_type": "stream",
          "name": "stdout",
          "text": [
            "Me quedan ahora  62 Columnas\n"
          ]
        }
      ]
    },
    {
      "cell_type": "markdown",
      "source": [
        "Voy a eliminar toda la info de scraping"
      ],
      "metadata": {
        "id": "rKNE6IKkweRR"
      },
      "id": "rKNE6IKkweRR"
    },
    {
      "cell_type": "code",
      "source": [
        "data.drop(['Scrape ID', 'Last Scraped'], axis=1, inplace=True)"
      ],
      "metadata": {
        "id": "GnT8bAJ3wccJ"
      },
      "id": "GnT8bAJ3wccJ",
      "execution_count": 29,
      "outputs": []
    },
    {
      "cell_type": "code",
      "source": [
        "lista_columnas = data.columns.values"
      ],
      "metadata": {
        "id": "0UMoCFKjwjtf"
      },
      "id": "0UMoCFKjwjtf",
      "execution_count": 30,
      "outputs": []
    },
    {
      "cell_type": "markdown",
      "source": [
        "Voy a eliminar 'Experiences Offered', pues solo tiene el valor 'none'."
      ],
      "metadata": {
        "id": "qEtV6yYTzN9D"
      },
      "id": "qEtV6yYTzN9D"
    },
    {
      "cell_type": "code",
      "source": [
        "data.drop('Experiences Offered', axis=1, inplace=True)\n",
        "lista_columnas = data.columns.values"
      ],
      "metadata": {
        "id": "EXQ1dV1gzOed"
      },
      "id": "EXQ1dV1gzOed",
      "execution_count": 31,
      "outputs": []
    },
    {
      "cell_type": "markdown",
      "source": [
        "Voy a preprocesar las columnas de fechas --> \n",
        "He detectado las siguientes: 'Host Since', 'First Review', 'Last Review'"
      ],
      "metadata": {
        "id": "RwDufZQavq1R"
      },
      "id": "RwDufZQavq1R"
    },
    {
      "cell_type": "code",
      "source": [
        "data['Host Since'].head()"
      ],
      "metadata": {
        "colab": {
          "base_uri": "https://localhost:8080/"
        },
        "id": "7B28EsF45RxL",
        "outputId": "021e4f25-533a-419f-8e1a-c257a55813ae"
      },
      "id": "7B28EsF45RxL",
      "execution_count": 32,
      "outputs": [
        {
          "output_type": "execute_result",
          "data": {
            "text/plain": [
              "40    2015-01-06\n",
              "41    2015-01-01\n",
              "42    2016-04-18\n",
              "43    2012-09-08\n",
              "44    2013-12-25\n",
              "Name: Host Since, dtype: object"
            ]
          },
          "metadata": {},
          "execution_count": 32
        }
      ]
    },
    {
      "cell_type": "code",
      "source": [
        "data_test = data"
      ],
      "metadata": {
        "id": "xThQ85rF6zZb"
      },
      "id": "xThQ85rF6zZb",
      "execution_count": 33,
      "outputs": []
    },
    {
      "cell_type": "code",
      "source": [
        "data = data_test"
      ],
      "metadata": {
        "id": "F60Ljcfa_PJD"
      },
      "id": "F60Ljcfa_PJD",
      "execution_count": 34,
      "outputs": []
    },
    {
      "cell_type": "markdown",
      "source": [
        "Voy a separar los datos de fecha en cada columna (día, mes, año)  -->\n",
        "\n",
        "---\n",
        "\n"
      ],
      "metadata": {
        "id": "hRlaEcwx_GEl"
      },
      "id": "hRlaEcwx_GEl"
    },
    {
      "cell_type": "code",
      "source": [
        "columnas_date = ['Host Since', 'First Review', 'Last Review']\n",
        "\n",
        "for columna in columnas_date:\n",
        "    data[columna] = pd.to_datetime(data[columna])\n",
        "    year_col = f\"{columna}_year\"\n",
        "    month_col = f\"{columna}_month\"\n",
        "    day_col = f\"{columna}_day\"\n",
        "    data[year_col] = data[columna].dt.year\n",
        "    data[month_col] = data[columna].dt.month\n",
        "    data[day_col] = data[columna].dt.day\n",
        "    fecha = [year_col, month_col, day_col]\n",
        "    #scaler = StandardScaler()\n",
        "    #data[fecha] = scaler.fit_transform(data[fecha])\n",
        "    data = data.drop(columna, axis=1)\n",
        "    data = data.rename(columns={fecha[i]: f\"{columna}_{fecha[i].split('_')[1]}\" for i in range(len(fecha))})\n"
      ],
      "metadata": {
        "id": "yyesAwzxvn_u"
      },
      "id": "yyesAwzxvn_u",
      "execution_count": 35,
      "outputs": []
    },
    {
      "cell_type": "code",
      "source": [
        "lista_columnas = data.columns.values"
      ],
      "metadata": {
        "id": "bGcNw8c67Xts"
      },
      "id": "bGcNw8c67Xts",
      "execution_count": 36,
      "outputs": []
    },
    {
      "cell_type": "code",
      "execution_count": 37,
      "metadata": {
        "colab": {
          "base_uri": "https://localhost:8080/"
        },
        "id": "61ecd457",
        "outputId": "67b11c66-d1af-4785-a866-22f4b70b0eee"
      },
      "outputs": [
        {
          "output_type": "execute_result",
          "data": {
            "text/plain": [
              "array(['ID', 'Listing Url', 'Thumbnail Url', 'Medium Url', 'Picture Url',\n",
              "       'XL Picture Url', 'Host ID', 'Host URL', 'Host Name',\n",
              "       'Host Location', 'Host Response Time', 'Host Response Rate',\n",
              "       'Host Thumbnail Url', 'Host Picture Url', 'Host Neighbourhood',\n",
              "       'Host Listings Count', 'Host Total Listings Count',\n",
              "       'Host Verifications', 'Street', 'Neighbourhood',\n",
              "       'Neighbourhood Cleansed', 'Neighbourhood Group Cleansed',\n",
              "       'Zipcode', 'Smart Location', 'Latitude', 'Longitude',\n",
              "       'Property Type', 'Room Type', 'Accommodates', 'Bathrooms',\n",
              "       'Bedrooms', 'Beds', 'Bed Type', 'Price', 'Guests Included',\n",
              "       'Extra People', 'Minimum Nights', 'Maximum Nights',\n",
              "       'Calendar Updated', 'Availability 30', 'Availability 60',\n",
              "       'Availability 90', 'Availability 365', 'Number of Reviews',\n",
              "       'Review Scores Rating', 'Review Scores Accuracy',\n",
              "       'Review Scores Cleanliness', 'Review Scores Checkin',\n",
              "       'Review Scores Communication', 'Review Scores Location',\n",
              "       'Review Scores Value', 'Cancellation Policy',\n",
              "       'Calculated host listings count', 'Reviews per Month',\n",
              "       'Geolocation', 'Features', 'Host Since_year', 'Host Since_month',\n",
              "       'Host Since_day', 'First Review_year', 'First Review_month',\n",
              "       'First Review_day', 'Last Review_year', 'Last Review_month',\n",
              "       'Last Review_day'], dtype=object)"
            ]
          },
          "metadata": {},
          "execution_count": 37
        }
      ],
      "source": [
        "lista_columnas"
      ],
      "id": "61ecd457"
    },
    {
      "cell_type": "code",
      "source": [
        "data['Last Review_year'].head()"
      ],
      "metadata": {
        "colab": {
          "base_uri": "https://localhost:8080/"
        },
        "id": "sgCQunaHFDZi",
        "outputId": "7b94f48e-3326-4f93-a564-d6ff4d9acd03"
      },
      "id": "sgCQunaHFDZi",
      "execution_count": 38,
      "outputs": [
        {
          "output_type": "execute_result",
          "data": {
            "text/plain": [
              "40    2017.0\n",
              "41    2017.0\n",
              "42    2017.0\n",
              "43    2016.0\n",
              "44       NaN\n",
              "Name: Last Review_year, dtype: float64"
            ]
          },
          "metadata": {},
          "execution_count": 38
        }
      ]
    },
    {
      "cell_type": "markdown",
      "source": [
        "'Geolocation' es una variable que incluye 'Latitude' y 'Longitude'. Analizándolo, se comporta como las fechas, en donde lo estoy dividiendo por partes. Voy a eliminar 'Geolocation' y a mantener las otras dos. "
      ],
      "metadata": {
        "id": "NQ-BmiLJILIB"
      },
      "id": "NQ-BmiLJILIB"
    },
    {
      "cell_type": "code",
      "source": [
        "data.drop('Geolocation', axis=1, inplace=True)"
      ],
      "metadata": {
        "id": "iNhNNx0dIGV6"
      },
      "id": "iNhNNx0dIGV6",
      "execution_count": 39,
      "outputs": []
    },
    {
      "cell_type": "markdown",
      "metadata": {
        "id": "a4f1b164"
      },
      "source": [
        "Ahora elimino las variables que pudieran ser redundantes, pues apuntan a la misma información. 'ID' apuntaría a un único 'Listing Url'; lo mismo para 'Host ID' con 'Host URL' y 'Host Name'; 'Smart Location' tiene errores y en su mayoría son distintas formas de nombrar a Madrid. \n",
        "\n",
        "Eliminaré: \n",
        "'Listing Url', 'Host URL', 'Host Name', 'Smart Location' \n",
        "\n"
      ],
      "id": "a4f1b164"
    },
    {
      "cell_type": "code",
      "source": [
        "data.drop(['Listing Url', 'Host URL', 'Host Name', 'Smart Location'], axis=1, inplace=True)\n",
        "lista_columnas=data.columns.values\n",
        "lista_columnas"
      ],
      "metadata": {
        "colab": {
          "base_uri": "https://localhost:8080/"
        },
        "id": "GXfmQ0uxJEgt",
        "outputId": "f22df4b9-4242-4f7b-8204-56787bc8e26b"
      },
      "id": "GXfmQ0uxJEgt",
      "execution_count": 40,
      "outputs": [
        {
          "output_type": "execute_result",
          "data": {
            "text/plain": [
              "array(['ID', 'Thumbnail Url', 'Medium Url', 'Picture Url',\n",
              "       'XL Picture Url', 'Host ID', 'Host Location', 'Host Response Time',\n",
              "       'Host Response Rate', 'Host Thumbnail Url', 'Host Picture Url',\n",
              "       'Host Neighbourhood', 'Host Listings Count',\n",
              "       'Host Total Listings Count', 'Host Verifications', 'Street',\n",
              "       'Neighbourhood', 'Neighbourhood Cleansed',\n",
              "       'Neighbourhood Group Cleansed', 'Zipcode', 'Latitude', 'Longitude',\n",
              "       'Property Type', 'Room Type', 'Accommodates', 'Bathrooms',\n",
              "       'Bedrooms', 'Beds', 'Bed Type', 'Price', 'Guests Included',\n",
              "       'Extra People', 'Minimum Nights', 'Maximum Nights',\n",
              "       'Calendar Updated', 'Availability 30', 'Availability 60',\n",
              "       'Availability 90', 'Availability 365', 'Number of Reviews',\n",
              "       'Review Scores Rating', 'Review Scores Accuracy',\n",
              "       'Review Scores Cleanliness', 'Review Scores Checkin',\n",
              "       'Review Scores Communication', 'Review Scores Location',\n",
              "       'Review Scores Value', 'Cancellation Policy',\n",
              "       'Calculated host listings count', 'Reviews per Month', 'Features',\n",
              "       'Host Since_year', 'Host Since_month', 'Host Since_day',\n",
              "       'First Review_year', 'First Review_month', 'First Review_day',\n",
              "       'Last Review_year', 'Last Review_month', 'Last Review_day'],\n",
              "      dtype=object)"
            ]
          },
          "metadata": {},
          "execution_count": 40
        }
      ]
    },
    {
      "cell_type": "code",
      "execution_count": 41,
      "metadata": {
        "colab": {
          "base_uri": "https://localhost:8080/"
        },
        "id": "9369e9c4",
        "outputId": "fa659a14-c8a8-41e9-dc4c-0343e371b295"
      },
      "outputs": [
        {
          "output_type": "execute_result",
          "data": {
            "text/plain": [
              "60"
            ]
          },
          "metadata": {},
          "execution_count": 41
        }
      ],
      "source": [
        "len(lista_columnas)"
      ],
      "id": "9369e9c4"
    },
    {
      "cell_type": "code",
      "source": [
        "dict_unique = {} # Reseteo los valores\n",
        "dict_char = {} # Para validar si un campo de \"lenguaje natural\"\n",
        "\n",
        "columnas_object = list(data.select_dtypes(include=['object']).columns)\n",
        "\n",
        "# loop through the object columns and count the unique values\n",
        "for columna in columnas_object:\n",
        "    dict_unique[columna] = len(data[columna].unique())\n",
        "    dict_char[columna] = data[columna].str.len().max()\n",
        "\n",
        "print(\"Los valores únicos en las columnas tipo object son --> \\n\", dict_unique)\n",
        "print(\"Los caracteres máximos en las columnas tipo object son --> \\n\", dict_char)"
      ],
      "metadata": {
        "colab": {
          "base_uri": "https://localhost:8080/"
        },
        "id": "kzrBkvW_LxUZ",
        "outputId": "c5aea214-de6c-4b10-8445-3aa9d23263ae"
      },
      "id": "kzrBkvW_LxUZ",
      "execution_count": 42,
      "outputs": [
        {
          "output_type": "stream",
          "name": "stdout",
          "text": [
            "Los valores únicos en las columnas tipo object son --> \n",
            " {'Thumbnail Url': 10403, 'Medium Url': 10403, 'Picture Url': 12804, 'XL Picture Url': 10403, 'Host Location': 503, 'Host Response Time': 5, 'Host Thumbnail Url': 7834, 'Host Picture Url': 7834, 'Host Neighbourhood': 108, 'Host Verifications': 188, 'Street': 721, 'Neighbourhood': 66, 'Neighbourhood Cleansed': 126, 'Neighbourhood Group Cleansed': 21, 'Property Type': 22, 'Room Type': 3, 'Bed Type': 5, 'Calendar Updated': 57, 'Cancellation Policy': 5, 'Features': 61}\n",
            "Los caracteres máximos en las columnas tipo object son --> \n",
            " {'Thumbnail Url': 93.0, 'Medium Url': 94.0, 'Picture Url': 110.0, 'XL Picture Url': 95.0, 'Host Location': 98.0, 'Host Response Time': 18.0, 'Host Thumbnail Url': 102.0, 'Host Picture Url': 105.0, 'Host Neighbourhood': 31.0, 'Host Verifications': 104.0, 'Street': 82, 'Neighbourhood': 19.0, 'Neighbourhood Cleansed': 28, 'Neighbourhood Group Cleansed': 21, 'Property Type': 18, 'Room Type': 15, 'Bed Type': 13, 'Calendar Updated': 13, 'Cancellation Policy': 15, 'Features': 176}\n"
          ]
        }
      ]
    },
    {
      "cell_type": "markdown",
      "source": [
        "Observando, tengo las URL de las imágenes, las cuales voy a dejar hasta procesarlas al final. \n",
        "\n",
        "Para reducir el requerimiento de cómputo y simplificar un poco , voy a dejar únicamente los valores categóricos que manejen menos de 22 elementos y Neighbourhood (que tiene 66 categorías). "
      ],
      "metadata": {
        "id": "gQZmzS2jS_Ib"
      },
      "id": "gQZmzS2jS_Ib"
    },
    {
      "cell_type": "code",
      "source": [
        "mantener = 'Neighbourhood'\n",
        "#mantener = ''\n",
        "max_categorias = 22\n",
        "\n",
        "columnas_objeto = data.select_dtypes(include='object')\n",
        "columnas_objeto = columnas_objeto.loc[:, ((columnas_objeto.nunique() <= max_categorias) | (columnas_objeto.apply(lambda x: x.str.startswith('http')).any())) | (columnas_objeto.columns == mantener)]\n",
        "columnas_numericas = data.select_dtypes(include=['int64', 'float64'])\n",
        "data = pd.concat([columnas_numericas, columnas_objeto], axis=1)\n",
        "\n",
        "lista_columnas = data.columns.values\n",
        "lista_columnas"
      ],
      "metadata": {
        "colab": {
          "base_uri": "https://localhost:8080/"
        },
        "id": "ZQxZJzloLxfQ",
        "outputId": "dec5ff4b-d50a-491e-e7e6-e146297d51f5"
      },
      "id": "ZQxZJzloLxfQ",
      "execution_count": 43,
      "outputs": [
        {
          "output_type": "execute_result",
          "data": {
            "text/plain": [
              "array(['ID', 'Host ID', 'Host Response Rate', 'Host Listings Count',\n",
              "       'Host Total Listings Count', 'Zipcode', 'Latitude', 'Longitude',\n",
              "       'Accommodates', 'Bathrooms', 'Bedrooms', 'Beds', 'Price',\n",
              "       'Guests Included', 'Extra People', 'Minimum Nights',\n",
              "       'Maximum Nights', 'Availability 30', 'Availability 60',\n",
              "       'Availability 90', 'Availability 365', 'Number of Reviews',\n",
              "       'Review Scores Rating', 'Review Scores Accuracy',\n",
              "       'Review Scores Cleanliness', 'Review Scores Checkin',\n",
              "       'Review Scores Communication', 'Review Scores Location',\n",
              "       'Review Scores Value', 'Calculated host listings count',\n",
              "       'Reviews per Month', 'Host Since_year', 'Host Since_month',\n",
              "       'Host Since_day', 'First Review_year', 'First Review_month',\n",
              "       'First Review_day', 'Last Review_year', 'Last Review_month',\n",
              "       'Last Review_day', 'Thumbnail Url', 'Medium Url', 'Picture Url',\n",
              "       'XL Picture Url', 'Host Response Time', 'Host Thumbnail Url',\n",
              "       'Host Picture Url', 'Neighbourhood',\n",
              "       'Neighbourhood Group Cleansed', 'Property Type', 'Room Type',\n",
              "       'Bed Type', 'Cancellation Policy'], dtype=object)"
            ]
          },
          "metadata": {},
          "execution_count": 43
        }
      ]
    },
    {
      "cell_type": "code",
      "source": [
        "print(\"Ahora, el total de columnas es de \", len(lista_columnas))"
      ],
      "metadata": {
        "colab": {
          "base_uri": "https://localhost:8080/"
        },
        "id": "Kfqap3qncFg4",
        "outputId": "4e088442-2ffb-468d-b124-910c7223c5af"
      },
      "id": "Kfqap3qncFg4",
      "execution_count": 44,
      "outputs": [
        {
          "output_type": "stream",
          "name": "stdout",
          "text": [
            "Ahora, el total de columnas es de  53\n"
          ]
        }
      ]
    },
    {
      "cell_type": "markdown",
      "source": [
        "Ahora toca \"codificar\" las variables categóricas. Utilizaré "
      ],
      "metadata": {
        "id": "4r_eMrVUheF7"
      },
      "id": "4r_eMrVUheF7"
    },
    {
      "cell_type": "code",
      "source": [
        "data.select_dtypes(include='object').head(1).T"
      ],
      "metadata": {
        "colab": {
          "base_uri": "https://localhost:8080/",
          "height": 0
        },
        "id": "FkGdG3bvnTyV",
        "outputId": "cfecb41d-e304-4aff-b42e-0215b7043ae2"
      },
      "id": "FkGdG3bvnTyV",
      "execution_count": 45,
      "outputs": [
        {
          "output_type": "execute_result",
          "data": {
            "text/plain": [
              "                                                                             40\n",
              "Thumbnail Url                 https://a0.muscache.com/im/pictures/86864154/1...\n",
              "Medium Url                    https://a0.muscache.com/im/pictures/86864154/1...\n",
              "Picture Url                   https://public.opendatasoft.com/api/v2/catalog...\n",
              "XL Picture Url                https://a0.muscache.com/im/pictures/86864154/1...\n",
              "Host Response Time                                               within an hour\n",
              "Host Thumbnail Url            https://a0.muscache.com/im/users/25709853/prof...\n",
              "Host Picture Url              https://a0.muscache.com/im/users/25709853/prof...\n",
              "Neighbourhood                                                               NaN\n",
              "Neighbourhood Group Cleansed                                             Retiro\n",
              "Property Type                                                         Apartment\n",
              "Room Type                                                          Private room\n",
              "Bed Type                                                               Real Bed\n",
              "Cancellation Policy                                                    flexible"
            ],
            "text/html": [
              "\n",
              "  <div id=\"df-303be9d0-b059-4858-a818-f58e4de2c74e\">\n",
              "    <div class=\"colab-df-container\">\n",
              "      <div>\n",
              "<style scoped>\n",
              "    .dataframe tbody tr th:only-of-type {\n",
              "        vertical-align: middle;\n",
              "    }\n",
              "\n",
              "    .dataframe tbody tr th {\n",
              "        vertical-align: top;\n",
              "    }\n",
              "\n",
              "    .dataframe thead th {\n",
              "        text-align: right;\n",
              "    }\n",
              "</style>\n",
              "<table border=\"1\" class=\"dataframe\">\n",
              "  <thead>\n",
              "    <tr style=\"text-align: right;\">\n",
              "      <th></th>\n",
              "      <th>40</th>\n",
              "    </tr>\n",
              "  </thead>\n",
              "  <tbody>\n",
              "    <tr>\n",
              "      <th>Thumbnail Url</th>\n",
              "      <td>https://a0.muscache.com/im/pictures/86864154/1...</td>\n",
              "    </tr>\n",
              "    <tr>\n",
              "      <th>Medium Url</th>\n",
              "      <td>https://a0.muscache.com/im/pictures/86864154/1...</td>\n",
              "    </tr>\n",
              "    <tr>\n",
              "      <th>Picture Url</th>\n",
              "      <td>https://public.opendatasoft.com/api/v2/catalog...</td>\n",
              "    </tr>\n",
              "    <tr>\n",
              "      <th>XL Picture Url</th>\n",
              "      <td>https://a0.muscache.com/im/pictures/86864154/1...</td>\n",
              "    </tr>\n",
              "    <tr>\n",
              "      <th>Host Response Time</th>\n",
              "      <td>within an hour</td>\n",
              "    </tr>\n",
              "    <tr>\n",
              "      <th>Host Thumbnail Url</th>\n",
              "      <td>https://a0.muscache.com/im/users/25709853/prof...</td>\n",
              "    </tr>\n",
              "    <tr>\n",
              "      <th>Host Picture Url</th>\n",
              "      <td>https://a0.muscache.com/im/users/25709853/prof...</td>\n",
              "    </tr>\n",
              "    <tr>\n",
              "      <th>Neighbourhood</th>\n",
              "      <td>NaN</td>\n",
              "    </tr>\n",
              "    <tr>\n",
              "      <th>Neighbourhood Group Cleansed</th>\n",
              "      <td>Retiro</td>\n",
              "    </tr>\n",
              "    <tr>\n",
              "      <th>Property Type</th>\n",
              "      <td>Apartment</td>\n",
              "    </tr>\n",
              "    <tr>\n",
              "      <th>Room Type</th>\n",
              "      <td>Private room</td>\n",
              "    </tr>\n",
              "    <tr>\n",
              "      <th>Bed Type</th>\n",
              "      <td>Real Bed</td>\n",
              "    </tr>\n",
              "    <tr>\n",
              "      <th>Cancellation Policy</th>\n",
              "      <td>flexible</td>\n",
              "    </tr>\n",
              "  </tbody>\n",
              "</table>\n",
              "</div>\n",
              "      <button class=\"colab-df-convert\" onclick=\"convertToInteractive('df-303be9d0-b059-4858-a818-f58e4de2c74e')\"\n",
              "              title=\"Convert this dataframe to an interactive table.\"\n",
              "              style=\"display:none;\">\n",
              "        \n",
              "  <svg xmlns=\"http://www.w3.org/2000/svg\" height=\"24px\"viewBox=\"0 0 24 24\"\n",
              "       width=\"24px\">\n",
              "    <path d=\"M0 0h24v24H0V0z\" fill=\"none\"/>\n",
              "    <path d=\"M18.56 5.44l.94 2.06.94-2.06 2.06-.94-2.06-.94-.94-2.06-.94 2.06-2.06.94zm-11 1L8.5 8.5l.94-2.06 2.06-.94-2.06-.94L8.5 2.5l-.94 2.06-2.06.94zm10 10l.94 2.06.94-2.06 2.06-.94-2.06-.94-.94-2.06-.94 2.06-2.06.94z\"/><path d=\"M17.41 7.96l-1.37-1.37c-.4-.4-.92-.59-1.43-.59-.52 0-1.04.2-1.43.59L10.3 9.45l-7.72 7.72c-.78.78-.78 2.05 0 2.83L4 21.41c.39.39.9.59 1.41.59.51 0 1.02-.2 1.41-.59l7.78-7.78 2.81-2.81c.8-.78.8-2.07 0-2.86zM5.41 20L4 18.59l7.72-7.72 1.47 1.35L5.41 20z\"/>\n",
              "  </svg>\n",
              "      </button>\n",
              "      \n",
              "  <style>\n",
              "    .colab-df-container {\n",
              "      display:flex;\n",
              "      flex-wrap:wrap;\n",
              "      gap: 12px;\n",
              "    }\n",
              "\n",
              "    .colab-df-convert {\n",
              "      background-color: #E8F0FE;\n",
              "      border: none;\n",
              "      border-radius: 50%;\n",
              "      cursor: pointer;\n",
              "      display: none;\n",
              "      fill: #1967D2;\n",
              "      height: 32px;\n",
              "      padding: 0 0 0 0;\n",
              "      width: 32px;\n",
              "    }\n",
              "\n",
              "    .colab-df-convert:hover {\n",
              "      background-color: #E2EBFA;\n",
              "      box-shadow: 0px 1px 2px rgba(60, 64, 67, 0.3), 0px 1px 3px 1px rgba(60, 64, 67, 0.15);\n",
              "      fill: #174EA6;\n",
              "    }\n",
              "\n",
              "    [theme=dark] .colab-df-convert {\n",
              "      background-color: #3B4455;\n",
              "      fill: #D2E3FC;\n",
              "    }\n",
              "\n",
              "    [theme=dark] .colab-df-convert:hover {\n",
              "      background-color: #434B5C;\n",
              "      box-shadow: 0px 1px 3px 1px rgba(0, 0, 0, 0.15);\n",
              "      filter: drop-shadow(0px 1px 2px rgba(0, 0, 0, 0.3));\n",
              "      fill: #FFFFFF;\n",
              "    }\n",
              "  </style>\n",
              "\n",
              "      <script>\n",
              "        const buttonEl =\n",
              "          document.querySelector('#df-303be9d0-b059-4858-a818-f58e4de2c74e button.colab-df-convert');\n",
              "        buttonEl.style.display =\n",
              "          google.colab.kernel.accessAllowed ? 'block' : 'none';\n",
              "\n",
              "        async function convertToInteractive(key) {\n",
              "          const element = document.querySelector('#df-303be9d0-b059-4858-a818-f58e4de2c74e');\n",
              "          const dataTable =\n",
              "            await google.colab.kernel.invokeFunction('convertToInteractive',\n",
              "                                                     [key], {});\n",
              "          if (!dataTable) return;\n",
              "\n",
              "          const docLinkHtml = 'Like what you see? Visit the ' +\n",
              "            '<a target=\"_blank\" href=https://colab.research.google.com/notebooks/data_table.ipynb>data table notebook</a>'\n",
              "            + ' to learn more about interactive tables.';\n",
              "          element.innerHTML = '';\n",
              "          dataTable['output_type'] = 'display_data';\n",
              "          await google.colab.output.renderOutput(dataTable, element);\n",
              "          const docLink = document.createElement('div');\n",
              "          docLink.innerHTML = docLinkHtml;\n",
              "          element.appendChild(docLink);\n",
              "        }\n",
              "      </script>\n",
              "    </div>\n",
              "  </div>\n",
              "  "
            ]
          },
          "metadata": {},
          "execution_count": 45
        }
      ]
    },
    {
      "cell_type": "code",
      "source": [
        "data['Thumbnail Url'].head(5)"
      ],
      "metadata": {
        "colab": {
          "base_uri": "https://localhost:8080/"
        },
        "id": "2ZljfVqT9Vk0",
        "outputId": "94b5aaae-eacb-49c1-f185-8833e0f419d5"
      },
      "id": "2ZljfVqT9Vk0",
      "execution_count": 46,
      "outputs": [
        {
          "output_type": "execute_result",
          "data": {
            "text/plain": [
              "40    https://a0.muscache.com/im/pictures/86864154/1...\n",
              "41    https://a0.muscache.com/im/pictures/69897767/2...\n",
              "42    https://a0.muscache.com/im/pictures/dbcf7393-b...\n",
              "43    https://a0.muscache.com/im/pictures/59706828/a...\n",
              "44    https://a0.muscache.com/im/pictures/20e6f47e-2...\n",
              "Name: Thumbnail Url, dtype: object"
            ]
          },
          "metadata": {},
          "execution_count": 46
        }
      ]
    },
    {
      "cell_type": "code",
      "source": [
        "# Lista de las columnas tipo objeto que no empiezan con http\n",
        "columnas_objeto = data.select_dtypes(include=['object']).columns[~data.select_dtypes(include=['object']).apply(lambda x: x.str.contains('http')).any()]\n",
        "\n",
        "columnas_objeto"
      ],
      "metadata": {
        "colab": {
          "base_uri": "https://localhost:8080/"
        },
        "id": "K7rgX9FghcG1",
        "outputId": "f9250058-33d5-4ec3-e912-24d0e2a718ec"
      },
      "id": "K7rgX9FghcG1",
      "execution_count": 47,
      "outputs": [
        {
          "output_type": "execute_result",
          "data": {
            "text/plain": [
              "Index(['Host Response Time', 'Neighbourhood', 'Neighbourhood Group Cleansed',\n",
              "       'Property Type', 'Room Type', 'Bed Type', 'Cancellation Policy'],\n",
              "      dtype='object')"
            ]
          },
          "metadata": {},
          "execution_count": 47
        }
      ]
    },
    {
      "cell_type": "code",
      "source": [
        "# Aplico los encoders\n",
        "df_encoded = pd.get_dummies(data, columns=columnas_objeto)\n",
        "df_encoded.head().T"
      ],
      "metadata": {
        "colab": {
          "base_uri": "https://localhost:8080/",
          "height": 0
        },
        "id": "VkIqIlNHhc0A",
        "outputId": "edceebb5-7698-4533-9802-f1a31aeaf328"
      },
      "id": "VkIqIlNHhc0A",
      "execution_count": 48,
      "outputs": [
        {
          "output_type": "execute_result",
          "data": {
            "text/plain": [
              "                                                                                                   40  \\\n",
              "ID                                                                                            6478626   \n",
              "Host ID                                                                                      25709853   \n",
              "Host Response Rate                                                                               84.0   \n",
              "Host Listings Count                                                                               3.0   \n",
              "Host Total Listings Count                                                                         3.0   \n",
              "Zipcode                                                                                         28007   \n",
              "Latitude                                                                                    40.406953   \n",
              "Longitude                                                                                   -3.670894   \n",
              "Accommodates                                                                                        2   \n",
              "Bathrooms                                                                                         2.0   \n",
              "Bedrooms                                                                                          1.0   \n",
              "Beds                                                                                              1.0   \n",
              "Price                                                                                            28.0   \n",
              "Guests Included                                                                                     1   \n",
              "Extra People                                                                                        5   \n",
              "Minimum Nights                                                                                      1   \n",
              "Maximum Nights                                                                                   1125   \n",
              "Availability 30                                                                                     0   \n",
              "Availability 60                                                                                     3   \n",
              "Availability 90                                                                                    12   \n",
              "Availability 365                                                                                  240   \n",
              "Number of Reviews                                                                                 171   \n",
              "Review Scores Rating                                                                             87.0   \n",
              "Review Scores Accuracy                                                                            9.0   \n",
              "Review Scores Cleanliness                                                                         9.0   \n",
              "Review Scores Checkin                                                                             9.0   \n",
              "Review Scores Communication                                                                       9.0   \n",
              "Review Scores Location                                                                            9.0   \n",
              "Review Scores Value                                                                               9.0   \n",
              "Calculated host listings count                                                                    3.0   \n",
              "Reviews per Month                                                                                7.71   \n",
              "Host Since_year                                                                                2015.0   \n",
              "Host Since_month                                                                                  1.0   \n",
              "Host Since_day                                                                                    6.0   \n",
              "First Review_year                                                                              2015.0   \n",
              "First Review_month                                                                                6.0   \n",
              "First Review_day                                                                                 14.0   \n",
              "Last Review_year                                                                               2017.0   \n",
              "Last Review_month                                                                                 3.0   \n",
              "Last Review_day                                                                                  22.0   \n",
              "Thumbnail Url                                       https://a0.muscache.com/im/pictures/86864154/1...   \n",
              "Medium Url                                          https://a0.muscache.com/im/pictures/86864154/1...   \n",
              "Picture Url                                         https://public.opendatasoft.com/api/v2/catalog...   \n",
              "XL Picture Url                                      https://a0.muscache.com/im/pictures/86864154/1...   \n",
              "Host Thumbnail Url                                  https://a0.muscache.com/im/users/25709853/prof...   \n",
              "Host Picture Url                                    https://a0.muscache.com/im/users/25709853/prof...   \n",
              "Host Response Time_a few days or more                                                               0   \n",
              "Host Response Time_within a day                                                                     0   \n",
              "Host Response Time_within a few hours                                                               0   \n",
              "Host Response Time_within an hour                                                                   1   \n",
              "Neighbourhood_Acacias                                                                               0   \n",
              "Neighbourhood_Adelfas                                                                               0   \n",
              "Neighbourhood_Almagro                                                                               0   \n",
              "Neighbourhood_Almenara                                                                              0   \n",
              "Neighbourhood_Aluche                                                                                0   \n",
              "Neighbourhood_Arapiles                                                                              0   \n",
              "Neighbourhood_Arganzuela                                                                            0   \n",
              "Neighbourhood_Argüelles                                                                             0   \n",
              "Neighbourhood_Atocha                                                                                0   \n",
              "Neighbourhood_Barajas                                                                               0   \n",
              "Neighbourhood_Bellas Vistas                                                                         0   \n",
              "Neighbourhood_Berruguete                                                                            0   \n",
              "Neighbourhood_Carabanchel                                                                           0   \n",
              "Neighbourhood_Castellana                                                                            0   \n",
              "Neighbourhood_Castilla                                                                              0   \n",
              "Neighbourhood_Castillejos                                                                           0   \n",
              "Neighbourhood_Centro                                                                                0   \n",
              "Neighbourhood_Chamberí                                                                              0   \n",
              "Neighbourhood_Ciudad Jardin                                                                         0   \n",
              "Neighbourhood_Ciudad Lineal                                                                         0   \n",
              "Neighbourhood_Cortes                                                                                0   \n",
              "Neighbourhood_Cuatro Caminos                                                                        0   \n",
              "Neighbourhood_Delicias                                                                              0   \n",
              "Neighbourhood_El Tréntaiseis                                                                        0   \n",
              "Neighbourhood_El Viso                                                                               0   \n",
              "Neighbourhood_Embajadores                                                                           0   \n",
              "Neighbourhood_Estrella                                                                              0   \n",
              "Neighbourhood_Fuencarral-El Pardo                                                                   0   \n",
              "Neighbourhood_Fuencarral-el Pardo                                                                   0   \n",
              "Neighbourhood_Fuente del Berro                                                                      0   \n",
              "Neighbourhood_Gaztambide                                                                            0   \n",
              "Neighbourhood_Goya                                                                                  0   \n",
              "Neighbourhood_Guindalera                                                                            0   \n",
              "Neighbourhood_Hispanoamérica                                                                        0   \n",
              "Neighbourhood_Hortaleza                                                                             0   \n",
              "Neighbourhood_Ibiza                                                                                 0   \n",
              "Neighbourhood_Imperial                                                                              0   \n",
              "Neighbourhood_Jerónimos                                                                             0   \n",
              "Neighbourhood_Justicia                                                                              0   \n",
              "Neighbourhood_La Chopera                                                                            0   \n",
              "Neighbourhood_La Latina                                                                             0   \n",
              "Neighbourhood_Legazpi                                                                               0   \n",
              "Neighbourhood_Lista                                                                                 0   \n",
              "Neighbourhood_Malasaña                                                                              0   \n",
              "Neighbourhood_Moncloa                                                                               0   \n",
              "Neighbourhood_Moratalaz                                                                             0   \n",
              "Neighbourhood_Nueva España                                                                          0   \n",
              "Neighbourhood_Pacifico                                                                              0   \n",
              "Neighbourhood_Palacio                                                                               0   \n",
              "Neighbourhood_Palos do Moguer                                                                       0   \n",
              "Neighbourhood_Prosperidad                                                                           0   \n",
              "Neighbourhood_Puente de Vallecas                                                                    0   \n",
              "Neighbourhood_Recoletos                                                                             0   \n",
              "Neighbourhood_Retiro                                                                                0   \n",
              "Neighbourhood_Rios Rosas                                                                            0   \n",
              "Neighbourhood_San Blas                                                                              0   \n",
              "Neighbourhood_Sol                                                                                   0   \n",
              "Neighbourhood_Tetuán                                                                                0   \n",
              "Neighbourhood_Trafalgar                                                                             0   \n",
              "Neighbourhood_Usera                                                                                 0   \n",
              "Neighbourhood_Valdeacederas                                                                         0   \n",
              "Neighbourhood_Vallehermosa                                                                          0   \n",
              "Neighbourhood_Vicálvaro                                                                             0   \n",
              "Neighbourhood_Villa de Vallecas                                                                     0   \n",
              "Neighbourhood_Villaverde                                                                            0   \n",
              "Neighbourhood Group Cleansed_Arganzuela                                                             0   \n",
              "Neighbourhood Group Cleansed_Barajas                                                                0   \n",
              "Neighbourhood Group Cleansed_Carabanchel                                                            0   \n",
              "Neighbourhood Group Cleansed_Centro                                                                 0   \n",
              "Neighbourhood Group Cleansed_Chamartín                                                              0   \n",
              "Neighbourhood Group Cleansed_Chamberí                                                               0   \n",
              "Neighbourhood Group Cleansed_Ciudad Lineal                                                          0   \n",
              "Neighbourhood Group Cleansed_Fuencarral - El Pardo                                                  0   \n",
              "Neighbourhood Group Cleansed_Hortaleza                                                              0   \n",
              "Neighbourhood Group Cleansed_Latina                                                                 0   \n",
              "Neighbourhood Group Cleansed_Moncloa - Aravaca                                                      0   \n",
              "Neighbourhood Group Cleansed_Moratalaz                                                              0   \n",
              "Neighbourhood Group Cleansed_Puente de Vallecas                                                     0   \n",
              "Neighbourhood Group Cleansed_Retiro                                                                 1   \n",
              "Neighbourhood Group Cleansed_Salamanca                                                              0   \n",
              "Neighbourhood Group Cleansed_San Blas - Canillejas                                                  0   \n",
              "Neighbourhood Group Cleansed_Tetuán                                                                 0   \n",
              "Neighbourhood Group Cleansed_Usera                                                                  0   \n",
              "Neighbourhood Group Cleansed_Vicálvaro                                                              0   \n",
              "Neighbourhood Group Cleansed_Villa de Vallecas                                                      0   \n",
              "Neighbourhood Group Cleansed_Villaverde                                                             0   \n",
              "Property Type_Apartment                                                                             1   \n",
              "Property Type_Bed & Breakfast                                                                       0   \n",
              "Property Type_Boat                                                                                  0   \n",
              "Property Type_Boutique hotel                                                                        0   \n",
              "Property Type_Bungalow                                                                              0   \n",
              "Property Type_Camper/RV                                                                             0   \n",
              "Property Type_Casa particular                                                                       0   \n",
              "Property Type_Chalet                                                                                0   \n",
              "Property Type_Condominium                                                                           0   \n",
              "Property Type_Dorm                                                                                  0   \n",
              "Property Type_Earth House                                                                           0   \n",
              "Property Type_Guest suite                                                                           0   \n",
              "Property Type_Guesthouse                                                                            0   \n",
              "Property Type_Hostel                                                                                0   \n",
              "Property Type_House                                                                                 0   \n",
              "Property Type_Loft                                                                                  0   \n",
              "Property Type_Other                                                                                 0   \n",
              "Property Type_Serviced apartment                                                                    0   \n",
              "Property Type_Tent                                                                                  0   \n",
              "Property Type_Timeshare                                                                             0   \n",
              "Property Type_Townhouse                                                                             0   \n",
              "Property Type_Villa                                                                                 0   \n",
              "Room Type_Entire home/apt                                                                           0   \n",
              "Room Type_Private room                                                                              1   \n",
              "Room Type_Shared room                                                                               0   \n",
              "Bed Type_Airbed                                                                                     0   \n",
              "Bed Type_Couch                                                                                      0   \n",
              "Bed Type_Futon                                                                                      0   \n",
              "Bed Type_Pull-out Sofa                                                                              0   \n",
              "Bed Type_Real Bed                                                                                   1   \n",
              "Cancellation Policy_flexible                                                                        1   \n",
              "Cancellation Policy_moderate                                                                        0   \n",
              "Cancellation Policy_strict                                                                          0   \n",
              "Cancellation Policy_super_strict_30                                                                 0   \n",
              "Cancellation Policy_super_strict_60                                                                 0   \n",
              "\n",
              "                                                                                                   41  \\\n",
              "ID                                                                                            4941335   \n",
              "Host ID                                                                                      25465787   \n",
              "Host Response Rate                                                                              100.0   \n",
              "Host Listings Count                                                                               1.0   \n",
              "Host Total Listings Count                                                                         1.0   \n",
              "Zipcode                                                                                         28001   \n",
              "Latitude                                                                                    40.425904   \n",
              "Longitude                                                                                   -3.681647   \n",
              "Accommodates                                                                                        2   \n",
              "Bathrooms                                                                                         1.0   \n",
              "Bedrooms                                                                                          0.0   \n",
              "Beds                                                                                              1.0   \n",
              "Price                                                                                            58.0   \n",
              "Guests Included                                                                                     1   \n",
              "Extra People                                                                                        0   \n",
              "Minimum Nights                                                                                      2   \n",
              "Maximum Nights                                                                                   1125   \n",
              "Availability 30                                                                                     4   \n",
              "Availability 60                                                                                     9   \n",
              "Availability 90                                                                                     9   \n",
              "Availability 365                                                                                   15   \n",
              "Number of Reviews                                                                                  52   \n",
              "Review Scores Rating                                                                             96.0   \n",
              "Review Scores Accuracy                                                                           10.0   \n",
              "Review Scores Cleanliness                                                                        10.0   \n",
              "Review Scores Checkin                                                                            10.0   \n",
              "Review Scores Communication                                                                      10.0   \n",
              "Review Scores Location                                                                           10.0   \n",
              "Review Scores Value                                                                              10.0   \n",
              "Calculated host listings count                                                                    1.0   \n",
              "Reviews per Month                                                                                2.03   \n",
              "Host Since_year                                                                                2015.0   \n",
              "Host Since_month                                                                                  1.0   \n",
              "Host Since_day                                                                                    1.0   \n",
              "First Review_year                                                                              2015.0   \n",
              "First Review_month                                                                                3.0   \n",
              "First Review_day                                                                                  2.0   \n",
              "Last Review_year                                                                               2017.0   \n",
              "Last Review_month                                                                                 2.0   \n",
              "Last Review_day                                                                                  12.0   \n",
              "Thumbnail Url                                       https://a0.muscache.com/im/pictures/69897767/2...   \n",
              "Medium Url                                          https://a0.muscache.com/im/pictures/69897767/2...   \n",
              "Picture Url                                         https://public.opendatasoft.com/api/v2/catalog...   \n",
              "XL Picture Url                                      https://a0.muscache.com/im/pictures/69897767/2...   \n",
              "Host Thumbnail Url                                  https://a0.muscache.com/im/users/25465787/prof...   \n",
              "Host Picture Url                                    https://a0.muscache.com/im/users/25465787/prof...   \n",
              "Host Response Time_a few days or more                                                               0   \n",
              "Host Response Time_within a day                                                                     0   \n",
              "Host Response Time_within a few hours                                                               1   \n",
              "Host Response Time_within an hour                                                                   0   \n",
              "Neighbourhood_Acacias                                                                               0   \n",
              "Neighbourhood_Adelfas                                                                               0   \n",
              "Neighbourhood_Almagro                                                                               0   \n",
              "Neighbourhood_Almenara                                                                              0   \n",
              "Neighbourhood_Aluche                                                                                0   \n",
              "Neighbourhood_Arapiles                                                                              0   \n",
              "Neighbourhood_Arganzuela                                                                            0   \n",
              "Neighbourhood_Argüelles                                                                             0   \n",
              "Neighbourhood_Atocha                                                                                0   \n",
              "Neighbourhood_Barajas                                                                               0   \n",
              "Neighbourhood_Bellas Vistas                                                                         0   \n",
              "Neighbourhood_Berruguete                                                                            0   \n",
              "Neighbourhood_Carabanchel                                                                           0   \n",
              "Neighbourhood_Castellana                                                                            0   \n",
              "Neighbourhood_Castilla                                                                              0   \n",
              "Neighbourhood_Castillejos                                                                           0   \n",
              "Neighbourhood_Centro                                                                                0   \n",
              "Neighbourhood_Chamberí                                                                              0   \n",
              "Neighbourhood_Ciudad Jardin                                                                         0   \n",
              "Neighbourhood_Ciudad Lineal                                                                         0   \n",
              "Neighbourhood_Cortes                                                                                0   \n",
              "Neighbourhood_Cuatro Caminos                                                                        0   \n",
              "Neighbourhood_Delicias                                                                              0   \n",
              "Neighbourhood_El Tréntaiseis                                                                        0   \n",
              "Neighbourhood_El Viso                                                                               0   \n",
              "Neighbourhood_Embajadores                                                                           0   \n",
              "Neighbourhood_Estrella                                                                              0   \n",
              "Neighbourhood_Fuencarral-El Pardo                                                                   0   \n",
              "Neighbourhood_Fuencarral-el Pardo                                                                   0   \n",
              "Neighbourhood_Fuente del Berro                                                                      0   \n",
              "Neighbourhood_Gaztambide                                                                            0   \n",
              "Neighbourhood_Goya                                                                                  0   \n",
              "Neighbourhood_Guindalera                                                                            0   \n",
              "Neighbourhood_Hispanoamérica                                                                        0   \n",
              "Neighbourhood_Hortaleza                                                                             0   \n",
              "Neighbourhood_Ibiza                                                                                 0   \n",
              "Neighbourhood_Imperial                                                                              0   \n",
              "Neighbourhood_Jerónimos                                                                             0   \n",
              "Neighbourhood_Justicia                                                                              0   \n",
              "Neighbourhood_La Chopera                                                                            0   \n",
              "Neighbourhood_La Latina                                                                             0   \n",
              "Neighbourhood_Legazpi                                                                               0   \n",
              "Neighbourhood_Lista                                                                                 0   \n",
              "Neighbourhood_Malasaña                                                                              0   \n",
              "Neighbourhood_Moncloa                                                                               0   \n",
              "Neighbourhood_Moratalaz                                                                             0   \n",
              "Neighbourhood_Nueva España                                                                          0   \n",
              "Neighbourhood_Pacifico                                                                              0   \n",
              "Neighbourhood_Palacio                                                                               0   \n",
              "Neighbourhood_Palos do Moguer                                                                       0   \n",
              "Neighbourhood_Prosperidad                                                                           0   \n",
              "Neighbourhood_Puente de Vallecas                                                                    0   \n",
              "Neighbourhood_Recoletos                                                                             1   \n",
              "Neighbourhood_Retiro                                                                                0   \n",
              "Neighbourhood_Rios Rosas                                                                            0   \n",
              "Neighbourhood_San Blas                                                                              0   \n",
              "Neighbourhood_Sol                                                                                   0   \n",
              "Neighbourhood_Tetuán                                                                                0   \n",
              "Neighbourhood_Trafalgar                                                                             0   \n",
              "Neighbourhood_Usera                                                                                 0   \n",
              "Neighbourhood_Valdeacederas                                                                         0   \n",
              "Neighbourhood_Vallehermosa                                                                          0   \n",
              "Neighbourhood_Vicálvaro                                                                             0   \n",
              "Neighbourhood_Villa de Vallecas                                                                     0   \n",
              "Neighbourhood_Villaverde                                                                            0   \n",
              "Neighbourhood Group Cleansed_Arganzuela                                                             0   \n",
              "Neighbourhood Group Cleansed_Barajas                                                                0   \n",
              "Neighbourhood Group Cleansed_Carabanchel                                                            0   \n",
              "Neighbourhood Group Cleansed_Centro                                                                 0   \n",
              "Neighbourhood Group Cleansed_Chamartín                                                              0   \n",
              "Neighbourhood Group Cleansed_Chamberí                                                               0   \n",
              "Neighbourhood Group Cleansed_Ciudad Lineal                                                          0   \n",
              "Neighbourhood Group Cleansed_Fuencarral - El Pardo                                                  0   \n",
              "Neighbourhood Group Cleansed_Hortaleza                                                              0   \n",
              "Neighbourhood Group Cleansed_Latina                                                                 0   \n",
              "Neighbourhood Group Cleansed_Moncloa - Aravaca                                                      0   \n",
              "Neighbourhood Group Cleansed_Moratalaz                                                              0   \n",
              "Neighbourhood Group Cleansed_Puente de Vallecas                                                     0   \n",
              "Neighbourhood Group Cleansed_Retiro                                                                 0   \n",
              "Neighbourhood Group Cleansed_Salamanca                                                              1   \n",
              "Neighbourhood Group Cleansed_San Blas - Canillejas                                                  0   \n",
              "Neighbourhood Group Cleansed_Tetuán                                                                 0   \n",
              "Neighbourhood Group Cleansed_Usera                                                                  0   \n",
              "Neighbourhood Group Cleansed_Vicálvaro                                                              0   \n",
              "Neighbourhood Group Cleansed_Villa de Vallecas                                                      0   \n",
              "Neighbourhood Group Cleansed_Villaverde                                                             0   \n",
              "Property Type_Apartment                                                                             1   \n",
              "Property Type_Bed & Breakfast                                                                       0   \n",
              "Property Type_Boat                                                                                  0   \n",
              "Property Type_Boutique hotel                                                                        0   \n",
              "Property Type_Bungalow                                                                              0   \n",
              "Property Type_Camper/RV                                                                             0   \n",
              "Property Type_Casa particular                                                                       0   \n",
              "Property Type_Chalet                                                                                0   \n",
              "Property Type_Condominium                                                                           0   \n",
              "Property Type_Dorm                                                                                  0   \n",
              "Property Type_Earth House                                                                           0   \n",
              "Property Type_Guest suite                                                                           0   \n",
              "Property Type_Guesthouse                                                                            0   \n",
              "Property Type_Hostel                                                                                0   \n",
              "Property Type_House                                                                                 0   \n",
              "Property Type_Loft                                                                                  0   \n",
              "Property Type_Other                                                                                 0   \n",
              "Property Type_Serviced apartment                                                                    0   \n",
              "Property Type_Tent                                                                                  0   \n",
              "Property Type_Timeshare                                                                             0   \n",
              "Property Type_Townhouse                                                                             0   \n",
              "Property Type_Villa                                                                                 0   \n",
              "Room Type_Entire home/apt                                                                           1   \n",
              "Room Type_Private room                                                                              0   \n",
              "Room Type_Shared room                                                                               0   \n",
              "Bed Type_Airbed                                                                                     0   \n",
              "Bed Type_Couch                                                                                      0   \n",
              "Bed Type_Futon                                                                                      0   \n",
              "Bed Type_Pull-out Sofa                                                                              0   \n",
              "Bed Type_Real Bed                                                                                   1   \n",
              "Cancellation Policy_flexible                                                                        0   \n",
              "Cancellation Policy_moderate                                                                        1   \n",
              "Cancellation Policy_strict                                                                          0   \n",
              "Cancellation Policy_super_strict_30                                                                 0   \n",
              "Cancellation Policy_super_strict_60                                                                 0   \n",
              "\n",
              "                                                                                                   42  \\\n",
              "ID                                                                                           12510355   \n",
              "Host ID                                                                                      67750039   \n",
              "Host Response Rate                                                                              100.0   \n",
              "Host Listings Count                                                                               2.0   \n",
              "Host Total Listings Count                                                                         2.0   \n",
              "Zipcode                                                                                         28001   \n",
              "Latitude                                                                                    40.428352   \n",
              "Longitude                                                                                   -3.687155   \n",
              "Accommodates                                                                                        3   \n",
              "Bathrooms                                                                                         1.0   \n",
              "Bedrooms                                                                                          0.0   \n",
              "Beds                                                                                              2.0   \n",
              "Price                                                                                            70.0   \n",
              "Guests Included                                                                                     2   \n",
              "Extra People                                                                                       15   \n",
              "Minimum Nights                                                                                      2   \n",
              "Maximum Nights                                                                                   1125   \n",
              "Availability 30                                                                                     7   \n",
              "Availability 60                                                                                    15   \n",
              "Availability 90                                                                                    32   \n",
              "Availability 365                                                                                  292   \n",
              "Number of Reviews                                                                                  36   \n",
              "Review Scores Rating                                                                             87.0   \n",
              "Review Scores Accuracy                                                                            9.0   \n",
              "Review Scores Cleanliness                                                                         9.0   \n",
              "Review Scores Checkin                                                                            10.0   \n",
              "Review Scores Communication                                                                      10.0   \n",
              "Review Scores Location                                                                           10.0   \n",
              "Review Scores Value                                                                               9.0   \n",
              "Calculated host listings count                                                                    1.0   \n",
              "Reviews per Month                                                                                3.28   \n",
              "Host Since_year                                                                                2016.0   \n",
              "Host Since_month                                                                                  4.0   \n",
              "Host Since_day                                                                                   18.0   \n",
              "First Review_year                                                                              2016.0   \n",
              "First Review_month                                                                                5.0   \n",
              "First Review_day                                                                                 15.0   \n",
              "Last Review_year                                                                               2017.0   \n",
              "Last Review_month                                                                                 4.0   \n",
              "Last Review_day                                                                                   2.0   \n",
              "Thumbnail Url                                       https://a0.muscache.com/im/pictures/dbcf7393-b...   \n",
              "Medium Url                                          https://a0.muscache.com/im/pictures/dbcf7393-b...   \n",
              "Picture Url                                         https://public.opendatasoft.com/api/v2/catalog...   \n",
              "XL Picture Url                                      https://a0.muscache.com/im/pictures/dbcf7393-b...   \n",
              "Host Thumbnail Url                                  https://a0.muscache.com/im/pictures/bff15a50-2...   \n",
              "Host Picture Url                                    https://a0.muscache.com/im/pictures/bff15a50-2...   \n",
              "Host Response Time_a few days or more                                                               0   \n",
              "Host Response Time_within a day                                                                     0   \n",
              "Host Response Time_within a few hours                                                               0   \n",
              "Host Response Time_within an hour                                                                   1   \n",
              "Neighbourhood_Acacias                                                                               0   \n",
              "Neighbourhood_Adelfas                                                                               0   \n",
              "Neighbourhood_Almagro                                                                               0   \n",
              "Neighbourhood_Almenara                                                                              0   \n",
              "Neighbourhood_Aluche                                                                                0   \n",
              "Neighbourhood_Arapiles                                                                              0   \n",
              "Neighbourhood_Arganzuela                                                                            0   \n",
              "Neighbourhood_Argüelles                                                                             0   \n",
              "Neighbourhood_Atocha                                                                                0   \n",
              "Neighbourhood_Barajas                                                                               0   \n",
              "Neighbourhood_Bellas Vistas                                                                         0   \n",
              "Neighbourhood_Berruguete                                                                            0   \n",
              "Neighbourhood_Carabanchel                                                                           0   \n",
              "Neighbourhood_Castellana                                                                            0   \n",
              "Neighbourhood_Castilla                                                                              0   \n",
              "Neighbourhood_Castillejos                                                                           0   \n",
              "Neighbourhood_Centro                                                                                0   \n",
              "Neighbourhood_Chamberí                                                                              0   \n",
              "Neighbourhood_Ciudad Jardin                                                                         0   \n",
              "Neighbourhood_Ciudad Lineal                                                                         0   \n",
              "Neighbourhood_Cortes                                                                                0   \n",
              "Neighbourhood_Cuatro Caminos                                                                        0   \n",
              "Neighbourhood_Delicias                                                                              0   \n",
              "Neighbourhood_El Tréntaiseis                                                                        0   \n",
              "Neighbourhood_El Viso                                                                               0   \n",
              "Neighbourhood_Embajadores                                                                           0   \n",
              "Neighbourhood_Estrella                                                                              0   \n",
              "Neighbourhood_Fuencarral-El Pardo                                                                   0   \n",
              "Neighbourhood_Fuencarral-el Pardo                                                                   0   \n",
              "Neighbourhood_Fuente del Berro                                                                      0   \n",
              "Neighbourhood_Gaztambide                                                                            0   \n",
              "Neighbourhood_Goya                                                                                  0   \n",
              "Neighbourhood_Guindalera                                                                            0   \n",
              "Neighbourhood_Hispanoamérica                                                                        0   \n",
              "Neighbourhood_Hortaleza                                                                             0   \n",
              "Neighbourhood_Ibiza                                                                                 0   \n",
              "Neighbourhood_Imperial                                                                              0   \n",
              "Neighbourhood_Jerónimos                                                                             0   \n",
              "Neighbourhood_Justicia                                                                              0   \n",
              "Neighbourhood_La Chopera                                                                            0   \n",
              "Neighbourhood_La Latina                                                                             0   \n",
              "Neighbourhood_Legazpi                                                                               0   \n",
              "Neighbourhood_Lista                                                                                 0   \n",
              "Neighbourhood_Malasaña                                                                              0   \n",
              "Neighbourhood_Moncloa                                                                               0   \n",
              "Neighbourhood_Moratalaz                                                                             0   \n",
              "Neighbourhood_Nueva España                                                                          0   \n",
              "Neighbourhood_Pacifico                                                                              0   \n",
              "Neighbourhood_Palacio                                                                               0   \n",
              "Neighbourhood_Palos do Moguer                                                                       0   \n",
              "Neighbourhood_Prosperidad                                                                           0   \n",
              "Neighbourhood_Puente de Vallecas                                                                    0   \n",
              "Neighbourhood_Recoletos                                                                             1   \n",
              "Neighbourhood_Retiro                                                                                0   \n",
              "Neighbourhood_Rios Rosas                                                                            0   \n",
              "Neighbourhood_San Blas                                                                              0   \n",
              "Neighbourhood_Sol                                                                                   0   \n",
              "Neighbourhood_Tetuán                                                                                0   \n",
              "Neighbourhood_Trafalgar                                                                             0   \n",
              "Neighbourhood_Usera                                                                                 0   \n",
              "Neighbourhood_Valdeacederas                                                                         0   \n",
              "Neighbourhood_Vallehermosa                                                                          0   \n",
              "Neighbourhood_Vicálvaro                                                                             0   \n",
              "Neighbourhood_Villa de Vallecas                                                                     0   \n",
              "Neighbourhood_Villaverde                                                                            0   \n",
              "Neighbourhood Group Cleansed_Arganzuela                                                             0   \n",
              "Neighbourhood Group Cleansed_Barajas                                                                0   \n",
              "Neighbourhood Group Cleansed_Carabanchel                                                            0   \n",
              "Neighbourhood Group Cleansed_Centro                                                                 0   \n",
              "Neighbourhood Group Cleansed_Chamartín                                                              0   \n",
              "Neighbourhood Group Cleansed_Chamberí                                                               0   \n",
              "Neighbourhood Group Cleansed_Ciudad Lineal                                                          0   \n",
              "Neighbourhood Group Cleansed_Fuencarral - El Pardo                                                  0   \n",
              "Neighbourhood Group Cleansed_Hortaleza                                                              0   \n",
              "Neighbourhood Group Cleansed_Latina                                                                 0   \n",
              "Neighbourhood Group Cleansed_Moncloa - Aravaca                                                      0   \n",
              "Neighbourhood Group Cleansed_Moratalaz                                                              0   \n",
              "Neighbourhood Group Cleansed_Puente de Vallecas                                                     0   \n",
              "Neighbourhood Group Cleansed_Retiro                                                                 0   \n",
              "Neighbourhood Group Cleansed_Salamanca                                                              1   \n",
              "Neighbourhood Group Cleansed_San Blas - Canillejas                                                  0   \n",
              "Neighbourhood Group Cleansed_Tetuán                                                                 0   \n",
              "Neighbourhood Group Cleansed_Usera                                                                  0   \n",
              "Neighbourhood Group Cleansed_Vicálvaro                                                              0   \n",
              "Neighbourhood Group Cleansed_Villa de Vallecas                                                      0   \n",
              "Neighbourhood Group Cleansed_Villaverde                                                             0   \n",
              "Property Type_Apartment                                                                             1   \n",
              "Property Type_Bed & Breakfast                                                                       0   \n",
              "Property Type_Boat                                                                                  0   \n",
              "Property Type_Boutique hotel                                                                        0   \n",
              "Property Type_Bungalow                                                                              0   \n",
              "Property Type_Camper/RV                                                                             0   \n",
              "Property Type_Casa particular                                                                       0   \n",
              "Property Type_Chalet                                                                                0   \n",
              "Property Type_Condominium                                                                           0   \n",
              "Property Type_Dorm                                                                                  0   \n",
              "Property Type_Earth House                                                                           0   \n",
              "Property Type_Guest suite                                                                           0   \n",
              "Property Type_Guesthouse                                                                            0   \n",
              "Property Type_Hostel                                                                                0   \n",
              "Property Type_House                                                                                 0   \n",
              "Property Type_Loft                                                                                  0   \n",
              "Property Type_Other                                                                                 0   \n",
              "Property Type_Serviced apartment                                                                    0   \n",
              "Property Type_Tent                                                                                  0   \n",
              "Property Type_Timeshare                                                                             0   \n",
              "Property Type_Townhouse                                                                             0   \n",
              "Property Type_Villa                                                                                 0   \n",
              "Room Type_Entire home/apt                                                                           1   \n",
              "Room Type_Private room                                                                              0   \n",
              "Room Type_Shared room                                                                               0   \n",
              "Bed Type_Airbed                                                                                     0   \n",
              "Bed Type_Couch                                                                                      0   \n",
              "Bed Type_Futon                                                                                      0   \n",
              "Bed Type_Pull-out Sofa                                                                              0   \n",
              "Bed Type_Real Bed                                                                                   1   \n",
              "Cancellation Policy_flexible                                                                        1   \n",
              "Cancellation Policy_moderate                                                                        0   \n",
              "Cancellation Policy_strict                                                                          0   \n",
              "Cancellation Policy_super_strict_30                                                                 0   \n",
              "Cancellation Policy_super_strict_60                                                                 0   \n",
              "\n",
              "                                                                                                   43  \\\n",
              "ID                                                                                            4756811   \n",
              "Host ID                                                                                       3511249   \n",
              "Host Response Rate                                                                              100.0   \n",
              "Host Listings Count                                                                               8.0   \n",
              "Host Total Listings Count                                                                         8.0   \n",
              "Zipcode                                                                                         28001   \n",
              "Latitude                                                                                    40.427454   \n",
              "Longitude                                                                                   -3.685763   \n",
              "Accommodates                                                                                        1   \n",
              "Bathrooms                                                                                         1.0   \n",
              "Bedrooms                                                                                          1.0   \n",
              "Beds                                                                                              1.0   \n",
              "Price                                                                                            26.0   \n",
              "Guests Included                                                                                     1   \n",
              "Extra People                                                                                        0   \n",
              "Minimum Nights                                                                                      7   \n",
              "Maximum Nights                                                                                   1125   \n",
              "Availability 30                                                                                    14   \n",
              "Availability 60                                                                                    37   \n",
              "Availability 90                                                                                    59   \n",
              "Availability 365                                                                                  334   \n",
              "Number of Reviews                                                                                  15   \n",
              "Review Scores Rating                                                                             95.0   \n",
              "Review Scores Accuracy                                                                           10.0   \n",
              "Review Scores Cleanliness                                                                         9.0   \n",
              "Review Scores Checkin                                                                            10.0   \n",
              "Review Scores Communication                                                                      10.0   \n",
              "Review Scores Location                                                                           10.0   \n",
              "Review Scores Value                                                                               9.0   \n",
              "Calculated host listings count                                                                    7.0   \n",
              "Reviews per Month                                                                                0.57   \n",
              "Host Since_year                                                                                2012.0   \n",
              "Host Since_month                                                                                  9.0   \n",
              "Host Since_day                                                                                    8.0   \n",
              "First Review_year                                                                              2015.0   \n",
              "First Review_month                                                                                2.0   \n",
              "First Review_day                                                                                  5.0   \n",
              "Last Review_year                                                                               2016.0   \n",
              "Last Review_month                                                                                11.0   \n",
              "Last Review_day                                                                                   5.0   \n",
              "Thumbnail Url                                       https://a0.muscache.com/im/pictures/59706828/a...   \n",
              "Medium Url                                          https://a0.muscache.com/im/pictures/59706828/a...   \n",
              "Picture Url                                         https://public.opendatasoft.com/api/v2/catalog...   \n",
              "XL Picture Url                                      https://a0.muscache.com/im/pictures/59706828/a...   \n",
              "Host Thumbnail Url                                  https://a0.muscache.com/im/users/3511249/profi...   \n",
              "Host Picture Url                                    https://a0.muscache.com/im/users/3511249/profi...   \n",
              "Host Response Time_a few days or more                                                               0   \n",
              "Host Response Time_within a day                                                                     0   \n",
              "Host Response Time_within a few hours                                                               0   \n",
              "Host Response Time_within an hour                                                                   1   \n",
              "Neighbourhood_Acacias                                                                               0   \n",
              "Neighbourhood_Adelfas                                                                               0   \n",
              "Neighbourhood_Almagro                                                                               0   \n",
              "Neighbourhood_Almenara                                                                              0   \n",
              "Neighbourhood_Aluche                                                                                0   \n",
              "Neighbourhood_Arapiles                                                                              0   \n",
              "Neighbourhood_Arganzuela                                                                            0   \n",
              "Neighbourhood_Argüelles                                                                             0   \n",
              "Neighbourhood_Atocha                                                                                0   \n",
              "Neighbourhood_Barajas                                                                               0   \n",
              "Neighbourhood_Bellas Vistas                                                                         0   \n",
              "Neighbourhood_Berruguete                                                                            0   \n",
              "Neighbourhood_Carabanchel                                                                           0   \n",
              "Neighbourhood_Castellana                                                                            0   \n",
              "Neighbourhood_Castilla                                                                              0   \n",
              "Neighbourhood_Castillejos                                                                           0   \n",
              "Neighbourhood_Centro                                                                                0   \n",
              "Neighbourhood_Chamberí                                                                              0   \n",
              "Neighbourhood_Ciudad Jardin                                                                         0   \n",
              "Neighbourhood_Ciudad Lineal                                                                         0   \n",
              "Neighbourhood_Cortes                                                                                0   \n",
              "Neighbourhood_Cuatro Caminos                                                                        0   \n",
              "Neighbourhood_Delicias                                                                              0   \n",
              "Neighbourhood_El Tréntaiseis                                                                        0   \n",
              "Neighbourhood_El Viso                                                                               0   \n",
              "Neighbourhood_Embajadores                                                                           0   \n",
              "Neighbourhood_Estrella                                                                              0   \n",
              "Neighbourhood_Fuencarral-El Pardo                                                                   0   \n",
              "Neighbourhood_Fuencarral-el Pardo                                                                   0   \n",
              "Neighbourhood_Fuente del Berro                                                                      0   \n",
              "Neighbourhood_Gaztambide                                                                            0   \n",
              "Neighbourhood_Goya                                                                                  0   \n",
              "Neighbourhood_Guindalera                                                                            0   \n",
              "Neighbourhood_Hispanoamérica                                                                        0   \n",
              "Neighbourhood_Hortaleza                                                                             0   \n",
              "Neighbourhood_Ibiza                                                                                 0   \n",
              "Neighbourhood_Imperial                                                                              0   \n",
              "Neighbourhood_Jerónimos                                                                             0   \n",
              "Neighbourhood_Justicia                                                                              0   \n",
              "Neighbourhood_La Chopera                                                                            0   \n",
              "Neighbourhood_La Latina                                                                             0   \n",
              "Neighbourhood_Legazpi                                                                               0   \n",
              "Neighbourhood_Lista                                                                                 0   \n",
              "Neighbourhood_Malasaña                                                                              0   \n",
              "Neighbourhood_Moncloa                                                                               0   \n",
              "Neighbourhood_Moratalaz                                                                             0   \n",
              "Neighbourhood_Nueva España                                                                          0   \n",
              "Neighbourhood_Pacifico                                                                              0   \n",
              "Neighbourhood_Palacio                                                                               0   \n",
              "Neighbourhood_Palos do Moguer                                                                       0   \n",
              "Neighbourhood_Prosperidad                                                                           0   \n",
              "Neighbourhood_Puente de Vallecas                                                                    0   \n",
              "Neighbourhood_Recoletos                                                                             1   \n",
              "Neighbourhood_Retiro                                                                                0   \n",
              "Neighbourhood_Rios Rosas                                                                            0   \n",
              "Neighbourhood_San Blas                                                                              0   \n",
              "Neighbourhood_Sol                                                                                   0   \n",
              "Neighbourhood_Tetuán                                                                                0   \n",
              "Neighbourhood_Trafalgar                                                                             0   \n",
              "Neighbourhood_Usera                                                                                 0   \n",
              "Neighbourhood_Valdeacederas                                                                         0   \n",
              "Neighbourhood_Vallehermosa                                                                          0   \n",
              "Neighbourhood_Vicálvaro                                                                             0   \n",
              "Neighbourhood_Villa de Vallecas                                                                     0   \n",
              "Neighbourhood_Villaverde                                                                            0   \n",
              "Neighbourhood Group Cleansed_Arganzuela                                                             0   \n",
              "Neighbourhood Group Cleansed_Barajas                                                                0   \n",
              "Neighbourhood Group Cleansed_Carabanchel                                                            0   \n",
              "Neighbourhood Group Cleansed_Centro                                                                 0   \n",
              "Neighbourhood Group Cleansed_Chamartín                                                              0   \n",
              "Neighbourhood Group Cleansed_Chamberí                                                               0   \n",
              "Neighbourhood Group Cleansed_Ciudad Lineal                                                          0   \n",
              "Neighbourhood Group Cleansed_Fuencarral - El Pardo                                                  0   \n",
              "Neighbourhood Group Cleansed_Hortaleza                                                              0   \n",
              "Neighbourhood Group Cleansed_Latina                                                                 0   \n",
              "Neighbourhood Group Cleansed_Moncloa - Aravaca                                                      0   \n",
              "Neighbourhood Group Cleansed_Moratalaz                                                              0   \n",
              "Neighbourhood Group Cleansed_Puente de Vallecas                                                     0   \n",
              "Neighbourhood Group Cleansed_Retiro                                                                 0   \n",
              "Neighbourhood Group Cleansed_Salamanca                                                              1   \n",
              "Neighbourhood Group Cleansed_San Blas - Canillejas                                                  0   \n",
              "Neighbourhood Group Cleansed_Tetuán                                                                 0   \n",
              "Neighbourhood Group Cleansed_Usera                                                                  0   \n",
              "Neighbourhood Group Cleansed_Vicálvaro                                                              0   \n",
              "Neighbourhood Group Cleansed_Villa de Vallecas                                                      0   \n",
              "Neighbourhood Group Cleansed_Villaverde                                                             0   \n",
              "Property Type_Apartment                                                                             1   \n",
              "Property Type_Bed & Breakfast                                                                       0   \n",
              "Property Type_Boat                                                                                  0   \n",
              "Property Type_Boutique hotel                                                                        0   \n",
              "Property Type_Bungalow                                                                              0   \n",
              "Property Type_Camper/RV                                                                             0   \n",
              "Property Type_Casa particular                                                                       0   \n",
              "Property Type_Chalet                                                                                0   \n",
              "Property Type_Condominium                                                                           0   \n",
              "Property Type_Dorm                                                                                  0   \n",
              "Property Type_Earth House                                                                           0   \n",
              "Property Type_Guest suite                                                                           0   \n",
              "Property Type_Guesthouse                                                                            0   \n",
              "Property Type_Hostel                                                                                0   \n",
              "Property Type_House                                                                                 0   \n",
              "Property Type_Loft                                                                                  0   \n",
              "Property Type_Other                                                                                 0   \n",
              "Property Type_Serviced apartment                                                                    0   \n",
              "Property Type_Tent                                                                                  0   \n",
              "Property Type_Timeshare                                                                             0   \n",
              "Property Type_Townhouse                                                                             0   \n",
              "Property Type_Villa                                                                                 0   \n",
              "Room Type_Entire home/apt                                                                           0   \n",
              "Room Type_Private room                                                                              1   \n",
              "Room Type_Shared room                                                                               0   \n",
              "Bed Type_Airbed                                                                                     0   \n",
              "Bed Type_Couch                                                                                      0   \n",
              "Bed Type_Futon                                                                                      0   \n",
              "Bed Type_Pull-out Sofa                                                                              0   \n",
              "Bed Type_Real Bed                                                                                   1   \n",
              "Cancellation Policy_flexible                                                                        0   \n",
              "Cancellation Policy_moderate                                                                        0   \n",
              "Cancellation Policy_strict                                                                          1   \n",
              "Cancellation Policy_super_strict_30                                                                 0   \n",
              "Cancellation Policy_super_strict_60                                                                 0   \n",
              "\n",
              "                                                                                                   44  \n",
              "ID                                                                                           15332216  \n",
              "Host ID                                                                                      10812091  \n",
              "Host Response Rate                                                                              100.0  \n",
              "Host Listings Count                                                                               2.0  \n",
              "Host Total Listings Count                                                                         2.0  \n",
              "Zipcode                                                                                         28001  \n",
              "Latitude                                                                                    40.428671  \n",
              "Longitude                                                                                   -3.685423  \n",
              "Accommodates                                                                                        6  \n",
              "Bathrooms                                                                                         1.0  \n",
              "Bedrooms                                                                                          2.0  \n",
              "Beds                                                                                              3.0  \n",
              "Price                                                                                            70.0  \n",
              "Guests Included                                                                                     1  \n",
              "Extra People                                                                                       10  \n",
              "Minimum Nights                                                                                      2  \n",
              "Maximum Nights                                                                                   1125  \n",
              "Availability 30                                                                                     0  \n",
              "Availability 60                                                                                     0  \n",
              "Availability 90                                                                                     0  \n",
              "Availability 365                                                                                   52  \n",
              "Number of Reviews                                                                                   0  \n",
              "Review Scores Rating                                                                              NaN  \n",
              "Review Scores Accuracy                                                                            NaN  \n",
              "Review Scores Cleanliness                                                                         NaN  \n",
              "Review Scores Checkin                                                                             NaN  \n",
              "Review Scores Communication                                                                       NaN  \n",
              "Review Scores Location                                                                            NaN  \n",
              "Review Scores Value                                                                               NaN  \n",
              "Calculated host listings count                                                                    2.0  \n",
              "Reviews per Month                                                                                 NaN  \n",
              "Host Since_year                                                                                2013.0  \n",
              "Host Since_month                                                                                 12.0  \n",
              "Host Since_day                                                                                   25.0  \n",
              "First Review_year                                                                                 NaN  \n",
              "First Review_month                                                                                NaN  \n",
              "First Review_day                                                                                  NaN  \n",
              "Last Review_year                                                                                  NaN  \n",
              "Last Review_month                                                                                 NaN  \n",
              "Last Review_day                                                                                   NaN  \n",
              "Thumbnail Url                                       https://a0.muscache.com/im/pictures/20e6f47e-2...  \n",
              "Medium Url                                          https://a0.muscache.com/im/pictures/20e6f47e-2...  \n",
              "Picture Url                                         https://public.opendatasoft.com/api/v2/catalog...  \n",
              "XL Picture Url                                      https://a0.muscache.com/im/pictures/20e6f47e-2...  \n",
              "Host Thumbnail Url                                  https://a0.muscache.com/im/pictures/0f0f7923-e...  \n",
              "Host Picture Url                                    https://a0.muscache.com/im/pictures/0f0f7923-e...  \n",
              "Host Response Time_a few days or more                                                               0  \n",
              "Host Response Time_within a day                                                                     0  \n",
              "Host Response Time_within a few hours                                                               0  \n",
              "Host Response Time_within an hour                                                                   1  \n",
              "Neighbourhood_Acacias                                                                               0  \n",
              "Neighbourhood_Adelfas                                                                               0  \n",
              "Neighbourhood_Almagro                                                                               0  \n",
              "Neighbourhood_Almenara                                                                              0  \n",
              "Neighbourhood_Aluche                                                                                0  \n",
              "Neighbourhood_Arapiles                                                                              0  \n",
              "Neighbourhood_Arganzuela                                                                            0  \n",
              "Neighbourhood_Argüelles                                                                             0  \n",
              "Neighbourhood_Atocha                                                                                0  \n",
              "Neighbourhood_Barajas                                                                               0  \n",
              "Neighbourhood_Bellas Vistas                                                                         0  \n",
              "Neighbourhood_Berruguete                                                                            0  \n",
              "Neighbourhood_Carabanchel                                                                           0  \n",
              "Neighbourhood_Castellana                                                                            0  \n",
              "Neighbourhood_Castilla                                                                              0  \n",
              "Neighbourhood_Castillejos                                                                           0  \n",
              "Neighbourhood_Centro                                                                                0  \n",
              "Neighbourhood_Chamberí                                                                              0  \n",
              "Neighbourhood_Ciudad Jardin                                                                         0  \n",
              "Neighbourhood_Ciudad Lineal                                                                         0  \n",
              "Neighbourhood_Cortes                                                                                0  \n",
              "Neighbourhood_Cuatro Caminos                                                                        0  \n",
              "Neighbourhood_Delicias                                                                              0  \n",
              "Neighbourhood_El Tréntaiseis                                                                        0  \n",
              "Neighbourhood_El Viso                                                                               0  \n",
              "Neighbourhood_Embajadores                                                                           0  \n",
              "Neighbourhood_Estrella                                                                              0  \n",
              "Neighbourhood_Fuencarral-El Pardo                                                                   0  \n",
              "Neighbourhood_Fuencarral-el Pardo                                                                   0  \n",
              "Neighbourhood_Fuente del Berro                                                                      0  \n",
              "Neighbourhood_Gaztambide                                                                            0  \n",
              "Neighbourhood_Goya                                                                                  0  \n",
              "Neighbourhood_Guindalera                                                                            0  \n",
              "Neighbourhood_Hispanoamérica                                                                        0  \n",
              "Neighbourhood_Hortaleza                                                                             0  \n",
              "Neighbourhood_Ibiza                                                                                 0  \n",
              "Neighbourhood_Imperial                                                                              0  \n",
              "Neighbourhood_Jerónimos                                                                             0  \n",
              "Neighbourhood_Justicia                                                                              0  \n",
              "Neighbourhood_La Chopera                                                                            0  \n",
              "Neighbourhood_La Latina                                                                             0  \n",
              "Neighbourhood_Legazpi                                                                               0  \n",
              "Neighbourhood_Lista                                                                                 0  \n",
              "Neighbourhood_Malasaña                                                                              0  \n",
              "Neighbourhood_Moncloa                                                                               0  \n",
              "Neighbourhood_Moratalaz                                                                             0  \n",
              "Neighbourhood_Nueva España                                                                          0  \n",
              "Neighbourhood_Pacifico                                                                              0  \n",
              "Neighbourhood_Palacio                                                                               0  \n",
              "Neighbourhood_Palos do Moguer                                                                       0  \n",
              "Neighbourhood_Prosperidad                                                                           0  \n",
              "Neighbourhood_Puente de Vallecas                                                                    0  \n",
              "Neighbourhood_Recoletos                                                                             1  \n",
              "Neighbourhood_Retiro                                                                                0  \n",
              "Neighbourhood_Rios Rosas                                                                            0  \n",
              "Neighbourhood_San Blas                                                                              0  \n",
              "Neighbourhood_Sol                                                                                   0  \n",
              "Neighbourhood_Tetuán                                                                                0  \n",
              "Neighbourhood_Trafalgar                                                                             0  \n",
              "Neighbourhood_Usera                                                                                 0  \n",
              "Neighbourhood_Valdeacederas                                                                         0  \n",
              "Neighbourhood_Vallehermosa                                                                          0  \n",
              "Neighbourhood_Vicálvaro                                                                             0  \n",
              "Neighbourhood_Villa de Vallecas                                                                     0  \n",
              "Neighbourhood_Villaverde                                                                            0  \n",
              "Neighbourhood Group Cleansed_Arganzuela                                                             0  \n",
              "Neighbourhood Group Cleansed_Barajas                                                                0  \n",
              "Neighbourhood Group Cleansed_Carabanchel                                                            0  \n",
              "Neighbourhood Group Cleansed_Centro                                                                 0  \n",
              "Neighbourhood Group Cleansed_Chamartín                                                              0  \n",
              "Neighbourhood Group Cleansed_Chamberí                                                               0  \n",
              "Neighbourhood Group Cleansed_Ciudad Lineal                                                          0  \n",
              "Neighbourhood Group Cleansed_Fuencarral - El Pardo                                                  0  \n",
              "Neighbourhood Group Cleansed_Hortaleza                                                              0  \n",
              "Neighbourhood Group Cleansed_Latina                                                                 0  \n",
              "Neighbourhood Group Cleansed_Moncloa - Aravaca                                                      0  \n",
              "Neighbourhood Group Cleansed_Moratalaz                                                              0  \n",
              "Neighbourhood Group Cleansed_Puente de Vallecas                                                     0  \n",
              "Neighbourhood Group Cleansed_Retiro                                                                 0  \n",
              "Neighbourhood Group Cleansed_Salamanca                                                              1  \n",
              "Neighbourhood Group Cleansed_San Blas - Canillejas                                                  0  \n",
              "Neighbourhood Group Cleansed_Tetuán                                                                 0  \n",
              "Neighbourhood Group Cleansed_Usera                                                                  0  \n",
              "Neighbourhood Group Cleansed_Vicálvaro                                                              0  \n",
              "Neighbourhood Group Cleansed_Villa de Vallecas                                                      0  \n",
              "Neighbourhood Group Cleansed_Villaverde                                                             0  \n",
              "Property Type_Apartment                                                                             1  \n",
              "Property Type_Bed & Breakfast                                                                       0  \n",
              "Property Type_Boat                                                                                  0  \n",
              "Property Type_Boutique hotel                                                                        0  \n",
              "Property Type_Bungalow                                                                              0  \n",
              "Property Type_Camper/RV                                                                             0  \n",
              "Property Type_Casa particular                                                                       0  \n",
              "Property Type_Chalet                                                                                0  \n",
              "Property Type_Condominium                                                                           0  \n",
              "Property Type_Dorm                                                                                  0  \n",
              "Property Type_Earth House                                                                           0  \n",
              "Property Type_Guest suite                                                                           0  \n",
              "Property Type_Guesthouse                                                                            0  \n",
              "Property Type_Hostel                                                                                0  \n",
              "Property Type_House                                                                                 0  \n",
              "Property Type_Loft                                                                                  0  \n",
              "Property Type_Other                                                                                 0  \n",
              "Property Type_Serviced apartment                                                                    0  \n",
              "Property Type_Tent                                                                                  0  \n",
              "Property Type_Timeshare                                                                             0  \n",
              "Property Type_Townhouse                                                                             0  \n",
              "Property Type_Villa                                                                                 0  \n",
              "Room Type_Entire home/apt                                                                           1  \n",
              "Room Type_Private room                                                                              0  \n",
              "Room Type_Shared room                                                                               0  \n",
              "Bed Type_Airbed                                                                                     0  \n",
              "Bed Type_Couch                                                                                      0  \n",
              "Bed Type_Futon                                                                                      0  \n",
              "Bed Type_Pull-out Sofa                                                                              0  \n",
              "Bed Type_Real Bed                                                                                   1  \n",
              "Cancellation Policy_flexible                                                                        0  \n",
              "Cancellation Policy_moderate                                                                        1  \n",
              "Cancellation Policy_strict                                                                          0  \n",
              "Cancellation Policy_super_strict_30                                                                 0  \n",
              "Cancellation Policy_super_strict_60                                                                 0  "
            ],
            "text/html": [
              "\n",
              "  <div id=\"df-6c3f0d4a-ec71-42e3-8401-747f92a725e9\">\n",
              "    <div class=\"colab-df-container\">\n",
              "      <div>\n",
              "<style scoped>\n",
              "    .dataframe tbody tr th:only-of-type {\n",
              "        vertical-align: middle;\n",
              "    }\n",
              "\n",
              "    .dataframe tbody tr th {\n",
              "        vertical-align: top;\n",
              "    }\n",
              "\n",
              "    .dataframe thead th {\n",
              "        text-align: right;\n",
              "    }\n",
              "</style>\n",
              "<table border=\"1\" class=\"dataframe\">\n",
              "  <thead>\n",
              "    <tr style=\"text-align: right;\">\n",
              "      <th></th>\n",
              "      <th>40</th>\n",
              "      <th>41</th>\n",
              "      <th>42</th>\n",
              "      <th>43</th>\n",
              "      <th>44</th>\n",
              "    </tr>\n",
              "  </thead>\n",
              "  <tbody>\n",
              "    <tr>\n",
              "      <th>ID</th>\n",
              "      <td>6478626</td>\n",
              "      <td>4941335</td>\n",
              "      <td>12510355</td>\n",
              "      <td>4756811</td>\n",
              "      <td>15332216</td>\n",
              "    </tr>\n",
              "    <tr>\n",
              "      <th>Host ID</th>\n",
              "      <td>25709853</td>\n",
              "      <td>25465787</td>\n",
              "      <td>67750039</td>\n",
              "      <td>3511249</td>\n",
              "      <td>10812091</td>\n",
              "    </tr>\n",
              "    <tr>\n",
              "      <th>Host Response Rate</th>\n",
              "      <td>84.0</td>\n",
              "      <td>100.0</td>\n",
              "      <td>100.0</td>\n",
              "      <td>100.0</td>\n",
              "      <td>100.0</td>\n",
              "    </tr>\n",
              "    <tr>\n",
              "      <th>Host Listings Count</th>\n",
              "      <td>3.0</td>\n",
              "      <td>1.0</td>\n",
              "      <td>2.0</td>\n",
              "      <td>8.0</td>\n",
              "      <td>2.0</td>\n",
              "    </tr>\n",
              "    <tr>\n",
              "      <th>Host Total Listings Count</th>\n",
              "      <td>3.0</td>\n",
              "      <td>1.0</td>\n",
              "      <td>2.0</td>\n",
              "      <td>8.0</td>\n",
              "      <td>2.0</td>\n",
              "    </tr>\n",
              "    <tr>\n",
              "      <th>Zipcode</th>\n",
              "      <td>28007</td>\n",
              "      <td>28001</td>\n",
              "      <td>28001</td>\n",
              "      <td>28001</td>\n",
              "      <td>28001</td>\n",
              "    </tr>\n",
              "    <tr>\n",
              "      <th>Latitude</th>\n",
              "      <td>40.406953</td>\n",
              "      <td>40.425904</td>\n",
              "      <td>40.428352</td>\n",
              "      <td>40.427454</td>\n",
              "      <td>40.428671</td>\n",
              "    </tr>\n",
              "    <tr>\n",
              "      <th>Longitude</th>\n",
              "      <td>-3.670894</td>\n",
              "      <td>-3.681647</td>\n",
              "      <td>-3.687155</td>\n",
              "      <td>-3.685763</td>\n",
              "      <td>-3.685423</td>\n",
              "    </tr>\n",
              "    <tr>\n",
              "      <th>Accommodates</th>\n",
              "      <td>2</td>\n",
              "      <td>2</td>\n",
              "      <td>3</td>\n",
              "      <td>1</td>\n",
              "      <td>6</td>\n",
              "    </tr>\n",
              "    <tr>\n",
              "      <th>Bathrooms</th>\n",
              "      <td>2.0</td>\n",
              "      <td>1.0</td>\n",
              "      <td>1.0</td>\n",
              "      <td>1.0</td>\n",
              "      <td>1.0</td>\n",
              "    </tr>\n",
              "    <tr>\n",
              "      <th>Bedrooms</th>\n",
              "      <td>1.0</td>\n",
              "      <td>0.0</td>\n",
              "      <td>0.0</td>\n",
              "      <td>1.0</td>\n",
              "      <td>2.0</td>\n",
              "    </tr>\n",
              "    <tr>\n",
              "      <th>Beds</th>\n",
              "      <td>1.0</td>\n",
              "      <td>1.0</td>\n",
              "      <td>2.0</td>\n",
              "      <td>1.0</td>\n",
              "      <td>3.0</td>\n",
              "    </tr>\n",
              "    <tr>\n",
              "      <th>Price</th>\n",
              "      <td>28.0</td>\n",
              "      <td>58.0</td>\n",
              "      <td>70.0</td>\n",
              "      <td>26.0</td>\n",
              "      <td>70.0</td>\n",
              "    </tr>\n",
              "    <tr>\n",
              "      <th>Guests Included</th>\n",
              "      <td>1</td>\n",
              "      <td>1</td>\n",
              "      <td>2</td>\n",
              "      <td>1</td>\n",
              "      <td>1</td>\n",
              "    </tr>\n",
              "    <tr>\n",
              "      <th>Extra People</th>\n",
              "      <td>5</td>\n",
              "      <td>0</td>\n",
              "      <td>15</td>\n",
              "      <td>0</td>\n",
              "      <td>10</td>\n",
              "    </tr>\n",
              "    <tr>\n",
              "      <th>Minimum Nights</th>\n",
              "      <td>1</td>\n",
              "      <td>2</td>\n",
              "      <td>2</td>\n",
              "      <td>7</td>\n",
              "      <td>2</td>\n",
              "    </tr>\n",
              "    <tr>\n",
              "      <th>Maximum Nights</th>\n",
              "      <td>1125</td>\n",
              "      <td>1125</td>\n",
              "      <td>1125</td>\n",
              "      <td>1125</td>\n",
              "      <td>1125</td>\n",
              "    </tr>\n",
              "    <tr>\n",
              "      <th>Availability 30</th>\n",
              "      <td>0</td>\n",
              "      <td>4</td>\n",
              "      <td>7</td>\n",
              "      <td>14</td>\n",
              "      <td>0</td>\n",
              "    </tr>\n",
              "    <tr>\n",
              "      <th>Availability 60</th>\n",
              "      <td>3</td>\n",
              "      <td>9</td>\n",
              "      <td>15</td>\n",
              "      <td>37</td>\n",
              "      <td>0</td>\n",
              "    </tr>\n",
              "    <tr>\n",
              "      <th>Availability 90</th>\n",
              "      <td>12</td>\n",
              "      <td>9</td>\n",
              "      <td>32</td>\n",
              "      <td>59</td>\n",
              "      <td>0</td>\n",
              "    </tr>\n",
              "    <tr>\n",
              "      <th>Availability 365</th>\n",
              "      <td>240</td>\n",
              "      <td>15</td>\n",
              "      <td>292</td>\n",
              "      <td>334</td>\n",
              "      <td>52</td>\n",
              "    </tr>\n",
              "    <tr>\n",
              "      <th>Number of Reviews</th>\n",
              "      <td>171</td>\n",
              "      <td>52</td>\n",
              "      <td>36</td>\n",
              "      <td>15</td>\n",
              "      <td>0</td>\n",
              "    </tr>\n",
              "    <tr>\n",
              "      <th>Review Scores Rating</th>\n",
              "      <td>87.0</td>\n",
              "      <td>96.0</td>\n",
              "      <td>87.0</td>\n",
              "      <td>95.0</td>\n",
              "      <td>NaN</td>\n",
              "    </tr>\n",
              "    <tr>\n",
              "      <th>Review Scores Accuracy</th>\n",
              "      <td>9.0</td>\n",
              "      <td>10.0</td>\n",
              "      <td>9.0</td>\n",
              "      <td>10.0</td>\n",
              "      <td>NaN</td>\n",
              "    </tr>\n",
              "    <tr>\n",
              "      <th>Review Scores Cleanliness</th>\n",
              "      <td>9.0</td>\n",
              "      <td>10.0</td>\n",
              "      <td>9.0</td>\n",
              "      <td>9.0</td>\n",
              "      <td>NaN</td>\n",
              "    </tr>\n",
              "    <tr>\n",
              "      <th>Review Scores Checkin</th>\n",
              "      <td>9.0</td>\n",
              "      <td>10.0</td>\n",
              "      <td>10.0</td>\n",
              "      <td>10.0</td>\n",
              "      <td>NaN</td>\n",
              "    </tr>\n",
              "    <tr>\n",
              "      <th>Review Scores Communication</th>\n",
              "      <td>9.0</td>\n",
              "      <td>10.0</td>\n",
              "      <td>10.0</td>\n",
              "      <td>10.0</td>\n",
              "      <td>NaN</td>\n",
              "    </tr>\n",
              "    <tr>\n",
              "      <th>Review Scores Location</th>\n",
              "      <td>9.0</td>\n",
              "      <td>10.0</td>\n",
              "      <td>10.0</td>\n",
              "      <td>10.0</td>\n",
              "      <td>NaN</td>\n",
              "    </tr>\n",
              "    <tr>\n",
              "      <th>Review Scores Value</th>\n",
              "      <td>9.0</td>\n",
              "      <td>10.0</td>\n",
              "      <td>9.0</td>\n",
              "      <td>9.0</td>\n",
              "      <td>NaN</td>\n",
              "    </tr>\n",
              "    <tr>\n",
              "      <th>Calculated host listings count</th>\n",
              "      <td>3.0</td>\n",
              "      <td>1.0</td>\n",
              "      <td>1.0</td>\n",
              "      <td>7.0</td>\n",
              "      <td>2.0</td>\n",
              "    </tr>\n",
              "    <tr>\n",
              "      <th>Reviews per Month</th>\n",
              "      <td>7.71</td>\n",
              "      <td>2.03</td>\n",
              "      <td>3.28</td>\n",
              "      <td>0.57</td>\n",
              "      <td>NaN</td>\n",
              "    </tr>\n",
              "    <tr>\n",
              "      <th>Host Since_year</th>\n",
              "      <td>2015.0</td>\n",
              "      <td>2015.0</td>\n",
              "      <td>2016.0</td>\n",
              "      <td>2012.0</td>\n",
              "      <td>2013.0</td>\n",
              "    </tr>\n",
              "    <tr>\n",
              "      <th>Host Since_month</th>\n",
              "      <td>1.0</td>\n",
              "      <td>1.0</td>\n",
              "      <td>4.0</td>\n",
              "      <td>9.0</td>\n",
              "      <td>12.0</td>\n",
              "    </tr>\n",
              "    <tr>\n",
              "      <th>Host Since_day</th>\n",
              "      <td>6.0</td>\n",
              "      <td>1.0</td>\n",
              "      <td>18.0</td>\n",
              "      <td>8.0</td>\n",
              "      <td>25.0</td>\n",
              "    </tr>\n",
              "    <tr>\n",
              "      <th>First Review_year</th>\n",
              "      <td>2015.0</td>\n",
              "      <td>2015.0</td>\n",
              "      <td>2016.0</td>\n",
              "      <td>2015.0</td>\n",
              "      <td>NaN</td>\n",
              "    </tr>\n",
              "    <tr>\n",
              "      <th>First Review_month</th>\n",
              "      <td>6.0</td>\n",
              "      <td>3.0</td>\n",
              "      <td>5.0</td>\n",
              "      <td>2.0</td>\n",
              "      <td>NaN</td>\n",
              "    </tr>\n",
              "    <tr>\n",
              "      <th>First Review_day</th>\n",
              "      <td>14.0</td>\n",
              "      <td>2.0</td>\n",
              "      <td>15.0</td>\n",
              "      <td>5.0</td>\n",
              "      <td>NaN</td>\n",
              "    </tr>\n",
              "    <tr>\n",
              "      <th>Last Review_year</th>\n",
              "      <td>2017.0</td>\n",
              "      <td>2017.0</td>\n",
              "      <td>2017.0</td>\n",
              "      <td>2016.0</td>\n",
              "      <td>NaN</td>\n",
              "    </tr>\n",
              "    <tr>\n",
              "      <th>Last Review_month</th>\n",
              "      <td>3.0</td>\n",
              "      <td>2.0</td>\n",
              "      <td>4.0</td>\n",
              "      <td>11.0</td>\n",
              "      <td>NaN</td>\n",
              "    </tr>\n",
              "    <tr>\n",
              "      <th>Last Review_day</th>\n",
              "      <td>22.0</td>\n",
              "      <td>12.0</td>\n",
              "      <td>2.0</td>\n",
              "      <td>5.0</td>\n",
              "      <td>NaN</td>\n",
              "    </tr>\n",
              "    <tr>\n",
              "      <th>Thumbnail Url</th>\n",
              "      <td>https://a0.muscache.com/im/pictures/86864154/1...</td>\n",
              "      <td>https://a0.muscache.com/im/pictures/69897767/2...</td>\n",
              "      <td>https://a0.muscache.com/im/pictures/dbcf7393-b...</td>\n",
              "      <td>https://a0.muscache.com/im/pictures/59706828/a...</td>\n",
              "      <td>https://a0.muscache.com/im/pictures/20e6f47e-2...</td>\n",
              "    </tr>\n",
              "    <tr>\n",
              "      <th>Medium Url</th>\n",
              "      <td>https://a0.muscache.com/im/pictures/86864154/1...</td>\n",
              "      <td>https://a0.muscache.com/im/pictures/69897767/2...</td>\n",
              "      <td>https://a0.muscache.com/im/pictures/dbcf7393-b...</td>\n",
              "      <td>https://a0.muscache.com/im/pictures/59706828/a...</td>\n",
              "      <td>https://a0.muscache.com/im/pictures/20e6f47e-2...</td>\n",
              "    </tr>\n",
              "    <tr>\n",
              "      <th>Picture Url</th>\n",
              "      <td>https://public.opendatasoft.com/api/v2/catalog...</td>\n",
              "      <td>https://public.opendatasoft.com/api/v2/catalog...</td>\n",
              "      <td>https://public.opendatasoft.com/api/v2/catalog...</td>\n",
              "      <td>https://public.opendatasoft.com/api/v2/catalog...</td>\n",
              "      <td>https://public.opendatasoft.com/api/v2/catalog...</td>\n",
              "    </tr>\n",
              "    <tr>\n",
              "      <th>XL Picture Url</th>\n",
              "      <td>https://a0.muscache.com/im/pictures/86864154/1...</td>\n",
              "      <td>https://a0.muscache.com/im/pictures/69897767/2...</td>\n",
              "      <td>https://a0.muscache.com/im/pictures/dbcf7393-b...</td>\n",
              "      <td>https://a0.muscache.com/im/pictures/59706828/a...</td>\n",
              "      <td>https://a0.muscache.com/im/pictures/20e6f47e-2...</td>\n",
              "    </tr>\n",
              "    <tr>\n",
              "      <th>Host Thumbnail Url</th>\n",
              "      <td>https://a0.muscache.com/im/users/25709853/prof...</td>\n",
              "      <td>https://a0.muscache.com/im/users/25465787/prof...</td>\n",
              "      <td>https://a0.muscache.com/im/pictures/bff15a50-2...</td>\n",
              "      <td>https://a0.muscache.com/im/users/3511249/profi...</td>\n",
              "      <td>https://a0.muscache.com/im/pictures/0f0f7923-e...</td>\n",
              "    </tr>\n",
              "    <tr>\n",
              "      <th>Host Picture Url</th>\n",
              "      <td>https://a0.muscache.com/im/users/25709853/prof...</td>\n",
              "      <td>https://a0.muscache.com/im/users/25465787/prof...</td>\n",
              "      <td>https://a0.muscache.com/im/pictures/bff15a50-2...</td>\n",
              "      <td>https://a0.muscache.com/im/users/3511249/profi...</td>\n",
              "      <td>https://a0.muscache.com/im/pictures/0f0f7923-e...</td>\n",
              "    </tr>\n",
              "    <tr>\n",
              "      <th>Host Response Time_a few days or more</th>\n",
              "      <td>0</td>\n",
              "      <td>0</td>\n",
              "      <td>0</td>\n",
              "      <td>0</td>\n",
              "      <td>0</td>\n",
              "    </tr>\n",
              "    <tr>\n",
              "      <th>Host Response Time_within a day</th>\n",
              "      <td>0</td>\n",
              "      <td>0</td>\n",
              "      <td>0</td>\n",
              "      <td>0</td>\n",
              "      <td>0</td>\n",
              "    </tr>\n",
              "    <tr>\n",
              "      <th>Host Response Time_within a few hours</th>\n",
              "      <td>0</td>\n",
              "      <td>1</td>\n",
              "      <td>0</td>\n",
              "      <td>0</td>\n",
              "      <td>0</td>\n",
              "    </tr>\n",
              "    <tr>\n",
              "      <th>Host Response Time_within an hour</th>\n",
              "      <td>1</td>\n",
              "      <td>0</td>\n",
              "      <td>1</td>\n",
              "      <td>1</td>\n",
              "      <td>1</td>\n",
              "    </tr>\n",
              "    <tr>\n",
              "      <th>Neighbourhood_Acacias</th>\n",
              "      <td>0</td>\n",
              "      <td>0</td>\n",
              "      <td>0</td>\n",
              "      <td>0</td>\n",
              "      <td>0</td>\n",
              "    </tr>\n",
              "    <tr>\n",
              "      <th>Neighbourhood_Adelfas</th>\n",
              "      <td>0</td>\n",
              "      <td>0</td>\n",
              "      <td>0</td>\n",
              "      <td>0</td>\n",
              "      <td>0</td>\n",
              "    </tr>\n",
              "    <tr>\n",
              "      <th>Neighbourhood_Almagro</th>\n",
              "      <td>0</td>\n",
              "      <td>0</td>\n",
              "      <td>0</td>\n",
              "      <td>0</td>\n",
              "      <td>0</td>\n",
              "    </tr>\n",
              "    <tr>\n",
              "      <th>Neighbourhood_Almenara</th>\n",
              "      <td>0</td>\n",
              "      <td>0</td>\n",
              "      <td>0</td>\n",
              "      <td>0</td>\n",
              "      <td>0</td>\n",
              "    </tr>\n",
              "    <tr>\n",
              "      <th>Neighbourhood_Aluche</th>\n",
              "      <td>0</td>\n",
              "      <td>0</td>\n",
              "      <td>0</td>\n",
              "      <td>0</td>\n",
              "      <td>0</td>\n",
              "    </tr>\n",
              "    <tr>\n",
              "      <th>Neighbourhood_Arapiles</th>\n",
              "      <td>0</td>\n",
              "      <td>0</td>\n",
              "      <td>0</td>\n",
              "      <td>0</td>\n",
              "      <td>0</td>\n",
              "    </tr>\n",
              "    <tr>\n",
              "      <th>Neighbourhood_Arganzuela</th>\n",
              "      <td>0</td>\n",
              "      <td>0</td>\n",
              "      <td>0</td>\n",
              "      <td>0</td>\n",
              "      <td>0</td>\n",
              "    </tr>\n",
              "    <tr>\n",
              "      <th>Neighbourhood_Argüelles</th>\n",
              "      <td>0</td>\n",
              "      <td>0</td>\n",
              "      <td>0</td>\n",
              "      <td>0</td>\n",
              "      <td>0</td>\n",
              "    </tr>\n",
              "    <tr>\n",
              "      <th>Neighbourhood_Atocha</th>\n",
              "      <td>0</td>\n",
              "      <td>0</td>\n",
              "      <td>0</td>\n",
              "      <td>0</td>\n",
              "      <td>0</td>\n",
              "    </tr>\n",
              "    <tr>\n",
              "      <th>Neighbourhood_Barajas</th>\n",
              "      <td>0</td>\n",
              "      <td>0</td>\n",
              "      <td>0</td>\n",
              "      <td>0</td>\n",
              "      <td>0</td>\n",
              "    </tr>\n",
              "    <tr>\n",
              "      <th>Neighbourhood_Bellas Vistas</th>\n",
              "      <td>0</td>\n",
              "      <td>0</td>\n",
              "      <td>0</td>\n",
              "      <td>0</td>\n",
              "      <td>0</td>\n",
              "    </tr>\n",
              "    <tr>\n",
              "      <th>Neighbourhood_Berruguete</th>\n",
              "      <td>0</td>\n",
              "      <td>0</td>\n",
              "      <td>0</td>\n",
              "      <td>0</td>\n",
              "      <td>0</td>\n",
              "    </tr>\n",
              "    <tr>\n",
              "      <th>Neighbourhood_Carabanchel</th>\n",
              "      <td>0</td>\n",
              "      <td>0</td>\n",
              "      <td>0</td>\n",
              "      <td>0</td>\n",
              "      <td>0</td>\n",
              "    </tr>\n",
              "    <tr>\n",
              "      <th>Neighbourhood_Castellana</th>\n",
              "      <td>0</td>\n",
              "      <td>0</td>\n",
              "      <td>0</td>\n",
              "      <td>0</td>\n",
              "      <td>0</td>\n",
              "    </tr>\n",
              "    <tr>\n",
              "      <th>Neighbourhood_Castilla</th>\n",
              "      <td>0</td>\n",
              "      <td>0</td>\n",
              "      <td>0</td>\n",
              "      <td>0</td>\n",
              "      <td>0</td>\n",
              "    </tr>\n",
              "    <tr>\n",
              "      <th>Neighbourhood_Castillejos</th>\n",
              "      <td>0</td>\n",
              "      <td>0</td>\n",
              "      <td>0</td>\n",
              "      <td>0</td>\n",
              "      <td>0</td>\n",
              "    </tr>\n",
              "    <tr>\n",
              "      <th>Neighbourhood_Centro</th>\n",
              "      <td>0</td>\n",
              "      <td>0</td>\n",
              "      <td>0</td>\n",
              "      <td>0</td>\n",
              "      <td>0</td>\n",
              "    </tr>\n",
              "    <tr>\n",
              "      <th>Neighbourhood_Chamberí</th>\n",
              "      <td>0</td>\n",
              "      <td>0</td>\n",
              "      <td>0</td>\n",
              "      <td>0</td>\n",
              "      <td>0</td>\n",
              "    </tr>\n",
              "    <tr>\n",
              "      <th>Neighbourhood_Ciudad Jardin</th>\n",
              "      <td>0</td>\n",
              "      <td>0</td>\n",
              "      <td>0</td>\n",
              "      <td>0</td>\n",
              "      <td>0</td>\n",
              "    </tr>\n",
              "    <tr>\n",
              "      <th>Neighbourhood_Ciudad Lineal</th>\n",
              "      <td>0</td>\n",
              "      <td>0</td>\n",
              "      <td>0</td>\n",
              "      <td>0</td>\n",
              "      <td>0</td>\n",
              "    </tr>\n",
              "    <tr>\n",
              "      <th>Neighbourhood_Cortes</th>\n",
              "      <td>0</td>\n",
              "      <td>0</td>\n",
              "      <td>0</td>\n",
              "      <td>0</td>\n",
              "      <td>0</td>\n",
              "    </tr>\n",
              "    <tr>\n",
              "      <th>Neighbourhood_Cuatro Caminos</th>\n",
              "      <td>0</td>\n",
              "      <td>0</td>\n",
              "      <td>0</td>\n",
              "      <td>0</td>\n",
              "      <td>0</td>\n",
              "    </tr>\n",
              "    <tr>\n",
              "      <th>Neighbourhood_Delicias</th>\n",
              "      <td>0</td>\n",
              "      <td>0</td>\n",
              "      <td>0</td>\n",
              "      <td>0</td>\n",
              "      <td>0</td>\n",
              "    </tr>\n",
              "    <tr>\n",
              "      <th>Neighbourhood_El Tréntaiseis</th>\n",
              "      <td>0</td>\n",
              "      <td>0</td>\n",
              "      <td>0</td>\n",
              "      <td>0</td>\n",
              "      <td>0</td>\n",
              "    </tr>\n",
              "    <tr>\n",
              "      <th>Neighbourhood_El Viso</th>\n",
              "      <td>0</td>\n",
              "      <td>0</td>\n",
              "      <td>0</td>\n",
              "      <td>0</td>\n",
              "      <td>0</td>\n",
              "    </tr>\n",
              "    <tr>\n",
              "      <th>Neighbourhood_Embajadores</th>\n",
              "      <td>0</td>\n",
              "      <td>0</td>\n",
              "      <td>0</td>\n",
              "      <td>0</td>\n",
              "      <td>0</td>\n",
              "    </tr>\n",
              "    <tr>\n",
              "      <th>Neighbourhood_Estrella</th>\n",
              "      <td>0</td>\n",
              "      <td>0</td>\n",
              "      <td>0</td>\n",
              "      <td>0</td>\n",
              "      <td>0</td>\n",
              "    </tr>\n",
              "    <tr>\n",
              "      <th>Neighbourhood_Fuencarral-El Pardo</th>\n",
              "      <td>0</td>\n",
              "      <td>0</td>\n",
              "      <td>0</td>\n",
              "      <td>0</td>\n",
              "      <td>0</td>\n",
              "    </tr>\n",
              "    <tr>\n",
              "      <th>Neighbourhood_Fuencarral-el Pardo</th>\n",
              "      <td>0</td>\n",
              "      <td>0</td>\n",
              "      <td>0</td>\n",
              "      <td>0</td>\n",
              "      <td>0</td>\n",
              "    </tr>\n",
              "    <tr>\n",
              "      <th>Neighbourhood_Fuente del Berro</th>\n",
              "      <td>0</td>\n",
              "      <td>0</td>\n",
              "      <td>0</td>\n",
              "      <td>0</td>\n",
              "      <td>0</td>\n",
              "    </tr>\n",
              "    <tr>\n",
              "      <th>Neighbourhood_Gaztambide</th>\n",
              "      <td>0</td>\n",
              "      <td>0</td>\n",
              "      <td>0</td>\n",
              "      <td>0</td>\n",
              "      <td>0</td>\n",
              "    </tr>\n",
              "    <tr>\n",
              "      <th>Neighbourhood_Goya</th>\n",
              "      <td>0</td>\n",
              "      <td>0</td>\n",
              "      <td>0</td>\n",
              "      <td>0</td>\n",
              "      <td>0</td>\n",
              "    </tr>\n",
              "    <tr>\n",
              "      <th>Neighbourhood_Guindalera</th>\n",
              "      <td>0</td>\n",
              "      <td>0</td>\n",
              "      <td>0</td>\n",
              "      <td>0</td>\n",
              "      <td>0</td>\n",
              "    </tr>\n",
              "    <tr>\n",
              "      <th>Neighbourhood_Hispanoamérica</th>\n",
              "      <td>0</td>\n",
              "      <td>0</td>\n",
              "      <td>0</td>\n",
              "      <td>0</td>\n",
              "      <td>0</td>\n",
              "    </tr>\n",
              "    <tr>\n",
              "      <th>Neighbourhood_Hortaleza</th>\n",
              "      <td>0</td>\n",
              "      <td>0</td>\n",
              "      <td>0</td>\n",
              "      <td>0</td>\n",
              "      <td>0</td>\n",
              "    </tr>\n",
              "    <tr>\n",
              "      <th>Neighbourhood_Ibiza</th>\n",
              "      <td>0</td>\n",
              "      <td>0</td>\n",
              "      <td>0</td>\n",
              "      <td>0</td>\n",
              "      <td>0</td>\n",
              "    </tr>\n",
              "    <tr>\n",
              "      <th>Neighbourhood_Imperial</th>\n",
              "      <td>0</td>\n",
              "      <td>0</td>\n",
              "      <td>0</td>\n",
              "      <td>0</td>\n",
              "      <td>0</td>\n",
              "    </tr>\n",
              "    <tr>\n",
              "      <th>Neighbourhood_Jerónimos</th>\n",
              "      <td>0</td>\n",
              "      <td>0</td>\n",
              "      <td>0</td>\n",
              "      <td>0</td>\n",
              "      <td>0</td>\n",
              "    </tr>\n",
              "    <tr>\n",
              "      <th>Neighbourhood_Justicia</th>\n",
              "      <td>0</td>\n",
              "      <td>0</td>\n",
              "      <td>0</td>\n",
              "      <td>0</td>\n",
              "      <td>0</td>\n",
              "    </tr>\n",
              "    <tr>\n",
              "      <th>Neighbourhood_La Chopera</th>\n",
              "      <td>0</td>\n",
              "      <td>0</td>\n",
              "      <td>0</td>\n",
              "      <td>0</td>\n",
              "      <td>0</td>\n",
              "    </tr>\n",
              "    <tr>\n",
              "      <th>Neighbourhood_La Latina</th>\n",
              "      <td>0</td>\n",
              "      <td>0</td>\n",
              "      <td>0</td>\n",
              "      <td>0</td>\n",
              "      <td>0</td>\n",
              "    </tr>\n",
              "    <tr>\n",
              "      <th>Neighbourhood_Legazpi</th>\n",
              "      <td>0</td>\n",
              "      <td>0</td>\n",
              "      <td>0</td>\n",
              "      <td>0</td>\n",
              "      <td>0</td>\n",
              "    </tr>\n",
              "    <tr>\n",
              "      <th>Neighbourhood_Lista</th>\n",
              "      <td>0</td>\n",
              "      <td>0</td>\n",
              "      <td>0</td>\n",
              "      <td>0</td>\n",
              "      <td>0</td>\n",
              "    </tr>\n",
              "    <tr>\n",
              "      <th>Neighbourhood_Malasaña</th>\n",
              "      <td>0</td>\n",
              "      <td>0</td>\n",
              "      <td>0</td>\n",
              "      <td>0</td>\n",
              "      <td>0</td>\n",
              "    </tr>\n",
              "    <tr>\n",
              "      <th>Neighbourhood_Moncloa</th>\n",
              "      <td>0</td>\n",
              "      <td>0</td>\n",
              "      <td>0</td>\n",
              "      <td>0</td>\n",
              "      <td>0</td>\n",
              "    </tr>\n",
              "    <tr>\n",
              "      <th>Neighbourhood_Moratalaz</th>\n",
              "      <td>0</td>\n",
              "      <td>0</td>\n",
              "      <td>0</td>\n",
              "      <td>0</td>\n",
              "      <td>0</td>\n",
              "    </tr>\n",
              "    <tr>\n",
              "      <th>Neighbourhood_Nueva España</th>\n",
              "      <td>0</td>\n",
              "      <td>0</td>\n",
              "      <td>0</td>\n",
              "      <td>0</td>\n",
              "      <td>0</td>\n",
              "    </tr>\n",
              "    <tr>\n",
              "      <th>Neighbourhood_Pacifico</th>\n",
              "      <td>0</td>\n",
              "      <td>0</td>\n",
              "      <td>0</td>\n",
              "      <td>0</td>\n",
              "      <td>0</td>\n",
              "    </tr>\n",
              "    <tr>\n",
              "      <th>Neighbourhood_Palacio</th>\n",
              "      <td>0</td>\n",
              "      <td>0</td>\n",
              "      <td>0</td>\n",
              "      <td>0</td>\n",
              "      <td>0</td>\n",
              "    </tr>\n",
              "    <tr>\n",
              "      <th>Neighbourhood_Palos do Moguer</th>\n",
              "      <td>0</td>\n",
              "      <td>0</td>\n",
              "      <td>0</td>\n",
              "      <td>0</td>\n",
              "      <td>0</td>\n",
              "    </tr>\n",
              "    <tr>\n",
              "      <th>Neighbourhood_Prosperidad</th>\n",
              "      <td>0</td>\n",
              "      <td>0</td>\n",
              "      <td>0</td>\n",
              "      <td>0</td>\n",
              "      <td>0</td>\n",
              "    </tr>\n",
              "    <tr>\n",
              "      <th>Neighbourhood_Puente de Vallecas</th>\n",
              "      <td>0</td>\n",
              "      <td>0</td>\n",
              "      <td>0</td>\n",
              "      <td>0</td>\n",
              "      <td>0</td>\n",
              "    </tr>\n",
              "    <tr>\n",
              "      <th>Neighbourhood_Recoletos</th>\n",
              "      <td>0</td>\n",
              "      <td>1</td>\n",
              "      <td>1</td>\n",
              "      <td>1</td>\n",
              "      <td>1</td>\n",
              "    </tr>\n",
              "    <tr>\n",
              "      <th>Neighbourhood_Retiro</th>\n",
              "      <td>0</td>\n",
              "      <td>0</td>\n",
              "      <td>0</td>\n",
              "      <td>0</td>\n",
              "      <td>0</td>\n",
              "    </tr>\n",
              "    <tr>\n",
              "      <th>Neighbourhood_Rios Rosas</th>\n",
              "      <td>0</td>\n",
              "      <td>0</td>\n",
              "      <td>0</td>\n",
              "      <td>0</td>\n",
              "      <td>0</td>\n",
              "    </tr>\n",
              "    <tr>\n",
              "      <th>Neighbourhood_San Blas</th>\n",
              "      <td>0</td>\n",
              "      <td>0</td>\n",
              "      <td>0</td>\n",
              "      <td>0</td>\n",
              "      <td>0</td>\n",
              "    </tr>\n",
              "    <tr>\n",
              "      <th>Neighbourhood_Sol</th>\n",
              "      <td>0</td>\n",
              "      <td>0</td>\n",
              "      <td>0</td>\n",
              "      <td>0</td>\n",
              "      <td>0</td>\n",
              "    </tr>\n",
              "    <tr>\n",
              "      <th>Neighbourhood_Tetuán</th>\n",
              "      <td>0</td>\n",
              "      <td>0</td>\n",
              "      <td>0</td>\n",
              "      <td>0</td>\n",
              "      <td>0</td>\n",
              "    </tr>\n",
              "    <tr>\n",
              "      <th>Neighbourhood_Trafalgar</th>\n",
              "      <td>0</td>\n",
              "      <td>0</td>\n",
              "      <td>0</td>\n",
              "      <td>0</td>\n",
              "      <td>0</td>\n",
              "    </tr>\n",
              "    <tr>\n",
              "      <th>Neighbourhood_Usera</th>\n",
              "      <td>0</td>\n",
              "      <td>0</td>\n",
              "      <td>0</td>\n",
              "      <td>0</td>\n",
              "      <td>0</td>\n",
              "    </tr>\n",
              "    <tr>\n",
              "      <th>Neighbourhood_Valdeacederas</th>\n",
              "      <td>0</td>\n",
              "      <td>0</td>\n",
              "      <td>0</td>\n",
              "      <td>0</td>\n",
              "      <td>0</td>\n",
              "    </tr>\n",
              "    <tr>\n",
              "      <th>Neighbourhood_Vallehermosa</th>\n",
              "      <td>0</td>\n",
              "      <td>0</td>\n",
              "      <td>0</td>\n",
              "      <td>0</td>\n",
              "      <td>0</td>\n",
              "    </tr>\n",
              "    <tr>\n",
              "      <th>Neighbourhood_Vicálvaro</th>\n",
              "      <td>0</td>\n",
              "      <td>0</td>\n",
              "      <td>0</td>\n",
              "      <td>0</td>\n",
              "      <td>0</td>\n",
              "    </tr>\n",
              "    <tr>\n",
              "      <th>Neighbourhood_Villa de Vallecas</th>\n",
              "      <td>0</td>\n",
              "      <td>0</td>\n",
              "      <td>0</td>\n",
              "      <td>0</td>\n",
              "      <td>0</td>\n",
              "    </tr>\n",
              "    <tr>\n",
              "      <th>Neighbourhood_Villaverde</th>\n",
              "      <td>0</td>\n",
              "      <td>0</td>\n",
              "      <td>0</td>\n",
              "      <td>0</td>\n",
              "      <td>0</td>\n",
              "    </tr>\n",
              "    <tr>\n",
              "      <th>Neighbourhood Group Cleansed_Arganzuela</th>\n",
              "      <td>0</td>\n",
              "      <td>0</td>\n",
              "      <td>0</td>\n",
              "      <td>0</td>\n",
              "      <td>0</td>\n",
              "    </tr>\n",
              "    <tr>\n",
              "      <th>Neighbourhood Group Cleansed_Barajas</th>\n",
              "      <td>0</td>\n",
              "      <td>0</td>\n",
              "      <td>0</td>\n",
              "      <td>0</td>\n",
              "      <td>0</td>\n",
              "    </tr>\n",
              "    <tr>\n",
              "      <th>Neighbourhood Group Cleansed_Carabanchel</th>\n",
              "      <td>0</td>\n",
              "      <td>0</td>\n",
              "      <td>0</td>\n",
              "      <td>0</td>\n",
              "      <td>0</td>\n",
              "    </tr>\n",
              "    <tr>\n",
              "      <th>Neighbourhood Group Cleansed_Centro</th>\n",
              "      <td>0</td>\n",
              "      <td>0</td>\n",
              "      <td>0</td>\n",
              "      <td>0</td>\n",
              "      <td>0</td>\n",
              "    </tr>\n",
              "    <tr>\n",
              "      <th>Neighbourhood Group Cleansed_Chamartín</th>\n",
              "      <td>0</td>\n",
              "      <td>0</td>\n",
              "      <td>0</td>\n",
              "      <td>0</td>\n",
              "      <td>0</td>\n",
              "    </tr>\n",
              "    <tr>\n",
              "      <th>Neighbourhood Group Cleansed_Chamberí</th>\n",
              "      <td>0</td>\n",
              "      <td>0</td>\n",
              "      <td>0</td>\n",
              "      <td>0</td>\n",
              "      <td>0</td>\n",
              "    </tr>\n",
              "    <tr>\n",
              "      <th>Neighbourhood Group Cleansed_Ciudad Lineal</th>\n",
              "      <td>0</td>\n",
              "      <td>0</td>\n",
              "      <td>0</td>\n",
              "      <td>0</td>\n",
              "      <td>0</td>\n",
              "    </tr>\n",
              "    <tr>\n",
              "      <th>Neighbourhood Group Cleansed_Fuencarral - El Pardo</th>\n",
              "      <td>0</td>\n",
              "      <td>0</td>\n",
              "      <td>0</td>\n",
              "      <td>0</td>\n",
              "      <td>0</td>\n",
              "    </tr>\n",
              "    <tr>\n",
              "      <th>Neighbourhood Group Cleansed_Hortaleza</th>\n",
              "      <td>0</td>\n",
              "      <td>0</td>\n",
              "      <td>0</td>\n",
              "      <td>0</td>\n",
              "      <td>0</td>\n",
              "    </tr>\n",
              "    <tr>\n",
              "      <th>Neighbourhood Group Cleansed_Latina</th>\n",
              "      <td>0</td>\n",
              "      <td>0</td>\n",
              "      <td>0</td>\n",
              "      <td>0</td>\n",
              "      <td>0</td>\n",
              "    </tr>\n",
              "    <tr>\n",
              "      <th>Neighbourhood Group Cleansed_Moncloa - Aravaca</th>\n",
              "      <td>0</td>\n",
              "      <td>0</td>\n",
              "      <td>0</td>\n",
              "      <td>0</td>\n",
              "      <td>0</td>\n",
              "    </tr>\n",
              "    <tr>\n",
              "      <th>Neighbourhood Group Cleansed_Moratalaz</th>\n",
              "      <td>0</td>\n",
              "      <td>0</td>\n",
              "      <td>0</td>\n",
              "      <td>0</td>\n",
              "      <td>0</td>\n",
              "    </tr>\n",
              "    <tr>\n",
              "      <th>Neighbourhood Group Cleansed_Puente de Vallecas</th>\n",
              "      <td>0</td>\n",
              "      <td>0</td>\n",
              "      <td>0</td>\n",
              "      <td>0</td>\n",
              "      <td>0</td>\n",
              "    </tr>\n",
              "    <tr>\n",
              "      <th>Neighbourhood Group Cleansed_Retiro</th>\n",
              "      <td>1</td>\n",
              "      <td>0</td>\n",
              "      <td>0</td>\n",
              "      <td>0</td>\n",
              "      <td>0</td>\n",
              "    </tr>\n",
              "    <tr>\n",
              "      <th>Neighbourhood Group Cleansed_Salamanca</th>\n",
              "      <td>0</td>\n",
              "      <td>1</td>\n",
              "      <td>1</td>\n",
              "      <td>1</td>\n",
              "      <td>1</td>\n",
              "    </tr>\n",
              "    <tr>\n",
              "      <th>Neighbourhood Group Cleansed_San Blas - Canillejas</th>\n",
              "      <td>0</td>\n",
              "      <td>0</td>\n",
              "      <td>0</td>\n",
              "      <td>0</td>\n",
              "      <td>0</td>\n",
              "    </tr>\n",
              "    <tr>\n",
              "      <th>Neighbourhood Group Cleansed_Tetuán</th>\n",
              "      <td>0</td>\n",
              "      <td>0</td>\n",
              "      <td>0</td>\n",
              "      <td>0</td>\n",
              "      <td>0</td>\n",
              "    </tr>\n",
              "    <tr>\n",
              "      <th>Neighbourhood Group Cleansed_Usera</th>\n",
              "      <td>0</td>\n",
              "      <td>0</td>\n",
              "      <td>0</td>\n",
              "      <td>0</td>\n",
              "      <td>0</td>\n",
              "    </tr>\n",
              "    <tr>\n",
              "      <th>Neighbourhood Group Cleansed_Vicálvaro</th>\n",
              "      <td>0</td>\n",
              "      <td>0</td>\n",
              "      <td>0</td>\n",
              "      <td>0</td>\n",
              "      <td>0</td>\n",
              "    </tr>\n",
              "    <tr>\n",
              "      <th>Neighbourhood Group Cleansed_Villa de Vallecas</th>\n",
              "      <td>0</td>\n",
              "      <td>0</td>\n",
              "      <td>0</td>\n",
              "      <td>0</td>\n",
              "      <td>0</td>\n",
              "    </tr>\n",
              "    <tr>\n",
              "      <th>Neighbourhood Group Cleansed_Villaverde</th>\n",
              "      <td>0</td>\n",
              "      <td>0</td>\n",
              "      <td>0</td>\n",
              "      <td>0</td>\n",
              "      <td>0</td>\n",
              "    </tr>\n",
              "    <tr>\n",
              "      <th>Property Type_Apartment</th>\n",
              "      <td>1</td>\n",
              "      <td>1</td>\n",
              "      <td>1</td>\n",
              "      <td>1</td>\n",
              "      <td>1</td>\n",
              "    </tr>\n",
              "    <tr>\n",
              "      <th>Property Type_Bed &amp; Breakfast</th>\n",
              "      <td>0</td>\n",
              "      <td>0</td>\n",
              "      <td>0</td>\n",
              "      <td>0</td>\n",
              "      <td>0</td>\n",
              "    </tr>\n",
              "    <tr>\n",
              "      <th>Property Type_Boat</th>\n",
              "      <td>0</td>\n",
              "      <td>0</td>\n",
              "      <td>0</td>\n",
              "      <td>0</td>\n",
              "      <td>0</td>\n",
              "    </tr>\n",
              "    <tr>\n",
              "      <th>Property Type_Boutique hotel</th>\n",
              "      <td>0</td>\n",
              "      <td>0</td>\n",
              "      <td>0</td>\n",
              "      <td>0</td>\n",
              "      <td>0</td>\n",
              "    </tr>\n",
              "    <tr>\n",
              "      <th>Property Type_Bungalow</th>\n",
              "      <td>0</td>\n",
              "      <td>0</td>\n",
              "      <td>0</td>\n",
              "      <td>0</td>\n",
              "      <td>0</td>\n",
              "    </tr>\n",
              "    <tr>\n",
              "      <th>Property Type_Camper/RV</th>\n",
              "      <td>0</td>\n",
              "      <td>0</td>\n",
              "      <td>0</td>\n",
              "      <td>0</td>\n",
              "      <td>0</td>\n",
              "    </tr>\n",
              "    <tr>\n",
              "      <th>Property Type_Casa particular</th>\n",
              "      <td>0</td>\n",
              "      <td>0</td>\n",
              "      <td>0</td>\n",
              "      <td>0</td>\n",
              "      <td>0</td>\n",
              "    </tr>\n",
              "    <tr>\n",
              "      <th>Property Type_Chalet</th>\n",
              "      <td>0</td>\n",
              "      <td>0</td>\n",
              "      <td>0</td>\n",
              "      <td>0</td>\n",
              "      <td>0</td>\n",
              "    </tr>\n",
              "    <tr>\n",
              "      <th>Property Type_Condominium</th>\n",
              "      <td>0</td>\n",
              "      <td>0</td>\n",
              "      <td>0</td>\n",
              "      <td>0</td>\n",
              "      <td>0</td>\n",
              "    </tr>\n",
              "    <tr>\n",
              "      <th>Property Type_Dorm</th>\n",
              "      <td>0</td>\n",
              "      <td>0</td>\n",
              "      <td>0</td>\n",
              "      <td>0</td>\n",
              "      <td>0</td>\n",
              "    </tr>\n",
              "    <tr>\n",
              "      <th>Property Type_Earth House</th>\n",
              "      <td>0</td>\n",
              "      <td>0</td>\n",
              "      <td>0</td>\n",
              "      <td>0</td>\n",
              "      <td>0</td>\n",
              "    </tr>\n",
              "    <tr>\n",
              "      <th>Property Type_Guest suite</th>\n",
              "      <td>0</td>\n",
              "      <td>0</td>\n",
              "      <td>0</td>\n",
              "      <td>0</td>\n",
              "      <td>0</td>\n",
              "    </tr>\n",
              "    <tr>\n",
              "      <th>Property Type_Guesthouse</th>\n",
              "      <td>0</td>\n",
              "      <td>0</td>\n",
              "      <td>0</td>\n",
              "      <td>0</td>\n",
              "      <td>0</td>\n",
              "    </tr>\n",
              "    <tr>\n",
              "      <th>Property Type_Hostel</th>\n",
              "      <td>0</td>\n",
              "      <td>0</td>\n",
              "      <td>0</td>\n",
              "      <td>0</td>\n",
              "      <td>0</td>\n",
              "    </tr>\n",
              "    <tr>\n",
              "      <th>Property Type_House</th>\n",
              "      <td>0</td>\n",
              "      <td>0</td>\n",
              "      <td>0</td>\n",
              "      <td>0</td>\n",
              "      <td>0</td>\n",
              "    </tr>\n",
              "    <tr>\n",
              "      <th>Property Type_Loft</th>\n",
              "      <td>0</td>\n",
              "      <td>0</td>\n",
              "      <td>0</td>\n",
              "      <td>0</td>\n",
              "      <td>0</td>\n",
              "    </tr>\n",
              "    <tr>\n",
              "      <th>Property Type_Other</th>\n",
              "      <td>0</td>\n",
              "      <td>0</td>\n",
              "      <td>0</td>\n",
              "      <td>0</td>\n",
              "      <td>0</td>\n",
              "    </tr>\n",
              "    <tr>\n",
              "      <th>Property Type_Serviced apartment</th>\n",
              "      <td>0</td>\n",
              "      <td>0</td>\n",
              "      <td>0</td>\n",
              "      <td>0</td>\n",
              "      <td>0</td>\n",
              "    </tr>\n",
              "    <tr>\n",
              "      <th>Property Type_Tent</th>\n",
              "      <td>0</td>\n",
              "      <td>0</td>\n",
              "      <td>0</td>\n",
              "      <td>0</td>\n",
              "      <td>0</td>\n",
              "    </tr>\n",
              "    <tr>\n",
              "      <th>Property Type_Timeshare</th>\n",
              "      <td>0</td>\n",
              "      <td>0</td>\n",
              "      <td>0</td>\n",
              "      <td>0</td>\n",
              "      <td>0</td>\n",
              "    </tr>\n",
              "    <tr>\n",
              "      <th>Property Type_Townhouse</th>\n",
              "      <td>0</td>\n",
              "      <td>0</td>\n",
              "      <td>0</td>\n",
              "      <td>0</td>\n",
              "      <td>0</td>\n",
              "    </tr>\n",
              "    <tr>\n",
              "      <th>Property Type_Villa</th>\n",
              "      <td>0</td>\n",
              "      <td>0</td>\n",
              "      <td>0</td>\n",
              "      <td>0</td>\n",
              "      <td>0</td>\n",
              "    </tr>\n",
              "    <tr>\n",
              "      <th>Room Type_Entire home/apt</th>\n",
              "      <td>0</td>\n",
              "      <td>1</td>\n",
              "      <td>1</td>\n",
              "      <td>0</td>\n",
              "      <td>1</td>\n",
              "    </tr>\n",
              "    <tr>\n",
              "      <th>Room Type_Private room</th>\n",
              "      <td>1</td>\n",
              "      <td>0</td>\n",
              "      <td>0</td>\n",
              "      <td>1</td>\n",
              "      <td>0</td>\n",
              "    </tr>\n",
              "    <tr>\n",
              "      <th>Room Type_Shared room</th>\n",
              "      <td>0</td>\n",
              "      <td>0</td>\n",
              "      <td>0</td>\n",
              "      <td>0</td>\n",
              "      <td>0</td>\n",
              "    </tr>\n",
              "    <tr>\n",
              "      <th>Bed Type_Airbed</th>\n",
              "      <td>0</td>\n",
              "      <td>0</td>\n",
              "      <td>0</td>\n",
              "      <td>0</td>\n",
              "      <td>0</td>\n",
              "    </tr>\n",
              "    <tr>\n",
              "      <th>Bed Type_Couch</th>\n",
              "      <td>0</td>\n",
              "      <td>0</td>\n",
              "      <td>0</td>\n",
              "      <td>0</td>\n",
              "      <td>0</td>\n",
              "    </tr>\n",
              "    <tr>\n",
              "      <th>Bed Type_Futon</th>\n",
              "      <td>0</td>\n",
              "      <td>0</td>\n",
              "      <td>0</td>\n",
              "      <td>0</td>\n",
              "      <td>0</td>\n",
              "    </tr>\n",
              "    <tr>\n",
              "      <th>Bed Type_Pull-out Sofa</th>\n",
              "      <td>0</td>\n",
              "      <td>0</td>\n",
              "      <td>0</td>\n",
              "      <td>0</td>\n",
              "      <td>0</td>\n",
              "    </tr>\n",
              "    <tr>\n",
              "      <th>Bed Type_Real Bed</th>\n",
              "      <td>1</td>\n",
              "      <td>1</td>\n",
              "      <td>1</td>\n",
              "      <td>1</td>\n",
              "      <td>1</td>\n",
              "    </tr>\n",
              "    <tr>\n",
              "      <th>Cancellation Policy_flexible</th>\n",
              "      <td>1</td>\n",
              "      <td>0</td>\n",
              "      <td>1</td>\n",
              "      <td>0</td>\n",
              "      <td>0</td>\n",
              "    </tr>\n",
              "    <tr>\n",
              "      <th>Cancellation Policy_moderate</th>\n",
              "      <td>0</td>\n",
              "      <td>1</td>\n",
              "      <td>0</td>\n",
              "      <td>0</td>\n",
              "      <td>1</td>\n",
              "    </tr>\n",
              "    <tr>\n",
              "      <th>Cancellation Policy_strict</th>\n",
              "      <td>0</td>\n",
              "      <td>0</td>\n",
              "      <td>0</td>\n",
              "      <td>1</td>\n",
              "      <td>0</td>\n",
              "    </tr>\n",
              "    <tr>\n",
              "      <th>Cancellation Policy_super_strict_30</th>\n",
              "      <td>0</td>\n",
              "      <td>0</td>\n",
              "      <td>0</td>\n",
              "      <td>0</td>\n",
              "      <td>0</td>\n",
              "    </tr>\n",
              "    <tr>\n",
              "      <th>Cancellation Policy_super_strict_60</th>\n",
              "      <td>0</td>\n",
              "      <td>0</td>\n",
              "      <td>0</td>\n",
              "      <td>0</td>\n",
              "      <td>0</td>\n",
              "    </tr>\n",
              "  </tbody>\n",
              "</table>\n",
              "</div>\n",
              "      <button class=\"colab-df-convert\" onclick=\"convertToInteractive('df-6c3f0d4a-ec71-42e3-8401-747f92a725e9')\"\n",
              "              title=\"Convert this dataframe to an interactive table.\"\n",
              "              style=\"display:none;\">\n",
              "        \n",
              "  <svg xmlns=\"http://www.w3.org/2000/svg\" height=\"24px\"viewBox=\"0 0 24 24\"\n",
              "       width=\"24px\">\n",
              "    <path d=\"M0 0h24v24H0V0z\" fill=\"none\"/>\n",
              "    <path d=\"M18.56 5.44l.94 2.06.94-2.06 2.06-.94-2.06-.94-.94-2.06-.94 2.06-2.06.94zm-11 1L8.5 8.5l.94-2.06 2.06-.94-2.06-.94L8.5 2.5l-.94 2.06-2.06.94zm10 10l.94 2.06.94-2.06 2.06-.94-2.06-.94-.94-2.06-.94 2.06-2.06.94z\"/><path d=\"M17.41 7.96l-1.37-1.37c-.4-.4-.92-.59-1.43-.59-.52 0-1.04.2-1.43.59L10.3 9.45l-7.72 7.72c-.78.78-.78 2.05 0 2.83L4 21.41c.39.39.9.59 1.41.59.51 0 1.02-.2 1.41-.59l7.78-7.78 2.81-2.81c.8-.78.8-2.07 0-2.86zM5.41 20L4 18.59l7.72-7.72 1.47 1.35L5.41 20z\"/>\n",
              "  </svg>\n",
              "      </button>\n",
              "      \n",
              "  <style>\n",
              "    .colab-df-container {\n",
              "      display:flex;\n",
              "      flex-wrap:wrap;\n",
              "      gap: 12px;\n",
              "    }\n",
              "\n",
              "    .colab-df-convert {\n",
              "      background-color: #E8F0FE;\n",
              "      border: none;\n",
              "      border-radius: 50%;\n",
              "      cursor: pointer;\n",
              "      display: none;\n",
              "      fill: #1967D2;\n",
              "      height: 32px;\n",
              "      padding: 0 0 0 0;\n",
              "      width: 32px;\n",
              "    }\n",
              "\n",
              "    .colab-df-convert:hover {\n",
              "      background-color: #E2EBFA;\n",
              "      box-shadow: 0px 1px 2px rgba(60, 64, 67, 0.3), 0px 1px 3px 1px rgba(60, 64, 67, 0.15);\n",
              "      fill: #174EA6;\n",
              "    }\n",
              "\n",
              "    [theme=dark] .colab-df-convert {\n",
              "      background-color: #3B4455;\n",
              "      fill: #D2E3FC;\n",
              "    }\n",
              "\n",
              "    [theme=dark] .colab-df-convert:hover {\n",
              "      background-color: #434B5C;\n",
              "      box-shadow: 0px 1px 3px 1px rgba(0, 0, 0, 0.15);\n",
              "      filter: drop-shadow(0px 1px 2px rgba(0, 0, 0, 0.3));\n",
              "      fill: #FFFFFF;\n",
              "    }\n",
              "  </style>\n",
              "\n",
              "      <script>\n",
              "        const buttonEl =\n",
              "          document.querySelector('#df-6c3f0d4a-ec71-42e3-8401-747f92a725e9 button.colab-df-convert');\n",
              "        buttonEl.style.display =\n",
              "          google.colab.kernel.accessAllowed ? 'block' : 'none';\n",
              "\n",
              "        async function convertToInteractive(key) {\n",
              "          const element = document.querySelector('#df-6c3f0d4a-ec71-42e3-8401-747f92a725e9');\n",
              "          const dataTable =\n",
              "            await google.colab.kernel.invokeFunction('convertToInteractive',\n",
              "                                                     [key], {});\n",
              "          if (!dataTable) return;\n",
              "\n",
              "          const docLinkHtml = 'Like what you see? Visit the ' +\n",
              "            '<a target=\"_blank\" href=https://colab.research.google.com/notebooks/data_table.ipynb>data table notebook</a>'\n",
              "            + ' to learn more about interactive tables.';\n",
              "          element.innerHTML = '';\n",
              "          dataTable['output_type'] = 'display_data';\n",
              "          await google.colab.output.renderOutput(dataTable, element);\n",
              "          const docLink = document.createElement('div');\n",
              "          docLink.innerHTML = docLinkHtml;\n",
              "          element.appendChild(docLink);\n",
              "        }\n",
              "      </script>\n",
              "    </div>\n",
              "  </div>\n",
              "  "
            ]
          },
          "metadata": {},
          "execution_count": 48
        }
      ]
    },
    {
      "cell_type": "markdown",
      "source": [
        "Finalmente, voy a revisar mi variable objetivo --> Precio"
      ],
      "metadata": {
        "id": "_KvfXxBRKY_4"
      },
      "id": "_KvfXxBRKY_4"
    },
    {
      "cell_type": "code",
      "source": [
        "df_encoded['Price'].isnull().any()"
      ],
      "metadata": {
        "colab": {
          "base_uri": "https://localhost:8080/"
        },
        "id": "JbA46VyzKXCA",
        "outputId": "13963c8e-390f-44aa-fb76-5b57f3ae8ac8"
      },
      "id": "JbA46VyzKXCA",
      "execution_count": 49,
      "outputs": [
        {
          "output_type": "execute_result",
          "data": {
            "text/plain": [
              "True"
            ]
          },
          "metadata": {},
          "execution_count": 49
        }
      ]
    },
    {
      "cell_type": "markdown",
      "source": [
        "Tengo valores nulos en 'Price'"
      ],
      "metadata": {
        "id": "DHKEhE6IKv2x"
      },
      "id": "DHKEhE6IKv2x"
    },
    {
      "cell_type": "code",
      "source": [
        "Price_NA_count = {\"Columna\": 'Price', 'NA': df_encoded['Price'].isna().sum(), 'NA%': (df_encoded['Price'].isna().sum()*100/data.shape[0]).round(2)}\n",
        "Price_NA_count"
      ],
      "metadata": {
        "colab": {
          "base_uri": "https://localhost:8080/"
        },
        "id": "z2W3PL7qK1tU",
        "outputId": "49e91a51-59ca-4676-dd36-4911fcd1f3c2"
      },
      "id": "z2W3PL7qK1tU",
      "execution_count": 50,
      "outputs": [
        {
          "output_type": "execute_result",
          "data": {
            "text/plain": [
              "{'Columna': 'Price', 'NA': 8, 'NA%': 0.06}"
            ]
          },
          "metadata": {},
          "execution_count": 50
        }
      ]
    },
    {
      "cell_type": "markdown",
      "source": [
        "Bueno, son pocos los valores nulos en 'Price' 👍\n",
        "Voy a eliminarlos --> "
      ],
      "metadata": {
        "id": "3OXRx8IPLGz4"
      },
      "id": "3OXRx8IPLGz4"
    },
    {
      "cell_type": "code",
      "source": [
        "df_encoded = df_encoded[df_encoded['Price'].notna()]\n",
        "df_encoded['Price'].isnull().any()"
      ],
      "metadata": {
        "colab": {
          "base_uri": "https://localhost:8080/"
        },
        "id": "t7ZC0K1iLiaB",
        "outputId": "a12e2f53-78d1-4896-e5fb-183e2575a68f"
      },
      "id": "t7ZC0K1iLiaB",
      "execution_count": 51,
      "outputs": [
        {
          "output_type": "execute_result",
          "data": {
            "text/plain": [
              "False"
            ]
          },
          "metadata": {},
          "execution_count": 51
        }
      ]
    },
    {
      "cell_type": "markdown",
      "metadata": {
        "id": "564cf5c3"
      },
      "source": [
        "## 4. Listos para separar en train, validation y test!!!"
      ],
      "id": "564cf5c3"
    },
    {
      "cell_type": "code",
      "source": [
        "#Elimino outliers --> \n",
        "df_encoded = df_encoded[df_encoded['Maximum Nights'] < 1125]\n",
        "df_encoded = df_encoded[df_encoded['Minimum Nights'] < 100]\n",
        "df_encoded = df_encoded[df_encoded['Extra People'] < 15]"
      ],
      "metadata": {
        "id": "Cv_SntjE9Ua5"
      },
      "id": "Cv_SntjE9Ua5",
      "execution_count": null,
      "outputs": []
    },
    {
      "cell_type": "code",
      "source": [
        "df_encoded.columns.values"
      ],
      "metadata": {
        "colab": {
          "base_uri": "https://localhost:8080/"
        },
        "id": "q9Dkti1Go0F4",
        "outputId": "1da2c5e8-32a4-40d4-a51a-b620f2748878"
      },
      "id": "q9Dkti1Go0F4",
      "execution_count": null,
      "outputs": [
        {
          "output_type": "execute_result",
          "data": {
            "text/plain": [
              "array(['ID', 'Host ID', 'Host Response Rate', 'Host Listings Count',\n",
              "       'Host Total Listings Count', 'Zipcode', 'Latitude', 'Longitude',\n",
              "       'Accommodates', 'Bathrooms', 'Bedrooms', 'Beds', 'Price',\n",
              "       'Guests Included', 'Extra People', 'Minimum Nights',\n",
              "       'Maximum Nights', 'Availability 30', 'Availability 60',\n",
              "       'Availability 90', 'Availability 365', 'Number of Reviews',\n",
              "       'Review Scores Rating', 'Review Scores Accuracy',\n",
              "       'Review Scores Cleanliness', 'Review Scores Checkin',\n",
              "       'Review Scores Communication', 'Review Scores Location',\n",
              "       'Review Scores Value', 'Calculated host listings count',\n",
              "       'Reviews per Month', 'Host Since_year', 'Host Since_month',\n",
              "       'Host Since_day', 'First Review_year', 'First Review_month',\n",
              "       'First Review_day', 'Last Review_year', 'Last Review_month',\n",
              "       'Last Review_day', 'Thumbnail Url', 'Medium Url', 'Picture Url',\n",
              "       'XL Picture Url', 'Host Thumbnail Url', 'Host Picture Url',\n",
              "       'Host Response Time_a few days or more',\n",
              "       'Host Response Time_within a day',\n",
              "       'Host Response Time_within a few hours',\n",
              "       'Host Response Time_within an hour', 'Neighbourhood_Acacias',\n",
              "       'Neighbourhood_Adelfas', 'Neighbourhood_Almagro',\n",
              "       'Neighbourhood_Almenara', 'Neighbourhood_Aluche',\n",
              "       'Neighbourhood_Arapiles', 'Neighbourhood_Arganzuela',\n",
              "       'Neighbourhood_Argüelles', 'Neighbourhood_Atocha',\n",
              "       'Neighbourhood_Barajas', 'Neighbourhood_Bellas Vistas',\n",
              "       'Neighbourhood_Berruguete', 'Neighbourhood_Carabanchel',\n",
              "       'Neighbourhood_Castellana', 'Neighbourhood_Castilla',\n",
              "       'Neighbourhood_Castillejos', 'Neighbourhood_Centro',\n",
              "       'Neighbourhood_Chamberí', 'Neighbourhood_Ciudad Jardin',\n",
              "       'Neighbourhood_Ciudad Lineal', 'Neighbourhood_Cortes',\n",
              "       'Neighbourhood_Cuatro Caminos', 'Neighbourhood_Delicias',\n",
              "       'Neighbourhood_El Tréntaiseis', 'Neighbourhood_El Viso',\n",
              "       'Neighbourhood_Embajadores', 'Neighbourhood_Estrella',\n",
              "       'Neighbourhood_Fuencarral-El Pardo',\n",
              "       'Neighbourhood_Fuencarral-el Pardo',\n",
              "       'Neighbourhood_Fuente del Berro', 'Neighbourhood_Gaztambide',\n",
              "       'Neighbourhood_Goya', 'Neighbourhood_Guindalera',\n",
              "       'Neighbourhood_Hispanoamérica', 'Neighbourhood_Hortaleza',\n",
              "       'Neighbourhood_Ibiza', 'Neighbourhood_Imperial',\n",
              "       'Neighbourhood_Jerónimos', 'Neighbourhood_Justicia',\n",
              "       'Neighbourhood_La Chopera', 'Neighbourhood_La Latina',\n",
              "       'Neighbourhood_Legazpi', 'Neighbourhood_Lista',\n",
              "       'Neighbourhood_Malasaña', 'Neighbourhood_Moncloa',\n",
              "       'Neighbourhood_Moratalaz', 'Neighbourhood_Nueva España',\n",
              "       'Neighbourhood_Pacifico', 'Neighbourhood_Palacio',\n",
              "       'Neighbourhood_Palos do Moguer', 'Neighbourhood_Prosperidad',\n",
              "       'Neighbourhood_Puente de Vallecas', 'Neighbourhood_Recoletos',\n",
              "       'Neighbourhood_Retiro', 'Neighbourhood_Rios Rosas',\n",
              "       'Neighbourhood_San Blas', 'Neighbourhood_Sol',\n",
              "       'Neighbourhood_Tetuán', 'Neighbourhood_Trafalgar',\n",
              "       'Neighbourhood_Usera', 'Neighbourhood_Valdeacederas',\n",
              "       'Neighbourhood_Vallehermosa', 'Neighbourhood_Vicálvaro',\n",
              "       'Neighbourhood_Villa de Vallecas', 'Neighbourhood_Villaverde',\n",
              "       'Neighbourhood Group Cleansed_Arganzuela',\n",
              "       'Neighbourhood Group Cleansed_Barajas',\n",
              "       'Neighbourhood Group Cleansed_Carabanchel',\n",
              "       'Neighbourhood Group Cleansed_Centro',\n",
              "       'Neighbourhood Group Cleansed_Chamartín',\n",
              "       'Neighbourhood Group Cleansed_Chamberí',\n",
              "       'Neighbourhood Group Cleansed_Ciudad Lineal',\n",
              "       'Neighbourhood Group Cleansed_Fuencarral - El Pardo',\n",
              "       'Neighbourhood Group Cleansed_Hortaleza',\n",
              "       'Neighbourhood Group Cleansed_Latina',\n",
              "       'Neighbourhood Group Cleansed_Moncloa - Aravaca',\n",
              "       'Neighbourhood Group Cleansed_Moratalaz',\n",
              "       'Neighbourhood Group Cleansed_Puente de Vallecas',\n",
              "       'Neighbourhood Group Cleansed_Retiro',\n",
              "       'Neighbourhood Group Cleansed_Salamanca',\n",
              "       'Neighbourhood Group Cleansed_San Blas - Canillejas',\n",
              "       'Neighbourhood Group Cleansed_Tetuán',\n",
              "       'Neighbourhood Group Cleansed_Usera',\n",
              "       'Neighbourhood Group Cleansed_Vicálvaro',\n",
              "       'Neighbourhood Group Cleansed_Villa de Vallecas',\n",
              "       'Neighbourhood Group Cleansed_Villaverde',\n",
              "       'Property Type_Apartment', 'Property Type_Bed & Breakfast',\n",
              "       'Property Type_Boat', 'Property Type_Boutique hotel',\n",
              "       'Property Type_Bungalow', 'Property Type_Camper/RV',\n",
              "       'Property Type_Casa particular', 'Property Type_Chalet',\n",
              "       'Property Type_Condominium', 'Property Type_Dorm',\n",
              "       'Property Type_Earth House', 'Property Type_Guest suite',\n",
              "       'Property Type_Guesthouse', 'Property Type_Hostel',\n",
              "       'Property Type_House', 'Property Type_Loft', 'Property Type_Other',\n",
              "       'Property Type_Serviced apartment', 'Property Type_Tent',\n",
              "       'Property Type_Timeshare', 'Property Type_Townhouse',\n",
              "       'Property Type_Villa', 'Room Type_Entire home/apt',\n",
              "       'Room Type_Private room', 'Room Type_Shared room',\n",
              "       'Bed Type_Airbed', 'Bed Type_Couch', 'Bed Type_Futon',\n",
              "       'Bed Type_Pull-out Sofa', 'Bed Type_Real Bed',\n",
              "       'Cancellation Policy_flexible', 'Cancellation Policy_moderate',\n",
              "       'Cancellation Policy_strict',\n",
              "       'Cancellation Policy_super_strict_30',\n",
              "       'Cancellation Policy_super_strict_60'], dtype=object)"
            ]
          },
          "metadata": {},
          "execution_count": 293
        }
      ]
    },
    {
      "cell_type": "code",
      "source": [
        "# Voy a eliminar los NA de la columna de \"Thumbnail Url\" que son 19 (es la imagen más pequeña)\n",
        "print(\"El total de NAs en 'Thumbnail Url' es \", df_encoded['Thumbnail Url'].isna().sum())\n",
        "print(\"Voy a eliminarlos -->\")\n",
        "df_encoded = df_encoded[df_encoded['Thumbnail Url'].notna()]\n",
        "print(\"Ahora, el total de NAs en 'Thumbnail Url' es \", df_encoded['Thumbnail Url'].isna().sum())"
      ],
      "metadata": {
        "colab": {
          "base_uri": "https://localhost:8080/"
        },
        "id": "KuAMQmPvoHGn",
        "outputId": "5a64b7bb-9a88-4187-e72e-3765c9a85541"
      },
      "id": "KuAMQmPvoHGn",
      "execution_count": 82,
      "outputs": [
        {
          "output_type": "stream",
          "name": "stdout",
          "text": [
            "El total de NAs en 'Thumbnail Url' es  2411\n",
            "Voy a eliminarlos -->\n",
            "Ahora, el total de NAs en 'Thumbnail Url' es  0\n"
          ]
        }
      ]
    },
    {
      "cell_type": "code",
      "source": [
        "df_encoded.shape"
      ],
      "metadata": {
        "colab": {
          "base_uri": "https://localhost:8080/"
        },
        "id": "uLllLCwU_k6H",
        "outputId": "8bea572d-4f49-438b-eecb-ff1e90fcf9d1"
      },
      "id": "uLllLCwU_k6H",
      "execution_count": 83,
      "outputs": [
        {
          "output_type": "execute_result",
          "data": {
            "text/plain": [
              "(10387, 171)"
            ]
          },
          "metadata": {},
          "execution_count": 83
        }
      ]
    },
    {
      "cell_type": "code",
      "source": [
        "# Tomo el dataframe y divido en X y y\n",
        "X = df_encoded.drop('Price', axis=1) \n",
        "y = df_encoded['Price']\n",
        "\n",
        "# Ahora divido los datos: 80% train, 10% validation, 10% test\n",
        "X_train, X_val_test, y_train, y_val_test = train_test_split(X, y, test_size=0.2, random_state=5)\n",
        "X_val, X_test, y_val, y_test = train_test_split(X_val_test, y_val_test, test_size=0.5, random_state=5)"
      ],
      "metadata": {
        "id": "kfDrfKHODo8n"
      },
      "id": "kfDrfKHODo8n",
      "execution_count": 84,
      "outputs": []
    },
    {
      "cell_type": "markdown",
      "source": [
        "Voy a guardarlo en disco, para poder retomar a partir de aquí -->"
      ],
      "metadata": {
        "id": "egy4BbzsGFxF"
      },
      "id": "egy4BbzsGFxF"
    },
    {
      "cell_type": "code",
      "source": [
        "# Guardar CSV\n",
        "X_train.to_csv('train.csv', index=False)\n",
        "X_val.to_csv('validation.csv', index=False)\n",
        "X_test.to_csv('test.csv', index=False)\n",
        "y_train.to_csv('train_target.csv', index=False)\n",
        "y_val.to_csv('validation_target.csv', index=False)\n",
        "y_test.to_csv('test_target.csv', index=False)"
      ],
      "metadata": {
        "id": "-dML5hctGEhC"
      },
      "id": "-dML5hctGEhC",
      "execution_count": 85,
      "outputs": []
    },
    {
      "cell_type": "code",
      "source": [
        "!ls -lh"
      ],
      "metadata": {
        "colab": {
          "base_uri": "https://localhost:8080/"
        },
        "id": "wAYB39WTJE3S",
        "outputId": "a6cd1a97-c55b-47c8-b501-0c5cc4621944"
      },
      "id": "wAYB39WTJE3S",
      "execution_count": 60,
      "outputs": [
        {
          "output_type": "stream",
          "name": "stdout",
          "text": [
            "total 85M\n",
            "-rw-rw-r-- 1 root root  58M Dec 21 22:29 airbnb-listings-extract.csv\n",
            "-rw-r--r-- 1 root root  15M Feb 19 07:15 airbnb-listings-extract.zip\n",
            "drwxr-xr-x 2 root root 4.0K Feb 19 07:15 __MACOSX\n",
            "drwxr-xr-x 1 root root 4.0K Feb 17 19:30 sample_data\n",
            "-rw-r--r-- 1 root root 1.3M Feb 19 07:18 test.csv\n",
            "-rw-r--r-- 1 root root 6.5K Feb 19 07:18 test_target.csv\n",
            "-rw-r--r-- 1 root root 9.7M Feb 19 07:18 train.csv\n",
            "-rw-r--r-- 1 root root  52K Feb 19 07:18 train_target.csv\n",
            "-rw-r--r-- 1 root root 1.3M Feb 19 07:18 validation.csv\n",
            "-rw-r--r-- 1 root root 6.5K Feb 19 07:18 validation_target.csv\n"
          ]
        }
      ]
    },
    {
      "cell_type": "markdown",
      "source": [
        "## 5. Proceso de datos!!!\n",
        "\n",
        "--> Voy a cargar train.csv <--\n",
        "--> Voy a cargar train.csv <--\n",
        "--> Voy a cargar train.csv <--\n",
        "--> Voy a cargar train.csv <--"
      ],
      "metadata": {
        "id": "HfNR-ktWJkz4"
      },
      "id": "HfNR-ktWJkz4"
    },
    {
      "cell_type": "code",
      "source": [
        "# Cargo los datos que almacené separados\n",
        "X_train = pd.read_csv('train.csv')\n",
        "y_train = pd.read_csv('train_target.csv')\n"
      ],
      "metadata": {
        "id": "Em_bgog5Juh1"
      },
      "id": "Em_bgog5Juh1",
      "execution_count": 86,
      "outputs": []
    },
    {
      "cell_type": "code",
      "source": [
        "X_train.head(1)"
      ],
      "metadata": {
        "colab": {
          "base_uri": "https://localhost:8080/",
          "height": 226
        },
        "id": "pzBRFgtrNWde",
        "outputId": "69ad8a32-28e0-40a3-cd85-2dca5e57e8af"
      },
      "id": "pzBRFgtrNWde",
      "execution_count": 87,
      "outputs": [
        {
          "output_type": "execute_result",
          "data": {
            "text/plain": [
              "         ID   Host ID  Host Response Rate  Host Listings Count  \\\n",
              "0  16880197  66787597               100.0                  1.0   \n",
              "\n",
              "   Host Total Listings Count  Zipcode   Latitude  Longitude  Accommodates  \\\n",
              "0                        1.0    28022  40.445618  -3.587992             2   \n",
              "\n",
              "   Bathrooms  ...  Bed Type_Airbed  Bed Type_Couch  Bed Type_Futon  \\\n",
              "0        1.0  ...                0               0               0   \n",
              "\n",
              "   Bed Type_Pull-out Sofa  Bed Type_Real Bed  Cancellation Policy_flexible  \\\n",
              "0                       0                  1                             1   \n",
              "\n",
              "   Cancellation Policy_moderate  Cancellation Policy_strict  \\\n",
              "0                             0                           0   \n",
              "\n",
              "   Cancellation Policy_super_strict_30  Cancellation Policy_super_strict_60  \n",
              "0                                    0                                    0  \n",
              "\n",
              "[1 rows x 170 columns]"
            ],
            "text/html": [
              "\n",
              "  <div id=\"df-f6462c2a-9622-4c5a-80ca-13332714215a\">\n",
              "    <div class=\"colab-df-container\">\n",
              "      <div>\n",
              "<style scoped>\n",
              "    .dataframe tbody tr th:only-of-type {\n",
              "        vertical-align: middle;\n",
              "    }\n",
              "\n",
              "    .dataframe tbody tr th {\n",
              "        vertical-align: top;\n",
              "    }\n",
              "\n",
              "    .dataframe thead th {\n",
              "        text-align: right;\n",
              "    }\n",
              "</style>\n",
              "<table border=\"1\" class=\"dataframe\">\n",
              "  <thead>\n",
              "    <tr style=\"text-align: right;\">\n",
              "      <th></th>\n",
              "      <th>ID</th>\n",
              "      <th>Host ID</th>\n",
              "      <th>Host Response Rate</th>\n",
              "      <th>Host Listings Count</th>\n",
              "      <th>Host Total Listings Count</th>\n",
              "      <th>Zipcode</th>\n",
              "      <th>Latitude</th>\n",
              "      <th>Longitude</th>\n",
              "      <th>Accommodates</th>\n",
              "      <th>Bathrooms</th>\n",
              "      <th>...</th>\n",
              "      <th>Bed Type_Airbed</th>\n",
              "      <th>Bed Type_Couch</th>\n",
              "      <th>Bed Type_Futon</th>\n",
              "      <th>Bed Type_Pull-out Sofa</th>\n",
              "      <th>Bed Type_Real Bed</th>\n",
              "      <th>Cancellation Policy_flexible</th>\n",
              "      <th>Cancellation Policy_moderate</th>\n",
              "      <th>Cancellation Policy_strict</th>\n",
              "      <th>Cancellation Policy_super_strict_30</th>\n",
              "      <th>Cancellation Policy_super_strict_60</th>\n",
              "    </tr>\n",
              "  </thead>\n",
              "  <tbody>\n",
              "    <tr>\n",
              "      <th>0</th>\n",
              "      <td>16880197</td>\n",
              "      <td>66787597</td>\n",
              "      <td>100.0</td>\n",
              "      <td>1.0</td>\n",
              "      <td>1.0</td>\n",
              "      <td>28022</td>\n",
              "      <td>40.445618</td>\n",
              "      <td>-3.587992</td>\n",
              "      <td>2</td>\n",
              "      <td>1.0</td>\n",
              "      <td>...</td>\n",
              "      <td>0</td>\n",
              "      <td>0</td>\n",
              "      <td>0</td>\n",
              "      <td>0</td>\n",
              "      <td>1</td>\n",
              "      <td>1</td>\n",
              "      <td>0</td>\n",
              "      <td>0</td>\n",
              "      <td>0</td>\n",
              "      <td>0</td>\n",
              "    </tr>\n",
              "  </tbody>\n",
              "</table>\n",
              "<p>1 rows × 170 columns</p>\n",
              "</div>\n",
              "      <button class=\"colab-df-convert\" onclick=\"convertToInteractive('df-f6462c2a-9622-4c5a-80ca-13332714215a')\"\n",
              "              title=\"Convert this dataframe to an interactive table.\"\n",
              "              style=\"display:none;\">\n",
              "        \n",
              "  <svg xmlns=\"http://www.w3.org/2000/svg\" height=\"24px\"viewBox=\"0 0 24 24\"\n",
              "       width=\"24px\">\n",
              "    <path d=\"M0 0h24v24H0V0z\" fill=\"none\"/>\n",
              "    <path d=\"M18.56 5.44l.94 2.06.94-2.06 2.06-.94-2.06-.94-.94-2.06-.94 2.06-2.06.94zm-11 1L8.5 8.5l.94-2.06 2.06-.94-2.06-.94L8.5 2.5l-.94 2.06-2.06.94zm10 10l.94 2.06.94-2.06 2.06-.94-2.06-.94-.94-2.06-.94 2.06-2.06.94z\"/><path d=\"M17.41 7.96l-1.37-1.37c-.4-.4-.92-.59-1.43-.59-.52 0-1.04.2-1.43.59L10.3 9.45l-7.72 7.72c-.78.78-.78 2.05 0 2.83L4 21.41c.39.39.9.59 1.41.59.51 0 1.02-.2 1.41-.59l7.78-7.78 2.81-2.81c.8-.78.8-2.07 0-2.86zM5.41 20L4 18.59l7.72-7.72 1.47 1.35L5.41 20z\"/>\n",
              "  </svg>\n",
              "      </button>\n",
              "      \n",
              "  <style>\n",
              "    .colab-df-container {\n",
              "      display:flex;\n",
              "      flex-wrap:wrap;\n",
              "      gap: 12px;\n",
              "    }\n",
              "\n",
              "    .colab-df-convert {\n",
              "      background-color: #E8F0FE;\n",
              "      border: none;\n",
              "      border-radius: 50%;\n",
              "      cursor: pointer;\n",
              "      display: none;\n",
              "      fill: #1967D2;\n",
              "      height: 32px;\n",
              "      padding: 0 0 0 0;\n",
              "      width: 32px;\n",
              "    }\n",
              "\n",
              "    .colab-df-convert:hover {\n",
              "      background-color: #E2EBFA;\n",
              "      box-shadow: 0px 1px 2px rgba(60, 64, 67, 0.3), 0px 1px 3px 1px rgba(60, 64, 67, 0.15);\n",
              "      fill: #174EA6;\n",
              "    }\n",
              "\n",
              "    [theme=dark] .colab-df-convert {\n",
              "      background-color: #3B4455;\n",
              "      fill: #D2E3FC;\n",
              "    }\n",
              "\n",
              "    [theme=dark] .colab-df-convert:hover {\n",
              "      background-color: #434B5C;\n",
              "      box-shadow: 0px 1px 3px 1px rgba(0, 0, 0, 0.15);\n",
              "      filter: drop-shadow(0px 1px 2px rgba(0, 0, 0, 0.3));\n",
              "      fill: #FFFFFF;\n",
              "    }\n",
              "  </style>\n",
              "\n",
              "      <script>\n",
              "        const buttonEl =\n",
              "          document.querySelector('#df-f6462c2a-9622-4c5a-80ca-13332714215a button.colab-df-convert');\n",
              "        buttonEl.style.display =\n",
              "          google.colab.kernel.accessAllowed ? 'block' : 'none';\n",
              "\n",
              "        async function convertToInteractive(key) {\n",
              "          const element = document.querySelector('#df-f6462c2a-9622-4c5a-80ca-13332714215a');\n",
              "          const dataTable =\n",
              "            await google.colab.kernel.invokeFunction('convertToInteractive',\n",
              "                                                     [key], {});\n",
              "          if (!dataTable) return;\n",
              "\n",
              "          const docLinkHtml = 'Like what you see? Visit the ' +\n",
              "            '<a target=\"_blank\" href=https://colab.research.google.com/notebooks/data_table.ipynb>data table notebook</a>'\n",
              "            + ' to learn more about interactive tables.';\n",
              "          element.innerHTML = '';\n",
              "          dataTable['output_type'] = 'display_data';\n",
              "          await google.colab.output.renderOutput(dataTable, element);\n",
              "          const docLink = document.createElement('div');\n",
              "          docLink.innerHTML = docLinkHtml;\n",
              "          element.appendChild(docLink);\n",
              "        }\n",
              "      </script>\n",
              "    </div>\n",
              "  </div>\n",
              "  "
            ]
          },
          "metadata": {},
          "execution_count": 87
        }
      ]
    },
    {
      "cell_type": "code",
      "source": [
        "columnas_objeto = X_train.select_dtypes(include=['object'])\n",
        "X_train = X_train.drop(columns=columnas_objeto)\n",
        "\n",
        "lista_columnas = X_train.columns.values\n",
        "for name in lista_columnas:\n",
        "    X_train[name].fillna(X_train[name].mode()[0], inplace=True)\n",
        "\n",
        "X_train.shape\n",
        "#y_train.shape"
      ],
      "metadata": {
        "colab": {
          "base_uri": "https://localhost:8080/"
        },
        "id": "NQbMGu7wNWgJ",
        "outputId": "23e24149-0c71-4a58-c4c7-69962281f872"
      },
      "id": "NQbMGu7wNWgJ",
      "execution_count": 88,
      "outputs": [
        {
          "output_type": "execute_result",
          "data": {
            "text/plain": [
              "(8309, 164)"
            ]
          },
          "metadata": {},
          "execution_count": 88
        }
      ]
    },
    {
      "cell_type": "markdown",
      "source": [
        "Voy a estandarizar. Voy a probar primero con MinMaxScaler para los valores float64 y StandardScaler para los valores Int64.\n",
        "* MinMaxScaler. Lo usaré para los valores Int64, porque es una buena alternativa para números que tienen un rango pequeño de valores. La mayor parte de mis datos son '0' o '1', o los ID, o los códigos postales. \n",
        "* StandardScaler. Es más adecuado para rangos más amplios de valores y distribuciones no uniformes (como puede ser todas las variables numéricas originales. "
      ],
      "metadata": {
        "id": "U3xAZBlkUcWE"
      },
      "id": "U3xAZBlkUcWE"
    },
    {
      "cell_type": "code",
      "source": [
        "columnas_Int64 = X_train.select_dtypes(include=['Int64'])\n",
        "columnas_Int64.head(1)"
      ],
      "metadata": {
        "colab": {
          "base_uri": "https://localhost:8080/",
          "height": 209
        },
        "id": "-78wbIXYNWjL",
        "outputId": "1c074adc-d3af-49ab-9877-6cb177862f3c"
      },
      "id": "-78wbIXYNWjL",
      "execution_count": 89,
      "outputs": [
        {
          "output_type": "execute_result",
          "data": {
            "text/plain": [
              "         ID   Host ID  Zipcode  Accommodates  Guests Included  Extra People  \\\n",
              "0  16880197  66787597    28022             2                1            18   \n",
              "\n",
              "   Minimum Nights  Maximum Nights  Availability 30  Availability 60  ...  \\\n",
              "0               1            1125                0                0  ...   \n",
              "\n",
              "   Bed Type_Airbed  Bed Type_Couch  Bed Type_Futon  Bed Type_Pull-out Sofa  \\\n",
              "0                0               0               0                       0   \n",
              "\n",
              "   Bed Type_Real Bed  Cancellation Policy_flexible  \\\n",
              "0                  1                             1   \n",
              "\n",
              "   Cancellation Policy_moderate  Cancellation Policy_strict  \\\n",
              "0                             0                           0   \n",
              "\n",
              "   Cancellation Policy_super_strict_30  Cancellation Policy_super_strict_60  \n",
              "0                                    0                                    0  \n",
              "\n",
              "[1 rows x 138 columns]"
            ],
            "text/html": [
              "\n",
              "  <div id=\"df-e06fe090-813f-4aae-967e-88c20cf055da\">\n",
              "    <div class=\"colab-df-container\">\n",
              "      <div>\n",
              "<style scoped>\n",
              "    .dataframe tbody tr th:only-of-type {\n",
              "        vertical-align: middle;\n",
              "    }\n",
              "\n",
              "    .dataframe tbody tr th {\n",
              "        vertical-align: top;\n",
              "    }\n",
              "\n",
              "    .dataframe thead th {\n",
              "        text-align: right;\n",
              "    }\n",
              "</style>\n",
              "<table border=\"1\" class=\"dataframe\">\n",
              "  <thead>\n",
              "    <tr style=\"text-align: right;\">\n",
              "      <th></th>\n",
              "      <th>ID</th>\n",
              "      <th>Host ID</th>\n",
              "      <th>Zipcode</th>\n",
              "      <th>Accommodates</th>\n",
              "      <th>Guests Included</th>\n",
              "      <th>Extra People</th>\n",
              "      <th>Minimum Nights</th>\n",
              "      <th>Maximum Nights</th>\n",
              "      <th>Availability 30</th>\n",
              "      <th>Availability 60</th>\n",
              "      <th>...</th>\n",
              "      <th>Bed Type_Airbed</th>\n",
              "      <th>Bed Type_Couch</th>\n",
              "      <th>Bed Type_Futon</th>\n",
              "      <th>Bed Type_Pull-out Sofa</th>\n",
              "      <th>Bed Type_Real Bed</th>\n",
              "      <th>Cancellation Policy_flexible</th>\n",
              "      <th>Cancellation Policy_moderate</th>\n",
              "      <th>Cancellation Policy_strict</th>\n",
              "      <th>Cancellation Policy_super_strict_30</th>\n",
              "      <th>Cancellation Policy_super_strict_60</th>\n",
              "    </tr>\n",
              "  </thead>\n",
              "  <tbody>\n",
              "    <tr>\n",
              "      <th>0</th>\n",
              "      <td>16880197</td>\n",
              "      <td>66787597</td>\n",
              "      <td>28022</td>\n",
              "      <td>2</td>\n",
              "      <td>1</td>\n",
              "      <td>18</td>\n",
              "      <td>1</td>\n",
              "      <td>1125</td>\n",
              "      <td>0</td>\n",
              "      <td>0</td>\n",
              "      <td>...</td>\n",
              "      <td>0</td>\n",
              "      <td>0</td>\n",
              "      <td>0</td>\n",
              "      <td>0</td>\n",
              "      <td>1</td>\n",
              "      <td>1</td>\n",
              "      <td>0</td>\n",
              "      <td>0</td>\n",
              "      <td>0</td>\n",
              "      <td>0</td>\n",
              "    </tr>\n",
              "  </tbody>\n",
              "</table>\n",
              "<p>1 rows × 138 columns</p>\n",
              "</div>\n",
              "      <button class=\"colab-df-convert\" onclick=\"convertToInteractive('df-e06fe090-813f-4aae-967e-88c20cf055da')\"\n",
              "              title=\"Convert this dataframe to an interactive table.\"\n",
              "              style=\"display:none;\">\n",
              "        \n",
              "  <svg xmlns=\"http://www.w3.org/2000/svg\" height=\"24px\"viewBox=\"0 0 24 24\"\n",
              "       width=\"24px\">\n",
              "    <path d=\"M0 0h24v24H0V0z\" fill=\"none\"/>\n",
              "    <path d=\"M18.56 5.44l.94 2.06.94-2.06 2.06-.94-2.06-.94-.94-2.06-.94 2.06-2.06.94zm-11 1L8.5 8.5l.94-2.06 2.06-.94-2.06-.94L8.5 2.5l-.94 2.06-2.06.94zm10 10l.94 2.06.94-2.06 2.06-.94-2.06-.94-.94-2.06-.94 2.06-2.06.94z\"/><path d=\"M17.41 7.96l-1.37-1.37c-.4-.4-.92-.59-1.43-.59-.52 0-1.04.2-1.43.59L10.3 9.45l-7.72 7.72c-.78.78-.78 2.05 0 2.83L4 21.41c.39.39.9.59 1.41.59.51 0 1.02-.2 1.41-.59l7.78-7.78 2.81-2.81c.8-.78.8-2.07 0-2.86zM5.41 20L4 18.59l7.72-7.72 1.47 1.35L5.41 20z\"/>\n",
              "  </svg>\n",
              "      </button>\n",
              "      \n",
              "  <style>\n",
              "    .colab-df-container {\n",
              "      display:flex;\n",
              "      flex-wrap:wrap;\n",
              "      gap: 12px;\n",
              "    }\n",
              "\n",
              "    .colab-df-convert {\n",
              "      background-color: #E8F0FE;\n",
              "      border: none;\n",
              "      border-radius: 50%;\n",
              "      cursor: pointer;\n",
              "      display: none;\n",
              "      fill: #1967D2;\n",
              "      height: 32px;\n",
              "      padding: 0 0 0 0;\n",
              "      width: 32px;\n",
              "    }\n",
              "\n",
              "    .colab-df-convert:hover {\n",
              "      background-color: #E2EBFA;\n",
              "      box-shadow: 0px 1px 2px rgba(60, 64, 67, 0.3), 0px 1px 3px 1px rgba(60, 64, 67, 0.15);\n",
              "      fill: #174EA6;\n",
              "    }\n",
              "\n",
              "    [theme=dark] .colab-df-convert {\n",
              "      background-color: #3B4455;\n",
              "      fill: #D2E3FC;\n",
              "    }\n",
              "\n",
              "    [theme=dark] .colab-df-convert:hover {\n",
              "      background-color: #434B5C;\n",
              "      box-shadow: 0px 1px 3px 1px rgba(0, 0, 0, 0.15);\n",
              "      filter: drop-shadow(0px 1px 2px rgba(0, 0, 0, 0.3));\n",
              "      fill: #FFFFFF;\n",
              "    }\n",
              "  </style>\n",
              "\n",
              "      <script>\n",
              "        const buttonEl =\n",
              "          document.querySelector('#df-e06fe090-813f-4aae-967e-88c20cf055da button.colab-df-convert');\n",
              "        buttonEl.style.display =\n",
              "          google.colab.kernel.accessAllowed ? 'block' : 'none';\n",
              "\n",
              "        async function convertToInteractive(key) {\n",
              "          const element = document.querySelector('#df-e06fe090-813f-4aae-967e-88c20cf055da');\n",
              "          const dataTable =\n",
              "            await google.colab.kernel.invokeFunction('convertToInteractive',\n",
              "                                                     [key], {});\n",
              "          if (!dataTable) return;\n",
              "\n",
              "          const docLinkHtml = 'Like what you see? Visit the ' +\n",
              "            '<a target=\"_blank\" href=https://colab.research.google.com/notebooks/data_table.ipynb>data table notebook</a>'\n",
              "            + ' to learn more about interactive tables.';\n",
              "          element.innerHTML = '';\n",
              "          dataTable['output_type'] = 'display_data';\n",
              "          await google.colab.output.renderOutput(dataTable, element);\n",
              "          const docLink = document.createElement('div');\n",
              "          docLink.innerHTML = docLinkHtml;\n",
              "          element.appendChild(docLink);\n",
              "        }\n",
              "      </script>\n",
              "    </div>\n",
              "  </div>\n",
              "  "
            ]
          },
          "metadata": {},
          "execution_count": 89
        }
      ]
    },
    {
      "cell_type": "code",
      "source": [
        "columnas_float64 = X_train.select_dtypes(include=['float64'])\n",
        "columnas_float64.head(1)"
      ],
      "metadata": {
        "colab": {
          "base_uri": "https://localhost:8080/",
          "height": 226
        },
        "id": "VBt1kfJrT3aB",
        "outputId": "761f823a-6ffd-41ff-d53c-88af7269eed2"
      },
      "id": "VBt1kfJrT3aB",
      "execution_count": 90,
      "outputs": [
        {
          "output_type": "execute_result",
          "data": {
            "text/plain": [
              "   Host Response Rate  Host Listings Count  Host Total Listings Count  \\\n",
              "0               100.0                  1.0                        1.0   \n",
              "\n",
              "    Latitude  Longitude  Bathrooms  Bedrooms  Beds  Review Scores Rating  \\\n",
              "0  40.445618  -3.587992        1.0       1.0   1.0                  97.0   \n",
              "\n",
              "   Review Scores Accuracy  ...  Reviews per Month  Host Since_year  \\\n",
              "0                    10.0  ...               2.47           2016.0   \n",
              "\n",
              "   Host Since_month  Host Since_day  First Review_year  First Review_month  \\\n",
              "0               4.0            11.0             2017.0                 1.0   \n",
              "\n",
              "   First Review_day  Last Review_year  Last Review_month  Last Review_day  \n",
              "0              26.0            2017.0                3.0             31.0  \n",
              "\n",
              "[1 rows x 26 columns]"
            ],
            "text/html": [
              "\n",
              "  <div id=\"df-6cd0b03c-d5e9-47bd-845b-52319f9329d2\">\n",
              "    <div class=\"colab-df-container\">\n",
              "      <div>\n",
              "<style scoped>\n",
              "    .dataframe tbody tr th:only-of-type {\n",
              "        vertical-align: middle;\n",
              "    }\n",
              "\n",
              "    .dataframe tbody tr th {\n",
              "        vertical-align: top;\n",
              "    }\n",
              "\n",
              "    .dataframe thead th {\n",
              "        text-align: right;\n",
              "    }\n",
              "</style>\n",
              "<table border=\"1\" class=\"dataframe\">\n",
              "  <thead>\n",
              "    <tr style=\"text-align: right;\">\n",
              "      <th></th>\n",
              "      <th>Host Response Rate</th>\n",
              "      <th>Host Listings Count</th>\n",
              "      <th>Host Total Listings Count</th>\n",
              "      <th>Latitude</th>\n",
              "      <th>Longitude</th>\n",
              "      <th>Bathrooms</th>\n",
              "      <th>Bedrooms</th>\n",
              "      <th>Beds</th>\n",
              "      <th>Review Scores Rating</th>\n",
              "      <th>Review Scores Accuracy</th>\n",
              "      <th>...</th>\n",
              "      <th>Reviews per Month</th>\n",
              "      <th>Host Since_year</th>\n",
              "      <th>Host Since_month</th>\n",
              "      <th>Host Since_day</th>\n",
              "      <th>First Review_year</th>\n",
              "      <th>First Review_month</th>\n",
              "      <th>First Review_day</th>\n",
              "      <th>Last Review_year</th>\n",
              "      <th>Last Review_month</th>\n",
              "      <th>Last Review_day</th>\n",
              "    </tr>\n",
              "  </thead>\n",
              "  <tbody>\n",
              "    <tr>\n",
              "      <th>0</th>\n",
              "      <td>100.0</td>\n",
              "      <td>1.0</td>\n",
              "      <td>1.0</td>\n",
              "      <td>40.445618</td>\n",
              "      <td>-3.587992</td>\n",
              "      <td>1.0</td>\n",
              "      <td>1.0</td>\n",
              "      <td>1.0</td>\n",
              "      <td>97.0</td>\n",
              "      <td>10.0</td>\n",
              "      <td>...</td>\n",
              "      <td>2.47</td>\n",
              "      <td>2016.0</td>\n",
              "      <td>4.0</td>\n",
              "      <td>11.0</td>\n",
              "      <td>2017.0</td>\n",
              "      <td>1.0</td>\n",
              "      <td>26.0</td>\n",
              "      <td>2017.0</td>\n",
              "      <td>3.0</td>\n",
              "      <td>31.0</td>\n",
              "    </tr>\n",
              "  </tbody>\n",
              "</table>\n",
              "<p>1 rows × 26 columns</p>\n",
              "</div>\n",
              "      <button class=\"colab-df-convert\" onclick=\"convertToInteractive('df-6cd0b03c-d5e9-47bd-845b-52319f9329d2')\"\n",
              "              title=\"Convert this dataframe to an interactive table.\"\n",
              "              style=\"display:none;\">\n",
              "        \n",
              "  <svg xmlns=\"http://www.w3.org/2000/svg\" height=\"24px\"viewBox=\"0 0 24 24\"\n",
              "       width=\"24px\">\n",
              "    <path d=\"M0 0h24v24H0V0z\" fill=\"none\"/>\n",
              "    <path d=\"M18.56 5.44l.94 2.06.94-2.06 2.06-.94-2.06-.94-.94-2.06-.94 2.06-2.06.94zm-11 1L8.5 8.5l.94-2.06 2.06-.94-2.06-.94L8.5 2.5l-.94 2.06-2.06.94zm10 10l.94 2.06.94-2.06 2.06-.94-2.06-.94-.94-2.06-.94 2.06-2.06.94z\"/><path d=\"M17.41 7.96l-1.37-1.37c-.4-.4-.92-.59-1.43-.59-.52 0-1.04.2-1.43.59L10.3 9.45l-7.72 7.72c-.78.78-.78 2.05 0 2.83L4 21.41c.39.39.9.59 1.41.59.51 0 1.02-.2 1.41-.59l7.78-7.78 2.81-2.81c.8-.78.8-2.07 0-2.86zM5.41 20L4 18.59l7.72-7.72 1.47 1.35L5.41 20z\"/>\n",
              "  </svg>\n",
              "      </button>\n",
              "      \n",
              "  <style>\n",
              "    .colab-df-container {\n",
              "      display:flex;\n",
              "      flex-wrap:wrap;\n",
              "      gap: 12px;\n",
              "    }\n",
              "\n",
              "    .colab-df-convert {\n",
              "      background-color: #E8F0FE;\n",
              "      border: none;\n",
              "      border-radius: 50%;\n",
              "      cursor: pointer;\n",
              "      display: none;\n",
              "      fill: #1967D2;\n",
              "      height: 32px;\n",
              "      padding: 0 0 0 0;\n",
              "      width: 32px;\n",
              "    }\n",
              "\n",
              "    .colab-df-convert:hover {\n",
              "      background-color: #E2EBFA;\n",
              "      box-shadow: 0px 1px 2px rgba(60, 64, 67, 0.3), 0px 1px 3px 1px rgba(60, 64, 67, 0.15);\n",
              "      fill: #174EA6;\n",
              "    }\n",
              "\n",
              "    [theme=dark] .colab-df-convert {\n",
              "      background-color: #3B4455;\n",
              "      fill: #D2E3FC;\n",
              "    }\n",
              "\n",
              "    [theme=dark] .colab-df-convert:hover {\n",
              "      background-color: #434B5C;\n",
              "      box-shadow: 0px 1px 3px 1px rgba(0, 0, 0, 0.15);\n",
              "      filter: drop-shadow(0px 1px 2px rgba(0, 0, 0, 0.3));\n",
              "      fill: #FFFFFF;\n",
              "    }\n",
              "  </style>\n",
              "\n",
              "      <script>\n",
              "        const buttonEl =\n",
              "          document.querySelector('#df-6cd0b03c-d5e9-47bd-845b-52319f9329d2 button.colab-df-convert');\n",
              "        buttonEl.style.display =\n",
              "          google.colab.kernel.accessAllowed ? 'block' : 'none';\n",
              "\n",
              "        async function convertToInteractive(key) {\n",
              "          const element = document.querySelector('#df-6cd0b03c-d5e9-47bd-845b-52319f9329d2');\n",
              "          const dataTable =\n",
              "            await google.colab.kernel.invokeFunction('convertToInteractive',\n",
              "                                                     [key], {});\n",
              "          if (!dataTable) return;\n",
              "\n",
              "          const docLinkHtml = 'Like what you see? Visit the ' +\n",
              "            '<a target=\"_blank\" href=https://colab.research.google.com/notebooks/data_table.ipynb>data table notebook</a>'\n",
              "            + ' to learn more about interactive tables.';\n",
              "          element.innerHTML = '';\n",
              "          dataTable['output_type'] = 'display_data';\n",
              "          await google.colab.output.renderOutput(dataTable, element);\n",
              "          const docLink = document.createElement('div');\n",
              "          docLink.innerHTML = docLinkHtml;\n",
              "          element.appendChild(docLink);\n",
              "        }\n",
              "      </script>\n",
              "    </div>\n",
              "  </div>\n",
              "  "
            ]
          },
          "metadata": {},
          "execution_count": 90
        }
      ]
    },
    {
      "cell_type": "code",
      "source": [
        "# creo los scalers\n",
        "float_scaler = MinMaxScaler()\n",
        "#int_scaler = MinMaxScaler()\n",
        "int_scaler = StandardScaler()\n",
        "target_scaler = MinMaxScaler()\n",
        "\n",
        "# Transformo y hago 'fit' de las columnas float64\n",
        "X_train[columnas_float64.columns] = float_scaler.fit_transform(X_train[columnas_float64.columns])\n",
        "\n",
        "# Transformo y hago 'fit' de las columnas Int64\n",
        "X_train[columnas_Int64.columns] = int_scaler.fit_transform(X_train[columnas_Int64.columns])\n",
        "\n",
        "# Transformo y hgo 'fit' de la variable objetivo\n",
        "y_train = y_train.values.reshape(-1, 1)  # reshape y_train para tener un arreglo 2D\n",
        "y_train = target_scaler.fit_transform(y_train)"
      ],
      "metadata": {
        "id": "1EY6Mh4fT3cr"
      },
      "id": "1EY6Mh4fT3cr",
      "execution_count": 91,
      "outputs": []
    },
    {
      "cell_type": "markdown",
      "source": [
        "## 6. Defino el modelo que voy a usar. Voy a iniciar con el total de columnas de X_train para el número de neuronas y capasa. Veamos qué resultados da. "
      ],
      "metadata": {
        "id": "aP-ldk_BgXH8"
      },
      "id": "aP-ldk_BgXH8"
    },
    {
      "cell_type": "code",
      "source": [
        "# Cargo la info de validación \n",
        "X_val = pd.read_csv('validation.csv')\n",
        "X_val = X_val.drop(columns=columnas_objeto)\n",
        "lista_columnas = X_val.columns.values\n",
        "y_val = pd.read_csv('validation_target.csv')\n",
        "for name in lista_columnas:\n",
        "    X_val[name].fillna(X_val[name].mode()[0], inplace=True)\n",
        "\n",
        "\n",
        "X_val[columnas_float64.columns] = float_scaler.fit_transform(X_val[columnas_float64.columns])\n",
        "\n",
        "X_val[columnas_Int64.columns] = int_scaler.fit_transform(X_val[columnas_Int64.columns])\n",
        "\n",
        "y_val = y_val.values.reshape(-1, 1)  # reshape y_train para tener un arreglo 2D\n",
        "y_val = target_scaler.fit_transform(y_val)\n",
        "\n",
        "# Cargo la información de Test\n",
        "X_test = pd.read_csv('test.csv')\n",
        "X_test = X_test.drop(columns=columnas_objeto)\n",
        "\n",
        "y_test = pd.read_csv('test_target.csv')\n",
        "\n",
        "lista_columnas = X_test.columns.values\n",
        "for name in lista_columnas:\n",
        "    X_test[name].fillna(X_test[name].mode()[0], inplace=True)\n",
        "\n",
        "X_test[columnas_Int64.columns] = int_scaler.fit_transform(X_test[columnas_Int64.columns])\n",
        "X_test[columnas_float64.columns] = float_scaler.fit_transform(X_test[columnas_float64.columns])\n",
        "\n",
        "y_test = y_test.values.reshape(-1, 1)  # reshape y_test para tener un arreglo 2D\n",
        "y_test = target_scaler.fit_transform(y_test)\n",
        "\n",
        "#X_train.shape\n",
        "#y_train.shape"
      ],
      "metadata": {
        "id": "ZumqucfvgG50"
      },
      "id": "ZumqucfvgG50",
      "execution_count": 92,
      "outputs": []
    },
    {
      "cell_type": "code",
      "source": [
        "from keras import models, layers, optimizers\n",
        "\n",
        "def train_network(num_epochs, batch_size, input_shape, optimizer):\n",
        "  \n",
        "  # Implementamos la red empleando Keras\n",
        "  model = models.Sequential([\n",
        "    layers.Dense(128, activation=tf.nn.relu, kernel_initializer='random_uniform', bias_initializer='zeros', input_shape=input_shape),\n",
        "    layers.Dense(64, activation=tf.nn.relu),\n",
        "    layers.Dense(24, activation=tf.nn.relu),\n",
        "    layers.Dense(4, activation=tf.nn.relu),\n",
        "    layers.Dense(1, activation=tf.nn.sigmoid)\n",
        "  ])\n",
        "\n",
        "  # Compilo el modelo \n",
        "  model.compile(loss=\"mean_squared_error\", optimizer=optimizer, metrics=[\"mean_absolute_error\"])\n",
        "\n",
        "  # Entrenando la solución\n",
        "  H = model.fit(X_train, y_train, validation_data=(X_val, y_val), epochs=num_epochs, batch_size=batch_size)\n",
        "\n",
        "  # Evaluando el modelo de predicción con las imágenes de test\n",
        "  print(\"[INFO]: Evaluando red neuronal...\")\n",
        "  val_pred = model.predict(X_test, batch_size=batch_size)\n",
        "  delta = ((val_pred.flatten() - y_test) *100)/y_test\n",
        "  print(\"La media de delta es --> \", delta.mean())\n",
        "  model.summary()\n",
        "\n",
        "\n",
        "  # Muestro gráfica de accuracy y losses\n",
        "  plt.style.use(\"ggplot\")\n",
        "  plt.figure()\n",
        "  plt.plot(np.arange(0, num_epochs), H.history[\"mean_absolute_error\"], label=\"mean_absolute_error\")\n",
        "  plt.plot(np.arange(0, num_epochs), H.history[\"val_mean_absolute_error\"], label=\"val_mean_absolute_error\")\n",
        "  plt.plot(np.arange(0, num_epochs), H.history[\"loss\"], label=\"loss\")\n",
        "  plt.plot(np.arange(0, num_epochs), H.history[\"val_loss\"], label=\"val_loss\")\n",
        "  plt.title(\"MAE\")\n",
        "  plt.title(\"Loss\")\n",
        "  plt.xlabel(\"Epoch #\")\n",
        "  plt.ylabel(\"MAE/Loss\")\n",
        "  plt.legend()\n",
        "\n",
        "  return(model)\n"
      ],
      "metadata": {
        "id": "Epzl3uawgG8O"
      },
      "id": "Epzl3uawgG8O",
      "execution_count": 93,
      "outputs": []
    },
    {
      "cell_type": "code",
      "source": [
        "# vamos a probar nuestra red con decay\n",
        "\n",
        "learning_rate = 0.00053\n",
        "batch_size = 32\n",
        "num_epochs = 51\n",
        "#optimizer = tf.keras.optimizers.RMSprop(learning_rate=learning_rate)\n",
        "#optimizer = tf.keras.optimizers.Adam(learning_rate=learning_rate)\n",
        "optimizer = tf.keras.optimizers.SGD(learning_rate=learning_rate)\n",
        "input_shape = [X_train.shape[1]]\n",
        "\n",
        "model = train_network(num_epochs, batch_size, input_shape, optimizer)\n",
        "#train_network_1(num_epochs, batch_size, optimizer)\n"
      ],
      "metadata": {
        "colab": {
          "base_uri": "https://localhost:8080/",
          "height": 1000
        },
        "id": "pobcHPmpgG--",
        "outputId": "71bfc313-6a56-4048-999c-625e850218ed"
      },
      "id": "pobcHPmpgG--",
      "execution_count": 299,
      "outputs": [
        {
          "output_type": "stream",
          "name": "stdout",
          "text": [
            "Epoch 1/51\n",
            "260/260 [==============================] - 1s 3ms/step - loss: 0.1874 - mean_absolute_error: 0.4284 - val_loss: 0.1649 - val_mean_absolute_error: 0.3989\n",
            "Epoch 2/51\n",
            "260/260 [==============================] - 0s 2ms/step - loss: 0.1800 - mean_absolute_error: 0.4197 - val_loss: 0.1581 - val_mean_absolute_error: 0.3903\n",
            "Epoch 3/51\n",
            "260/260 [==============================] - 1s 2ms/step - loss: 0.1727 - mean_absolute_error: 0.4110 - val_loss: 0.1515 - val_mean_absolute_error: 0.3818\n",
            "Epoch 4/51\n",
            "260/260 [==============================] - 0s 2ms/step - loss: 0.1657 - mean_absolute_error: 0.4024 - val_loss: 0.1450 - val_mean_absolute_error: 0.3733\n",
            "Epoch 5/51\n",
            "260/260 [==============================] - 0s 2ms/step - loss: 0.1588 - mean_absolute_error: 0.3939 - val_loss: 0.1387 - val_mean_absolute_error: 0.3648\n",
            "Epoch 6/51\n",
            "260/260 [==============================] - 0s 2ms/step - loss: 0.1521 - mean_absolute_error: 0.3853 - val_loss: 0.1326 - val_mean_absolute_error: 0.3563\n",
            "Epoch 7/51\n",
            "260/260 [==============================] - 0s 2ms/step - loss: 0.1455 - mean_absolute_error: 0.3768 - val_loss: 0.1266 - val_mean_absolute_error: 0.3478\n",
            "Epoch 8/51\n",
            "260/260 [==============================] - 0s 2ms/step - loss: 0.1391 - mean_absolute_error: 0.3682 - val_loss: 0.1207 - val_mean_absolute_error: 0.3392\n",
            "Epoch 9/51\n",
            "260/260 [==============================] - 0s 2ms/step - loss: 0.1327 - mean_absolute_error: 0.3595 - val_loss: 0.1149 - val_mean_absolute_error: 0.3306\n",
            "Epoch 10/51\n",
            "260/260 [==============================] - 0s 2ms/step - loss: 0.1264 - mean_absolute_error: 0.3507 - val_loss: 0.1091 - val_mean_absolute_error: 0.3218\n",
            "Epoch 11/51\n",
            "260/260 [==============================] - 0s 2ms/step - loss: 0.1202 - mean_absolute_error: 0.3418 - val_loss: 0.1035 - val_mean_absolute_error: 0.3130\n",
            "Epoch 12/51\n",
            "260/260 [==============================] - 0s 2ms/step - loss: 0.1141 - mean_absolute_error: 0.3328 - val_loss: 0.0980 - val_mean_absolute_error: 0.3040\n",
            "Epoch 13/51\n",
            "260/260 [==============================] - 0s 2ms/step - loss: 0.1080 - mean_absolute_error: 0.3236 - val_loss: 0.0925 - val_mean_absolute_error: 0.2948\n",
            "Epoch 14/51\n",
            "260/260 [==============================] - 0s 2ms/step - loss: 0.1020 - mean_absolute_error: 0.3142 - val_loss: 0.0871 - val_mean_absolute_error: 0.2855\n",
            "Epoch 15/51\n",
            "260/260 [==============================] - 0s 2ms/step - loss: 0.0961 - mean_absolute_error: 0.3046 - val_loss: 0.0817 - val_mean_absolute_error: 0.2760\n",
            "Epoch 16/51\n",
            "260/260 [==============================] - 0s 2ms/step - loss: 0.0902 - mean_absolute_error: 0.2949 - val_loss: 0.0765 - val_mean_absolute_error: 0.2663\n",
            "Epoch 17/51\n",
            "260/260 [==============================] - 0s 2ms/step - loss: 0.0844 - mean_absolute_error: 0.2849 - val_loss: 0.0713 - val_mean_absolute_error: 0.2564\n",
            "Epoch 18/51\n",
            "260/260 [==============================] - 0s 2ms/step - loss: 0.0787 - mean_absolute_error: 0.2748 - val_loss: 0.0663 - val_mean_absolute_error: 0.2465\n",
            "Epoch 19/51\n",
            "260/260 [==============================] - 0s 2ms/step - loss: 0.0731 - mean_absolute_error: 0.2644 - val_loss: 0.0614 - val_mean_absolute_error: 0.2364\n",
            "Epoch 20/51\n",
            "260/260 [==============================] - 0s 2ms/step - loss: 0.0677 - mean_absolute_error: 0.2539 - val_loss: 0.0566 - val_mean_absolute_error: 0.2262\n",
            "Epoch 21/51\n",
            "260/260 [==============================] - 1s 2ms/step - loss: 0.0624 - mean_absolute_error: 0.2433 - val_loss: 0.0521 - val_mean_absolute_error: 0.2159\n",
            "Epoch 22/51\n",
            "260/260 [==============================] - 1s 2ms/step - loss: 0.0573 - mean_absolute_error: 0.2326 - val_loss: 0.0477 - val_mean_absolute_error: 0.2057\n",
            "Epoch 23/51\n",
            "260/260 [==============================] - 1s 2ms/step - loss: 0.0524 - mean_absolute_error: 0.2220 - val_loss: 0.0436 - val_mean_absolute_error: 0.1956\n",
            "Epoch 24/51\n",
            "260/260 [==============================] - 1s 2ms/step - loss: 0.0478 - mean_absolute_error: 0.2114 - val_loss: 0.0398 - val_mean_absolute_error: 0.1856\n",
            "Epoch 25/51\n",
            "260/260 [==============================] - 1s 2ms/step - loss: 0.0435 - mean_absolute_error: 0.2009 - val_loss: 0.0362 - val_mean_absolute_error: 0.1759\n",
            "Epoch 26/51\n",
            "260/260 [==============================] - 0s 2ms/step - loss: 0.0394 - mean_absolute_error: 0.1906 - val_loss: 0.0330 - val_mean_absolute_error: 0.1665\n",
            "Epoch 27/51\n",
            "260/260 [==============================] - 0s 2ms/step - loss: 0.0357 - mean_absolute_error: 0.1806 - val_loss: 0.0300 - val_mean_absolute_error: 0.1576\n",
            "Epoch 28/51\n",
            "260/260 [==============================] - 0s 2ms/step - loss: 0.0323 - mean_absolute_error: 0.1710 - val_loss: 0.0274 - val_mean_absolute_error: 0.1490\n",
            "Epoch 29/51\n",
            "260/260 [==============================] - 0s 2ms/step - loss: 0.0292 - mean_absolute_error: 0.1619 - val_loss: 0.0250 - val_mean_absolute_error: 0.1409\n",
            "Epoch 30/51\n",
            "260/260 [==============================] - 0s 2ms/step - loss: 0.0265 - mean_absolute_error: 0.1532 - val_loss: 0.0229 - val_mean_absolute_error: 0.1332\n",
            "Epoch 31/51\n",
            "260/260 [==============================] - 0s 2ms/step - loss: 0.0240 - mean_absolute_error: 0.1449 - val_loss: 0.0211 - val_mean_absolute_error: 0.1261\n",
            "Epoch 32/51\n",
            "260/260 [==============================] - 0s 2ms/step - loss: 0.0218 - mean_absolute_error: 0.1372 - val_loss: 0.0195 - val_mean_absolute_error: 0.1196\n",
            "Epoch 33/51\n",
            "260/260 [==============================] - 0s 2ms/step - loss: 0.0199 - mean_absolute_error: 0.1301 - val_loss: 0.0182 - val_mean_absolute_error: 0.1136\n",
            "Epoch 34/51\n",
            "260/260 [==============================] - 0s 2ms/step - loss: 0.0181 - mean_absolute_error: 0.1234 - val_loss: 0.0170 - val_mean_absolute_error: 0.1082\n",
            "Epoch 35/51\n",
            "260/260 [==============================] - 0s 2ms/step - loss: 0.0166 - mean_absolute_error: 0.1173 - val_loss: 0.0160 - val_mean_absolute_error: 0.1031\n",
            "Epoch 36/51\n",
            "260/260 [==============================] - 0s 2ms/step - loss: 0.0153 - mean_absolute_error: 0.1116 - val_loss: 0.0151 - val_mean_absolute_error: 0.0986\n",
            "Epoch 37/51\n",
            "260/260 [==============================] - 0s 2ms/step - loss: 0.0142 - mean_absolute_error: 0.1064 - val_loss: 0.0144 - val_mean_absolute_error: 0.0945\n",
            "Epoch 38/51\n",
            "260/260 [==============================] - 0s 2ms/step - loss: 0.0132 - mean_absolute_error: 0.1016 - val_loss: 0.0138 - val_mean_absolute_error: 0.0909\n",
            "Epoch 39/51\n",
            "260/260 [==============================] - 0s 2ms/step - loss: 0.0123 - mean_absolute_error: 0.0972 - val_loss: 0.0132 - val_mean_absolute_error: 0.0876\n",
            "Epoch 40/51\n",
            "260/260 [==============================] - 0s 2ms/step - loss: 0.0115 - mean_absolute_error: 0.0931 - val_loss: 0.0128 - val_mean_absolute_error: 0.0847\n",
            "Epoch 41/51\n",
            "260/260 [==============================] - 0s 2ms/step - loss: 0.0108 - mean_absolute_error: 0.0894 - val_loss: 0.0124 - val_mean_absolute_error: 0.0821\n",
            "Epoch 42/51\n",
            "260/260 [==============================] - 0s 2ms/step - loss: 0.0102 - mean_absolute_error: 0.0860 - val_loss: 0.0120 - val_mean_absolute_error: 0.0798\n",
            "Epoch 43/51\n",
            "260/260 [==============================] - 0s 2ms/step - loss: 0.0097 - mean_absolute_error: 0.0829 - val_loss: 0.0118 - val_mean_absolute_error: 0.0778\n",
            "Epoch 44/51\n",
            "260/260 [==============================] - 1s 2ms/step - loss: 0.0092 - mean_absolute_error: 0.0800 - val_loss: 0.0115 - val_mean_absolute_error: 0.0759\n",
            "Epoch 45/51\n",
            "260/260 [==============================] - 1s 2ms/step - loss: 0.0088 - mean_absolute_error: 0.0774 - val_loss: 0.0113 - val_mean_absolute_error: 0.0742\n",
            "Epoch 46/51\n",
            "260/260 [==============================] - 0s 2ms/step - loss: 0.0085 - mean_absolute_error: 0.0750 - val_loss: 0.0112 - val_mean_absolute_error: 0.0727\n",
            "Epoch 47/51\n",
            "260/260 [==============================] - 1s 2ms/step - loss: 0.0081 - mean_absolute_error: 0.0728 - val_loss: 0.0110 - val_mean_absolute_error: 0.0714\n",
            "Epoch 48/51\n",
            "260/260 [==============================] - 1s 2ms/step - loss: 0.0079 - mean_absolute_error: 0.0708 - val_loss: 0.0109 - val_mean_absolute_error: 0.0702\n",
            "Epoch 49/51\n",
            "260/260 [==============================] - 1s 2ms/step - loss: 0.0076 - mean_absolute_error: 0.0689 - val_loss: 0.0108 - val_mean_absolute_error: 0.0692\n",
            "Epoch 50/51\n",
            "260/260 [==============================] - 1s 2ms/step - loss: 0.0074 - mean_absolute_error: 0.0671 - val_loss: 0.0107 - val_mean_absolute_error: 0.0682\n",
            "Epoch 51/51\n",
            "260/260 [==============================] - 1s 2ms/step - loss: 0.0072 - mean_absolute_error: 0.0656 - val_loss: 0.0107 - val_mean_absolute_error: 0.0674\n",
            "[INFO]: Evaluando red neuronal...\n",
            "33/33 [==============================] - 0s 1000us/step\n",
            "La media de delta es -->  inf\n",
            "Model: \"sequential_145\"\n",
            "_________________________________________________________________\n",
            " Layer (type)                Output Shape              Param #   \n",
            "=================================================================\n",
            " dense_725 (Dense)           (None, 128)               21120     \n",
            "                                                                 \n",
            " dense_726 (Dense)           (None, 64)                8256      \n",
            "                                                                 \n",
            " dense_727 (Dense)           (None, 24)                1560      \n",
            "                                                                 \n",
            " dense_728 (Dense)           (None, 4)                 100       \n",
            "                                                                 \n",
            " dense_729 (Dense)           (None, 1)                 5         \n",
            "                                                                 \n",
            "=================================================================\n",
            "Total params: 31,041\n",
            "Trainable params: 31,041\n",
            "Non-trainable params: 0\n",
            "_________________________________________________________________\n"
          ]
        },
        {
          "output_type": "display_data",
          "data": {
            "text/plain": [
              "<Figure size 432x288 with 1 Axes>"
            ],
            "image/png": "[encoded data removed]"
          },
          "metadata": {}
        }
      ]
    },
    {
      "cell_type": "code",
      "source": [
        "# Make predictions on test data\n",
        "y_pred = model.predict(X_test)\n",
        "\n",
        "# Denormalize the predicted values\n",
        "y_pred_denormalized = target_scaler.inverse_transform(y_pred)\n",
        "\n",
        "# Denormalize the actual test values\n",
        "y_test_denormalized = target_scaler.inverse_transform(y_test)\n",
        "\n",
        "# Compute the mean squared error\n",
        "mse = mean_squared_error(y_test_denormalized, y_pred_denormalized)\n",
        "\n",
        "# Print the mean squared error\n",
        "print(\"MSE on test set: \", mse)\n",
        "for i in range (5):\n",
        "  print(\"Los valores calculados de Precio son --> \", y_pred_denormalized[i])\n",
        "  print(\"Los valores reales de Precio son --> \", y_test_denormalized[i])"
      ],
      "metadata": {
        "colab": {
          "base_uri": "https://localhost:8080/"
        },
        "id": "PTqKMqCggHBo",
        "outputId": "a6c49726-cdc3-41f9-a155-bed49cc9c889"
      },
      "id": "PTqKMqCggHBo",
      "execution_count": 300,
      "outputs": [
        {
          "output_type": "stream",
          "name": "stdout",
          "text": [
            "33/33 [==============================] - 0s 1ms/step\n",
            "MSE on test set:  3642.449827386441\n",
            "Los valores calculados de Precio son -->  [80.69466]\n",
            "Los valores reales de Precio son -->  [17.]\n",
            "Los valores calculados de Precio son -->  [81.26334]\n",
            "Los valores reales de Precio son -->  [25.]\n",
            "Los valores calculados de Precio son -->  [88.45978]\n",
            "Los valores reales de Precio son -->  [71.]\n",
            "Los valores calculados de Precio son -->  [78.96413]\n",
            "Los valores reales de Precio son -->  [60.]\n",
            "Los valores calculados de Precio son -->  [103.18077]\n",
            "Los valores reales de Precio son -->  [40.]\n"
          ]
        }
      ]
    },
    {
      "cell_type": "code",
      "source": [
        "X_train.shape"
      ],
      "metadata": {
        "colab": {
          "base_uri": "https://localhost:8080/"
        },
        "id": "hz0Gcv3eJr2p",
        "outputId": "89224749-cb6f-461e-b1d8-5512c8e42f64"
      },
      "id": "hz0Gcv3eJr2p",
      "execution_count": 77,
      "outputs": [
        {
          "output_type": "execute_result",
          "data": {
            "text/plain": [
              "(10238, 164)"
            ]
          },
          "metadata": {},
          "execution_count": 77
        }
      ]
    },
    {
      "cell_type": "markdown",
      "source": [
        "## 7. Cargo el dataframe de imágenes!\n",
        "\n",
        "Para ahorrar un poco de tiempo, voy a utilizar únicamente \"Picture Url\". Sin embargo, creo que la imagen del Host, así como la disponibilidad de las imágenes en distintos tamaños, también podrían afectar el precio. "
      ],
      "metadata": {
        "id": "wtiRUFkuNpVJ"
      },
      "id": "wtiRUFkuNpVJ"
    },
    {
      "cell_type": "code",
      "source": [
        "columnas_objeto.head(1)"
      ],
      "metadata": {
        "colab": {
          "base_uri": "https://localhost:8080/",
          "height": 162
        },
        "id": "nhz8De4sP-mG",
        "outputId": "1787f8fa-93ce-4678-e77f-9fde42123cff"
      },
      "id": "nhz8De4sP-mG",
      "execution_count": 301,
      "outputs": [
        {
          "output_type": "execute_result",
          "data": {
            "text/plain": [
              "                                       Thumbnail Url  \\\n",
              "0  https://a0.muscache.com/im/pictures/7e3f72cd-c...   \n",
              "\n",
              "                                          Medium Url  \\\n",
              "0  https://a0.muscache.com/im/pictures/7e3f72cd-c...   \n",
              "\n",
              "                                         Picture Url  \\\n",
              "0  https://public.opendatasoft.com/api/v2/catalog...   \n",
              "\n",
              "                                      XL Picture Url  \\\n",
              "0  https://a0.muscache.com/im/pictures/7e3f72cd-c...   \n",
              "\n",
              "                                  Host Thumbnail Url  \\\n",
              "0  https://a0.muscache.com/im/pictures/c290e1dc-c...   \n",
              "\n",
              "                                    Host Picture Url  \n",
              "0  https://a0.muscache.com/im/pictures/c290e1dc-c...  "
            ],
            "text/html": [
              "\n",
              "  <div id=\"df-2cc59662-cf17-4f83-8035-4a1f46b42b95\">\n",
              "    <div class=\"colab-df-container\">\n",
              "      <div>\n",
              "<style scoped>\n",
              "    .dataframe tbody tr th:only-of-type {\n",
              "        vertical-align: middle;\n",
              "    }\n",
              "\n",
              "    .dataframe tbody tr th {\n",
              "        vertical-align: top;\n",
              "    }\n",
              "\n",
              "    .dataframe thead th {\n",
              "        text-align: right;\n",
              "    }\n",
              "</style>\n",
              "<table border=\"1\" class=\"dataframe\">\n",
              "  <thead>\n",
              "    <tr style=\"text-align: right;\">\n",
              "      <th></th>\n",
              "      <th>Thumbnail Url</th>\n",
              "      <th>Medium Url</th>\n",
              "      <th>Picture Url</th>\n",
              "      <th>XL Picture Url</th>\n",
              "      <th>Host Thumbnail Url</th>\n",
              "      <th>Host Picture Url</th>\n",
              "    </tr>\n",
              "  </thead>\n",
              "  <tbody>\n",
              "    <tr>\n",
              "      <th>0</th>\n",
              "      <td>https://a0.muscache.com/im/pictures/7e3f72cd-c...</td>\n",
              "      <td>https://a0.muscache.com/im/pictures/7e3f72cd-c...</td>\n",
              "      <td>https://public.opendatasoft.com/api/v2/catalog...</td>\n",
              "      <td>https://a0.muscache.com/im/pictures/7e3f72cd-c...</td>\n",
              "      <td>https://a0.muscache.com/im/pictures/c290e1dc-c...</td>\n",
              "      <td>https://a0.muscache.com/im/pictures/c290e1dc-c...</td>\n",
              "    </tr>\n",
              "  </tbody>\n",
              "</table>\n",
              "</div>\n",
              "      <button class=\"colab-df-convert\" onclick=\"convertToInteractive('df-2cc59662-cf17-4f83-8035-4a1f46b42b95')\"\n",
              "              title=\"Convert this dataframe to an interactive table.\"\n",
              "              style=\"display:none;\">\n",
              "        \n",
              "  <svg xmlns=\"http://www.w3.org/2000/svg\" height=\"24px\"viewBox=\"0 0 24 24\"\n",
              "       width=\"24px\">\n",
              "    <path d=\"M0 0h24v24H0V0z\" fill=\"none\"/>\n",
              "    <path d=\"M18.56 5.44l.94 2.06.94-2.06 2.06-.94-2.06-.94-.94-2.06-.94 2.06-2.06.94zm-11 1L8.5 8.5l.94-2.06 2.06-.94-2.06-.94L8.5 2.5l-.94 2.06-2.06.94zm10 10l.94 2.06.94-2.06 2.06-.94-2.06-.94-.94-2.06-.94 2.06-2.06.94z\"/><path d=\"M17.41 7.96l-1.37-1.37c-.4-.4-.92-.59-1.43-.59-.52 0-1.04.2-1.43.59L10.3 9.45l-7.72 7.72c-.78.78-.78 2.05 0 2.83L4 21.41c.39.39.9.59 1.41.59.51 0 1.02-.2 1.41-.59l7.78-7.78 2.81-2.81c.8-.78.8-2.07 0-2.86zM5.41 20L4 18.59l7.72-7.72 1.47 1.35L5.41 20z\"/>\n",
              "  </svg>\n",
              "      </button>\n",
              "      \n",
              "  <style>\n",
              "    .colab-df-container {\n",
              "      display:flex;\n",
              "      flex-wrap:wrap;\n",
              "      gap: 12px;\n",
              "    }\n",
              "\n",
              "    .colab-df-convert {\n",
              "      background-color: #E8F0FE;\n",
              "      border: none;\n",
              "      border-radius: 50%;\n",
              "      cursor: pointer;\n",
              "      display: none;\n",
              "      fill: #1967D2;\n",
              "      height: 32px;\n",
              "      padding: 0 0 0 0;\n",
              "      width: 32px;\n",
              "    }\n",
              "\n",
              "    .colab-df-convert:hover {\n",
              "      background-color: #E2EBFA;\n",
              "      box-shadow: 0px 1px 2px rgba(60, 64, 67, 0.3), 0px 1px 3px 1px rgba(60, 64, 67, 0.15);\n",
              "      fill: #174EA6;\n",
              "    }\n",
              "\n",
              "    [theme=dark] .colab-df-convert {\n",
              "      background-color: #3B4455;\n",
              "      fill: #D2E3FC;\n",
              "    }\n",
              "\n",
              "    [theme=dark] .colab-df-convert:hover {\n",
              "      background-color: #434B5C;\n",
              "      box-shadow: 0px 1px 3px 1px rgba(0, 0, 0, 0.15);\n",
              "      filter: drop-shadow(0px 1px 2px rgba(0, 0, 0, 0.3));\n",
              "      fill: #FFFFFF;\n",
              "    }\n",
              "  </style>\n",
              "\n",
              "      <script>\n",
              "        const buttonEl =\n",
              "          document.querySelector('#df-2cc59662-cf17-4f83-8035-4a1f46b42b95 button.colab-df-convert');\n",
              "        buttonEl.style.display =\n",
              "          google.colab.kernel.accessAllowed ? 'block' : 'none';\n",
              "\n",
              "        async function convertToInteractive(key) {\n",
              "          const element = document.querySelector('#df-2cc59662-cf17-4f83-8035-4a1f46b42b95');\n",
              "          const dataTable =\n",
              "            await google.colab.kernel.invokeFunction('convertToInteractive',\n",
              "                                                     [key], {});\n",
              "          if (!dataTable) return;\n",
              "\n",
              "          const docLinkHtml = 'Like what you see? Visit the ' +\n",
              "            '<a target=\"_blank\" href=https://colab.research.google.com/notebooks/data_table.ipynb>data table notebook</a>'\n",
              "            + ' to learn more about interactive tables.';\n",
              "          element.innerHTML = '';\n",
              "          dataTable['output_type'] = 'display_data';\n",
              "          await google.colab.output.renderOutput(dataTable, element);\n",
              "          const docLink = document.createElement('div');\n",
              "          docLink.innerHTML = docLinkHtml;\n",
              "          element.appendChild(docLink);\n",
              "        }\n",
              "      </script>\n",
              "    </div>\n",
              "  </div>\n",
              "  "
            ]
          },
          "metadata": {},
          "execution_count": 301
        }
      ]
    },
    {
      "cell_type": "code",
      "source": [
        "X_train_img = pd.read_csv('train.csv')\n",
        "y_train_img = pd.read_csv('train_target.csv')\n",
        "Full_train_img = y_train_img.join(X_train_img)\n",
        "print(\"El shape del dataframe es --> \", Full_train_img.shape)\n",
        "Full_train_img.head(1)"
      ],
      "metadata": {
        "colab": {
          "base_uri": "https://localhost:8080/",
          "height": 244
        },
        "id": "6QxvPxU3ss3a",
        "outputId": "5659f2f3-9058-49eb-e382-42777e3ae9a1"
      },
      "id": "6QxvPxU3ss3a",
      "execution_count": 5,
      "outputs": [
        {
          "output_type": "stream",
          "name": "stdout",
          "text": [
            "El shape del dataframe es -->  (8309, 171)\n"
          ]
        },
        {
          "output_type": "execute_result",
          "data": {
            "text/plain": [
              "   Price        ID   Host ID  Host Response Rate  Host Listings Count  \\\n",
              "0   22.0  16880197  66787597               100.0                  1.0   \n",
              "\n",
              "   Host Total Listings Count  Zipcode   Latitude  Longitude  Accommodates  \\\n",
              "0                        1.0    28022  40.445618  -3.587992             2   \n",
              "\n",
              "   ...  Bed Type_Airbed  Bed Type_Couch  Bed Type_Futon  \\\n",
              "0  ...                0               0               0   \n",
              "\n",
              "   Bed Type_Pull-out Sofa  Bed Type_Real Bed  Cancellation Policy_flexible  \\\n",
              "0                       0                  1                             1   \n",
              "\n",
              "   Cancellation Policy_moderate  Cancellation Policy_strict  \\\n",
              "0                             0                           0   \n",
              "\n",
              "   Cancellation Policy_super_strict_30  Cancellation Policy_super_strict_60  \n",
              "0                                    0                                    0  \n",
              "\n",
              "[1 rows x 171 columns]"
            ],
            "text/html": [
              "\n",
              "  <div id=\"df-e603c4e4-4027-43e0-8edd-76d28fe0bc56\">\n",
              "    <div class=\"colab-df-container\">\n",
              "      <div>\n",
              "<style scoped>\n",
              "    .dataframe tbody tr th:only-of-type {\n",
              "        vertical-align: middle;\n",
              "    }\n",
              "\n",
              "    .dataframe tbody tr th {\n",
              "        vertical-align: top;\n",
              "    }\n",
              "\n",
              "    .dataframe thead th {\n",
              "        text-align: right;\n",
              "    }\n",
              "</style>\n",
              "<table border=\"1\" class=\"dataframe\">\n",
              "  <thead>\n",
              "    <tr style=\"text-align: right;\">\n",
              "      <th></th>\n",
              "      <th>Price</th>\n",
              "      <th>ID</th>\n",
              "      <th>Host ID</th>\n",
              "      <th>Host Response Rate</th>\n",
              "      <th>Host Listings Count</th>\n",
              "      <th>Host Total Listings Count</th>\n",
              "      <th>Zipcode</th>\n",
              "      <th>Latitude</th>\n",
              "      <th>Longitude</th>\n",
              "      <th>Accommodates</th>\n",
              "      <th>...</th>\n",
              "      <th>Bed Type_Airbed</th>\n",
              "      <th>Bed Type_Couch</th>\n",
              "      <th>Bed Type_Futon</th>\n",
              "      <th>Bed Type_Pull-out Sofa</th>\n",
              "      <th>Bed Type_Real Bed</th>\n",
              "      <th>Cancellation Policy_flexible</th>\n",
              "      <th>Cancellation Policy_moderate</th>\n",
              "      <th>Cancellation Policy_strict</th>\n",
              "      <th>Cancellation Policy_super_strict_30</th>\n",
              "      <th>Cancellation Policy_super_strict_60</th>\n",
              "    </tr>\n",
              "  </thead>\n",
              "  <tbody>\n",
              "    <tr>\n",
              "      <th>0</th>\n",
              "      <td>22.0</td>\n",
              "      <td>16880197</td>\n",
              "      <td>66787597</td>\n",
              "      <td>100.0</td>\n",
              "      <td>1.0</td>\n",
              "      <td>1.0</td>\n",
              "      <td>28022</td>\n",
              "      <td>40.445618</td>\n",
              "      <td>-3.587992</td>\n",
              "      <td>2</td>\n",
              "      <td>...</td>\n",
              "      <td>0</td>\n",
              "      <td>0</td>\n",
              "      <td>0</td>\n",
              "      <td>0</td>\n",
              "      <td>1</td>\n",
              "      <td>1</td>\n",
              "      <td>0</td>\n",
              "      <td>0</td>\n",
              "      <td>0</td>\n",
              "      <td>0</td>\n",
              "    </tr>\n",
              "  </tbody>\n",
              "</table>\n",
              "<p>1 rows × 171 columns</p>\n",
              "</div>\n",
              "      <button class=\"colab-df-convert\" onclick=\"convertToInteractive('df-e603c4e4-4027-43e0-8edd-76d28fe0bc56')\"\n",
              "              title=\"Convert this dataframe to an interactive table.\"\n",
              "              style=\"display:none;\">\n",
              "        \n",
              "  <svg xmlns=\"http://www.w3.org/2000/svg\" height=\"24px\"viewBox=\"0 0 24 24\"\n",
              "       width=\"24px\">\n",
              "    <path d=\"M0 0h24v24H0V0z\" fill=\"none\"/>\n",
              "    <path d=\"M18.56 5.44l.94 2.06.94-2.06 2.06-.94-2.06-.94-.94-2.06-.94 2.06-2.06.94zm-11 1L8.5 8.5l.94-2.06 2.06-.94-2.06-.94L8.5 2.5l-.94 2.06-2.06.94zm10 10l.94 2.06.94-2.06 2.06-.94-2.06-.94-.94-2.06-.94 2.06-2.06.94z\"/><path d=\"M17.41 7.96l-1.37-1.37c-.4-.4-.92-.59-1.43-.59-.52 0-1.04.2-1.43.59L10.3 9.45l-7.72 7.72c-.78.78-.78 2.05 0 2.83L4 21.41c.39.39.9.59 1.41.59.51 0 1.02-.2 1.41-.59l7.78-7.78 2.81-2.81c.8-.78.8-2.07 0-2.86zM5.41 20L4 18.59l7.72-7.72 1.47 1.35L5.41 20z\"/>\n",
              "  </svg>\n",
              "      </button>\n",
              "      \n",
              "  <style>\n",
              "    .colab-df-container {\n",
              "      display:flex;\n",
              "      flex-wrap:wrap;\n",
              "      gap: 12px;\n",
              "    }\n",
              "\n",
              "    .colab-df-convert {\n",
              "      background-color: #E8F0FE;\n",
              "      border: none;\n",
              "      border-radius: 50%;\n",
              "      cursor: pointer;\n",
              "      display: none;\n",
              "      fill: #1967D2;\n",
              "      height: 32px;\n",
              "      padding: 0 0 0 0;\n",
              "      width: 32px;\n",
              "    }\n",
              "\n",
              "    .colab-df-convert:hover {\n",
              "      background-color: #E2EBFA;\n",
              "      box-shadow: 0px 1px 2px rgba(60, 64, 67, 0.3), 0px 1px 3px 1px rgba(60, 64, 67, 0.15);\n",
              "      fill: #174EA6;\n",
              "    }\n",
              "\n",
              "    [theme=dark] .colab-df-convert {\n",
              "      background-color: #3B4455;\n",
              "      fill: #D2E3FC;\n",
              "    }\n",
              "\n",
              "    [theme=dark] .colab-df-convert:hover {\n",
              "      background-color: #434B5C;\n",
              "      box-shadow: 0px 1px 3px 1px rgba(0, 0, 0, 0.15);\n",
              "      filter: drop-shadow(0px 1px 2px rgba(0, 0, 0, 0.3));\n",
              "      fill: #FFFFFF;\n",
              "    }\n",
              "  </style>\n",
              "\n",
              "      <script>\n",
              "        const buttonEl =\n",
              "          document.querySelector('#df-e603c4e4-4027-43e0-8edd-76d28fe0bc56 button.colab-df-convert');\n",
              "        buttonEl.style.display =\n",
              "          google.colab.kernel.accessAllowed ? 'block' : 'none';\n",
              "\n",
              "        async function convertToInteractive(key) {\n",
              "          const element = document.querySelector('#df-e603c4e4-4027-43e0-8edd-76d28fe0bc56');\n",
              "          const dataTable =\n",
              "            await google.colab.kernel.invokeFunction('convertToInteractive',\n",
              "                                                     [key], {});\n",
              "          if (!dataTable) return;\n",
              "\n",
              "          const docLinkHtml = 'Like what you see? Visit the ' +\n",
              "            '<a target=\"_blank\" href=https://colab.research.google.com/notebooks/data_table.ipynb>data table notebook</a>'\n",
              "            + ' to learn more about interactive tables.';\n",
              "          element.innerHTML = '';\n",
              "          dataTable['output_type'] = 'display_data';\n",
              "          await google.colab.output.renderOutput(dataTable, element);\n",
              "          const docLink = document.createElement('div');\n",
              "          docLink.innerHTML = docLinkHtml;\n",
              "          element.appendChild(docLink);\n",
              "        }\n",
              "      </script>\n",
              "    </div>\n",
              "  </div>\n",
              "  "
            ]
          },
          "metadata": {},
          "execution_count": 5
        }
      ]
    },
    {
      "cell_type": "code",
      "source": [
        "print(\"El total de NAs en X_train es -->\", Full_train_img['Thumbnail Url'].isnull().sum())"
      ],
      "metadata": {
        "colab": {
          "base_uri": "https://localhost:8080/"
        },
        "id": "WYIk2HppDGa3",
        "outputId": "64312991-1bad-491e-b628-138160b57a98"
      },
      "id": "WYIk2HppDGa3",
      "execution_count": 6,
      "outputs": [
        {
          "output_type": "stream",
          "name": "stdout",
          "text": [
            "El total de NAs en X_train es --> 0\n"
          ]
        }
      ]
    },
    {
      "cell_type": "code",
      "source": [
        "# Voy a disminuir a 600 imágenes para poder procesar en menos tiempo las imágenes\n",
        "Full_train_300 = Full_train_img.sample(n=600, random_state=5)\n",
        "\n",
        "# creo la carpeta donde guardaré las imágenes\n",
        "folder_path = \"image_folder\"\n",
        "if not os.path.exists(folder_path):\n",
        "    os.mkdir(folder_path)\n",
        "\n",
        "image_paths = []\n",
        "Full_train_filtered = Full_train_300\n",
        "for i, link in Full_train_300[\"Thumbnail Url\"].iteritems():\n",
        "    try:\n",
        "        # trato de bajar las imágenes\n",
        "        response = urllib.request.urlopen(str(link))\n",
        "        image_name = f\"image_{i}.jpg\"\n",
        "        image_path = os.path.join(folder_path, image_name)\n",
        "        with open(image_path, \"wb\") as f:\n",
        "            f.write(response.read())\n",
        "        image_paths.append(image_path)\n",
        "    except Exception as e:\n",
        "        # Si hay error, me avisa y continúa\n",
        "        print(f\"Error al bajar la URL {link}: {e} --> Lo eliminaré\")\n",
        "        Full_train_filtered.drop(Full_train_filtered[Full_train_filtered['Thumbnail Url'] == link].index, inplace = True) # --> Si encontrara error, lo elimino en Full_train_filtered\n",
        "        continue  \n",
        "\n",
        "Full_train_300 = Full_train_filtered\n",
        "# create a new dataframe with the image paths\n",
        "image_df = pd.DataFrame({\"image_path\": image_paths})\n",
        "\n",
        "# save the dataframe to a CSV file\n",
        "image_df.to_csv(\"image_paths.csv\", index=False)\n",
        "\n"
      ],
      "metadata": {
        "id": "raHkieJJYDZx",
        "colab": {
          "base_uri": "https://localhost:8080/"
        },
        "outputId": "4b505961-7780-4df5-a4a0-ae8800c30f1f"
      },
      "id": "raHkieJJYDZx",
      "execution_count": 7,
      "outputs": [
        {
          "output_type": "stream",
          "name": "stdout",
          "text": [
            "Error al bajar la URL https://a0.muscache.com/im/pictures/98264392/2fad5fe8_original.jpg?aki_policy=small: HTTP Error 404: Not Found --> Lo eliminaré\n",
            "Error al bajar la URL https://a0.muscache.com/im/pictures/22381920/a287431e_original.jpg?aki_policy=small: HTTP Error 404: Not Found --> Lo eliminaré\n",
            "Error al bajar la URL https://a0.muscache.com/im/pictures/4d37393f-eb46-41ac-ad45-7ce18cdf8945.jpg?aki_policy=small: HTTP Error 404: Not Found --> Lo eliminaré\n",
            "Error al bajar la URL https://a0.muscache.com/im/pictures/4dfb28fb-f761-4e46-afc7-2edd16605875.jpg?aki_policy=small: HTTP Error 404: Not Found --> Lo eliminaré\n",
            "Error al bajar la URL https://a0.muscache.com/im/pictures/9611d6cc-4c6a-4a10-95d5-d6e29f369bc1.jpg?aki_policy=small: HTTP Error 404: Not Found --> Lo eliminaré\n",
            "Error al bajar la URL https://a0.muscache.com/im/pictures/32802821/dbb2ec38_original.jpg?aki_policy=small: HTTP Error 404: Not Found --> Lo eliminaré\n",
            "Error al bajar la URL https://a0.muscache.com/im/pictures/d1fadf7d-8646-45d5-9b44-a560567614aa.jpg?aki_policy=small: HTTP Error 404: Not Found --> Lo eliminaré\n",
            "Error al bajar la URL https://a0.muscache.com/im/pictures/9e31299e-98d0-440f-9bd2-33d4b65e3a8f.jpg?aki_policy=small: HTTP Error 404: Not Found --> Lo eliminaré\n",
            "Error al bajar la URL https://a0.muscache.com/im/pictures/105268400/05231d2a_original.jpg?aki_policy=small: HTTP Error 404: Not Found --> Lo eliminaré\n",
            "Error al bajar la URL https://a0.muscache.com/im/pictures/c2894fa9-1803-4a4a-a568-6d4296bcc143.jpg?aki_policy=small: HTTP Error 404: Not Found --> Lo eliminaré\n",
            "Error al bajar la URL https://a0.muscache.com/im/pictures/30402591/6c89d76c_original.jpg?aki_policy=small: HTTP Error 404: Not Found --> Lo eliminaré\n",
            "Error al bajar la URL https://a0.muscache.com/im/pictures/f096d603-2991-43e7-a639-6ad2299e07e4.jpg?aki_policy=small: HTTP Error 404: Not Found --> Lo eliminaré\n",
            "Error al bajar la URL https://a0.muscache.com/im/pictures/d1d9a0fd-9f91-41e5-8ff2-9a4ac0138eda.jpg?aki_policy=small: HTTP Error 404: Not Found --> Lo eliminaré\n",
            "Error al bajar la URL https://a0.muscache.com/im/pictures/6bdaf3f9-39a2-41b0-bee4-afc07bb19780.jpg?aki_policy=small: HTTP Error 404: Not Found --> Lo eliminaré\n",
            "Error al bajar la URL https://a0.muscache.com/im/pictures/d9249ead-345e-4f45-9ab4-b2ef98496dae.jpg?aki_policy=small: HTTP Error 404: Not Found --> Lo eliminaré\n",
            "Error al bajar la URL https://a0.muscache.com/im/pictures/d8cefcc0-c0fc-4743-91b0-72099782a2b8.jpg?aki_policy=small: HTTP Error 404: Not Found --> Lo eliminaré\n",
            "Error al bajar la URL https://a0.muscache.com/im/pictures/97444894/a577c67c_original.jpg?aki_policy=small: HTTP Error 404: Not Found --> Lo eliminaré\n",
            "Error al bajar la URL https://a0.muscache.com/im/pictures/59988943/a448fbcf_original.jpg?aki_policy=small: HTTP Error 404: Not Found --> Lo eliminaré\n",
            "Error al bajar la URL https://a0.muscache.com/im/pictures/181b6d16-94da-4566-9588-e475e0884531.jpg?aki_policy=small: HTTP Error 404: Not Found --> Lo eliminaré\n",
            "Error al bajar la URL https://a0.muscache.com/im/pictures/1337147e-bd52-4fb6-9ee9-653148bbd6b3.jpg?aki_policy=small: HTTP Error 404: Not Found --> Lo eliminaré\n",
            "Error al bajar la URL https://a0.muscache.com/im/pictures/0eee2504-5410-4ca8-86a3-5787c1ed646d.jpg?aki_policy=small: HTTP Error 404: Not Found --> Lo eliminaré\n",
            "Error al bajar la URL https://a0.muscache.com/im/pictures/47a02649-4ffc-415b-81bb-c751ca5e1263.jpg?aki_policy=small: HTTP Error 404: Not Found --> Lo eliminaré\n",
            "Error al bajar la URL https://a0.muscache.com/im/pictures/109484381/df764316_original.jpg?aki_policy=small: HTTP Error 404: Not Found --> Lo eliminaré\n",
            "Error al bajar la URL https://a0.muscache.com/im/pictures/0f8f5f75-6855-4e19-811c-42376e686190.jpg?aki_policy=small: HTTP Error 404: Not Found --> Lo eliminaré\n",
            "Error al bajar la URL https://a0.muscache.com/im/pictures/eacbc89f-54e7-4f43-9648-43ed0763b8c2.jpg?aki_policy=small: HTTP Error 404: Not Found --> Lo eliminaré\n",
            "Error al bajar la URL https://a0.muscache.com/im/pictures/6f12be9a-703b-49a2-af2b-6430c0b0c07a.jpg?aki_policy=small: HTTP Error 404: Not Found --> Lo eliminaré\n",
            "Error al bajar la URL https://a0.muscache.com/im/pictures/0ea681cb-067f-42b4-b42f-d1b74896b3ca.jpg?aki_policy=small: HTTP Error 404: Not Found --> Lo eliminaré\n",
            "Error al bajar la URL https://a0.muscache.com/im/pictures/22b2f24e-5e20-4df4-b8b4-5fac26c556a7.jpg?aki_policy=small: HTTP Error 404: Not Found --> Lo eliminaré\n",
            "Error al bajar la URL https://a0.muscache.com/im/pictures/5fba4147-04fe-4db6-bd47-6e48385754d0.jpg?aki_policy=small: HTTP Error 404: Not Found --> Lo eliminaré\n",
            "Error al bajar la URL https://a0.muscache.com/im/pictures/95a301be-2f19-490e-ac45-ae441a5e0e1b.jpg?aki_policy=small: HTTP Error 404: Not Found --> Lo eliminaré\n",
            "Error al bajar la URL https://a0.muscache.com/im/pictures/d7170d71-aab1-4db2-b8c8-36fb298ca37d.jpg?aki_policy=small: HTTP Error 404: Not Found --> Lo eliminaré\n",
            "Error al bajar la URL https://a0.muscache.com/im/pictures/58634409/a04fd41b_original.jpg?aki_policy=small: HTTP Error 404: Not Found --> Lo eliminaré\n",
            "Error al bajar la URL https://a0.muscache.com/im/pictures/c2c1bff7-e53b-4e45-8756-a103deb977ad.jpg?aki_policy=small: HTTP Error 404: Not Found --> Lo eliminaré\n",
            "Error al bajar la URL https://a0.muscache.com/im/pictures/04b0cb10-a758-4b64-97ab-b62b234c833a.jpg?aki_policy=small: HTTP Error 404: Not Found --> Lo eliminaré\n",
            "Error al bajar la URL https://a0.muscache.com/im/pictures/89846533/250054a2_original.jpg?aki_policy=small: HTTP Error 404: Not Found --> Lo eliminaré\n",
            "Error al bajar la URL https://a0.muscache.com/im/pictures/30640485/3db2004c_original.jpg?aki_policy=small: HTTP Error 404: Not Found --> Lo eliminaré\n",
            "Error al bajar la URL https://a0.muscache.com/im/pictures/c7dd3833-895e-4824-ab2c-c2c974314a4b.jpg?aki_policy=small: HTTP Error 404: Not Found --> Lo eliminaré\n",
            "Error al bajar la URL https://a0.muscache.com/im/pictures/7b962c0c-9f09-46dd-8d58-e4ad2bec1833.jpg?aki_policy=small: HTTP Error 404: Not Found --> Lo eliminaré\n",
            "Error al bajar la URL https://a0.muscache.com/im/pictures/7fe334cb-b1a9-4928-ae2e-f0f466a40094.jpg?aki_policy=small: HTTP Error 404: Not Found --> Lo eliminaré\n",
            "Error al bajar la URL https://a0.muscache.com/im/pictures/e56f30bd-b6da-441e-bb07-f8f125bd067e.jpg?aki_policy=small: HTTP Error 404: Not Found --> Lo eliminaré\n",
            "Error al bajar la URL https://a0.muscache.com/im/pictures/77e11762-a6cf-414b-aa8f-a59428c8c4e5.jpg?aki_policy=small: HTTP Error 404: Not Found --> Lo eliminaré\n",
            "Error al bajar la URL https://a0.muscache.com/im/pictures/41998642/363fde44_original.jpg?aki_policy=small: HTTP Error 404: Not Found --> Lo eliminaré\n",
            "Error al bajar la URL https://a0.muscache.com/im/pictures/4b73acd1-fa52-4f37-98ed-53d337e17900.jpg?aki_policy=small: HTTP Error 404: Not Found --> Lo eliminaré\n",
            "Error al bajar la URL https://a0.muscache.com/im/pictures/beea1efb-4fe6-41ba-ae33-0a6d98796897.jpg?aki_policy=small: HTTP Error 404: Not Found --> Lo eliminaré\n",
            "Error al bajar la URL https://a0.muscache.com/im/pictures/d215c48f-9b78-41a4-9264-29094978f9d3.jpg?aki_policy=small: HTTP Error 404: Not Found --> Lo eliminaré\n",
            "Error al bajar la URL https://a0.muscache.com/im/pictures/53ee3e16-f0e0-4f14-b718-b38c02bed4cc.jpg?aki_policy=small: HTTP Error 404: Not Found --> Lo eliminaré\n",
            "Error al bajar la URL https://a0.muscache.com/im/pictures/7a1e7704-6bea-451b-aad3-02ed50217ab4.jpg?aki_policy=small: HTTP Error 404: Not Found --> Lo eliminaré\n",
            "Error al bajar la URL https://a0.muscache.com/im/pictures/f8fdc11e-2693-4206-b42b-121faa3eca51.jpg?aki_policy=small: HTTP Error 404: Not Found --> Lo eliminaré\n",
            "Error al bajar la URL https://a0.muscache.com/im/pictures/871353e5-befb-4079-b652-97d8345e2d46.jpg?aki_policy=small: HTTP Error 404: Not Found --> Lo eliminaré\n",
            "Error al bajar la URL https://a0.muscache.com/im/pictures/42b103fc-5328-4dd5-a3fe-222d2b67f466.jpg?aki_policy=small: HTTP Error 404: Not Found --> Lo eliminaré\n",
            "Error al bajar la URL https://a0.muscache.com/im/pictures/d286f534-6869-4140-ad6c-cd7119bc0941.jpg?aki_policy=small: HTTP Error 404: Not Found --> Lo eliminaré\n",
            "Error al bajar la URL https://a0.muscache.com/im/pictures/70774764/9acc0e1f_original.jpg?aki_policy=small: HTTP Error 404: Not Found --> Lo eliminaré\n",
            "Error al bajar la URL https://a0.muscache.com/im/pictures/cc90ab25-f77a-4d24-98df-c3da984036af.jpg?aki_policy=small: HTTP Error 404: Not Found --> Lo eliminaré\n",
            "Error al bajar la URL https://a0.muscache.com/im/pictures/2884e408-de7c-4968-84c8-b07254bb9a5b.jpg?aki_policy=small: HTTP Error 404: Not Found --> Lo eliminaré\n",
            "Error al bajar la URL https://a0.muscache.com/im/pictures/3b865d57-6dd9-45a1-8cb7-4e28700dfaf9.jpg?aki_policy=small: HTTP Error 404: Not Found --> Lo eliminaré\n",
            "Error al bajar la URL https://a0.muscache.com/im/pictures/a47bfefc-e419-41f5-b731-ea0c13530816.jpg?aki_policy=small: HTTP Error 404: Not Found --> Lo eliminaré\n",
            "Error al bajar la URL https://a0.muscache.com/im/pictures/104927397/7f6bc8d0_original.jpg?aki_policy=small: HTTP Error 404: Not Found --> Lo eliminaré\n",
            "Error al bajar la URL https://a0.muscache.com/im/pictures/b0b38864-3fe6-4e5c-80c3-00d4bc2b6d80.jpg?aki_policy=small: HTTP Error 404: Not Found --> Lo eliminaré\n",
            "Error al bajar la URL https://a0.muscache.com/im/pictures/3386f8e8-7fca-40ef-b610-8774a4e49b79.jpg?aki_policy=small: HTTP Error 404: Not Found --> Lo eliminaré\n",
            "Error al bajar la URL https://a0.muscache.com/im/pictures/cc9276b2-ca5f-4f43-9242-e6eadee14e84.jpg?aki_policy=small: HTTP Error 404: Not Found --> Lo eliminaré\n",
            "Error al bajar la URL https://a0.muscache.com/im/pictures/5e90110d-1d71-47da-a026-1ae786c66f08.jpg?aki_policy=small: HTTP Error 404: Not Found --> Lo eliminaré\n",
            "Error al bajar la URL https://a0.muscache.com/im/pictures/d2006647-bfab-43f8-a6b4-134ecbd952cd.jpg?aki_policy=small: HTTP Error 404: Not Found --> Lo eliminaré\n",
            "Error al bajar la URL https://a0.muscache.com/im/pictures/34abd0fd-8894-46c1-af87-9754db8c18f0.jpg?aki_policy=small: HTTP Error 404: Not Found --> Lo eliminaré\n",
            "Error al bajar la URL https://a0.muscache.com/im/pictures/2cab85b1-fb85-4d60-abbe-80e64b1c055e.jpg?aki_policy=small: HTTP Error 404: Not Found --> Lo eliminaré\n",
            "Error al bajar la URL https://a0.muscache.com/im/pictures/29186969/6748444b_original.jpg?aki_policy=small: HTTP Error 404: Not Found --> Lo eliminaré\n",
            "Error al bajar la URL https://a0.muscache.com/im/pictures/697d5bc2-dc04-4ed1-b1d6-4f38c9003155.jpg?aki_policy=small: HTTP Error 404: Not Found --> Lo eliminaré\n",
            "Error al bajar la URL https://a0.muscache.com/im/pictures/abca43cd-dcdc-4fa3-b81c-494fd98e0167.jpg?aki_policy=small: HTTP Error 404: Not Found --> Lo eliminaré\n",
            "Error al bajar la URL https://a0.muscache.com/im/pictures/3ba5df05-4f8a-497f-927f-568552f64096.jpg?aki_policy=small: HTTP Error 404: Not Found --> Lo eliminaré\n",
            "Error al bajar la URL https://a0.muscache.com/im/pictures/14dfd3d1-5fc4-40a5-98c6-8d979da8c61e.jpg?aki_policy=small: HTTP Error 404: Not Found --> Lo eliminaré\n",
            "Error al bajar la URL https://a0.muscache.com/im/pictures/34580192/80424fad_original.jpg?aki_policy=small: HTTP Error 404: Not Found --> Lo eliminaré\n",
            "Error al bajar la URL https://a0.muscache.com/im/pictures/10d58ed6-b7ab-4b82-8d85-b3b0c511ee1a.jpg?aki_policy=small: HTTP Error 404: Not Found --> Lo eliminaré\n",
            "Error al bajar la URL https://a0.muscache.com/im/pictures/86156168-d800-48fa-a612-849ef0981755.jpg?aki_policy=small: HTTP Error 404: Not Found --> Lo eliminaré\n",
            "Error al bajar la URL https://a0.muscache.com/im/pictures/e1f36d2d-4ab4-4268-968e-70cde8f49cbc.jpg?aki_policy=small: HTTP Error 404: Not Found --> Lo eliminaré\n",
            "Error al bajar la URL https://a0.muscache.com/im/pictures/68138711/45584d65_original.jpg?aki_policy=small: HTTP Error 404: Not Found --> Lo eliminaré\n",
            "Error al bajar la URL https://a0.muscache.com/im/pictures/f8561c6b-c6df-4b41-9a82-712ac401c897.jpg?aki_policy=small: HTTP Error 404: Not Found --> Lo eliminaré\n",
            "Error al bajar la URL https://a0.muscache.com/im/pictures/ac8d4772-216c-4dce-a94f-181dc4ca3c30.jpg?aki_policy=small: HTTP Error 404: Not Found --> Lo eliminaré\n",
            "Error al bajar la URL https://a0.muscache.com/im/pictures/e67edbec-a0e6-450b-9385-af8c98a614b7.jpg?aki_policy=small: HTTP Error 404: Not Found --> Lo eliminaré\n",
            "Error al bajar la URL https://a0.muscache.com/im/pictures/b4335c83-5bcb-4099-95e2-e8d93dc3c302.jpg?aki_policy=small: HTTP Error 404: Not Found --> Lo eliminaré\n",
            "Error al bajar la URL https://a0.muscache.com/im/pictures/b5cdea5b-bd06-4f70-bda4-33dc883ec9cd.jpg?aki_policy=small: HTTP Error 404: Not Found --> Lo eliminaré\n",
            "Error al bajar la URL https://a0.muscache.com/im/pictures/101938931/6c212ff9_original.jpg?aki_policy=small: HTTP Error 404: Not Found --> Lo eliminaré\n",
            "Error al bajar la URL https://a0.muscache.com/im/pictures/59c684f8-c346-45ff-9f6c-79f23db20a1f.jpg?aki_policy=small: HTTP Error 404: Not Found --> Lo eliminaré\n",
            "Error al bajar la URL https://a0.muscache.com/im/pictures/1c728308-91dc-4644-a590-20315622e3b5.jpg?aki_policy=small: HTTP Error 404: Not Found --> Lo eliminaré\n",
            "Error al bajar la URL https://a0.muscache.com/im/pictures/191f135b-5aea-4529-b61e-00e4c0e17c6a.jpg?aki_policy=small: HTTP Error 404: Not Found --> Lo eliminaré\n",
            "Error al bajar la URL https://a0.muscache.com/im/pictures/81b2ca32-95f4-4790-8140-292dcf843d3b.jpg?aki_policy=small: HTTP Error 404: Not Found --> Lo eliminaré\n",
            "Error al bajar la URL https://a0.muscache.com/im/pictures/38c8b045-3209-48ab-89ec-72870e74ee1f.jpg?aki_policy=small: HTTP Error 404: Not Found --> Lo eliminaré\n",
            "Error al bajar la URL https://a0.muscache.com/im/pictures/1705494/adabe580_original.jpg?aki_policy=small: HTTP Error 404: Not Found --> Lo eliminaré\n",
            "Error al bajar la URL https://a0.muscache.com/im/pictures/82257486/e23b87a0_original.jpg?aki_policy=small: HTTP Error 404: Not Found --> Lo eliminaré\n",
            "Error al bajar la URL https://a0.muscache.com/im/pictures/c43236e2-2547-4a16-aa0f-54e4c62ae395.jpg?aki_policy=small: HTTP Error 404: Not Found --> Lo eliminaré\n",
            "Error al bajar la URL https://a0.muscache.com/im/pictures/46b6e818-bf62-47be-9df0-cd2a7307b8e3.jpg?aki_policy=small: HTTP Error 404: Not Found --> Lo eliminaré\n",
            "Error al bajar la URL https://a0.muscache.com/im/pictures/a9465383-999c-4aa0-8c96-49398572136e.jpg?aki_policy=small: HTTP Error 404: Not Found --> Lo eliminaré\n",
            "Error al bajar la URL https://a0.muscache.com/im/pictures/26ee8fa3-463a-44c3-b86e-b15e54e6219e.jpg?aki_policy=small: HTTP Error 404: Not Found --> Lo eliminaré\n",
            "Error al bajar la URL https://a0.muscache.com/im/pictures/1e0ec475-f88f-4935-9804-685f8f1f14d8.jpg?aki_policy=small: HTTP Error 404: Not Found --> Lo eliminaré\n",
            "Error al bajar la URL https://a0.muscache.com/im/pictures/55240184/1235669b_original.jpg?aki_policy=small: HTTP Error 404: Not Found --> Lo eliminaré\n",
            "Error al bajar la URL https://a0.muscache.com/im/pictures/00561859-f500-4f71-9787-75842778f6fb.jpg?aki_policy=small: HTTP Error 404: Not Found --> Lo eliminaré\n",
            "Error al bajar la URL https://a0.muscache.com/im/pictures/6712128/69b1f693_original.jpg?aki_policy=small: HTTP Error 404: Not Found --> Lo eliminaré\n",
            "Error al bajar la URL https://a0.muscache.com/im/pictures/abcb1390-de9e-407d-9af3-3de7ec13b431.jpg?aki_policy=small: HTTP Error 404: Not Found --> Lo eliminaré\n",
            "Error al bajar la URL https://a0.muscache.com/im/pictures/9ae2f4ea-e21a-4e00-9c81-f39d94bf035f.jpg?aki_policy=small: HTTP Error 404: Not Found --> Lo eliminaré\n",
            "Error al bajar la URL https://a0.muscache.com/im/pictures/edd74dbc-40d5-4ab1-b282-4c0313ee5eb8.jpg?aki_policy=small: HTTP Error 404: Not Found --> Lo eliminaré\n",
            "Error al bajar la URL https://a0.muscache.com/im/pictures/99676712/19a6deb4_original.jpg?aki_policy=small: HTTP Error 404: Not Found --> Lo eliminaré\n",
            "Error al bajar la URL https://a0.muscache.com/im/pictures/54703518/44a6a860_original.jpg?aki_policy=small: HTTP Error 404: Not Found --> Lo eliminaré\n",
            "Error al bajar la URL https://a0.muscache.com/im/pictures/a87e0678-15b1-4384-8064-5542ab1040f8.jpg?aki_policy=small: HTTP Error 404: Not Found --> Lo eliminaré\n",
            "Error al bajar la URL https://a0.muscache.com/im/pictures/9bbba406-8558-4c4a-9b91-b1c0f4a2edff.jpg?aki_policy=small: HTTP Error 404: Not Found --> Lo eliminaré\n",
            "Error al bajar la URL https://a0.muscache.com/im/pictures/ec28a2f4-5cfe-4855-9817-74273a3ec462.jpg?aki_policy=small: HTTP Error 404: Not Found --> Lo eliminaré\n",
            "Error al bajar la URL https://a0.muscache.com/im/pictures/b34f2373-7916-4f9d-a09d-f5376f48e282.jpg?aki_policy=small: HTTP Error 404: Not Found --> Lo eliminaré\n",
            "Error al bajar la URL https://a0.muscache.com/im/pictures/d7f6ec48-2ef3-4991-a72b-d4b11e580595.jpg?aki_policy=small: HTTP Error 404: Not Found --> Lo eliminaré\n",
            "Error al bajar la URL https://a0.muscache.com/im/pictures/cdbf93fc-3cd4-484c-a80c-704d898c1777.jpg?aki_policy=small: HTTP Error 404: Not Found --> Lo eliminaré\n",
            "Error al bajar la URL https://a0.muscache.com/im/pictures/64d67da1-83f6-41fa-aaff-d7f32c548578.jpg?aki_policy=small: HTTP Error 404: Not Found --> Lo eliminaré\n",
            "Error al bajar la URL https://a0.muscache.com/im/pictures/c289cf46-1422-4ce5-b698-7c50dcf44690.jpg?aki_policy=small: HTTP Error 404: Not Found --> Lo eliminaré\n",
            "Error al bajar la URL https://a0.muscache.com/im/pictures/91ca1eff-87aa-4b68-a48c-cd51eae7629f.jpg?aki_policy=small: HTTP Error 404: Not Found --> Lo eliminaré\n",
            "Error al bajar la URL https://a0.muscache.com/im/pictures/8fb35b7e-dbd7-4d58-af55-623740467872.jpg?aki_policy=small: HTTP Error 404: Not Found --> Lo eliminaré\n",
            "Error al bajar la URL https://a0.muscache.com/im/pictures/bd63e030-dbcf-49b2-9844-9731b011a92f.jpg?aki_policy=small: HTTP Error 404: Not Found --> Lo eliminaré\n"
          ]
        }
      ]
    },
    {
      "cell_type": "code",
      "source": [
        "#Voy a validar que las imágenes se bajaron! \n",
        "\n",
        "# Mi directorio original es\n",
        "print(\"El directorio actual es: {0}\".format(os.getcwd()))\n",
        "\n",
        "# Me he cambiado de directorio al de imágenes\n",
        "print(\"El directorio de imágenes es : /content/image_folder y su contenido es este -->\")\n",
        "_, _, files = next(os.walk(\"/content/image_folder\"))\n",
        "file_count = len(files)\n",
        "print(file_count)\n",
        "print(\"El nuevo shape de Full_train_filtered es --> \", Full_train_filtered.shape)\n",
        "#files"
      ],
      "metadata": {
        "colab": {
          "base_uri": "https://localhost:8080/"
        },
        "id": "XFfIuhi2vDkf",
        "outputId": "a466c0cd-0c2f-4321-d24e-3479b3dd64eb"
      },
      "id": "XFfIuhi2vDkf",
      "execution_count": 8,
      "outputs": [
        {
          "output_type": "stream",
          "name": "stdout",
          "text": [
            "El directorio actual es: /content\n",
            "El directorio de imágenes es : /content/image_folder y su contenido es este -->\n",
            "489\n",
            "El nuevo shape de Full_train_filtered es -->  (489, 171)\n"
          ]
        }
      ]
    },
    {
      "cell_type": "code",
      "source": [
        "files"
      ],
      "metadata": {
        "id": "s4UP3Hoog60K"
      },
      "id": "s4UP3Hoog60K",
      "execution_count": null,
      "outputs": []
    },
    {
      "cell_type": "code",
      "source": [
        "import shutil\n",
        "os.chdir('/content')\n",
        "#shutil.rmtree('/content/image_folder/', ignore_errors=True)"
      ],
      "metadata": {
        "id": "NS7l1tZBy5AF"
      },
      "id": "NS7l1tZBy5AF",
      "execution_count": 324,
      "outputs": []
    },
    {
      "cell_type": "code",
      "source": [
        "from PIL import Image\n",
        "\n",
        "image = Image.open('/content/image_folder/image_7272.jpg')\n",
        "image"
      ],
      "metadata": {
        "colab": {
          "base_uri": "https://localhost:8080/",
          "height": 161
        },
        "id": "FUem-EmYA7J0",
        "outputId": "aea3b3fc-2589-4018-f5cd-de78a1cffa53"
      },
      "id": "FUem-EmYA7J0",
      "execution_count": 326,
      "outputs": [
        {
          "output_type": "execute_result",
          "data": {
            "text/plain": [
              "<PIL.JpegImagePlugin.JpegImageFile image mode=RGB size=216x144 at 0x7FAEF43D7DF0>"
            ],
            "image/png": "[encoded data removed]"
          },
          "metadata": {},
          "execution_count": 326
        }
      ]
    },
    {
      "cell_type": "markdown",
      "source": [
        "### Ahora, voy a preparar la arquitectura de neuronas para relacionar con el precio "
      ],
      "metadata": {
        "id": "rCmmsVPwr20r"
      },
      "id": "rCmmsVPwr20r"
    },
    {
      "cell_type": "markdown",
      "source": [
        "Primero saco X_train, X_val, X_test, y_train, y_val, y_test"
      ],
      "metadata": {
        "id": "A0b3L5w8k3f1"
      },
      "id": "A0b3L5w8k3f1"
    },
    {
      "cell_type": "code",
      "source": [
        "# Divido en X_train e y_train\n",
        "X_train_img = Full_train_filtered.loc[:, Full_train_filtered.columns != 'Price']\n",
        "X_train_img.to_csv(\"X_train_img.csv\", index=False)\n",
        "y_train_img = Full_train_filtered['Price']\n",
        "y_train_img.to_csv(\"y_train_img.csv\", index=False)\n",
        "\n",
        "print(\"El shape de X_train_img es --> \", X_train_img.shape)\n",
        "print(\"El shape de y_train_img es --> \", y_train_img.shape)"
      ],
      "metadata": {
        "colab": {
          "base_uri": "https://localhost:8080/",
          "height": 235
        },
        "id": "YAyybA-3GxSX",
        "outputId": "ccafe747-6cd1-4da6-cd37-597f3e596473"
      },
      "id": "YAyybA-3GxSX",
      "execution_count": 5,
      "outputs": [
        {
          "output_type": "error",
          "ename": "NameError",
          "evalue": "ignored",
          "traceback": [
            "\u001b[0;31m---------------------------------------------------------------------------\u001b[0m",
            "\u001b[0;31mNameError\u001b[0m                                 Traceback (most recent call last)",
            "\u001b[0;32m<ipython-input-5-a8aedce67a43>\u001b[0m in \u001b[0;36m<module>\u001b[0;34m\u001b[0m\n\u001b[1;32m      1\u001b[0m \u001b[0;31m# Divido en X_train e y_train\u001b[0m\u001b[0;34m\u001b[0m\u001b[0;34m\u001b[0m\u001b[0;34m\u001b[0m\u001b[0m\n\u001b[0;32m----> 2\u001b[0;31m \u001b[0mX_train_img\u001b[0m \u001b[0;34m=\u001b[0m \u001b[0mFull_train_filtered\u001b[0m\u001b[0;34m.\u001b[0m\u001b[0mloc\u001b[0m\u001b[0;34m[\u001b[0m\u001b[0;34m:\u001b[0m\u001b[0;34m,\u001b[0m \u001b[0mFull_train_filtered\u001b[0m\u001b[0;34m.\u001b[0m\u001b[0mcolumns\u001b[0m \u001b[0;34m!=\u001b[0m \u001b[0;34m'Price'\u001b[0m\u001b[0;34m]\u001b[0m\u001b[0;34m\u001b[0m\u001b[0;34m\u001b[0m\u001b[0m\n\u001b[0m\u001b[1;32m      3\u001b[0m \u001b[0mX_train_img\u001b[0m\u001b[0;34m.\u001b[0m\u001b[0mto_csv\u001b[0m\u001b[0;34m(\u001b[0m\u001b[0;34m\"X_train_img.csv\"\u001b[0m\u001b[0;34m,\u001b[0m \u001b[0mindex\u001b[0m\u001b[0;34m=\u001b[0m\u001b[0;32mFalse\u001b[0m\u001b[0;34m)\u001b[0m\u001b[0;34m\u001b[0m\u001b[0;34m\u001b[0m\u001b[0m\n\u001b[1;32m      4\u001b[0m \u001b[0my_train_img\u001b[0m \u001b[0;34m=\u001b[0m \u001b[0mFull_train_filtered\u001b[0m\u001b[0;34m[\u001b[0m\u001b[0;34m'Price'\u001b[0m\u001b[0;34m]\u001b[0m\u001b[0;34m\u001b[0m\u001b[0;34m\u001b[0m\u001b[0m\n\u001b[1;32m      5\u001b[0m \u001b[0my_train_img\u001b[0m\u001b[0;34m.\u001b[0m\u001b[0mto_csv\u001b[0m\u001b[0;34m(\u001b[0m\u001b[0;34m\"y_train_img.csv\"\u001b[0m\u001b[0;34m,\u001b[0m \u001b[0mindex\u001b[0m\u001b[0;34m=\u001b[0m\u001b[0;32mFalse\u001b[0m\u001b[0;34m)\u001b[0m\u001b[0;34m\u001b[0m\u001b[0;34m\u001b[0m\u001b[0m\n",
            "\u001b[0;31mNameError\u001b[0m: name 'Full_train_filtered' is not defined"
          ]
        }
      ]
    },
    {
      "cell_type": "code",
      "source": [
        "# X_val e y_val\n",
        "X_val_img = pd.read_csv('validation.csv')\n",
        "y_val_img = pd.read_csv('validation_target.csv')\n",
        "Full_val_img = y_val_img.join(X_val_img)\n",
        "print(\"El shape del dataframe es --> \", Full_val_img.shape)\n",
        "print(\"El set completo es Full_val es --> \", Full_val_img.head(1))\n",
        "\n",
        "# Voy a disminuir a 300 imágenes para poder procesar en menos tiempo las imágenes\n",
        "Full_val_300 = Full_val_img.sample(n=300, random_state=5)\n",
        "\n",
        "# creo la carpeta donde guardaré las imágenes\n",
        "folder_path = \"val_image_folder\"\n",
        "if not os.path.exists(folder_path):\n",
        "    os.mkdir(folder_path)\n",
        "\n",
        "image_paths = []\n",
        "Full_val_filtered = Full_val_300\n",
        "for i, link in Full_val_300[\"Thumbnail Url\"].iteritems():\n",
        "    try:\n",
        "        # trato de bajar las imágenes\n",
        "        response = urllib.request.urlopen(str(link))\n",
        "        image_name = f\"image_{i}.jpg\"\n",
        "        image_path = os.path.join(folder_path, image_name)\n",
        "        with open(image_path, \"wb\") as f:\n",
        "            f.write(response.read())\n",
        "        image_paths.append(image_path)\n",
        "    except Exception as e:\n",
        "        # Si hay error, me avisa y continúa\n",
        "        print(f\"Error al bajar la URL {link}: {e} --> Lo eliminaré\")\n",
        "        Full_val_filtered.drop(Full_val_filtered[Full_val_filtered['Thumbnail Url'] == link].index, inplace = True) # --> Si encontrara error, lo elimino en Full_train_filtered\n",
        "        continue  \n",
        "\n",
        "Full_val_300 = Full_val_filtered\n",
        "# create a new dataframe with the image paths\n",
        "image_df = pd.DataFrame({\"image_path\": image_paths})\n",
        "\n",
        "# save the dataframe to a CSV file\n",
        "image_df.to_csv(\"val_image_paths.csv\", index=False)\n",
        "\n",
        "# Divido en X_train e y_train\n",
        "X_val_img = Full_val_filtered.loc[:, Full_val_filtered.columns != 'Price']\n",
        "X_val_img.to_csv(\"X_val_img.csv\", index=False)\n",
        "y_val_img = Full_val_filtered['Price']\n",
        "y_val_img.to_csv(\"y_val_img.csv\", index=False)\n",
        "\n",
        "print(\"El shape de X_val_img es --> \", X_val_img.shape)\n",
        "print(\"El shape de y_val_img es --> \", y_val_img.shape)\n"
      ],
      "metadata": {
        "colab": {
          "base_uri": "https://localhost:8080/"
        },
        "id": "ZoDbVSHikpV-",
        "outputId": "da70ac63-40c4-4a0f-83e8-c086d260ba62"
      },
      "id": "ZoDbVSHikpV-",
      "execution_count": 11,
      "outputs": [
        {
          "output_type": "stream",
          "name": "stdout",
          "text": [
            "El shape del dataframe es -->  (1039, 171)\n",
            "El set completo es Full_val es -->     Price        ID   Host ID  Host Response Rate  Host Listings Count  \\\n",
            "0   89.0  12271450  18016640               100.0                  1.0   \n",
            "\n",
            "   Host Total Listings Count  Zipcode   Latitude  Longitude  Accommodates  \\\n",
            "0                        1.0    28005  40.414693  -3.712031             3   \n",
            "\n",
            "   ...  Bed Type_Airbed  Bed Type_Couch  Bed Type_Futon  \\\n",
            "0  ...                0               0               0   \n",
            "\n",
            "   Bed Type_Pull-out Sofa  Bed Type_Real Bed  Cancellation Policy_flexible  \\\n",
            "0                       0                  1                             0   \n",
            "\n",
            "   Cancellation Policy_moderate  Cancellation Policy_strict  \\\n",
            "0                             0                           1   \n",
            "\n",
            "   Cancellation Policy_super_strict_30  Cancellation Policy_super_strict_60  \n",
            "0                                    0                                    0  \n",
            "\n",
            "[1 rows x 171 columns]\n",
            "Error al bajar la URL https://a0.muscache.com/im/pictures/beb90f56-2955-41da-9ee5-067b6fc18471.jpg?aki_policy=small: HTTP Error 404: Not Found --> Lo eliminaré\n",
            "Error al bajar la URL https://a0.muscache.com/im/pictures/2577f8fd-5da0-4f2c-8d49-4b383d8faaf0.jpg?aki_policy=small: HTTP Error 404: Not Found --> Lo eliminaré\n",
            "Error al bajar la URL https://a0.muscache.com/im/pictures/29468ad8-91db-4a18-abb8-d285c64f7379.jpg?aki_policy=small: HTTP Error 404: Not Found --> Lo eliminaré\n",
            "Error al bajar la URL https://a0.muscache.com/im/pictures/1326cdc8-1f91-4b0a-af41-79dd9e70f5ae.jpg?aki_policy=small: HTTP Error 404: Not Found --> Lo eliminaré\n",
            "Error al bajar la URL https://a0.muscache.com/im/pictures/31a40a40-47e8-4a9e-9908-2fd35a2fdac2.jpg?aki_policy=small: HTTP Error 404: Not Found --> Lo eliminaré\n",
            "Error al bajar la URL https://a0.muscache.com/im/pictures/a9c180be-449b-4de2-aeaa-58812925a75e.jpg?aki_policy=small: HTTP Error 404: Not Found --> Lo eliminaré\n",
            "Error al bajar la URL https://a0.muscache.com/im/pictures/810e1550-6ef0-4723-ae58-e6ebd0058895.jpg?aki_policy=small: HTTP Error 404: Not Found --> Lo eliminaré\n",
            "Error al bajar la URL https://a0.muscache.com/im/pictures/79413003/0ad364e4_original.jpg?aki_policy=small: HTTP Error 404: Not Found --> Lo eliminaré\n",
            "Error al bajar la URL https://a0.muscache.com/im/pictures/290bcbdb-67b2-4b96-82ea-1c8e1353199b.jpg?aki_policy=small: HTTP Error 404: Not Found --> Lo eliminaré\n",
            "Error al bajar la URL https://a0.muscache.com/im/pictures/1ca1edd3-f60d-44dd-80b4-d32d58b99a88.jpg?aki_policy=small: HTTP Error 404: Not Found --> Lo eliminaré\n",
            "Error al bajar la URL https://a0.muscache.com/im/pictures/92466713/d4730e5b_original.jpg?aki_policy=small: HTTP Error 404: Not Found --> Lo eliminaré\n",
            "Error al bajar la URL https://a0.muscache.com/im/pictures/41954638/0a739d2b_original.jpg?aki_policy=small: HTTP Error 404: Not Found --> Lo eliminaré\n",
            "Error al bajar la URL https://a0.muscache.com/im/pictures/ae885049-3b69-4b1f-8a64-3e082a21503c.jpg?aki_policy=small: HTTP Error 404: Not Found --> Lo eliminaré\n",
            "Error al bajar la URL https://a0.muscache.com/im/pictures/23bc0282-a77d-4961-b962-58dc893b58f3.jpg?aki_policy=small: HTTP Error 404: Not Found --> Lo eliminaré\n",
            "Error al bajar la URL https://a0.muscache.com/im/pictures/5cdee112-a67f-477a-8ee2-331b96c9d951.jpg?aki_policy=small: HTTP Error 404: Not Found --> Lo eliminaré\n",
            "Error al bajar la URL https://a0.muscache.com/im/pictures/48103780/b46ce067_original.jpg?aki_policy=small: HTTP Error 404: Not Found --> Lo eliminaré\n",
            "Error al bajar la URL https://a0.muscache.com/im/pictures/40082447/cefc5b68_original.jpg?aki_policy=small: HTTP Error 404: Not Found --> Lo eliminaré\n",
            "Error al bajar la URL https://a0.muscache.com/im/pictures/2fffaa29-fd43-4b24-90d9-729b23e69445.jpg?aki_policy=small: HTTP Error 404: Not Found --> Lo eliminaré\n",
            "Error al bajar la URL https://a0.muscache.com/im/pictures/561eb24b-5dac-4581-82e3-46716d308636.jpg?aki_policy=small: HTTP Error 404: Not Found --> Lo eliminaré\n",
            "Error al bajar la URL https://a0.muscache.com/im/pictures/308faa6a-5c54-4348-9d19-694a851b9d59.jpg?aki_policy=small: HTTP Error 404: Not Found --> Lo eliminaré\n",
            "Error al bajar la URL https://a0.muscache.com/im/pictures/4bf05678-fbef-4e9f-81f2-aa95d437ecfb.jpg?aki_policy=small: HTTP Error 404: Not Found --> Lo eliminaré\n",
            "Error al bajar la URL https://a0.muscache.com/im/pictures/611f8055-58b6-496e-bdd2-0788b090c984.jpg?aki_policy=small: HTTP Error 404: Not Found --> Lo eliminaré\n",
            "Error al bajar la URL https://a0.muscache.com/im/pictures/68d66c5a-25ad-4285-8428-b36bee84794b.jpg?aki_policy=small: HTTP Error 404: Not Found --> Lo eliminaré\n",
            "Error al bajar la URL https://a0.muscache.com/im/pictures/928bba2c-ed2f-4793-9a3d-e820df3a2522.jpg?aki_policy=small: HTTP Error 404: Not Found --> Lo eliminaré\n",
            "Error al bajar la URL https://a0.muscache.com/im/pictures/45595408/ac9a0c7f_original.jpg?aki_policy=small: HTTP Error 404: Not Found --> Lo eliminaré\n",
            "Error al bajar la URL https://a0.muscache.com/im/pictures/39607267/01a680cb_original.jpg?aki_policy=small: HTTP Error 404: Not Found --> Lo eliminaré\n",
            "Error al bajar la URL https://a0.muscache.com/im/pictures/fae4bf6d-f883-4b2f-b38a-45fc2cf77406.jpg?aki_policy=small: HTTP Error 404: Not Found --> Lo eliminaré\n",
            "Error al bajar la URL https://a0.muscache.com/im/pictures/4e03f05a-c8de-41c1-8f69-eba0b4acf353.jpg?aki_policy=small: HTTP Error 404: Not Found --> Lo eliminaré\n",
            "Error al bajar la URL https://a0.muscache.com/im/pictures/7c37b7a2-9bc1-4b7d-bcd8-f053df630965.jpg?aki_policy=small: HTTP Error 404: Not Found --> Lo eliminaré\n",
            "Error al bajar la URL https://a0.muscache.com/im/pictures/4038a93d-65fd-474b-b5a5-4212fd1f10cf.jpg?aki_policy=small: HTTP Error 404: Not Found --> Lo eliminaré\n",
            "Error al bajar la URL https://a0.muscache.com/im/pictures/ff6f69d9-3b9d-4bf3-8aa8-5a88fc0e9753.jpg?aki_policy=small: HTTP Error 404: Not Found --> Lo eliminaré\n",
            "Error al bajar la URL https://a0.muscache.com/im/pictures/f3e6c3f2-8301-4278-b988-0a9b8f8bf7e8.jpg?aki_policy=small: HTTP Error 404: Not Found --> Lo eliminaré\n",
            "Error al bajar la URL https://a0.muscache.com/im/pictures/59726386/cc8d45b1_original.jpg?aki_policy=small: HTTP Error 404: Not Found --> Lo eliminaré\n",
            "Error al bajar la URL https://a0.muscache.com/im/pictures/e3478af3-846f-480d-89cf-aa67cbdc9d64.jpg?aki_policy=small: HTTP Error 404: Not Found --> Lo eliminaré\n",
            "Error al bajar la URL https://a0.muscache.com/im/pictures/716716cf-ed21-40f7-8b66-1db62533d348.jpg?aki_policy=small: HTTP Error 404: Not Found --> Lo eliminaré\n",
            "Error al bajar la URL https://a0.muscache.com/im/pictures/20689b32-40e3-4e1e-a65b-96d07be6910d.jpg?aki_policy=small: HTTP Error 404: Not Found --> Lo eliminaré\n",
            "Error al bajar la URL https://a0.muscache.com/im/pictures/1b447c0a-a504-45bd-90a1-908c0c47b7e1.jpg?aki_policy=small: HTTP Error 404: Not Found --> Lo eliminaré\n",
            "Error al bajar la URL https://a0.muscache.com/im/pictures/9f73eefe-3bf1-49e5-b771-2417d2d1aa0b.jpg?aki_policy=small: HTTP Error 404: Not Found --> Lo eliminaré\n",
            "Error al bajar la URL https://a0.muscache.com/im/pictures/75987696/0b77cd2a_original.jpg?aki_policy=small: HTTP Error 404: Not Found --> Lo eliminaré\n",
            "Error al bajar la URL https://a0.muscache.com/im/pictures/c165da7b-63b8-4084-bc8c-4074378c2231.jpg?aki_policy=small: HTTP Error 404: Not Found --> Lo eliminaré\n",
            "Error al bajar la URL https://a0.muscache.com/im/pictures/61df9e9b-4256-45c2-8bfd-d6170fe9295d.jpg?aki_policy=small: HTTP Error 404: Not Found --> Lo eliminaré\n",
            "Error al bajar la URL https://a0.muscache.com/im/pictures/95251379/ef51419c_original.jpg?aki_policy=small: HTTP Error 404: Not Found --> Lo eliminaré\n",
            "Error al bajar la URL https://a0.muscache.com/im/pictures/b697939f-7325-47c7-934c-ba17ec9a9663.jpg?aki_policy=small: HTTP Error 404: Not Found --> Lo eliminaré\n",
            "Error al bajar la URL https://a0.muscache.com/im/pictures/109089316/40a2259a_original.jpg?aki_policy=small: HTTP Error 404: Not Found --> Lo eliminaré\n",
            "Error al bajar la URL https://a0.muscache.com/im/pictures/588b8427-1ca0-4311-83c0-23db58b61d75.jpg?aki_policy=small: HTTP Error 404: Not Found --> Lo eliminaré\n",
            "Error al bajar la URL https://a0.muscache.com/im/pictures/1cad88b4-2cd1-4f89-9b39-532c5b7c9b57.jpg?aki_policy=small: HTTP Error 404: Not Found --> Lo eliminaré\n",
            "Error al bajar la URL https://a0.muscache.com/im/pictures/57a0ed00-d1a0-4510-898b-7a7e2889426a.jpg?aki_policy=small: HTTP Error 404: Not Found --> Lo eliminaré\n",
            "Error al bajar la URL https://a0.muscache.com/im/pictures/3eca1c52-23e4-4af4-8fd5-66ddde73ddf2.jpg?aki_policy=small: HTTP Error 404: Not Found --> Lo eliminaré\n",
            "Error al bajar la URL https://a0.muscache.com/im/pictures/101538761/611598df_original.jpg?aki_policy=small: HTTP Error 404: Not Found --> Lo eliminaré\n",
            "Error al bajar la URL https://a0.muscache.com/im/pictures/b9623a16-cd13-4531-bd91-234924375b74.jpg?aki_policy=small: HTTP Error 404: Not Found --> Lo eliminaré\n",
            "Error al bajar la URL https://a0.muscache.com/im/pictures/29084673/ef45cdf3_original.jpg?aki_policy=small: HTTP Error 404: Not Found --> Lo eliminaré\n",
            "Error al bajar la URL https://a0.muscache.com/im/pictures/159eaba2-10e4-404a-b3f6-99162b394223.jpg?aki_policy=small: HTTP Error 404: Not Found --> Lo eliminaré\n",
            "Error al bajar la URL https://a0.muscache.com/im/pictures/2a363c70-8adf-430e-84bd-5569608ea8f0.jpg?aki_policy=small: HTTP Error 404: Not Found --> Lo eliminaré\n",
            "Error al bajar la URL https://a0.muscache.com/im/pictures/80363092/78c9eaa1_original.jpg?aki_policy=small: HTTP Error 404: Not Found --> Lo eliminaré\n",
            "Error al bajar la URL https://a0.muscache.com/im/pictures/21ee400f-78eb-42b1-840c-b057833be6c5.jpg?aki_policy=small: HTTP Error 404: Not Found --> Lo eliminaré\n",
            "Error al bajar la URL https://a0.muscache.com/im/pictures/0eb798cd-05d0-4be6-990f-e31e8650e949.jpg?aki_policy=small: HTTP Error 404: Not Found --> Lo eliminaré\n",
            "Error al bajar la URL https://a0.muscache.com/im/pictures/35f75e84-f99c-43a0-8d65-97379dd4bb01.jpg?aki_policy=small: HTTP Error 404: Not Found --> Lo eliminaré\n",
            "Error al bajar la URL https://a0.muscache.com/im/pictures/80397097/55f93781_original.jpg?aki_policy=small: HTTP Error 404: Not Found --> Lo eliminaré\n",
            "Error al bajar la URL https://a0.muscache.com/im/pictures/6ffd1ce1-5b96-41b4-a54e-99dbb01e9118.jpg?aki_policy=small: HTTP Error 404: Not Found --> Lo eliminaré\n",
            "Error al bajar la URL https://a0.muscache.com/im/pictures/1e3a6f33-1763-4792-a22d-ba8e795b1b3a.jpg?aki_policy=small: HTTP Error 404: Not Found --> Lo eliminaré\n",
            "Error al bajar la URL https://a0.muscache.com/im/pictures/1afee96a-c8b5-4606-9c78-2ed1c1946553.jpg?aki_policy=small: HTTP Error 404: Not Found --> Lo eliminaré\n",
            "Error al bajar la URL https://a0.muscache.com/im/pictures/36784e97-e2e9-474e-a0a0-06a4524ced09.jpg?aki_policy=small: HTTP Error 404: Not Found --> Lo eliminaré\n",
            "Error al bajar la URL https://a0.muscache.com/im/pictures/f14c6243-b9a6-4047-a8a5-efdab35ee06b.jpg?aki_policy=small: HTTP Error 404: Not Found --> Lo eliminaré\n",
            "Error al bajar la URL https://a0.muscache.com/im/pictures/7e3ff557-2302-493e-b53f-be341d6b6437.jpg?aki_policy=small: HTTP Error 404: Not Found --> Lo eliminaré\n",
            "Error al bajar la URL https://a0.muscache.com/im/pictures/33344292/59c21c10_original.jpg?aki_policy=small: HTTP Error 404: Not Found --> Lo eliminaré\n",
            "Error al bajar la URL https://a0.muscache.com/im/pictures/08b04a52-2eed-453b-bc6a-e0133000d468.jpg?aki_policy=small: HTTP Error 404: Not Found --> Lo eliminaré\n",
            "Error al bajar la URL https://a0.muscache.com/im/pictures/94191633/af71875f_original.jpg?aki_policy=small: HTTP Error 404: Not Found --> Lo eliminaré\n",
            "Error al bajar la URL https://a0.muscache.com/im/pictures/4fc4757b-de69-4b20-9959-27850dab93b3.jpg?aki_policy=small: HTTP Error 404: Not Found --> Lo eliminaré\n",
            "Error al bajar la URL https://a0.muscache.com/im/pictures/3921149/400b3f3d_original.jpg?aki_policy=small: HTTP Error 404: Not Found --> Lo eliminaré\n",
            "Error al bajar la URL https://a0.muscache.com/im/pictures/458d921e-63d7-4abd-b32d-332326ac1f9f.jpg?aki_policy=small: HTTP Error 404: Not Found --> Lo eliminaré\n",
            "Error al bajar la URL https://a0.muscache.com/im/pictures/cadd1292-e719-44b5-8967-2a64512994a3.jpg?aki_policy=small: HTTP Error 404: Not Found --> Lo eliminaré\n",
            "Error al bajar la URL https://a0.muscache.com/im/pictures/e546b52c-b798-41cb-9454-7c4b32801002.jpg?aki_policy=small: HTTP Error 404: Not Found --> Lo eliminaré\n",
            "Error al bajar la URL https://a0.muscache.com/im/pictures/58840686/d21916ce_original.jpg?aki_policy=small: HTTP Error 404: Not Found --> Lo eliminaré\n",
            "Error al bajar la URL https://a0.muscache.com/im/pictures/b81cb074-3d87-4c84-a055-f4b33a03dc81.jpg?aki_policy=small: HTTP Error 404: Not Found --> Lo eliminaré\n",
            "Error al bajar la URL https://a0.muscache.com/im/pictures/a6c017cc-9895-4991-8283-7e86102ec0ac.jpg?aki_policy=small: HTTP Error 404: Not Found --> Lo eliminaré\n",
            "Error al bajar la URL https://a0.muscache.com/im/pictures/77dc8ea9-cfb4-49e9-8e54-93673089ba91.jpg?aki_policy=small: HTTP Error 404: Not Found --> Lo eliminaré\n",
            "Error al bajar la URL https://a0.muscache.com/im/pictures/22277ab4-bf56-48e2-87e6-e42b7bd30aec.jpg?aki_policy=small: HTTP Error 404: Not Found --> Lo eliminaré\n",
            "El shape de X_val_img es -->  (223, 170)\n",
            "El shape de y_val_img es -->  (223,)\n"
          ]
        }
      ]
    },
    {
      "cell_type": "code",
      "source": [
        "# X_test e y_test\n",
        "X_test_img = pd.read_csv('test.csv')\n",
        "y_test_img = pd.read_csv('test_target.csv')\n",
        "Full_test_img = y_test_img.join(X_test_img)\n",
        "print(\"El shape del dataframe es --> \", Full_test_img.shape)\n",
        "print(\"El set completo es Full_val es --> \", Full_test_img.head(1))\n",
        "\n",
        "# Voy a disminuir a 300 imágenes para poder procesar en menos tiempo las imágenes\n",
        "Full_test_300 = Full_test_img.sample(n=300, random_state=5)\n",
        "\n",
        "# creo la carpeta donde guardaré las imágenes\n",
        "folder_path = \"test_image_folder\"\n",
        "if not os.path.exists(folder_path):\n",
        "    os.mkdir(folder_path)\n",
        "\n",
        "image_paths = []\n",
        "Full_test_filtered = Full_test_300\n",
        "for i, link in Full_test_300[\"Thumbnail Url\"].iteritems():\n",
        "    try:\n",
        "        # trato de bajar las imágenes\n",
        "        response = urllib.request.urlopen(str(link))\n",
        "        image_name = f\"image_{i}.jpg\"\n",
        "        image_path = os.path.join(folder_path, image_name)\n",
        "        with open(image_path, \"wb\") as f:\n",
        "            f.write(response.read())\n",
        "        image_paths.append(image_path)\n",
        "    except Exception as e:\n",
        "        # Si hay error, me avisa y continúa\n",
        "        print(f\"Error al bajar la URL {link}: {e} --> Lo eliminaré\")\n",
        "        Full_test_filtered.drop(Full_test_filtered[Full_test_filtered['Thumbnail Url'] == link].index, inplace = True) # --> Si encontrara error, lo elimino en Full_train_filtered\n",
        "        continue  \n",
        "\n",
        "Full_test_300 = Full_test_filtered\n",
        "# create a new dataframe with the image paths\n",
        "image_df = pd.DataFrame({\"image_path\": image_paths})\n",
        "\n",
        "# save the dataframe to a CSV file\n",
        "image_df.to_csv(\"test_image_paths.csv\", index=False)\n",
        "\n",
        "# Divido en X_test e y_test\n",
        "X_test_img = Full_test_filtered.loc[:, Full_test_filtered.columns != 'Price']\n",
        "X_test_img.to_csv(\"X_test_img.csv\", index=False)\n",
        "y_test_img = Full_test_filtered['Price']\n",
        "y_test_img.to_csv(\"y_test_img.csv\", index=False)\n",
        "\n",
        "print(\"El shape de X_test_img es --> \", X_test_img.shape)\n",
        "print(\"El shape de y_test_img es --> \", y_test_img.shape)"
      ],
      "metadata": {
        "colab": {
          "base_uri": "https://localhost:8080/"
        },
        "id": "2ROC7cFSoHxa",
        "outputId": "897b56fa-4c3a-4cbb-d9ae-db24f3b22e76"
      },
      "id": "2ROC7cFSoHxa",
      "execution_count": 13,
      "outputs": [
        {
          "output_type": "stream",
          "name": "stdout",
          "text": [
            "El shape del dataframe es -->  (1039, 171)\n",
            "El set completo es Full_val es -->     Price       ID   Host ID  Host Response Rate  Host Listings Count  \\\n",
            "0   17.0  6669701  29561497                 NaN                  1.0   \n",
            "\n",
            "   Host Total Listings Count  Zipcode  Latitude  Longitude  Accommodates  ...  \\\n",
            "0                        1.0    28005  40.40864  -3.710752             1  ...   \n",
            "\n",
            "   Bed Type_Airbed  Bed Type_Couch  Bed Type_Futon  Bed Type_Pull-out Sofa  \\\n",
            "0                0               0               0                       0   \n",
            "\n",
            "   Bed Type_Real Bed  Cancellation Policy_flexible  \\\n",
            "0                  1                             1   \n",
            "\n",
            "   Cancellation Policy_moderate  Cancellation Policy_strict  \\\n",
            "0                             0                           0   \n",
            "\n",
            "   Cancellation Policy_super_strict_30  Cancellation Policy_super_strict_60  \n",
            "0                                    0                                    0  \n",
            "\n",
            "[1 rows x 171 columns]\n",
            "Error al bajar la URL https://a0.muscache.com/im/pictures/2c9e0ace-6ce6-4ad7-8a92-88fc4e9c1b96.jpg?aki_policy=small: HTTP Error 404: Not Found --> Lo eliminaré\n",
            "Error al bajar la URL https://a0.muscache.com/im/pictures/6f3115f7-3492-44c7-b327-235a74c5e5b7.jpg?aki_policy=small: HTTP Error 404: Not Found --> Lo eliminaré\n",
            "Error al bajar la URL https://a0.muscache.com/im/pictures/08412ef9-f4cb-4a7f-9fc8-8b1930847618.jpg?aki_policy=small: HTTP Error 404: Not Found --> Lo eliminaré\n",
            "Error al bajar la URL https://a0.muscache.com/im/pictures/31f83fc3-be43-4420-be1f-384427b0d9e8.jpg?aki_policy=small: HTTP Error 404: Not Found --> Lo eliminaré\n",
            "Error al bajar la URL https://a0.muscache.com/im/pictures/7f359b63-c47d-4164-995c-b22a3305a43a.jpg?aki_policy=small: HTTP Error 404: Not Found --> Lo eliminaré\n",
            "Error al bajar la URL https://a0.muscache.com/im/pictures/ba5d2be6-891e-4376-80f8-218d9a248788.jpg?aki_policy=small: HTTP Error 404: Not Found --> Lo eliminaré\n",
            "Error al bajar la URL https://a0.muscache.com/im/pictures/b0111fb5-ea5a-410e-9445-5eb8a8be51d3.jpg?aki_policy=small: HTTP Error 404: Not Found --> Lo eliminaré\n",
            "Error al bajar la URL https://a0.muscache.com/im/pictures/c7059ca7-7fb1-4b76-8cf7-9ee3c3b09046.jpg?aki_policy=small: HTTP Error 404: Not Found --> Lo eliminaré\n",
            "Error al bajar la URL https://a0.muscache.com/im/pictures/393a12ab-2b58-402c-8236-62e83113b87d.jpg?aki_policy=small: HTTP Error 404: Not Found --> Lo eliminaré\n",
            "Error al bajar la URL https://a0.muscache.com/im/pictures/65e10eb7-fd3c-4106-a0bf-540f44764b25.jpg?aki_policy=small: HTTP Error 404: Not Found --> Lo eliminaré\n",
            "Error al bajar la URL https://a0.muscache.com/im/pictures/23376137/d85b5458_original.jpg?aki_policy=small: HTTP Error 404: Not Found --> Lo eliminaré\n",
            "Error al bajar la URL https://a0.muscache.com/im/pictures/82774284/003c93e1_original.jpg?aki_policy=small: HTTP Error 404: Not Found --> Lo eliminaré\n",
            "Error al bajar la URL https://a0.muscache.com/im/pictures/7362d53e-0c8c-444d-bb48-8425a56e3d74.jpg?aki_policy=small: HTTP Error 404: Not Found --> Lo eliminaré\n",
            "Error al bajar la URL https://a0.muscache.com/im/pictures/f028e9f7-dcbf-45af-9262-1400b8bbdf3c.jpg?aki_policy=small: HTTP Error 404: Not Found --> Lo eliminaré\n",
            "Error al bajar la URL https://a0.muscache.com/im/pictures/41617281/7653a6cb_original.jpg?aki_policy=small: HTTP Error 404: Not Found --> Lo eliminaré\n",
            "Error al bajar la URL https://a0.muscache.com/im/pictures/40a6ff1c-b748-475b-b8c6-6770366dca7f.jpg?aki_policy=small: HTTP Error 404: Not Found --> Lo eliminaré\n",
            "Error al bajar la URL https://a0.muscache.com/im/pictures/ed9424dc-c71b-4506-9b37-f69e6ce247f7.jpg?aki_policy=small: HTTP Error 404: Not Found --> Lo eliminaré\n",
            "Error al bajar la URL https://a0.muscache.com/im/pictures/0418d8b1-494b-47e6-af8d-8326f8be04a0.jpg?aki_policy=small: HTTP Error 404: Not Found --> Lo eliminaré\n",
            "Error al bajar la URL https://a0.muscache.com/im/pictures/b417b485-22e7-4fbe-9a58-aaa31ccc8521.jpg?aki_policy=small: HTTP Error 404: Not Found --> Lo eliminaré\n",
            "Error al bajar la URL https://a0.muscache.com/im/pictures/5fa9d1f8-5e37-4015-9773-2e2bf068310f.jpg?aki_policy=small: HTTP Error 404: Not Found --> Lo eliminaré\n",
            "Error al bajar la URL https://a0.muscache.com/im/pictures/677cabc8-788b-42e4-8589-d5b243345c00.jpg?aki_policy=small: HTTP Error 404: Not Found --> Lo eliminaré\n",
            "Error al bajar la URL https://a0.muscache.com/im/pictures/ab5a6f90-3f1c-48da-80f3-1200b01f150c.jpg?aki_policy=small: HTTP Error 404: Not Found --> Lo eliminaré\n",
            "Error al bajar la URL https://a0.muscache.com/im/pictures/784c4e67-f480-47cf-a317-980320848660.jpg?aki_policy=small: HTTP Error 404: Not Found --> Lo eliminaré\n",
            "Error al bajar la URL https://a0.muscache.com/im/pictures/bfaba9bd-c50d-429d-a965-d1f7af43e867.jpg?aki_policy=small: HTTP Error 404: Not Found --> Lo eliminaré\n",
            "Error al bajar la URL https://a0.muscache.com/im/pictures/e5e24dde-8c80-4255-b55e-39b5477130d3.jpg?aki_policy=small: HTTP Error 404: Not Found --> Lo eliminaré\n",
            "Error al bajar la URL https://a0.muscache.com/im/pictures/31c8d18b-04df-4778-b895-06a364db596e.jpg?aki_policy=small: HTTP Error 404: Not Found --> Lo eliminaré\n",
            "Error al bajar la URL https://a0.muscache.com/im/pictures/60570253/9e96f271_original.jpg?aki_policy=small: HTTP Error 404: Not Found --> Lo eliminaré\n",
            "Error al bajar la URL https://a0.muscache.com/im/pictures/b0277a01-a504-4575-8496-88e76321df8a.jpg?aki_policy=small: HTTP Error 404: Not Found --> Lo eliminaré\n",
            "Error al bajar la URL https://a0.muscache.com/im/pictures/39b958f2-8d4b-466e-ae21-84bb2a6a8c86.jpg?aki_policy=small: HTTP Error 404: Not Found --> Lo eliminaré\n",
            "Error al bajar la URL https://a0.muscache.com/im/pictures/100192967/fece7a80_original.jpg?aki_policy=small: HTTP Error 404: Not Found --> Lo eliminaré\n",
            "Error al bajar la URL https://a0.muscache.com/im/pictures/bee87aa3-a70d-420b-9a9d-af35bf2cc969.jpg?aki_policy=small: HTTP Error 404: Not Found --> Lo eliminaré\n",
            "Error al bajar la URL https://a0.muscache.com/im/pictures/798330ee-2c49-49a9-ae79-0c625e3d5a83.jpg?aki_policy=small: HTTP Error 404: Not Found --> Lo eliminaré\n",
            "Error al bajar la URL https://a0.muscache.com/im/pictures/640c17dd-8d59-4758-9fad-ea8ef90dfa6a.jpg?aki_policy=small: HTTP Error 404: Not Found --> Lo eliminaré\n",
            "Error al bajar la URL https://a0.muscache.com/im/pictures/0f95c862-481e-4867-a6d4-0cd2483249ae.jpg?aki_policy=small: HTTP Error 404: Not Found --> Lo eliminaré\n",
            "Error al bajar la URL https://a0.muscache.com/im/pictures/37d5fb12-88c7-4e68-8d12-01da2f852d00.jpg?aki_policy=small: HTTP Error 404: Not Found --> Lo eliminaré\n",
            "Error al bajar la URL https://a0.muscache.com/im/pictures/10536306/7785c610_original.jpg?aki_policy=small: HTTP Error 404: Not Found --> Lo eliminaré\n",
            "Error al bajar la URL https://a0.muscache.com/im/pictures/7cc1f2d3-7a69-4060-a3d5-20cf2b7c64ce.jpg?aki_policy=small: HTTP Error 404: Not Found --> Lo eliminaré\n",
            "Error al bajar la URL https://a0.muscache.com/im/pictures/870f3c4d-36c5-4b84-9232-1ecaea751569.jpg?aki_policy=small: HTTP Error 404: Not Found --> Lo eliminaré\n",
            "Error al bajar la URL https://a0.muscache.com/im/pictures/e92e88af-d8c9-4b23-9ad3-a3f624c1365c.jpg?aki_policy=small: HTTP Error 404: Not Found --> Lo eliminaré\n",
            "Error al bajar la URL https://a0.muscache.com/im/pictures/ab4000ca-b907-4094-a4f6-036c344c5fb7.jpg?aki_policy=small: HTTP Error 404: Not Found --> Lo eliminaré\n",
            "Error al bajar la URL https://a0.muscache.com/im/pictures/111498522/4fe21090_original.jpg?aki_policy=small: HTTP Error 404: Not Found --> Lo eliminaré\n",
            "Error al bajar la URL https://a0.muscache.com/im/pictures/91700921/04dce7d0_original.jpg?aki_policy=small: HTTP Error 404: Not Found --> Lo eliminaré\n",
            "Error al bajar la URL https://a0.muscache.com/im/pictures/79557346/6b23ec04_original.jpg?aki_policy=small: HTTP Error 404: Not Found --> Lo eliminaré\n",
            "Error al bajar la URL https://a0.muscache.com/im/pictures/44505752/a478f81b_original.jpg?aki_policy=small: HTTP Error 404: Not Found --> Lo eliminaré\n",
            "Error al bajar la URL https://a0.muscache.com/im/pictures/6d98ca56-79d4-4895-88f2-774f6e08a32a.jpg?aki_policy=small: HTTP Error 404: Not Found --> Lo eliminaré\n",
            "Error al bajar la URL https://a0.muscache.com/im/pictures/2f3e4039-bf96-4a9e-a62f-ba865beecd95.jpg?aki_policy=small: HTTP Error 404: Not Found --> Lo eliminaré\n",
            "Error al bajar la URL https://a0.muscache.com/im/pictures/16239263/54d8ec23_original.jpg?aki_policy=small: HTTP Error 404: Not Found --> Lo eliminaré\n",
            "Error al bajar la URL https://a0.muscache.com/im/pictures/29e75e47-8261-4304-849e-90ca7d589837.jpg?aki_policy=small: HTTP Error 404: Not Found --> Lo eliminaré\n",
            "Error al bajar la URL https://a0.muscache.com/im/pictures/283d911e-d068-4675-a74d-b94e81d341a1.jpg?aki_policy=small: HTTP Error 404: Not Found --> Lo eliminaré\n",
            "Error al bajar la URL https://a0.muscache.com/im/pictures/8f517666-b85a-478c-8972-3fbf84ad242e.jpg?aki_policy=small: HTTP Error 404: Not Found --> Lo eliminaré\n",
            "Error al bajar la URL https://a0.muscache.com/im/pictures/4fa91696-454e-41b5-b052-a37857a1a553.jpg?aki_policy=small: HTTP Error 404: Not Found --> Lo eliminaré\n",
            "Error al bajar la URL https://a0.muscache.com/im/pictures/6a0882b1-ceb9-4e50-8115-fd483a711053.jpg?aki_policy=small: HTTP Error 404: Not Found --> Lo eliminaré\n",
            "Error al bajar la URL https://a0.muscache.com/im/pictures/d5538498-ca62-4d38-9f52-a4ee2a8443c1.jpg?aki_policy=small: HTTP Error 404: Not Found --> Lo eliminaré\n",
            "Error al bajar la URL https://a0.muscache.com/im/pictures/c05676fb-a6bf-4410-b3c7-7c0e4d8a4528.jpg?aki_policy=small: HTTP Error 404: Not Found --> Lo eliminaré\n",
            "Error al bajar la URL https://a0.muscache.com/im/pictures/d79fff93-073a-4470-a5ae-ed47357fd071.jpg?aki_policy=small: HTTP Error 404: Not Found --> Lo eliminaré\n",
            "Error al bajar la URL https://a0.muscache.com/im/pictures/416eec9f-10ee-4a93-9cef-2363ccf5ee60.jpg?aki_policy=small: HTTP Error 404: Not Found --> Lo eliminaré\n",
            "Error al bajar la URL https://a0.muscache.com/im/pictures/6d301623-b56f-4407-9bf9-c09ebcffcf38.jpg?aki_policy=small: HTTP Error 404: Not Found --> Lo eliminaré\n",
            "Error al bajar la URL https://a0.muscache.com/im/pictures/111283894/cd6cdbef_original.jpg?aki_policy=small: HTTP Error 404: Not Found --> Lo eliminaré\n",
            "Error al bajar la URL https://a0.muscache.com/im/pictures/4c207e2b-8062-49f6-b39e-43a618fd8baf.jpg?aki_policy=small: HTTP Error 404: Not Found --> Lo eliminaré\n",
            "Error al bajar la URL https://a0.muscache.com/im/pictures/2349405d-8db2-4d1b-a23f-f94454c87e46.jpg?aki_policy=small: HTTP Error 404: Not Found --> Lo eliminaré\n",
            "Error al bajar la URL https://a0.muscache.com/im/pictures/58529be3-b2da-494a-9ad2-d8a22e058cda.jpg?aki_policy=small: HTTP Error 404: Not Found --> Lo eliminaré\n",
            "Error al bajar la URL https://a0.muscache.com/im/pictures/1e8ce3d9-a0d9-4fc9-94b0-fba41f9b7108.jpg?aki_policy=small: HTTP Error 404: Not Found --> Lo eliminaré\n",
            "Error al bajar la URL https://a0.muscache.com/im/pictures/c873576f-16d8-4221-903e-3911cb46dc87.jpg?aki_policy=small: HTTP Error 404: Not Found --> Lo eliminaré\n",
            "Error al bajar la URL https://a0.muscache.com/im/pictures/fec6623a-ea6a-4aa2-874a-7deccff74129.jpg?aki_policy=small: HTTP Error 404: Not Found --> Lo eliminaré\n",
            "El shape de X_test_img es -->  (236, 170)\n",
            "El shape de y_test_img es -->  (236,)\n"
          ]
        }
      ]
    },
    {
      "cell_type": "markdown",
      "source": [
        "## 8. Voy a diseñar el modelo para las imágenes"
      ],
      "metadata": {
        "id": "GLRPxMWahxKs"
      },
      "id": "GLRPxMWahxKs"
    },
    {
      "cell_type": "markdown",
      "source": [
        "Inicio por cargar los datos del **disco!!!**\n",
        "\n",
        "Normalizo Precios"
      ],
      "metadata": {
        "id": "ac82LzepppI3"
      },
      "id": "ac82LzepppI3"
    },
    {
      "cell_type": "code",
      "source": [
        "!ls -lh"
      ],
      "metadata": {
        "id": "q7CQqQDkryr0"
      },
      "id": "q7CQqQDkryr0",
      "execution_count": null,
      "outputs": []
    },
    {
      "cell_type": "code",
      "source": [
        "target_scaler = MinMaxScaler()\n",
        "\n",
        "# Carga los path y precios del dataframe para Train\n",
        "df = pd.read_csv('image_paths.csv')\n",
        "image_paths = df['image_path'].values\n",
        "precios = pd.read_csv('y_train_img.csv').values\n",
        "\n",
        "# Carga los path y precios del dataframe para Val\n",
        "df = pd.read_csv('val_image_paths.csv')\n",
        "image_paths_val = df['image_path'].values\n",
        "precios_val = pd.read_csv('y_val_img.csv').values\n",
        "\n",
        "# Carga los path y precios del dataframe para Test\n",
        "df = pd.read_csv('test_image_paths.csv')\n",
        "image_paths_test = df['image_path'].values\n",
        "precios_test = pd.read_csv('y_test_img.csv').values\n",
        "\n",
        "\n",
        "# Normalizo los precios \n",
        "precios = target_scaler.fit_transform(precios.reshape(-1, 1))\n",
        "precios_val = target_scaler.fit_transform(precios_val.reshape(-1, 1))\n",
        "precios_test = target_scaler.fit_transform(precios_test.reshape(-1, 1))\n",
        "\n",
        "\n"
      ],
      "metadata": {
        "id": "YHgsJ1rVNnjr"
      },
      "id": "YHgsJ1rVNnjr",
      "execution_count": 5,
      "outputs": []
    },
    {
      "cell_type": "markdown",
      "source": [
        "Cargo las imágenes de X_train_img"
      ],
      "metadata": {
        "id": "ll_90L1gqhHx"
      },
      "id": "ll_90L1gqhHx"
    },
    {
      "cell_type": "code",
      "source": [
        "# cargo la imágenes a memoria\n",
        "images = []\n",
        "for path in image_paths:\n",
        "    image = Image.open(path).resize((33, 33))\n",
        "    image = np.array(image) / 32.0  # normalize pixel values\n",
        "    images.append(image)\n",
        "images = np.array(images)"
      ],
      "metadata": {
        "id": "rq7_L7cWqhaI"
      },
      "id": "rq7_L7cWqhaI",
      "execution_count": 6,
      "outputs": []
    },
    {
      "cell_type": "markdown",
      "source": [
        "Cargo las imágenes de X_val_img "
      ],
      "metadata": {
        "id": "_Y32cGipzLXv"
      },
      "id": "_Y32cGipzLXv"
    },
    {
      "cell_type": "code",
      "source": [
        "# cargo la imágenes validación a memoria\n",
        "images_val = []\n",
        "for path in image_paths_val:\n",
        "    image = Image.open(path).resize((33, 33))\n",
        "    image = np.array(image) / 32.0  # normalize pixel values\n",
        "    images_val.append(image)\n",
        "images_val = np.array(images_val)"
      ],
      "metadata": {
        "id": "p3D6kPwMzKJW"
      },
      "id": "p3D6kPwMzKJW",
      "execution_count": 7,
      "outputs": []
    },
    {
      "cell_type": "code",
      "source": [
        "def train_network_img(num_epochs, batch_size, optimizer):\n",
        "\n",
        "  # Defino la arquitectura neuronal \n",
        "  image_input = layers.Input(shape=[33,33,3])\n",
        "  conv1 = layers.Conv2D(256, (3, 3), activation='relu')(image_input)\n",
        "  conv2 = layers.Conv2D(128, (3, 3), activation='relu')(conv1)\n",
        "  conv3 = layers.Conv2D(32, (3, 3), activation='relu')(conv2)\n",
        "  #conv1 = layers.Conv2D(32, (3, 3), activation='relu')(image_input)\n",
        "  #conv2 = layers.Conv2D(64, (3, 3), activation='relu')(conv1)\n",
        "  #conv3 = layers.Conv2D(128, (3, 3), activation='relu')(conv2)\n",
        "  flatten = layers.Flatten()(conv3)\n",
        "  dense1 = layers.Dense(64, activation='relu')(flatten)\n",
        "  dense2 = layers.Dense(1, activation='sigmoid')(dense1)\n",
        "\n",
        "  # Creo el modelo\n",
        "  image_model = models.Model(inputs=image_input, outputs=dense2)\n",
        "  image_model.compile(loss='mse', optimizer=optimizer, metrics='accuracy')\n",
        "\n",
        "  # Entreno el modelo \n",
        "  H = image_model.fit(images, precios, validation_data=(images_val, precios_val), epochs=num_epochs, batch_size=batch_size)\n",
        "  # model.fit(X_train, y_train, validation_data=(X_val, y_val), epochs=num_epochs, batch_size=batch_size)\n",
        "\n",
        "\n",
        "\n",
        "  # Muestro gráfica de accuracy y losses\n",
        "  plt.style.use(\"ggplot\")\n",
        "  plt.figure()\n",
        "  plt.plot(np.arange(0, num_epochs), H.history[\"accuracy\"], label=\"accuracy\")\n",
        "  plt.plot(np.arange(0, num_epochs), H.history[\"val_accuracy\"], label=\"val_accuracy\")\n",
        "  plt.plot(np.arange(0, num_epochs), H.history[\"loss\"], label=\"loss\")\n",
        "  plt.plot(np.arange(0, num_epochs), H.history[\"val_loss\"], label=\"val_loss\")\n",
        "  plt.title(\"Accuracy\")\n",
        "  plt.title(\"Loss\")\n",
        "  plt.xlabel(\"Epoch #\")\n",
        "  plt.ylabel(\"Accuracy/Loss\")\n",
        "  plt.legend()\n",
        "\n",
        "  return(image_model)\n"
      ],
      "metadata": {
        "id": "T1Gjsx2rjQXc"
      },
      "id": "T1Gjsx2rjQXc",
      "execution_count": 23,
      "outputs": []
    },
    {
      "cell_type": "code",
      "source": [
        " # vamos a probar nuestra red con decay\n",
        "\n",
        "learning_rate = 0.01\n",
        "batch_size = 256\n",
        "num_epochs = 20\n",
        "#optimizer = tf.keras.optimizers.RMSprop(learning_rate=learning_rate)\n",
        "optimizer = tf.keras.optimizers.Adam(learning_rate=learning_rate)\n",
        "#optimizer = tf.keras.optimizers.SGD(learning_rate=learning_rate)\n",
        "input_shape = [images.shape[1]]\n",
        "\n",
        "image_model = train_network_img(num_epochs, batch_size, optimizer)\n",
        "#train_network_1(num_epochs, batch_size, optimizer)"
      ],
      "metadata": {
        "id": "kOYDHnmRNnmb",
        "colab": {
          "base_uri": "https://localhost:8080/"
        },
        "outputId": "39c2c413-9528-4bce-f8e0-68bd038aa88d"
      },
      "id": "kOYDHnmRNnmb",
      "execution_count": null,
      "outputs": [
        {
          "output_type": "stream",
          "name": "stdout",
          "text": [
            "Epoch 1/20\n",
            "2/2 [==============================] - 16s 8s/step - loss: 0.0831 - accuracy: 0.0041 - val_loss: 0.0218 - val_accuracy: 0.0135\n",
            "Epoch 2/20\n",
            "2/2 [==============================] - 15s 8s/step - loss: 0.0351 - accuracy: 0.0041 - val_loss: 0.0218 - val_accuracy: 0.0135\n",
            "Epoch 3/20\n",
            "2/2 [==============================] - 15s 8s/step - loss: 0.0351 - accuracy: 0.0041 - val_loss: 0.0218 - val_accuracy: 0.0135\n",
            "Epoch 4/20\n",
            "2/2 [==============================] - 15s 8s/step - loss: 0.0351 - accuracy: 0.0041 - val_loss: 0.0218 - val_accuracy: 0.0135\n",
            "Epoch 5/20\n",
            "2/2 [==============================] - 18s 11s/step - loss: 0.0351 - accuracy: 0.0041 - val_loss: 0.0218 - val_accuracy: 0.0135\n",
            "Epoch 6/20\n",
            "2/2 [==============================] - 15s 8s/step - loss: 0.0351 - accuracy: 0.0041 - val_loss: 0.0218 - val_accuracy: 0.0135\n",
            "Epoch 7/20\n",
            "2/2 [==============================] - 15s 8s/step - loss: 0.0351 - accuracy: 0.0041 - val_loss: 0.0218 - val_accuracy: 0.0135\n",
            "Epoch 8/20\n",
            "2/2 [==============================] - 15s 7s/step - loss: 0.0351 - accuracy: 0.0041 - val_loss: 0.0218 - val_accuracy: 0.0135\n",
            "Epoch 9/20\n",
            "2/2 [==============================] - 15s 8s/step - loss: 0.0351 - accuracy: 0.0041 - val_loss: 0.0218 - val_accuracy: 0.0135\n",
            "Epoch 10/20\n",
            "2/2 [==============================] - ETA: 0s - loss: 0.0351 - accuracy: 0.0041"
          ]
        }
      ]
    },
    {
      "cell_type": "markdown",
      "source": [
        "Evalúo ahora con test"
      ],
      "metadata": {
        "id": "Rls9xJ0l0VMf"
      },
      "id": "Rls9xJ0l0VMf"
    },
    {
      "cell_type": "code",
      "source": [
        "# cargo la imágenes validación a memoria\n",
        "images_test = []\n",
        "for path in image_paths_test:\n",
        "    image = Image.open(path).resize((256, 256))\n",
        "    image = np.array(image) / 255.0  # normalize pixel values\n",
        "    images.append(image)\n",
        "images_test = np.array(images_test)"
      ],
      "metadata": {
        "id": "4CmyT9nO0nhq"
      },
      "id": "4CmyT9nO0nhq",
      "execution_count": null,
      "outputs": []
    },
    {
      "cell_type": "code",
      "source": [
        "  # Evaluando el modelo de predicción con las imágenes de test\n",
        "  print(\"[INFO]: Evaluando red neuronal...\")\n",
        "  val_pred = model.predict(images_test, batch_size=batch_size)\n",
        "  delta = ((val_pred.flatten() - y_test) *100)/y_test\n",
        "  print(\"La media de delta es --> \", delta.mean())\n",
        "  model.summary()"
      ],
      "metadata": {
        "id": "O2GNfP4mTQyc"
      },
      "id": "O2GNfP4mTQyc",
      "execution_count": null,
      "outputs": []
    },
    {
      "cell_type": "code",
      "source": [],
      "metadata": {
        "id": "HDkXKNwKTQ0-"
      },
      "id": "HDkXKNwKTQ0-",
      "execution_count": null,
      "outputs": []
    },
    {
      "cell_type": "code",
      "source": [],
      "metadata": {
        "id": "xU4tZJarTQ3j"
      },
      "id": "xU4tZJarTQ3j",
      "execution_count": null,
      "outputs": []
    },
    {
      "cell_type": "code",
      "source": [],
      "metadata": {
        "id": "0zAHusDoTQ6U"
      },
      "id": "0zAHusDoTQ6U",
      "execution_count": null,
      "outputs": []
    },
    {
      "cell_type": "code",
      "source": [],
      "metadata": {
        "id": "BZNHCu6CTQ80"
      },
      "id": "BZNHCu6CTQ80",
      "execution_count": null,
      "outputs": []
    },
    {
      "cell_type": "code",
      "source": [],
      "metadata": {
        "id": "6jdo0sEiTRKc"
      },
      "id": "6jdo0sEiTRKc",
      "execution_count": null,
      "outputs": []
    },
    {
      "cell_type": "code",
      "source": [],
      "metadata": {
        "id": "lEh4j51-TRND"
      },
      "id": "lEh4j51-TRND",
      "execution_count": null,
      "outputs": []
    },
    {
      "cell_type": "code",
      "source": [],
      "metadata": {
        "id": "k0LtErMhTRPu"
      },
      "id": "k0LtErMhTRPu",
      "execution_count": null,
      "outputs": []
    },
    {
      "cell_type": "code",
      "source": [],
      "metadata": {
        "id": "s4S2ioFfTRST"
      },
      "id": "s4S2ioFfTRST",
      "execution_count": null,
      "outputs": []
    },
    {
      "cell_type": "code",
      "source": [],
      "metadata": {
        "id": "wgeofWk3TRVJ"
      },
      "id": "wgeofWk3TRVJ",
      "execution_count": null,
      "outputs": []
    },
    {
      "cell_type": "code",
      "source": [],
      "metadata": {
        "id": "vzcnRv2jTRXr"
      },
      "id": "vzcnRv2jTRXr",
      "execution_count": null,
      "outputs": []
    },
    {
      "cell_type": "code",
      "source": [],
      "metadata": {
        "id": "ReIBlnhETRae"
      },
      "id": "ReIBlnhETRae",
      "execution_count": null,
      "outputs": []
    },
    {
      "cell_type": "code",
      "source": [],
      "metadata": {
        "id": "mZEZowJjNnw-"
      },
      "id": "mZEZowJjNnw-",
      "execution_count": null,
      "outputs": []
    },
    {
      "cell_type": "code",
      "source": [],
      "metadata": {
        "id": "lKlOO80YNn0W"
      },
      "id": "lKlOO80YNn0W",
      "execution_count": null,
      "outputs": []
    },
    {
      "cell_type": "code",
      "source": [],
      "metadata": {
        "id": "zpdxQoevNn3n"
      },
      "id": "zpdxQoevNn3n",
      "execution_count": null,
      "outputs": []
    },
    {
      "cell_type": "code",
      "source": [],
      "metadata": {
        "id": "rOtYgqe4gHG6"
      },
      "id": "rOtYgqe4gHG6",
      "execution_count": null,
      "outputs": []
    },
    {
      "cell_type": "code",
      "source": [],
      "metadata": {
        "id": "oyaeeiwegHJy"
      },
      "id": "oyaeeiwegHJy",
      "execution_count": null,
      "outputs": []
    },
    {
      "cell_type": "code",
      "source": [],
      "metadata": {
        "id": "V_ERRbZLgHMh"
      },
      "id": "V_ERRbZLgHMh",
      "execution_count": null,
      "outputs": []
    },
    {
      "cell_type": "code",
      "source": [],
      "metadata": {
        "id": "t401AV0NgHSG"
      },
      "id": "t401AV0NgHSG",
      "execution_count": null,
      "outputs": []
    },
    {
      "cell_type": "code",
      "source": [],
      "metadata": {
        "id": "kJVowbWMgHaT"
      },
      "id": "kJVowbWMgHaT",
      "execution_count": null,
      "outputs": []
    },
    {
      "cell_type": "code",
      "source": [],
      "metadata": {
        "id": "UF9BPtdMgHcz"
      },
      "id": "UF9BPtdMgHcz",
      "execution_count": null,
      "outputs": []
    },
    {
      "cell_type": "code",
      "source": [],
      "metadata": {
        "id": "HpTJsUEUgHfY"
      },
      "id": "HpTJsUEUgHfY",
      "execution_count": null,
      "outputs": []
    },
    {
      "cell_type": "code",
      "source": [],
      "metadata": {
        "id": "j62ESxvDgHiA"
      },
      "id": "j62ESxvDgHiA",
      "execution_count": null,
      "outputs": []
    },
    {
      "cell_type": "code",
      "source": [],
      "metadata": {
        "id": "3_B2nkkZgHkn"
      },
      "id": "3_B2nkkZgHkn",
      "execution_count": null,
      "outputs": []
    },
    {
      "cell_type": "code",
      "source": [],
      "metadata": {
        "id": "1GSO1Wb5gHnd"
      },
      "id": "1GSO1Wb5gHnd",
      "execution_count": null,
      "outputs": []
    },
    {
      "cell_type": "code",
      "source": [],
      "metadata": {
        "id": "feADtUSLgHp8"
      },
      "id": "feADtUSLgHp8",
      "execution_count": null,
      "outputs": []
    },
    {
      "cell_type": "code",
      "source": [
        "# Hiper-parámetros de nuestra red\n",
        "lr = 0.005\n",
        "n_epochs = 60\n",
        "\n",
        "\n",
        "# Definición de la arquitectura\n",
        "model = keras.models.Sequential([\n",
        "    #keras.layers.Dense(114, activation=\"relu\", input_shape=X_train.shape[1:], kernel_initializer='random_uniform', bias_initializer='zeros'),\n",
        "    #keras.layers.Dense(164, activation=\"relu\", kernel_initializer='random_uniform', bias_initializer='zeros'),\n",
        "    keras.layers.Dense(82, activation=\"relu\"),\n",
        "    #keras.layers.Dense(41, activation=\"relu\"),\n",
        "    keras.layers.Dense(12, activation=\"relu\"),\n",
        "    keras.layers.Dense(1, activation=\"linear\")\n",
        "])\n",
        "\n",
        "\n",
        "# Elijo entre SGD o Adam \n",
        "learn_rate = keras.optimizers.SGD(learning_rate=lr)\n",
        "#learn_rate = keras.optimizers.Adam(learning_rate=lr)\n",
        "\n",
        "# Compile the model\n",
        "model.compile(loss=\"mean_squared_error\", optimizer=learn_rate, metrics=['accuracy'])\n",
        "\n"
      ],
      "metadata": {
        "id": "25bRmYWzNWly"
      },
      "id": "25bRmYWzNWly",
      "execution_count": null,
      "outputs": []
    },
    {
      "cell_type": "code",
      "source": [
        "# definimos la función para entrenar nuestra red con los parámetros deseados\n",
        "def train_network_decay(learning_rate, lr_decay, num_epochs):\n",
        "  \n",
        "  # Implementamos la red empleando Keras\n",
        "  model = keras.models.Sequential([\n",
        "    #keras.layers.Dense(114, activation=\"relu\", input_shape=X_train.shape[1:], kernel_initializer='random_uniform', bias_initializer='zeros'),\n",
        "    #keras.layers.Dense(164, activation=\"relu\", kernel_initializer='random_uniform', bias_initializer='zeros'),\n",
        "    keras.layers.Dense(82, activation=\"relu\"),\n",
        "    #keras.layers.Dense(41, activation=\"relu\"),\n",
        "    keras.layers.Dense(12, activation=\"relu\"),\n",
        "    keras.layers.Dense(1, activation=\"linear\")\n",
        "    ])\n",
        "  \n",
        "  # Compile the model\n",
        "  model.compile(loss=\"mean_squared_error\", optimizer=learn_rate, metrics=['accuracy'])\n",
        "  # Entrenando la solución\n",
        "  H = model.fit(X_train, y_train, validation_data=(X_val, y_val), epochs=num_epochs)  #(X)\n",
        "\n",
        "  # Evaluando el modelo de predicción con las imágenes de test\n",
        "  print(\"[INFO]: Evaluando red neuronal...\")\n",
        "  predictions = model.predict(X_test, batch_size=batch_size)  #(X)\n",
        "  print(classification_report(y_test.argmax(axis=1), predictions.argmax(axis=1)))\n",
        "\n",
        "  # Muestro gráfica de accuracy y losses\n",
        "  plt.style.use(\"ggplot\")\n",
        "  plt.figure()\n",
        "  plt.plot(np.arange(0, num_epochs), H.history[\"loss\"], label=\"train_loss\")\n",
        "  plt.plot(np.arange(0, num_epochs), H.history[\"val_loss\"], label=\"val_loss\")\n",
        "  plt.plot(np.arange(0, num_epochs), H.history[\"accuracy\"], label=\"train_acc\")\n",
        "  plt.plot(np.arange(0, num_epochs), H.history[\"val_accuracy\"], label=\"val_acc\")\n",
        "  plt.title(\"Training Loss and Accuracy\")\n",
        "  plt.xlabel(\"Epoch #\")\n",
        "  plt.ylabel(\"Loss/Accuracy\")\n",
        "  plt.legend()"
      ],
      "metadata": {
        "id": "HLNkU2DDZ1ez"
      },
      "id": "HLNkU2DDZ1ez",
      "execution_count": null,
      "outputs": []
    },
    {
      "cell_type": "code",
      "source": [
        "# vamos a probar nuestra red con decay\n",
        "learning_rate = 0.1\n",
        "lr_decay = 1e-4\n",
        "num_epochs = 60\n",
        "train_network_decay(learning_rate, lr_decay, num_epochs)"
      ],
      "metadata": {
        "colab": {
          "base_uri": "https://localhost:8080/",
          "height": 339
        },
        "id": "HGKucVDIbG-p",
        "outputId": "0ff3defa-7552-4152-d51c-5ef933f32064"
      },
      "id": "HGKucVDIbG-p",
      "execution_count": null,
      "outputs": [
        {
          "output_type": "error",
          "ename": "NameError",
          "evalue": "ignored",
          "traceback": [
            "\u001b[0;31m---------------------------------------------------------------------------\u001b[0m",
            "\u001b[0;31mNameError\u001b[0m                                 Traceback (most recent call last)",
            "\u001b[0;32m<ipython-input-103-7388ff49b86d>\u001b[0m in \u001b[0;36m<module>\u001b[0;34m\u001b[0m\n\u001b[1;32m      3\u001b[0m \u001b[0mlr_decay\u001b[0m \u001b[0;34m=\u001b[0m \u001b[0;36m1e-4\u001b[0m\u001b[0;34m\u001b[0m\u001b[0;34m\u001b[0m\u001b[0m\n\u001b[1;32m      4\u001b[0m \u001b[0mnum_epochs\u001b[0m \u001b[0;34m=\u001b[0m \u001b[0;36m60\u001b[0m\u001b[0;34m\u001b[0m\u001b[0;34m\u001b[0m\u001b[0m\n\u001b[0;32m----> 5\u001b[0;31m \u001b[0mtrain_network_decay\u001b[0m\u001b[0;34m(\u001b[0m\u001b[0mlearning_rate\u001b[0m\u001b[0;34m,\u001b[0m \u001b[0mlr_decay\u001b[0m\u001b[0;34m,\u001b[0m \u001b[0mnum_epochs\u001b[0m\u001b[0;34m)\u001b[0m\u001b[0;34m\u001b[0m\u001b[0;34m\u001b[0m\u001b[0m\n\u001b[0m",
            "\u001b[0;32m<ipython-input-102-a92d87baa08e>\u001b[0m in \u001b[0;36mtrain_network_decay\u001b[0;34m(learning_rate, lr_decay, num_epochs)\u001b[0m\n\u001b[1;32m     13\u001b[0m \u001b[0;34m\u001b[0m\u001b[0m\n\u001b[1;32m     14\u001b[0m   \u001b[0;31m# Compile the model\u001b[0m\u001b[0;34m\u001b[0m\u001b[0;34m\u001b[0m\u001b[0;34m\u001b[0m\u001b[0m\n\u001b[0;32m---> 15\u001b[0;31m   \u001b[0mmodel\u001b[0m\u001b[0;34m.\u001b[0m\u001b[0mcompile\u001b[0m\u001b[0;34m(\u001b[0m\u001b[0mloss\u001b[0m\u001b[0;34m=\u001b[0m\u001b[0;34m\"mean_squared_error\"\u001b[0m\u001b[0;34m,\u001b[0m \u001b[0moptimizer\u001b[0m\u001b[0;34m=\u001b[0m\u001b[0mlearn_rate\u001b[0m\u001b[0;34m,\u001b[0m \u001b[0mmetrics\u001b[0m\u001b[0;34m=\u001b[0m\u001b[0;34m[\u001b[0m\u001b[0;34m'accuracy'\u001b[0m\u001b[0;34m]\u001b[0m\u001b[0;34m)\u001b[0m\u001b[0;34m\u001b[0m\u001b[0;34m\u001b[0m\u001b[0m\n\u001b[0m\u001b[1;32m     16\u001b[0m   \u001b[0;31m# Entrenando la solución\u001b[0m\u001b[0;34m\u001b[0m\u001b[0;34m\u001b[0m\u001b[0;34m\u001b[0m\u001b[0m\n\u001b[1;32m     17\u001b[0m   \u001b[0mH\u001b[0m \u001b[0;34m=\u001b[0m \u001b[0mmodel\u001b[0m\u001b[0;34m.\u001b[0m\u001b[0mfit\u001b[0m\u001b[0;34m(\u001b[0m\u001b[0mX_train\u001b[0m\u001b[0;34m,\u001b[0m \u001b[0my_train\u001b[0m\u001b[0;34m,\u001b[0m \u001b[0mvalidation_data\u001b[0m\u001b[0;34m=\u001b[0m\u001b[0;34m(\u001b[0m\u001b[0mX_val\u001b[0m\u001b[0;34m,\u001b[0m \u001b[0my_val\u001b[0m\u001b[0;34m)\u001b[0m\u001b[0;34m,\u001b[0m \u001b[0mepochs\u001b[0m\u001b[0;34m=\u001b[0m\u001b[0mnum_epochs\u001b[0m\u001b[0;34m)\u001b[0m  \u001b[0;31m#(X)\u001b[0m\u001b[0;34m\u001b[0m\u001b[0;34m\u001b[0m\u001b[0m\n",
            "\u001b[0;31mNameError\u001b[0m: name 'learn_rate' is not defined"
          ]
        }
      ]
    },
    {
      "cell_type": "code",
      "source": [
        "X_val = pd.read_csv('validation.csv')\n",
        "X_val = X_val.drop(columns=columnas_objeto)\n",
        "lista_columnas = X_val.columns.values\n",
        "y_val = pd.read_csv('validation_target.csv')\n",
        "for name in lista_columnas:\n",
        "    X_val[name].fillna(X_val[name].mode()[0], inplace=True)\n",
        "\n",
        "\n",
        "\n",
        "X_val.shape\n"
      ],
      "metadata": {
        "colab": {
          "base_uri": "https://localhost:8080/"
        },
        "id": "rYPgPD9RNWo5",
        "outputId": "e72a25ba-c472-4551-8fc6-086e29febc2b"
      },
      "id": "rYPgPD9RNWo5",
      "execution_count": null,
      "outputs": [
        {
          "output_type": "execute_result",
          "data": {
            "text/plain": [
              "(1282, 164)"
            ]
          },
          "metadata": {},
          "execution_count": 223
        }
      ]
    },
    {
      "cell_type": "code",
      "source": [
        "# Create the scaler objects\n",
        "float_scaler = MinMaxScaler()\n",
        "int_scaler = StandardScaler()\n",
        "target_scaler = MinMaxScaler()\n",
        "\n",
        "X_val[columnas_float64.columns] = float_scaler.fit_transform(X_val[columnas_float64.columns])\n",
        "\n",
        "X_val[columnas_Int64.columns] = int_scaler.fit_transform(X_val[columnas_Int64.columns])\n",
        "\n",
        "y_val = y_val.values.reshape(-1, 1)  # reshape y_train para tener un arreglo 2D\n",
        "y_val = target_scaler.fit_transform(y_val)"
      ],
      "metadata": {
        "id": "PFXA3YhN6Jd7"
      },
      "id": "PFXA3YhN6Jd7",
      "execution_count": null,
      "outputs": []
    },
    {
      "cell_type": "code",
      "source": [
        "X_val.dtypes"
      ],
      "metadata": {
        "colab": {
          "base_uri": "https://localhost:8080/"
        },
        "id": "FGXyGd3SkZl1",
        "outputId": "ec0491be-babe-45fa-91ba-cdb34e4a4d28"
      },
      "id": "FGXyGd3SkZl1",
      "execution_count": null,
      "outputs": [
        {
          "output_type": "execute_result",
          "data": {
            "text/plain": [
              "ID                                                    float64\n",
              "Host ID                                               float64\n",
              "Host Response Rate                                    float64\n",
              "Host Listings Count                                   float64\n",
              "Host Total Listings Count                             float64\n",
              "Zipcode                                               float64\n",
              "Latitude                                              float64\n",
              "Longitude                                             float64\n",
              "Accommodates                                          float64\n",
              "Bathrooms                                             float64\n",
              "Bedrooms                                              float64\n",
              "Beds                                                  float64\n",
              "Guests Included                                       float64\n",
              "Extra People                                          float64\n",
              "Minimum Nights                                        float64\n",
              "Maximum Nights                                        float64\n",
              "Availability 30                                       float64\n",
              "Availability 60                                       float64\n",
              "Availability 90                                       float64\n",
              "Availability 365                                      float64\n",
              "Number of Reviews                                     float64\n",
              "Review Scores Rating                                  float64\n",
              "Review Scores Accuracy                                float64\n",
              "Review Scores Cleanliness                             float64\n",
              "Review Scores Checkin                                 float64\n",
              "Review Scores Communication                           float64\n",
              "Review Scores Location                                float64\n",
              "Review Scores Value                                   float64\n",
              "Calculated host listings count                        float64\n",
              "Reviews per Month                                     float64\n",
              "Host Since_year                                       float64\n",
              "Host Since_month                                      float64\n",
              "Host Since_day                                        float64\n",
              "First Review_year                                     float64\n",
              "First Review_month                                    float64\n",
              "First Review_day                                      float64\n",
              "Last Review_year                                      float64\n",
              "Last Review_month                                     float64\n",
              "Last Review_day                                       float64\n",
              "Host Response Time_a few days or more                 float64\n",
              "Host Response Time_within a day                       float64\n",
              "Host Response Time_within a few hours                 float64\n",
              "Host Response Time_within an hour                     float64\n",
              "Neighbourhood_Acacias                                 float64\n",
              "Neighbourhood_Adelfas                                 float64\n",
              "Neighbourhood_Almagro                                 float64\n",
              "Neighbourhood_Almenara                                float64\n",
              "Neighbourhood_Aluche                                  float64\n",
              "Neighbourhood_Arapiles                                float64\n",
              "Neighbourhood_Arganzuela                              float64\n",
              "Neighbourhood_Argüelles                               float64\n",
              "Neighbourhood_Atocha                                  float64\n",
              "Neighbourhood_Barajas                                 float64\n",
              "Neighbourhood_Bellas Vistas                           float64\n",
              "Neighbourhood_Berruguete                              float64\n",
              "Neighbourhood_Carabanchel                             float64\n",
              "Neighbourhood_Castellana                              float64\n",
              "Neighbourhood_Castilla                                float64\n",
              "Neighbourhood_Castillejos                             float64\n",
              "Neighbourhood_Centro                                  float64\n",
              "Neighbourhood_Chamberí                                float64\n",
              "Neighbourhood_Ciudad Jardin                           float64\n",
              "Neighbourhood_Ciudad Lineal                           float64\n",
              "Neighbourhood_Cortes                                  float64\n",
              "Neighbourhood_Cuatro Caminos                          float64\n",
              "Neighbourhood_Delicias                                float64\n",
              "Neighbourhood_El Tréntaiseis                          float64\n",
              "Neighbourhood_El Viso                                 float64\n",
              "Neighbourhood_Embajadores                             float64\n",
              "Neighbourhood_Estrella                                float64\n",
              "Neighbourhood_Fuencarral-El Pardo                     float64\n",
              "Neighbourhood_Fuencarral-el Pardo                     float64\n",
              "Neighbourhood_Fuente del Berro                        float64\n",
              "Neighbourhood_Gaztambide                              float64\n",
              "Neighbourhood_Goya                                    float64\n",
              "Neighbourhood_Guindalera                              float64\n",
              "Neighbourhood_Hispanoamérica                          float64\n",
              "Neighbourhood_Hortaleza                               float64\n",
              "Neighbourhood_Ibiza                                   float64\n",
              "Neighbourhood_Imperial                                float64\n",
              "Neighbourhood_Jerónimos                               float64\n",
              "Neighbourhood_Justicia                                float64\n",
              "Neighbourhood_La Chopera                              float64\n",
              "Neighbourhood_La Latina                               float64\n",
              "Neighbourhood_Legazpi                                 float64\n",
              "Neighbourhood_Lista                                   float64\n",
              "Neighbourhood_Malasaña                                float64\n",
              "Neighbourhood_Moncloa                                 float64\n",
              "Neighbourhood_Moratalaz                               float64\n",
              "Neighbourhood_Nueva España                            float64\n",
              "Neighbourhood_Pacifico                                float64\n",
              "Neighbourhood_Palacio                                 float64\n",
              "Neighbourhood_Palos do Moguer                         float64\n",
              "Neighbourhood_Prosperidad                             float64\n",
              "Neighbourhood_Puente de Vallecas                      float64\n",
              "Neighbourhood_Recoletos                               float64\n",
              "Neighbourhood_Retiro                                  float64\n",
              "Neighbourhood_Rios Rosas                              float64\n",
              "Neighbourhood_San Blas                                float64\n",
              "Neighbourhood_Sol                                     float64\n",
              "Neighbourhood_Tetuán                                  float64\n",
              "Neighbourhood_Trafalgar                               float64\n",
              "Neighbourhood_Usera                                   float64\n",
              "Neighbourhood_Valdeacederas                           float64\n",
              "Neighbourhood_Vallehermosa                            float64\n",
              "Neighbourhood_Vicálvaro                               float64\n",
              "Neighbourhood_Villa de Vallecas                       float64\n",
              "Neighbourhood_Villaverde                              float64\n",
              "Neighbourhood Group Cleansed_Arganzuela               float64\n",
              "Neighbourhood Group Cleansed_Barajas                  float64\n",
              "Neighbourhood Group Cleansed_Carabanchel              float64\n",
              "Neighbourhood Group Cleansed_Centro                   float64\n",
              "Neighbourhood Group Cleansed_Chamartín                float64\n",
              "Neighbourhood Group Cleansed_Chamberí                 float64\n",
              "Neighbourhood Group Cleansed_Ciudad Lineal            float64\n",
              "Neighbourhood Group Cleansed_Fuencarral - El Pardo    float64\n",
              "Neighbourhood Group Cleansed_Hortaleza                float64\n",
              "Neighbourhood Group Cleansed_Latina                   float64\n",
              "Neighbourhood Group Cleansed_Moncloa - Aravaca        float64\n",
              "Neighbourhood Group Cleansed_Moratalaz                float64\n",
              "Neighbourhood Group Cleansed_Puente de Vallecas       float64\n",
              "Neighbourhood Group Cleansed_Retiro                   float64\n",
              "Neighbourhood Group Cleansed_Salamanca                float64\n",
              "Neighbourhood Group Cleansed_San Blas - Canillejas    float64\n",
              "Neighbourhood Group Cleansed_Tetuán                   float64\n",
              "Neighbourhood Group Cleansed_Usera                    float64\n",
              "Neighbourhood Group Cleansed_Vicálvaro                float64\n",
              "Neighbourhood Group Cleansed_Villa de Vallecas        float64\n",
              "Neighbourhood Group Cleansed_Villaverde               float64\n",
              "Property Type_Apartment                               float64\n",
              "Property Type_Bed & Breakfast                         float64\n",
              "Property Type_Boat                                    float64\n",
              "Property Type_Boutique hotel                          float64\n",
              "Property Type_Bungalow                                float64\n",
              "Property Type_Camper/RV                               float64\n",
              "Property Type_Casa particular                         float64\n",
              "Property Type_Chalet                                  float64\n",
              "Property Type_Condominium                             float64\n",
              "Property Type_Dorm                                    float64\n",
              "Property Type_Earth House                             float64\n",
              "Property Type_Guest suite                             float64\n",
              "Property Type_Guesthouse                              float64\n",
              "Property Type_Hostel                                  float64\n",
              "Property Type_House                                   float64\n",
              "Property Type_Loft                                    float64\n",
              "Property Type_Other                                   float64\n",
              "Property Type_Serviced apartment                      float64\n",
              "Property Type_Tent                                    float64\n",
              "Property Type_Timeshare                               float64\n",
              "Property Type_Townhouse                               float64\n",
              "Property Type_Villa                                   float64\n",
              "Room Type_Entire home/apt                             float64\n",
              "Room Type_Private room                                float64\n",
              "Room Type_Shared room                                 float64\n",
              "Bed Type_Airbed                                       float64\n",
              "Bed Type_Couch                                        float64\n",
              "Bed Type_Futon                                        float64\n",
              "Bed Type_Pull-out Sofa                                float64\n",
              "Bed Type_Real Bed                                     float64\n",
              "Cancellation Policy_flexible                          float64\n",
              "Cancellation Policy_moderate                          float64\n",
              "Cancellation Policy_strict                            float64\n",
              "Cancellation Policy_super_strict_30                   float64\n",
              "Cancellation Policy_super_strict_60                   float64\n",
              "dtype: object"
            ]
          },
          "metadata": {},
          "execution_count": 87
        }
      ]
    },
    {
      "cell_type": "markdown",
      "source": [
        "## Entrenando el modelo!!"
      ],
      "metadata": {
        "id": "u8fxO_fhpUyb"
      },
      "id": "u8fxO_fhpUyb"
    },
    {
      "cell_type": "code",
      "source": [
        "# definimos la función para entrenar nuestra red con los parámetros deseados\n",
        "def train_network_decay(learning_rate, lr_decay, batch_size, num_epochs):\n",
        "  \n",
        "  # Implementamos la red empleando Keras\n",
        "  model = Sequential() # Instancia de modelo API secuencial #(X)\n",
        "  model.add(Flatten()) # Estiramos los datos en forma de vector como entrada a nuestro Perceptrón Simple #(X)\n",
        "  model.add(Dense(10, input_shape=(784,), activation=\"softmax\")) # Construimos nuestro Perceptrón simple con una única capa Dense #(X)\n",
        "  # Compilamos y entrenamos el modelo SGD\n",
        "  print(\"[INFO]: Entrenando red neuronal...\")\n",
        "  model.compile(loss=\"categorical_crossentropy\", optimizer=SGD(learning_rate, decay=lr_decay/num_epochs), metrics=[\"accuracy\"])  #(X)\n",
        "\n",
        "  # Entrenando la solución\n",
        "  H = model.fit(x_tr, y_tr, validation_data=(x_val, y_val), epochs=num_epochs, batch_size=batch_size)  #(X)\n",
        "\n",
        "  # Evaluando el modelo de predicción con las imágenes de test\n",
        "  print(\"[INFO]: Evaluando red neuronal...\")\n",
        "  predictions = model.predict(x_te, batch_size=batch_size)  #(X)\n",
        "  print(classification_report(y_te.argmax(axis=1), predictions.argmax(axis=1)))\n",
        "\n",
        "  # Muestro gráfica de accuracy y losses\n",
        "  plt.style.use(\"ggplot\")\n",
        "  plt.figure()\n",
        "  plt.plot(np.arange(0, num_epochs), H.history[\"loss\"], label=\"train_loss\")\n",
        "  plt.plot(np.arange(0, num_epochs), H.history[\"val_loss\"], label=\"val_loss\")\n",
        "  plt.plot(np.arange(0, num_epochs), H.history[\"accuracy\"], label=\"train_acc\")\n",
        "  plt.plot(np.arange(0, num_epochs), H.history[\"val_accuracy\"], label=\"val_acc\")\n",
        "  plt.title(\"Training Loss and Accuracy\")\n",
        "  plt.xlabel(\"Epoch #\")\n",
        "  plt.ylabel(\"Loss/Accuracy\")\n",
        "  plt.legend()"
      ],
      "metadata": {
        "id": "PeDvBNQBZfra"
      },
      "id": "PeDvBNQBZfra",
      "execution_count": null,
      "outputs": []
    },
    {
      "cell_type": "code",
      "source": [
        "# Hiper-parámetros de nuestra red\n",
        "lr = 0.005\n",
        "n_epochs = 20\n",
        "batch_size = 164\n",
        "\n",
        "# Implementamos la red empleando Keras\n",
        "#model = Sequential() # Instancia de modelo API secuencial #(X)\n",
        "#model.add(Flatten()) # Estiramos los datos en forma de vector como entrada a nuestro Perceptrón Simple #(X)\n",
        "#model.add(Dense(10, input_shape=(784,), activation=\"softmax\")) # Construimos nuestro Perceptrón simple con una única capa Dense #(X)\n",
        "\n",
        "# Compilamos y entrenamos el modelo SGD\n",
        "print(\"[INFO]: Entrenando red neuronal...\")\n",
        "model.compile(loss=\"categorical_crossentropy\", optimizer=SGD(lr), metrics=[\"accuracy\"])  #(X)\n",
        "H = model.fit(x_train, y_train, validation_data=(x_val, y_val), epochs=n_epochs, batch_size=batch_size)  #(X)\n",
        "\n",
        "# Evaluando el modelo de predicción con las imágenes de test\n",
        "print(\"[INFO]: Evaluando red neuronal...\")\n",
        "predictions = model.predict(x_te, batch_size=batch_size)  #(X)\n",
        "print(classification_report(y_te.argmax(axis=1), predictions.argmax(axis=1)))\n",
        "\n",
        "# Muestro gráfica de accuracy y losses\n",
        "plt.style.use(\"ggplot\")\n",
        "plt.figure()\n",
        "plt.plot(np.arange(0, n_epochs), H.history[\"loss\"], label=\"train_loss\")\n",
        "plt.plot(np.arange(0, n_epochs), H.history[\"val_loss\"], label=\"val_loss\")\n",
        "plt.plot(np.arange(0, n_epochs), H.history[\"accuracy\"], label=\"train_acc\")\n",
        "plt.plot(np.arange(0, n_epochs), H.history[\"val_accuracy\"], label=\"val_acc\")\n",
        "plt.title(\"Training Loss and Accuracy\")\n",
        "plt.xlabel(\"Epoch #\")\n",
        "plt.ylabel(\"Loss/Accuracy\")\n",
        "plt.legend()"
      ],
      "metadata": {
        "id": "luNlWSEDzkdg"
      },
      "id": "luNlWSEDzkdg",
      "execution_count": null,
      "outputs": []
    },
    {
      "cell_type": "code",
      "source": [
        "# Entreno el modelo \n",
        "history = model.fit(X_train, y_train, epochs=n_epochs, validation_data=(X_val)\n",
        "\n",
        "\n",
        "train_loss = history.history['loss']\n",
        "val_loss = history.history['val_loss']\n",
        "train_acc = history.history['accuracy']\n",
        "val_acc = history.history['val_accuracy']\n",
        "\n",
        "epochs = range(1, len(train_loss) + 1)\n"
      ],
      "metadata": {
        "colab": {
          "base_uri": "https://localhost:8080/",
          "height": 131
        },
        "id": "njO5PvgwNWsT",
        "outputId": "dc23ffed-80e2-4c58-e923-66184d20f301"
      },
      "id": "njO5PvgwNWsT",
      "execution_count": null,
      "outputs": [
        {
          "output_type": "error",
          "ename": "SyntaxError",
          "evalue": "ignored",
          "traceback": [
            "\u001b[0;36m  File \u001b[0;32m\"<ipython-input-394-606469b5023f>\"\u001b[0;36m, line \u001b[0;32m5\u001b[0m\n\u001b[0;31m    train_loss = history.history['loss']\u001b[0m\n\u001b[0m    ^\u001b[0m\n\u001b[0;31mSyntaxError\u001b[0m\u001b[0;31m:\u001b[0m invalid syntax\n"
          ]
        }
      ]
    },
    {
      "cell_type": "code",
      "source": [],
      "metadata": {
        "id": "jTBZN5fHzhEf"
      },
      "id": "jTBZN5fHzhEf",
      "execution_count": null,
      "outputs": []
    },
    {
      "cell_type": "code",
      "source": [
        "plt.plot(epochs, train_loss, 'r', label='Training loss')\n",
        "plt.plot(epochs, val_loss, 'b', label='Validation loss')\n",
        "plt.plot(epochs, train_acc, 'g', label='train_acc')\n",
        "plt.plot(epochs, val_acc, 'm', label='val_acc')\n",
        "plt.title('Training and Validation Loss')\n",
        "plt.xlabel('Epochs')\n",
        "plt.ylabel('Loss')\n",
        "plt.legend()\n",
        "plt.show()\n",
        "\n"
      ],
      "metadata": {
        "colab": {
          "base_uri": "https://localhost:8080/",
          "height": 295
        },
        "id": "ABzi4qYDR7j_",
        "outputId": "761f9e71-1f25-45b4-c739-b633f2f4f4e6"
      },
      "id": "ABzi4qYDR7j_",
      "execution_count": null,
      "outputs": [
        {
          "output_type": "display_data",
          "data": {
            "text/plain": [
              "<Figure size 432x288 with 1 Axes>"
            ],
            "image/png": "[encoded data removed]"
          },
          "metadata": {
            "needs_background": "light"
          }
        }
      ]
    },
    {
      "cell_type": "markdown",
      "source": [
        "## Ahora, a evaluar los resultados. "
      ],
      "metadata": {
        "id": "RPBdsEyspvBc"
      },
      "id": "RPBdsEyspvBc"
    },
    {
      "cell_type": "code",
      "source": [
        "# Cargo la información de Test\n",
        "X_test = pd.read_csv('test.csv')\n",
        "X_test = X_test.drop(columns=columnas_objeto)\n",
        "\n",
        "y_test = pd.read_csv('test_target.csv')\n",
        "\n",
        "lista_columnas = X_test.columns.values\n",
        "for name in lista_columnas:\n",
        "    X_test[name].fillna(X_test[name].mode()[0], inplace=True)\n",
        "\n",
        "X_test[columnas_Int64.columns] = int_scaler.fit_transform(X_test[columnas_Int64.columns])\n",
        "X_test[columnas_float64.columns] = float_scaler.fit_transform(X_test[columnas_float64.columns])\n",
        "\n",
        "y_test = y_test.values.reshape(-1, 1)  # reshape y_train para tener un arreglo 2D\n",
        "y_test = target_scaler.fit_transform(y_test)"
      ],
      "metadata": {
        "id": "CA_WbT-rqBfq"
      },
      "id": "CA_WbT-rqBfq",
      "execution_count": null,
      "outputs": []
    },
    {
      "cell_type": "code",
      "source": [
        "# Evaluo el modelo\n",
        "mse_test = model.evaluate(X_test, y_test)\n",
        "y_pred = model.predict(X_test)"
      ],
      "metadata": {
        "colab": {
          "base_uri": "https://localhost:8080/"
        },
        "id": "fePxLTacNWvQ",
        "outputId": "8324b6cc-b4ec-4b1a-820c-eb3026762111"
      },
      "id": "fePxLTacNWvQ",
      "execution_count": null,
      "outputs": [
        {
          "output_type": "stream",
          "name": "stdout",
          "text": [
            "41/41 [==============================] - 0s 2ms/step - loss: 0.5356 - accuracy: 0.0070\n",
            "41/41 [==============================] - 0s 2ms/step\n"
          ]
        }
      ]
    },
    {
      "cell_type": "code",
      "source": [
        "y_pred = model.predict(X_test)\n",
        "print(\"El MSE del test antes de desnormalizar es --> \", mse_test)\n",
        "y_test = target_scaler.inverse_transform(y_test)\n",
        "y_pred = target_scaler.inverse_transform(y_pred)\n",
        "mse = mean_squared_error(y_test, y_pred)\n",
        "mse"
      ],
      "metadata": {
        "colab": {
          "base_uri": "https://localhost:8080/"
        },
        "id": "7xWuxbsf1mnb",
        "outputId": "7b50b619-4915-4ab6-a3e7-937295d4a7cc"
      },
      "id": "7xWuxbsf1mnb",
      "execution_count": null,
      "outputs": [
        {
          "output_type": "stream",
          "name": "stdout",
          "text": [
            "41/41 [==============================] - 0s 3ms/step\n",
            "El MSE del test antes de desnormalizar es -->  [0.5356016755104065, 0.007020280696451664]\n"
          ]
        },
        {
          "output_type": "execute_result",
          "data": {
            "text/plain": [
              "173406.9504951725"
            ]
          },
          "metadata": {},
          "execution_count": 393
        }
      ]
    },
    {
      "cell_type": "code",
      "source": [],
      "metadata": {
        "id": "aQXOUc5whdJg"
      },
      "id": "aQXOUc5whdJg",
      "execution_count": null,
      "outputs": []
    },
    {
      "cell_type": "code",
      "source": [],
      "metadata": {
        "id": "YRJUZgv1hdMf"
      },
      "id": "YRJUZgv1hdMf",
      "execution_count": null,
      "outputs": []
    },
    {
      "cell_type": "code",
      "source": [],
      "metadata": {
        "id": "TfQYKMROhdPP"
      },
      "id": "TfQYKMROhdPP",
      "execution_count": null,
      "outputs": []
    },
    {
      "cell_type": "code",
      "source": [],
      "metadata": {
        "id": "9Wn9HxuchdSG"
      },
      "id": "9Wn9HxuchdSG",
      "execution_count": null,
      "outputs": []
    },
    {
      "cell_type": "code",
      "source": [],
      "metadata": {
        "id": "qaomKybbhdU-"
      },
      "id": "qaomKybbhdU-",
      "execution_count": null,
      "outputs": []
    },
    {
      "cell_type": "code",
      "execution_count": null,
      "metadata": {
        "colab": {
          "base_uri": "https://localhost:8080/"
        },
        "id": "bZCAuK7KCbES",
        "outputId": "3a45e3f8-2da8-478d-bc5e-bae256aef75f"
      },
      "outputs": [
        {
          "output_type": "execute_result",
          "data": {
            "text/plain": [
              "array(['ID', 'Host ID', 'Host Response Rate', 'Host Listings Count',\n",
              "       'Host Total Listings Count', 'Zipcode', 'Latitude', 'Longitude',\n",
              "       'Accommodates', 'Bathrooms', 'Bedrooms', 'Beds', 'Guests Included',\n",
              "       'Extra People', 'Minimum Nights', 'Maximum Nights',\n",
              "       'Availability 30', 'Availability 60', 'Availability 90',\n",
              "       'Availability 365', 'Number of Reviews', 'Review Scores Rating',\n",
              "       'Review Scores Accuracy', 'Review Scores Cleanliness',\n",
              "       'Review Scores Checkin', 'Review Scores Communication',\n",
              "       'Review Scores Location', 'Review Scores Value',\n",
              "       'Calculated host listings count', 'Reviews per Month',\n",
              "       'Host Since_year', 'Host Since_month', 'Host Since_day',\n",
              "       'First Review_year', 'First Review_month', 'First Review_day',\n",
              "       'Last Review_year', 'Last Review_month', 'Last Review_day',\n",
              "       'Host Response Time_a few days or more',\n",
              "       'Host Response Time_within a day',\n",
              "       'Host Response Time_within a few hours',\n",
              "       'Host Response Time_within an hour', 'Neighbourhood_Acacias',\n",
              "       'Neighbourhood_Adelfas', 'Neighbourhood_Almagro',\n",
              "       'Neighbourhood_Almenara', 'Neighbourhood_Aluche',\n",
              "       'Neighbourhood_Arapiles', 'Neighbourhood_Arganzuela',\n",
              "       'Neighbourhood_Argüelles', 'Neighbourhood_Atocha',\n",
              "       'Neighbourhood_Barajas', 'Neighbourhood_Bellas Vistas',\n",
              "       'Neighbourhood_Berruguete', 'Neighbourhood_Carabanchel',\n",
              "       'Neighbourhood_Castellana', 'Neighbourhood_Castilla',\n",
              "       'Neighbourhood_Castillejos', 'Neighbourhood_Centro',\n",
              "       'Neighbourhood_Chamberí', 'Neighbourhood_Ciudad Jardin',\n",
              "       'Neighbourhood_Ciudad Lineal', 'Neighbourhood_Cortes',\n",
              "       'Neighbourhood_Cuatro Caminos', 'Neighbourhood_Delicias',\n",
              "       'Neighbourhood_El Tréntaiseis', 'Neighbourhood_El Viso',\n",
              "       'Neighbourhood_Embajadores', 'Neighbourhood_Estrella',\n",
              "       'Neighbourhood_Fuencarral-El Pardo',\n",
              "       'Neighbourhood_Fuencarral-el Pardo',\n",
              "       'Neighbourhood_Fuente del Berro', 'Neighbourhood_Gaztambide',\n",
              "       'Neighbourhood_Goya', 'Neighbourhood_Guindalera',\n",
              "       'Neighbourhood_Hispanoamérica', 'Neighbourhood_Hortaleza',\n",
              "       'Neighbourhood_Ibiza', 'Neighbourhood_Imperial',\n",
              "       'Neighbourhood_Jerónimos', 'Neighbourhood_Justicia',\n",
              "       'Neighbourhood_La Chopera', 'Neighbourhood_La Latina',\n",
              "       'Neighbourhood_Legazpi', 'Neighbourhood_Lista',\n",
              "       'Neighbourhood_Malasaña', 'Neighbourhood_Moncloa',\n",
              "       'Neighbourhood_Moratalaz', 'Neighbourhood_Nueva España',\n",
              "       'Neighbourhood_Pacifico', 'Neighbourhood_Palacio',\n",
              "       'Neighbourhood_Palos do Moguer', 'Neighbourhood_Prosperidad',\n",
              "       'Neighbourhood_Puente de Vallecas', 'Neighbourhood_Recoletos',\n",
              "       'Neighbourhood_Retiro', 'Neighbourhood_Rios Rosas',\n",
              "       'Neighbourhood_San Blas', 'Neighbourhood_Sol',\n",
              "       'Neighbourhood_Tetuán', 'Neighbourhood_Trafalgar',\n",
              "       'Neighbourhood_Usera', 'Neighbourhood_Valdeacederas',\n",
              "       'Neighbourhood_Vallehermosa', 'Neighbourhood_Vicálvaro',\n",
              "       'Neighbourhood_Villa de Vallecas', 'Neighbourhood_Villaverde',\n",
              "       'Neighbourhood Group Cleansed_Arganzuela',\n",
              "       'Neighbourhood Group Cleansed_Barajas',\n",
              "       'Neighbourhood Group Cleansed_Carabanchel',\n",
              "       'Neighbourhood Group Cleansed_Centro',\n",
              "       'Neighbourhood Group Cleansed_Chamartín',\n",
              "       'Neighbourhood Group Cleansed_Chamberí',\n",
              "       'Neighbourhood Group Cleansed_Ciudad Lineal',\n",
              "       'Neighbourhood Group Cleansed_Fuencarral - El Pardo',\n",
              "       'Neighbourhood Group Cleansed_Hortaleza',\n",
              "       'Neighbourhood Group Cleansed_Latina',\n",
              "       'Neighbourhood Group Cleansed_Moncloa - Aravaca',\n",
              "       'Neighbourhood Group Cleansed_Moratalaz',\n",
              "       'Neighbourhood Group Cleansed_Puente de Vallecas',\n",
              "       'Neighbourhood Group Cleansed_Retiro',\n",
              "       'Neighbourhood Group Cleansed_Salamanca',\n",
              "       'Neighbourhood Group Cleansed_San Blas - Canillejas',\n",
              "       'Neighbourhood Group Cleansed_Tetuán',\n",
              "       'Neighbourhood Group Cleansed_Usera',\n",
              "       'Neighbourhood Group Cleansed_Vicálvaro',\n",
              "       'Neighbourhood Group Cleansed_Villa de Vallecas',\n",
              "       'Neighbourhood Group Cleansed_Villaverde',\n",
              "       'Property Type_Apartment', 'Property Type_Bed & Breakfast',\n",
              "       'Property Type_Boat', 'Property Type_Boutique hotel',\n",
              "       'Property Type_Bungalow', 'Property Type_Camper/RV',\n",
              "       'Property Type_Casa particular', 'Property Type_Chalet',\n",
              "       'Property Type_Condominium', 'Property Type_Dorm',\n",
              "       'Property Type_Earth House', 'Property Type_Guest suite',\n",
              "       'Property Type_Guesthouse', 'Property Type_Hostel',\n",
              "       'Property Type_House', 'Property Type_Loft', 'Property Type_Other',\n",
              "       'Property Type_Serviced apartment', 'Property Type_Tent',\n",
              "       'Property Type_Timeshare', 'Property Type_Townhouse',\n",
              "       'Property Type_Villa', 'Room Type_Entire home/apt',\n",
              "       'Room Type_Private room', 'Room Type_Shared room',\n",
              "       'Bed Type_Airbed', 'Bed Type_Couch', 'Bed Type_Futon',\n",
              "       'Bed Type_Pull-out Sofa', 'Bed Type_Real Bed',\n",
              "       'Cancellation Policy_flexible', 'Cancellation Policy_moderate',\n",
              "       'Cancellation Policy_strict',\n",
              "       'Cancellation Policy_super_strict_30',\n",
              "       'Cancellation Policy_super_strict_60'], dtype=object)"
            ]
          },
          "metadata": {},
          "execution_count": 150
        }
      ],
      "source": [
        "lista_columnas"
      ],
      "id": "bZCAuK7KCbES"
    },
    {
      "cell_type": "markdown",
      "source": [],
      "metadata": {
        "id": "3lc-tm6vJjiu"
      },
      "id": "3lc-tm6vJjiu"
    },
    {
      "cell_type": "code",
      "execution_count": null,
      "metadata": {
        "id": "KizZissvCp90"
      },
      "outputs": [],
      "source": [],
      "id": "KizZissvCp90"
    },
    {
      "cell_type": "markdown",
      "metadata": {
        "id": "EoJfI8hzCttR"
      },
      "source": [
        "### Voy a clasificar las imágenes en los siguientes grupos: \n",
        "\n",
        "* images_Host\n",
        "\n",
        "* images_thumbnail --> Property\n",
        "\n",
        "* images_medium --> Property\n",
        "\n",
        "* images --> Property\n"
      ],
      "id": "EoJfI8hzCttR"
    },
    {
      "cell_type": "markdown",
      "metadata": {
        "id": "V4sRTJNeFaOH"
      },
      "source": [
        "### Primero verifico si las imágenes existen, las preparo y regularizo su tamaño  --> "
      ],
      "id": "V4sRTJNeFaOH"
    },
    {
      "cell_type": "code",
      "execution_count": null,
      "metadata": {
        "colab": {
          "base_uri": "https://localhost:8080/"
        },
        "id": "_mWswAmEM5c1",
        "outputId": "0921c323-cb55-4221-b6d0-9ed357afc5b7"
      },
      "outputs": [
        {
          "output_type": "stream",
          "name": "stdout",
          "text": [
            "total 85M\n",
            "drwxr-xr-x 1 root root 4.0K Feb 12 19:39 .\n",
            "drwxr-xr-x 1 root root 4.0K Feb 12 19:31 ..\n",
            "-rw-rw-r-- 1 root root  58M Dec 21 22:29 airbnb-listings-extract.csv\n",
            "-rw-r--r-- 1 root root  15M Feb 12 20:39 airbnb-listings-extract.zip\n",
            "drwxr-xr-x 4 root root 4.0K Feb  9 14:41 .config\n",
            "drwxr-xr-x 2 root root 4.0K Feb 12 19:36 __MACOSX\n",
            "drwxr-xr-x 1 root root 4.0K Feb  9 14:42 sample_data\n",
            "-rw-r--r-- 1 root root 1.3M Feb 12 20:50 test.csv\n",
            "-rw-r--r-- 1 root root 6.5K Feb 12 20:50 test_target.csv\n",
            "-rw-r--r-- 1 root root 9.7M Feb 12 20:50 train.csv\n",
            "-rw-r--r-- 1 root root  52K Feb 12 20:50 train_target.csv\n",
            "-rw-r--r-- 1 root root 1.3M Feb 12 20:50 validation.csv\n",
            "-rw-r--r-- 1 root root 6.5K Feb 12 20:50 validation_target.csv\n"
          ]
        }
      ],
      "source": [
        "!ls -lah"
      ],
      "id": "_mWswAmEM5c1"
    },
    {
      "cell_type": "code",
      "execution_count": null,
      "metadata": {
        "colab": {
          "base_uri": "https://localhost:8080/",
          "height": 183
        },
        "id": "VOtOAp35Qsak",
        "outputId": "422e65ad-a523-458a-f951-12781979f169"
      },
      "outputs": [
        {
          "output_type": "error",
          "ename": "NameError",
          "evalue": "ignored",
          "traceback": [
            "\u001b[0;31m---------------------------------------------------------------------------\u001b[0m",
            "\u001b[0;31mNameError\u001b[0m                                 Traceback (most recent call last)",
            "\u001b[0;32m<ipython-input-152-ddbcedcce62d>\u001b[0m in \u001b[0;36m<module>\u001b[0;34m\u001b[0m\n\u001b[0;32m----> 1\u001b[0;31m \u001b[0mlist_imgs\u001b[0m \u001b[0;34m=\u001b[0m \u001b[0mdf\u001b[0m\u001b[0;34m[\u001b[0m\u001b[0;34m'Picture Url'\u001b[0m\u001b[0;34m]\u001b[0m\u001b[0;34m\u001b[0m\u001b[0;34m\u001b[0m\u001b[0m\n\u001b[0m\u001b[1;32m      2\u001b[0m \u001b[0mlist_imgs\u001b[0m\u001b[0;34m\u001b[0m\u001b[0;34m\u001b[0m\u001b[0m\n",
            "\u001b[0;31mNameError\u001b[0m: name 'df' is not defined"
          ]
        }
      ],
      "source": [
        "list_imgs = df['Picture Url']\n",
        "list_imgs"
      ],
      "id": "VOtOAp35Qsak"
    },
    {
      "cell_type": "code",
      "execution_count": null,
      "metadata": {
        "id": "cQAs3uHuFTW0"
      },
      "outputs": [],
      "source": [
        "n_images = len(list_img)\n",
        "print(n_images, 'images were loaded!')"
      ],
      "id": "cQAs3uHuFTW0"
    },
    {
      "cell_type": "code",
      "execution_count": null,
      "metadata": {
        "id": "badn-ZSLD-Ex"
      },
      "outputs": [],
      "source": [
        "images_host = []\n",
        "\n",
        "img_path = list(df['Host Picture Url'])\n",
        "\n",
        "for i, img_path in enumerate(tqdm(list_imgs)):\n",
        "  img = cv2.imread(img_path)\n",
        "  img = cv2.cvtColor(img, cv2.COLOR_BGR2RGB)\n",
        "  "
      ],
      "id": "badn-ZSLD-Ex"
    },
    {
      "cell_type": "markdown",
      "metadata": {
        "id": "1d281ef2"
      },
      "source": [
        "## 4.1.1. Ahora, voy a revisar la variable objetivo --> Precio\n",
        "\n",
        "Voy a analizar un poco mi variable objetivo (Precio):"
      ],
      "id": "1d281ef2"
    },
    {
      "cell_type": "code",
      "execution_count": null,
      "metadata": {
        "id": "1dbaa9d6"
      },
      "outputs": [],
      "source": [
        "df['Price'].isnull().any()"
      ],
      "id": "1dbaa9d6"
    },
    {
      "cell_type": "code",
      "execution_count": null,
      "metadata": {
        "id": "0b81cbbb"
      },
      "outputs": [],
      "source": [
        "Price_NA_count = {\"Columna\": 'Price', 'NA': df['Price'].isna().sum(), 'NA%': (df['Price'].isna().sum()*100/data.shape[0]).round(2)}\n",
        "Price_NA_count"
      ],
      "id": "0b81cbbb"
    },
    {
      "cell_type": "code",
      "execution_count": null,
      "metadata": {
        "id": "d04c207c"
      },
      "outputs": [],
      "source": [
        "df = df[df['Price'].notna()]"
      ],
      "id": "d04c207c"
    },
    {
      "cell_type": "code",
      "execution_count": null,
      "metadata": {
        "id": "b5113fe4"
      },
      "outputs": [],
      "source": [
        "df['Price'].isnull().any()"
      ],
      "id": "b5113fe4"
    },
    {
      "cell_type": "code",
      "execution_count": null,
      "metadata": {
        "id": "5422f676"
      },
      "outputs": [],
      "source": [
        "df['Price'].dtypes"
      ],
      "id": "5422f676"
    },
    {
      "cell_type": "markdown",
      "metadata": {
        "id": "4a28b576"
      },
      "source": [
        "## 4.1.2. Ahora, voy a codificar las variables que no tienen número\n",
        "\n",
        "Primero, clasifico por tipo de variable todos las columnas:"
      ],
      "id": "4a28b576"
    },
    {
      "cell_type": "code",
      "execution_count": null,
      "metadata": {
        "id": "308dba43"
      },
      "outputs": [],
      "source": [
        "var_types = df.columns.to_series().groupby(df.dtypes).groups\n",
        "var_types"
      ],
      "id": "308dba43"
    },
    {
      "cell_type": "markdown",
      "metadata": {
        "id": "3895efd3"
      },
      "source": [
        "Esta es la lista de variables tipo object: \n",
        "\n",
        "\n",
        "['Experiences Offered', 'Host Since', 'Host Response Time', 'Host Neighbourhood', 'Host Verifications', 'Street', 'Neighbourhood Cleansed', 'Neighbourhood Group Cleansed', 'City', 'State', 'Market', 'Smart Location', 'Property Type', 'Room Type', 'Bed Type', 'Amenities', 'Calendar Updated', 'Calendar last Scraped', 'First Review', 'Last Review', 'Cancellation Policy', 'Geolocation', 'Features']"
      ],
      "id": "3895efd3"
    },
    {
      "cell_type": "code",
      "execution_count": null,
      "metadata": {
        "id": "cdacd386"
      },
      "outputs": [],
      "source": [
        "var_object = list(df.select_dtypes(include='object'))"
      ],
      "id": "cdacd386"
    },
    {
      "cell_type": "code",
      "execution_count": null,
      "metadata": {
        "id": "c80e50ea"
      },
      "outputs": [],
      "source": [
        "var_object"
      ],
      "id": "c80e50ea"
    },
    {
      "cell_type": "markdown",
      "metadata": {
        "id": "f691dbd7"
      },
      "source": [
        "Voy a codificar ahora utilizando la media de cada valor en relación con el precio --> "
      ],
      "id": "f691dbd7"
    },
    {
      "cell_type": "markdown",
      "metadata": {
        "id": "9ca88a7d"
      },
      "source": [
        "#### Mantengo separadas df y df_new para poder regresar a la información tratada antes de codificar."
      ],
      "id": "9ca88a7d"
    },
    {
      "cell_type": "code",
      "execution_count": null,
      "metadata": {
        "id": "cbb59ed3"
      },
      "outputs": [],
      "source": [
        "Recuperar = df"
      ],
      "id": "cbb59ed3"
    },
    {
      "cell_type": "code",
      "execution_count": null,
      "metadata": {
        "id": "368965f8"
      },
      "outputs": [],
      "source": [
        "t_enc=ce.TargetEncoder() \n",
        "df_new = Recuperar\n",
        "for to_encode in var_object:\n",
        "    ##print(to_encode, \", \")\n",
        "    df_encoded=t_enc.fit_transform(df_new[to_encode],df_new['Price'])\n",
        "    df_new = df_encoded.join(df_new.drop(to_encode,axis = 1))"
      ],
      "id": "368965f8"
    },
    {
      "cell_type": "code",
      "execution_count": null,
      "metadata": {
        "id": "e9390bbb"
      },
      "outputs": [],
      "source": [
        "df_new.head()"
      ],
      "id": "e9390bbb"
    },
    {
      "cell_type": "markdown",
      "metadata": {
        "id": "424de635"
      },
      "source": [
        "¿Cuántas filas tienen valores NULL?"
      ],
      "id": "424de635"
    },
    {
      "cell_type": "code",
      "execution_count": null,
      "metadata": {
        "id": "d074bc8b",
        "scrolled": true
      },
      "outputs": [],
      "source": [
        "print (\"De un total de \",df_new.shape[0], \" columnas, hay \", df_new.dropna().shape[0], \"columnas con valores válidos\")\n",
        "print (\"Esto equivale al \", round(df_new.dropna().shape[0] * 100/ df_new.shape[0],2), \"% de sus información es válida\")\n"
      ],
      "id": "d074bc8b"
    },
    {
      "cell_type": "markdown",
      "metadata": {
        "id": "2d9fdcde"
      },
      "source": [
        "Voy a rellenar las variables que se tengan NA con la moda de cada columna. "
      ],
      "id": "2d9fdcde"
    },
    {
      "cell_type": "code",
      "execution_count": null,
      "metadata": {
        "id": "1fa11747"
      },
      "outputs": [],
      "source": [
        "for name in lista_columnas:\n",
        "    df_new[name].fillna(df_new[name].mode()[0], inplace=True)"
      ],
      "id": "1fa11747"
    },
    {
      "cell_type": "markdown",
      "metadata": {
        "id": "e429d209"
      },
      "source": [
        "Verifico ahora, nuevamente, cuántos NA me quedan --> "
      ],
      "id": "e429d209"
    },
    {
      "cell_type": "code",
      "execution_count": null,
      "metadata": {
        "id": "79afcf51"
      },
      "outputs": [],
      "source": [
        "print (\"De un total de \",df_new.shape[0], \" columnas, hay \", df_new.dropna().shape[0], \"columnas con valores SIN NULL\")\n",
        "print (\"Esto equivale al \", round(df_new.dropna().shape[0] * 100/ df_new.shape[0],2), \"% tienen valor\")"
      ],
      "id": "79afcf51"
    },
    {
      "cell_type": "markdown",
      "metadata": {
        "id": "0255e7f7"
      },
      "source": [
        "## 5. Regularización de los datos "
      ],
      "id": "0255e7f7"
    },
    {
      "cell_type": "markdown",
      "metadata": {
        "id": "c4865a5e"
      },
      "source": [
        "Me aseguro que Precio es mi primer columna -->"
      ],
      "id": "c4865a5e"
    },
    {
      "cell_type": "code",
      "execution_count": null,
      "metadata": {
        "id": "f5415299"
      },
      "outputs": [],
      "source": [
        "primera_columna = df_new.pop('Price')"
      ],
      "id": "f5415299"
    },
    {
      "cell_type": "code",
      "execution_count": null,
      "metadata": {
        "id": "b8930026"
      },
      "outputs": [],
      "source": [
        "df_new.insert(0, 'Price', primera_columna)"
      ],
      "id": "b8930026"
    },
    {
      "cell_type": "code",
      "execution_count": null,
      "metadata": {
        "id": "8c554f19"
      },
      "outputs": [],
      "source": [
        "print(\"Verifico que Precio es la primer columna --> \")\n",
        "df_new.head(2)"
      ],
      "id": "8c554f19"
    },
    {
      "cell_type": "markdown",
      "metadata": {
        "id": "91903599"
      },
      "source": [
        "Voy a iniciar por una matriz de correlación, para ver cómo se comportan entre sí las variables --> "
      ],
      "id": "91903599"
    },
    {
      "cell_type": "code",
      "execution_count": null,
      "metadata": {
        "id": "e792c77a"
      },
      "outputs": [],
      "source": [
        "# Compute the correlation matrix\n",
        "corr = np.abs(df_new.drop(['Price'], axis=1).corr())\n",
        "#corr = np.abs(house_data_filtered.corr())\n",
        "\n",
        "# Generate a mask for the upper triangle\n",
        "mask = np.zeros_like(corr, dtype=np.bool)\n",
        "mask[np.triu_indices_from(mask)] = True\n",
        "\n",
        "# Set up the matplotlib figure\n",
        "f, ax = plt.subplots(figsize=(12, 10))\n",
        "\n",
        "# Draw the heatmap with the mask and correct aspect ratio\n",
        "sns.heatmap(corr, mask=mask,vmin = 0.0, vmax=1.0, center=0.5,\n",
        "            linewidths=.1, cmap=\"YlGnBu\", cbar_kws={\"shrink\": .8})\n",
        "\n",
        "plt.show()"
      ],
      "id": "e792c77a"
    },
    {
      "cell_type": "markdown",
      "metadata": {
        "id": "7c650782"
      },
      "source": [
        "Aún podría eliminar 'Host Listings Count' y 'Host Total Listings Count\", que muestran una alta correlación con 'Calculated host listings count'. \n",
        "\n",
        "Lo mismo ocurre con 'Availability 60' y 'Availability 90', que tienen una alta correlación con 'Availability 30'. \n",
        "\n",
        "'State' y 'City' podrían eliminarse dejando 'Smart Location'\n",
        "\n",
        "'Accomodates' puede eliminarse dejando 'Beds'\n",
        "\n",
        "'\n",
        "\n",
        "Voy a eliminarlos para simplificar un poco más el modelo --> "
      ],
      "id": "7c650782"
    },
    {
      "cell_type": "code",
      "execution_count": null,
      "metadata": {
        "id": "5c19584e"
      },
      "outputs": [],
      "source": [
        "df_new.drop(['Host Listings Count', \n",
        "            'Host Total Listings Count',\n",
        "            'Availability 60', \n",
        "            'Availability 90',\n",
        "            'State', 'City', 'Accommodates'], axis = 1, inplace=True)"
      ],
      "id": "5c19584e"
    },
    {
      "cell_type": "markdown",
      "metadata": {
        "id": "50ea3a1e"
      },
      "source": [
        "Vuelvo a analizar las correlaciones --> "
      ],
      "id": "50ea3a1e"
    },
    {
      "cell_type": "code",
      "execution_count": null,
      "metadata": {
        "id": "8b88d70d"
      },
      "outputs": [],
      "source": [
        "# Compute the correlation matrix\n",
        "corr = np.abs(df_new.drop(['Price'], axis=1).corr())\n",
        "#corr = np.abs(house_data_filtered.corr())\n",
        "\n",
        "# Generate a mask for the upper triangle\n",
        "mask = np.zeros_like(corr, dtype=np.bool)\n",
        "mask[np.triu_indices_from(mask)] = True\n",
        "\n",
        "# Set up the matplotlib figure\n",
        "f, ax = plt.subplots(figsize=(12, 10))\n",
        "\n",
        "# Draw the heatmap with the mask and correct aspect ratio\n",
        "sns.heatmap(corr, mask=mask,vmin = 0.0, vmax=1.0, center=0.5,\n",
        "            linewidths=.1, cmap=\"YlGnBu\", cbar_kws={\"shrink\": .8})\n",
        "\n",
        "plt.show()"
      ],
      "id": "8b88d70d"
    },
    {
      "cell_type": "markdown",
      "metadata": {
        "id": "0d5e1a84"
      },
      "source": [
        "En principio, las variables se ven poco correlacionadas entre sí, salvo la parte de scores, que muestran una mayor correlación, pero sin llegar a 1. \n",
        "\n",
        "Voy a eliminar Review Scores Rating que es la que muestra correlación más alta con los otros scores (Review Scores Value y Review Scores Accuracy) -->"
      ],
      "id": "0d5e1a84"
    },
    {
      "cell_type": "code",
      "execution_count": null,
      "metadata": {
        "id": "56a6bdd3"
      },
      "outputs": [],
      "source": [
        "df_new.drop(['Review Scores Rating'], axis = 1, inplace=True)"
      ],
      "id": "56a6bdd3"
    },
    {
      "cell_type": "markdown",
      "metadata": {
        "id": "e3d6f18b"
      },
      "source": [
        "Ahora voy a hacer algunos análisis de todas las variables con 'y' ('Price'), para poder detectar correlaciones y posibles outliers -->"
      ],
      "id": "e3d6f18b"
    },
    {
      "cell_type": "code",
      "execution_count": null,
      "metadata": {
        "id": "6bd2fd5b"
      },
      "outputs": [],
      "source": [
        "# Compute the correlation matrix\n",
        "corr = np.abs(df_new.corr())\n",
        "#corr = np.abs(house_data_filtered.corr())\n",
        "\n",
        "# Generate a mask for the upper triangle\n",
        "mask = np.zeros_like(corr, dtype=np.bool)\n",
        "mask[np.triu_indices_from(mask)] = True\n",
        "\n",
        "# Set up the matplotlib figure\n",
        "f, ax = plt.subplots(figsize=(12, 10))\n",
        "\n",
        "# Draw the heatmap with the mask and correct aspect ratio\n",
        "sns.heatmap(corr, mask=mask,vmin = 0.0, vmax=1.0, center=0.5,\n",
        "            linewidths=.1, cmap=\"YlGnBu\", cbar_kws={\"shrink\": .8})\n",
        "\n",
        "plt.show()"
      ],
      "id": "6bd2fd5b"
    },
    {
      "cell_type": "code",
      "execution_count": null,
      "metadata": {
        "id": "8418b5bc"
      },
      "outputs": [],
      "source": [
        "len(lista_columnas)"
      ],
      "id": "8418b5bc"
    },
    {
      "cell_type": "code",
      "execution_count": null,
      "metadata": {
        "id": "59b2ed81",
        "scrolled": false
      },
      "outputs": [],
      "source": [
        "lista_columnas = list(df_new.columns.values)\n",
        "plt.figure(figsize=(15, 75))\n",
        "for i in range(len(lista_columnas)):\n",
        "    plt.subplot(20, 3, i + 1)\n",
        "    df_new[lista_columnas[i]].plot.hist(alpha=0.5, bins=25, grid = True)\n",
        "    plt.xlabel(lista_columnas[i])"
      ],
      "id": "59b2ed81"
    },
    {
      "cell_type": "markdown",
      "metadata": {
        "id": "02ea0432"
      },
      "source": [
        "En este análisis salieron algunos aprendizajes interesantes: \n",
        "- No se visualizan outliers importantes. \n",
        "- Voy a revisar 'Experiences Offered' y 'Smart Location'a detalle pues se ven más concentrados\n",
        "- 'Calendar last Scraped' y 'Market' deberían haber sido borradas antes, pues no aportan información. \n",
        "- 'Geolocation' me devuelve los mismos valores promedio que el precio de su fila. Esto significa que todos son diferentes. No aporta para correlacionarse. Voy a eliminarla. \n"
      ],
      "id": "02ea0432"
    },
    {
      "cell_type": "code",
      "execution_count": null,
      "metadata": {
        "id": "10a6c49f"
      },
      "outputs": [],
      "source": [
        "plt.figure(figsize=(5, 3))\n",
        "df_new['Experiences Offered'].plot.hist(alpha=0.5, bins=25, grid = True)\n",
        "plt.axis([66.9, 67, 0, 12000])\n",
        "plt.xlabel('Experiences Offered')"
      ],
      "id": "10a6c49f"
    },
    {
      "cell_type": "code",
      "execution_count": null,
      "metadata": {
        "id": "3029268d"
      },
      "outputs": [],
      "source": [
        "df_new['Experiences Offered'].describe()"
      ],
      "id": "3029268d"
    },
    {
      "cell_type": "markdown",
      "metadata": {
        "id": "17cf775c"
      },
      "source": [
        "'Experiences Offered' no aporta información. Se puede eliminar. "
      ],
      "id": "17cf775c"
    },
    {
      "cell_type": "code",
      "execution_count": null,
      "metadata": {
        "id": "25bb9e73"
      },
      "outputs": [],
      "source": [
        "df_new.drop(['Experiences Offered'], axis = 1, inplace=True)"
      ],
      "id": "25bb9e73"
    },
    {
      "cell_type": "code",
      "execution_count": null,
      "metadata": {
        "id": "d2003ecf"
      },
      "outputs": [],
      "source": [
        "plt.figure(figsize=(5, 3))\n",
        "df_new['Smart Location'].plot.hist(alpha=0.5, bins=25, grid = True)\n",
        "plt.axis([55, 70, 0, 12000])\n",
        "plt.xlabel('Smart Location')"
      ],
      "id": "d2003ecf"
    },
    {
      "cell_type": "code",
      "execution_count": null,
      "metadata": {
        "id": "4e02b2af"
      },
      "outputs": [],
      "source": [
        "df_new['Price'].corr(df_new['Smart Location'])"
      ],
      "id": "4e02b2af"
    },
    {
      "cell_type": "markdown",
      "metadata": {
        "id": "46923df2"
      },
      "source": [
        "No alcanzo a visualizar su importancia y muestra una correlación baja, pero no despreciable. Voy a mantenerla."
      ],
      "id": "46923df2"
    },
    {
      "cell_type": "markdown",
      "metadata": {
        "id": "e2417cda"
      },
      "source": [
        "Bueno, ahora borro 'Calendar Last Scraped', que no es información de la base original y 'Market', pues todas están en el Madrid."
      ],
      "id": "e2417cda"
    },
    {
      "cell_type": "code",
      "execution_count": null,
      "metadata": {
        "id": "7913ad62"
      },
      "outputs": [],
      "source": [
        "df_new.drop(['Calendar last Scraped', 'Market', 'Geolocation'], axis = 1, inplace=True)"
      ],
      "id": "7913ad62"
    },
    {
      "cell_type": "code",
      "execution_count": null,
      "metadata": {
        "id": "d88497a3"
      },
      "outputs": [],
      "source": [
        "len(df_new.columns)"
      ],
      "id": "d88497a3"
    },
    {
      "cell_type": "markdown",
      "metadata": {
        "id": "b966eab0"
      },
      "source": [
        "He reducido ya el número de variables a 41!\n",
        "\n",
        "Ahora voy a hacer un Scatter Plot de todas las variables que me quedan vs 'Price' -->"
      ],
      "id": "b966eab0"
    },
    {
      "cell_type": "code",
      "execution_count": null,
      "metadata": {
        "id": "07980e54"
      },
      "outputs": [],
      "source": [
        "lista_columnas = list(df_new.columns.values)\n",
        "plt.figure(figsize=(10, 20))\n",
        "for i in range(len(lista_columnas)):\n",
        "    ##plt.subplot(20, 3, i + 1)\n",
        "    df_new.plot(kind = 'scatter',x=lista_columnas[i],y = 'Price')\n",
        "    plt.xlabel(lista_columnas[i])\n",
        "    plt.ylabel('Price')\n",
        "    plt.show()"
      ],
      "id": "07980e54"
    },
    {
      "cell_type": "markdown",
      "metadata": {
        "id": "657111b5"
      },
      "source": [
        "'Smart location' muestra algunos datos con niveles de precio promedios muy elevados. Voy a revisarla --> "
      ],
      "id": "657111b5"
    },
    {
      "cell_type": "code",
      "execution_count": null,
      "metadata": {
        "id": "b21d26c5"
      },
      "outputs": [],
      "source": [
        "df_new['Smart Location'].value_counts()"
      ],
      "id": "b21d26c5"
    },
    {
      "cell_type": "code",
      "execution_count": null,
      "metadata": {
        "id": "fb79292c"
      },
      "outputs": [],
      "source": [
        "df_new.shape"
      ],
      "id": "fb79292c"
    },
    {
      "cell_type": "markdown",
      "metadata": {
        "id": "bc556348"
      },
      "source": [
        "Voy a eliminar 'Smart Location', pues el 99% de su información cae en un solo valor. \n",
        "'ID' son datos que son asignados al azar y todos diferentes. "
      ],
      "id": "bc556348"
    },
    {
      "cell_type": "code",
      "execution_count": null,
      "metadata": {
        "id": "bf3a0b30"
      },
      "outputs": [],
      "source": [
        "df_new.drop(['Smart Location'], axis = 1, inplace=True)"
      ],
      "id": "bf3a0b30"
    },
    {
      "cell_type": "code",
      "execution_count": null,
      "metadata": {
        "id": "cd770b6d"
      },
      "outputs": [],
      "source": [
        "df_new.drop(['ID'], axis = 1, inplace=True)"
      ],
      "id": "cd770b6d"
    },
    {
      "cell_type": "markdown",
      "metadata": {
        "id": "1f9a89fe"
      },
      "source": [
        "Me ha llamado la atención 'Maximum Nights', parece que hay algunos outliers ahí -->"
      ],
      "id": "1f9a89fe"
    },
    {
      "cell_type": "code",
      "execution_count": null,
      "metadata": {
        "id": "63abb1b8"
      },
      "outputs": [],
      "source": [
        "df_new['Maximum Nights'].value_counts()"
      ],
      "id": "63abb1b8"
    },
    {
      "cell_type": "code",
      "execution_count": null,
      "metadata": {
        "id": "9f9347eb"
      },
      "outputs": [],
      "source": [
        "df_new['Maximum Nights'].describe()"
      ],
      "id": "9f9347eb"
    },
    {
      "cell_type": "markdown",
      "metadata": {
        "id": "1b2f7caf"
      },
      "source": [
        "No le encuentro ningún sentido a los datos. Voy a limitarlo al 75% de los datos, o sea, 'Maximum Nights' < 1125 -->"
      ],
      "id": "1b2f7caf"
    },
    {
      "cell_type": "code",
      "execution_count": null,
      "metadata": {
        "id": "e9405eba"
      },
      "outputs": [],
      "source": [
        "df_new = df_new[df_new['Maximum Nights'] < 1125]"
      ],
      "id": "e9405eba"
    },
    {
      "cell_type": "code",
      "execution_count": null,
      "metadata": {
        "id": "e5a4efad"
      },
      "outputs": [],
      "source": [
        "lista_columnas = list(df_new.columns.values)\n",
        "plt.figure(figsize=(10, 20))\n",
        "df_new.plot(kind = 'scatter',x='Maximum Nights',y = 'Price')\n",
        "plt.xlabel('Maximum Nights')\n",
        "plt.ylabel('Price')\n",
        "plt.show()"
      ],
      "id": "e5a4efad"
    },
    {
      "cell_type": "markdown",
      "metadata": {
        "id": "c5f165d6"
      },
      "source": [
        "Lo mismo me pasa con 'Minimum Nights', voy a analizarlo --> "
      ],
      "id": "c5f165d6"
    },
    {
      "cell_type": "code",
      "execution_count": null,
      "metadata": {
        "id": "493fdacc",
        "scrolled": false
      },
      "outputs": [],
      "source": [
        "df_new['Maximum Nights'].value_counts()"
      ],
      "id": "493fdacc"
    },
    {
      "cell_type": "code",
      "execution_count": null,
      "metadata": {
        "id": "5369b9e5"
      },
      "outputs": [],
      "source": [
        "df_new['Maximum Nights'].describe()"
      ],
      "id": "5369b9e5"
    },
    {
      "cell_type": "markdown",
      "metadata": {
        "id": "62f31e60"
      },
      "source": [
        "Hay mucha variación, voy a hacer lo mismo que en el anterior y lo voy a limitar al 75% --> 100"
      ],
      "id": "62f31e60"
    },
    {
      "cell_type": "code",
      "execution_count": null,
      "metadata": {
        "id": "eca4c212"
      },
      "outputs": [],
      "source": [
        "df_new = df_new[df_new['Minimum Nights'] < 100]"
      ],
      "id": "eca4c212"
    },
    {
      "cell_type": "code",
      "execution_count": null,
      "metadata": {
        "id": "df527846"
      },
      "outputs": [],
      "source": [
        "lista_columnas = list(df_new.columns.values)\n",
        "plt.figure(figsize=(10, 20))\n",
        "df_new.plot(kind = 'scatter',x='Minimum Nights',y = 'Price')\n",
        "plt.xlabel('Minimum Nights')\n",
        "plt.ylabel('Price')\n",
        "plt.show()"
      ],
      "id": "df527846"
    },
    {
      "cell_type": "markdown",
      "metadata": {
        "id": "89f2ed6b"
      },
      "source": [
        "'Extra People' también parece tener algunos outliers --> "
      ],
      "id": "89f2ed6b"
    },
    {
      "cell_type": "code",
      "execution_count": null,
      "metadata": {
        "id": "733722ba"
      },
      "outputs": [],
      "source": [
        "df_new['Extra People'].value_counts()"
      ],
      "id": "733722ba"
    },
    {
      "cell_type": "code",
      "execution_count": null,
      "metadata": {
        "id": "3cc41317"
      },
      "outputs": [],
      "source": [
        "df_new['Extra People'].describe()"
      ],
      "id": "3cc41317"
    },
    {
      "cell_type": "markdown",
      "metadata": {
        "id": "026b8b92"
      },
      "source": [
        "No hace sentido tampoco permitir 271 personas más para hospedarse en un airbnb. Voy a limitarlo, igualmente al 75%, que es 15 personas. --> "
      ],
      "id": "026b8b92"
    },
    {
      "cell_type": "code",
      "execution_count": null,
      "metadata": {
        "id": "f18c3c42"
      },
      "outputs": [],
      "source": [
        "df_new = df_new[df_new['Extra People'] < 15]"
      ],
      "id": "f18c3c42"
    },
    {
      "cell_type": "code",
      "execution_count": null,
      "metadata": {
        "id": "ed343131",
        "scrolled": false
      },
      "outputs": [],
      "source": [
        "lista_columnas = list(df_new.columns.values)\n",
        "plt.figure(figsize=(10, 20))\n",
        "df_new.plot(kind = 'scatter',x='Extra People',y = 'Price')\n",
        "plt.xlabel('Extra People')\n",
        "plt.ylabel('Price')\n",
        "plt.show()"
      ],
      "id": "ed343131"
    },
    {
      "cell_type": "markdown",
      "metadata": {
        "id": "797e0ecd"
      },
      "source": [
        "Valido mi matriz de correlación nuevamente, después de estos cambios, solo por curiosidad --> "
      ],
      "id": "797e0ecd"
    },
    {
      "cell_type": "code",
      "execution_count": null,
      "metadata": {
        "id": "8780e7f4"
      },
      "outputs": [],
      "source": [
        "# Compute the correlation matrix\n",
        "corr = np.abs(df_new.drop(['Price'], axis=1).corr())\n",
        "#corr = np.abs(house_data_filtered.corr())\n",
        "\n",
        "# Generate a mask for the upper triangle\n",
        "mask = np.zeros_like(corr, dtype=np.bool)\n",
        "mask[np.triu_indices_from(mask)] = True\n",
        "\n",
        "# Set up the matplotlib figure\n",
        "f, ax = plt.subplots(figsize=(12, 10))\n",
        "\n",
        "# Draw the heatmap with the mask and correct aspect ratio\n",
        "sns.heatmap(corr, mask=mask,vmin = 0.0, vmax=1.0, center=0.5,\n",
        "            linewidths=.1, cmap=\"YlGnBu\", cbar_kws={\"shrink\": .8})\n",
        "\n",
        "plt.show()"
      ],
      "id": "8780e7f4"
    },
    {
      "cell_type": "code",
      "execution_count": null,
      "metadata": {
        "id": "1bc0235e"
      },
      "outputs": [],
      "source": [
        "print(\"Se ha reducido el número de variables a --> \",len(df_new.columns))"
      ],
      "id": "1bc0235e"
    },
    {
      "cell_type": "code",
      "execution_count": null,
      "metadata": {
        "id": "06e59b10"
      },
      "outputs": [],
      "source": [
        "df_new.columns"
      ],
      "id": "06e59b10"
    },
    {
      "cell_type": "code",
      "execution_count": null,
      "metadata": {
        "id": "6a105b90"
      },
      "outputs": [],
      "source": [
        "df_regresiones = df_new"
      ],
      "id": "6a105b90"
    },
    {
      "cell_type": "markdown",
      "metadata": {
        "id": "6a1a3e3d"
      },
      "source": [
        "### PARA RECUPÉRAR LOS VALORES DE DF_NEW !!!!!"
      ],
      "id": "6a1a3e3d"
    },
    {
      "cell_type": "code",
      "execution_count": null,
      "metadata": {
        "id": "3b7b18c2"
      },
      "outputs": [],
      "source": [
        "df_new = df_regresiones"
      ],
      "id": "3b7b18c2"
    },
    {
      "cell_type": "markdown",
      "metadata": {
        "id": "e09fba41"
      },
      "source": [
        "## 5. Regresión Lasso\n",
        "\n",
        "Ahora, voy a pruebas de filtrado para ver cómo se comportan las variables que han quedado después de normalizar y clasificarlas por su peso en el precio.\n",
        "\n",
        "Primero divido en y y X -->"
      ],
      "id": "e09fba41"
    },
    {
      "cell_type": "code",
      "execution_count": null,
      "metadata": {
        "id": "e98dfa41"
      },
      "outputs": [],
      "source": [
        "data2 = df_new.values\n",
        "y_train = data2[:,0:1]     # nos quedamos con la 1ª columna, price\n",
        "X_train = data2[:,1:]      # nos quedamos con el resto\n",
        "feature_names = df_new.columns[1:]\n",
        "# Escalamos (con los datos de train)\n",
        "scaler = preprocessing.StandardScaler().fit(X_train)\n",
        "XtrainScaled = scaler.transform(X_train)"
      ],
      "id": "e98dfa41"
    },
    {
      "cell_type": "markdown",
      "metadata": {
        "id": "9bbda2e4"
      },
      "source": [
        "Ahora aplico el filtro y las pruebo, quiero detectar las variables que aportan más del 0,4 tanto en varianza como en mi -->"
      ],
      "id": "9bbda2e4"
    },
    {
      "cell_type": "code",
      "execution_count": null,
      "metadata": {
        "id": "396cafee"
      },
      "outputs": [],
      "source": [
        "feature_names = df_new.columns[1:]\n",
        "\n",
        "\n",
        "# do calculations\n",
        "f_test, _ = f_regression(X_train, y_train)\n",
        "f_test /= np.max(f_test)\n",
        "\n",
        "mi = mutual_info_regression(X_train, y_train)\n",
        "mi /= np.max(mi)\n",
        "\n",
        "# do some plotting\n",
        "plt.figure(figsize=(20, 5))\n",
        "\n",
        "plt.subplot(1,2,1)\n",
        "plt.bar(range(X_train.shape[1]),f_test,  align=\"center\")\n",
        "plt.xticks(range(X_train.shape[1]),feature_names, rotation = 90)\n",
        "plt.axhline(y=0.4, color='r', linestyle='-')\n",
        "plt.xlabel('features')\n",
        "plt.ylabel('Ranking')\n",
        "plt.title('$R^2$ score')\n",
        "\n",
        "plt.subplot(1,2,2)\n",
        "plt.bar(range(X_train.shape[1]),mi, align=\"center\")\n",
        "plt.xticks(range(X_train.shape[1]),feature_names, rotation = 90)\n",
        "plt.axhline(y=0.4, color='r', linestyle='-')\n",
        "plt.xlabel('features')\n",
        "plt.ylabel('Ranking')\n",
        "plt.title('Mutual information score')\n",
        "\n",
        "plt.show()"
      ],
      "id": "396cafee"
    },
    {
      "cell_type": "markdown",
      "metadata": {
        "id": "4831b6c8"
      },
      "source": [
        "Amenities resalta en todas las pruebas por tener una comportamiento interesante con respecto al precio. Mucho más que otros factores, que hubiera considerado importantes, como las camas, el número de baños, la calle o el Barrio. \n",
        "\n",
        "Voy a correr el modelo así para tener un punto de comparación -->"
      ],
      "id": "4831b6c8"
    },
    {
      "cell_type": "code",
      "execution_count": null,
      "metadata": {
        "id": "00798600"
      },
      "outputs": [],
      "source": [
        "alpha_vector = np.logspace(-1,10,50)\n",
        "param_grid = {'alpha': alpha_vector }\n",
        "grid = GridSearchCV(Lasso(), scoring= 'neg_mean_squared_error', param_grid=param_grid, cv = 100)\n",
        "grid.fit(XtrainScaled, y_train)\n",
        "print(\"best mean cross-validation score: {:.3f}\".format(grid.best_score_))\n",
        "print(\"best parameters: {}\".format(grid.best_params_))\n",
        "\n",
        "#-1 porque es negado\n",
        "scores = -1*np.array(grid.cv_results_['mean_test_score'])\n",
        "plt.semilogx(alpha_vector,scores,'-o')\n",
        "plt.xlabel('alpha',fontsize=16)\n",
        "plt.ylabel('5-Fold MSE')\n",
        "plt.show()"
      ],
      "id": "00798600"
    },
    {
      "cell_type": "code",
      "execution_count": null,
      "metadata": {
        "id": "d0553e85",
        "scrolled": true
      },
      "outputs": [],
      "source": [
        "df_new.describe()"
      ],
      "id": "d0553e85"
    },
    {
      "cell_type": "code",
      "execution_count": null,
      "metadata": {
        "id": "01ef86ad"
      },
      "outputs": [],
      "source": [
        "from sklearn.metrics import mean_squared_error\n",
        "\n",
        "alpha_optimo = grid.best_params_['alpha']\n",
        "lasso = Lasso(alpha = alpha_optimo).fit(XtrainScaled,y_train)\n",
        "\n",
        "ytrainLasso = lasso.predict(XtrainScaled)\n",
        "#ytestLasso  = lasso.predict(XtestScaled)\n",
        "mseTrainModelLasso = mean_squared_error(y_train,ytrainLasso)\n",
        "#mseTestModelLasso = mean_squared_error(y_test,ytestLasso)\n",
        "\n",
        "print('MSE Modelo Lasso (train): %0.3g' % mseTrainModelLasso)\n",
        "#print('MSE Modelo Lasso (test) : %0.3g' % mseTestModelLasso)\n",
        "\n",
        "print('RMSE Modelo Lasso (train): %0.3g' % np.sqrt(mseTrainModelLasso))\n",
        "#print('RMSE Modelo Lasso (test) : %0.3g' % np.sqrt(mseTestModelLasso))\n",
        "\n",
        "w = lasso.coef_\n",
        "for f,wi in zip(feature_names,w):\n",
        "    print(f,wi)"
      ],
      "id": "01ef86ad"
    },
    {
      "cell_type": "markdown",
      "metadata": {
        "id": "2cb0c738"
      },
      "source": [
        "### IMPORTANTE\n",
        "\n",
        "Amenities muestra una correlación muy elevada con los resultados de Price. Voy a eliminarla para hacer una prueba y ver si no estoy dejando variables importantes de lado. \n",
        "\n",
        "Analizando los datos originales de Amenities, incluye las mismas alternativas, pero puestas en distitno orden. El codificador ha detectado casi todas, como variables diferentes y, por tanto, la alta correlación viene de una mala clasificación de las mismas. \n",
        "\n",
        "Creo que es una variable importante, aunque para facilitar mi avance la borraré. \n",
        "\n",
        "Esto me dará mayor relevancia para el resto de las variables. \n",
        "\n",
        "Con un poco más de tiempo, lo que haría, sería abordarlo como conjuntos, en donde pudiera detectar cuáles tienen qué componentes, independientemente del orden. \n"
      ],
      "id": "2cb0c738"
    },
    {
      "cell_type": "code",
      "execution_count": null,
      "metadata": {
        "id": "6ff088cc"
      },
      "outputs": [],
      "source": [
        "df_prueba = df_new.drop(['Amenities'], axis=1)\n",
        "data3 = df_prueba.values\n",
        "y_train = data3[:,0:1]     # nos quedamos con la 1ª columna, price\n",
        "X_train = data3[:,1:]      # nos quedamos con el resto\n",
        "feature_names = df_new.columns[1:]\n",
        "# Escalamos (con los datos de train)\n",
        "scaler = preprocessing.StandardScaler().fit(X_train)\n",
        "XtrainScaled = scaler.transform(X_train)\n",
        "\n",
        "data3 = df_prueba.values \n",
        "\n",
        "feature_names = df_prueba.columns[1:]\n",
        "\n",
        "\n",
        "# do calculations\n",
        "f_test, _ = f_regression(X_train, y_train)\n",
        "f_test /= np.max(f_test)\n",
        "\n",
        "mi = mutual_info_regression(X_train, y_train)\n",
        "mi /= np.max(mi)\n",
        "\n",
        "# do some plotting\n",
        "plt.figure(figsize=(20, 5))\n",
        "\n",
        "plt.subplot(1,2,1)\n",
        "plt.bar(range(X_train.shape[1]),f_test,  align=\"center\")\n",
        "plt.xticks(range(X_train.shape[1]),feature_names, rotation = 90)\n",
        "plt.axhline(y=0.4, color='r', linestyle='-')\n",
        "plt.xlabel('features')\n",
        "plt.ylabel('Ranking')\n",
        "plt.title('$R^2$ score')\n",
        "\n",
        "plt.subplot(1,2,2)\n",
        "plt.bar(range(X_train.shape[1]),mi, align=\"center\")\n",
        "plt.xticks(range(X_train.shape[1]),feature_names, rotation = 90)\n",
        "plt.axhline(y=0.4, color='r', linestyle='-')\n",
        "plt.xlabel('features')\n",
        "plt.ylabel('Ranking')\n",
        "plt.title('Mutual information score')\n",
        "\n",
        "plt.show()"
      ],
      "id": "6ff088cc"
    },
    {
      "cell_type": "code",
      "execution_count": null,
      "metadata": {
        "id": "7240724c"
      },
      "outputs": [],
      "source": [
        "alpha_vector = np.logspace(-5,3,50)\n",
        "param_grid = {'alpha': alpha_vector }\n",
        "grid = GridSearchCV(Lasso(), scoring= 'neg_mean_squared_error', param_grid=param_grid, cv = 100)\n",
        "grid.fit(XtrainScaled, y_train1)\n",
        "print(\"best mean cross-validation score: {:.3f}\".format(grid.best_score_))\n",
        "print(\"best parameters: {}\".format(grid.best_params_))\n",
        "\n",
        "#-1 porque es negado\n",
        "scores = -1*np.array(grid.cv_results_['mean_test_score'])\n",
        "plt.semilogx(alpha_vector,scores,'-o')\n",
        "plt.xlabel('alpha',fontsize=16)\n",
        "plt.ylabel('5-Fold MSE')\n",
        "plt.show()"
      ],
      "id": "7240724c"
    },
    {
      "cell_type": "code",
      "execution_count": null,
      "metadata": {
        "id": "2e5b73a1"
      },
      "outputs": [],
      "source": [
        "alpha_optimo = grid.best_params_['alpha']\n",
        "lasso = Lasso(alpha = alpha_optimo).fit(XtrainScaled,y_train1)\n",
        "\n",
        "ytrainLasso = lasso.predict(XtrainScaled)\n",
        "#ytestLasso  = lasso.predict(XtestScaled)\n",
        "mseTrainModelLasso = mean_squared_error(y_train1,ytrainLasso)\n",
        "#mseTestModelLasso = mean_squared_error(y_test,ytestLasso)\n",
        "\n",
        "print('MSE Modelo Lasso (train): %0.3g' % mseTrainModelLasso)\n",
        "#print('MSE Modelo Lasso (test) : %0.3g' % mseTestModelLasso)\n",
        "\n",
        "print('RMSE Modelo Lasso (train): %0.3g' % np.sqrt(mseTrainModelLasso))\n",
        "#print('RMSE Modelo Lasso (test) : %0.3g' % np.sqrt(mseTestModelLasso))\n",
        "\n",
        "w = lasso.coef_\n",
        "for f,wi in zip(feature_names,w):\n",
        "    print(f,wi)"
      ],
      "id": "2e5b73a1"
    },
    {
      "cell_type": "markdown",
      "metadata": {
        "id": "11402758"
      },
      "source": [
        "Existen varios coeficientes = 0:\n",
        "- Property Type\n",
        "- Neighbourhood Cleansed\n",
        "- Host Verifications\n",
        "- Host Response Time\n",
        "- Latitude\n",
        "- Longitude \n",
        "- Review Scores Checkin \n",
        "- Review Scores Location \n",
        "- Review Scorew Value \n"
      ],
      "id": "11402758"
    },
    {
      "cell_type": "markdown",
      "metadata": {
        "id": "4796518d"
      },
      "source": [
        "Las elimino de los datos -->"
      ],
      "id": "4796518d"
    },
    {
      "cell_type": "code",
      "execution_count": null,
      "metadata": {
        "id": "01bf940c"
      },
      "outputs": [],
      "source": [
        "df_prueba = df_prueba.drop(['Review Scores Location', 'Review Scores Value', 'Maximum Nights', 'Longitude', \n",
        "                        'Latitude', 'Host Response Time', 'Host Verifications', 'Property Type'], axis = 1)"
      ],
      "id": "01bf940c"
    },
    {
      "cell_type": "code",
      "execution_count": null,
      "metadata": {
        "id": "90d6b718"
      },
      "outputs": [],
      "source": [
        "n_alphas = 20\n",
        "alphas = np.logspace(-5, 3, n_alphas)\n",
        "# ...\n",
        "coefs = []\n",
        "\n",
        "norm2_coefs = []\n",
        "for a in alphas:\n",
        "    #### TU CÓDIGO AQUÍ\n",
        "    lasso = Lasso(alpha = a).fit(X_train1,y_train1)\n",
        "    \n",
        "    #####\n",
        "    coefs.append(lasso.coef_)\n",
        "    norm2_coefs.append(np.dot(lasso.coef_,lasso.coef_.T))\n",
        "\n",
        "# Display results\n",
        "plt.figure(figsize=(14, 5))\n",
        "\n",
        "ax = plt.subplot(1, 2, 1)\n",
        "ax.plot(alphas, coefs)\n",
        "ax.set_xscale('log')\n",
        "ax.set_xlim(ax.get_xlim()[::-1])  # reverse axis\n",
        "plt.xlabel('alpha')\n",
        "plt.ylabel('$w_i$')\n",
        "plt.title('Coeficientes en función de la regularización')\n",
        "plt.axis('tight')\n",
        "\n",
        "\n",
        "ax = plt.subplot(1, 2, 2)\n",
        "ax.plot(alphas, norm2_coefs)\n",
        "ax.set_xscale('log')\n",
        "ax.set_xlim(ax.get_xlim()[::-1])  # reverse axis\n",
        "plt.xlabel('alpha')\n",
        "plt.ylabel('$||\\mathbf{w}||^2_2$')\n",
        "plt.title('Norma de los coeffs en función de la regularización')\n",
        "plt.axis('tight')\n",
        "plt.show()"
      ],
      "id": "90d6b718"
    },
    {
      "cell_type": "markdown",
      "metadata": {
        "id": "0f4d008f"
      },
      "source": [
        "El análisis sin Amenities, me da un nivel de error similar, pero me permite ver mejor cómo juegan otras variables. \n",
        "\n",
        "De esta manera, me aparecen con coeficientes = 0 las siguientes: Longitude y Neighbourhood Cleansed. Los eliminaré y continuaré el ejercicio. "
      ],
      "id": "0f4d008f"
    },
    {
      "cell_type": "markdown",
      "metadata": {
        "id": "b08c31a5"
      },
      "source": [
        "## El error se ha incrementado a 27,5€, sin embargo, se ha reducido mucho la complejidad. Las variables con las que continuaremos son:\n"
      ],
      "id": "b08c31a5"
    },
    {
      "cell_type": "code",
      "execution_count": null,
      "metadata": {
        "id": "f21740c4"
      },
      "outputs": [],
      "source": [
        "print(\"El número de variables restante es \", len(df_prueba.columns.values))\n"
      ],
      "id": "f21740c4"
    },
    {
      "cell_type": "markdown",
      "metadata": {
        "id": "bb2f8019"
      },
      "source": [
        "Reduzco el modelo en lasso para quedar únicamente con estas variables --> \n"
      ],
      "id": "bb2f8019"
    },
    {
      "cell_type": "code",
      "execution_count": null,
      "metadata": {
        "id": "1d793bca"
      },
      "outputs": [],
      "source": [
        "df_new = df_prueba"
      ],
      "id": "1d793bca"
    },
    {
      "cell_type": "markdown",
      "metadata": {
        "id": "ff3fd758"
      },
      "source": [
        "Este es el conjunto de variables con el que trabajaré a partir de ahora:"
      ],
      "id": "ff3fd758"
    },
    {
      "cell_type": "code",
      "execution_count": null,
      "metadata": {
        "id": "650545d3"
      },
      "outputs": [],
      "source": [
        "Recuperar_lasso = df_new\n",
        "print(\"Me quedo para continuar con \", len(df_new.columns), \"variables.\")\n",
        "print(\"Las variables son --> \", df_new.columns)\n",
        "      "
      ],
      "id": "650545d3"
    },
    {
      "cell_type": "markdown",
      "metadata": {
        "id": "162b54b5"
      },
      "source": [
        "#### Resetear df_new con valores de Lasso"
      ],
      "id": "162b54b5"
    },
    {
      "cell_type": "code",
      "execution_count": null,
      "metadata": {
        "id": "73d6292f"
      },
      "outputs": [],
      "source": [
        "df_new = Recuperar_lasso"
      ],
      "id": "73d6292f"
    },
    {
      "cell_type": "code",
      "execution_count": null,
      "metadata": {
        "id": "9f0f5746"
      },
      "outputs": [],
      "source": [
        "df_new.head()"
      ],
      "id": "9f0f5746"
    },
    {
      "cell_type": "code",
      "execution_count": null,
      "metadata": {
        "id": "4f96e34b"
      },
      "outputs": [],
      "source": [
        "print(\"Las variables que parecen tener más influencia en los resultados (más de 0,4 en varianza y en mi) son -->\")\n",
        "s = pd.Series((f_test>0.4)+(mi>0.4), name='bools')\n",
        "features_result = feature_names[s.values]\n",
        "print(features_result)"
      ],
      "id": "4f96e34b"
    },
    {
      "cell_type": "code",
      "execution_count": null,
      "metadata": {
        "id": "eb104410"
      },
      "outputs": [],
      "source": [
        "list(features_result)"
      ],
      "id": "eb104410"
    },
    {
      "cell_type": "markdown",
      "metadata": {
        "id": "78a2493f"
      },
      "source": [
        "Voy a correr Lasso una vez más, para ver cómo se comporta si mantengo únicamente estas variables -->"
      ],
      "id": "78a2493f"
    },
    {
      "cell_type": "code",
      "execution_count": null,
      "metadata": {
        "id": "8fb14cb1"
      },
      "outputs": [],
      "source": [
        "df_prueba = df_new[features_result.insert(0, 'Price')]\n",
        "df_prueba.head()"
      ],
      "id": "8fb14cb1"
    },
    {
      "cell_type": "code",
      "execution_count": null,
      "metadata": {
        "id": "eca51835"
      },
      "outputs": [],
      "source": [
        "data3 = df_prueba.values\n",
        "y_train = data3[:,0:1]     # nos quedamos con la 1ª columna, price\n",
        "X_train = data3[:,1:]      # nos quedamos con el resto\n",
        "feature_names = df_new.columns[1:]\n",
        "# Escalamos (con los datos de train)\n",
        "scaler = preprocessing.StandardScaler().fit(X_train)\n",
        "XtrainScaled = scaler.transform(X_train)\n",
        "\n",
        "data3 = df_prueba.values \n",
        "\n",
        "feature_names = df_prueba.columns[1:]\n",
        "\n",
        "\n",
        "# do calculations\n",
        "f_test, _ = f_regression(X_train, y_train)\n",
        "f_test /= np.max(f_test)\n",
        "\n",
        "mi = mutual_info_regression(X_train, y_train)\n",
        "mi /= np.max(mi)\n",
        "\n",
        "# do some plotting\n",
        "plt.figure(figsize=(20, 5))\n",
        "\n",
        "plt.subplot(1,2,1)\n",
        "plt.bar(range(X_train.shape[1]),f_test,  align=\"center\")\n",
        "plt.xticks(range(X_train.shape[1]),feature_names, rotation = 90)\n",
        "plt.axhline(y=0.4, color='r', linestyle='-')\n",
        "plt.xlabel('features')\n",
        "plt.ylabel('Ranking')\n",
        "plt.title('$R^2$ score')\n",
        "\n",
        "plt.subplot(1,2,2)\n",
        "plt.bar(range(X_train.shape[1]),mi, align=\"center\")\n",
        "plt.xticks(range(X_train.shape[1]),feature_names, rotation = 90)\n",
        "plt.axhline(y=0.4, color='r', linestyle='-')\n",
        "plt.xlabel('features')\n",
        "plt.ylabel('Ranking')\n",
        "plt.title('Mutual information score')\n",
        "\n",
        "plt.show()"
      ],
      "id": "eca51835"
    },
    {
      "cell_type": "code",
      "execution_count": null,
      "metadata": {
        "id": "87545dcf"
      },
      "outputs": [],
      "source": [
        "alpha_vector = np.logspace(-5,3,50)\n",
        "param_grid = {'alpha': alpha_vector }\n",
        "grid = GridSearchCV(Lasso(), scoring= 'neg_mean_squared_error', param_grid=param_grid, cv = 100)\n",
        "grid.fit(XtrainScaled, y_train1)\n",
        "print(\"best mean cross-validation score: {:.3f}\".format(grid.best_score_))\n",
        "print(\"best parameters: {}\".format(grid.best_params_))\n",
        "\n",
        "#-1 porque es negado\n",
        "scores = -1*np.array(grid.cv_results_['mean_test_score'])\n",
        "plt.semilogx(alpha_vector,scores,'-o')\n",
        "plt.xlabel('alpha',fontsize=16)\n",
        "plt.ylabel('5-Fold MSE')\n",
        "plt.show()"
      ],
      "id": "87545dcf"
    },
    {
      "cell_type": "code",
      "execution_count": null,
      "metadata": {
        "id": "f27751f6",
        "scrolled": true
      },
      "outputs": [],
      "source": [
        "alpha_optimo = grid.best_params_['alpha']\n",
        "lasso = Lasso(alpha = alpha_optimo).fit(XtrainScaled,y_train1)\n",
        "\n",
        "ytrainLasso = lasso.predict(XtrainScaled)\n",
        "#ytestLasso  = lasso.predict(XtestScaled)\n",
        "mseTrainModelLasso = mean_squared_error(y_train1,ytrainLasso)\n",
        "#mseTestModelLasso = mean_squared_error(y_test,ytestLasso)\n",
        "\n",
        "print('MSE Modelo Lasso (train): %0.3g' % mseTrainModelLasso)\n",
        "#print('MSE Modelo Lasso (test) : %0.3g' % mseTestModelLasso)\n",
        "\n",
        "print('RMSE Modelo Lasso (train): %0.3g' % np.sqrt(mseTrainModelLasso))\n",
        "#print('RMSE Modelo Lasso (test) : %0.3g' % np.sqrt(mseTestModelLasso))\n",
        "\n",
        "w = lasso.coef_\n",
        "for f,wi in zip(feature_names,w):\n",
        "    print(f,wi)"
      ],
      "id": "f27751f6"
    },
    {
      "cell_type": "markdown",
      "metadata": {
        "id": "04da8dc7"
      },
      "source": [
        "## 6. Regresión Lineal \n",
        "\n",
        "Ahora voy a intentar obtener el modelo en base a una regresión lineal. \n",
        "\n",
        "Voy a iniciar con las 31 variables (incluyendo 'Price') que tenía al final de Lasso --> "
      ],
      "id": "04da8dc7"
    },
    {
      "cell_type": "code",
      "execution_count": null,
      "metadata": {
        "id": "289ce7fa"
      },
      "outputs": [],
      "source": [
        "df_prueba = df_new\n",
        "linear_vars = df_prueba.columns\n",
        "data_linear = df_prueba.values"
      ],
      "id": "289ce7fa"
    },
    {
      "cell_type": "code",
      "execution_count": null,
      "metadata": {
        "id": "20866240"
      },
      "outputs": [],
      "source": [
        "y_train_linear = data_linear[:,0:1]     # nos quedamos con la 1ª columna, price\n",
        "X_train_linear = data_linear[:,1:]      # nos quedamos con el resto\n",
        "feature_names_linear = linear_vars[1:]\n"
      ],
      "id": "20866240"
    },
    {
      "cell_type": "code",
      "execution_count": null,
      "metadata": {
        "id": "74a1b4c6"
      },
      "outputs": [],
      "source": [
        "feature_names_linear"
      ],
      "id": "74a1b4c6"
    },
    {
      "cell_type": "code",
      "execution_count": null,
      "metadata": {
        "id": "d5df803c"
      },
      "outputs": [],
      "source": [
        "print(\"Estoy utilizando las siguientes variables --> \", feature_names_linear.values, \"\\n\")\n",
        "\n",
        "poly = PolynomialFeatures(X_train_linear.shape[1])\n",
        "X = poly.fit_transform(X_train_linear.reshape(-1, 1))\n",
        "lr = LinearRegression().fit(X_train_linear,y_train_linear)\n",
        "\n",
        "y_hat = lr.predict(X_train_linear)\n",
        "\n",
        "error_train = np.mean(np.power(y_train_linear-y_hat,2))\n",
        "\n",
        "for number in range(len(feature_names_linear)):\n",
        "    print(feature_names_linear[number], lr.coef_[0,number])\n",
        "\n",
        "print(\"El MSE es -->\", error_train)\n",
        "print(\"El error esperado es de \", np.sqrt(error_train))"
      ],
      "id": "d5df803c"
    },
    {
      "cell_type": "markdown",
      "metadata": {
        "id": "3de20616"
      },
      "source": [
        "Parece bueno, pero me parece que se puede mejorar. Voy a eliminar las variables con coeficientes menores a 0.1. Voy a trabajar con las que me resten, a ver qué resultado me da. "
      ],
      "id": "3de20616"
    },
    {
      "cell_type": "markdown",
      "metadata": {
        "id": "8d590590"
      },
      "source": [
        "Ahora, voy a reducir el número de variables para quedarme con las que tienen coeficientes iguales o superiores a 0.1 -->"
      ],
      "id": "8d590590"
    },
    {
      "cell_type": "code",
      "execution_count": null,
      "metadata": {
        "id": "26cb6881"
      },
      "outputs": [],
      "source": [
        "coeficiente_condicion = pd.Series(lr.coef_[0,] >= 0.1)\n",
        "coeficientes_valiosos = feature_names_linear[coeficiente_condicion].values\n",
        "list(coeficientes_valiosos)"
      ],
      "id": "26cb6881"
    },
    {
      "cell_type": "code",
      "execution_count": null,
      "metadata": {
        "id": "7d5a1675"
      },
      "outputs": [],
      "source": [
        "df_prueba = df_new[features_result.insert(0, 'Price')]\n",
        "df_prueba.head()"
      ],
      "id": "7d5a1675"
    },
    {
      "cell_type": "code",
      "execution_count": null,
      "metadata": {
        "id": "c2ba4a11"
      },
      "outputs": [],
      "source": [
        "linear_vars = df_prueba.columns\n",
        "data_linear = df_prueba.values"
      ],
      "id": "c2ba4a11"
    },
    {
      "cell_type": "code",
      "execution_count": null,
      "metadata": {
        "id": "ee6eb1c4"
      },
      "outputs": [],
      "source": [
        "y_train_linear = data_linear[:,0:1]     # nos quedamos con la 1ª columna, price\n",
        "X_train_linear = data_linear[:,1:]      # nos quedamos con el resto\n",
        "feature_names_linear = linear_vars[1:]\n"
      ],
      "id": "ee6eb1c4"
    },
    {
      "cell_type": "code",
      "execution_count": null,
      "metadata": {
        "id": "82b4aa70"
      },
      "outputs": [],
      "source": [
        "print(\"Estoy utilizando las siguientes variables --> \", features_result.values, \"\\n\")\n",
        "\n",
        "poly = PolynomialFeatures(X_train_linear.shape[1])\n",
        "X = poly.fit_transform(X_train_linear.reshape(-1, 1))\n",
        "lr = LinearRegression().fit(X_train_linear,y_train_linear)\n",
        "\n",
        "y_hat = lr.predict(X_train_linear)\n",
        "\n",
        "error_train = np.mean(np.power(y_train_linear-y_hat,2))\n",
        "\n",
        "for number in range(len(features_result)):\n",
        "    print(features_result[number], lr.coef_[0,number])\n",
        "\n",
        "print(\"El MSE es -->\", error_train)\n",
        "print(\"El error esperado es de \", np.sqrt(error_train))"
      ],
      "id": "82b4aa70"
    },
    {
      "cell_type": "markdown",
      "metadata": {
        "id": "21806b64"
      },
      "source": [
        "#### Vale la pena seguir explorando, con 10 variables, solo he incrementado el error a 29,3€. Valdría la penas generar un bucle. "
      ],
      "id": "21806b64"
    },
    {
      "cell_type": "markdown",
      "metadata": {
        "id": "2c63ee3a"
      },
      "source": [
        "### 7. Clasificar usando Random Forest"
      ],
      "id": "2c63ee3a"
    },
    {
      "cell_type": "markdown",
      "metadata": {
        "id": "8e5f034e"
      },
      "source": [
        "Parto, nuevamente de la base de datos que dejé después de lasso con 10 variables (incluendo 'Price'). \n",
        "\n",
        "Voy a clasificar primero las variables, para comprender cómo afectan a los precios en base a sus características --> "
      ],
      "id": "8e5f034e"
    },
    {
      "cell_type": "code",
      "execution_count": null,
      "metadata": {
        "id": "49344b74"
      },
      "outputs": [],
      "source": [
        "df_prueba = df_new[features_result.insert(0, 'Price')]\n",
        "df_prueba.head()"
      ],
      "id": "49344b74"
    },
    {
      "cell_type": "code",
      "execution_count": null,
      "metadata": {
        "id": "fba4e897"
      },
      "outputs": [],
      "source": [
        "RF_vars = df_prueba.columns\n",
        "RF_vars.shape\n",
        "data_RF = df_prueba.values"
      ],
      "id": "fba4e897"
    },
    {
      "cell_type": "code",
      "execution_count": null,
      "metadata": {
        "id": "b899c4d0"
      },
      "outputs": [],
      "source": [
        "y_train_RF = data_RF[:,0:1]     # nos quedamos con la 1ª columna, price\n",
        "X_train_RF = data_RF[:,1:]      # nos quedamos con el resto\n",
        "feature_names_RF = RF_vars[1:]"
      ],
      "id": "b899c4d0"
    },
    {
      "cell_type": "code",
      "execution_count": null,
      "metadata": {
        "id": "4dbd631c"
      },
      "outputs": [],
      "source": [
        "N,Nfeatures = X_train.shape\n",
        "\n",
        "rf = RandomForestClassifier(max_depth=maxDepthOptimo,n_estimators=200,max_features='sqrt')\n",
        "kf  = KFold(n_splits=10, shuffle = True, random_state=1)\n",
        "cv_error = []\n",
        "cv_std = []\n",
        "\n",
        "for nfeatures in range(Nfeatures,0,-1):\n",
        "        \n",
        "    error_i = []\n",
        "    \n",
        "    for idxTrain, idxVal in kf.split(X_train_RF):\n",
        "        \n",
        "        Xt = X_train_RF[idxTrain,:]\n",
        "        yt = y_train_RF[idxTrain]\n",
        "        Xv = X_train_RF[idxVal,:]\n",
        "        yv = y_train_RF[idxVal]\n",
        "        \n",
        "        rf.fit(Xt,yt)\n",
        "        \n",
        "        ranking = rf.feature_importances_\n",
        "        indices = np.argsort(ranking)[::-1] \n",
        "    \n",
        "        selected = indices[0:(Nfeatures-nfeatures+1)]\n",
        "        \n",
        "        Xs = Xt[:,selected]\n",
        "        \n",
        "        rf.fit(Xs,yt)\n",
        "        error = (1.0-rf.score(Xv[:,selected],yv))     \n",
        "        error_i.append(error) \n",
        "    \n",
        "    cv_error.append(np.mean(error_i))\n",
        "    cv_std.append(np.std(error_i))\n",
        "    \n",
        "    print('# features ' + str(len(selected)) + ' error ' + str(np.mean(error_i)) + ' +/- ' + str(np.std(error_i)))"
      ],
      "id": "4dbd631c"
    },
    {
      "cell_type": "code",
      "execution_count": null,
      "metadata": {
        "id": "ac8e9230"
      },
      "outputs": [],
      "source": [
        "print(\"El número de variables, incluyendo Price es de --> \", len(feature_names_RF))\n",
        "feature_names_RF\n"
      ],
      "id": "ac8e9230"
    },
    {
      "cell_type": "code",
      "execution_count": null,
      "metadata": {
        "id": "0b80d181"
      },
      "outputs": [],
      "source": [
        "maxDepth = range(1,15)\n",
        "tuned_parameters = {'max_depth': maxDepth}\n",
        "\n",
        "grid = GridSearchCV(RandomForestRegressor(random_state=0, n_estimators=20, max_features='sqrt'), param_grid=tuned_parameters,cv=10, verbose=1) \n",
        "grid.fit(X_train_RF, y_train_RF)\n",
        "\n",
        "print(\"best mean cross-validation score: {:.3f}\".format(grid.best_score_))\n",
        "print(\"best parameters: {}\".format(grid.best_params_))\n",
        "\n",
        "scores = np.array(grid.cv_results_['mean_test_score'])\n",
        "plt.plot(maxDepth,scores,'-o')\n",
        "plt.xlabel('max_depth')\n",
        "plt.ylabel('10-fold ACC')\n",
        "\n",
        "plt.show()"
      ],
      "id": "0b80d181"
    },
    {
      "cell_type": "markdown",
      "metadata": {
        "id": "d5dfc06f"
      },
      "source": [
        "El mejor resultado me lo da con 12."
      ],
      "id": "d5dfc06f"
    },
    {
      "cell_type": "code",
      "execution_count": null,
      "metadata": {
        "id": "c567354d"
      },
      "outputs": [],
      "source": [
        "maxDepthOptimo = grid.best_params_['max_depth']\n",
        "bagModel = RandomForestClassifier(max_depth=maxDepthOptimo,n_estimators=200,max_features='sqrt').fit(X_train,y_train)\n",
        "\n",
        "print(\"Train: \",bagModel.score(X_train,y_train))\n",
        "#print(\"Test: \",bagModel.score(X_test,y_test))"
      ],
      "id": "c567354d"
    },
    {
      "cell_type": "markdown",
      "metadata": {
        "id": "e6a9826a"
      },
      "source": [
        "Me parece un resultado muy alto. Veremos con el test. "
      ],
      "id": "e6a9826a"
    },
    {
      "cell_type": "code",
      "execution_count": null,
      "metadata": {
        "id": "ffa32da9"
      },
      "outputs": [],
      "source": [
        "importances = bagModel.feature_importances_\n",
        "importances = importances / np.max(importances)\n",
        "\n",
        "indices = np.argsort(importances)[::-1]\n",
        "\n",
        "plt.figure(figsize=(10,10))\n",
        "plt.barh(range(X_train.shape[1]),importances[indices])\n",
        "plt.yticks(range(X_train.shape[1]),feature_names_RF[indices])\n",
        "plt.show()"
      ],
      "id": "ffa32da9"
    },
    {
      "cell_type": "markdown",
      "metadata": {
        "id": "626aa1b9"
      },
      "source": [
        "Parece que el precio es determinado, primero por la experiencia y las primeras evaluaciones, seguido por su ubicación y el número de camas. "
      ],
      "id": "626aa1b9"
    },
    {
      "cell_type": "markdown",
      "metadata": {
        "id": "c709f1e8"
      },
      "source": [
        "## TEST!!!!"
      ],
      "id": "c709f1e8"
    },
    {
      "cell_type": "markdown",
      "metadata": {
        "id": "9d21f196"
      },
      "source": [
        "## 8. Test. \n",
        "\n",
        "Ahora repetiré unicamente los cambios realizados en Train, sin comentarios, hasta la comparación de los resultados y el análisis del overfitting. "
      ],
      "id": "9d21f196"
    },
    {
      "cell_type": "code",
      "execution_count": null,
      "metadata": {
        "id": "18b79ae3"
      },
      "outputs": [],
      "source": [
        "df_test = pd.read_csv('./test.csv', sep=';', decimal='.')"
      ],
      "id": "18b79ae3"
    },
    {
      "cell_type": "code",
      "execution_count": null,
      "metadata": {
        "id": "eb061d2b"
      },
      "outputs": [],
      "source": [
        "df_test.shape"
      ],
      "id": "eb061d2b"
    },
    {
      "cell_type": "code",
      "execution_count": null,
      "metadata": {
        "id": "f394f876"
      },
      "outputs": [],
      "source": [
        "lista_columnas = list(df_test.columns.values)\n",
        "print(\"La lista inicial de las columnas de train es --> \", lista_columnas)"
      ],
      "id": "f394f876"
    },
    {
      "cell_type": "markdown",
      "metadata": {
        "id": "3465feed"
      },
      "source": [
        "primero, elimino la columna de \"Country\", pues no aporta nada en este análisis --> "
      ],
      "id": "3465feed"
    },
    {
      "cell_type": "code",
      "execution_count": null,
      "metadata": {
        "id": "23abf6b9"
      },
      "outputs": [],
      "source": [
        "i = \"Country\"\n",
        "print(\"Valido que 'Country' se encuentra en la lista_columnas - original - \\n\")\n",
        "if i in lista_columnas:\n",
        "    print(\"Sí Existe\\n\")\n",
        "else:\n",
        "    print(\"No Existe\\n\")\n",
        "df_test = df_test.drop('Country', axis=1)\n",
        "lista_columnas = list(df_test.columns.values)\n",
        "print(\"\\nLa nueva lista de columnas es --> \\n \\n\", lista_columnas, \"\\n\")\n",
        "if i in lista_columnas:\n",
        "    print(\"Sí Existe\\n\")\n",
        "else:\n",
        "    print(\"No Existe\\n\")"
      ],
      "id": "23abf6b9"
    },
    {
      "cell_type": "markdown",
      "metadata": {
        "id": "adb913bd"
      },
      "source": [
        "Ahora, eliminaré la siguiente lista de columnas, que tienen menos del más del 30% de NAs"
      ],
      "id": "adb913bd"
    },
    {
      "cell_type": "code",
      "execution_count": null,
      "metadata": {
        "id": "c052ae88"
      },
      "outputs": [],
      "source": [
        "df_test.drop(['Neighborhood Overview', 'Notes', 'Transit', 'Access', 'Interaction', 'House Rules', 'Host About', 'Host Acceptance Rate', 'Neighbourhood', 'Square Feet', 'Weekly Price', 'Monthly Price', 'Security Deposit', 'Cleaning Fee', 'Has Availability', 'License', 'Jurisdiction Names'], axis = 1, inplace=True)"
      ],
      "id": "c052ae88"
    },
    {
      "cell_type": "code",
      "execution_count": null,
      "metadata": {
        "id": "323d6bd7"
      },
      "outputs": [],
      "source": [
        "print(\"Verifico si alguno de las columnas existe aún --> \")\n",
        "print(\"El tamaño de original de la lista de columnas es \", len(lista_columnas))\n",
        "lista_columnas = list(df_test.columns.values)\n",
        "print(\"El tamaño nuevo de la lista de columnas es \", len(lista_columnas))\n",
        "print(df_test.shape)\n",
        "for i in ['Neighborhood Overview', 'Notes', 'Transit', 'Access', 'Interaction', 'House Rules', 'Host About', 'Host Acceptance Rate', 'Neighbourhood', 'Square Feet', 'Weekly Price', 'Monthly Price', 'Security Deposit', 'Cleaning Fee', 'Has Availability', 'License', 'Jurisdiction Names']:\n",
        "    if i in lista_columnas:\n",
        "        print(i, \"está en la lista!!! \\n\")\n",
        "    else:\n",
        "        print(i, \"se ha borrado de la lista --> OK \\n\")"
      ],
      "id": "323d6bd7"
    },
    {
      "cell_type": "markdown",
      "metadata": {
        "id": "7cb4b6d3"
      },
      "source": [
        "Ahora voy a confirmar que los datos de las filas con los siguientes valores en \"Market\" --> nan, 'Toledo', 'Other (International)', 'London', 'Deauville', 'Barcelona', 'Mallorca Island' se borraron en el paso donde filtré Madrid"
      ],
      "id": "7cb4b6d3"
    },
    {
      "cell_type": "code",
      "execution_count": null,
      "metadata": {
        "id": "559c2919"
      },
      "outputs": [],
      "source": [
        "np.unique(df_test['Market'])"
      ],
      "id": "559c2919"
    },
    {
      "cell_type": "markdown",
      "metadata": {
        "id": "9b5bc0b2"
      },
      "source": [
        "Voy a arreglar los códigos postales -->"
      ],
      "id": "9b5bc0b2"
    },
    {
      "cell_type": "markdown",
      "metadata": {
        "id": "81c52bbc"
      },
      "source": [
        "DataFrame.replace(to_replace=None, value=_NoDefault.no_default, *, inplace=False, limit=None, regex=False, method=_NoDefault.no_default)"
      ],
      "id": "81c52bbc"
    },
    {
      "cell_type": "markdown",
      "metadata": {
        "id": "8c712bf4"
      },
      "source": [
        "* Los que inician con '0' no son de Madrid\n",
        "* Los códigos 46370, 84084,03430, 07320, probablemente no son de Madrid --> Se borrarán\n",
        "* 28002\\n28002 debe reemplazarse por 28002\n",
        "* 2802\\n28012 debe reemplazarse por 28012\n",
        "* 28051\\n28051 debe reemplazarse por 28051\n",
        "* 280013 debe reemplazarse por 28013\n",
        "* 28 es un error se elimina\n",
        "* 08015 parece 28015\n",
        "* 2015 y 2805 probablemente son 28015\n",
        "* 2804 probablemente es 28004\n",
        "* 28051\\n28051 debe reemplazarse por 28051\n",
        "* 29012 debe ser 28012\n",
        "* 27013 debe ser 28013\n",
        "* 20013 debe ser 28013\n",
        "* 20126 debe ser 28126\n",
        "* 27004 debe ser 28004\n",
        "* Hay que eliminar un '-'\n",
        "* 2815 debe ser 28015\n",
        "* Madrid 28004 debe ser 28004\n",
        "* 10100 debe ser 28100\n",
        "* Pondré toda la columna como int\n",
        "* Eliminaré todos los NA"
      ],
      "id": "8c712bf4"
    },
    {
      "cell_type": "code",
      "execution_count": null,
      "metadata": {
        "id": "55c576d0"
      },
      "outputs": [],
      "source": [
        "df_test['Zipcode'] = df_test['Zipcode'].replace({'28002\\n28002':28002, '2802\\n28012':28012, '08015':28015, '28051\\n28051':28051, 'Madrid 28004':28004}, inplace=False)"
      ],
      "id": "55c576d0"
    },
    {
      "cell_type": "code",
      "execution_count": null,
      "metadata": {
        "id": "7926f746"
      },
      "outputs": [],
      "source": [
        "df_test=df_test.dropna(subset=['Zipcode'])"
      ],
      "id": "7926f746"
    },
    {
      "cell_type": "code",
      "execution_count": null,
      "metadata": {
        "id": "b0bfb84e"
      },
      "outputs": [],
      "source": [
        "df_test = df_test.drop(df[df.Zipcode == '-'].index)"
      ],
      "id": "b0bfb84e"
    },
    {
      "cell_type": "code",
      "execution_count": null,
      "metadata": {
        "id": "4d727b7d"
      },
      "outputs": [],
      "source": [
        "df_test = df_test.astype({'Zipcode':'int'})"
      ],
      "id": "4d727b7d"
    },
    {
      "cell_type": "code",
      "execution_count": null,
      "metadata": {
        "id": "6e646d99"
      },
      "outputs": [],
      "source": [
        "df_test['Zipcode'] = df_test['Zipcode'].replace({25008: 28008, 2805:28015, 280013:28013, 2015:28015, 2805:28015, 2804:28004, 29012:28012, 27013:28013, 2815:28015, 10100:28100, 20013: 28013, 20126: 28126, 27004: 28004, 29230:28830}, inplace=False)"
      ],
      "id": "6e646d99"
    },
    {
      "cell_type": "code",
      "execution_count": null,
      "metadata": {
        "id": "94765901"
      },
      "outputs": [],
      "source": [
        "np.unique(df_test.Zipcode)"
      ],
      "id": "94765901"
    },
    {
      "cell_type": "code",
      "execution_count": null,
      "metadata": {
        "id": "607ed570"
      },
      "outputs": [],
      "source": [
        "df_test = df_test.drop(df[df.Zipcode == 28].index)"
      ],
      "id": "607ed570"
    },
    {
      "cell_type": "code",
      "execution_count": null,
      "metadata": {
        "id": "af9f85ac"
      },
      "outputs": [],
      "source": [
        "df_test = df_test.drop(df[df.Zipcode > 30000].index)"
      ],
      "id": "af9f85ac"
    },
    {
      "cell_type": "code",
      "execution_count": null,
      "metadata": {
        "id": "cf7ec151"
      },
      "outputs": [],
      "source": [
        "df_test = df_test.drop(df[df.Zipcode == 3430].index)"
      ],
      "id": "cf7ec151"
    },
    {
      "cell_type": "code",
      "execution_count": null,
      "metadata": {
        "id": "13446d93"
      },
      "outputs": [],
      "source": [
        "df_test = df_test.drop(df[df.Zipcode == 7320].index)"
      ],
      "id": "13446d93"
    },
    {
      "cell_type": "code",
      "execution_count": null,
      "metadata": {
        "id": "91a4c33a"
      },
      "outputs": [],
      "source": [
        "np.unique(df_test.Zipcode)"
      ],
      "id": "91a4c33a"
    },
    {
      "cell_type": "markdown",
      "metadata": {
        "id": "7cbf10b5"
      },
      "source": [
        "### Ahora analizo de la estructura de mi dataframe\n"
      ],
      "id": "7cbf10b5"
    },
    {
      "cell_type": "code",
      "execution_count": null,
      "metadata": {
        "id": "3aa39c84"
      },
      "outputs": [],
      "source": [
        "df_test.dtypes"
      ],
      "id": "3aa39c84"
    },
    {
      "cell_type": "code",
      "execution_count": null,
      "metadata": {
        "id": "e2be78e1"
      },
      "outputs": [],
      "source": [
        "lista_columnas = list(df_test.columns.values)\n",
        "len(lista_columnas)"
      ],
      "id": "e2be78e1"
    },
    {
      "cell_type": "markdown",
      "metadata": {
        "id": "0d75d6a1"
      },
      "source": [
        "Ahora elimino las variables que pudieran ser redundantes, pues apuntan a la misma información. 'Name' no sigue un formato único, por lo que es probable que todas las entradas sean ligeramente distintas, funcionaría igual que 'ID'. La información de Scrape es externa, no aporta tampoco. Por ejemplo, ID está relacionado con nombre. Los datos del Host no son relevantes, salvo los que tengan que ver con la propiedad, como sería Host Response Time, Host Since (experiencia), Host Verifications y el Host ID. Igualmente, las URL que apuntan a la propiedad o las de las imágenes (que no se vana a tratar en este análisis), al ser dentro de airbnb, probablemente, no aporten información relevante. Voy a mantener de momento todas las Neighbourhood, que parecen redundantes, pero tienen información distintaa, para analizarlas un poco más. También elimino Country Code, pues todos están en España. Elimino todos estos. Mantengo todas las Review Scores, pues son evaluaciones de distintos factores por parte de los usuarios. Alguno de los factores podría ser más valorado que otro.  \n",
        "\n",
        "En resumen, elimino Listing Url, Summary, Space, Description, Host Response Rate y Host Picture Url. "
      ],
      "id": "0d75d6a1"
    },
    {
      "cell_type": "code",
      "execution_count": null,
      "metadata": {
        "id": "ca888814"
      },
      "outputs": [],
      "source": [
        "df_test.drop(['Name', \n",
        " 'Listing Url',\n",
        " 'Scrape ID',\n",
        " 'Last Scraped',\n",
        " 'Summary',\n",
        " 'Space',\n",
        " 'Description',\n",
        " 'Host Response Rate',\n",
        " 'Host Picture Url', \n",
        " 'Thumbnail Url',\n",
        " 'Medium Url',\n",
        " 'Picture Url',\n",
        " 'XL Picture Url', \n",
        " 'Host URL', \n",
        " 'Host Name', \n",
        " 'Host Location', \n",
        " 'Host Thumbnail Url',\n",
        " 'Country Code'], axis = 1, inplace=True)"
      ],
      "id": "ca888814"
    },
    {
      "cell_type": "code",
      "execution_count": null,
      "metadata": {
        "id": "82636b80"
      },
      "outputs": [],
      "source": [
        "lista_columnas = list(df_test.columns.values)\n",
        "len(lista_columnas)"
      ],
      "id": "82636b80"
    },
    {
      "cell_type": "markdown",
      "metadata": {
        "id": "7b9578f4"
      },
      "source": [
        "Ya he reducido de 89 columnas en la base original de Madrid a 53. "
      ],
      "id": "7b9578f4"
    },
    {
      "cell_type": "markdown",
      "metadata": {
        "id": "0db4a12b"
      },
      "source": [
        "## 8.1. Ahora, voy a revisar la variable objetivo --> Precio\n",
        "\n",
        "Voy a analizar un poco mi variable objetivo (Precio):"
      ],
      "id": "0db4a12b"
    },
    {
      "cell_type": "code",
      "execution_count": null,
      "metadata": {
        "id": "d30f78e9"
      },
      "outputs": [],
      "source": [
        "df_test['Price'].isnull().any()"
      ],
      "id": "d30f78e9"
    },
    {
      "cell_type": "code",
      "execution_count": null,
      "metadata": {
        "id": "bc3eefef"
      },
      "outputs": [],
      "source": [
        "Price_NA_count = {\"Columna\": 'Price', 'NA': df_test['Price'].isna().sum(), 'NA%': (df_test['Price'].isna().sum()*100/data.shape[0]).round(2)}\n",
        "Price_NA_count"
      ],
      "id": "bc3eefef"
    },
    {
      "cell_type": "code",
      "execution_count": null,
      "metadata": {
        "id": "57c2b2ad"
      },
      "outputs": [],
      "source": [
        "df_test = df_test[df_test['Price'].notna()]"
      ],
      "id": "57c2b2ad"
    },
    {
      "cell_type": "code",
      "execution_count": null,
      "metadata": {
        "id": "cdf793dc"
      },
      "outputs": [],
      "source": [
        "df_test['Price'].isnull().any()"
      ],
      "id": "cdf793dc"
    },
    {
      "cell_type": "code",
      "execution_count": null,
      "metadata": {
        "id": "53fcbda9"
      },
      "outputs": [],
      "source": [
        "df_test['Price'].dtypes"
      ],
      "id": "53fcbda9"
    },
    {
      "cell_type": "markdown",
      "metadata": {
        "id": "2bebb5c7"
      },
      "source": [
        "## 8.2. Ahora, voy a codificar las variables que no tienen número\n",
        "\n",
        "Primero, clasifico por tipo de variable todos las columnas:"
      ],
      "id": "2bebb5c7"
    },
    {
      "cell_type": "code",
      "execution_count": null,
      "metadata": {
        "id": "faa597e7"
      },
      "outputs": [],
      "source": [
        "var_types = df_test.columns.to_series().groupby(df_test.dtypes).groups\n",
        "var_types"
      ],
      "id": "faa597e7"
    },
    {
      "cell_type": "markdown",
      "metadata": {
        "id": "9538ad78"
      },
      "source": [
        "Esta es la lista de variables tipo object: \n",
        "\n",
        "\n",
        "['Experiences Offered', 'Host Since', 'Host Response Time', 'Host Neighbourhood', 'Host Verifications', 'Street', 'Neighbourhood Cleansed', 'Neighbourhood Group Cleansed', 'City', 'State', 'Market', 'Smart Location', 'Property Type', 'Room Type', 'Bed Type', 'Amenities', 'Calendar Updated', 'Calendar last Scraped', 'First Review', 'Last Review', 'Cancellation Policy', 'Geolocation', 'Features']"
      ],
      "id": "9538ad78"
    },
    {
      "cell_type": "code",
      "execution_count": null,
      "metadata": {
        "id": "bc6c0618"
      },
      "outputs": [],
      "source": [
        "var_object = list(df_test.select_dtypes(include='object'))"
      ],
      "id": "bc6c0618"
    },
    {
      "cell_type": "code",
      "execution_count": null,
      "metadata": {
        "id": "6bc70b18"
      },
      "outputs": [],
      "source": [
        "var_object"
      ],
      "id": "6bc70b18"
    },
    {
      "cell_type": "markdown",
      "metadata": {
        "id": "d6b31eaf"
      },
      "source": [
        "Voy a codificar ahora utilizando la media de cada valor en relación con el precio --> "
      ],
      "id": "d6b31eaf"
    },
    {
      "cell_type": "code",
      "execution_count": null,
      "metadata": {
        "id": "8e3f39fa"
      },
      "outputs": [],
      "source": [
        "Recuperar = df_test"
      ],
      "id": "8e3f39fa"
    },
    {
      "cell_type": "code",
      "execution_count": null,
      "metadata": {
        "id": "3b2ac73d"
      },
      "outputs": [],
      "source": [
        "t_enc=ce.TargetEncoder() \n",
        "df_test\n",
        "for to_encode in var_object:\n",
        "    ##print(to_encode, \", \")\n",
        "    df_encoded=t_enc.fit_transform(df_test[to_encode],df_test['Price'])\n",
        "    df_test = df_encoded.join(df_test.drop(to_encode,axis = 1))"
      ],
      "id": "3b2ac73d"
    },
    {
      "cell_type": "markdown",
      "metadata": {
        "id": "e4911e93"
      },
      "source": [
        "#### Mantengo separadas df y df_new_train para poder regresar a la información tratada antes de codificar."
      ],
      "id": "e4911e93"
    },
    {
      "cell_type": "code",
      "execution_count": null,
      "metadata": {
        "id": "30c9c372"
      },
      "outputs": [],
      "source": [
        "Recuperar = df_test"
      ],
      "id": "30c9c372"
    },
    {
      "cell_type": "code",
      "execution_count": null,
      "metadata": {
        "id": "75fb6931"
      },
      "outputs": [],
      "source": [
        "df_test.head().T"
      ],
      "id": "75fb6931"
    },
    {
      "cell_type": "code",
      "execution_count": null,
      "metadata": {
        "id": "be0602dd"
      },
      "outputs": [],
      "source": [
        "df_test.shape"
      ],
      "id": "be0602dd"
    },
    {
      "cell_type": "markdown",
      "metadata": {
        "id": "7e393c2c"
      },
      "source": [
        "¿Cuántas filas tienen valores NULL?"
      ],
      "id": "7e393c2c"
    },
    {
      "cell_type": "code",
      "execution_count": null,
      "metadata": {
        "id": "1f74ea51",
        "scrolled": true
      },
      "outputs": [],
      "source": [
        "print (\"De un total de \",df_test.shape[0], \" columnas, hay \", df_test.dropna().shape[0], \"columnas con valores válidos\")\n",
        "print (\"Esto equivale al \", round(df_test.dropna().shape[0] * 100/ df_test.shape[0],2), \"% de sus información es válida\")\n"
      ],
      "id": "1f74ea51"
    },
    {
      "cell_type": "markdown",
      "metadata": {
        "id": "ba95fe94"
      },
      "source": [
        "Voy a rellenar las variables que se tengan NA con la moda de cada columna. "
      ],
      "id": "ba95fe94"
    },
    {
      "cell_type": "code",
      "execution_count": null,
      "metadata": {
        "id": "9816763f"
      },
      "outputs": [],
      "source": [
        "for name in lista_columnas:\n",
        "    df_test[name].fillna(df_test[name].mode()[0], inplace=True)"
      ],
      "id": "9816763f"
    },
    {
      "cell_type": "markdown",
      "metadata": {
        "id": "92b1810f"
      },
      "source": [
        "Verifico ahora, nuevamente, cuántos NA me quedan --> "
      ],
      "id": "92b1810f"
    },
    {
      "cell_type": "code",
      "execution_count": null,
      "metadata": {
        "id": "30fcd905"
      },
      "outputs": [],
      "source": [
        "print (\"De un total de \",df_test.shape[0], \" columnas, hay \", df_test.dropna().shape[0], \"columnas con valores SIN NULL\")\n",
        "print (\"Esto equivale al \", round(df_test.dropna().shape[0] * 100/ df_test.shape[0],2), \"% tienen valor\")"
      ],
      "id": "30fcd905"
    },
    {
      "cell_type": "markdown",
      "metadata": {
        "id": "638a7e0f"
      },
      "source": [
        "## 8.3. Regularización de los datos "
      ],
      "id": "638a7e0f"
    },
    {
      "cell_type": "markdown",
      "metadata": {
        "id": "c7bae94b"
      },
      "source": [
        "Me aseguro que Precio es mi primer columna -->"
      ],
      "id": "c7bae94b"
    },
    {
      "cell_type": "code",
      "execution_count": null,
      "metadata": {
        "id": "ee008b44"
      },
      "outputs": [],
      "source": [
        "primera_columna = df_test.pop('Price')"
      ],
      "id": "ee008b44"
    },
    {
      "cell_type": "code",
      "execution_count": null,
      "metadata": {
        "id": "2b8335dc"
      },
      "outputs": [],
      "source": [
        "df_test.insert(0, 'Price', primera_columna)"
      ],
      "id": "2b8335dc"
    },
    {
      "cell_type": "code",
      "execution_count": null,
      "metadata": {
        "id": "df14dc26"
      },
      "outputs": [],
      "source": [
        "print(\"Verifico que Precio es la primer columna --> \")\n",
        "df_test.head(2)"
      ],
      "id": "df14dc26"
    },
    {
      "cell_type": "code",
      "execution_count": null,
      "metadata": {
        "id": "a31df057"
      },
      "outputs": [],
      "source": [
        "df_test.drop(['Host Listings Count', \n",
        "            'Host Total Listings Count',\n",
        "            'Availability 60', \n",
        "            'Availability 90',\n",
        "            'State', 'City', 'Accommodates'], axis = 1, inplace=True)"
      ],
      "id": "a31df057"
    },
    {
      "cell_type": "code",
      "execution_count": null,
      "metadata": {
        "id": "d612f005"
      },
      "outputs": [],
      "source": [
        "df_test.drop(['Review Scores Rating'], axis = 1, inplace=True)"
      ],
      "id": "d612f005"
    },
    {
      "cell_type": "code",
      "execution_count": null,
      "metadata": {
        "id": "c1bfd511"
      },
      "outputs": [],
      "source": [
        "df_test.drop(['Experiences Offered'], axis = 1, inplace=True)"
      ],
      "id": "c1bfd511"
    },
    {
      "cell_type": "code",
      "execution_count": null,
      "metadata": {
        "id": "cb3dd798"
      },
      "outputs": [],
      "source": [
        "df_test.drop(['Calendar last Scraped', 'Market', 'Geolocation'], axis = 1, inplace=True)"
      ],
      "id": "cb3dd798"
    },
    {
      "cell_type": "code",
      "execution_count": null,
      "metadata": {
        "id": "2bf112ab"
      },
      "outputs": [],
      "source": [
        "df_test.drop(['Smart Location'], axis = 1, inplace=True)"
      ],
      "id": "2bf112ab"
    },
    {
      "cell_type": "code",
      "execution_count": null,
      "metadata": {
        "id": "ba9dc7ac"
      },
      "outputs": [],
      "source": [
        "df_test.drop(['ID'], axis = 1, inplace=True)"
      ],
      "id": "ba9dc7ac"
    },
    {
      "cell_type": "code",
      "execution_count": null,
      "metadata": {
        "id": "4554a26c"
      },
      "outputs": [],
      "source": [
        "df_test = df_new[df_new['Maximum Nights'] < 1125]"
      ],
      "id": "4554a26c"
    },
    {
      "cell_type": "code",
      "execution_count": null,
      "metadata": {
        "id": "e093059d"
      },
      "outputs": [],
      "source": [
        "df_test = df_new[df_new['Minimum Nights'] < 100]"
      ],
      "id": "e093059d"
    },
    {
      "cell_type": "code",
      "execution_count": null,
      "metadata": {
        "id": "154f0f6e"
      },
      "outputs": [],
      "source": [
        "df_test = df_new[df_new['Extra People'] < 15]"
      ],
      "id": "154f0f6e"
    },
    {
      "cell_type": "code",
      "execution_count": null,
      "metadata": {
        "id": "466cbd2a"
      },
      "outputs": [],
      "source": [
        "df_regresiones_test = df_test\n",
        "df_test.shape"
      ],
      "id": "466cbd2a"
    },
    {
      "cell_type": "markdown",
      "metadata": {
        "id": "38d85b98"
      },
      "source": [
        "### PARA RECUPÉRAR LOS VALORES DE DF_NEW !!!!!"
      ],
      "id": "38d85b98"
    },
    {
      "cell_type": "markdown",
      "metadata": {
        "id": "63a1e06c"
      },
      "source": [
        "## 8.4. Regresión Lasso\n",
        "\n",
        "Contrasto los resultados en Lasso Train vs Test\n",
        "\n",
        "\n",
        "Primero divido en y y X -->"
      ],
      "id": "63a1e06c"
    },
    {
      "cell_type": "code",
      "execution_count": null,
      "metadata": {
        "id": "0689c0ce"
      },
      "outputs": [],
      "source": [
        "df_test = df_regresiones_test\n",
        "df_new = df_regresiones\n",
        "print(\"Test -->\", df_test.shape, \"Train --> \", df_new.shape)"
      ],
      "id": "0689c0ce"
    },
    {
      "cell_type": "code",
      "execution_count": null,
      "metadata": {
        "id": "438ef0a1"
      },
      "outputs": [],
      "source": [
        "data2 = df_new.values\n",
        "y_train = data2[:,0:1]     # nos quedamos con la 1ª columna, price\n",
        "X_train = data2[:,1:]      # nos quedamos con el resto\n",
        "feature_names = df_new.columns[1:]\n",
        "# Escalamos (con los datos de train)\n",
        "scaler = preprocessing.StandardScaler().fit(X_train)\n",
        "XtrainScaled = scaler.transform(X_train)"
      ],
      "id": "438ef0a1"
    },
    {
      "cell_type": "code",
      "execution_count": null,
      "metadata": {
        "id": "2150ecf6"
      },
      "outputs": [],
      "source": [
        "df_test = df_test.drop(['Amenities'], axis=1)\n",
        "df_new = df_new.drop(['Amenities'], axis=1)"
      ],
      "id": "2150ecf6"
    },
    {
      "cell_type": "markdown",
      "metadata": {
        "id": "11c050fe"
      },
      "source": [
        "Las elimino de los datos -->"
      ],
      "id": "11c050fe"
    },
    {
      "cell_type": "code",
      "execution_count": null,
      "metadata": {
        "id": "a8b7fb01"
      },
      "outputs": [],
      "source": [
        "df_test = df_test.drop(['Review Scores Location', 'Review Scores Value', 'Maximum Nights', 'Longitude', \n",
        "                        'Latitude', 'Host Response Time', 'Host Verifications', 'Property Type'], axis = 1)\n",
        "df_new = df_new.drop(['Review Scores Location', 'Review Scores Value', 'Maximum Nights', 'Longitude', \n",
        "                        'Latitude', 'Host Response Time', 'Host Verifications', 'Property Type'], axis = 1)"
      ],
      "id": "a8b7fb01"
    },
    {
      "cell_type": "code",
      "execution_count": null,
      "metadata": {
        "id": "c9fc1fcb"
      },
      "outputs": [],
      "source": [
        "print(\"Me quedo para continuar con \", len(df_new.columns), \"variables.\")\n",
        "print(\"Las variables son --> \", df_new.columns)\n",
        "print(\"Test -->\", df_test.shape, \"Train --> \", df_new.shape)\n",
        "      "
      ],
      "id": "c9fc1fcb"
    },
    {
      "cell_type": "markdown",
      "metadata": {
        "id": "b3512e13"
      },
      "source": [
        "#### Resetear df_new con valores de Lasso"
      ],
      "id": "b3512e13"
    },
    {
      "cell_type": "code",
      "execution_count": null,
      "metadata": {
        "id": "3e49d00b"
      },
      "outputs": [],
      "source": [
        "Recuperar_lasso = df_new\n",
        "Recuperar_lasso_test = df_test"
      ],
      "id": "3e49d00b"
    },
    {
      "cell_type": "code",
      "execution_count": null,
      "metadata": {
        "id": "72b5a007"
      },
      "outputs": [],
      "source": [
        "df_new = Recuperar_lasso\n",
        "df_test = Recuperar_lasso_test\n",
        "df_test.shape"
      ],
      "id": "72b5a007"
    },
    {
      "cell_type": "code",
      "execution_count": null,
      "metadata": {
        "id": "a9e292a7"
      },
      "outputs": [],
      "source": [
        "features_result = ['Price','First Review','Room Type','Neighbourhood Cleansed','Street','Host Neighbourhood','Host Since','Host ID',\n",
        "                   'Bedrooms','Beds','Calculated host listings count']\n",
        "df_test = df_test[features_result]\n",
        "print(df_test.shape)\n",
        "df_new = df_new[features_result]\n",
        "print(df_new.shape)\n",
        "\n",
        "    \n"
      ],
      "id": "a9e292a7"
    },
    {
      "cell_type": "markdown",
      "metadata": {
        "id": "958d8820"
      },
      "source": [
        "Voy a correr Lasso una vez más, para ver cómo se comporta con las variables que he elegido -->"
      ],
      "id": "958d8820"
    },
    {
      "cell_type": "code",
      "execution_count": null,
      "metadata": {
        "id": "05a56847"
      },
      "outputs": [],
      "source": [
        "data2 = df_new.values\n",
        "y_train = data2[:,0:1]     # nos quedamos con la 1ª columna, price\n",
        "X_train = data2[:,1:]      # nos quedamos con el resto\n",
        "feature_names = df_new.columns[1:]\n",
        "\n",
        "data2_test = df_test.values\n",
        "y_test = data2_test[:,0:1]     # nos quedamos con la 1ª columna, price\n",
        "X_test = data2_test[:,1:]      # nos quedamos con el resto\n",
        "feature_names = df_test.columns[1:]\n",
        "\n",
        "# Escalamos (con los datos de train)\n",
        "scaler = preprocessing.StandardScaler().fit(X_train)\n",
        "XtrainScaled = scaler.transform(X_train)\n",
        "XtestScaled = scaler.transform(X_test)"
      ],
      "id": "05a56847"
    },
    {
      "cell_type": "code",
      "execution_count": null,
      "metadata": {
        "id": "b9c07bbd"
      },
      "outputs": [],
      "source": [
        "# do calculations\n",
        "f_test, _ = f_regression(X_train, y_train)\n",
        "f_test /= np.max(f_test)\n",
        "\n",
        "mi = mutual_info_regression(X_train, y_train)\n",
        "mi /= np.max(mi)\n",
        "\n",
        "# do some plotting\n",
        "plt.figure(figsize=(20, 5))\n",
        "\n",
        "plt.subplot(1,2,1)\n",
        "plt.bar(range(X_train.shape[1]),f_test,  align=\"center\")\n",
        "plt.xticks(range(X_train.shape[1]),feature_names, rotation = 90)\n",
        "plt.axhline(y=0.4, color='r', linestyle='-')\n",
        "plt.xlabel('features')\n",
        "plt.ylabel('Ranking')\n",
        "plt.title('$R^2$ score')\n",
        "\n",
        "plt.subplot(1,2,2)\n",
        "plt.bar(range(X_train.shape[1]),mi, align=\"center\")\n",
        "plt.xticks(range(X_train.shape[1]),feature_names, rotation = 90)\n",
        "plt.axhline(y=0.4, color='r', linestyle='-')\n",
        "plt.xlabel('features')\n",
        "plt.ylabel('Ranking')\n",
        "plt.title('Mutual information score')\n",
        "\n",
        "plt.show()"
      ],
      "id": "b9c07bbd"
    },
    {
      "cell_type": "markdown",
      "metadata": {
        "id": "fc6c478e"
      },
      "source": [
        "Parece que en Train las variables elegidas tienen un buen comportamiento! \n"
      ],
      "id": "fc6c478e"
    },
    {
      "cell_type": "code",
      "execution_count": null,
      "metadata": {
        "id": "f81bff96"
      },
      "outputs": [],
      "source": [
        "alpha_vector = np.logspace(-1,10,50)\n",
        "param_grid = {'alpha': alpha_vector }\n",
        "grid = GridSearchCV(Lasso(), scoring= 'neg_mean_squared_error', param_grid=param_grid, cv = 100)\n",
        "grid.fit(XtrainScaled, y_train)\n",
        "print(\"best mean cross-validation score: {:.3f}\".format(grid.best_score_))\n",
        "print(\"best parameters: {}\".format(grid.best_params_))\n",
        "\n",
        "#-1 porque es negado\n",
        "scores = -1*np.array(grid.cv_results_['mean_test_score'])\n",
        "plt.semilogx(alpha_vector,scores,'-o')\n",
        "plt.xlabel('alpha',fontsize=16)\n",
        "plt.ylabel('5-Fold MSE')\n",
        "plt.show()"
      ],
      "id": "f81bff96"
    },
    {
      "cell_type": "code",
      "execution_count": null,
      "metadata": {
        "id": "80809ddf",
        "scrolled": false
      },
      "outputs": [],
      "source": [
        "df_new.describe()"
      ],
      "id": "80809ddf"
    },
    {
      "cell_type": "code",
      "execution_count": null,
      "metadata": {
        "id": "4971430b"
      },
      "outputs": [],
      "source": [
        "from sklearn.metrics import mean_squared_error\n",
        "\n",
        "alpha_optimo = grid.best_params_['alpha']\n",
        "lasso = Lasso(alpha = alpha_optimo).fit(XtrainScaled,y_train)\n",
        "\n",
        "ytrainLasso = lasso.predict(XtrainScaled)\n",
        "ytestLasso  = lasso.predict(XtestScaled)\n",
        "mseTrainModelLasso = mean_squared_error(y_train,ytrainLasso)\n",
        "mseTestModelLasso = mean_squared_error(y_test,ytestLasso)\n",
        "\n",
        "print('MSE Modelo Lasso (train): %0.3g' % mseTrainModelLasso)\n",
        "print('MSE Modelo Lasso (test) : %0.3g' % mseTestModelLasso)\n",
        "\n",
        "print('RMSE Modelo Lasso (train): %0.3g' % np.sqrt(mseTrainModelLasso))\n",
        "print('RMSE Modelo Lasso (test) : %0.3g' % np.sqrt(mseTestModelLasso))\n",
        "\n",
        "w = lasso.coef_\n",
        "for f,wi in zip(feature_names,w):\n",
        "    print(f,wi)"
      ],
      "id": "4971430b"
    },
    {
      "cell_type": "markdown",
      "metadata": {
        "id": "42f4251a"
      },
      "source": [
        "El resultado muestra un poco de overfitting. Puede ser mejorado!"
      ],
      "id": "42f4251a"
    },
    {
      "cell_type": "code",
      "execution_count": null,
      "metadata": {
        "id": "2b19054c",
        "scrolled": true
      },
      "outputs": [],
      "source": [
        "n_alphas = 20\n",
        "alphas = np.logspace(-5, 3, n_alphas)\n",
        "# ...\n",
        "coefs = []\n",
        "\n",
        "norm2_coefs = []\n",
        "for a in alphas:\n",
        "    #### TU CÓDIGO AQUÍ\n",
        "    lasso = Lasso(alpha = a).fit(X_train,y_train)\n",
        "    \n",
        "    #####\n",
        "    coefs.append(lasso.coef_)\n",
        "    norm2_coefs.append(np.dot(lasso.coef_,lasso.coef_.T))\n",
        "\n",
        "# Display results\n",
        "plt.figure(figsize=(14, 5))\n",
        "\n",
        "ax = plt.subplot(1, 2, 1)\n",
        "ax.plot(alphas, coefs)\n",
        "ax.set_xscale('log')\n",
        "ax.set_xlim(ax.get_xlim()[::-1])  # reverse axis\n",
        "plt.xlabel('alpha')\n",
        "plt.ylabel('$w_i$')\n",
        "plt.title('Coeficientes en función de la regularización')\n",
        "plt.axis('tight')\n",
        "\n",
        "\n",
        "ax = plt.subplot(1, 2, 2)\n",
        "ax.plot(alphas, norm2_coefs)\n",
        "ax.set_xscale('log')\n",
        "ax.set_xlim(ax.get_xlim()[::-1])  # reverse axis\n",
        "plt.xlabel('alpha')\n",
        "plt.ylabel('$||\\mathbf{w}||^2_2$')\n",
        "plt.title('Norma de los coeffs en función de la regularización')\n",
        "plt.axis('tight')\n",
        "plt.show()"
      ],
      "id": "2b19054c"
    },
    {
      "cell_type": "markdown",
      "metadata": {
        "id": "b18fc445"
      },
      "source": [
        "En principio, se podría obtener una buena aproximación con 4 variables. "
      ],
      "id": "b18fc445"
    },
    {
      "cell_type": "markdown",
      "metadata": {
        "id": "6e56f73f"
      },
      "source": [
        "## El error se ha incrementado a 30,5€, sin embargo, se ha reducido mucho la complejidad. \n"
      ],
      "id": "6e56f73f"
    },
    {
      "cell_type": "code",
      "execution_count": null,
      "metadata": {
        "id": "caee6d70"
      },
      "outputs": [],
      "source": [
        "print(\"El número de variables restante es \", len(df_new.columns.values))\n"
      ],
      "id": "caee6d70"
    },
    {
      "cell_type": "markdown",
      "metadata": {
        "id": "82764a0d"
      },
      "source": [
        "## 8.5. Regresión Lineal \n",
        "\n",
        "Ahora voy a intentar obtener el modelo en base a una regresión lineal. \n",
        "\n",
        "Voy a iniciar con las 11 variables (incluyendo 'Price') que tenía al final de Lasso --> "
      ],
      "id": "82764a0d"
    },
    {
      "cell_type": "code",
      "execution_count": null,
      "metadata": {
        "id": "0b611973"
      },
      "outputs": [],
      "source": [
        "df_new = df_regresiones[['Price', 'First Review', 'Room Type', 'Neighbourhood Cleansed', 'Street',\n",
        " 'Host Neighbourhood', 'Host Since', 'Host ID', 'Bedrooms', 'Beds',\n",
        " 'Calculated host listings count']]\n",
        "df_test = df_regresiones_test[['Price', 'First Review', 'Room Type', 'Neighbourhood Cleansed', 'Street',\n",
        " 'Host Neighbourhood', 'Host Since', 'Host ID', 'Bedrooms', 'Beds',\n",
        " 'Calculated host listings count']]"
      ],
      "id": "0b611973"
    },
    {
      "cell_type": "code",
      "execution_count": null,
      "metadata": {
        "id": "be7db3f9"
      },
      "outputs": [],
      "source": [
        "df_test.shape"
      ],
      "id": "be7db3f9"
    },
    {
      "cell_type": "code",
      "execution_count": null,
      "metadata": {
        "id": "0e833357"
      },
      "outputs": [],
      "source": [
        "df_prueba = df_new\n",
        "linear_vars = df_prueba.columns\n",
        "data_linear = df_prueba.values\n",
        "\n",
        "df_prueba_test = df_test\n",
        "linear_vars_test = df_prueba_test.columns\n",
        "data_linear_test = df_prueba_test.values"
      ],
      "id": "0e833357"
    },
    {
      "cell_type": "code",
      "execution_count": null,
      "metadata": {
        "id": "9efbfd08"
      },
      "outputs": [],
      "source": [
        "y_train_linear = data_linear[:,0:1]     # nos quedamos con la 1ª columna, price\n",
        "X_train_linear = data_linear[:,1:]      # nos quedamos con el resto\n",
        "feature_names_linear = linear_vars[1:]\n",
        "\n",
        "y_test_linear = data_linear_test[:,0:1]     # nos quedamos con la 1ª columna, price\n",
        "X_test_linear = data_linear_test[:,1:]      # nos quedamos con el resto\n",
        "feature_names_linear_test = linear_vars[1:]"
      ],
      "id": "9efbfd08"
    },
    {
      "cell_type": "code",
      "execution_count": null,
      "metadata": {
        "id": "5f5228a4"
      },
      "outputs": [],
      "source": [
        "feature_names_linear"
      ],
      "id": "5f5228a4"
    },
    {
      "cell_type": "code",
      "execution_count": null,
      "metadata": {
        "id": "acbd49bc"
      },
      "outputs": [],
      "source": [
        "\n",
        "poly = PolynomialFeatures(X_train_linear.shape[1])\n",
        "X = poly.fit_transform(X_train_linear.reshape(-1, 1))\n",
        "lr = LinearRegression().fit(X_train_linear,y_train_linear)\n",
        "\n",
        "X_test = poly.fit_transform(X_test_linear.reshape(-1, 1))\n",
        "\n",
        "lr_test = LinearRegression().fit(X_test_linear,y_test_linear)\n",
        "\n",
        "y_hat = lr.predict(X_train_linear)\n",
        "y_hat_test = lr.predict(X_test_linear)\n",
        "\n",
        "error_train = np.mean(np.power(y_train_linear-y_hat,2))\n",
        "error_test = np.mean(np.power(y_test_linear-y_hat_test,2))\n",
        "\n",
        "for number in range(len(feature_names_linear)):\n",
        "    print(feature_names_linear[number], lr.coef_[0,number])\n",
        "\n",
        "print(\"El MSE train es -->\", error_train)\n",
        "print(\"El MSE test es -->\", error_test)\n",
        "print(\"El error esperado TRAIN es de \", np.sqrt(error_train))\n",
        "print(\"El error esperado TEST es de \", np.sqrt(error_test))"
      ],
      "id": "acbd49bc"
    },
    {
      "cell_type": "markdown",
      "metadata": {
        "id": "1bcf2b3a"
      },
      "source": [
        "Parece bueno, pero me parece que se puede mejorar. Voy a eliminar las variables con coeficientes menores a 0.1. Voy a trabajar con las que me resten, a ver qué resultado me da. "
      ],
      "id": "1bcf2b3a"
    },
    {
      "cell_type": "markdown",
      "metadata": {
        "id": "421f4e86"
      },
      "source": [
        "Ahora, voy a reducir el número de variables para quedarme con las que tienen coeficientes iguales o superiores a 0.1 -->"
      ],
      "id": "421f4e86"
    },
    {
      "cell_type": "code",
      "execution_count": null,
      "metadata": {
        "id": "4d38aa11"
      },
      "outputs": [],
      "source": [
        "coeficiente_condicion = pd.Series(lr.coef_[0,] >= 0.1)\n",
        "coeficientes_valiosos = feature_names_linear[coeficiente_condicion].values\n",
        "list(coeficientes_valiosos)"
      ],
      "id": "4d38aa11"
    },
    {
      "cell_type": "code",
      "execution_count": null,
      "metadata": {
        "id": "d6551811"
      },
      "outputs": [],
      "source": [
        "df_prueba = df_new[['Price', 'First Review', 'Room Type', 'Street', 'Host Since', 'Bedrooms', 'Beds']]\n",
        "df_prueba_test = df_test[['Price', 'First Review', 'Room Type', 'Street', 'Host Since', 'Bedrooms', 'Beds']]\n",
        "df_prueba_test.head()"
      ],
      "id": "d6551811"
    },
    {
      "cell_type": "code",
      "execution_count": null,
      "metadata": {
        "id": "b4b62317"
      },
      "outputs": [],
      "source": [
        "\n",
        "linear_vars = df_prueba.columns\n",
        "data_linear = df_prueba.values\n",
        "\n",
        "\n",
        "linear_vars_test = df_prueba_test.columns\n",
        "data_linear_test = df_prueba_test.values"
      ],
      "id": "b4b62317"
    },
    {
      "cell_type": "code",
      "execution_count": null,
      "metadata": {
        "id": "0b12a9a5"
      },
      "outputs": [],
      "source": [
        "y_train_linear = data_linear[:,0:1]     # nos quedamos con la 1ª columna, price\n",
        "X_train_linear = data_linear[:,1:]      # nos quedamos con el resto\n",
        "feature_names_linear = linear_vars[1:]\n",
        "\n",
        "y_test_linear = data_linear_test[:,0:1]     # nos quedamos con la 1ª columna, price\n",
        "X_test_linear = data_linear_test[:,1:]      # nos quedamos con el resto\n",
        "feature_names_linear_test = linear_vars[1:]"
      ],
      "id": "0b12a9a5"
    },
    {
      "cell_type": "code",
      "execution_count": null,
      "metadata": {
        "id": "620d4c99",
        "scrolled": true
      },
      "outputs": [],
      "source": [
        "\n",
        "poly = PolynomialFeatures(X_train_linear.shape[1])\n",
        "X = poly.fit_transform(X_train_linear.reshape(-1, 1))\n",
        "lr = LinearRegression().fit(X_train_linear,y_train_linear)\n",
        "\n",
        "X_test = poly.fit_transform(X_test_linear.reshape(-1, 1))\n",
        "\n",
        "lr_test = LinearRegression().fit(X_test_linear,y_test_linear)\n",
        "\n",
        "y_hat = lr.predict(X_train_linear)\n",
        "y_hat_test = lr.predict(X_test_linear)\n",
        "\n",
        "error_train = np.mean(np.power(y_train_linear-y_hat,2))\n",
        "error_test = np.mean(np.power(y_test_linear-y_hat_test,2))\n",
        "\n",
        "for number in range(len(feature_names_linear)):\n",
        "    print(feature_names_linear[number], lr.coef_[0,number])\n",
        "\n",
        "print(\"El MSE train es -->\", error_train)\n",
        "print(\"El MSE test es -->\", error_test)\n",
        "print(\"El error esperado TRAIN es de \", np.sqrt(error_train))\n",
        "print(\"El error esperado TEST es de \", np.sqrt(error_test))"
      ],
      "id": "620d4c99"
    },
    {
      "cell_type": "markdown",
      "metadata": {
        "id": "c42f79dc"
      },
      "source": [
        "Este parece aceptable. Se ve un poco de overfitting. "
      ],
      "id": "c42f79dc"
    },
    {
      "cell_type": "markdown",
      "metadata": {
        "id": "92c1d535"
      },
      "source": [
        "### 8.6. Clasificar usando Random Forest"
      ],
      "id": "92c1d535"
    },
    {
      "cell_type": "markdown",
      "metadata": {
        "id": "51327a64"
      },
      "source": [
        "Parto, en el training original, me salieron valores bastante malos. Voy a intentar con todas las variables después de normalización (39), a ver si mejoran los resultados. "
      ],
      "id": "51327a64"
    },
    {
      "cell_type": "code",
      "execution_count": null,
      "metadata": {
        "id": "2b32ffee"
      },
      "outputs": [],
      "source": [
        "df_new = df_regresiones\n",
        "df_test = df_regresiones_test"
      ],
      "id": "2b32ffee"
    },
    {
      "cell_type": "code",
      "execution_count": null,
      "metadata": {
        "id": "b51f4f4e"
      },
      "outputs": [],
      "source": [
        "print(\"TRAIN --> \", df_new.shape)\n",
        "print(\"TEST --> \", df_test.shape)"
      ],
      "id": "b51f4f4e"
    },
    {
      "cell_type": "code",
      "execution_count": null,
      "metadata": {
        "id": "a45cda47"
      },
      "outputs": [],
      "source": [
        "RF_vars = df_new.columns\n",
        "RF_vars.shape\n",
        "data_RF = df_new.values"
      ],
      "id": "a45cda47"
    },
    {
      "cell_type": "code",
      "execution_count": null,
      "metadata": {
        "id": "eb06dad9"
      },
      "outputs": [],
      "source": [
        "y_train_RF = data_RF[:,0:1]     # nos quedamos con la 1ª columna, price\n",
        "X_train_RF = data_RF[:,1:]      # nos quedamos con el resto\n",
        "feature_names_RF = RF_vars[1:]"
      ],
      "id": "eb06dad9"
    },
    {
      "cell_type": "code",
      "execution_count": null,
      "metadata": {
        "id": "3d468192"
      },
      "outputs": [],
      "source": [
        "N,Nfeatures = X_train.shape\n",
        "\n",
        "rf = RandomForestClassifier(max_depth=maxDepthOptimo,n_estimators=20,max_features='sqrt')\n",
        "kf  = KFold(n_splits=10, shuffle = True, random_state=1)\n",
        "cv_error = []\n",
        "cv_std = []\n",
        "\n",
        "for nfeatures in range(Nfeatures,0,-1):\n",
        "        \n",
        "    error_i = []\n",
        "    \n",
        "    for idxTrain, idxVal in kf.split(X_train_RF):\n",
        "        \n",
        "        Xt = X_train_RF[idxTrain,:]\n",
        "        yt = y_train_RF[idxTrain]\n",
        "        Xv = X_train_RF[idxVal,:]\n",
        "        yv = y_train_RF[idxVal]\n",
        "        \n",
        "        rf.fit(Xt,yt)\n",
        "        \n",
        "        ranking = rf.feature_importances_\n",
        "        indices = np.argsort(ranking)[::-1] \n",
        "    \n",
        "        selected = indices[0:(Nfeatures-nfeatures+1)]\n",
        "        \n",
        "        Xs = Xt[:,selected]\n",
        "        \n",
        "        rf.fit(Xs,yt)\n",
        "        error = (1.0-rf.score(Xv[:,selected],yv))     \n",
        "        error_i.append(error) \n",
        "    \n",
        "    cv_error.append(np.mean(error_i))\n",
        "    cv_std.append(np.std(error_i))\n",
        "    \n",
        "    print('# features ' + str(len(selected)) + ' error ' + str(np.mean(error_i)) + ' +/- ' + str(np.std(error_i)))"
      ],
      "id": "3d468192"
    },
    {
      "cell_type": "markdown",
      "metadata": {
        "id": "0b3be0e2"
      },
      "source": [
        "El error parece más aceptable, aunque sigue siendo malo. Tengo que hacer mucho trabajo aún aquí. "
      ],
      "id": "0b3be0e2"
    },
    {
      "cell_type": "code",
      "execution_count": null,
      "metadata": {
        "id": "d4b7cfdc"
      },
      "outputs": [],
      "source": [
        "print(\"El número de variables, incluyendo Price es de --> \", len(feature_names_RF))\n",
        "feature_names_RF\n"
      ],
      "id": "d4b7cfdc"
    },
    {
      "cell_type": "code",
      "execution_count": null,
      "metadata": {
        "id": "894d5cb3"
      },
      "outputs": [],
      "source": [
        "maxDepth = range(1,15)\n",
        "tuned_parameters = {'max_depth': maxDepth}\n",
        "\n",
        "grid = GridSearchCV(RandomForestRegressor(random_state=0, n_estimators=20, max_features='sqrt'), param_grid=tuned_parameters,cv=10, verbose=1) \n",
        "grid.fit(X_train_RF, y_train_RF)\n",
        "\n",
        "print(\"best mean cross-validation score: {:.3f}\".format(grid.best_score_))\n",
        "print(\"best parameters: {}\".format(grid.best_params_))\n",
        "\n",
        "scores = np.array(grid.cv_results_['mean_test_score'])\n",
        "plt.plot(maxDepth,scores,'-o')\n",
        "plt.xlabel('max_depth')\n",
        "plt.ylabel('10-fold ACC')\n",
        "\n",
        "plt.show()"
      ],
      "id": "894d5cb3"
    },
    {
      "cell_type": "markdown",
      "metadata": {
        "id": "d8be0cc9"
      },
      "source": [
        "El mejor resultado lo da con 7, nmenor complejidad y un nivel de 0.8, se ve positivo. "
      ],
      "id": "d8be0cc9"
    },
    {
      "cell_type": "markdown",
      "metadata": {
        "id": "24c00269"
      },
      "source": [
        "El mejor resultado me lo da con 12."
      ],
      "id": "24c00269"
    },
    {
      "cell_type": "markdown",
      "metadata": {
        "id": "5a0cd03a"
      },
      "source": [
        "Me parece un resultado muy alto. Veremos con el test. "
      ],
      "id": "5a0cd03a"
    },
    {
      "cell_type": "markdown",
      "metadata": {
        "id": "10d8379f"
      },
      "source": [
        "Parece que el precio es determinado, primero por la experiencia y las primeras evaluaciones, seguido por su ubicación y el número de camas. "
      ],
      "id": "10d8379f"
    },
    {
      "cell_type": "markdown",
      "metadata": {
        "id": "c57fda66"
      },
      "source": [
        "Los resultados parecen indicar, para mi sorpresa, que el \"Host\", resulta muy importante en la determinación del \"Precio\". Cosa que si se analiza con detalle, es lógica. \n",
        "\n",
        "También, el precio, se explica en buena medida con la ubicación (calle y Barrio), además de por el número de camas. \n",
        "\n",
        "Considero que de todos los modelos, el más prometedor "
      ],
      "id": "c57fda66"
    },
    {
      "cell_type": "code",
      "execution_count": null,
      "metadata": {
        "id": "2bc719cf"
      },
      "outputs": [],
      "source": [],
      "id": "2bc719cf"
    },
    {
      "cell_type": "code",
      "execution_count": null,
      "metadata": {
        "id": "8968d405"
      },
      "outputs": [],
      "source": [],
      "id": "8968d405"
    }
  ],
  "metadata": {
    "colab": {
      "provenance": [],
      "collapsed_sections": [
        "76b398ef",
        "269a4a0d",
        "a8f499ae",
        "2e92a846",
        "564cf5c3",
        "EoJfI8hzCttR",
        "V4sRTJNeFaOH",
        "1d281ef2",
        "4a28b576",
        "9ca88a7d",
        "0255e7f7",
        "6a1a3e3d",
        "e09fba41",
        "2cb0c738",
        "b08c31a5",
        "162b54b5",
        "04da8dc7",
        "21806b64",
        "2c63ee3a",
        "c709f1e8",
        "9d21f196",
        "7cbf10b5",
        "e4911e93",
        "38d85b98",
        "b3512e13",
        "92c1d535"
      ],
      "include_colab_link": true
    },
    "kernelspec": {
      "display_name": "venv",
      "language": "python",
      "name": "venv"
    },
    "language_info": {
      "codemirror_mode": {
        "name": "ipython",
        "version": 3
      },
      "file_extension": ".py",
      "mimetype": "text/x-python",
      "name": "python",
      "nbconvert_exporter": "python",
      "pygments_lexer": "ipython3",
      "version": "3.9.15"
    }
  },
  "nbformat": 4,
  "nbformat_minor": 5
}